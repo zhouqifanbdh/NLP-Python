{
 "cells": [
  {
   "cell_type": "code",
   "execution_count": 75,
   "metadata": {
    "collapsed": false
   },
   "outputs": [
    {
     "data": {
      "text/plain": [
       "'用1800首诗表白，用无人机求婚 南航学霸上演浪漫“求婚大作战”\\n\\n3月28号下午，一次求婚大作战在南京航空航天大学师生的朋友圈刷屏了。在朝夕相处的实验楼下，伴着好友老师的祝福和数百校友的助阵，南航自动化学院即将毕业的硕士研究生徐智成用无人机向相恋1896天的女友张瑶佳成功求婚，而徐智成坚持了5年的写诗表白在南航早已传为佳话。\\n\\n\\u3000\\u3000与君初相识，诗词抒情意\\n\\n刷屏的求婚故事男主角是南航自动化学院的徐智成，女主角则是自动化学院的博士生张瑶佳。徐智成告诉记者，本科同在一个班级的他们刚开始并不相熟，张瑶佳是班里的学霸，而他的学习却不出众。徐智成还记得，大一夏天，张瑶佳偶然在他写的诗下评论了几句，简单的几句却让他产生了共鸣，心里对张瑶佳默默生出了好感。“为了接近她，我常常找各种学习问题向她请教。我本来上课常坐教室后排的，为了追她从此只坐在教室前排，因为学习是她的追求，志同方能道合。”相知相守中，徐智成终于渐渐俘获了张瑶佳的芳心。\\n\\n大二放寒假的前一天，徐智成向张瑶佳表白了，“你喜欢读诗，以后在一起的每一天我都会为你写一首诗。”张瑶佳本以为这句话只是一时的浪漫，没想到竟坚持到现在，1800多天下来，他们之间已经保留下了1800多首小诗，这些小诗见证着他们的爱情一天天成长。\\n\\n\\u3000\\u3000爱在实验室，浪漫也未缺\\n\\n张瑶佳凭借优异的成绩获得了直博的资格，徐智成为了能赶上女友的脚步，多陪她几年，大三一年辛苦复习，终于考上了南航的研究生。研究生与博士生的恋爱，自然不能像普通情侣一样花前月下消磨时间。没有课后的电影，缺少周末的约会，他们有的只是实验室里的相互陪伴，可是张瑶佳却甘之如饴，“我的所有软件都是他给我装的，很多文献资料都是他给我找到和翻译的，笨重的工作台也都是他给我装好的。我们走在路上，吃饭时，都会一起讨论问题，对我来说这就是浪漫啊！”\\n\\n作为博士生，张瑶佳的科研任务要重一些，为了能让她更多时间花在科研上，徐智成承包了很多生活上的琐事，他说：“她有时候开会很晚或者我有事出去，我会提前买好饭给她带到实验室。每天都从博园接送到实验室，不论多早或多晚。放假的时候，都会去车站接送。”\\n\\n无人机求婚，用诗词表白\\n\\n为了在毕业前能实现求婚，徐智成从寒假就开始策划求婚计划，他查了很多求婚的例子，但都觉得很俗套。他想，他们是相识于南航，相爱于南航，成长于南航，求婚也一定要契合学校浓厚的航空航天氛围，他决定采用无人机求婚，正巧他自动化专业的同学正在研究无人机项目。最后，他决定结合南航的校园文化，使用同学亲自研制的无人机求婚，当然还有精心准备的求婚气球和诗词表白。\\n\\n写1800首诗求婚\\n\\n无人机带着钻戒求婚\\n\\n当他们到达求婚现场，张瑶佳看到学院楼前的求婚气球，在11位朋友念出的诗词表白中，流下了幸福的眼泪。而当无人机带着钻戒缓缓降落，心里更是感动不已：“这就是我想要的！”她告诉记者，由于自己心中一直有一个航空航天的梦想，所以报考了南航，男友使用无人机求婚非常打动她。\\n\\n下周徐智成就要正式入职了，为了能够陪在女友身边，他放弃了上海、杭州等城市大公司的offer，选择留在了南京。张瑶佳觉得有些可惜，但徐智成却无怨无悔，“或许放弃了一些，才会得到更多。”'"
      ]
     },
     "execution_count": 75,
     "metadata": {},
     "output_type": "execute_result"
    }
   ],
   "source": [
    "from snownlp import SnowNLP\n",
    "with open('D:/作业/NLP/chinese.txt') as f:\n",
    "    c = f.read()\n",
    "c"
   ]
  },
  {
   "cell_type": "code",
   "execution_count": 76,
   "metadata": {
    "collapsed": false
   },
   "outputs": [],
   "source": [
    "s = SnowNLP(c)"
   ]
  },
  {
   "cell_type": "code",
   "execution_count": 77,
   "metadata": {
    "collapsed": false
   },
   "outputs": [
    {
     "data": {
      "text/plain": [
       "<snownlp.SnowNLP at 0x23d88a2aef0>"
      ]
     },
     "execution_count": 77,
     "metadata": {},
     "output_type": "execute_result"
    }
   ],
   "source": [
    "s"
   ]
  },
  {
   "cell_type": "code",
   "execution_count": 78,
   "metadata": {
    "collapsed": false
   },
   "outputs": [
    {
     "data": {
      "text/plain": [
       "['用1800首诗表白，用无人机求婚 南航学霸上演浪漫“求婚大作战”',\n",
       " '',\n",
       " '3月28号下午，一次求婚大作战在南京航空航天大学师生的朋友圈刷屏了。在朝夕相处的实验楼下，伴着好友老师的祝福和数百校友的助阵，南航自动化学院即将毕业的硕士研究生徐智成用无人机向相恋1896天的女友张瑶佳成功求婚，而徐智成坚持了5年的写诗表白在南航早已传为佳话。',\n",
       " '',\n",
       " '\\u3000\\u3000与君初相识，诗词抒情意',\n",
       " '',\n",
       " '刷屏的求婚故事男主角是南航自动化学院的徐智成，女主角则是自动化学院的博士生张瑶佳。徐智成告诉记者，本科同在一个班级的他们刚开始并不相熟，张瑶佳是班里的学霸，而他的学习却不出众。徐智成还记得，大一夏天，张瑶佳偶然在他写的诗下评论了几句，简单的几句却让他产生了共鸣，心里对张瑶佳默默生出了好感。“为了接近她，我常常找各种学习问题向她请教。我本来上课常坐教室后排的，为了追她从此只坐在教室前排，因为学习是她的追求，志同方能道合。”相知相守中，徐智成终于渐渐俘获了张瑶佳的芳心。',\n",
       " '',\n",
       " '大二放寒假的前一天，徐智成向张瑶佳表白了，“你喜欢读诗，以后在一起的每一天我都会为你写一首诗。”张瑶佳本以为这句话只是一时的浪漫，没想到竟坚持到现在，1800多天下来，他们之间已经保留下了1800多首小诗，这些小诗见证着他们的爱情一天天成长。',\n",
       " '',\n",
       " '\\u3000\\u3000爱在实验室，浪漫也未缺',\n",
       " '',\n",
       " '张瑶佳凭借优异的成绩获得了直博的资格，徐智成为了能赶上女友的脚步，多陪她几年，大三一年辛苦复习，终于考上了南航的研究生。研究生与博士生的恋爱，自然不能像普通情侣一样花前月下消磨时间。没有课后的电影，缺少周末的约会，他们有的只是实验室里的相互陪伴，可是张瑶佳却甘之如饴，“我的所有软件都是他给我装的，很多文献资料都是他给我找到和翻译的，笨重的工作台也都是他给我装好的。我们走在路上，吃饭时，都会一起讨论问题，对我来说这就是浪漫啊！”',\n",
       " '',\n",
       " '作为博士生，张瑶佳的科研任务要重一些，为了能让她更多时间花在科研上，徐智成承包了很多生活上的琐事，他说：“她有时候开会很晚或者我有事出去，我会提前买好饭给她带到实验室。每天都从博园接送到实验室，不论多早或多晚。放假的时候，都会去车站接送。”',\n",
       " '',\n",
       " '无人机求婚，用诗词表白',\n",
       " '',\n",
       " '为了在毕业前能实现求婚，徐智成从寒假就开始策划求婚计划，他查了很多求婚的例子，但都觉得很俗套。他想，他们是相识于南航，相爱于南航，成长于南航，求婚也一定要契合学校浓厚的航空航天氛围，他决定采用无人机求婚，正巧他自动化专业的同学正在研究无人机项目。最后，他决定结合南航的校园文化，使用同学亲自研制的无人机求婚，当然还有精心准备的求婚气球和诗词表白。',\n",
       " '',\n",
       " '写1800首诗求婚',\n",
       " '',\n",
       " '无人机带着钻戒求婚',\n",
       " '',\n",
       " '当他们到达求婚现场，张瑶佳看到学院楼前的求婚气球，在11位朋友念出的诗词表白中，流下了幸福的眼泪。而当无人机带着钻戒缓缓降落，心里更是感动不已：“这就是我想要的！”她告诉记者，由于自己心中一直有一个航空航天的梦想，所以报考了南航，男友使用无人机求婚非常打动她。',\n",
       " '',\n",
       " '下周徐智成就要正式入职了，为了能够陪在女友身边，他放弃了上海、杭州等城市大公司的offer，选择留在了南京。张瑶佳觉得有些可惜，但徐智成却无怨无悔，“或许放弃了一些，才会得到更多。”']"
      ]
     },
     "execution_count": 78,
     "metadata": {},
     "output_type": "execute_result"
    }
   ],
   "source": [
    "paras = c.split('\\n')\n",
    "paras"
   ]
  },
  {
   "cell_type": "code",
   "execution_count": 81,
   "metadata": {
    "collapsed": false
   },
   "outputs": [
    {
     "data": {
      "text/plain": [
       "[['用1800首诗表白', '用无人机求婚 南航学霸上演浪漫“求婚大作战”'],\n",
       " ['3月28号下午',\n",
       "  '一次求婚大作战在南京航空航天大学师生的朋友圈刷屏了',\n",
       "  '在朝夕相处的实验楼下',\n",
       "  '伴着好友老师的祝福和数百校友的助阵',\n",
       "  '南航自动化学院即将毕业的硕士研究生徐智成用无人机向相恋1896天的女友张瑶佳成功求婚',\n",
       "  '而徐智成坚持了5年的写诗表白在南航早已传为佳话'],\n",
       " ['与君初相识', '诗词抒情意'],\n",
       " ['刷屏的求婚故事男主角是南航自动化学院的徐智成',\n",
       "  '女主角则是自动化学院的博士生张瑶佳',\n",
       "  '徐智成告诉记者',\n",
       "  '本科同在一个班级的他们刚开始并不相熟',\n",
       "  '张瑶佳是班里的学霸',\n",
       "  '而他的学习却不出众',\n",
       "  '徐智成还记得',\n",
       "  '大一夏天',\n",
       "  '张瑶佳偶然在他写的诗下评论了几句',\n",
       "  '简单的几句却让他产生了共鸣',\n",
       "  '心里对张瑶佳默默生出了好感',\n",
       "  '“为了接近她',\n",
       "  '我常常找各种学习问题向她请教',\n",
       "  '我本来上课常坐教室后排的',\n",
       "  '为了追她从此只坐在教室前排',\n",
       "  '因为学习是她的追求',\n",
       "  '志同方能道合',\n",
       "  '”相知相守中',\n",
       "  '徐智成终于渐渐俘获了张瑶佳的芳心'],\n",
       " ['大二放寒假的前一天',\n",
       "  '徐智成向张瑶佳表白了',\n",
       "  '“你喜欢读诗',\n",
       "  '以后在一起的每一天我都会为你写一首诗',\n",
       "  '”张瑶佳本以为这句话只是一时的浪漫',\n",
       "  '没想到竟坚持到现在',\n",
       "  '1800多天下来',\n",
       "  '他们之间已经保留下了1800多首小诗',\n",
       "  '这些小诗见证着他们的爱情一天天成长'],\n",
       " ['爱在实验室', '浪漫也未缺'],\n",
       " ['张瑶佳凭借优异的成绩获得了直博的资格',\n",
       "  '徐智成为了能赶上女友的脚步',\n",
       "  '多陪她几年',\n",
       "  '大三一年辛苦复习',\n",
       "  '终于考上了南航的研究生',\n",
       "  '研究生与博士生的恋爱',\n",
       "  '自然不能像普通情侣一样花前月下消磨时间',\n",
       "  '没有课后的电影',\n",
       "  '缺少周末的约会',\n",
       "  '他们有的只是实验室里的相互陪伴',\n",
       "  '可是张瑶佳却甘之如饴',\n",
       "  '“我的所有软件都是他给我装的',\n",
       "  '很多文献资料都是他给我找到和翻译的',\n",
       "  '笨重的工作台也都是他给我装好的',\n",
       "  '我们走在路上',\n",
       "  '吃饭时',\n",
       "  '都会一起讨论问题',\n",
       "  '对我来说这就是浪漫啊',\n",
       "  '”'],\n",
       " ['作为博士生',\n",
       "  '张瑶佳的科研任务要重一些',\n",
       "  '为了能让她更多时间花在科研上',\n",
       "  '徐智成承包了很多生活上的琐事',\n",
       "  '他说：“她有时候开会很晚或者我有事出去',\n",
       "  '我会提前买好饭给她带到实验室',\n",
       "  '每天都从博园接送到实验室',\n",
       "  '不论多早或多晚',\n",
       "  '放假的时候',\n",
       "  '都会去车站接送',\n",
       "  '”'],\n",
       " ['无人机求婚', '用诗词表白'],\n",
       " ['为了在毕业前能实现求婚',\n",
       "  '徐智成从寒假就开始策划求婚计划',\n",
       "  '他查了很多求婚的例子',\n",
       "  '但都觉得很俗套',\n",
       "  '他想',\n",
       "  '他们是相识于南航',\n",
       "  '相爱于南航',\n",
       "  '成长于南航',\n",
       "  '求婚也一定要契合学校浓厚的航空航天氛围',\n",
       "  '他决定采用无人机求婚',\n",
       "  '正巧他自动化专业的同学正在研究无人机项目',\n",
       "  '最后',\n",
       "  '他决定结合南航的校园文化',\n",
       "  '使用同学亲自研制的无人机求婚',\n",
       "  '当然还有精心准备的求婚气球和诗词表白'],\n",
       " ['写1800首诗求婚'],\n",
       " ['无人机带着钻戒求婚'],\n",
       " ['当他们到达求婚现场',\n",
       "  '张瑶佳看到学院楼前的求婚气球',\n",
       "  '在11位朋友念出的诗词表白中',\n",
       "  '流下了幸福的眼泪',\n",
       "  '而当无人机带着钻戒缓缓降落',\n",
       "  '心里更是感动不已：“这就是我想要的',\n",
       "  '”她告诉记者',\n",
       "  '由于自己心中一直有一个航空航天的梦想',\n",
       "  '所以报考了南航',\n",
       "  '男友使用无人机求婚非常打动她'],\n",
       " ['下周徐智成就要正式入职了',\n",
       "  '为了能够陪在女友身边',\n",
       "  '他放弃了上海、杭州等城市大公司的offer',\n",
       "  '选择留在了南京',\n",
       "  '张瑶佳觉得有些可惜',\n",
       "  '但徐智成却无怨无悔',\n",
       "  '“或许放弃了一些',\n",
       "  '才会得到更多',\n",
       "  '”']]"
      ]
     },
     "execution_count": 81,
     "metadata": {},
     "output_type": "execute_result"
    }
   ],
   "source": [
    "snows = [SnowNLP(para) for para in paras if not para.strip() == u'']\n",
    "sents = [ snow.sentences for snow in snows]\n",
    "sents\n"
   ]
  },
  {
   "cell_type": "code",
   "execution_count": 83,
   "metadata": {
    "collapsed": false
   },
   "outputs": [
    {
     "data": {
      "text/plain": [
       "['3月28号下午',\n",
       " '一次求婚大作战在南京航空航天大学师生的朋友圈刷屏了',\n",
       " '在朝夕相处的实验楼下',\n",
       " '伴着好友老师的祝福和数百校友的助阵',\n",
       " '南航自动化学院即将毕业的硕士研究生徐智成用无人机向相恋1896天的女友张瑶佳成功求婚',\n",
       " '而徐智成坚持了5年的写诗表白在南航早已传为佳话']"
      ]
     },
     "execution_count": 83,
     "metadata": {},
     "output_type": "execute_result"
    }
   ],
   "source": [
    "sents[0]\n",
    "sents[1]\n"
   ]
  },
  {
   "cell_type": "code",
   "execution_count": 84,
   "metadata": {
    "collapsed": false
   },
   "outputs": [
    {
     "data": {
      "text/plain": [
       "14"
      ]
     },
     "execution_count": 84,
     "metadata": {},
     "output_type": "execute_result"
    }
   ],
   "source": [
    "sents.__len__()"
   ]
  },
  {
   "cell_type": "code",
   "execution_count": 86,
   "metadata": {
    "collapsed": false
   },
   "outputs": [
    {
     "data": {
      "text/plain": [
       "['__class__',\n",
       " '__delattr__',\n",
       " '__dict__',\n",
       " '__dir__',\n",
       " '__doc__',\n",
       " '__eq__',\n",
       " '__format__',\n",
       " '__ge__',\n",
       " '__getattribute__',\n",
       " '__gt__',\n",
       " '__hash__',\n",
       " '__init__',\n",
       " '__init_subclass__',\n",
       " '__le__',\n",
       " '__lt__',\n",
       " '__module__',\n",
       " '__ne__',\n",
       " '__new__',\n",
       " '__reduce__',\n",
       " '__reduce_ex__',\n",
       " '__repr__',\n",
       " '__setattr__',\n",
       " '__sizeof__',\n",
       " '__str__',\n",
       " '__subclasshook__',\n",
       " '__weakref__',\n",
       " 'bm25',\n",
       " 'doc',\n",
       " 'han',\n",
       " 'idf',\n",
       " 'keywords',\n",
       " 'pinyin',\n",
       " 'sentences',\n",
       " 'sentiments',\n",
       " 'sim',\n",
       " 'summary',\n",
       " 'tags',\n",
       " 'tf',\n",
       " 'words']"
      ]
     },
     "execution_count": 86,
     "metadata": {},
     "output_type": "execute_result"
    }
   ],
   "source": [
    "snow = snows[0]\n",
    "dir(snow)"
   ]
  },
  {
   "cell_type": "code",
   "execution_count": 8,
   "metadata": {
    "collapsed": true
   },
   "outputs": [],
   "source": [
    "from numpy import *"
   ]
  },
  {
   "cell_type": "code",
   "execution_count": 10,
   "metadata": {
    "collapsed": true
   },
   "outputs": [],
   "source": [
    "import numpy as np"
   ]
  },
  {
   "cell_type": "code",
   "execution_count": 11,
   "metadata": {
    "collapsed": true
   },
   "outputs": [],
   "source": [
    "from numpy import array,sin"
   ]
  },
  {
   "cell_type": "code",
   "execution_count": 12,
   "metadata": {
    "collapsed": true
   },
   "outputs": [],
   "source": [
    "a = [1,2,3,4]"
   ]
  },
  {
   "cell_type": "code",
   "execution_count": 16,
   "metadata": {
    "collapsed": false
   },
   "outputs": [],
   "source": [
    "arr = array(a)"
   ]
  },
  {
   "cell_type": "code",
   "execution_count": 17,
   "metadata": {
    "collapsed": false
   },
   "outputs": [
    {
     "ename": "TypeError",
     "evalue": "can only concatenate list (not \"int\") to list",
     "output_type": "error",
     "traceback": [
      "\u001b[0;31m---------------------------------------------------------------------------\u001b[0m",
      "\u001b[0;31mTypeError\u001b[0m                                 Traceback (most recent call last)",
      "\u001b[0;32m<ipython-input-17-fdcaab9110f2>\u001b[0m in \u001b[0;36m<module>\u001b[0;34m()\u001b[0m\n\u001b[0;32m----> 1\u001b[0;31m \u001b[0ma\u001b[0m\u001b[1;33m+\u001b[0m\u001b[1;36m1\u001b[0m\u001b[1;33m\u001b[0m\u001b[0m\n\u001b[0m",
      "\u001b[0;31mTypeError\u001b[0m: can only concatenate list (not \"int\") to list"
     ]
    }
   ],
   "source": [
    "a+1"
   ]
  },
  {
   "cell_type": "code",
   "execution_count": 18,
   "metadata": {
    "collapsed": false
   },
   "outputs": [
    {
     "data": {
      "text/plain": [
       "array([2, 3, 4, 5])"
      ]
     },
     "execution_count": 18,
     "metadata": {},
     "output_type": "execute_result"
    }
   ],
   "source": [
    "arr+1"
   ]
  },
  {
   "cell_type": "code",
   "execution_count": 20,
   "metadata": {
    "collapsed": false
   },
   "outputs": [
    {
     "data": {
      "text/plain": [
       "array([ 7,  9, 11, 13])"
      ]
     },
     "execution_count": 20,
     "metadata": {},
     "output_type": "execute_result"
    }
   ],
   "source": [
    "arr1 = array([6,7,8,9])\n",
    "arr+arr1"
   ]
  },
  {
   "cell_type": "code",
   "execution_count": 22,
   "metadata": {
    "collapsed": false
   },
   "outputs": [
    {
     "data": {
      "text/plain": [
       "array([ 6, 14, 24, 36])"
      ]
     },
     "execution_count": 22,
     "metadata": {},
     "output_type": "execute_result"
    }
   ],
   "source": [
    "arr*arr1"
   ]
  },
  {
   "cell_type": "code",
   "execution_count": 24,
   "metadata": {
    "collapsed": false
   },
   "outputs": [
    {
     "data": {
      "text/plain": [
       "1"
      ]
     },
     "execution_count": 24,
     "metadata": {},
     "output_type": "execute_result"
    }
   ],
   "source": [
    "arr[0]"
   ]
  },
  {
   "cell_type": "code",
   "execution_count": 26,
   "metadata": {
    "collapsed": false
   },
   "outputs": [
    {
     "data": {
      "text/plain": [
       "array([1, 2])"
      ]
     },
     "execution_count": 26,
     "metadata": {},
     "output_type": "execute_result"
    }
   ],
   "source": [
    "arr[0:2]"
   ]
  },
  {
   "cell_type": "code",
   "execution_count": 28,
   "metadata": {
    "collapsed": false
   },
   "outputs": [
    {
     "data": {
      "text/plain": [
       "(4,)"
      ]
     },
     "execution_count": 28,
     "metadata": {},
     "output_type": "execute_result"
    }
   ],
   "source": [
    "arr.shape"
   ]
  },
  {
   "cell_type": "code",
   "execution_count": 29,
   "metadata": {
    "collapsed": true
   },
   "outputs": [],
   "source": [
    "arr.shape = 2,2"
   ]
  },
  {
   "cell_type": "code",
   "execution_count": 31,
   "metadata": {
    "collapsed": false
   },
   "outputs": [
    {
     "data": {
      "text/plain": [
       "array([[1, 2],\n",
       "       [3, 4]])"
      ]
     },
     "execution_count": 31,
     "metadata": {},
     "output_type": "execute_result"
    }
   ],
   "source": [
    "arr"
   ]
  },
  {
   "cell_type": "code",
   "execution_count": 32,
   "metadata": {
    "collapsed": true
   },
   "outputs": [],
   "source": [
    "import numpy as np"
   ]
  },
  {
   "cell_type": "code",
   "execution_count": 33,
   "metadata": {
    "collapsed": true
   },
   "outputs": [],
   "source": [
    "import matplotlib.pyplot as plt"
   ]
  },
  {
   "cell_type": "code",
   "execution_count": 35,
   "metadata": {
    "collapsed": false
   },
   "outputs": [
    {
     "data": {
      "text/plain": [
       "<function numpy.core.function_base.linspace>"
      ]
     },
     "execution_count": 35,
     "metadata": {},
     "output_type": "execute_result"
    }
   ],
   "source": [
    "linspace"
   ]
  },
  {
   "cell_type": "code",
   "execution_count": 37,
   "metadata": {
    "collapsed": false
   },
   "outputs": [
    {
     "name": "stdout",
     "output_type": "stream",
     "text": [
      "Help on function linspace in module numpy.core.function_base:\n",
      "\n",
      "linspace(start, stop, num=50, endpoint=True, retstep=False, dtype=None)\n",
      "    Return evenly spaced numbers over a specified interval.\n",
      "    \n",
      "    Returns `num` evenly spaced samples, calculated over the\n",
      "    interval [`start`, `stop`].\n",
      "    \n",
      "    The endpoint of the interval can optionally be excluded.\n",
      "    \n",
      "    Parameters\n",
      "    ----------\n",
      "    start : scalar\n",
      "        The starting value of the sequence.\n",
      "    stop : scalar\n",
      "        The end value of the sequence, unless `endpoint` is set to False.\n",
      "        In that case, the sequence consists of all but the last of ``num + 1``\n",
      "        evenly spaced samples, so that `stop` is excluded.  Note that the step\n",
      "        size changes when `endpoint` is False.\n",
      "    num : int, optional\n",
      "        Number of samples to generate. Default is 50. Must be non-negative.\n",
      "    endpoint : bool, optional\n",
      "        If True, `stop` is the last sample. Otherwise, it is not included.\n",
      "        Default is True.\n",
      "    retstep : bool, optional\n",
      "        If True, return (`samples`, `step`), where `step` is the spacing\n",
      "        between samples.\n",
      "    dtype : dtype, optional\n",
      "        The type of the output array.  If `dtype` is not given, infer the data\n",
      "        type from the other input arguments.\n",
      "    \n",
      "        .. versionadded:: 1.9.0\n",
      "    \n",
      "    Returns\n",
      "    -------\n",
      "    samples : ndarray\n",
      "        There are `num` equally spaced samples in the closed interval\n",
      "        ``[start, stop]`` or the half-open interval ``[start, stop)``\n",
      "        (depending on whether `endpoint` is True or False).\n",
      "    step : float\n",
      "        Only returned if `retstep` is True\n",
      "    \n",
      "        Size of spacing between samples.\n",
      "    \n",
      "    \n",
      "    See Also\n",
      "    --------\n",
      "    arange : Similar to `linspace`, but uses a step size (instead of the\n",
      "             number of samples).\n",
      "    logspace : Samples uniformly distributed in log space.\n",
      "    \n",
      "    Examples\n",
      "    --------\n",
      "    >>> np.linspace(2.0, 3.0, num=5)\n",
      "        array([ 2.  ,  2.25,  2.5 ,  2.75,  3.  ])\n",
      "    >>> np.linspace(2.0, 3.0, num=5, endpoint=False)\n",
      "        array([ 2. ,  2.2,  2.4,  2.6,  2.8])\n",
      "    >>> np.linspace(2.0, 3.0, num=5, retstep=True)\n",
      "        (array([ 2.  ,  2.25,  2.5 ,  2.75,  3.  ]), 0.25)\n",
      "    \n",
      "    Graphical illustration:\n",
      "    \n",
      "    >>> import matplotlib.pyplot as plt\n",
      "    >>> N = 8\n",
      "    >>> y = np.zeros(N)\n",
      "    >>> x1 = np.linspace(0, 10, N, endpoint=True)\n",
      "    >>> x2 = np.linspace(0, 10, N, endpoint=False)\n",
      "    >>> plt.plot(x1, y, 'o')\n",
      "    [<matplotlib.lines.Line2D object at 0x...>]\n",
      "    >>> plt.plot(x2, y + 0.5, 'o')\n",
      "    [<matplotlib.lines.Line2D object at 0x...>]\n",
      "    >>> plt.ylim([-0.5, 1])\n",
      "    (-0.5, 1)\n",
      "    >>> plt.show()\n",
      "\n"
     ]
    }
   ],
   "source": [
    "help(linspace)"
   ]
  },
  {
   "cell_type": "code",
   "execution_count": 38,
   "metadata": {
    "collapsed": false
   },
   "outputs": [
    {
     "data": {
      "text/plain": [
       "array([  1.,   2.,   3.,   4.,   5.,   6.,   7.,   8.,   9.,  10.])"
      ]
     },
     "execution_count": 38,
     "metadata": {},
     "output_type": "execute_result"
    }
   ],
   "source": [
    "linspace(1,10,10)"
   ]
  },
  {
   "cell_type": "code",
   "execution_count": 41,
   "metadata": {
    "collapsed": false
   },
   "outputs": [
    {
     "data": {
      "text/plain": [
       "array([  1.        ,   3.11111111,   5.22222222,   7.33333333,\n",
       "         9.44444444,  11.55555556,  13.66666667,  15.77777778,\n",
       "        17.88888889,  20.        ])"
      ]
     },
     "execution_count": 41,
     "metadata": {},
     "output_type": "execute_result"
    }
   ],
   "source": [
    "linspace(1,20,10)"
   ]
  },
  {
   "cell_type": "code",
   "execution_count": 43,
   "metadata": {
    "collapsed": false
   },
   "outputs": [
    {
     "data": {
      "text/plain": [
       "array([ 0.        ,  0.31415927,  0.62831853,  0.9424778 ,  1.25663706,\n",
       "        1.57079633,  1.88495559,  2.19911486,  2.51327412,  2.82743339,\n",
       "        3.14159265,  3.45575192,  3.76991118,  4.08407045,  4.39822972,\n",
       "        4.71238898,  5.02654825,  5.34070751,  5.65486678,  5.96902604,\n",
       "        6.28318531])"
      ]
     },
     "execution_count": 43,
     "metadata": {},
     "output_type": "execute_result"
    }
   ],
   "source": [
    "a = linspace(0,2*pi,21)\n",
    "a"
   ]
  },
  {
   "cell_type": "code",
   "execution_count": null,
   "metadata": {
    "collapsed": true
   },
   "outputs": [],
   "source": [
    "from numpy import sin"
   ]
  },
  {
   "cell_type": "code",
   "execution_count": 45,
   "metadata": {
    "collapsed": false
   },
   "outputs": [
    {
     "data": {
      "text/plain": [
       "array([  0.00000000e+00,   3.09016994e-01,   5.87785252e-01,\n",
       "         8.09016994e-01,   9.51056516e-01,   1.00000000e+00,\n",
       "         9.51056516e-01,   8.09016994e-01,   5.87785252e-01,\n",
       "         3.09016994e-01,   1.22464680e-16,  -3.09016994e-01,\n",
       "        -5.87785252e-01,  -8.09016994e-01,  -9.51056516e-01,\n",
       "        -1.00000000e+00,  -9.51056516e-01,  -8.09016994e-01,\n",
       "        -5.87785252e-01,  -3.09016994e-01,  -2.44929360e-16])"
      ]
     },
     "execution_count": 45,
     "metadata": {},
     "output_type": "execute_result"
    }
   ],
   "source": [
    "x = linspace(0,2*pi,21)\n",
    "y = sin(x)\n",
    "y"
   ]
  },
  {
   "cell_type": "code",
   "execution_count": 46,
   "metadata": {
    "collapsed": false
   },
   "outputs": [
    {
     "data": {
      "text/plain": [
       "[<matplotlib.lines.Line2D at 0x23d87e57a58>]"
      ]
     },
     "execution_count": 46,
     "metadata": {},
     "output_type": "execute_result"
    }
   ],
   "source": [
    "plt.plot(x,y)"
   ]
  },
  {
   "cell_type": "code",
   "execution_count": 47,
   "metadata": {
    "collapsed": false
   },
   "outputs": [
    {
     "data": {
      "image/png": "[encoded data removed]",
      "text/plain": [
       "<matplotlib.figure.Figure at 0x23d881ecac8>"
      ]
     },
     "metadata": {},
     "output_type": "display_data"
    }
   ],
   "source": [
    "plt.show()"
   ]
  },
  {
   "cell_type": "code",
   "execution_count": 49,
   "metadata": {
    "collapsed": false
   },
   "outputs": [
    {
     "data": {
      "image/png": "[encoded data removed]",
      "text/plain": [
       "<matplotlib.figure.Figure at 0x23d87e65cc0>"
      ]
     },
     "metadata": {},
     "output_type": "display_data"
    }
   ],
   "source": [
    "x = linspace(0,10*pi,105)\n",
    "y = cos(x)\n",
    "plt.plot(x,y)\n",
    "plt.show()"
   ]
  },
  {
   "cell_type": "code",
   "execution_count": 51,
   "metadata": {
    "collapsed": false
   },
   "outputs": [
    {
     "name": "stdout",
     "output_type": "stream",
     "text": [
      "Help on function plot in module matplotlib.pyplot:\n",
      "\n",
      "plot(*args, **kwargs)\n",
      "    Plot lines and/or markers to the\n",
      "    :class:`~matplotlib.axes.Axes`.  *args* is a variable length\n",
      "    argument, allowing for multiple *x*, *y* pairs with an\n",
      "    optional format string.  For example, each of the following is\n",
      "    legal::\n",
      "    \n",
      "        plot(x, y)        # plot x and y using default line style and color\n",
      "        plot(x, y, 'bo')  # plot x and y using blue circle markers\n",
      "        plot(y)           # plot y using x as index array 0..N-1\n",
      "        plot(y, 'r+')     # ditto, but with red plusses\n",
      "    \n",
      "    If *x* and/or *y* is 2-dimensional, then the corresponding columns\n",
      "    will be plotted.\n",
      "    \n",
      "    If used with labeled data, make sure that the color spec is not\n",
      "    included as an element in data, as otherwise the last case\n",
      "    ``plot(\"v\",\"r\", data={\"v\":..., \"r\":...)``\n",
      "    can be interpreted as the first case which would do ``plot(v, r)``\n",
      "    using the default line style and color.\n",
      "    \n",
      "    If not used with labeled data (i.e., without a data argument),\n",
      "    an arbitrary number of *x*, *y*, *fmt* groups can be specified, as in::\n",
      "    \n",
      "        a.plot(x1, y1, 'g^', x2, y2, 'g-')\n",
      "    \n",
      "    Return value is a list of lines that were added.\n",
      "    \n",
      "    By default, each line is assigned a different style specified by a\n",
      "    'style cycle'.  To change this behavior, you can edit the\n",
      "    axes.prop_cycle rcParam.\n",
      "    \n",
      "    The following format string characters are accepted to control\n",
      "    the line style or marker:\n",
      "    \n",
      "    ================    ===============================\n",
      "    character           description\n",
      "    ================    ===============================\n",
      "    ``'-'``             solid line style\n",
      "    ``'--'``            dashed line style\n",
      "    ``'-.'``            dash-dot line style\n",
      "    ``':'``             dotted line style\n",
      "    ``'.'``             point marker\n",
      "    ``','``             pixel marker\n",
      "    ``'o'``             circle marker\n",
      "    ``'v'``             triangle_down marker\n",
      "    ``'^'``             triangle_up marker\n",
      "    ``'<'``             triangle_left marker\n",
      "    ``'>'``             triangle_right marker\n",
      "    ``'1'``             tri_down marker\n",
      "    ``'2'``             tri_up marker\n",
      "    ``'3'``             tri_left marker\n",
      "    ``'4'``             tri_right marker\n",
      "    ``'s'``             square marker\n",
      "    ``'p'``             pentagon marker\n",
      "    ``'*'``             star marker\n",
      "    ``'h'``             hexagon1 marker\n",
      "    ``'H'``             hexagon2 marker\n",
      "    ``'+'``             plus marker\n",
      "    ``'x'``             x marker\n",
      "    ``'D'``             diamond marker\n",
      "    ``'d'``             thin_diamond marker\n",
      "    ``'|'``             vline marker\n",
      "    ``'_'``             hline marker\n",
      "    ================    ===============================\n",
      "    \n",
      "    \n",
      "    The following color abbreviations are supported:\n",
      "    \n",
      "    ==========  ========\n",
      "    character   color\n",
      "    ==========  ========\n",
      "    'b'         blue\n",
      "    'g'         green\n",
      "    'r'         red\n",
      "    'c'         cyan\n",
      "    'm'         magenta\n",
      "    'y'         yellow\n",
      "    'k'         black\n",
      "    'w'         white\n",
      "    ==========  ========\n",
      "    \n",
      "    In addition, you can specify colors in many weird and\n",
      "    wonderful ways, including full names (``'green'``), hex\n",
      "    strings (``'#008000'``), RGB or RGBA tuples (``(0,1,0,1)``) or\n",
      "    grayscale intensities as a string (``'0.8'``).  Of these, the\n",
      "    string specifications can be used in place of a ``fmt`` group,\n",
      "    but the tuple forms can be used only as ``kwargs``.\n",
      "    \n",
      "    Line styles and colors are combined in a single format string, as in\n",
      "    ``'bo'`` for blue circles.\n",
      "    \n",
      "    The *kwargs* can be used to set line properties (any property that has\n",
      "    a ``set_*`` method).  You can use this to set a line label (for auto\n",
      "    legends), linewidth, anitialising, marker face color, etc.  Here is an\n",
      "    example::\n",
      "    \n",
      "        plot([1,2,3], [1,2,3], 'go-', label='line 1', linewidth=2)\n",
      "        plot([1,2,3], [1,4,9], 'rs',  label='line 2')\n",
      "        axis([0, 4, 0, 10])\n",
      "        legend()\n",
      "    \n",
      "    If you make multiple lines with one plot command, the kwargs\n",
      "    apply to all those lines, e.g.::\n",
      "    \n",
      "        plot(x1, y1, x2, y2, antialiased=False)\n",
      "    \n",
      "    Neither line will be antialiased.\n",
      "    \n",
      "    You do not need to use format strings, which are just\n",
      "    abbreviations.  All of the line properties can be controlled\n",
      "    by keyword arguments.  For example, you can set the color,\n",
      "    marker, linestyle, and markercolor with::\n",
      "    \n",
      "        plot(x, y, color='green', linestyle='dashed', marker='o',\n",
      "             markerfacecolor='blue', markersize=12).\n",
      "    \n",
      "    See :class:`~matplotlib.lines.Line2D` for details.\n",
      "    \n",
      "    The kwargs are :class:`~matplotlib.lines.Line2D` properties:\n",
      "    \n",
      "      agg_filter: unknown\n",
      "      alpha: float (0.0 transparent through 1.0 opaque) \n",
      "      animated: [True | False] \n",
      "      antialiased or aa: [True | False] \n",
      "      axes: an :class:`~matplotlib.axes.Axes` instance \n",
      "      clip_box: a :class:`matplotlib.transforms.Bbox` instance \n",
      "      clip_on: [True | False] \n",
      "      clip_path: [ (:class:`~matplotlib.path.Path`, :class:`~matplotlib.transforms.Transform`) | :class:`~matplotlib.patches.Patch` | None ] \n",
      "      color or c: any matplotlib color \n",
      "      contains: a callable function \n",
      "      dash_capstyle: ['butt' | 'round' | 'projecting'] \n",
      "      dash_joinstyle: ['miter' | 'round' | 'bevel'] \n",
      "      dashes: sequence of on/off ink in points \n",
      "      drawstyle: ['default' | 'steps' | 'steps-pre' | 'steps-mid' | 'steps-post'] \n",
      "      figure: a :class:`matplotlib.figure.Figure` instance \n",
      "      fillstyle: ['full' | 'left' | 'right' | 'bottom' | 'top' | 'none'] \n",
      "      gid: an id string \n",
      "      label: string or anything printable with '%s' conversion. \n",
      "      linestyle or ls: ['solid' | 'dashed', 'dashdot', 'dotted' | (offset, on-off-dash-seq) | ``'-'`` | ``'--'`` | ``'-.'`` | ``':'`` | ``'None'`` | ``' '`` | ``''``]\n",
      "      linewidth or lw: float value in points \n",
      "      marker: :mod:`A valid marker style <matplotlib.markers>`\n",
      "      markeredgecolor or mec: any matplotlib color \n",
      "      markeredgewidth or mew: float value in points \n",
      "      markerfacecolor or mfc: any matplotlib color \n",
      "      markerfacecoloralt or mfcalt: any matplotlib color \n",
      "      markersize or ms: float \n",
      "      markevery: [None | int | length-2 tuple of int | slice | list/array of int | float | length-2 tuple of float]\n",
      "      path_effects: unknown\n",
      "      picker: float distance in points or callable pick function ``fn(artist, event)`` \n",
      "      pickradius: float distance in points \n",
      "      rasterized: [True | False | None] \n",
      "      sketch_params: unknown\n",
      "      snap: unknown\n",
      "      solid_capstyle: ['butt' | 'round' |  'projecting'] \n",
      "      solid_joinstyle: ['miter' | 'round' | 'bevel'] \n",
      "      transform: a :class:`matplotlib.transforms.Transform` instance \n",
      "      url: a url string \n",
      "      visible: [True | False] \n",
      "      xdata: 1D array \n",
      "      ydata: 1D array \n",
      "      zorder: any number \n",
      "    \n",
      "    kwargs *scalex* and *scaley*, if defined, are passed on to\n",
      "    :meth:`~matplotlib.axes.Axes.autoscale_view` to determine\n",
      "    whether the *x* and *y* axes are autoscaled; the default is\n",
      "    *True*.\n",
      "    \n",
      "    .. note::\n",
      "        In addition to the above described arguments, this function can take a\n",
      "        **data** keyword argument. If such a **data** argument is given, the\n",
      "        following arguments are replaced by **data[<arg>]**:\n",
      "    \n",
      "        * All arguments with the following names: 'x', 'y'.\n",
      "\n"
     ]
    }
   ],
   "source": [
    "help(plt.plot)"
   ]
  },
  {
   "cell_type": "code",
   "execution_count": 52,
   "metadata": {
    "collapsed": false
   },
   "outputs": [
    {
     "data": {
      "image/png": "[encoded data removed]",
      "text/plain": [
       "<matplotlib.figure.Figure at 0x23d88353978>"
      ]
     },
     "metadata": {},
     "output_type": "display_data"
    }
   ],
   "source": [
    "plt.plot(x,y,'bo')\n",
    "plt.show()"
   ]
  },
  {
   "cell_type": "code",
   "execution_count": 60,
   "metadata": {
    "collapsed": false
   },
   "outputs": [
    {
     "data": {
      "image/png": "[encoded data removed]",
      "text/plain": [
       "<matplotlib.figure.Figure at 0x23d88543240>"
      ]
     },
     "metadata": {},
     "output_type": "display_data"
    }
   ],
   "source": [
    "plt.plot(y, 'ro')\n",
    "plt.show()"
   ]
  },
  {
   "cell_type": "code",
   "execution_count": 61,
   "metadata": {
    "collapsed": false
   },
   "outputs": [
    {
     "data": {
      "image/png": "[encoded data removed]",
      "text/plain": [
       "<matplotlib.figure.Figure at 0x23d8864aba8>"
      ]
     },
     "metadata": {},
     "output_type": "display_data"
    }
   ],
   "source": [
    "plt.plot(y, 'y*')\n",
    "plt.show()"
   ]
  },
  {
   "cell_type": "code",
   "execution_count": 66,
   "metadata": {
    "collapsed": false
   },
   "outputs": [],
   "source": [
    "from numpy import *\n",
    "x = random.rand(200)"
   ]
  },
  {
   "cell_type": "code",
   "execution_count": 67,
   "metadata": {
    "collapsed": false
   },
   "outputs": [
    {
     "data": {
      "text/plain": [
       "array([ 0.02742683,  0.46807902,  0.29083354,  0.55449132,  0.99450035,\n",
       "        0.92509321,  0.13424823,  0.44766987,  0.70030139,  0.58092716,\n",
       "        0.38499748,  0.66294613,  0.25469855,  0.23183362,  0.93407045,\n",
       "        0.75775642,  0.84572808,  0.27299234,  0.05636595,  0.47847613,\n",
       "        0.75342187,  0.99060376,  0.33495778,  0.58802229,  0.700344  ,\n",
       "        0.27943706,  0.24680048,  0.24156877,  0.17964226,  0.66586617,\n",
       "        0.11158124,  0.00784446,  0.72319599,  0.30678587,  0.44541835,\n",
       "        0.24666484,  0.13034131,  0.27012308,  0.34297498,  0.3476342 ,\n",
       "        0.49462571,  0.46723861,  0.66245535,  0.74513622,  0.69279272,\n",
       "        0.57784307,  0.07643945,  0.81803662,  0.01347415,  0.30701342,\n",
       "        0.6535955 ,  0.79499923,  0.62649408,  0.70251571,  0.67165624,\n",
       "        0.73726015,  0.22107606,  0.34857256,  0.80715401,  0.83270946,\n",
       "        0.75421822,  0.91884292,  0.04624629,  0.83589918,  0.88479073,\n",
       "        0.84636166,  0.40402941,  0.73492732,  0.68533655,  0.69255418,\n",
       "        0.01060118,  0.8285446 ,  0.47772807,  0.94220217,  0.45240358,\n",
       "        0.18122314,  0.3095565 ,  0.93284642,  0.19470653,  0.03169771,\n",
       "        0.5704858 ,  0.09387264,  0.39481022,  0.51441359,  0.26408927,\n",
       "        0.72016254,  0.1338868 ,  0.57721809,  0.11297877,  0.32344487,\n",
       "        0.29630077,  0.2932959 ,  0.73839155,  0.18590126,  0.32478727,\n",
       "        0.69292857,  0.33489813,  0.44181517,  0.70364849,  0.6971689 ,\n",
       "        0.50438093,  0.71074579,  0.95928172,  0.88286289,  0.29609008,\n",
       "        0.49579495,  0.53294407,  0.04420228,  0.74281108,  0.49883078,\n",
       "        0.03866789,  0.65379466,  0.25937402,  0.49749912,  0.25022044,\n",
       "        0.77479972,  0.61812221,  0.82984305,  0.77335737,  0.44022198,\n",
       "        0.66485212,  0.47428029,  0.61973781,  0.31729881,  0.5354854 ,\n",
       "        0.73283291,  0.83354722,  0.68680394,  0.07469101,  0.97456544,\n",
       "        0.64193848,  0.73109248,  0.63428799,  0.93218481,  0.70709612,\n",
       "        0.97666442,  0.18219739,  0.33261822,  0.89555609,  0.43910123,\n",
       "        0.50502862,  0.03793215,  0.89275717,  0.17321209,  0.9650921 ,\n",
       "        0.58262659,  0.55913882,  0.87948281,  0.51171442,  0.11265185,\n",
       "        0.65925872,  0.16229076,  0.97564294,  0.81775992,  0.71805252,\n",
       "        0.05824906,  0.62758506,  0.85504064,  0.70996426,  0.01905998,\n",
       "        0.09989209,  0.00851699,  0.04127594,  0.4344824 ,  0.47777291,\n",
       "        0.25786204,  0.02643914,  0.53677407,  0.40091817,  0.51274759,\n",
       "        0.4663628 ,  0.97721053,  0.7458176 ,  0.72742891,  0.96960778,\n",
       "        0.72340931,  0.33597987,  0.76378556,  0.00236616,  0.1150109 ,\n",
       "        0.57558111,  0.26053678,  0.01025679,  0.61561745,  0.05956451,\n",
       "        0.86234124,  0.13139185,  0.12779913,  0.72552066,  0.74750797,\n",
       "        0.24536351,  0.42056781,  0.49913033,  0.87543885,  0.264326  ,\n",
       "        0.06950954,  0.080813  ,  0.5242689 ,  0.24452151,  0.69571361])"
      ]
     },
     "execution_count": 67,
     "metadata": {},
     "output_type": "execute_result"
    }
   ],
   "source": [
    "x"
   ]
  },
  {
   "cell_type": "code",
   "execution_count": 68,
   "metadata": {
    "collapsed": false
   },
   "outputs": [
    {
     "data": {
      "text/plain": [
       "array([ 0.7053413 ,  0.55461183,  0.91436671,  0.88626535,  0.28785571,\n",
       "        0.76466472,  0.39500343,  0.33347013,  0.73711419,  0.62496174,\n",
       "        0.10956671,  0.69666876,  0.93948355,  0.27654562,  0.41299403,\n",
       "        0.62562894,  0.0930517 ,  0.85936638,  0.16577375,  0.90135227,\n",
       "        0.99920631,  0.63825473,  0.95843118,  0.67584054,  0.47099502,\n",
       "        0.06622992,  0.0385536 ,  0.47243626,  0.03011625,  0.68382207,\n",
       "        0.02835883,  0.90714058,  0.57404964,  0.57241565,  0.29339095,\n",
       "        0.97044613,  0.60348556,  0.03932474,  0.44789545,  0.20337325,\n",
       "        0.32860461,  0.35912367,  0.09755803,  0.08323313,  0.55607617,\n",
       "        0.41712089,  0.75709039,  0.45871218,  0.38306201,  0.96530811,\n",
       "        0.38866458,  0.22613719,  0.53008138,  0.17756465,  0.55738537,\n",
       "        0.96240754,  0.72292381,  0.21436533,  0.38498517,  0.7409573 ,\n",
       "        0.5181486 ,  0.36003465,  0.4290791 ,  0.86554172,  0.40929125,\n",
       "        0.89806066,  0.20253772,  0.46605964,  0.15754029,  0.44926023,\n",
       "        0.28611929,  0.38007687,  0.97724633,  0.38466978,  0.30206838,\n",
       "        0.20044083,  0.1442812 ,  0.93175798,  0.33342699,  0.08741787,\n",
       "        0.62694179,  0.47010102,  0.09320852,  0.27065726,  0.18786378,\n",
       "        0.42790287,  0.34553497,  0.37328283,  0.2928796 ,  0.91120318,\n",
       "        0.0600691 ,  0.23855596,  0.28113462,  0.92247742,  0.87709745,\n",
       "        0.10166636,  0.52612289,  0.76514126,  0.03896535,  0.02154591,\n",
       "        0.20125404,  0.25749742,  0.53995942,  0.29882185,  0.55950646,\n",
       "        0.69781792,  0.45726957,  0.53807734,  0.10137814,  0.9140232 ,\n",
       "        0.63526102,  0.65450706,  0.88672388,  0.04607715,  0.91204832,\n",
       "        0.83962628,  0.68591423,  0.60554347,  0.75672378,  0.96281514,\n",
       "        0.07638105,  0.97964651,  0.91063818,  0.6867285 ,  0.05224603,\n",
       "        0.09960833,  0.96697789,  0.37914461,  0.47022163,  0.80664509,\n",
       "        0.94199278,  0.00368833,  0.34661782,  0.30111818,  0.84842924,\n",
       "        0.25891033,  0.32160967,  0.56741107,  0.83291139,  0.83987613,\n",
       "        0.97636474,  0.30257851,  0.10596136,  0.58951888,  0.70113214,\n",
       "        0.31470919,  0.12898129,  0.32347312,  0.76281922,  0.62544608,\n",
       "        0.88467126,  0.41934807,  0.26433616,  0.63781244,  0.89280359,\n",
       "        0.38507113,  0.32611031,  0.70365516,  0.65663781,  0.89868462,\n",
       "        0.58438365,  0.83068946,  0.0557001 ,  0.08077961,  0.77648183,\n",
       "        0.50553198,  0.21497062,  0.94062991,  0.59672063,  0.9530903 ,\n",
       "        0.96997786,  0.96352697,  0.62734573,  0.82054249,  0.46493816,\n",
       "        0.69181197,  0.73645963,  0.18715302,  0.43963584,  0.57680853,\n",
       "        0.22269539,  0.82824018,  0.84754925,  0.46818415,  0.46632297,\n",
       "        0.71717624,  0.2715161 ,  0.94382351,  0.14776851,  0.18853248,\n",
       "        0.09346914,  0.86237505,  0.86099682,  0.1197248 ,  0.33221881,\n",
       "        0.60105131,  0.27833383,  0.53389702,  0.97842193,  0.57034347])"
      ]
     },
     "execution_count": 68,
     "metadata": {},
     "output_type": "execute_result"
    }
   ],
   "source": [
    "y = random.rand(200)\n",
    "y"
   ]
  },
  {
   "cell_type": "code",
   "execution_count": 70,
   "metadata": {
    "collapsed": false
   },
   "outputs": [
    {
     "data": {
      "image/png": "[encoded data removed]",
      "text/plain": [
       "<matplotlib.figure.Figure at 0x23d8862e9b0>"
      ]
     },
     "metadata": {},
     "output_type": "display_data"
    }
   ],
   "source": [
    "size = random.rand(200)*30\n",
    "color = random.rand(200)\n",
    "plt.scatter(x,y,size,color)\n",
    "plt.colorbar()\n",
    "plt.show()"
   ]
  },
  {
   "cell_type": "code",
   "execution_count": null,
   "metadata": {
    "collapsed": true
   },
   "outputs": [],
   "source": []
  },
  {
   "cell_type": "code",
   "execution_count": null,
   "metadata": {
    "collapsed": true
   },
   "outputs": [],
   "source": []
  }
 ],
 "metadata": {
  "kernelspec": {
   "display_name": "Python 3",
   "language": "python",
   "name": "python3"
  },
  "language_info": {
   "codemirror_mode": {
    "name": "ipython",
    "version": 3
   },
   "file_extension": ".py",
   "mimetype": "text/x-python",
   "name": "python",
   "nbconvert_exporter": "python",
   "pygments_lexer": "ipython3",
   "version": "3.6.0"
  }
 },
 "nbformat": 4,
 "nbformat_minor": 2
}
