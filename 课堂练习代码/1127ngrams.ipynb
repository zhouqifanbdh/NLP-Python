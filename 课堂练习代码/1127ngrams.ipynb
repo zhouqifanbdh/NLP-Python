{
 "cells": [
  {
   "cell_type": "code",
   "execution_count": 1,
   "metadata": {
    "collapsed": true
   },
   "outputs": [],
   "source": [
    "from nltk.util import ngrams"
   ]
  },
  {
   "cell_type": "code",
   "execution_count": 2,
   "metadata": {
    "collapsed": true
   },
   "outputs": [],
   "source": [
    "a = '''During his visit, Xi will exchange views with Spanish leaders so as to further develop the China-Spain comprehensive strategic partnership, promote the docking of the development strategies in the framework of China's Belt and Road Initiative, and strengthen bilateral cooperation in various fields, Chinese Ambassador to Spain Lyu Fan told media.'''"
   ]
  },
  {
   "cell_type": "code",
   "execution_count": 3,
   "metadata": {
    "collapsed": true
   },
   "outputs": [],
   "source": [
    "alst = a.split(' ')"
   ]
  },
  {
   "cell_type": "code",
   "execution_count": 4,
   "metadata": {
    "collapsed": false
   },
   "outputs": [
    {
     "data": {
      "text/plain": [
       "['During',\n",
       " 'his',\n",
       " 'visit,',\n",
       " 'Xi',\n",
       " 'will',\n",
       " 'exchange',\n",
       " 'views',\n",
       " 'with',\n",
       " 'Spanish',\n",
       " 'leaders',\n",
       " 'so',\n",
       " 'as',\n",
       " 'to',\n",
       " 'further',\n",
       " 'develop',\n",
       " 'the',\n",
       " 'China-Spain',\n",
       " 'comprehensive',\n",
       " 'strategic',\n",
       " 'partnership,',\n",
       " 'promote',\n",
       " 'the',\n",
       " 'docking',\n",
       " 'of',\n",
       " 'the',\n",
       " 'development',\n",
       " 'strategies',\n",
       " 'in',\n",
       " 'the',\n",
       " 'framework',\n",
       " 'of',\n",
       " \"China's\",\n",
       " 'Belt',\n",
       " 'and',\n",
       " 'Road',\n",
       " 'Initiative,',\n",
       " 'and',\n",
       " 'strengthen',\n",
       " 'bilateral',\n",
       " 'cooperation',\n",
       " 'in',\n",
       " 'various',\n",
       " 'fields,',\n",
       " 'Chinese',\n",
       " 'Ambassador',\n",
       " 'to',\n",
       " 'Spain',\n",
       " 'Lyu',\n",
       " 'Fan',\n",
       " 'told',\n",
       " 'media.']"
      ]
     },
     "execution_count": 4,
     "metadata": {},
     "output_type": "execute_result"
    }
   ],
   "source": [
    "alst"
   ]
  },
  {
   "cell_type": "code",
   "execution_count": 5,
   "metadata": {
    "collapsed": true
   },
   "outputs": [],
   "source": [
    "from nltk import word_tokenize"
   ]
  },
  {
   "cell_type": "code",
   "execution_count": 6,
   "metadata": {
    "collapsed": true
   },
   "outputs": [],
   "source": [
    "wlst = word_tokenize(a)"
   ]
  },
  {
   "cell_type": "code",
   "execution_count": 7,
   "metadata": {
    "collapsed": false
   },
   "outputs": [
    {
     "data": {
      "text/plain": [
       "['During',\n",
       " 'his',\n",
       " 'visit',\n",
       " ',',\n",
       " 'Xi',\n",
       " 'will',\n",
       " 'exchange',\n",
       " 'views',\n",
       " 'with',\n",
       " 'Spanish',\n",
       " 'leaders',\n",
       " 'so',\n",
       " 'as',\n",
       " 'to',\n",
       " 'further',\n",
       " 'develop',\n",
       " 'the',\n",
       " 'China-Spain',\n",
       " 'comprehensive',\n",
       " 'strategic',\n",
       " 'partnership',\n",
       " ',',\n",
       " 'promote',\n",
       " 'the',\n",
       " 'docking',\n",
       " 'of',\n",
       " 'the',\n",
       " 'development',\n",
       " 'strategies',\n",
       " 'in',\n",
       " 'the',\n",
       " 'framework',\n",
       " 'of',\n",
       " 'China',\n",
       " \"'s\",\n",
       " 'Belt',\n",
       " 'and',\n",
       " 'Road',\n",
       " 'Initiative',\n",
       " ',',\n",
       " 'and',\n",
       " 'strengthen',\n",
       " 'bilateral',\n",
       " 'cooperation',\n",
       " 'in',\n",
       " 'various',\n",
       " 'fields',\n",
       " ',',\n",
       " 'Chinese',\n",
       " 'Ambassador',\n",
       " 'to',\n",
       " 'Spain',\n",
       " 'Lyu',\n",
       " 'Fan',\n",
       " 'told',\n",
       " 'media',\n",
       " '.']"
      ]
     },
     "execution_count": 7,
     "metadata": {},
     "output_type": "execute_result"
    }
   ],
   "source": [
    "wlst"
   ]
  },
  {
   "cell_type": "code",
   "execution_count": 8,
   "metadata": {
    "collapsed": true
   },
   "outputs": [],
   "source": [
    "b = ngrams(wlst, 2)"
   ]
  },
  {
   "cell_type": "code",
   "execution_count": 9,
   "metadata": {
    "collapsed": false
   },
   "outputs": [
    {
     "data": {
      "text/plain": [
       "<generator object ngrams at 0x000001C3489A7A98>"
      ]
     },
     "execution_count": 9,
     "metadata": {},
     "output_type": "execute_result"
    }
   ],
   "source": [
    "b"
   ]
  },
  {
   "cell_type": "code",
   "execution_count": 10,
   "metadata": {
    "collapsed": false
   },
   "outputs": [
    {
     "name": "stdout",
     "output_type": "stream",
     "text": [
      "<generator object ngrams at 0x000001C3489A7A98>\n",
      "<generator object ngrams at 0x000001C3489A7A98>\n",
      "<generator object ngrams at 0x000001C3489A7A98>\n",
      "<generator object ngrams at 0x000001C3489A7A98>\n",
      "<generator object ngrams at 0x000001C3489A7A98>\n",
      "<generator object ngrams at 0x000001C3489A7A98>\n",
      "<generator object ngrams at 0x000001C3489A7A98>\n",
      "<generator object ngrams at 0x000001C3489A7A98>\n",
      "<generator object ngrams at 0x000001C3489A7A98>\n",
      "<generator object ngrams at 0x000001C3489A7A98>\n",
      "<generator object ngrams at 0x000001C3489A7A98>\n",
      "<generator object ngrams at 0x000001C3489A7A98>\n",
      "<generator object ngrams at 0x000001C3489A7A98>\n",
      "<generator object ngrams at 0x000001C3489A7A98>\n",
      "<generator object ngrams at 0x000001C3489A7A98>\n",
      "<generator object ngrams at 0x000001C3489A7A98>\n",
      "<generator object ngrams at 0x000001C3489A7A98>\n",
      "<generator object ngrams at 0x000001C3489A7A98>\n",
      "<generator object ngrams at 0x000001C3489A7A98>\n",
      "<generator object ngrams at 0x000001C3489A7A98>\n",
      "<generator object ngrams at 0x000001C3489A7A98>\n",
      "<generator object ngrams at 0x000001C3489A7A98>\n",
      "<generator object ngrams at 0x000001C3489A7A98>\n",
      "<generator object ngrams at 0x000001C3489A7A98>\n",
      "<generator object ngrams at 0x000001C3489A7A98>\n",
      "<generator object ngrams at 0x000001C3489A7A98>\n",
      "<generator object ngrams at 0x000001C3489A7A98>\n",
      "<generator object ngrams at 0x000001C3489A7A98>\n",
      "<generator object ngrams at 0x000001C3489A7A98>\n",
      "<generator object ngrams at 0x000001C3489A7A98>\n",
      "<generator object ngrams at 0x000001C3489A7A98>\n",
      "<generator object ngrams at 0x000001C3489A7A98>\n",
      "<generator object ngrams at 0x000001C3489A7A98>\n",
      "<generator object ngrams at 0x000001C3489A7A98>\n",
      "<generator object ngrams at 0x000001C3489A7A98>\n",
      "<generator object ngrams at 0x000001C3489A7A98>\n",
      "<generator object ngrams at 0x000001C3489A7A98>\n",
      "<generator object ngrams at 0x000001C3489A7A98>\n",
      "<generator object ngrams at 0x000001C3489A7A98>\n",
      "<generator object ngrams at 0x000001C3489A7A98>\n",
      "<generator object ngrams at 0x000001C3489A7A98>\n",
      "<generator object ngrams at 0x000001C3489A7A98>\n",
      "<generator object ngrams at 0x000001C3489A7A98>\n",
      "<generator object ngrams at 0x000001C3489A7A98>\n",
      "<generator object ngrams at 0x000001C3489A7A98>\n",
      "<generator object ngrams at 0x000001C3489A7A98>\n",
      "<generator object ngrams at 0x000001C3489A7A98>\n",
      "<generator object ngrams at 0x000001C3489A7A98>\n",
      "<generator object ngrams at 0x000001C3489A7A98>\n",
      "<generator object ngrams at 0x000001C3489A7A98>\n",
      "<generator object ngrams at 0x000001C3489A7A98>\n",
      "<generator object ngrams at 0x000001C3489A7A98>\n",
      "<generator object ngrams at 0x000001C3489A7A98>\n",
      "<generator object ngrams at 0x000001C3489A7A98>\n",
      "<generator object ngrams at 0x000001C3489A7A98>\n",
      "<generator object ngrams at 0x000001C3489A7A98>\n"
     ]
    }
   ],
   "source": [
    "for i in b: print(b)"
   ]
  },
  {
   "cell_type": "code",
   "execution_count": 11,
   "metadata": {
    "collapsed": true
   },
   "outputs": [],
   "source": [
    "for i in b:\n",
    "    print(b)"
   ]
  },
  {
   "cell_type": "code",
   "execution_count": 12,
   "metadata": {
    "collapsed": true
   },
   "outputs": [],
   "source": [
    "b = ngrams(wlst, 2)"
   ]
  },
  {
   "cell_type": "code",
   "execution_count": 13,
   "metadata": {
    "collapsed": false
   },
   "outputs": [
    {
     "name": "stdout",
     "output_type": "stream",
     "text": [
      "<generator object ngrams at 0x000001C3489A7BA0>\n",
      "<generator object ngrams at 0x000001C3489A7BA0>\n",
      "<generator object ngrams at 0x000001C3489A7BA0>\n",
      "<generator object ngrams at 0x000001C3489A7BA0>\n",
      "<generator object ngrams at 0x000001C3489A7BA0>\n",
      "<generator object ngrams at 0x000001C3489A7BA0>\n",
      "<generator object ngrams at 0x000001C3489A7BA0>\n",
      "<generator object ngrams at 0x000001C3489A7BA0>\n",
      "<generator object ngrams at 0x000001C3489A7BA0>\n",
      "<generator object ngrams at 0x000001C3489A7BA0>\n",
      "<generator object ngrams at 0x000001C3489A7BA0>\n",
      "<generator object ngrams at 0x000001C3489A7BA0>\n",
      "<generator object ngrams at 0x000001C3489A7BA0>\n",
      "<generator object ngrams at 0x000001C3489A7BA0>\n",
      "<generator object ngrams at 0x000001C3489A7BA0>\n",
      "<generator object ngrams at 0x000001C3489A7BA0>\n",
      "<generator object ngrams at 0x000001C3489A7BA0>\n",
      "<generator object ngrams at 0x000001C3489A7BA0>\n",
      "<generator object ngrams at 0x000001C3489A7BA0>\n",
      "<generator object ngrams at 0x000001C3489A7BA0>\n",
      "<generator object ngrams at 0x000001C3489A7BA0>\n",
      "<generator object ngrams at 0x000001C3489A7BA0>\n",
      "<generator object ngrams at 0x000001C3489A7BA0>\n",
      "<generator object ngrams at 0x000001C3489A7BA0>\n",
      "<generator object ngrams at 0x000001C3489A7BA0>\n",
      "<generator object ngrams at 0x000001C3489A7BA0>\n",
      "<generator object ngrams at 0x000001C3489A7BA0>\n",
      "<generator object ngrams at 0x000001C3489A7BA0>\n",
      "<generator object ngrams at 0x000001C3489A7BA0>\n",
      "<generator object ngrams at 0x000001C3489A7BA0>\n",
      "<generator object ngrams at 0x000001C3489A7BA0>\n",
      "<generator object ngrams at 0x000001C3489A7BA0>\n",
      "<generator object ngrams at 0x000001C3489A7BA0>\n",
      "<generator object ngrams at 0x000001C3489A7BA0>\n",
      "<generator object ngrams at 0x000001C3489A7BA0>\n",
      "<generator object ngrams at 0x000001C3489A7BA0>\n",
      "<generator object ngrams at 0x000001C3489A7BA0>\n",
      "<generator object ngrams at 0x000001C3489A7BA0>\n",
      "<generator object ngrams at 0x000001C3489A7BA0>\n",
      "<generator object ngrams at 0x000001C3489A7BA0>\n",
      "<generator object ngrams at 0x000001C3489A7BA0>\n",
      "<generator object ngrams at 0x000001C3489A7BA0>\n",
      "<generator object ngrams at 0x000001C3489A7BA0>\n",
      "<generator object ngrams at 0x000001C3489A7BA0>\n",
      "<generator object ngrams at 0x000001C3489A7BA0>\n",
      "<generator object ngrams at 0x000001C3489A7BA0>\n",
      "<generator object ngrams at 0x000001C3489A7BA0>\n",
      "<generator object ngrams at 0x000001C3489A7BA0>\n",
      "<generator object ngrams at 0x000001C3489A7BA0>\n",
      "<generator object ngrams at 0x000001C3489A7BA0>\n",
      "<generator object ngrams at 0x000001C3489A7BA0>\n",
      "<generator object ngrams at 0x000001C3489A7BA0>\n",
      "<generator object ngrams at 0x000001C3489A7BA0>\n",
      "<generator object ngrams at 0x000001C3489A7BA0>\n",
      "<generator object ngrams at 0x000001C3489A7BA0>\n",
      "<generator object ngrams at 0x000001C3489A7BA0>\n"
     ]
    }
   ],
   "source": [
    "for i in b:\n",
    "    print(b)"
   ]
  },
  {
   "cell_type": "code",
   "execution_count": 14,
   "metadata": {
    "collapsed": true
   },
   "outputs": [],
   "source": [
    "b = ngrams(wlst, 2)"
   ]
  },
  {
   "cell_type": "code",
   "execution_count": 15,
   "metadata": {
    "collapsed": true
   },
   "outputs": [],
   "source": [
    "bgrams = [i for i in b]"
   ]
  },
  {
   "cell_type": "code",
   "execution_count": 16,
   "metadata": {
    "collapsed": false
   },
   "outputs": [
    {
     "data": {
      "text/plain": [
       "[('During', 'his'),\n",
       " ('his', 'visit'),\n",
       " ('visit', ','),\n",
       " (',', 'Xi'),\n",
       " ('Xi', 'will'),\n",
       " ('will', 'exchange'),\n",
       " ('exchange', 'views'),\n",
       " ('views', 'with'),\n",
       " ('with', 'Spanish'),\n",
       " ('Spanish', 'leaders'),\n",
       " ('leaders', 'so'),\n",
       " ('so', 'as'),\n",
       " ('as', 'to'),\n",
       " ('to', 'further'),\n",
       " ('further', 'develop'),\n",
       " ('develop', 'the'),\n",
       " ('the', 'China-Spain'),\n",
       " ('China-Spain', 'comprehensive'),\n",
       " ('comprehensive', 'strategic'),\n",
       " ('strategic', 'partnership'),\n",
       " ('partnership', ','),\n",
       " (',', 'promote'),\n",
       " ('promote', 'the'),\n",
       " ('the', 'docking'),\n",
       " ('docking', 'of'),\n",
       " ('of', 'the'),\n",
       " ('the', 'development'),\n",
       " ('development', 'strategies'),\n",
       " ('strategies', 'in'),\n",
       " ('in', 'the'),\n",
       " ('the', 'framework'),\n",
       " ('framework', 'of'),\n",
       " ('of', 'China'),\n",
       " ('China', \"'s\"),\n",
       " (\"'s\", 'Belt'),\n",
       " ('Belt', 'and'),\n",
       " ('and', 'Road'),\n",
       " ('Road', 'Initiative'),\n",
       " ('Initiative', ','),\n",
       " (',', 'and'),\n",
       " ('and', 'strengthen'),\n",
       " ('strengthen', 'bilateral'),\n",
       " ('bilateral', 'cooperation'),\n",
       " ('cooperation', 'in'),\n",
       " ('in', 'various'),\n",
       " ('various', 'fields'),\n",
       " ('fields', ','),\n",
       " (',', 'Chinese'),\n",
       " ('Chinese', 'Ambassador'),\n",
       " ('Ambassador', 'to'),\n",
       " ('to', 'Spain'),\n",
       " ('Spain', 'Lyu'),\n",
       " ('Lyu', 'Fan'),\n",
       " ('Fan', 'told'),\n",
       " ('told', 'media'),\n",
       " ('media', '.')]"
      ]
     },
     "execution_count": 16,
     "metadata": {},
     "output_type": "execute_result"
    }
   ],
   "source": [
    "bgrams"
   ]
  },
  {
   "cell_type": "code",
   "execution_count": 17,
   "metadata": {
    "collapsed": true
   },
   "outputs": [],
   "source": [
    "t = ngrams(wlst, 3)"
   ]
  },
  {
   "cell_type": "code",
   "execution_count": 18,
   "metadata": {
    "collapsed": true
   },
   "outputs": [],
   "source": [
    "trigrams = [i for i in t]"
   ]
  },
  {
   "cell_type": "code",
   "execution_count": 19,
   "metadata": {
    "collapsed": false
   },
   "outputs": [
    {
     "name": "stdout",
     "output_type": "stream",
     "text": [
      "[('During', 'his', 'visit'), ('his', 'visit', ','), ('visit', ',', 'Xi'), (',', 'Xi', 'will'), ('Xi', 'will', 'exchange'), ('will', 'exchange', 'views'), ('exchange', 'views', 'with'), ('views', 'with', 'Spanish'), ('with', 'Spanish', 'leaders'), ('Spanish', 'leaders', 'so'), ('leaders', 'so', 'as'), ('so', 'as', 'to'), ('as', 'to', 'further'), ('to', 'further', 'develop'), ('further', 'develop', 'the'), ('develop', 'the', 'China-Spain'), ('the', 'China-Spain', 'comprehensive'), ('China-Spain', 'comprehensive', 'strategic'), ('comprehensive', 'strategic', 'partnership'), ('strategic', 'partnership', ','), ('partnership', ',', 'promote'), (',', 'promote', 'the'), ('promote', 'the', 'docking'), ('the', 'docking', 'of'), ('docking', 'of', 'the'), ('of', 'the', 'development'), ('the', 'development', 'strategies'), ('development', 'strategies', 'in'), ('strategies', 'in', 'the'), ('in', 'the', 'framework'), ('the', 'framework', 'of'), ('framework', 'of', 'China'), ('of', 'China', \"'s\"), ('China', \"'s\", 'Belt'), (\"'s\", 'Belt', 'and'), ('Belt', 'and', 'Road'), ('and', 'Road', 'Initiative'), ('Road', 'Initiative', ','), ('Initiative', ',', 'and'), (',', 'and', 'strengthen'), ('and', 'strengthen', 'bilateral'), ('strengthen', 'bilateral', 'cooperation'), ('bilateral', 'cooperation', 'in'), ('cooperation', 'in', 'various'), ('in', 'various', 'fields'), ('various', 'fields', ','), ('fields', ',', 'Chinese'), (',', 'Chinese', 'Ambassador'), ('Chinese', 'Ambassador', 'to'), ('Ambassador', 'to', 'Spain'), ('to', 'Spain', 'Lyu'), ('Spain', 'Lyu', 'Fan'), ('Lyu', 'Fan', 'told'), ('Fan', 'told', 'media'), ('told', 'media', '.')]\n"
     ]
    }
   ],
   "source": [
    "print(trigrams)"
   ]
  },
  {
   "cell_type": "code",
   "execution_count": 20,
   "metadata": {
    "collapsed": false
   },
   "outputs": [
    {
     "data": {
      "text/plain": [
       "('During', 'his', 'visit')"
      ]
     },
     "execution_count": 20,
     "metadata": {},
     "output_type": "execute_result"
    }
   ],
   "source": [
    "trigrams[0]"
   ]
  },
  {
   "cell_type": "code",
   "execution_count": null,
   "metadata": {
    "collapsed": true
   },
   "outputs": [],
   "source": []
  }
 ],
 "metadata": {
  "kernelspec": {
   "display_name": "Python 3",
   "language": "python",
   "name": "python3"
  },
  "language_info": {
   "codemirror_mode": {
    "name": "ipython",
    "version": 3
   },
   "file_extension": ".py",
   "mimetype": "text/x-python",
   "name": "python",
   "nbconvert_exporter": "python",
   "pygments_lexer": "ipython3",
   "version": "3.6.0"
  }
 },
 "nbformat": 4,
 "nbformat_minor": 2
}
