{
 "cells": [
  {
   "cell_type": "code",
   "execution_count": 17,
   "metadata": {
    "collapsed": true
   },
   "outputs": [],
   "source": [
    "from nltk.corpus import PlaintextCorpusReader\n",
    "from nltk import word_tokenize\n",
    "from nltk import Text\n",
    "from nltk import FreqDist"
   ]
  },
  {
   "cell_type": "code",
   "execution_count": 18,
   "metadata": {
    "collapsed": false
   },
   "outputs": [
    {
     "data": {
      "text/plain": [
       "['1.txt', '2.txt', '3.txt', '4.txt', '5.txt']"
      ]
     },
     "execution_count": 18,
     "metadata": {},
     "output_type": "execute_result"
    }
   ],
   "source": [
    "corpus_root = 'D:/作业/NLP/corpara'\n",
    "files = PlaintextCorpusReader(corpus_root,'.*\\.txt')\n",
    "files.fileids()"
   ]
  },
  {
   "cell_type": "code",
   "execution_count": 19,
   "metadata": {
    "collapsed": false
   },
   "outputs": [],
   "source": [
    "words = word_tokenize(files.raw(fileids = files.fileids()))"
   ]
  },
  {
   "cell_type": "code",
   "execution_count": 20,
   "metadata": {
    "collapsed": false
   },
   "outputs": [
    {
     "data": {
      "text/plain": [
       "['The',\n",
       " 'next',\n",
       " 'financial',\n",
       " 'crisis',\n",
       " 'may',\n",
       " 'be',\n",
       " 'triggered',\n",
       " 'by',\n",
       " 'central',\n",
       " 'banks',\n",
       " '.',\n",
       " 'As',\n",
       " 'with',\n",
       " 'London',\n",
       " 'buses',\n",
       " ',',\n",
       " 'don’t',\n",
       " 'worry',\n",
       " 'if',\n",
       " 'you',\n",
       " 'miss',\n",
       " 'a',\n",
       " 'financial',\n",
       " 'crisis',\n",
       " ';',\n",
       " 'another',\n",
       " 'will',\n",
       " 'be',\n",
       " 'along',\n",
       " 'shortly',\n",
       " '.',\n",
       " 'The',\n",
       " 'latest',\n",
       " 'study',\n",
       " 'on',\n",
       " 'long-term',\n",
       " 'asset',\n",
       " 'returns',\n",
       " 'from',\n",
       " 'Deutsche',\n",
       " 'Bank',\n",
       " 'shows',\n",
       " 'that',\n",
       " 'crises',\n",
       " 'in',\n",
       " 'developed',\n",
       " 'markets',\n",
       " 'have',\n",
       " 'become',\n",
       " 'much',\n",
       " 'more',\n",
       " 'common',\n",
       " 'in',\n",
       " 'recent',\n",
       " 'decades',\n",
       " '.',\n",
       " 'That',\n",
       " 'does',\n",
       " 'not',\n",
       " 'bode',\n",
       " 'well',\n",
       " '.',\n",
       " 'Deutsche',\n",
       " 'defines',\n",
       " 'a',\n",
       " 'crisis',\n",
       " 'as',\n",
       " 'a',\n",
       " 'period',\n",
       " 'when',\n",
       " 'a',\n",
       " 'country',\n",
       " 'suffers',\n",
       " 'one',\n",
       " 'of',\n",
       " 'the',\n",
       " 'following',\n",
       " ':',\n",
       " 'a',\n",
       " '15',\n",
       " '%',\n",
       " 'annual',\n",
       " 'decline',\n",
       " 'in',\n",
       " 'equities',\n",
       " ';',\n",
       " 'a',\n",
       " '10',\n",
       " '%',\n",
       " 'fall',\n",
       " 'in',\n",
       " 'its',\n",
       " 'currency',\n",
       " 'or',\n",
       " 'its',\n",
       " 'government',\n",
       " 'bonds',\n",
       " ';',\n",
       " 'a',\n",
       " 'default',\n",
       " 'on',\n",
       " 'its',\n",
       " 'national',\n",
       " 'debt',\n",
       " ';',\n",
       " 'or',\n",
       " 'a',\n",
       " 'period',\n",
       " 'of',\n",
       " 'double-digit',\n",
       " 'inflation',\n",
       " '.',\n",
       " 'During',\n",
       " 'the',\n",
       " '19th',\n",
       " 'century',\n",
       " ',',\n",
       " 'only',\n",
       " 'occasionally',\n",
       " 'did',\n",
       " 'more',\n",
       " 'than',\n",
       " 'half',\n",
       " 'of',\n",
       " 'countries',\n",
       " 'for',\n",
       " 'which',\n",
       " 'there',\n",
       " 'are',\n",
       " 'data',\n",
       " 'suffer',\n",
       " 'such',\n",
       " 'a',\n",
       " 'shock',\n",
       " 'in',\n",
       " 'a',\n",
       " 'single',\n",
       " 'year',\n",
       " '.',\n",
       " 'But',\n",
       " 'since',\n",
       " 'the',\n",
       " '1980s',\n",
       " ',',\n",
       " 'in',\n",
       " 'numerous',\n",
       " 'years',\n",
       " 'more',\n",
       " 'than',\n",
       " 'half',\n",
       " 'of',\n",
       " 'them',\n",
       " 'have',\n",
       " 'been',\n",
       " 'in',\n",
       " 'a',\n",
       " 'financial',\n",
       " 'crisis',\n",
       " 'of',\n",
       " 'some',\n",
       " 'kind',\n",
       " '.',\n",
       " 'The',\n",
       " 'main',\n",
       " 'reason',\n",
       " 'for',\n",
       " 'this',\n",
       " ',',\n",
       " 'argues',\n",
       " 'Deutsche',\n",
       " ',',\n",
       " 'is',\n",
       " 'the',\n",
       " 'monetary',\n",
       " 'system',\n",
       " '.',\n",
       " 'Under',\n",
       " 'the',\n",
       " 'gold',\n",
       " 'standard',\n",
       " 'and',\n",
       " 'its',\n",
       " 'successor',\n",
       " ',',\n",
       " 'the',\n",
       " 'Bretton',\n",
       " 'Woods',\n",
       " 'system',\n",
       " 'of',\n",
       " 'fixed',\n",
       " 'exchange',\n",
       " 'rates',\n",
       " ',',\n",
       " 'the',\n",
       " 'amount',\n",
       " 'of',\n",
       " 'credit',\n",
       " 'creation',\n",
       " 'was',\n",
       " 'limited',\n",
       " '.',\n",
       " 'A',\n",
       " 'country',\n",
       " 'that',\n",
       " 'expanded',\n",
       " 'its',\n",
       " 'money',\n",
       " 'supply',\n",
       " 'too',\n",
       " 'quickly',\n",
       " 'would',\n",
       " 'suffer',\n",
       " 'a',\n",
       " 'trade',\n",
       " 'deficit',\n",
       " 'and',\n",
       " 'pressure',\n",
       " 'on',\n",
       " 'its',\n",
       " 'currency’s',\n",
       " 'exchange',\n",
       " 'rate',\n",
       " ';',\n",
       " 'the',\n",
       " 'government',\n",
       " 'would',\n",
       " 'react',\n",
       " 'by',\n",
       " 'slamming',\n",
       " 'on',\n",
       " 'the',\n",
       " 'monetary',\n",
       " 'brakes',\n",
       " '.',\n",
       " 'The',\n",
       " 'result',\n",
       " 'was',\n",
       " 'that',\n",
       " 'it',\n",
       " 'was',\n",
       " 'harder',\n",
       " 'for',\n",
       " 'financial',\n",
       " 'bubbles',\n",
       " 'to',\n",
       " 'inflate',\n",
       " '.',\n",
       " 'But',\n",
       " 'since',\n",
       " 'the',\n",
       " 'early',\n",
       " '1970s',\n",
       " 'more',\n",
       " 'countries',\n",
       " 'have',\n",
       " 'moved',\n",
       " 'to',\n",
       " 'a',\n",
       " 'floating',\n",
       " 'exchange-rate',\n",
       " 'system',\n",
       " '.',\n",
       " 'This',\n",
       " 'gives',\n",
       " 'governments',\n",
       " 'the',\n",
       " 'flexibility',\n",
       " 'to',\n",
       " 'deal',\n",
       " 'with',\n",
       " 'an',\n",
       " 'economic',\n",
       " 'crisis',\n",
       " ',',\n",
       " 'and',\n",
       " 'means',\n",
       " 'they',\n",
       " 'do',\n",
       " 'not',\n",
       " 'have',\n",
       " 'to',\n",
       " 'subordinate',\n",
       " 'other',\n",
       " 'policy',\n",
       " 'goals',\n",
       " 'to',\n",
       " 'maintaining',\n",
       " 'a',\n",
       " 'currency',\n",
       " 'peg',\n",
       " '.',\n",
       " 'It',\n",
       " 'has',\n",
       " 'also',\n",
       " 'created',\n",
       " 'a',\n",
       " 'trend',\n",
       " 'towards',\n",
       " 'greater',\n",
       " 'trade',\n",
       " 'imbalances',\n",
       " ',',\n",
       " 'which',\n",
       " 'no',\n",
       " 'longer',\n",
       " 'constrain',\n",
       " 'policymakers—the',\n",
       " 'currency',\n",
       " 'is',\n",
       " 'often',\n",
       " 'allowed',\n",
       " 'to',\n",
       " 'take',\n",
       " 'the',\n",
       " 'strain',\n",
       " '.',\n",
       " 'Similarly',\n",
       " ',',\n",
       " 'government',\n",
       " 'debt',\n",
       " 'has',\n",
       " 'risen',\n",
       " 'steadily',\n",
       " 'as',\n",
       " 'a',\n",
       " 'proportion',\n",
       " 'of',\n",
       " 'GDP',\n",
       " 'since',\n",
       " 'the',\n",
       " 'mid-1970s',\n",
       " '.',\n",
       " 'There',\n",
       " 'has',\n",
       " 'been',\n",
       " 'little',\n",
       " 'pressure',\n",
       " 'from',\n",
       " 'the',\n",
       " 'markets',\n",
       " 'to',\n",
       " 'balance',\n",
       " 'the',\n",
       " 'budget',\n",
       " ';',\n",
       " 'Japan',\n",
       " 'has',\n",
       " 'had',\n",
       " 'a',\n",
       " 'deficit',\n",
       " 'every',\n",
       " 'year',\n",
       " 'since',\n",
       " '1966',\n",
       " ',',\n",
       " 'and',\n",
       " 'France',\n",
       " 'since',\n",
       " '1993',\n",
       " '.',\n",
       " 'Italy',\n",
       " 'has',\n",
       " 'managed',\n",
       " 'just',\n",
       " 'one',\n",
       " 'year',\n",
       " 'of',\n",
       " 'surplus',\n",
       " 'since',\n",
       " '1950',\n",
       " '.',\n",
       " 'In',\n",
       " 'the',\n",
       " 'developed',\n",
       " 'world',\n",
       " ',',\n",
       " 'consumers',\n",
       " 'and',\n",
       " 'companies',\n",
       " 'have',\n",
       " 'also',\n",
       " 'taken',\n",
       " 'on',\n",
       " 'more',\n",
       " 'debt',\n",
       " '.',\n",
       " 'The',\n",
       " 'result',\n",
       " 'has',\n",
       " 'been',\n",
       " 'a',\n",
       " 'cycle',\n",
       " 'of',\n",
       " 'credit',\n",
       " 'expansion',\n",
       " 'and',\n",
       " 'collapse.China',\n",
       " 'has',\n",
       " 'warned',\n",
       " 'that',\n",
       " 'it',\n",
       " 'does',\n",
       " 'not',\n",
       " 'want',\n",
       " 'a',\n",
       " 'trade',\n",
       " 'war',\n",
       " 'with',\n",
       " 'the',\n",
       " 'US',\n",
       " ',',\n",
       " 'but',\n",
       " 'will',\n",
       " 'not',\n",
       " 'sit',\n",
       " 'idly',\n",
       " 'by',\n",
       " 'if',\n",
       " 'its',\n",
       " 'economy',\n",
       " 'is',\n",
       " 'hurt',\n",
       " '.',\n",
       " 'Zhang',\n",
       " 'Yesui',\n",
       " ',',\n",
       " 'spokesperson',\n",
       " 'for',\n",
       " 'China’s',\n",
       " 'National',\n",
       " 'People’s',\n",
       " 'Congress',\n",
       " ',',\n",
       " 'made',\n",
       " 'the',\n",
       " 'comments',\n",
       " 'amid',\n",
       " 'controversy',\n",
       " 'over',\n",
       " 'Donald',\n",
       " 'Trump’s',\n",
       " 'announcement',\n",
       " 'of',\n",
       " 'tariffs',\n",
       " 'on',\n",
       " 'steel',\n",
       " 'and',\n",
       " 'aluminium',\n",
       " 'imports',\n",
       " '.',\n",
       " 'The',\n",
       " 'US',\n",
       " 'president',\n",
       " 'has',\n",
       " 'also',\n",
       " 'threatened',\n",
       " 'to',\n",
       " 'impose',\n",
       " 'a',\n",
       " 'tax',\n",
       " 'on',\n",
       " 'EU-made',\n",
       " 'cars',\n",
       " ',',\n",
       " 'and',\n",
       " 'earlier',\n",
       " 'said',\n",
       " '``',\n",
       " 'trade',\n",
       " 'wars',\n",
       " 'are',\n",
       " 'good',\n",
       " \"''\",\n",
       " '.',\n",
       " 'US',\n",
       " 'trading',\n",
       " 'partners',\n",
       " ',',\n",
       " 'the',\n",
       " 'IMF',\n",
       " 'and',\n",
       " 'the',\n",
       " 'WTO',\n",
       " 'have',\n",
       " 'strongly',\n",
       " 'criticised',\n",
       " 'his',\n",
       " 'moves',\n",
       " '.',\n",
       " 'Mr',\n",
       " 'Trump',\n",
       " 'has',\n",
       " 'decried',\n",
       " 'the',\n",
       " '``',\n",
       " '$',\n",
       " '800',\n",
       " 'Billion',\n",
       " 'Dollar',\n",
       " 'Yearly',\n",
       " 'Trade',\n",
       " 'Deficit',\n",
       " 'because',\n",
       " 'of',\n",
       " 'our',\n",
       " '’very',\n",
       " 'stupid’',\n",
       " 'trade',\n",
       " 'deals',\n",
       " 'and',\n",
       " 'policies',\n",
       " \"''\",\n",
       " ',',\n",
       " 'and',\n",
       " 'vowed',\n",
       " 'to',\n",
       " 'end',\n",
       " 'it',\n",
       " '.',\n",
       " 'On',\n",
       " 'Thursday',\n",
       " ',',\n",
       " 'he',\n",
       " 'said',\n",
       " 'steel',\n",
       " 'imports',\n",
       " 'would',\n",
       " 'face',\n",
       " 'a',\n",
       " '25',\n",
       " '%',\n",
       " 'tariff',\n",
       " 'and',\n",
       " 'aluminium',\n",
       " '10',\n",
       " '%',\n",
       " '.',\n",
       " 'Then',\n",
       " 'came',\n",
       " 'Saturday’s',\n",
       " 'threat',\n",
       " 'on',\n",
       " 'EU-made',\n",
       " 'cars',\n",
       " '.',\n",
       " 'In',\n",
       " 'January',\n",
       " ',',\n",
       " 'he',\n",
       " 'had',\n",
       " 'already',\n",
       " 'announced',\n",
       " 'tariffs',\n",
       " 'on',\n",
       " 'solar',\n",
       " 'panels',\n",
       " 'and',\n",
       " 'washing',\n",
       " 'machines',\n",
       " '.',\n",
       " 'China’s',\n",
       " 'Zhang',\n",
       " 'Yesui',\n",
       " 'said',\n",
       " 'it',\n",
       " 'was',\n",
       " 'natural',\n",
       " 'that',\n",
       " '``',\n",
       " 'some',\n",
       " 'friction',\n",
       " 'will',\n",
       " 'exist',\n",
       " \"''\",\n",
       " 'between',\n",
       " 'the',\n",
       " 'US',\n",
       " 'and',\n",
       " 'China',\n",
       " ',',\n",
       " 'given',\n",
       " 'the',\n",
       " 'volume',\n",
       " 'of',\n",
       " 'trade',\n",
       " 'between',\n",
       " 'them',\n",
       " 'surpassed',\n",
       " '580bn',\n",
       " 'last',\n",
       " 'year',\n",
       " '.',\n",
       " 'But',\n",
       " 'he',\n",
       " 'said',\n",
       " 'China',\n",
       " 'would',\n",
       " 'take',\n",
       " '``',\n",
       " 'necessary',\n",
       " 'measures',\n",
       " \"''\",\n",
       " 'if',\n",
       " 'its',\n",
       " 'interests',\n",
       " 'were',\n",
       " 'hurt.The',\n",
       " 'US',\n",
       " 'economic',\n",
       " 'expansion',\n",
       " 'is',\n",
       " 'set',\n",
       " 'to',\n",
       " 'gain',\n",
       " 'momentum',\n",
       " ',',\n",
       " 'hardening',\n",
       " 'the',\n",
       " 'arguments',\n",
       " 'for',\n",
       " 'increases',\n",
       " 'in',\n",
       " 'short-term',\n",
       " 'interest',\n",
       " 'rates',\n",
       " ',',\n",
       " 'Federal',\n",
       " 'Reserve',\n",
       " 'policymakers',\n",
       " 'said',\n",
       " 'at',\n",
       " 'their',\n",
       " 'latest',\n",
       " 'meeting',\n",
       " '.',\n",
       " 'A',\n",
       " 'number',\n",
       " 'of',\n",
       " 'participants',\n",
       " 'in',\n",
       " 'the',\n",
       " 'US',\n",
       " 'central',\n",
       " 'bank’s',\n",
       " 'January',\n",
       " '30-31',\n",
       " 'meeting',\n",
       " 'said',\n",
       " 'they',\n",
       " 'had',\n",
       " 'marked',\n",
       " 'up',\n",
       " 'their',\n",
       " 'growth',\n",
       " 'forecasts',\n",
       " 'since',\n",
       " 'the',\n",
       " 'previous',\n",
       " 'month',\n",
       " ',',\n",
       " 'encouraged',\n",
       " 'by',\n",
       " 'firm',\n",
       " 'global',\n",
       " 'growth',\n",
       " ',',\n",
       " 'supportive',\n",
       " 'financial',\n",
       " 'markets',\n",
       " 'and',\n",
       " 'the',\n",
       " 'potential',\n",
       " 'for',\n",
       " 'US',\n",
       " 'tax',\n",
       " 'cuts',\n",
       " 'to',\n",
       " 'boost',\n",
       " 'the',\n",
       " 'economy',\n",
       " 'more',\n",
       " 'than',\n",
       " 'expected',\n",
       " '.',\n",
       " 'Others',\n",
       " 'said',\n",
       " 'the',\n",
       " '“upside',\n",
       " 'risks”',\n",
       " 'to',\n",
       " 'growth',\n",
       " 'may',\n",
       " 'have',\n",
       " 'increased',\n",
       " ',',\n",
       " 'according',\n",
       " 'to',\n",
       " 'minutes',\n",
       " 'of',\n",
       " 'the',\n",
       " 'gathering',\n",
       " '.',\n",
       " '“A',\n",
       " 'majority',\n",
       " 'of',\n",
       " 'participants',\n",
       " 'noted',\n",
       " 'that',\n",
       " 'a',\n",
       " 'stronger',\n",
       " 'outlook',\n",
       " 'for',\n",
       " 'economic',\n",
       " 'growth',\n",
       " 'raised',\n",
       " 'the',\n",
       " 'likelihood',\n",
       " 'that',\n",
       " 'further',\n",
       " 'gradual',\n",
       " 'policy',\n",
       " 'firming',\n",
       " 'would',\n",
       " 'be',\n",
       " 'appropriate',\n",
       " ',',\n",
       " '”',\n",
       " 'according',\n",
       " 'to',\n",
       " 'the',\n",
       " 'record',\n",
       " 'released',\n",
       " 'on',\n",
       " 'Wednesday',\n",
       " '.',\n",
       " 'The',\n",
       " 'Fed’s',\n",
       " 'rate-setters',\n",
       " 'reflected',\n",
       " 'the',\n",
       " 'increased',\n",
       " 'arguments',\n",
       " 'for',\n",
       " 'rate',\n",
       " 'rises',\n",
       " 'by',\n",
       " 'changing',\n",
       " 'the',\n",
       " 'language',\n",
       " 'in',\n",
       " 'their',\n",
       " 'post-meeting',\n",
       " 'statement',\n",
       " 'to',\n",
       " 'point',\n",
       " 'to',\n",
       " '“further”',\n",
       " 'rate',\n",
       " 'rises',\n",
       " '.',\n",
       " 'The',\n",
       " 'Fed’s',\n",
       " 'most',\n",
       " 'recent',\n",
       " 'policy',\n",
       " 'meeting',\n",
       " 'was',\n",
       " 'held',\n",
       " 'shortly',\n",
       " 'before',\n",
       " 'the',\n",
       " 'departure',\n",
       " 'of',\n",
       " 'Janet',\n",
       " 'Yellen',\n",
       " 'as',\n",
       " 'chair',\n",
       " 'and',\n",
       " 'the',\n",
       " 'outbreak',\n",
       " 'of',\n",
       " 'market',\n",
       " 'volatility',\n",
       " 'that',\n",
       " 'greeted',\n",
       " 'Jay',\n",
       " 'Powell',\n",
       " ',',\n",
       " 'her',\n",
       " 'successor',\n",
       " ',',\n",
       " 'during',\n",
       " 'his',\n",
       " 'first',\n",
       " 'days',\n",
       " 'on',\n",
       " 'the',\n",
       " 'job',\n",
       " '.',\n",
       " 'Policymakers',\n",
       " 'including',\n",
       " 'Bill',\n",
       " 'Dudley',\n",
       " ',',\n",
       " 'the',\n",
       " 'New',\n",
       " 'York',\n",
       " 'Fed',\n",
       " 'president',\n",
       " ',',\n",
       " 'have',\n",
       " 'stressed',\n",
       " 'that',\n",
       " 'the',\n",
       " 'gyrations',\n",
       " 'in',\n",
       " 'the',\n",
       " 'equity',\n",
       " 'market',\n",
       " 'were',\n",
       " 'unlikely',\n",
       " 'to',\n",
       " 'shake',\n",
       " 'the',\n",
       " 'central',\n",
       " 'bank’s',\n",
       " 'plans',\n",
       " 'to',\n",
       " 'continue',\n",
       " 'its',\n",
       " 'gradual',\n",
       " 'programme',\n",
       " 'of',\n",
       " 'rate',\n",
       " 'rises',\n",
       " '.',\n",
       " 'While',\n",
       " 'January’s',\n",
       " 'deliberations',\n",
       " 'predated',\n",
       " 'the',\n",
       " 'worst',\n",
       " 'of',\n",
       " 'the',\n",
       " 'market',\n",
       " 'fluctuations',\n",
       " ',',\n",
       " 'the',\n",
       " 'record',\n",
       " 'suggests',\n",
       " 'that',\n",
       " 'Fed',\n",
       " 'officials',\n",
       " 'have',\n",
       " 'become',\n",
       " 'more',\n",
       " 'confident',\n",
       " 'about',\n",
       " 'the',\n",
       " 'economy',\n",
       " 'since',\n",
       " 'their',\n",
       " 'December',\n",
       " 'meeting',\n",
       " ',',\n",
       " 'when',\n",
       " 'they',\n",
       " 'last',\n",
       " 'raised',\n",
       " 'interest',\n",
       " 'rates',\n",
       " '.',\n",
       " 'The',\n",
       " 'Federal',\n",
       " 'Open',\n",
       " 'Market',\n",
       " 'Committee',\n",
       " 'left',\n",
       " 'its',\n",
       " 'target',\n",
       " 'range',\n",
       " 'for',\n",
       " 'the',\n",
       " 'federal',\n",
       " 'funds',\n",
       " 'rate',\n",
       " 'on',\n",
       " 'hold',\n",
       " 'at',\n",
       " '1.25',\n",
       " 'to',\n",
       " '1.5',\n",
       " 'per',\n",
       " 'cent',\n",
       " 'at',\n",
       " 'the',\n",
       " 'January',\n",
       " 'meeting',\n",
       " ',',\n",
       " 'while',\n",
       " 'laying',\n",
       " 'the',\n",
       " 'ground',\n",
       " 'for',\n",
       " 'another',\n",
       " 'move',\n",
       " 'at',\n",
       " 'the',\n",
       " 'March',\n",
       " '20-21',\n",
       " 'meeting',\n",
       " '.',\n",
       " 'A',\n",
       " 'key',\n",
       " 'question',\n",
       " 'in',\n",
       " 'markets',\n",
       " 'now',\n",
       " 'is',\n",
       " 'whether',\n",
       " 'the',\n",
       " 'Fed',\n",
       " 'could',\n",
       " 'opt',\n",
       " 'to',\n",
       " 'boost',\n",
       " 'rates',\n",
       " 'four',\n",
       " 'times',\n",
       " 'in',\n",
       " '2018',\n",
       " ',',\n",
       " 'rather',\n",
       " 'than',\n",
       " 'the',\n",
       " 'three',\n",
       " 'moves',\n",
       " 'currently',\n",
       " 'forecast',\n",
       " '.',\n",
       " 'The',\n",
       " 'immediate',\n",
       " 'market',\n",
       " 'response',\n",
       " 'to',\n",
       " 'the',\n",
       " 'minutes',\n",
       " 'suggested',\n",
       " 'they',\n",
       " 'did',\n",
       " 'not',\n",
       " 'significantly',\n",
       " 'advance',\n",
       " 'that',\n",
       " 'debate',\n",
       " ':',\n",
       " 'the',\n",
       " 'yield',\n",
       " 'on',\n",
       " 'the',\n",
       " '10-year',\n",
       " 'Treasury',\n",
       " 'declined',\n",
       " 'modestly',\n",
       " 'and',\n",
       " 'the',\n",
       " 'dollar',\n",
       " 'softened',\n",
       " 'a',\n",
       " 'little',\n",
       " ',',\n",
       " 'but',\n",
       " 'both',\n",
       " 'moves',\n",
       " 'were',\n",
       " 'muted',\n",
       " '.',\n",
       " 'Fed',\n",
       " 'funds',\n",
       " 'futures',\n",
       " 'were',\n",
       " 'little',\n",
       " 'changed.The',\n",
       " 'next',\n",
       " 'financial',\n",
       " 'crisis',\n",
       " 'may',\n",
       " 'be',\n",
       " 'triggered',\n",
       " 'by',\n",
       " 'central',\n",
       " 'banks',\n",
       " '.',\n",
       " 'As',\n",
       " 'with',\n",
       " 'London',\n",
       " 'buses',\n",
       " ',',\n",
       " 'don’t',\n",
       " 'worry',\n",
       " ...]"
      ]
     },
     "execution_count": 20,
     "metadata": {},
     "output_type": "execute_result"
    }
   ],
   "source": [
    "words"
   ]
  },
  {
   "cell_type": "code",
   "execution_count": 21,
   "metadata": {
    "collapsed": false
   },
   "outputs": [],
   "source": [
    "cps1 = Text(words)\n",
    "fqdist1=FreqDist(cps1)"
   ]
  },
  {
   "cell_type": "code",
   "execution_count": 22,
   "metadata": {
    "collapsed": false
   },
   "outputs": [
    {
     "data": {
      "text/plain": [
       "[('the', 109),\n",
       " ('.', 72),\n",
       " (',', 71),\n",
       " ('a', 52),\n",
       " ('of', 50),\n",
       " ('to', 45),\n",
       " ('in', 41),\n",
       " ('and', 29),\n",
       " ('The', 20),\n",
       " ('on', 20)]"
      ]
     },
     "execution_count": 22,
     "metadata": {},
     "output_type": "execute_result"
    }
   ],
   "source": [
    "fqdist1.most_common(10)"
   ]
  },
  {
   "cell_type": "code",
   "execution_count": 24,
   "metadata": {
    "collapsed": false
   },
   "outputs": [
    {
     "name": "stdout",
     "output_type": "stream",
     "text": [
      "the \t 109\n",
      ". \t 72\n",
      ", \t 71\n",
      "a \t 52\n",
      "of \t 50\n",
      "to \t 45\n",
      "in \t 41\n",
      "and \t 29\n",
      "The \t 20\n",
      "on \t 20\n"
     ]
    }
   ],
   "source": [
    "for tpl in fqdist1.most_common(10):print(tpl[0],'\\t',tpl[1])"
   ]
  },
  {
   "cell_type": "code",
   "execution_count": 25,
   "metadata": {
    "collapsed": true
   },
   "outputs": [],
   "source": [
    "obj = {\"a\":1,\"b\":2}"
   ]
  },
  {
   "cell_type": "code",
   "execution_count": 26,
   "metadata": {
    "collapsed": true
   },
   "outputs": [],
   "source": [
    "import json"
   ]
  },
  {
   "cell_type": "code",
   "execution_count": 28,
   "metadata": {
    "collapsed": false
   },
   "outputs": [
    {
     "data": {
      "text/plain": [
       "'{\"a\": 1, \"b\": 2}'"
      ]
     },
     "execution_count": 28,
     "metadata": {},
     "output_type": "execute_result"
    }
   ],
   "source": [
    "json.dumps(obj)"
   ]
  },
  {
   "cell_type": "code",
   "execution_count": 29,
   "metadata": {
    "collapsed": true
   },
   "outputs": [],
   "source": [
    "with open('dump_text','w+') as f:\n",
    "    json.dump(obj,f)"
   ]
  },
  {
   "cell_type": "code",
   "execution_count": 30,
   "metadata": {
    "collapsed": true
   },
   "outputs": [],
   "source": [
    "import requests\n",
    "url='http://sti.blcu.edu.cn/'\n",
    "reps = requests.get(url)"
   ]
  },
  {
   "cell_type": "code",
   "execution_count": 32,
   "metadata": {
    "collapsed": false
   },
   "outputs": [
    {
     "data": {
      "text/plain": [
       "<Response [200]>"
      ]
     },
     "execution_count": 32,
     "metadata": {},
     "output_type": "execute_result"
    }
   ],
   "source": [
    "reps"
   ]
  },
  {
   "cell_type": "code",
   "execution_count": 34,
   "metadata": {
    "collapsed": false
   },
   "outputs": [
    {
     "data": {
      "text/plain": [
       "'\\n\\n<!-- THEME DEBUG -->\\n<!-- THEME HOOK: \\'html\\' -->\\n<!-- FILE NAME SUGGESTIONS:\\n   * html--front.html.twig\\n   * html--node.html.twig\\n   x html.html.twig\\n-->\\n<!-- BEGIN OUTPUT from \\'core/themes/classy/templates/layout/html.html.twig\\' -->\\n<!DOCTYPE html>\\n<html lang=\"zh-hans\" dir=\"ltr\" prefix=\"content: http://purl.org/rss/1.0/modules/content/  dc: http://purl.org/dc/terms/  foaf: http://xmlns.com/foaf/0.1/  og: http://ogp.me/ns#  rdfs: http://www.w3.org/2000/01/rdf-schema#  schema: http://schema.org/  sioc: http://rdfs.org/sioc/ns#  sioct: http://rdfs.org/sioc/types#  skos: http://www.w3.org/2004/02/skos/core#  xsd: http://www.w3.org/2001/XMLSchema# \">\\n  <head>\\n    <meta charset=\"utf-8\" />\\n<meta name=\"Generator\" content=\"Drupal 8 (https://www.drupal.org)\" />\\n<meta name=\"MobileOptimized\" content=\"width\" />\\n<meta name=\"HandheldFriendly\" content=\"true\" />\\n<meta name=\"viewport\" content=\"width=device-width, initial-scale=1.0\" />\\n<link rel=\"shortcut icon\" href=\"/core/misc/favicon.ico\" type=\"image/vnd.microsoft.icon\" />\\n\\n    <title>首页 | 北京语言大学高级翻译学院</title>\\n    <style media=\"all\">\\n@import url(\"/core/assets/vendor/normalize-css/normalize.css?p8wy9l\");\\n@import url(\"/core/themes/stable/css/system/components/ajax-progress.module.css?p8wy9l\");\\n@import url(\"/core/themes/stable/css/system/components/align.module.css?p8wy9l\");\\n@import url(\"/core/themes/stable/css/system/components/autocomplete-loading.module.css?p8wy9l\");\\n@import url(\"/core/themes/stable/css/system/components/fieldgroup.module.css?p8wy9l\");\\n@import url(\"/core/themes/stable/css/system/components/container-inline.module.css?p8wy9l\");\\n@import url(\"/core/themes/stable/css/system/components/clearfix.module.css?p8wy9l\");\\n@import url(\"/core/themes/stable/css/system/components/details.module.css?p8wy9l\");\\n@import url(\"/core/themes/stable/css/system/components/hidden.module.css?p8wy9l\");\\n@import url(\"/core/themes/stable/css/system/components/item-list.module.css?p8wy9l\");\\n@import url(\"/core/themes/stable/css/system/components/js.module.css?p8wy9l\");\\n@import url(\"/core/themes/stable/css/system/components/nowrap.module.css?p8wy9l\");\\n@import url(\"/core/themes/stable/css/system/components/position-container.module.css?p8wy9l\");\\n@import url(\"/core/themes/stable/css/system/components/progress.module.css?p8wy9l\");\\n@import url(\"/core/themes/stable/css/system/components/reset-appearance.module.css?p8wy9l\");\\n@import url(\"/core/themes/stable/css/system/components/resize.module.css?p8wy9l\");\\n@import url(\"/core/themes/stable/css/system/components/sticky-header.module.css?p8wy9l\");\\n@import url(\"/core/themes/stable/css/system/components/system-status-counter.css?p8wy9l\");\\n@import url(\"/core/themes/stable/css/system/components/system-status-report-counters.css?p8wy9l\");\\n@import url(\"/core/themes/stable/css/system/components/system-status-report-general-info.css?p8wy9l\");\\n@import url(\"/core/themes/stable/css/system/components/tabledrag.module.css?p8wy9l\");\\n@import url(\"/core/themes/stable/css/system/components/tablesort.module.css?p8wy9l\");\\n@import url(\"/core/themes/stable/css/system/components/tree-child.module.css?p8wy9l\");\\n@import url(\"/core/themes/stable/css/views/views.module.css?p8wy9l\");\\n</style>\\n<style media=\"all\">\\n@import url(\"/core/themes/classy/css/components/action-links.css?p8wy9l\");\\n@import url(\"/core/themes/classy/css/components/breadcrumb.css?p8wy9l\");\\n@import url(\"/core/themes/classy/css/components/button.css?p8wy9l\");\\n@import url(\"/core/themes/classy/css/components/collapse-processed.css?p8wy9l\");\\n@import url(\"/core/themes/classy/css/components/container-inline.css?p8wy9l\");\\n@import url(\"/core/themes/classy/css/components/details.css?p8wy9l\");\\n@import url(\"/core/themes/classy/css/components/exposed-filters.css?p8wy9l\");\\n@import url(\"/core/themes/classy/css/components/field.css?p8wy9l\");\\n@import url(\"/core/themes/classy/css/components/form.css?p8wy9l\");\\n@import url(\"/core/themes/classy/css/components/icons.css?p8wy9l\");\\n@import url(\"/core/themes/classy/css/components/inline-form.css?p8wy9l\");\\n@import url(\"/core/themes/classy/css/components/item-list.css?p8wy9l\");\\n@import url(\"/core/themes/classy/css/components/link.css?p8wy9l\");\\n@import url(\"/core/themes/classy/css/components/links.css?p8wy9l\");\\n@import url(\"/core/themes/classy/css/components/menu.css?p8wy9l\");\\n@import url(\"/core/themes/classy/css/components/more-link.css?p8wy9l\");\\n@import url(\"/core/themes/classy/css/components/pager.css?p8wy9l\");\\n@import url(\"/core/themes/classy/css/components/tabledrag.css?p8wy9l\");\\n@import url(\"/core/themes/classy/css/components/tableselect.css?p8wy9l\");\\n@import url(\"/core/themes/classy/css/components/tablesort.css?p8wy9l\");\\n@import url(\"/core/themes/classy/css/components/tabs.css?p8wy9l\");\\n@import url(\"/core/themes/classy/css/components/textarea.css?p8wy9l\");\\n@import url(\"/core/themes/classy/css/components/ui-dialog.css?p8wy9l\");\\n@import url(\"/themes/gaofan/css/bootstrap.css?p8wy9l\");\\n@import url(\"/themes/gaofan/css/owl.carousel.css?p8wy9l\");\\n@import url(\"/themes/gaofan/css/onepage-revslider.css?p8wy9l\");\\n@import url(\"/themes/gaofan/css/style.min.css?p8wy9l\");\\n@import url(\"/themes/gaofan/css/responsive.min.css?p8wy9l\");\\n@import url(\"/themes/gaofan/css/font-icons.css?p8wy9l\");\\n@import url(\"/themes/gaofan/include/rs-plugin/css/settings.css?p8wy9l\");\\n@import url(\"/themes/gaofan/css/custom.css?p8wy9l\");\\n</style>\\n<style media=\"all\">\\n@import url(\"/themes/gaofan/css/custom2.css?p8wy9l\");\\n@import url(\"/themes/gaofan/css/custom3.css?p8wy9l\");\\n@import url(\"/themes/gaofan/css/gaofan.css?p8wy9l\");\\n@import url(\"/themes/gaofan/css/td.css?p8wy9l\");\\n@import url(\"/themes/gaofan/includes/owl/assets/owl.carousel.css?p8wy9l\");\\n@import url(\"/themes/gaofan/includes/owl/assets/owl.theme.default.min.css?p8wy9l\");\\n</style>\\n\\n    \\n<!--[if lte IE 8]>\\n<script src=\"/sites/default/files/js/js_VtafjXmRvoUgAzqzYTA3Wrjkx9wcWhjP0G4ZnnqRamA.js\"></script>\\n<![endif]-->\\n<script src=\"/sites/default/files/js/js_hetGjO3q1VeQrVadXt4UWKvJBWyH2ekvtHJN5M3UgNs.js\"></script>\\n\\n  </head>\\n  <body class=\"path-frontpage\">\\n        <a href=\"#main-content\" class=\"visually-hidden focusable skip-link\">\\n      跳转到主要内容\\n    </a>\\n    \\n    \\n\\n<!-- THEME DEBUG -->\\n<!-- THEME HOOK: \\'page\\' -->\\n<!-- FILE NAME SUGGESTIONS:\\n   x page--front.html.twig\\n   * page--node.html.twig\\n   * page.html.twig\\n-->\\n<!-- BEGIN OUTPUT from \\'themes/gaofan/templates/page--front.html.twig\\' -->\\n\\n<section id=\"wrapper\">\\n    <header id=\"header\">\\n        <div id=\"header-wrapper\">\\n            \\n\\n<!-- THEME DEBUG -->\\n<!-- THEME HOOK: \\'region\\' -->\\n<!-- FILE NAME SUGGESTIONS:\\n   * region--header.html.twig\\n   x region.html.twig\\n-->\\n<!-- BEGIN OUTPUT from \\'core/themes/classy/templates/layout/region.html.twig\\' -->\\n  <div class=\"region region-header\">\\n    \\n\\n<!-- THEME DEBUG -->\\n<!-- THEME HOOK: \\'block\\' -->\\n<!-- FILE NAME SUGGESTIONS:\\n   * block--yemianbiaoti.html.twig\\n   * block--page-title-block.html.twig\\n   * block--core.html.twig\\n   x block.html.twig\\n-->\\n<!-- BEGIN OUTPUT from \\'core/themes/classy/templates/block/block.html.twig\\' -->\\n<div id=\"block-yemianbiaoti\" class=\"block block-core block-page-title-block\">\\n  \\n    \\n      \\n\\n<!-- THEME DEBUG -->\\n<!-- THEME HOOK: \\'page_title\\' -->\\n<!-- BEGIN OUTPUT from \\'core/themes/classy/templates/content/page-title.html.twig\\' -->\\n\\n  <h1 class=\"page-title\"></h1>\\n\\n\\n<!-- END OUTPUT from \\'core/themes/classy/templates/content/page-title.html.twig\\' -->\\n\\n\\n  </div>\\n\\n<!-- END OUTPUT from \\'core/themes/classy/templates/block/block.html.twig\\' -->\\n\\n\\n  </div>\\n\\n<!-- END OUTPUT from \\'core/themes/classy/templates/layout/region.html.twig\\' -->\\n\\n\\n            <h1 class=\"logo\">\\n                <span>北京语言大学高级翻译学院</span>\\n                <a href=\"/\" title=\"北京语言大学高级翻译学院\">\\n                    <img src=\"/themes/gaofan/images/logo.png\" alt=\"北京语言大学高级翻译学院\">\\n                </a>\\n            </h1>\\n            <h1 class=\"logo-1\">\\n                <span>北京语言大学高级翻译学院</span>\\n                <a href=\"/\" title=\"北京语言大学高级翻译学院\">\\n                    <img src=\"/themes/gaofan/images/mentou.png\" alt=\"北京语言大学高级翻译学院\">\\n                </a>\\n            </h1>\\n\\n            <div class=\"nav-container\">\\n                <nav id=\"nav\">\\n                    \\n\\n<!-- THEME DEBUG -->\\n<!-- THEME HOOK: \\'region\\' -->\\n<!-- FILE NAME SUGGESTIONS:\\n   * region--menu.html.twig\\n   x region.html.twig\\n-->\\n<!-- BEGIN OUTPUT from \\'core/themes/classy/templates/layout/region.html.twig\\' -->\\n  <div class=\"region region-menu\">\\n    \\n\\n<!-- THEME DEBUG -->\\n<!-- THEME HOOK: \\'block\\' -->\\n<!-- FILE NAME SUGGESTIONS:\\n   * block--gaofan-langswitch.html.twig\\n   * block--language-block--language-interface.html.twig\\n   * block--language-block.html.twig\\n   * block--language.html.twig\\n   x block.html.twig\\n-->\\n<!-- BEGIN OUTPUT from \\'core/themes/classy/templates/block/block.html.twig\\' -->\\n<div class=\"language-switcher-language-url block block-language block-language-blocklanguage-interface\" id=\"block-gaofan-langswitch\" role=\"navigation\">\\n  \\n    \\n      \\n\\n<!-- THEME DEBUG -->\\n<!-- THEME HOOK: \\'links__language_block\\' -->\\n<!-- FILE NAME SUGGESTIONS:\\n   x links--language-block.html.twig\\n   x links--language-block.html.twig\\n   * links.html.twig\\n-->\\n<!-- BEGIN OUTPUT from \\'themes/gaofan/templates/links--language-block.html.twig\\' -->\\n<div class=\"language\">\\n  <ul class=\"links\"><li hreflang=\"zh-hans\" data-drupal-link-system-path=\"&lt;front&gt;\" class=\"zh-hans is-active\"><a href=\"/zh-hans\" class=\"language-link is-active\" hreflang=\"zh-hans\" data-drupal-link-system-path=\"&lt;front&gt;\">简体中文</a></li><li hreflang=\"en\" data-drupal-link-system-path=\"&lt;front&gt;\" class=\"en\"><a href=\"/en\" class=\"language-link\" hreflang=\"en\" data-drupal-link-system-path=\"&lt;front&gt;\">English</a></li><li hreflang=\"fr\" data-drupal-link-system-path=\"&lt;front&gt;\" class=\"fr\"><a href=\"/fr\" class=\"language-link\" hreflang=\"fr\" data-drupal-link-system-path=\"&lt;front&gt;\">Français</a></li></ul>\\n</div>\\n<!-- END OUTPUT from \\'themes/gaofan/templates/links--language-block.html.twig\\' -->\\n\\n\\n  </div>\\n\\n<!-- END OUTPUT from \\'core/themes/classy/templates/block/block.html.twig\\' -->\\n\\n\\n\\n<!-- THEME DEBUG -->\\n<!-- THEME HOOK: \\'block\\' -->\\n<!-- FILE NAME SUGGESTIONS:\\n   * block--gaofan-main-menu.html.twig\\n   * block--system-menu-block--main.html.twig\\n   x block--system-menu-block.html.twig\\n   * block--system.html.twig\\n   * block.html.twig\\n-->\\n<!-- BEGIN OUTPUT from \\'themes/gaofan/templates/block--system-menu-block.html.twig\\' -->\\n<nav id=\"nav\">\\n  \\n  <a href=\"#\" id=\"menu-btn\" title=\"Menu\">导航\\n    <span id=\"menu-btn-icon\"></span>\\n  </a>\\n            \\n  <h2 class=\"visually-hidden\" id=\"block-gaofan-main-menu-menu\">主导航</h2>\\n  \\n\\n        \\n\\n<!-- THEME DEBUG -->\\n<!-- THEME HOOK: \\'menu__main\\' -->\\n<!-- FILE NAME SUGGESTIONS:\\n   * menu--main.html.twig\\n   x menu.html.twig\\n-->\\n<!-- BEGIN OUTPUT from \\'themes/gaofan/templates/menu.html.twig\\' -->\\n\\n\\n\\n\\n\\n\\n\\n\\n              <ul class=\"menu\">\\n                    <li class=\"menu-item--expanded\">\\n        <a href=\"/zh-hans/overview/brief\" data-drupal-link-system-path=\"node/229\">学院概况</a>\\n                                <ul >\\n                    <li>\\n        <a href=\"/zh-hans/overview/introduce\" data-drupal-link-system-path=\"node/2\">学院简介</a>\\n        \\n        \\n      </li>\\n                <li>\\n        <a href=\"/zh-hans/overview/history\" data-drupal-link-system-path=\"node/14\">历史发展</a>\\n        \\n        \\n      </li>\\n                <li>\\n        <a href=\"/zh-hans/overview/leader\" data-drupal-link-system-path=\"node/15\">学院领导</a>\\n        \\n        \\n      </li>\\n                <li>\\n        <a href=\"/zh-hans/node/275\" data-drupal-link-system-path=\"node/275\">管理团队</a>\\n        \\n        \\n      </li>\\n                <li>\\n        <a href=\"/zh-hans/node/59\" data-drupal-link-system-path=\"node/59\">联系我们</a>\\n        \\n        \\n      </li>\\n        </ul>\\n  \\n        \\n                  <span class=\"responsive-toggle\"></span>\\n        \\n      </li>\\n                <li class=\"menu-item--expanded\">\\n        <a href=\"/zh-hans/teachers\" data-drupal-link-system-path=\"node/537\">师资力量</a>\\n                                <ul >\\n                    <li>\\n        <a href=\"/zh-hans/core_team\" data-drupal-link-system-path=\"core_team\">专业教学团队</a>\\n        \\n        \\n      </li>\\n                <li>\\n        <a href=\"/zh-hans/external_teaching_team\" data-drupal-link-system-path=\"external_teaching_team\">外聘教学团队</a>\\n        \\n        \\n      </li>\\n        </ul>\\n  \\n        \\n                  <span class=\"responsive-toggle\"></span>\\n        \\n      </li>\\n                <li class=\"menu-item--expanded\">\\n        <a href=\"/zh-hans/talent_training\" data-drupal-link-system-path=\"node/113\">人才培养</a>\\n                                <ul >\\n                    <li class=\"menu-item--expanded\">\\n        <a href=\"/zh-hans/train/bachelor\" data-drupal-link-system-path=\"node/217\">本科</a>\\n                                <ul >\\n                    <li>\\n        <a href=\"/zh-hans/node/284\" data-drupal-link-system-path=\"node/284\">英语方向</a>\\n        \\n        \\n      </li>\\n                <li>\\n        <a href=\"/zh-hans/node/340\" data-drupal-link-system-path=\"node/340\">汉英法方向</a>\\n        \\n        \\n      </li>\\n                <li>\\n        <a href=\"/zh-hans/node/365\" data-drupal-link-system-path=\"node/365\">本地化方向</a>\\n        \\n        \\n      </li>\\n        </ul>\\n  \\n        \\n                  <span class=\"responsive-toggle\"></span>\\n        \\n      </li>\\n                <li class=\"menu-item--expanded\">\\n        <a href=\"/zh-hans/train/master\" data-drupal-link-system-path=\"node/218\">硕士\\t</a>\\n                                <ul >\\n                    <li>\\n        <a href=\"/zh-hans/node/321\" data-drupal-link-system-path=\"node/321\">翻译专业硕士</a>\\n        \\n        \\n      </li>\\n                <li>\\n        <a href=\"/zh-hans/node/325\" data-drupal-link-system-path=\"node/325\">翻译学硕士</a>\\n        \\n        \\n      </li>\\n        </ul>\\n  \\n        \\n                  <span class=\"responsive-toggle\"></span>\\n        \\n      </li>\\n                <li class=\"menu-item--expanded\">\\n        <a href=\"/zh-hans/node/315\" data-drupal-link-system-path=\"node/315\">博士</a>\\n                                <ul >\\n                    <li>\\n        <a href=\"/zh-hans/node/558\" data-drupal-link-system-path=\"node/558\"> 翻译理论与教学法</a>\\n        \\n        \\n      </li>\\n                <li>\\n        <a href=\"/zh-hans/node/563\" data-drupal-link-system-path=\"node/563\">翻译与跨学科研究</a>\\n        \\n        \\n      </li>\\n                <li>\\n        <a href=\"/zh-hans/node/564\" data-drupal-link-system-path=\"node/564\">翻译与跨文化研究</a>\\n        \\n        \\n      </li>\\n                <li>\\n        <a href=\"/zh-hans/node/565\" data-drupal-link-system-path=\"node/565\">翻译技术与本地化</a>\\n        \\n        \\n      </li>\\n        </ul>\\n  \\n        \\n                  <span class=\"responsive-toggle\"></span>\\n        \\n      </li>\\n        </ul>\\n  \\n        \\n                  <span class=\"responsive-toggle\"></span>\\n        \\n      </li>\\n                <li class=\"menu-item--expanded\">\\n        <a href=\"/zh-hans/pulish_works\" data-drupal-link-system-path=\"node/114\">教学科研</a>\\n                                <ul >\\n                    <li>\\n        <a href=\"/zh-hans/node/264\" data-drupal-link-system-path=\"node/264\">教学管理</a>\\n        \\n        \\n      </li>\\n                <li>\\n        <a href=\"/zh-hans/node/265\" data-drupal-link-system-path=\"node/265\">科研管理</a>\\n        \\n        \\n      </li>\\n        </ul>\\n  \\n        \\n                  <span class=\"responsive-toggle\"></span>\\n        \\n      </li>\\n                <li class=\"menu-item--expanded\">\\n        <a href=\"/zh-hans/taxonomy/term/102\" data-drupal-link-system-path=\"taxonomy/term/102\">学生管理</a>\\n                                <ul >\\n                    <li class=\"menu-item--expanded\">\\n        <a href=\"/zh-hans/taxonomy/term/103\" data-drupal-link-system-path=\"taxonomy/term/103\">本科</a>\\n                                <ul >\\n                    <li>\\n        <a href=\"/zh-hans/taxonomy/term/106\" data-drupal-link-system-path=\"taxonomy/term/106\">党宣党建</a>\\n        \\n        \\n      </li>\\n                <li>\\n        <a href=\"/zh-hans/taxonomy/term/107\" data-drupal-link-system-path=\"taxonomy/term/107\">团学风采（院刊）</a>\\n        \\n        \\n      </li>\\n                <li>\\n        <a href=\"/zh-hans/taxonomy/term/108\" data-drupal-link-system-path=\"taxonomy/term/108\">实习就业</a>\\n        \\n        \\n      </li>\\n                <li class=\"menu-item--collapsed\">\\n        <a href=\"/zh-hans/taxonomy/term/109\" data-drupal-link-system-path=\"taxonomy/term/109\">规章制度</a>\\n        \\n        \\n      </li>\\n        </ul>\\n  \\n        \\n                  <span class=\"responsive-toggle\"></span>\\n        \\n      </li>\\n                <li class=\"menu-item--expanded\">\\n        <a href=\"/zh-hans/taxonomy/term/104\" data-drupal-link-system-path=\"taxonomy/term/104\">硕士</a>\\n                                <ul >\\n                    <li>\\n        <a href=\"/zh-hans/taxonomy/term/110\" data-drupal-link-system-path=\"taxonomy/term/110\">实习就业</a>\\n        \\n        \\n      </li>\\n                <li>\\n        <a href=\"/zh-hans/taxonomy/term/111\" data-drupal-link-system-path=\"taxonomy/term/111\">规章制度</a>\\n        \\n        \\n      </li>\\n        </ul>\\n  \\n        \\n                  <span class=\"responsive-toggle\"></span>\\n        \\n      </li>\\n                <li class=\"menu-item--expanded\">\\n        <a href=\"/zh-hans/taxonomy/term/105\" data-drupal-link-system-path=\"taxonomy/term/105\">博士\\t</a>\\n                                <ul >\\n                    <li>\\n        <a href=\"/zh-hans/taxonomy/term/112\" data-drupal-link-system-path=\"taxonomy/term/112\">实习就业</a>\\n        \\n        \\n      </li>\\n                <li>\\n        <a href=\"/zh-hans/taxonomy/term/113\" data-drupal-link-system-path=\"taxonomy/term/113\">规章制度</a>\\n        \\n        \\n      </li>\\n        </ul>\\n  \\n        \\n                  <span class=\"responsive-toggle\"></span>\\n        \\n      </li>\\n        </ul>\\n  \\n        \\n                  <span class=\"responsive-toggle\"></span>\\n        \\n      </li>\\n                <li class=\"menu-item--expanded\">\\n        <a href=\"/zh-hans/taxonomy/term/118\" data-drupal-link-system-path=\"taxonomy/term/118\">社会服务</a>\\n                                <ul >\\n                    <li>\\n        <a href=\"/zh-hans/taxonomy/term/119\" data-drupal-link-system-path=\"taxonomy/term/119\">舆情资讯</a>\\n        \\n        \\n      </li>\\n                <li>\\n        <a href=\"/zh-hans/taxonomy/term/120\" data-drupal-link-system-path=\"taxonomy/term/120\">翻译培训</a>\\n        \\n        \\n      </li>\\n                <li>\\n        <a href=\"/zh-hans/taxonomy/term/121\" data-drupal-link-system-path=\"taxonomy/term/121\">口译服务</a>\\n        \\n        \\n      </li>\\n                <li>\\n        <a href=\"/zh-hans/taxonomy/term/122\" data-drupal-link-system-path=\"taxonomy/term/122\">笔译服务</a>\\n        \\n        \\n      </li>\\n                <li>\\n        <a href=\"/zh-hans/taxonomy/term/123\" data-drupal-link-system-path=\"taxonomy/term/123\">本地化服务</a>\\n        \\n        \\n      </li>\\n        </ul>\\n  \\n        \\n                  <span class=\"responsive-toggle\"></span>\\n        \\n      </li>\\n                <li class=\"menu-item--expanded\">\\n        <a href=\"/zh-hans/taxonomy/term/98\" data-drupal-link-system-path=\"taxonomy/term/98\">政产学研</a>\\n                                <ul >\\n                    <li>\\n        <a href=\"/zh-hans/taxonomy/term/99\" data-drupal-link-system-path=\"taxonomy/term/99\">实习实践</a>\\n        \\n        \\n      </li>\\n                <li>\\n        <a href=\"/zh-hans/taxonomy/term/100\" data-drupal-link-system-path=\"taxonomy/term/100\">MTI教育</a>\\n        \\n        \\n      </li>\\n                <li>\\n        <a href=\"/zh-hans/taxonomy/term/101\" data-drupal-link-system-path=\"taxonomy/term/101\">翻译研究</a>\\n        \\n        \\n      </li>\\n        </ul>\\n  \\n        \\n                  <span class=\"responsive-toggle\"></span>\\n        \\n      </li>\\n                <li class=\"menu-item--expanded\">\\n        <a href=\"/zh-hans/online-service\" data-drupal-link-system-path=\"node/538\">在线服务</a>\\n                                <ul >\\n                    <li class=\"menu-item--collapsed\">\\n        <a href=\"/zh-hans/taxonomy/term/114\" data-drupal-link-system-path=\"taxonomy/term/114\">下载中心</a>\\n        \\n        \\n      </li>\\n                <li>\\n        <a href=\"http://stimooc.blcu.edu.cn/\">高翻学堂</a>\\n        \\n        \\n      </li>\\n                <li>\\n        <a href=\"/zh-hans/alumnis\" data-drupal-link-system-path=\"alumnis\">校友风采</a>\\n        \\n        \\n      </li>\\n        </ul>\\n  \\n        \\n                  <span class=\"responsive-toggle\"></span>\\n        \\n      </li>\\n        </ul>\\n  \\n\\n\\n<!-- END OUTPUT from \\'themes/gaofan/templates/menu.html.twig\\' -->\\n\\n\\n  \\n</nav>\\n\\n<!-- END OUTPUT from \\'themes/gaofan/templates/block--system-menu-block.html.twig\\' -->\\n\\n\\n  </div>\\n\\n<!-- END OUTPUT from \\'core/themes/classy/templates/layout/region.html.twig\\' -->\\n\\n\\n                </nav>\\n            </div>\\n            <div id=\"search-container\">\\n                \\n            </div>\\n            <div id=\"header-footer\">\\n                \\n            </div>\\n        </div>\\n    </header>\\n\\n    <section id=\"home\">\\n        <div id=\"revslider-container\">\\n            \\n\\n<!-- THEME DEBUG -->\\n<!-- THEME HOOK: \\'container\\' -->\\n<!-- BEGIN OUTPUT from \\'core/themes/classy/templates/form/container.html.twig\\' -->\\n<div class=\"views-element-container\">\\n\\n<!-- THEME DEBUG -->\\n<!-- THEME HOOK: \\'views_view__slideshow\\' -->\\n<!-- FILE NAME SUGGESTIONS:\\n   x views-view--slideshow.html.twig\\n   x views-view--slideshow.html.twig\\n   * views-view.html.twig\\n-->\\n<!-- BEGIN OUTPUT from \\'themes/gaofan/templates/views/slideshow/views-view--slideshow.html.twig\\' -->\\n<div id=\"revslider\">\\n  \\n    \\n      \\n      <ul>\\n      \\n\\n<!-- THEME DEBUG -->\\n<!-- THEME HOOK: \\'views_view_unformatted__slideshow\\' -->\\n<!-- FILE NAME SUGGESTIONS:\\n   x views-view-unformatted--slideshow.html.twig\\n   x views-view-unformatted--slideshow.html.twig\\n   * views-view-unformatted.html.twig\\n-->\\n<!-- BEGIN OUTPUT from \\'themes/gaofan/templates/views/slideshow/views-view-unformatted--slideshow.html.twig\\' -->\\n  \\n    \\n\\n<!-- THEME DEBUG -->\\n<!-- THEME HOOK: \\'views_view_fields\\' -->\\n<!-- BEGIN OUTPUT from \\'core/themes/stable/templates/views/views-view-fields.html.twig\\' -->\\n\\n\\n<!-- THEME DEBUG -->\\n<!-- THEME HOOK: \\'views_view_field\\' -->\\n<!-- BEGIN OUTPUT from \\'core/themes/stable/templates/views/views-view-field.html.twig\\' -->\\n<li data-transition=\"random-premium\" data-slotamount=\"10\" data-masterspeed=\"400\">\\n                                        \\n\\n\\n\\n\\n  \\n\\n\\n\\n\\n\\n\\n\\n\\n\\n<img src=\"/sites/default/files/styles/2000/public/slideshow/2016-07/ht1history2_2.jpg?itok=luvIiHBq\" alt=\"\" typeof=\"Image\" class=\"image-style-_000\" />\\n\\n\\n\\n\\n\\n\\n\\n\\n\\n\\n\\n\\n                                        <div class=\"caption-wrapper\"><div class=\"tp-caption rev-title3 lft ltt\" data-x=\"center\" data-y=\"bottom\">\\n                                          <p class=\"p-title\"> 2011年5月20日北京语言大学高级翻译学院正式成立 </p>\\n                                         <p class=\"p-desciption\">  </p>\\n                                        </div></div>\\n               \\n                                      \\n                                        \\n                                    </li>\\n<!-- END OUTPUT from \\'core/themes/stable/templates/views/views-view-field.html.twig\\' -->\\n\\n\\n<!-- END OUTPUT from \\'core/themes/stable/templates/views/views-view-fields.html.twig\\' -->\\n\\n\\n\\n  \\n    \\n\\n<!-- THEME DEBUG -->\\n<!-- THEME HOOK: \\'views_view_fields\\' -->\\n<!-- BEGIN OUTPUT from \\'core/themes/stable/templates/views/views-view-fields.html.twig\\' -->\\n\\n\\n<!-- THEME DEBUG -->\\n<!-- THEME HOOK: \\'views_view_field\\' -->\\n<!-- BEGIN OUTPUT from \\'core/themes/stable/templates/views/views-view-field.html.twig\\' -->\\n<li data-transition=\"random-premium\" data-slotamount=\"10\" data-masterspeed=\"400\">\\n                                        \\n\\n\\n\\n\\n  \\n\\n\\n\\n\\n\\n\\n\\n\\n\\n<img src=\"/sites/default/files/styles/2000/public/slideshow/2016-07/slide0090_image00008.jpg?itok=9_TVLXJJ\" alt=\"\" typeof=\"Image\" class=\"image-style-_000\" />\\n\\n\\n\\n\\n\\n\\n\\n\\n\\n\\n\\n\\n                                        <div class=\"caption-wrapper\"><div class=\"tp-caption rev-title3 lft ltt\" data-x=\"center\" data-y=\"bottom\">\\n                                          <p class=\"p-title\"> 2015年3月CIUTI专家莅临北语考察我校翻译人才培养状况 </p>\\n                                         <p class=\"p-desciption\">  </p>\\n                                        </div></div>\\n               \\n                                      \\n                                        \\n                                    </li>\\n<!-- END OUTPUT from \\'core/themes/stable/templates/views/views-view-field.html.twig\\' -->\\n\\n\\n<!-- END OUTPUT from \\'core/themes/stable/templates/views/views-view-fields.html.twig\\' -->\\n\\n\\n\\n  \\n    \\n\\n<!-- THEME DEBUG -->\\n<!-- THEME HOOK: \\'views_view_fields\\' -->\\n<!-- BEGIN OUTPUT from \\'core/themes/stable/templates/views/views-view-fields.html.twig\\' -->\\n\\n\\n<!-- THEME DEBUG -->\\n<!-- THEME HOOK: \\'views_view_field\\' -->\\n<!-- BEGIN OUTPUT from \\'core/themes/stable/templates/views/views-view-field.html.twig\\' -->\\n<li data-transition=\"random-premium\" data-slotamount=\"10\" data-masterspeed=\"400\">\\n                                        \\n\\n\\n\\n\\n  \\n\\n\\n\\n\\n\\n\\n\\n\\n\\n<img src=\"/sites/default/files/styles/2000/public/slideshow/2016-07/%E6%9C%AA%E6%A0%87%E9%A2%98000-1.jpg?itok=0J2XqFIs\" alt=\"\" typeof=\"Image\" class=\"image-style-_000\" />\\n\\n\\n\\n\\n\\n\\n\\n\\n\\n\\n\\n\\n                                        <div class=\"caption-wrapper\"><div class=\"tp-caption rev-title3 lft ltt\" data-x=\"center\" data-y=\"bottom\">\\n                                          <p class=\"p-title\"> 2015年5月北京语言大学全票加入国际翻译院校联盟 </p>\\n                                         <p class=\"p-desciption\">  </p>\\n                                        </div></div>\\n               \\n                                      \\n                                        \\n                                    </li>\\n<!-- END OUTPUT from \\'core/themes/stable/templates/views/views-view-field.html.twig\\' -->\\n\\n\\n<!-- END OUTPUT from \\'core/themes/stable/templates/views/views-view-fields.html.twig\\' -->\\n\\n\\n\\n  \\n    \\n\\n<!-- THEME DEBUG -->\\n<!-- THEME HOOK: \\'views_view_fields\\' -->\\n<!-- BEGIN OUTPUT from \\'core/themes/stable/templates/views/views-view-fields.html.twig\\' -->\\n\\n\\n<!-- THEME DEBUG -->\\n<!-- THEME HOOK: \\'views_view_field\\' -->\\n<!-- BEGIN OUTPUT from \\'core/themes/stable/templates/views/views-view-field.html.twig\\' -->\\n<li data-transition=\"random-premium\" data-slotamount=\"10\" data-masterspeed=\"400\">\\n                                        \\n\\n\\n\\n\\n  \\n\\n\\n\\n\\n\\n\\n\\n\\n\\n<img src=\"/sites/default/files/styles/2000/public/slideshow/2016-07/jiepai-2.jpg?itok=G_QwGd_7\" alt=\"\" typeof=\"Image\" class=\"image-style-_000\" />\\n\\n\\n\\n\\n\\n\\n\\n\\n\\n\\n\\n\\n                                        <div class=\"caption-wrapper\"><div class=\"tp-caption rev-title3 lft ltt\" data-x=\"center\" data-y=\"bottom\">\\n                                          <p class=\"p-title\"> 2016年5月19日北京语言大学中外语言服务人才培养基地正式成立 </p>\\n                                         <p class=\"p-desciption\">  </p>\\n                                        </div></div>\\n               \\n                                      \\n                                        \\n                                    </li>\\n<!-- END OUTPUT from \\'core/themes/stable/templates/views/views-view-field.html.twig\\' -->\\n\\n\\n<!-- END OUTPUT from \\'core/themes/stable/templates/views/views-view-fields.html.twig\\' -->\\n\\n\\n\\n  \\n    \\n\\n<!-- THEME DEBUG -->\\n<!-- THEME HOOK: \\'views_view_fields\\' -->\\n<!-- BEGIN OUTPUT from \\'core/themes/stable/templates/views/views-view-fields.html.twig\\' -->\\n\\n\\n<!-- THEME DEBUG -->\\n<!-- THEME HOOK: \\'views_view_field\\' -->\\n<!-- BEGIN OUTPUT from \\'core/themes/stable/templates/views/views-view-field.html.twig\\' -->\\n<li data-transition=\"random-premium\" data-slotamount=\"10\" data-masterspeed=\"400\">\\n                                        \\n\\n\\n\\n\\n  \\n\\n\\n\\n\\n\\n\\n\\n\\n\\n<img src=\"/sites/default/files/styles/2000/public/slideshow/2016-07/jiaoshiheying.jpg?itok=cl1O8oZW\" alt=\"\" typeof=\"Image\" class=\"image-style-_000\" />\\n\\n\\n\\n\\n\\n\\n\\n\\n\\n\\n\\n\\n                                        <div class=\"caption-wrapper\"><div class=\"tp-caption rev-title3 lft ltt\" data-x=\"center\" data-y=\"bottom\">\\n                                          <p class=\"p-title\"> 高级翻译学院全体教师合影 </p>\\n                                         <p class=\"p-desciption\">  </p>\\n                                        </div></div>\\n               \\n                                      \\n                                        \\n                                    </li>\\n<!-- END OUTPUT from \\'core/themes/stable/templates/views/views-view-field.html.twig\\' -->\\n\\n\\n<!-- END OUTPUT from \\'core/themes/stable/templates/views/views-view-fields.html.twig\\' -->\\n\\n\\n\\n  \\n    \\n\\n<!-- THEME DEBUG -->\\n<!-- THEME HOOK: \\'views_view_fields\\' -->\\n<!-- BEGIN OUTPUT from \\'core/themes/stable/templates/views/views-view-fields.html.twig\\' -->\\n\\n\\n<!-- THEME DEBUG -->\\n<!-- THEME HOOK: \\'views_view_field\\' -->\\n<!-- BEGIN OUTPUT from \\'core/themes/stable/templates/views/views-view-field.html.twig\\' -->\\n<li data-transition=\"random-premium\" data-slotamount=\"10\" data-masterspeed=\"400\">\\n                                        \\n\\n\\n\\n\\n  \\n\\n\\n\\n\\n\\n\\n\\n\\n\\n<img src=\"/sites/default/files/styles/2000/public/slideshow/2016-07/%E6%9C%AA%E6%A0%87%E9%A2%98-1%20%E6%8B%B70000%E8%B4%9D.jpg?itok=Yd1dPDpI\" alt=\"\" typeof=\"Image\" class=\"image-style-_000\" />\\n\\n\\n\\n\\n\\n\\n\\n\\n\\n\\n\\n\\n                                        <div class=\"caption-wrapper\"><div class=\"tp-caption rev-title3 lft ltt\" data-x=\"center\" data-y=\"bottom\">\\n                                          <p class=\"p-title\"> 高级翻译学院部分中外学生合影 </p>\\n                                         <p class=\"p-desciption\">  </p>\\n                                        </div></div>\\n               \\n                                      \\n                                        \\n                                    </li>\\n<!-- END OUTPUT from \\'core/themes/stable/templates/views/views-view-field.html.twig\\' -->\\n\\n\\n<!-- END OUTPUT from \\'core/themes/stable/templates/views/views-view-fields.html.twig\\' -->\\n\\n\\n\\n\\n\\n<!-- END OUTPUT from \\'themes/gaofan/templates/views/slideshow/views-view-unformatted--slideshow.html.twig\\' -->\\n\\n\\n    </ul>\\n  \\n          </div>\\n\\n<!-- END OUTPUT from \\'themes/gaofan/templates/views/slideshow/views-view--slideshow.html.twig\\' -->\\n\\n</div>\\n\\n<!-- END OUTPUT from \\'core/themes/classy/templates/form/container.html.twig\\' -->\\n\\n\\n        </div>\\n\\n        <div class=\"onepage-section\">\\n            <div class=\"section-inner\">\\n                <div class=\"notice\">\\n                    <div class=\"row col-1\">\\n                        <header class=\"section-header\">\\n                            <h2 class=\"section-title\">\\n                                通知公告\\n                        <span class=\"section-title-border\">\\n                        </span>\\n                            </h2>\\n                        </header>\\n                        <div class=\"md-margin\"></div>\\n                        \\n\\n<!-- THEME DEBUG -->\\n<!-- THEME HOOK: \\'container\\' -->\\n<!-- BEGIN OUTPUT from \\'core/themes/classy/templates/form/container.html.twig\\' -->\\n<div class=\"views-element-container\">\\n\\n<!-- THEME DEBUG -->\\n<!-- THEME HOOK: \\'views_view\\' -->\\n<!-- BEGIN OUTPUT from \\'core/themes/classy/templates/views/views-view.html.twig\\' -->\\n<div class=\"view view-news view-id-news view-display-id-block_1 js-view-dom-id-42be0e4bdca44e8ba3d20af54237f645114fe102db31adf2f5e2115676bffcf5\">\\n  \\n    \\n      \\n      <div class=\"view-content\">\\n      \\n\\n<!-- THEME DEBUG -->\\n<!-- THEME HOOK: \\'views_view_unformatted\\' -->\\n<!-- BEGIN OUTPUT from \\'core/themes/classy/templates/views/views-view-unformatted.html.twig\\' -->\\n    <div>\\n    \\n\\n<!-- THEME DEBUG -->\\n<!-- THEME HOOK: \\'views_view_fields\\' -->\\n<!-- BEGIN OUTPUT from \\'core/themes/stable/templates/views/views-view-fields.html.twig\\' -->\\n\\n\\n<!-- THEME DEBUG -->\\n<!-- THEME HOOK: \\'views_view_field\\' -->\\n<!-- BEGIN OUTPUT from \\'core/themes/stable/templates/views/views-view-field.html.twig\\' -->\\n<div class=\"accordion-group panel\">\\n                                                    <div class=\"accordion-title\">\\n                                                      <h3> <a href=\"/zh-hans/node/6850\" hreflang=\"zh-hans\">北京语言大学第六届国际口笔译大赛火热来袭</a></h5>\\n                                                      <a class=\"accordion-btn\" data-toggle=\"collapse\" data-parent=\"#accordion\" href=\"#6850\">\\n                                                      </a>\\n                                                    </div>\\n                                                    <div class=\"accordion-body collapse \" id=\"6850\">\\n                                                      <div class=\"accordion-body-wrapper\">\\n                                                        <p>一、大赛背景</p>\\n\\n<p><strong>举办目的：</strong>为提高中外大学生的文化交流能力、发掘优秀翻译人才、促进翻译行业的繁荣与发展，北京语言大学自2011年开始举办国际口笔译大赛。大赛由北京语言大学主办，外国语学部高级翻译学院承办，意在展示北语国际化、专业化的学术氛围和多元化的办学特色，引导公众关注时事热点，拓宽译者视野并增强其文化沟通能力。</p>\\n                                                        <h4 class=\"float_right readmore\">\\n                                                            <a href=\"/zh-hans/node/6850 \" target=\"_blank\">\\n                                                                查看详情&gt;\\n                                                            </a>\\n                                                        </h4>\\n                                                      </div>\\n                                                    </div>\\n                                                  </div>\\n<!-- END OUTPUT from \\'core/themes/stable/templates/views/views-view-field.html.twig\\' -->\\n\\n\\n<!-- END OUTPUT from \\'core/themes/stable/templates/views/views-view-fields.html.twig\\' -->\\n\\n\\n  </div>\\n    <div>\\n    \\n\\n<!-- THEME DEBUG -->\\n<!-- THEME HOOK: \\'views_view_fields\\' -->\\n<!-- BEGIN OUTPUT from \\'core/themes/stable/templates/views/views-view-fields.html.twig\\' -->\\n\\n\\n<!-- THEME DEBUG -->\\n<!-- THEME HOOK: \\'views_view_field\\' -->\\n<!-- BEGIN OUTPUT from \\'core/themes/stable/templates/views/views-view-field.html.twig\\' -->\\n<div class=\"accordion-group panel\">\\n                                                    <div class=\"accordion-title\">\\n                                                      <h3> <a href=\"/zh-hans/node/6841\" hreflang=\"zh-hans\">翻译学讲座：谢天振教授</a></h5>\\n                                                      <a class=\"accordion-btn\" data-toggle=\"collapse\" data-parent=\"#accordion\" href=\"#6841\">\\n                                                      </a>\\n                                                    </div>\\n                                                    <div class=\"accordion-body collapse \" id=\"6841\">\\n                                                      <div class=\"accordion-body-wrapper\">\\n                                                        <p><strong>主讲人简介：</strong></p>\\n                                                        <h4 class=\"float_right readmore\">\\n                                                            <a href=\"/zh-hans/node/6841 \" target=\"_blank\">\\n                                                                查看详情&gt;\\n                                                            </a>\\n                                                        </h4>\\n                                                      </div>\\n                                                    </div>\\n                                                  </div>\\n<!-- END OUTPUT from \\'core/themes/stable/templates/views/views-view-field.html.twig\\' -->\\n\\n\\n<!-- END OUTPUT from \\'core/themes/stable/templates/views/views-view-fields.html.twig\\' -->\\n\\n\\n  </div>\\n    <div>\\n    \\n\\n<!-- THEME DEBUG -->\\n<!-- THEME HOOK: \\'views_view_fields\\' -->\\n<!-- BEGIN OUTPUT from \\'core/themes/stable/templates/views/views-view-fields.html.twig\\' -->\\n\\n\\n<!-- THEME DEBUG -->\\n<!-- THEME HOOK: \\'views_view_field\\' -->\\n<!-- BEGIN OUTPUT from \\'core/themes/stable/templates/views/views-view-field.html.twig\\' -->\\n<div class=\"accordion-group panel\">\\n                                                    <div class=\"accordion-title\">\\n                                                      <h3> <a href=\"/zh-hans/node/6826\" hreflang=\"zh-hans\">翻译学讲座：Degueldre C. </a></h5>\\n                                                      <a class=\"accordion-btn\" data-toggle=\"collapse\" data-parent=\"#accordion\" href=\"#6826\">\\n                                                      </a>\\n                                                    </div>\\n                                                    <div class=\"accordion-body collapse \" id=\"6826\">\\n                                                      <div class=\"accordion-body-wrapper\">\\n                                                        <img alt=\"Christian\" data-entity-type=\"file\" data-entity-uuid=\"bdcce3da-1035-4d86-9d9c-482b6174dd74\" src=\"/sites/default/files/inline-images/image002.jpg\" class=\"align-center\" /><ul><li class=\"text-al&lt;/body&gt;&lt;/html&gt;\"></li></ul>\\n                                                        <h4 class=\"float_right readmore\">\\n                                                            <a href=\"/zh-hans/node/6826 \" target=\"_blank\">\\n                                                                查看详情&gt;\\n                                                            </a>\\n                                                        </h4>\\n                                                      </div>\\n                                                    </div>\\n                                                  </div>\\n<!-- END OUTPUT from \\'core/themes/stable/templates/views/views-view-field.html.twig\\' -->\\n\\n\\n<!-- END OUTPUT from \\'core/themes/stable/templates/views/views-view-fields.html.twig\\' -->\\n\\n\\n  </div>\\n    <div>\\n    \\n\\n<!-- THEME DEBUG -->\\n<!-- THEME HOOK: \\'views_view_fields\\' -->\\n<!-- BEGIN OUTPUT from \\'core/themes/stable/templates/views/views-view-fields.html.twig\\' -->\\n\\n\\n<!-- THEME DEBUG -->\\n<!-- THEME HOOK: \\'views_view_field\\' -->\\n<!-- BEGIN OUTPUT from \\'core/themes/stable/templates/views/views-view-field.html.twig\\' -->\\n<div class=\"accordion-group panel\">\\n                                                    <div class=\"accordion-title\">\\n                                                      <h3> <a href=\"/zh-hans/node/6825\" hreflang=\"zh-hans\">翻译学讲座：Angelelli C. V. </a></h5>\\n                                                      <a class=\"accordion-btn\" data-toggle=\"collapse\" data-parent=\"#accordion\" href=\"#6825\">\\n                                                      </a>\\n                                                    </div>\\n                                                    <div class=\"accordion-body collapse \" id=\"6825\">\\n                                                      <div class=\"accordion-body-wrapper\">\\n                                                        <img alt=\"Claudia\" data-entity-type=\"file\" data-entity-uuid=\"b39da95f-8745-472b-9c01-ed52f74ff466\" src=\"/sites/default/files/inline-images/image001.jpg\" class=\"align-center\" /><ul></ul>\\n                                                        <h4 class=\"float_right readmore\">\\n                                                            <a href=\"/zh-hans/node/6825 \" target=\"_blank\">\\n                                                                查看详情&gt;\\n                                                            </a>\\n                                                        </h4>\\n                                                      </div>\\n                                                    </div>\\n                                                  </div>\\n<!-- END OUTPUT from \\'core/themes/stable/templates/views/views-view-field.html.twig\\' -->\\n\\n\\n<!-- END OUTPUT from \\'core/themes/stable/templates/views/views-view-fields.html.twig\\' -->\\n\\n\\n  </div>\\n    <div>\\n    \\n\\n<!-- THEME DEBUG -->\\n<!-- THEME HOOK: \\'views_view_fields\\' -->\\n<!-- BEGIN OUTPUT from \\'core/themes/stable/templates/views/views-view-fields.html.twig\\' -->\\n\\n\\n<!-- THEME DEBUG -->\\n<!-- THEME HOOK: \\'views_view_field\\' -->\\n<!-- BEGIN OUTPUT from \\'core/themes/stable/templates/views/views-view-field.html.twig\\' -->\\n<div class=\"accordion-group panel\">\\n                                                    <div class=\"accordion-title\">\\n                                                      <h3> <a href=\"/zh-hans/node/6811\" hreflang=\"zh-hans\">翻译学讲座：Gile D. </a></h5>\\n                                                      <a class=\"accordion-btn\" data-toggle=\"collapse\" data-parent=\"#accordion\" href=\"#6811\">\\n                                                      </a>\\n                                                    </div>\\n                                                    <div class=\"accordion-body collapse \" id=\"6811\">\\n                                                      <div class=\"accordion-body-wrapper\">\\n                                                        <p>巴黎新索邦第三大学高等翻译学校终身教授、国际著名口译研究学者Daniel\\xa0GILE先生将于10月8日至14日莅临北语，并于10月10日、11日为我校师生做讲座。</p>\\n                                                        <h4 class=\"float_right readmore\">\\n                                                            <a href=\"/zh-hans/node/6811 \" target=\"_blank\">\\n                                                                查看详情&gt;\\n                                                            </a>\\n                                                        </h4>\\n                                                      </div>\\n                                                    </div>\\n                                                  </div>\\n<!-- END OUTPUT from \\'core/themes/stable/templates/views/views-view-field.html.twig\\' -->\\n\\n\\n<!-- END OUTPUT from \\'core/themes/stable/templates/views/views-view-fields.html.twig\\' -->\\n\\n\\n  </div>\\n    <div>\\n    \\n\\n<!-- THEME DEBUG -->\\n<!-- THEME HOOK: \\'views_view_fields\\' -->\\n<!-- BEGIN OUTPUT from \\'core/themes/stable/templates/views/views-view-fields.html.twig\\' -->\\n\\n\\n<!-- THEME DEBUG -->\\n<!-- THEME HOOK: \\'views_view_field\\' -->\\n<!-- BEGIN OUTPUT from \\'core/themes/stable/templates/views/views-view-field.html.twig\\' -->\\n<div class=\"accordion-group panel\">\\n                                                    <div class=\"accordion-title\">\\n                                                      <h3> <a href=\"/zh-hans/node/243\" hreflang=\"zh-hans\">高级翻译学院首届新生口语风采大赛顺利举行</a></h5>\\n                                                      <a class=\"accordion-btn\" data-toggle=\"collapse\" data-parent=\"#accordion\" href=\"#243\">\\n                                                      </a>\\n                                                    </div>\\n                                                    <div class=\"accordion-body collapse \" id=\"243\">\\n                                                      <div class=\"accordion-body-wrapper\">\\n                                                        <p>\\xa0\\xa0\\xa0\\xa0\\xa0 9月29日晚7时，外国语学部高级翻译学院2015级新生口语风采大赛在教二楼408准时开始。刘丹老师、韩林涛老师和研二MTI英语笔译学生潘鑫应邀出席担任评委。本场比赛由14翻译（英语）班袁浩鹏担任主持。15翻译（英语）班宋喆、施梦泽、郑怀宇，15翻译（汉英法）班申以松、刘俊如、周涵宇，15翻译（本地化）班徐越方洲、易可可、余杨名参加比赛。</p>\\n                                                        <h4 class=\"float_right readmore\">\\n                                                            <a href=\"/zh-hans/node/243 \" target=\"_blank\">\\n                                                                查看详情&gt;\\n                                                            </a>\\n                                                        </h4>\\n                                                      </div>\\n                                                    </div>\\n                                                  </div>\\n<!-- END OUTPUT from \\'core/themes/stable/templates/views/views-view-field.html.twig\\' -->\\n\\n\\n<!-- END OUTPUT from \\'core/themes/stable/templates/views/views-view-fields.html.twig\\' -->\\n\\n\\n  </div>\\n    <div>\\n    \\n\\n<!-- THEME DEBUG -->\\n<!-- THEME HOOK: \\'views_view_fields\\' -->\\n<!-- BEGIN OUTPUT from \\'core/themes/stable/templates/views/views-view-fields.html.twig\\' -->\\n\\n\\n<!-- THEME DEBUG -->\\n<!-- THEME HOOK: \\'views_view_field\\' -->\\n<!-- BEGIN OUTPUT from \\'core/themes/stable/templates/views/views-view-field.html.twig\\' -->\\n<div class=\"accordion-group panel\">\\n                                                    <div class=\"accordion-title\">\\n                                                      <h3> <a href=\"/zh-hans/node/242\" hreflang=\"zh-hans\">外国语学部高级翻译学院与新华社《摄影世界》翻译项目总结会顺利召开</a></h5>\\n                                                      <a class=\"accordion-btn\" data-toggle=\"collapse\" data-parent=\"#accordion\" href=\"#242\">\\n                                                      </a>\\n                                                    </div>\\n                                                    <div class=\"accordion-body collapse \" id=\"242\">\\n                                                      <div class=\"accordion-body-wrapper\">\\n                                                        <p>2015年9月23日上午，由外国语学部高级翻译学院与新华通讯社《摄影世界》杂志社合作的“摄影世界翻译项目”总结会在教二楼401召开。到会人员有：原《摄影世界》编辑张曦、高翻学院卢宁老师以及18名项目组成员。2015级MTI研一英语笔译方向的学生观摩了此次总结会。</p>\\n                                                        <h4 class=\"float_right readmore\">\\n                                                            <a href=\"/zh-hans/node/242 \" target=\"_blank\">\\n                                                                查看详情&gt;\\n                                                            </a>\\n                                                        </h4>\\n                                                      </div>\\n                                                    </div>\\n                                                  </div>\\n<!-- END OUTPUT from \\'core/themes/stable/templates/views/views-view-field.html.twig\\' -->\\n\\n\\n<!-- END OUTPUT from \\'core/themes/stable/templates/views/views-view-fields.html.twig\\' -->\\n\\n\\n  </div>\\n    <div>\\n    \\n\\n<!-- THEME DEBUG -->\\n<!-- THEME HOOK: \\'views_view_fields\\' -->\\n<!-- BEGIN OUTPUT from \\'core/themes/stable/templates/views/views-view-fields.html.twig\\' -->\\n\\n\\n<!-- THEME DEBUG -->\\n<!-- THEME HOOK: \\'views_view_field\\' -->\\n<!-- BEGIN OUTPUT from \\'core/themes/stable/templates/views/views-view-field.html.twig\\' -->\\n<div class=\"accordion-group panel\">\\n                                                    <div class=\"accordion-title\">\\n                                                      <h3> <a href=\"/zh-hans/node/241\" hreflang=\"zh-hans\">“译”路同行，与你并肩</a></h5>\\n                                                      <a class=\"accordion-btn\" data-toggle=\"collapse\" data-parent=\"#accordion\" href=\"#241\">\\n                                                      </a>\\n                                                    </div>\\n                                                    <div class=\"accordion-body collapse \" id=\"241\">\\n                                                      <div class=\"accordion-body-wrapper\">\\n                                                        <p align=\"right\">——记外国语学部高级翻译学院2015-2016学年新老生交流会</p>\\n\\n<p align=\"left\">\\xa0\\xa0\\xa0\\xa0\\xa0 9月22日18:30，外国语学部高级翻译学院2015-2016学年新老生交流会在教二楼201顺利举行。高级翻译学院2015级本科生新生及本科生、研究生学长学姐代表准时到场，大家共同度过了一个温馨而难忘的夜晚。</p>\\n                                                        <h4 class=\"float_right readmore\">\\n                                                            <a href=\"/zh-hans/node/241 \" target=\"_blank\">\\n                                                                查看详情&gt;\\n                                                            </a>\\n                                                        </h4>\\n                                                      </div>\\n                                                    </div>\\n                                                  </div>\\n<!-- END OUTPUT from \\'core/themes/stable/templates/views/views-view-field.html.twig\\' -->\\n\\n\\n<!-- END OUTPUT from \\'core/themes/stable/templates/views/views-view-fields.html.twig\\' -->\\n\\n\\n  </div>\\n\\n<!-- END OUTPUT from \\'core/themes/classy/templates/views/views-view-unformatted.html.twig\\' -->\\n\\n\\n    </div>\\n  \\n          </div>\\n\\n<!-- END OUTPUT from \\'core/themes/classy/templates/views/views-view.html.twig\\' -->\\n\\n</div>\\n\\n<!-- END OUTPUT from \\'core/themes/classy/templates/form/container.html.twig\\' -->\\n\\n\\n                    </div>\\n\\n                </div>\\n            </div>\\n        </div>\\n    </section>\\n\\n\\n\\n    <section id=\"aboutus\">\\n        <div class=\"onepage-section\">\\n            <div class=\"section-inner\">\\n                <div class=\"aboutus-content\">\\n                    <div class=\"row\">\\n                        <div class=\"col-2\">\\n                            <header class=\"section-header\">\\n                                <h2 class=\"section-title\">\\n                                    院长寄语\\n                           <span class=\"section-title-border\">\\n                           </span>\\n                                </h2>\\n                            </header>\\n                            <div class=\"md-margin\"></div>\\n                            <div class=\"testimonials-slider-container\">\\n                                <div class=\"flexslider testimonials-slider\">\\n                                    <ul class=\"slides\">\\n                                        \\n\\n<!-- THEME DEBUG -->\\n<!-- THEME HOOK: \\'container\\' -->\\n<!-- BEGIN OUTPUT from \\'core/themes/classy/templates/form/container.html.twig\\' -->\\n<div class=\"views-element-container\">\\n\\n<!-- THEME DEBUG -->\\n<!-- THEME HOOK: \\'views_view__teacher_word\\' -->\\n<!-- FILE NAME SUGGESTIONS:\\n   x views-view--teacher-word.html.twig\\n   x views-view--teacher-word.html.twig\\n   * views-view.html.twig\\n-->\\n<!-- BEGIN OUTPUT from \\'themes/gaofan/templates/views/teacher_word/views-view--teacher-word.html.twig\\' -->\\n<div class=\"view view-teacher-word view-id-teacher_word view-display-id-embed_2 js-view-dom-id-7d81302e22857eadb66b653d1f22dbbc214cb87a07fe675ee82864f18a1705c5\">\\n  \\n    \\n      \\n      <ul class=\"slides\">\\n      \\n\\n<!-- THEME DEBUG -->\\n<!-- THEME HOOK: \\'views_view_unformatted__teacher_word\\' -->\\n<!-- FILE NAME SUGGESTIONS:\\n   x views-view-unformatted--teacher-word.html.twig\\n   x views-view-unformatted--teacher-word.html.twig\\n   * views-view-unformatted.html.twig\\n-->\\n<!-- BEGIN OUTPUT from \\'themes/gaofan/templates/views/teacher_word/views-view-unformatted--teacher-word.html.twig\\' -->\\n  \\n    \\n\\n<!-- THEME DEBUG -->\\n<!-- THEME HOOK: \\'views_view_fields\\' -->\\n<!-- BEGIN OUTPUT from \\'core/themes/stable/templates/views/views-view-fields.html.twig\\' -->\\n\\n\\n<!-- THEME DEBUG -->\\n<!-- THEME HOOK: \\'views_view_field\\' -->\\n<!-- BEGIN OUTPUT from \\'core/themes/stable/templates/views/views-view-field.html.twig\\' -->\\n<li>\\n\\t<div class=\"testimonial-content\">\\n\\t\\t<p class=\"text-align-center\">五年光阴飞如箭，翻译界内添后生。<br />\\n专家学者贺声起，呵护雏儿渐成鹰。<br />\\n而今孩童双臂展，笑迎挚友与高朋。<br />\\n群英阔论译大业，携手踏上新征程。</p>\\n\\n<p class=\"text-align-justify\">\\xa0 \\xa0 翻译、专业翻译、翻译教育、翻译产业；本地化、语言服务、语言服务产业、语言服务贸易……五年… <a href=\"/zh-hans/node/6813\" hreflang=\"zh-hans\">更多</a>\\n\\t</div>\\n\\t\\n\\n\\n\\n\\n  \\n\\n\\n\\n\\n<img src=\"/sites/default/files/2016-09/liuheping_0.jpg\" alt=\"刘和平\" typeof=\"Image\" />\\n\\n\\n\\n\\n\\n\\n\\n\\n\\t<div class=\"testimonial-owner\">\\n\\t\\t<a href=\"/zh-hans/node/6813\" hreflang=\"zh-hans\">名誉院长 刘和平</a> \\n\\t</div>\\n</li>\\n<!-- END OUTPUT from \\'core/themes/stable/templates/views/views-view-field.html.twig\\' -->\\n\\n\\n<!-- END OUTPUT from \\'core/themes/stable/templates/views/views-view-fields.html.twig\\' -->\\n\\n\\n\\n  \\n    \\n\\n<!-- THEME DEBUG -->\\n<!-- THEME HOOK: \\'views_view_fields\\' -->\\n<!-- BEGIN OUTPUT from \\'core/themes/stable/templates/views/views-view-fields.html.twig\\' -->\\n\\n\\n<!-- THEME DEBUG -->\\n<!-- THEME HOOK: \\'views_view_field\\' -->\\n<!-- BEGIN OUTPUT from \\'core/themes/stable/templates/views/views-view-field.html.twig\\' -->\\n<li>\\n\\t<div class=\"testimonial-content\">\\n\\t\\t<p class=\"text-align-justify\">欢迎各位同学带着青春洋溢的笑脸、怀揣着梦想与希望，来到北语高翻，来感受北语小联合国的豁达、开朗和包容！期待大家，在四年大学生活里，能与时俱进、笃学诚行、矢志不渝。在专攻术业的同时，别忘了锤炼自己的品行、涵养自己的情怀。当遇到困难时，要学会不断地调整自己，勇往无前；要有指点江山的豪情壮志，也要有编织梦想、构造明天的坚定信念！相信在四年时光的尽头，大家会在这里收获知识、能力、涵养、友情，尤其是通向未来的光明之路。期待着每一位同学都成为胸怀天… <a href=\"/zh-hans/node/6814\" hreflang=\"zh-hans\">更多</a>\\n\\t</div>\\n\\t\\n\\n\\n\\n\\n  \\n\\n\\n\\n\\n<img src=\"/sites/default/files/2016-10/%E6%9C%AA%E6%A0%87%E9%A2%98-500%20%E6%8B%B7%E8%B4%9D_0.jpg\" alt=\"xuming\" typeof=\"Image\" />\\n\\n\\n\\n\\n\\n\\n\\n\\n\\t<div class=\"testimonial-owner\">\\n\\t\\t<a href=\"/zh-hans/node/6814\" hreflang=\"zh-hans\">副院长 许明</a> \\n\\t</div>\\n</li>\\n<!-- END OUTPUT from \\'core/themes/stable/templates/views/views-view-field.html.twig\\' -->\\n\\n\\n<!-- END OUTPUT from \\'core/themes/stable/templates/views/views-view-fields.html.twig\\' -->\\n\\n\\n\\n\\n<!-- END OUTPUT from \\'themes/gaofan/templates/views/teacher_word/views-view-unformatted--teacher-word.html.twig\\' -->\\n\\n\\n    </ul>\\n  \\n          </div>\\n\\n<!-- END OUTPUT from \\'themes/gaofan/templates/views/teacher_word/views-view--teacher-word.html.twig\\' -->\\n\\n</div>\\n\\n<!-- END OUTPUT from \\'core/themes/classy/templates/form/container.html.twig\\' -->\\n\\n\\n                                    </ul>\\n                                </div>\\n                            </div>\\n                        </div>\\n                        <div class=\"col-2\">\\n                            <header class=\"section-header\">\\n                                <h2 class=\"section-title\">\\n                                    教师寄语\\n                           <span class=\"section-title-border\">\\n                           </span>\\n                                </h2>\\n                            </header>\\n                            <div class=\"md-margin\"></div>\\n                            <div class=\"testimonials-slider-container\">\\n                                <div class=\"flexslider testimonials-slider\">\\n                                    <ul class=\"slides\">\\n                                        \\n\\n<!-- THEME DEBUG -->\\n<!-- THEME HOOK: \\'container\\' -->\\n<!-- BEGIN OUTPUT from \\'core/themes/classy/templates/form/container.html.twig\\' -->\\n<div class=\"views-element-container\">\\n\\n<!-- THEME DEBUG -->\\n<!-- THEME HOOK: \\'views_view__teacher_word\\' -->\\n<!-- FILE NAME SUGGESTIONS:\\n   x views-view--teacher-word.html.twig\\n   x views-view--teacher-word.html.twig\\n   * views-view.html.twig\\n-->\\n<!-- BEGIN OUTPUT from \\'themes/gaofan/templates/views/teacher_word/views-view--teacher-word.html.twig\\' -->\\n<div class=\"view view-teacher-word view-id-teacher_word view-display-id-embed_1 js-view-dom-id-b4ad33e833001436320d700a509616beebc5c024a556207182ae4f9e31c94d96\">\\n  \\n    \\n      \\n      <ul class=\"slides\">\\n      \\n\\n<!-- THEME DEBUG -->\\n<!-- THEME HOOK: \\'views_view_unformatted__teacher_word\\' -->\\n<!-- FILE NAME SUGGESTIONS:\\n   x views-view-unformatted--teacher-word.html.twig\\n   x views-view-unformatted--teacher-word.html.twig\\n   * views-view-unformatted.html.twig\\n-->\\n<!-- BEGIN OUTPUT from \\'themes/gaofan/templates/views/teacher_word/views-view-unformatted--teacher-word.html.twig\\' -->\\n  \\n    \\n\\n<!-- THEME DEBUG -->\\n<!-- THEME HOOK: \\'views_view_fields\\' -->\\n<!-- BEGIN OUTPUT from \\'core/themes/stable/templates/views/views-view-fields.html.twig\\' -->\\n\\n\\n<!-- THEME DEBUG -->\\n<!-- THEME HOOK: \\'views_view_field\\' -->\\n<!-- BEGIN OUTPUT from \\'core/themes/stable/templates/views/views-view-field.html.twig\\' -->\\n<li>\\n\\t<div class=\"testimonial-content\">\\n\\t\\t<p class=\"text-align-justify\">翻译，一个内涵很丰富的词。<a name=\"_GoBack\" id=\"_GoBack\"></a>我做翻译；我教翻译；我研究翻译。我热爱翻译；我担心翻译得不好；我生怕完不成翻译。我在各门翻译课程中游走，穿梭在各个水平的学生之间，从语言基础到专业素养，每天都在纠结中度过。从兴趣出发，在自己与学生的翻译实践中发现问题，由学生的提问到自己的思考，翻译研究未必是那么高大上而不可为之事。</p>…  <a href=\"/zh-hans/node/6815\" hreflang=\"zh-hans\">更多</a>\\n\\t</div>\\n\\t\\n\\n\\n\\n\\n  \\n\\n\\n\\n\\n<img src=\"/sites/default/files/2016-10/yaohong.jpg\" alt=\"姚虹\" typeof=\"Image\" />\\n\\n\\n\\n\\n\\n\\n\\n\\n\\t<div class=\"testimonial-owner\">\\n\\t\\t<a href=\"/zh-hans/node/6815\" hreflang=\"zh-hans\">姚虹</a> \\n\\t</div>\\n</li>\\n<!-- END OUTPUT from \\'core/themes/stable/templates/views/views-view-field.html.twig\\' -->\\n\\n\\n<!-- END OUTPUT from \\'core/themes/stable/templates/views/views-view-fields.html.twig\\' -->\\n\\n\\n\\n  \\n    \\n\\n<!-- THEME DEBUG -->\\n<!-- THEME HOOK: \\'views_view_fields\\' -->\\n<!-- BEGIN OUTPUT from \\'core/themes/stable/templates/views/views-view-fields.html.twig\\' -->\\n\\n\\n<!-- THEME DEBUG -->\\n<!-- THEME HOOK: \\'views_view_field\\' -->\\n<!-- BEGIN OUTPUT from \\'core/themes/stable/templates/views/views-view-field.html.twig\\' -->\\n<li>\\n\\t<div class=\"testimonial-content\">\\n\\t\\t<p class=\"text-align-justify\">翻译专业的学习虽如同行走在布满荆棘的小路上，但一路走来却也总能发现美好，就像艾米莉·狄金森那首诗歌所描绘的：</p>\\n\\n<p>A SEPAL, petal, and a thorn</p>\\n\\n<p>Upon a common summer’s morn,</p>…  <a href=\"/zh-hans/node/6816\" hreflang=\"zh-hans\">更多</a>\\n\\t</div>\\n\\t\\n\\n\\n\\n\\n  \\n\\n\\n\\n\\n<img src=\"/sites/default/files/2016-10/liudan.jpg\" alt=\"刘丹\" typeof=\"Image\" />\\n\\n\\n\\n\\n\\n\\n\\n\\n\\t<div class=\"testimonial-owner\">\\n\\t\\t<a href=\"/zh-hans/node/6816\" hreflang=\"zh-hans\">刘丹</a> \\n\\t</div>\\n</li>\\n<!-- END OUTPUT from \\'core/themes/stable/templates/views/views-view-field.html.twig\\' -->\\n\\n\\n<!-- END OUTPUT from \\'core/themes/stable/templates/views/views-view-fields.html.twig\\' -->\\n\\n\\n\\n  \\n    \\n\\n<!-- THEME DEBUG -->\\n<!-- THEME HOOK: \\'views_view_fields\\' -->\\n<!-- BEGIN OUTPUT from \\'core/themes/stable/templates/views/views-view-fields.html.twig\\' -->\\n\\n\\n<!-- THEME DEBUG -->\\n<!-- THEME HOOK: \\'views_view_field\\' -->\\n<!-- BEGIN OUTPUT from \\'core/themes/stable/templates/views/views-view-field.html.twig\\' -->\\n<li>\\n\\t<div class=\"testimonial-content\">\\n\\t\\t<p class=\"text-align-justify\">德国哲学家雅斯贝尔斯在《大学的理念》里表示：人类对知识有一种原初的渴望。这种渴望与热忱，是一切学科的永恒基础。</p>\\n\\n<p class=\"text-align-justify\">在电子时代，巨额财富可以瞬间转移，海量资料也能轻松复制。唯有智识经验，必须通过系统严格的训练才能渐次领悟。这是现代大学教育的公平之处，是它在日益物质化的商品社会面前得以存续的理由。</p>\\n\\n<p class=\"text-align-justify\">世界变…  <a href=\"/zh-hans/node/6817\" hreflang=\"zh-hans\">更多</a>\\n\\t</div>\\n\\t\\n\\n\\n\\n\\n  \\n\\n\\n\\n\\n<img src=\"/sites/default/files/2016-10/DSC_868431.jpg\" alt=\"李晖\" typeof=\"Image\" />\\n\\n\\n\\n\\n\\n\\n\\n\\n\\t<div class=\"testimonial-owner\">\\n\\t\\t<a href=\"/zh-hans/node/6817\" hreflang=\"zh-hans\">李晖</a> \\n\\t</div>\\n</li>\\n<!-- END OUTPUT from \\'core/themes/stable/templates/views/views-view-field.html.twig\\' -->\\n\\n\\n<!-- END OUTPUT from \\'core/themes/stable/templates/views/views-view-fields.html.twig\\' -->\\n\\n\\n\\n  \\n    \\n\\n<!-- THEME DEBUG -->\\n<!-- THEME HOOK: \\'views_view_fields\\' -->\\n<!-- BEGIN OUTPUT from \\'core/themes/stable/templates/views/views-view-fields.html.twig\\' -->\\n\\n\\n<!-- THEME DEBUG -->\\n<!-- THEME HOOK: \\'views_view_field\\' -->\\n<!-- BEGIN OUTPUT from \\'core/themes/stable/templates/views/views-view-field.html.twig\\' -->\\n<li>\\n\\t<div class=\"testimonial-content\">\\n\\t\\t<p></p>\\n\\n<p class=\"text-align-justify\">希望高翻学子保有敏锐、好奇的求知欲，拥有开放、包容的心灵。广泛阅读，勤于探索，勇于创新，锻炼坚韧的意志，获得坚定的态度。愿大家在贡献社会中实现自己的价值，获得幸福美满的生活、充实自足的人生。</p>\\n\\n<p class=\"text-align-justify\">\\xa0</p>\\n\\n<p class=\"text-align-justify\">\\xa0</p>  <a href=\"/zh-hans/node/6820\" hreflang=\"zh-hans\">更多</a>\\n\\t</div>\\n\\t\\n\\n\\n\\n\\n  \\n\\n\\n\\n\\n<img src=\"/sites/default/files/2016-10/wangqian_2.jpg\" alt=\"王茜\" typeof=\"Image\" />\\n\\n\\n\\n\\n\\n\\n\\n\\n\\t<div class=\"testimonial-owner\">\\n\\t\\t<a href=\"/zh-hans/node/6820\" hreflang=\"zh-hans\">王茜</a> \\n\\t</div>\\n</li>\\n<!-- END OUTPUT from \\'core/themes/stable/templates/views/views-view-field.html.twig\\' -->\\n\\n\\n<!-- END OUTPUT from \\'core/themes/stable/templates/views/views-view-fields.html.twig\\' -->\\n\\n\\n\\n  \\n    \\n\\n<!-- THEME DEBUG -->\\n<!-- THEME HOOK: \\'views_view_fields\\' -->\\n<!-- BEGIN OUTPUT from \\'core/themes/stable/templates/views/views-view-fields.html.twig\\' -->\\n\\n\\n<!-- THEME DEBUG -->\\n<!-- THEME HOOK: \\'views_view_field\\' -->\\n<!-- BEGIN OUTPUT from \\'core/themes/stable/templates/views/views-view-field.html.twig\\' -->\\n<li>\\n\\t<div class=\"testimonial-content\">\\n\\t\\t<p></p>\\n\\n<p>北语高翻，年幼，生于无名，筚路蓝缕。幸根正，天资聪颖，机敏好学，视野高远，扎实向上，历经五载，已体系完瑾，发育实硕，跻身世界高手之林。风霜雨露降，日月星辰转，仍未有歇，挑战未几。当昂扬奋发，来者无往，扎深根，繁茂叶，广结伴，上高台，散其实满人间，联通海外，敦睦天下。幸伴其生，共扶共携其生长，愿与同仁勉力，成其奇，成其伟，成其博，成其深！<br />\\n\\xa0\\xa0</p>  <a href=\"/zh-hans/node/6821\" hreflang=\"zh-hans\">更多</a>\\n\\t</div>\\n\\t\\n\\n\\n\\n\\n  \\n\\n\\n\\n\\n<img src=\"/sites/default/files/2016-10/DSC_868%E9%9B%B7%E4%B8%AD%E5%8D%8E.jpg\" alt=\"雷中华\" typeof=\"Image\" />\\n\\n\\n\\n\\n\\n\\n\\n\\n\\t<div class=\"testimonial-owner\">\\n\\t\\t<a href=\"/zh-hans/node/6821\" hreflang=\"zh-hans\">雷中华</a> \\n\\t</div>\\n</li>\\n<!-- END OUTPUT from \\'core/themes/stable/templates/views/views-view-field.html.twig\\' -->\\n\\n\\n<!-- END OUTPUT from \\'core/themes/stable/templates/views/views-view-fields.html.twig\\' -->\\n\\n\\n\\n  \\n    \\n\\n<!-- THEME DEBUG -->\\n<!-- THEME HOOK: \\'views_view_fields\\' -->\\n<!-- BEGIN OUTPUT from \\'core/themes/stable/templates/views/views-view-fields.html.twig\\' -->\\n\\n\\n<!-- THEME DEBUG -->\\n<!-- THEME HOOK: \\'views_view_field\\' -->\\n<!-- BEGIN OUTPUT from \\'core/themes/stable/templates/views/views-view-field.html.twig\\' -->\\n<li>\\n\\t<div class=\"testimonial-content\">\\n\\t\\t<p class=\"text-align-center\">\\xa0</p>\\n\\n<p class=\"text-align-center\">书山有路勤为径</p>\\n\\n<p class=\"text-align-center\">学海无涯苦作舟</p>\\n\\n<p class=\"text-align-center\">\\xa0</p>\\n\\n<p class=\"text-align-center\">\\xa0</p>  <a href=\"/zh-hans/node/6822\" hreflang=\"zh-hans\">更多</a>\\n\\t</div>\\n\\t\\n\\n\\n\\n\\n  \\n\\n\\n\\n\\n<img src=\"/sites/default/files/2016-10/DSC_8881_0.JPG\" alt=\"王菲菲\" typeof=\"Image\" />\\n\\n\\n\\n\\n\\n\\n\\n\\n\\t<div class=\"testimonial-owner\">\\n\\t\\t<a href=\"/zh-hans/node/6822\" hreflang=\"zh-hans\">王菲菲</a> \\n\\t</div>\\n</li>\\n<!-- END OUTPUT from \\'core/themes/stable/templates/views/views-view-field.html.twig\\' -->\\n\\n\\n<!-- END OUTPUT from \\'core/themes/stable/templates/views/views-view-fields.html.twig\\' -->\\n\\n\\n\\n  \\n    \\n\\n<!-- THEME DEBUG -->\\n<!-- THEME HOOK: \\'views_view_fields\\' -->\\n<!-- BEGIN OUTPUT from \\'core/themes/stable/templates/views/views-view-fields.html.twig\\' -->\\n\\n\\n<!-- THEME DEBUG -->\\n<!-- THEME HOOK: \\'views_view_field\\' -->\\n<!-- BEGIN OUTPUT from \\'core/themes/stable/templates/views/views-view-field.html.twig\\' -->\\n<li>\\n\\t<div class=\"testimonial-content\">\\n\\t\\t<p>引用三例名言，共勉：</p>\\n\\n<p>“The lyf so short, the craft so long to lerne.”\\xa0―\\xa0Geoffrey Chaucer</p>\\n\\n<p>“A loving heart is the beginning of all knowledge.”\\xa0―\\xa0Thomas Carlyle</p>\\n\\n<p>“For me, I am driven by two main philosophies: know more today about the wor…  <a href=\"/zh-hans/node/6827\" hreflang=\"zh-hans\">更多</a>\\n\\t</div>\\n\\t\\n\\n\\n\\n\\n  \\n\\n\\n\\n\\n<img src=\"/sites/default/files/2016-10/DSC_8606%E4%BB%BB%E6%B5%B7%E9%BE%99.jpg\" alt=\"ren\" typeof=\"Image\" />\\n\\n\\n\\n\\n\\n\\n\\n\\n\\t<div class=\"testimonial-owner\">\\n\\t\\t<a href=\"/zh-hans/node/6827\" hreflang=\"zh-hans\">任海龙</a> \\n\\t</div>\\n</li>\\n<!-- END OUTPUT from \\'core/themes/stable/templates/views/views-view-field.html.twig\\' -->\\n\\n\\n<!-- END OUTPUT from \\'core/themes/stable/templates/views/views-view-fields.html.twig\\' -->\\n\\n\\n\\n  \\n    \\n\\n<!-- THEME DEBUG -->\\n<!-- THEME HOOK: \\'views_view_fields\\' -->\\n<!-- BEGIN OUTPUT from \\'core/themes/stable/templates/views/views-view-fields.html.twig\\' -->\\n\\n\\n<!-- THEME DEBUG -->\\n<!-- THEME HOOK: \\'views_view_field\\' -->\\n<!-- BEGIN OUTPUT from \\'core/themes/stable/templates/views/views-view-field.html.twig\\' -->\\n<li>\\n\\t<div class=\"testimonial-content\">\\n\\t\\t<p>\\xa0</p>\\n\\n<p><span>正如翻译研究有语言学与文学路径、功能路径、<wbr></wbr>文化研究路径和哲学路径，翻译可以是一个专业、一个职业、一种生活方式，<wbr></wbr>甚至就是人生本身。希望大家在北语高翻学习的期间都能学到专业知识，养成职业态度，<wbr></wbr>收获充实而快乐的几年生活，无悔于这段青春。</span></p>\\n\\n<p>\\xa0</p>\\n\\n<p>\\xa0</p>  <a href=\"/zh-hans/node/6828\" hreflang=\"zh-hans\">更多</a>\\n\\t</div>\\n\\t\\n\\n\\n\\n\\n  \\n\\n\\n\\n\\n<img src=\"/sites/default/files/2016-10/DSC_8658%E5%8D%A2%E5%AE%81.jpg\" alt=\"Luning\" typeof=\"Image\" />\\n\\n\\n\\n\\n\\n\\n\\n\\n\\t<div class=\"testimonial-owner\">\\n\\t\\t<a href=\"/zh-hans/node/6828\" hreflang=\"zh-hans\">卢宁</a> \\n\\t</div>\\n</li>\\n<!-- END OUTPUT from \\'core/themes/stable/templates/views/views-view-field.html.twig\\' -->\\n\\n\\n<!-- END OUTPUT from \\'core/themes/stable/templates/views/views-view-fields.html.twig\\' -->\\n\\n\\n\\n  \\n    \\n\\n<!-- THEME DEBUG -->\\n<!-- THEME HOOK: \\'views_view_fields\\' -->\\n<!-- BEGIN OUTPUT from \\'core/themes/stable/templates/views/views-view-fields.html.twig\\' -->\\n\\n\\n<!-- THEME DEBUG -->\\n<!-- THEME HOOK: \\'views_view_field\\' -->\\n<!-- BEGIN OUTPUT from \\'core/themes/stable/templates/views/views-view-field.html.twig\\' -->\\n<li>\\n\\t<div class=\"testimonial-content\">\\n\\t\\t<p class=\"text-align-justify\">人生是一条加速流淌的河流，总以为未来很遥远，不知不觉中时光从指尖，从自己的眼皮底下，悄悄地溜走，自己也不再年轻，已经到了做事情翻来覆去考虑又考虑的年纪。年轻的人呵，你可要抓得紧，莫让年轻的豪情只停留在记忆的年轮里，留下万千的惆怅。\\xa0踏踏实实每一天，普通的灵魂也能走远。有缘师生相聚，共创美好明天。</p>\\n\\n<p class=\"text-align-justify\">\\xa0</p>…  <a href=\"/zh-hans/node/6809\" hreflang=\"zh-hans\">更多</a>\\n\\t</div>\\n\\t\\n\\n\\n\\n\\n  \\n\\n\\n\\n\\n<img src=\"/sites/default/files/2016-09/guanxingzhong1_0.jpg\" alt=\"管兴忠\" typeof=\"Image\" />\\n\\n\\n\\n\\n\\n\\n\\n\\n\\t<div class=\"testimonial-owner\">\\n\\t\\t<a href=\"/zh-hans/node/6809\" hreflang=\"zh-hans\">管兴忠</a> \\n\\t</div>\\n</li>\\n<!-- END OUTPUT from \\'core/themes/stable/templates/views/views-view-field.html.twig\\' -->\\n\\n\\n<!-- END OUTPUT from \\'core/themes/stable/templates/views/views-view-fields.html.twig\\' -->\\n\\n\\n\\n  \\n    \\n\\n<!-- THEME DEBUG -->\\n<!-- THEME HOOK: \\'views_view_fields\\' -->\\n<!-- BEGIN OUTPUT from \\'core/themes/stable/templates/views/views-view-fields.html.twig\\' -->\\n\\n\\n<!-- THEME DEBUG -->\\n<!-- THEME HOOK: \\'views_view_field\\' -->\\n<!-- BEGIN OUTPUT from \\'core/themes/stable/templates/views/views-view-field.html.twig\\' -->\\n<li>\\n\\t<div class=\"testimonial-content\">\\n\\t\\t<div align=\"center\">\\n<p>高 \\xa0山 \\xa0景 \\xa0行</p>\\n\\n<p>翻 \\xa0陈 \\xa0出 \\xa0新</p>\\n\\n<p>学 \\xa0贯 \\xa0中 \\xa0西</p>\\n\\n<p>生 \\xa0花 \\xa0妙 \\xa0笔</p>\\n\\n<p>\\xa0</p>\\n</div>  <a href=\"/zh-hans/node/6810\" hreflang=\"zh-hans\">更多</a>\\n\\t</div>\\n\\t\\n\\n\\n\\n\\n  \\n\\n\\n\\n\\n<img src=\"/sites/default/files/2016-09/%E5%87%89%E7%88%BD.JPG\" alt=\"凉爽\" typeof=\"Image\" />\\n\\n\\n\\n\\n\\n\\n\\n\\n\\t<div class=\"testimonial-owner\">\\n\\t\\t<a href=\"/zh-hans/node/6810\" hreflang=\"zh-hans\">梁爽</a> \\n\\t</div>\\n</li>\\n<!-- END OUTPUT from \\'core/themes/stable/templates/views/views-view-field.html.twig\\' -->\\n\\n\\n<!-- END OUTPUT from \\'core/themes/stable/templates/views/views-view-fields.html.twig\\' -->\\n\\n\\n\\n\\n<!-- END OUTPUT from \\'themes/gaofan/templates/views/teacher_word/views-view-unformatted--teacher-word.html.twig\\' -->\\n\\n\\n    </ul>\\n  \\n          </div>\\n\\n<!-- END OUTPUT from \\'themes/gaofan/templates/views/teacher_word/views-view--teacher-word.html.twig\\' -->\\n\\n</div>\\n\\n<!-- END OUTPUT from \\'core/themes/classy/templates/form/container.html.twig\\' -->\\n\\n\\n                                    </ul>\\n                                </div>\\n                            </div>\\n                        </div>\\n                    </div>\\n                </div>\\n            </div>\\n    </section>\\n\\n\\n    <div class=\"newslist fullwidth-section\">\\n        <div class=\"onepage-section\">\\n            <div class=\"sm-margin\"></div>\\n            <div class=\"section-inner\">\\n                <div class=\"row\">\\n                    <div class=\"col-3 \">\\n                        <header class=\"section-header\">\\n                            <h2 class=\"section-title\">\\n                                教学科研\\n                                                <span class=\"section-title-border\">\\n                                                </span>\\n                            </h2>\\n\\n                        </header>\\n                        <div class=\"md-margin\"></div>\\n                        \\n\\n<!-- THEME DEBUG -->\\n<!-- THEME HOOK: \\'container\\' -->\\n<!-- BEGIN OUTPUT from \\'core/themes/classy/templates/form/container.html.twig\\' -->\\n<div class=\"views-element-container\">\\n\\n<!-- THEME DEBUG -->\\n<!-- THEME HOOK: \\'views_view\\' -->\\n<!-- BEGIN OUTPUT from \\'core/themes/classy/templates/views/views-view.html.twig\\' -->\\n<div class=\"view view-news33 view-id-news33 view-display-id-block_1 js-view-dom-id-ece59bd50d9c899fc6d593dbd0a292dca848ad6f6d839444ec4cac2e8f05b2ae\">\\n  \\n    \\n      \\n      <div class=\"view-content\">\\n      \\n\\n<!-- THEME DEBUG -->\\n<!-- THEME HOOK: \\'views_view_unformatted\\' -->\\n<!-- BEGIN OUTPUT from \\'core/themes/classy/templates/views/views-view-unformatted.html.twig\\' -->\\n    <div>\\n    \\n\\n<!-- THEME DEBUG -->\\n<!-- THEME HOOK: \\'views_view_fields\\' -->\\n<!-- BEGIN OUTPUT from \\'core/themes/stable/templates/views/views-view-fields.html.twig\\' -->\\n\\n\\n<!-- THEME DEBUG -->\\n<!-- THEME HOOK: \\'views_view_field\\' -->\\n<!-- BEGIN OUTPUT from \\'core/themes/stable/templates/views/views-view-field.html.twig\\' -->\\n<div class=\"sidebar-recent-posts\">\\n                                                        <div class=\"article clearfix\">\\n                                                            \\n                                                            <h5>\\n                                                                <a href=\"/zh-hans/node/6849\" hreflang=\"zh-hans\">高校文学翻译人才培养：翻越母语坎闯过创新关2016</a>\\n                                                            </h5>\\n                                                            <div class=\"article-meta-container\">\\n                                                                <span>\\n\\n\\n\\n\\n<time datetime=\"44Z\" class=\"datetime\">2016-12-13</time>\\n\\n\\n\\n </span>\\n                                                            </div>\\n                                                        </div>\\n                                                        \\n                                                </div> \\n<!-- END OUTPUT from \\'core/themes/stable/templates/views/views-view-field.html.twig\\' -->\\n\\n\\n<!-- END OUTPUT from \\'core/themes/stable/templates/views/views-view-fields.html.twig\\' -->\\n\\n\\n  </div>\\n    <div>\\n    \\n\\n<!-- THEME DEBUG -->\\n<!-- THEME HOOK: \\'views_view_fields\\' -->\\n<!-- BEGIN OUTPUT from \\'core/themes/stable/templates/views/views-view-fields.html.twig\\' -->\\n\\n\\n<!-- THEME DEBUG -->\\n<!-- THEME HOOK: \\'views_view_field\\' -->\\n<!-- BEGIN OUTPUT from \\'core/themes/stable/templates/views/views-view-field.html.twig\\' -->\\n<div class=\"sidebar-recent-posts\">\\n                                                        <div class=\"article clearfix\">\\n                                                            \\n                                                            <h5>\\n                                                                <a href=\"/zh-hans/node/6835\" hreflang=\"zh-hans\">北京语言大学高级翻译学院教师参加第十一届全国口译大会暨国际口译研讨会 </a>\\n                                                            </h5>\\n                                                            <div class=\"article-meta-container\">\\n                                                                <span>\\n\\n\\n\\n\\n<time datetime=\"00Z\" class=\"datetime\">2016-10-23</time>\\n\\n\\n\\n </span>\\n                                                            </div>\\n                                                        </div>\\n                                                        \\n                                                </div> \\n<!-- END OUTPUT from \\'core/themes/stable/templates/views/views-view-field.html.twig\\' -->\\n\\n\\n<!-- END OUTPUT from \\'core/themes/stable/templates/views/views-view-fields.html.twig\\' -->\\n\\n\\n  </div>\\n    <div>\\n    \\n\\n<!-- THEME DEBUG -->\\n<!-- THEME HOOK: \\'views_view_fields\\' -->\\n<!-- BEGIN OUTPUT from \\'core/themes/stable/templates/views/views-view-fields.html.twig\\' -->\\n\\n\\n<!-- THEME DEBUG -->\\n<!-- THEME HOOK: \\'views_view_field\\' -->\\n<!-- BEGIN OUTPUT from \\'core/themes/stable/templates/views/views-view-field.html.twig\\' -->\\n<div class=\"sidebar-recent-posts\">\\n                                                        <div class=\"article clearfix\">\\n                                                            \\n                                                            <h5>\\n                                                                <a href=\"/zh-hans/node/6830\" hreflang=\"zh-hans\">“北语夜话”第十二届青年口译学者学术沙龙成功举办</a>\\n                                                            </h5>\\n                                                            <div class=\"article-meta-container\">\\n                                                                <span>\\n\\n\\n\\n\\n<time datetime=\"00Z\" class=\"datetime\">2016-10-13</time>\\n\\n\\n\\n </span>\\n                                                            </div>\\n                                                        </div>\\n                                                        \\n                                                </div> \\n<!-- END OUTPUT from \\'core/themes/stable/templates/views/views-view-field.html.twig\\' -->\\n\\n\\n<!-- END OUTPUT from \\'core/themes/stable/templates/views/views-view-fields.html.twig\\' -->\\n\\n\\n  </div>\\n    <div>\\n    \\n\\n<!-- THEME DEBUG -->\\n<!-- THEME HOOK: \\'views_view_fields\\' -->\\n<!-- BEGIN OUTPUT from \\'core/themes/stable/templates/views/views-view-fields.html.twig\\' -->\\n\\n\\n<!-- THEME DEBUG -->\\n<!-- THEME HOOK: \\'views_view_field\\' -->\\n<!-- BEGIN OUTPUT from \\'core/themes/stable/templates/views/views-view-field.html.twig\\' -->\\n<div class=\"sidebar-recent-posts\">\\n                                                        <div class=\"article clearfix\">\\n                                                            \\n                                                            <h5>\\n                                                                <a href=\"/zh-hans/node/6800\" hreflang=\"zh-hans\">第三届全国翻译专业学位研究生教育指导委员会第一次工作会议在哈尔滨召开</a>\\n                                                            </h5>\\n                                                            <div class=\"article-meta-container\">\\n                                                                <span> </span>\\n                                                            </div>\\n                                                        </div>\\n                                                        \\n                                                </div> \\n<!-- END OUTPUT from \\'core/themes/stable/templates/views/views-view-field.html.twig\\' -->\\n\\n\\n<!-- END OUTPUT from \\'core/themes/stable/templates/views/views-view-fields.html.twig\\' -->\\n\\n\\n  </div>\\n    <div>\\n    \\n\\n<!-- THEME DEBUG -->\\n<!-- THEME HOOK: \\'views_view_fields\\' -->\\n<!-- BEGIN OUTPUT from \\'core/themes/stable/templates/views/views-view-fields.html.twig\\' -->\\n\\n\\n<!-- THEME DEBUG -->\\n<!-- THEME HOOK: \\'views_view_field\\' -->\\n<!-- BEGIN OUTPUT from \\'core/themes/stable/templates/views/views-view-field.html.twig\\' -->\\n<div class=\"sidebar-recent-posts\">\\n                                                        <div class=\"article clearfix\">\\n                                                            \\n                                                            <h5>\\n                                                                <a href=\"/zh-hans/node/6798\" hreflang=\"zh-hans\">2016年暑期全国高等院校翻译专业师资培训圆满落幕</a>\\n                                                            </h5>\\n                                                            <div class=\"article-meta-container\">\\n                                                                <span>\\n\\n\\n\\n\\n<time datetime=\"47Z\" class=\"datetime\">2016-08-02</time>\\n\\n\\n\\n </span>\\n                                                            </div>\\n                                                        </div>\\n                                                        \\n                                                </div> \\n<!-- END OUTPUT from \\'core/themes/stable/templates/views/views-view-field.html.twig\\' -->\\n\\n\\n<!-- END OUTPUT from \\'core/themes/stable/templates/views/views-view-fields.html.twig\\' -->\\n\\n\\n  </div>\\n\\n<!-- END OUTPUT from \\'core/themes/classy/templates/views/views-view-unformatted.html.twig\\' -->\\n\\n\\n    </div>\\n  \\n          \\n\\n<!-- THEME DEBUG -->\\n<!-- THEME HOOK: \\'container\\' -->\\n<!-- FILE NAME SUGGESTIONS:\\n   * container--more-link.html.twig\\n   * container--more-link--news33.html.twig\\n   * container--more-link--block.html.twig\\n   * container--more-link--news33--block.html.twig\\n   * container--more-link--block-1.html.twig\\n   * container--more-link--news33--block-1.html.twig\\n   x container.html.twig\\n-->\\n<!-- BEGIN OUTPUT from \\'core/themes/classy/templates/form/container.html.twig\\' -->\\n<div class=\"more-link\"><a href=\"/zh-hans/news/jxky\">查看更多&gt;&gt;</a></div>\\n\\n<!-- END OUTPUT from \\'core/themes/classy/templates/form/container.html.twig\\' -->\\n\\n\\n      </div>\\n\\n<!-- END OUTPUT from \\'core/themes/classy/templates/views/views-view.html.twig\\' -->\\n\\n</div>\\n\\n<!-- END OUTPUT from \\'core/themes/classy/templates/form/container.html.twig\\' -->\\n\\n\\n\\n                        <!--<h4 class=\"float_right readmore\">\\n                            <a href=\"#\" >\\n                                查看更多>\\n                            </a>\\n                        </h4>-->\\n                    </div>\\n\\n                    <div class=\"col-3 \">\\n                        <header class=\"section-header\">\\n                            <h2 class=\"section-title\">\\n                                对外交流\\n                                                <span class=\"section-title-border\">\\n                                                </span>\\n                            </h2>\\n\\n                        </header>\\n                        <div class=\"md-margin\"></div>\\n                        \\n\\n<!-- THEME DEBUG -->\\n<!-- THEME HOOK: \\'container\\' -->\\n<!-- BEGIN OUTPUT from \\'core/themes/classy/templates/form/container.html.twig\\' -->\\n<div class=\"views-element-container\">\\n\\n<!-- THEME DEBUG -->\\n<!-- THEME HOOK: \\'views_view\\' -->\\n<!-- BEGIN OUTPUT from \\'core/themes/classy/templates/views/views-view.html.twig\\' -->\\n<div class=\"view view-news33 view-id-news33 view-display-id-block_2 js-view-dom-id-bb0197c1d31f9ba50a75d4796582cf1153afa423b0494c5022f2593fc560df7e\">\\n  \\n    \\n      \\n      <div class=\"view-content\">\\n      \\n\\n<!-- THEME DEBUG -->\\n<!-- THEME HOOK: \\'views_view_unformatted\\' -->\\n<!-- BEGIN OUTPUT from \\'core/themes/classy/templates/views/views-view-unformatted.html.twig\\' -->\\n    <div>\\n    \\n\\n<!-- THEME DEBUG -->\\n<!-- THEME HOOK: \\'views_view_fields\\' -->\\n<!-- BEGIN OUTPUT from \\'core/themes/stable/templates/views/views-view-fields.html.twig\\' -->\\n\\n\\n<!-- THEME DEBUG -->\\n<!-- THEME HOOK: \\'views_view_field\\' -->\\n<!-- BEGIN OUTPUT from \\'core/themes/stable/templates/views/views-view-field.html.twig\\' -->\\n<div class=\"sidebar-recent-posts\">\\n                                                        <div class=\"article clearfix\">\\n                                                            \\n                                                            <h5>\\n                                                                <a href=\"/zh-hans/node/6838\" hreflang=\"zh-hans\">口笔译研究中的跨学科性——Claudia V. Angelelli教授北语讲座</a>\\n                                                            </h5>\\n                                                            <div class=\"article-meta-container\">\\n                                                                <span>\\n\\n\\n\\n\\n<time datetime=\"30Z\" class=\"datetime\">2016-10-30</time>\\n\\n\\n\\n </span>\\n                                                            </div>\\n                                                        </div>\\n                                                        \\n                                                </div> \\n<!-- END OUTPUT from \\'core/themes/stable/templates/views/views-view-field.html.twig\\' -->\\n\\n\\n<!-- END OUTPUT from \\'core/themes/stable/templates/views/views-view-fields.html.twig\\' -->\\n\\n\\n  </div>\\n    <div>\\n    \\n\\n<!-- THEME DEBUG -->\\n<!-- THEME HOOK: \\'views_view_fields\\' -->\\n<!-- BEGIN OUTPUT from \\'core/themes/stable/templates/views/views-view-fields.html.twig\\' -->\\n\\n\\n<!-- THEME DEBUG -->\\n<!-- THEME HOOK: \\'views_view_field\\' -->\\n<!-- BEGIN OUTPUT from \\'core/themes/stable/templates/views/views-view-field.html.twig\\' -->\\n<div class=\"sidebar-recent-posts\">\\n                                                        <div class=\"article clearfix\">\\n                                                            \\n                                                            <h5>\\n                                                                <a href=\"/zh-hans/node/6837\" hreflang=\"zh-hans\">21世纪口笔译课程设计——Claudia V. Angelelli教授北语讲座（二）</a>\\n                                                            </h5>\\n                                                            <div class=\"article-meta-container\">\\n                                                                <span>\\n\\n\\n\\n\\n<time datetime=\"02Z\" class=\"datetime\">2016-10-31</time>\\n\\n\\n\\n </span>\\n                                                            </div>\\n                                                        </div>\\n                                                        \\n                                                </div> \\n<!-- END OUTPUT from \\'core/themes/stable/templates/views/views-view-field.html.twig\\' -->\\n\\n\\n<!-- END OUTPUT from \\'core/themes/stable/templates/views/views-view-fields.html.twig\\' -->\\n\\n\\n  </div>\\n    <div>\\n    \\n\\n<!-- THEME DEBUG -->\\n<!-- THEME HOOK: \\'views_view_fields\\' -->\\n<!-- BEGIN OUTPUT from \\'core/themes/stable/templates/views/views-view-fields.html.twig\\' -->\\n\\n\\n<!-- THEME DEBUG -->\\n<!-- THEME HOOK: \\'views_view_field\\' -->\\n<!-- BEGIN OUTPUT from \\'core/themes/stable/templates/views/views-view-field.html.twig\\' -->\\n<div class=\"sidebar-recent-posts\">\\n                                                        <div class=\"article clearfix\">\\n                                                            \\n                                                            <h5>\\n                                                                <a href=\"/zh-hans/node/6831\" hreflang=\"zh-hans\">“Be patient and enthusiastic”——记Christian Degueldre教授讲座 </a>\\n                                                            </h5>\\n                                                            <div class=\"article-meta-container\">\\n                                                                <span>\\n\\n\\n\\n\\n<time datetime=\"20Z\" class=\"datetime\">2016-10-19</time>\\n\\n\\n\\n </span>\\n                                                            </div>\\n                                                        </div>\\n                                                        \\n                                                </div> \\n<!-- END OUTPUT from \\'core/themes/stable/templates/views/views-view-field.html.twig\\' -->\\n\\n\\n<!-- END OUTPUT from \\'core/themes/stable/templates/views/views-view-fields.html.twig\\' -->\\n\\n\\n  </div>\\n    <div>\\n    \\n\\n<!-- THEME DEBUG -->\\n<!-- THEME HOOK: \\'views_view_fields\\' -->\\n<!-- BEGIN OUTPUT from \\'core/themes/stable/templates/views/views-view-fields.html.twig\\' -->\\n\\n\\n<!-- THEME DEBUG -->\\n<!-- THEME HOOK: \\'views_view_field\\' -->\\n<!-- BEGIN OUTPUT from \\'core/themes/stable/templates/views/views-view-field.html.twig\\' -->\\n<div class=\"sidebar-recent-posts\">\\n                                                        <div class=\"article clearfix\">\\n                                                            \\n                                                            <h5>\\n                                                                <a href=\"/zh-hans/node/6829\" hreflang=\"zh-hans\">“译”海知航，积微成著——记Daniel Gile教授北语讲座（二） </a>\\n                                                            </h5>\\n                                                            <div class=\"article-meta-container\">\\n                                                                <span>\\n\\n\\n\\n\\n<time datetime=\"20Z\" class=\"datetime\">2016-10-11</time>\\n\\n\\n\\n </span>\\n                                                            </div>\\n                                                        </div>\\n                                                        \\n                                                </div> \\n<!-- END OUTPUT from \\'core/themes/stable/templates/views/views-view-field.html.twig\\' -->\\n\\n\\n<!-- END OUTPUT from \\'core/themes/stable/templates/views/views-view-fields.html.twig\\' -->\\n\\n\\n  </div>\\n    <div>\\n    \\n\\n<!-- THEME DEBUG -->\\n<!-- THEME HOOK: \\'views_view_fields\\' -->\\n<!-- BEGIN OUTPUT from \\'core/themes/stable/templates/views/views-view-fields.html.twig\\' -->\\n\\n\\n<!-- THEME DEBUG -->\\n<!-- THEME HOOK: \\'views_view_field\\' -->\\n<!-- BEGIN OUTPUT from \\'core/themes/stable/templates/views/views-view-field.html.twig\\' -->\\n<div class=\"sidebar-recent-posts\">\\n                                                        <div class=\"article clearfix\">\\n                                                            \\n                                                            <h5>\\n                                                                <a href=\"/zh-hans/node/6823\" hreflang=\"zh-hans\">“译”思博智，指点迷津——Daniel Gile教授北语讲座（一） </a>\\n                                                            </h5>\\n                                                            <div class=\"article-meta-container\">\\n                                                                <span>\\n\\n\\n\\n\\n<time datetime=\"20Z\" class=\"datetime\">2016-10-10</time>\\n\\n\\n\\n </span>\\n                                                            </div>\\n                                                        </div>\\n                                                        \\n                                                </div> \\n<!-- END OUTPUT from \\'core/themes/stable/templates/views/views-view-field.html.twig\\' -->\\n\\n\\n<!-- END OUTPUT from \\'core/themes/stable/templates/views/views-view-fields.html.twig\\' -->\\n\\n\\n  </div>\\n\\n<!-- END OUTPUT from \\'core/themes/classy/templates/views/views-view-unformatted.html.twig\\' -->\\n\\n\\n    </div>\\n  \\n          \\n\\n<!-- THEME DEBUG -->\\n<!-- THEME HOOK: \\'container\\' -->\\n<!-- FILE NAME SUGGESTIONS:\\n   * container--more-link.html.twig\\n   * container--more-link--news33.html.twig\\n   * container--more-link--block.html.twig\\n   * container--more-link--news33--block.html.twig\\n   * container--more-link--block-2.html.twig\\n   * container--more-link--news33--block-2.html.twig\\n   x container.html.twig\\n-->\\n<!-- BEGIN OUTPUT from \\'core/themes/classy/templates/form/container.html.twig\\' -->\\n<div class=\"more-link\"><a href=\"/zh-hans/news/dwjl\">查看更多&gt;&gt;</a></div>\\n\\n<!-- END OUTPUT from \\'core/themes/classy/templates/form/container.html.twig\\' -->\\n\\n\\n      </div>\\n\\n<!-- END OUTPUT from \\'core/themes/classy/templates/views/views-view.html.twig\\' -->\\n\\n</div>\\n\\n<!-- END OUTPUT from \\'core/themes/classy/templates/form/container.html.twig\\' -->\\n\\n\\n\\n\\n                    </div>\\n\\n                    <div class=\"col-3 \">\\n                        <header class=\"section-header\">\\n                            <h2 class=\"section-title\">\\n                                学生活动\\n                                                <span class=\"section-title-border\">\\n                                                </span>\\n                            </h2>\\n\\n                        </header>\\n                        <div class=\"md-margin\"></div>\\n                        \\n\\n<!-- THEME DEBUG -->\\n<!-- THEME HOOK: \\'container\\' -->\\n<!-- BEGIN OUTPUT from \\'core/themes/classy/templates/form/container.html.twig\\' -->\\n<div class=\"views-element-container\">\\n\\n<!-- THEME DEBUG -->\\n<!-- THEME HOOK: \\'views_view\\' -->\\n<!-- BEGIN OUTPUT from \\'core/themes/classy/templates/views/views-view.html.twig\\' -->\\n<div class=\"view view-news33 view-id-news33 view-display-id-block_3 js-view-dom-id-03f34e4af900bb7112fbcbd0beb9631497099a14ff14026ff511d3c6383bc302\">\\n  \\n    \\n      \\n      <div class=\"view-content\">\\n      \\n\\n<!-- THEME DEBUG -->\\n<!-- THEME HOOK: \\'views_view_unformatted\\' -->\\n<!-- BEGIN OUTPUT from \\'core/themes/classy/templates/views/views-view-unformatted.html.twig\\' -->\\n    <div>\\n    \\n\\n<!-- THEME DEBUG -->\\n<!-- THEME HOOK: \\'views_view_fields\\' -->\\n<!-- BEGIN OUTPUT from \\'core/themes/stable/templates/views/views-view-fields.html.twig\\' -->\\n\\n\\n<!-- THEME DEBUG -->\\n<!-- THEME HOOK: \\'views_view_field\\' -->\\n<!-- BEGIN OUTPUT from \\'core/themes/stable/templates/views/views-view-field.html.twig\\' -->\\n<div class=\"sidebar-recent-posts\">\\n                                                        <div class=\"article clearfix\">\\n                                                            \\n                                                            <h5>\\n                                                                <a href=\"/zh-hans/node/6851\" hreflang=\"zh-hans\">银色圣诞，“译”起翻滚 ——高级翻译学院成功举办2016年“‘译’起翻滚吧”圣诞晚会</a>\\n                                                            </h5>\\n                                                            <div class=\"article-meta-container\">\\n                                                                <span>\\n\\n\\n\\n\\n<time datetime=\"00Z\" class=\"datetime\">2016-12-22</time>\\n\\n\\n\\n </span>\\n                                                            </div>\\n                                                        </div>\\n                                                        \\n                                                </div> \\n<!-- END OUTPUT from \\'core/themes/stable/templates/views/views-view-field.html.twig\\' -->\\n\\n\\n<!-- END OUTPUT from \\'core/themes/stable/templates/views/views-view-fields.html.twig\\' -->\\n\\n\\n  </div>\\n    <div>\\n    \\n\\n<!-- THEME DEBUG -->\\n<!-- THEME HOOK: \\'views_view_fields\\' -->\\n<!-- BEGIN OUTPUT from \\'core/themes/stable/templates/views/views-view-fields.html.twig\\' -->\\n\\n\\n<!-- THEME DEBUG -->\\n<!-- THEME HOOK: \\'views_view_field\\' -->\\n<!-- BEGIN OUTPUT from \\'core/themes/stable/templates/views/views-view-field.html.twig\\' -->\\n<div class=\"sidebar-recent-posts\">\\n                                                        <div class=\"article clearfix\">\\n                                                            \\n                                                            <h5>\\n                                                                <a href=\"/zh-hans/node/6848\" hreflang=\"zh-hans\">“走近新闻”——团学新闻培训顺利开讲</a>\\n                                                            </h5>\\n                                                            <div class=\"article-meta-container\">\\n                                                                <span>\\n\\n\\n\\n\\n<time datetime=\"02Z\" class=\"datetime\">2016-11-19</time>\\n\\n\\n\\n </span>\\n                                                            </div>\\n                                                        </div>\\n                                                        \\n                                                </div> \\n<!-- END OUTPUT from \\'core/themes/stable/templates/views/views-view-field.html.twig\\' -->\\n\\n\\n<!-- END OUTPUT from \\'core/themes/stable/templates/views/views-view-fields.html.twig\\' -->\\n\\n\\n  </div>\\n    <div>\\n    \\n\\n<!-- THEME DEBUG -->\\n<!-- THEME HOOK: \\'views_view_fields\\' -->\\n<!-- BEGIN OUTPUT from \\'core/themes/stable/templates/views/views-view-fields.html.twig\\' -->\\n\\n\\n<!-- THEME DEBUG -->\\n<!-- THEME HOOK: \\'views_view_field\\' -->\\n<!-- BEGIN OUTPUT from \\'core/themes/stable/templates/views/views-view-field.html.twig\\' -->\\n<div class=\"sidebar-recent-posts\">\\n                                                        <div class=\"article clearfix\">\\n                                                            \\n                                                            <h5>\\n                                                                <a href=\"/zh-hans/node/6845\" hreflang=\"zh-hans\">对话汤颖——不要在该奋斗的年龄选择安逸</a>\\n                                                            </h5>\\n                                                            <div class=\"article-meta-container\">\\n                                                                <span>\\n\\n\\n\\n\\n<time datetime=\"58Z\" class=\"datetime\">2016-11-19</time>\\n\\n\\n\\n </span>\\n                                                            </div>\\n                                                        </div>\\n                                                        \\n                                                </div> \\n<!-- END OUTPUT from \\'core/themes/stable/templates/views/views-view-field.html.twig\\' -->\\n\\n\\n<!-- END OUTPUT from \\'core/themes/stable/templates/views/views-view-fields.html.twig\\' -->\\n\\n\\n  </div>\\n    <div>\\n    \\n\\n<!-- THEME DEBUG -->\\n<!-- THEME HOOK: \\'views_view_fields\\' -->\\n<!-- BEGIN OUTPUT from \\'core/themes/stable/templates/views/views-view-fields.html.twig\\' -->\\n\\n\\n<!-- THEME DEBUG -->\\n<!-- THEME HOOK: \\'views_view_field\\' -->\\n<!-- BEGIN OUTPUT from \\'core/themes/stable/templates/views/views-view-field.html.twig\\' -->\\n<div class=\"sidebar-recent-posts\">\\n                                                        <div class=\"article clearfix\">\\n                                                            \\n                                                            <h5>\\n                                                                <a href=\"/zh-hans/node/6844\" hreflang=\"zh-hans\">【语音语调】 五语同台展北语风采——第七届「你好，先‘声’」语音语调大赛圆满举行</a>\\n                                                            </h5>\\n                                                            <div class=\"article-meta-container\">\\n                                                                <span>\\n\\n\\n\\n\\n<time datetime=\"21Z\" class=\"datetime\">2016-11-10</time>\\n\\n\\n\\n </span>\\n                                                            </div>\\n                                                        </div>\\n                                                        \\n                                                </div> \\n<!-- END OUTPUT from \\'core/themes/stable/templates/views/views-view-field.html.twig\\' -->\\n\\n\\n<!-- END OUTPUT from \\'core/themes/stable/templates/views/views-view-fields.html.twig\\' -->\\n\\n\\n  </div>\\n    <div>\\n    \\n\\n<!-- THEME DEBUG -->\\n<!-- THEME HOOK: \\'views_view_fields\\' -->\\n<!-- BEGIN OUTPUT from \\'core/themes/stable/templates/views/views-view-fields.html.twig\\' -->\\n\\n\\n<!-- THEME DEBUG -->\\n<!-- THEME HOOK: \\'views_view_field\\' -->\\n<!-- BEGIN OUTPUT from \\'core/themes/stable/templates/views/views-view-field.html.twig\\' -->\\n<div class=\"sidebar-recent-posts\">\\n                                                        <div class=\"article clearfix\">\\n                                                            \\n                                                            <h5>\\n                                                                <a href=\"/zh-hans/node/6842\" hreflang=\"zh-hans\">【语音语调】北京语言大学第六届「你好，先‘声’」语音语调大赛选手祝福</a>\\n                                                            </h5>\\n                                                            <div class=\"article-meta-container\">\\n                                                                <span>\\n\\n\\n\\n\\n<time datetime=\"41Z\" class=\"datetime\">2016-11-03</time>\\n\\n\\n\\n </span>\\n                                                            </div>\\n                                                        </div>\\n                                                        \\n                                                </div> \\n<!-- END OUTPUT from \\'core/themes/stable/templates/views/views-view-field.html.twig\\' -->\\n\\n\\n<!-- END OUTPUT from \\'core/themes/stable/templates/views/views-view-fields.html.twig\\' -->\\n\\n\\n  </div>\\n\\n<!-- END OUTPUT from \\'core/themes/classy/templates/views/views-view-unformatted.html.twig\\' -->\\n\\n\\n    </div>\\n  \\n          \\n\\n<!-- THEME DEBUG -->\\n<!-- THEME HOOK: \\'container\\' -->\\n<!-- FILE NAME SUGGESTIONS:\\n   * container--more-link.html.twig\\n   * container--more-link--news33.html.twig\\n   * container--more-link--block.html.twig\\n   * container--more-link--news33--block.html.twig\\n   * container--more-link--block-3.html.twig\\n   * container--more-link--news33--block-3.html.twig\\n   x container.html.twig\\n-->\\n<!-- BEGIN OUTPUT from \\'core/themes/classy/templates/form/container.html.twig\\' -->\\n<div class=\"more-link\"><a href=\"/zh-hans/news/students\">查看更多&gt;&gt;</a></div>\\n\\n<!-- END OUTPUT from \\'core/themes/classy/templates/form/container.html.twig\\' -->\\n\\n\\n      </div>\\n\\n<!-- END OUTPUT from \\'core/themes/classy/templates/views/views-view.html.twig\\' -->\\n\\n</div>\\n\\n<!-- END OUTPUT from \\'core/themes/classy/templates/form/container.html.twig\\' -->\\n\\n\\n\\n\\n\\n                    </div>\\n\\n                </div>\\n            </div>\\n        </div>\\n    </div>\\n    </div>\\n\\n\\n\\n    <section id=\"services\">\\n        <div class=\"onepage-section\">\\n            \\n\\n<!-- THEME DEBUG -->\\n<!-- THEME HOOK: \\'region\\' -->\\n<!-- FILE NAME SUGGESTIONS:\\n   * region--service.html.twig\\n   x region.html.twig\\n-->\\n<!-- BEGIN OUTPUT from \\'core/themes/classy/templates/layout/region.html.twig\\' -->\\n  <div class=\"region region-service\">\\n    \\n\\n<!-- THEME DEBUG -->\\n<!-- THEME HOOK: \\'block\\' -->\\n<!-- FILE NAME SUGGESTIONS:\\n   * block--zhengchanxueyan.html.twig\\n   * block--block-content--26e55feb-d508-48c8-a21f-b21c4caed6c2.html.twig\\n   * block--block-content.html.twig\\n   * block--block-content.html.twig\\n   x block.html.twig\\n-->\\n<!-- BEGIN OUTPUT from \\'core/themes/classy/templates/block/block.html.twig\\' -->\\n<div id=\"block-zhengchanxueyan\" class=\"block block-block-content block-block-content26e55feb-d508-48c8-a21f-b21c4caed6c2\">\\n  \\n    \\n      \\n\\n<!-- THEME DEBUG -->\\n<!-- THEME HOOK: \\'field\\' -->\\n<!-- FILE NAME SUGGESTIONS:\\n   * field--block-content--body--basic.html.twig\\n   * field--block-content--body.html.twig\\n   * field--block-content--basic.html.twig\\n   * field--body.html.twig\\n   x field--text-with-summary.html.twig\\n   * field.html.twig\\n-->\\n<!-- BEGIN OUTPUT from \\'core/themes/classy/templates/field/field--text-with-summary.html.twig\\' -->\\n\\n            <div class=\"clearfix text-formatted field field--name-body field--type-text-with-summary field--label-hidden field__item\"><div class=\"section-inner\">\\n\\n\\n                                <header class=\"section-header\"><h2 class=\"section-title\">\\n                                        政产学研\\n                                        <span class=\"section-title-border\">\\n                                        </span>\\n                                    </h2>\\n                                    \\n                                </header><div class=\"lg-margin2x\">\\n                                </div>\\n                                <div class=\"services-icons-container services-icons-container2\">\\n                                    <div class=\"row\">\\n                                        <div class=\"col-3 services-icon\">\\n                                            <div class=\"service-icon-box\">\\n                                                <div class=\"service-icon2 service-icon-dev\">\\n                                                    <a href=\"#\" title=\"\"><i class=\"icon-tasks\"></i></a>\\n                                                </div>\\n                                                <h3 class=\"service-title\">\\n                                                    <a href=\"#\" title=\"\">实习实践</a>\\n                                                    <br /><span>Language Services </span>\\n                                                </h3>\\n                                                <p class=\"service-content\">\\n                                                    依托中外语言服务人才培养基地展开，该基地由口译实习实训平台、笔译实习实训平台和协同创新研究平台三部分组成，是一个教育教学、实习实践和科学研究三位一体的综合实践平台。\\n                                                </p>\\n                                            </div>\\n                                        </div>\\n                                        <div class=\"col-3 services-icon \">\\n                                            <div class=\"service-icon-box\">\\n                                                <div class=\"service-icon2 service-icon-brand\">\\n                                                    <a href=\"#\" title=\"\"><i class=\"icon-line2-book-open\"></i></a>\\n                                                </div>\\n                                                <h3 class=\"service-title\">\\n                                                    <a href=\"#\" title=\"\">MTI教育</a>\\n                                                    <br /><span>MTI Education </span>\\n                                                </h3>\\n                                                <p class=\"service-content\">\\n依托MIT教育中心展开，该中心隶属于外国语学部，面向英、法、日、韩、德、阿、西七个语种招生口、笔译两个方向的学生。\\n                                                </p>\\n                                            </div>\\n                                        </div>\\n                                        <div class=\"col-3 services-icon \">\\n                                            <div class=\"service-icon-box\">\\n                                                <div class=\"service-icon2 service-icon-market\">\\n                                                    <a href=\"#\" title=\"\"><i class=\"icon-globe\"></i></a>\\n                                                </div>\\n                                                <h3 class=\"service-title\">\\n                                                    <a href=\"#\" title=\"\">翻译研究</a>\\n                                                    <br /><span>Translation Studies </span>\\n                                                </h3>\\n                                                <p class=\"service-content\">\\n依托翻译学研究所展开，研究所继承和发扬北京语言大学大学五十多年翻译教学及研究的优良传统，致力于打造中国乃至国际一流的翻译学研究机构。\\n                                                </p>\\n                                            </div>\\n                                        </div>\\n                                    </div>\\n                                </div>\\n                            </div></div>\\n      \\n<!-- END OUTPUT from \\'core/themes/classy/templates/field/field--text-with-summary.html.twig\\' -->\\n\\n\\n  </div>\\n\\n<!-- END OUTPUT from \\'core/themes/classy/templates/block/block.html.twig\\' -->\\n\\n\\n\\n<!-- THEME DEBUG -->\\n<!-- THEME HOOK: \\'block\\' -->\\n<!-- FILE NAME SUGGESTIONS:\\n   * block--zaixianfuwu.html.twig\\n   * block--block-content--8adf465f-c253-4499-bdc5-a0da89087f9a.html.twig\\n   * block--block-content.html.twig\\n   * block--block-content.html.twig\\n   x block.html.twig\\n-->\\n<!-- BEGIN OUTPUT from \\'core/themes/classy/templates/block/block.html.twig\\' -->\\n<div id=\"block-zaixianfuwu\" class=\"block block-block-content block-block-content8adf465f-c253-4499-bdc5-a0da89087f9a\">\\n  \\n    \\n      \\n\\n<!-- THEME DEBUG -->\\n<!-- THEME HOOK: \\'field\\' -->\\n<!-- FILE NAME SUGGESTIONS:\\n   * field--block-content--body--basic.html.twig\\n   * field--block-content--body.html.twig\\n   * field--block-content--basic.html.twig\\n   * field--body.html.twig\\n   x field--text-with-summary.html.twig\\n   * field.html.twig\\n-->\\n<!-- BEGIN OUTPUT from \\'core/themes/classy/templates/field/field--text-with-summary.html.twig\\' -->\\n\\n            <div class=\"clearfix text-formatted field field--name-body field--type-text-with-summary field--label-hidden field__item\"><div class=\"section-inner\">\\n\\n\\n                                <header class=\"section-header\"><h2 class=\"section-title\">\\n                                        在线服务\\n                                        <span class=\"section-title-border\">\\n                                        </span>\\n                                    </h2>\\n                                    \\n                                </header><div class=\"lg-margin2x\">\\n                                </div>\\n                                <div class=\"services-icons-container\">\\n                                    <div class=\"row\">\\n                                        <div class=\"col-3 services-icon \">\\n                                            <div class=\"service-icon-box\">\\n                                                <div class=\"service-icon2 service-icon-dev\">\\n                                                    <a href=\"/taxonomy/term/114\" title=\"\"><i class=\"icon-download-alt\"></i></a>\\n                                                </div>\\n                                                <h3 class=\"service-title\">\\n                                                    <a href=\"/taxonomy/term/114\" title=\"\">下载中心</a><br /><span>Download Center</span>\\n                                                </h3>\\n                                                <p class=\"service-content\">\\n                                                   <a href=\"/node/264\" title=\" 教学管理\">教学管理</a><a> | </a><a href=\"/taxonomy/term/102\" title=\" 学生管理\">学生管理</a><a> | </a><a href=\"/node/265\" title=\" 科研管理\">科研管理</a><a>\\n                                                </a></p>\\n                                            </div>\\n                                        </div>\\n                                        <div class=\"col-3 services-icon \">\\n                                            <div class=\"service-icon-box\">\\n                                                <div class=\"service-icon2 service-icon-brand\">\\n                                                    <a href=\"http://stimooc.blcu.edu.cn\" title=\"\"><i class=\"icon-users\"></i></a>\\n                                                </div>\\n                                                <h3 class=\"service-title\">\\n                                                    <a href=\"http://stimooc.blcu.edu.cn\" title=\"\">高翻学堂</a><br /><span>STI MOOC</span>\\n                                                </h3>\\n                                                <p class=\"service-content\">\\n                                                    欢迎选修高翻学院的网上公开课\\n                                                </p>\\n                                            </div>\\n                                        </div>\\n                                        <div class=\"col-3 services-icon \">\\n                                            <div class=\"service-icon-box\">\\n                                                <div class=\"service-icon2 service-icon-market\">\\n                                                    <a href=\"/alumnis\" title=\"\"><i class=\"icon-quote-right\"></i></a>\\n                                                </div>\\n                                                <h3 class=\"service-title\">\\n                                                   \\t 校友风采<br /><span>Alumni</span>\\n                                                </h3>\\n                                                <p class=\"service-content\">\\n                                                     <a href=\"/alumnis\" title=\" 校友展示\"> 校友展示</a><a> | </a><a href=\"/graduation_career\" title=\"毕业去向\">毕业去向 </a><a> | </a><a href=\"/node/add/alumni_style\" title=\"添加校友\">校友注册</a><a>\\n                                                </a></p>\\n                                            </div>\\n                                        </div>\\n                                    </div>\\n                                </div>\\t\\t\\t\\t\\t\\t\\t\\t\\n\\n                            </div></div>\\n      \\n<!-- END OUTPUT from \\'core/themes/classy/templates/field/field--text-with-summary.html.twig\\' -->\\n\\n\\n  </div>\\n\\n<!-- END OUTPUT from \\'core/themes/classy/templates/block/block.html.twig\\' -->\\n\\n\\n  </div>\\n\\n<!-- END OUTPUT from \\'core/themes/classy/templates/layout/region.html.twig\\' -->\\n\\n\\n        </div>\\n    </section>\\n\\n    <section id=\"portfolio\">\\n        <div class=\"onepage-section\">\\n            \\n\\n<!-- THEME DEBUG -->\\n<!-- THEME HOOK: \\'region\\' -->\\n<!-- FILE NAME SUGGESTIONS:\\n   * region--portfolio.html.twig\\n   x region.html.twig\\n-->\\n<!-- BEGIN OUTPUT from \\'core/themes/classy/templates/layout/region.html.twig\\' -->\\n  <div class=\"region region-portfolio\">\\n    \\n\\n<!-- THEME DEBUG -->\\n<!-- THEME HOOK: \\'block\\' -->\\n<!-- FILE NAME SUGGESTIONS:\\n   * block--youqinglianjie.html.twig\\n   * block--block-content--ec0e7891-51c3-47d4-a400-d675eb8871d2.html.twig\\n   * block--block-content.html.twig\\n   * block--block-content.html.twig\\n   x block.html.twig\\n-->\\n<!-- BEGIN OUTPUT from \\'core/themes/classy/templates/block/block.html.twig\\' -->\\n<div id=\"block-youqinglianjie\" class=\"block block-block-content block-block-contentec0e7891-51c3-47d4-a400-d675eb8871d2\">\\n  \\n    \\n      \\n\\n<!-- THEME DEBUG -->\\n<!-- THEME HOOK: \\'field\\' -->\\n<!-- FILE NAME SUGGESTIONS:\\n   * field--block-content--body--basic.html.twig\\n   * field--block-content--body.html.twig\\n   * field--block-content--basic.html.twig\\n   * field--body.html.twig\\n   x field--text-with-summary.html.twig\\n   * field.html.twig\\n-->\\n<!-- BEGIN OUTPUT from \\'core/themes/classy/templates/field/field--text-with-summary.html.twig\\' -->\\n\\n            <div class=\"clearfix text-formatted field field--name-body field--type-text-with-summary field--label-hidden field__item\"><div class=\"section-inner\">\\n                                <header class=\"section-header\">\\n                                    <h2 class=\"section-title\">友情链接</h2>\\n                                </header>\\n\\n                                <div class=\"section-his-pic-container\">\\n\\n                                    <div class=\"row\">\\n                                        <div class=\"owl-carousel section-his-pic\">\\n                                            <div class=\"his-pic-item\">\\n                                                <div class=\"pic-frame\">\\n                                                    <figure><a href=\"http://www.cipg.org.cn/\" target=\"_blank\"> <img src=\"http://sti.blcu.edu.cn/themes/gaofan/images/c1.jpg\" alt=\"中国外文出版发行事业局\"></a></figure>\\n                                                    <!--<a href=\"#\"><h5 class=\"member-name\">图片标题</h5></a>-->\\n                                                </div>    \\n                                            </div>\\n                                            <div class=\"his-pic-item\">\\n                                                <div class=\"pic-frame\">\\n                                                    <figure><a href=\"http://www.ciuti.org/\" target=\"_blank\"> <img src=\"http://sti.blcu.edu.cn/themes/gaofan/images/c4.jpg\" alt=\"CIUTI\"></a></figure>\\n                                                    <!--<a href=\"#\"><h5 class=\"member-name\">图片标题</h5></a>-->\\n                                                </div>    \\n                                            </div>\\n                                            <div class=\"his-pic-item\">\\n                                                <div class=\"pic-frame\">\\n                                                    <figure><a href=\"http://www.ctpc.com.cn\" target=\"_blank\"> <img src=\"http://sti.blcu.edu.cn/themes/gaofan/images/c2.jpg\" alt=\"中国对外翻译出版有限公司\"></a></figure>\\n                                                    <!--<a href=\"#\"><h5 class=\"member-name\">图片标题</h5></a>-->\\n                                                </div>    \\n                                            </div>\\n                                            <div class=\"his-pic-item\">\\n                                                <div class=\"pic-frame\">\\n                                                    <figure><a href=\"http://www.blcu.edu.cn\" target=\"_blank\"> <img src=\"http://sti.blcu.edu.cn/themes/gaofan/images/c3.jpg\" alt=\"北京语言大学\"></a></figure>\\n                                                    <!--<a href=\"#\"><h5 class=\"member-name\">图片标题</h5></a>-->\\n                                                </div>    \\n                                            </div>\\n\\t\\t\\t\\t\\t\\t\\t\\t\\t\\t\\t\\n                                            <div class=\"his-pic-item\">\\n                                                <div class=\"pic-frame\">\\n                                                    <figure><a href=\"http://cnmti.gdufs.edu.cn/\" target=\"_blank\"> <img src=\"http://sti.blcu.edu.cn/themes/gaofan/images/c5.jpg\" alt=\"全国翻译专业学位研究生教育指导委员会\"></a></figure>\\n                                                    <!--<a href=\"#\"><h5 class=\"member-name\">图片标题</h5></a>-->\\n                                                </div>    \\n                                            </div>\\n\\t\\t\\t\\t\\t\\t\\t\\t\\t\\t\\t<div class=\"his-pic-item\">\\n                                                <div class=\"pic-frame\">\\n                                                    <figure><a href=\"http://www.fit-ift.org/\" target=\"_blank\"> <img src=\"http://sti.blcu.edu.cn/themes/gaofan/images/c6.jpg\" alt=\"FIT (Fédération Internationale des Traducteurs / International Federation of Translators)\"></a></figure>\\n                                                    <!--<a href=\"#\"><h5 class=\"member-name\">图片标题</h5></a>-->\\n                                                </div>    \\n                                            </div>\\n\\n\\n                                            \\n                                        </div>\\n                                    </div>\\n\\n\\n\\n                                    <a href=\"#\" id=\"home-prev\" class=\"carousel-btn carousel-btn-prev\">Prev</a>\\n                                    <a href=\"#\" id=\"home-next\" class=\"carousel-btn carousel-btn-next\">Next</a>\\n\\n\\n                                </div>\\n                            </div></div>\\n      \\n<!-- END OUTPUT from \\'core/themes/classy/templates/field/field--text-with-summary.html.twig\\' -->\\n\\n\\n  </div>\\n\\n<!-- END OUTPUT from \\'core/themes/classy/templates/block/block.html.twig\\' -->\\n\\n\\n  </div>\\n\\n<!-- END OUTPUT from \\'core/themes/classy/templates/layout/region.html.twig\\' -->\\n\\n\\n        </div>\\n        <div class=\"xlg-margin3s\"></div>\\n    </section>\\n\\n    <section id=\"contactus\">\\n        \\n\\n<!-- THEME DEBUG -->\\n<!-- THEME HOOK: \\'region\\' -->\\n<!-- FILE NAME SUGGESTIONS:\\n   * region--contact.html.twig\\n   x region.html.twig\\n-->\\n<!-- BEGIN OUTPUT from \\'core/themes/classy/templates/layout/region.html.twig\\' -->\\n  <div class=\"region region-contact\">\\n    \\n\\n<!-- THEME DEBUG -->\\n<!-- THEME HOOK: \\'block\\' -->\\n<!-- FILE NAME SUGGESTIONS:\\n   * block--lianxiwomen-2.html.twig\\n   * block--block-content--ac70763d-6d60-4e6f-9800-c77c0b5391c8.html.twig\\n   * block--block-content.html.twig\\n   * block--block-content.html.twig\\n   x block.html.twig\\n-->\\n<!-- BEGIN OUTPUT from \\'core/themes/classy/templates/block/block.html.twig\\' -->\\n<div id=\"block-lianxiwomen-2\" class=\"block block-block-content block-block-contentac70763d-6d60-4e6f-9800-c77c0b5391c8\">\\n  \\n    \\n      \\n\\n<!-- THEME DEBUG -->\\n<!-- THEME HOOK: \\'field\\' -->\\n<!-- FILE NAME SUGGESTIONS:\\n   * field--block-content--body--basic.html.twig\\n   * field--block-content--body.html.twig\\n   * field--block-content--basic.html.twig\\n   * field--body.html.twig\\n   x field--text-with-summary.html.twig\\n   * field.html.twig\\n-->\\n<!-- BEGIN OUTPUT from \\'core/themes/classy/templates/field/field--text-with-summary.html.twig\\' -->\\n\\n            <div class=\"clearfix text-formatted field field--name-body field--type-text-with-summary field--label-hidden field__item\"><div class=\"onepage-section\">\\n                            <div class=\"section-inner\">\\n\\n                                <!--<div class=\"md-margin2x\">\\n                                </div>-->\\n\\n                            <div class=\"section-inner section-contact-infos\">\\n                                <div class=\"row-xs\">\\n                                    <div class=\"col-3\">\\n                                        <img src=\"http://sti.blcu.edu.cn/themes/gaofan/images/contact-pin.png\" alt=\"contact-pin\">\\n                                        <p>\\n                                            北京市海淀区学院路15号 邮编 ：100083\\n                                        </p>\\n\\n                                    </div>\\n                                    <div class=\"col-3\">\\n                                        <img src=\"http://sti.blcu.edu.cn/themes/gaofan/images/contact-phone.png\" alt=\"contact-pin\">\\n                                        <p>\\n                                            010-82303852\\n                                        </p>\\n\\n                                    </div>\\n                                    <div class=\"col-3\">\\n                                        <img src=\"http://sti.blcu.edu.cn/themes/gaofan/images/contact-email.png\" alt=\"contact-pin\">\\n                                        <p>\\n                                            sti.blcu@gmail.com\\n                                        </p>\\n\\n                                    </div>\\n                                </div>\\n                            </div>\\n                        </div></div>\\n      \\n<!-- END OUTPUT from \\'core/themes/classy/templates/field/field--text-with-summary.html.twig\\' -->\\n\\n\\n  </div>\\n\\n<!-- END OUTPUT from \\'core/themes/classy/templates/block/block.html.twig\\' -->\\n\\n\\n  </div>\\n\\n<!-- END OUTPUT from \\'core/themes/classy/templates/layout/region.html.twig\\' -->\\n\\n\\n    </section>\\n\\n    <a id=\"scroll-top\" class=\"onepage-scoll-top\" href=\"#\" title=\"Go to Top\">\\n        Top\\n    </a>\\n\\n\\n</section>\\n\\n<!-- END OUTPUT from \\'themes/gaofan/templates/page--front.html.twig\\' -->\\n\\n\\n    \\n    <script src=\"/sites/default/files/js/js_DyVrGWnkaySvrdudNvC7agpbBAk7otN9SbUbS6c7Q2s.js\"></script>\\n\\n  </body>\\n</html>\\n\\n<!-- END OUTPUT from \\'core/themes/classy/templates/layout/html.html.twig\\' -->\\n\\n'"
      ]
     },
     "execution_count": 34,
     "metadata": {},
     "output_type": "execute_result"
    }
   ],
   "source": [
    "reps.text"
   ]
  },
  {
   "cell_type": "code",
   "execution_count": 35,
   "metadata": {
    "collapsed": true
   },
   "outputs": [],
   "source": [
    "from pyquery import PyQuery as pq"
   ]
  },
  {
   "cell_type": "code",
   "execution_count": 36,
   "metadata": {
    "collapsed": true
   },
   "outputs": [],
   "source": [
    "doc = pq(reps.text)"
   ]
  },
  {
   "cell_type": "code",
   "execution_count": 38,
   "metadata": {
    "collapsed": false
   },
   "outputs": [
    {
     "data": {
      "text/plain": [
       "[<head>]"
      ]
     },
     "execution_count": 38,
     "metadata": {},
     "output_type": "execute_result"
    }
   ],
   "source": [
    "doc('head')"
   ]
  },
  {
   "cell_type": "code",
   "execution_count": 42,
   "metadata": {
    "collapsed": false
   },
   "outputs": [
    {
     "data": {
      "text/plain": [
       "'首页 | 北京语言大学高级翻译学院\\n@import url(\"/core/assets/vendor/normalize-css/normalize.css?p8wy9l\"); @import url(\"/core/themes/stable/css/system/components/ajax-progress.module.css?p8wy9l\"); @import url(\"/core/themes/stable/css/system/components/align.module.css?p8wy9l\"); @import url(\"/core/themes/stable/css/system/components/autocomplete-loading.module.css?p8wy9l\"); @import url(\"/core/themes/stable/css/system/components/fieldgroup.module.css?p8wy9l\"); @import url(\"/core/themes/stable/css/system/components/container-inline.module.css?p8wy9l\"); @import url(\"/core/themes/stable/css/system/components/clearfix.module.css?p8wy9l\"); @import url(\"/core/themes/stable/css/system/components/details.module.css?p8wy9l\"); @import url(\"/core/themes/stable/css/system/components/hidden.module.css?p8wy9l\"); @import url(\"/core/themes/stable/css/system/components/item-list.module.css?p8wy9l\"); @import url(\"/core/themes/stable/css/system/components/js.module.css?p8wy9l\"); @import url(\"/core/themes/stable/css/system/components/nowrap.module.css?p8wy9l\"); @import url(\"/core/themes/stable/css/system/components/position-container.module.css?p8wy9l\"); @import url(\"/core/themes/stable/css/system/components/progress.module.css?p8wy9l\"); @import url(\"/core/themes/stable/css/system/components/reset-appearance.module.css?p8wy9l\"); @import url(\"/core/themes/stable/css/system/components/resize.module.css?p8wy9l\"); @import url(\"/core/themes/stable/css/system/components/sticky-header.module.css?p8wy9l\"); @import url(\"/core/themes/stable/css/system/components/system-status-counter.css?p8wy9l\"); @import url(\"/core/themes/stable/css/system/components/system-status-report-counters.css?p8wy9l\"); @import url(\"/core/themes/stable/css/system/components/system-status-report-general-info.css?p8wy9l\"); @import url(\"/core/themes/stable/css/system/components/tabledrag.module.css?p8wy9l\"); @import url(\"/core/themes/stable/css/system/components/tablesort.module.css?p8wy9l\"); @import url(\"/core/themes/stable/css/system/components/tree-child.module.css?p8wy9l\"); @import url(\"/core/themes/stable/css/views/views.module.css?p8wy9l\");\\n@import url(\"/core/themes/classy/css/components/action-links.css?p8wy9l\"); @import url(\"/core/themes/classy/css/components/breadcrumb.css?p8wy9l\"); @import url(\"/core/themes/classy/css/components/button.css?p8wy9l\"); @import url(\"/core/themes/classy/css/components/collapse-processed.css?p8wy9l\"); @import url(\"/core/themes/classy/css/components/container-inline.css?p8wy9l\"); @import url(\"/core/themes/classy/css/components/details.css?p8wy9l\"); @import url(\"/core/themes/classy/css/components/exposed-filters.css?p8wy9l\"); @import url(\"/core/themes/classy/css/components/field.css?p8wy9l\"); @import url(\"/core/themes/classy/css/components/form.css?p8wy9l\"); @import url(\"/core/themes/classy/css/components/icons.css?p8wy9l\"); @import url(\"/core/themes/classy/css/components/inline-form.css?p8wy9l\"); @import url(\"/core/themes/classy/css/components/item-list.css?p8wy9l\"); @import url(\"/core/themes/classy/css/components/link.css?p8wy9l\"); @import url(\"/core/themes/classy/css/components/links.css?p8wy9l\"); @import url(\"/core/themes/classy/css/components/menu.css?p8wy9l\"); @import url(\"/core/themes/classy/css/components/more-link.css?p8wy9l\"); @import url(\"/core/themes/classy/css/components/pager.css?p8wy9l\"); @import url(\"/core/themes/classy/css/components/tabledrag.css?p8wy9l\"); @import url(\"/core/themes/classy/css/components/tableselect.css?p8wy9l\"); @import url(\"/core/themes/classy/css/components/tablesort.css?p8wy9l\"); @import url(\"/core/themes/classy/css/components/tabs.css?p8wy9l\"); @import url(\"/core/themes/classy/css/components/textarea.css?p8wy9l\"); @import url(\"/core/themes/classy/css/components/ui-dialog.css?p8wy9l\"); @import url(\"/themes/gaofan/css/bootstrap.css?p8wy9l\"); @import url(\"/themes/gaofan/css/owl.carousel.css?p8wy9l\"); @import url(\"/themes/gaofan/css/onepage-revslider.css?p8wy9l\"); @import url(\"/themes/gaofan/css/style.min.css?p8wy9l\"); @import url(\"/themes/gaofan/css/responsive.min.css?p8wy9l\"); @import url(\"/themes/gaofan/css/font-icons.css?p8wy9l\"); @import url(\"/themes/gaofan/include/rs-plugin/css/settings.css?p8wy9l\"); @import url(\"/themes/gaofan/css/custom.css?p8wy9l\");\\n@import url(\"/themes/gaofan/css/custom2.css?p8wy9l\"); @import url(\"/themes/gaofan/css/custom3.css?p8wy9l\"); @import url(\"/themes/gaofan/css/gaofan.css?p8wy9l\"); @import url(\"/themes/gaofan/css/td.css?p8wy9l\"); @import url(\"/themes/gaofan/includes/owl/assets/owl.carousel.css?p8wy9l\"); @import url(\"/themes/gaofan/includes/owl/assets/owl.theme.default.min.css?p8wy9l\");'"
      ]
     },
     "execution_count": 42,
     "metadata": {},
     "output_type": "execute_result"
    }
   ],
   "source": [
    "doc('head').text()"
   ]
  },
  {
   "cell_type": "code",
   "execution_count": 45,
   "metadata": {
    "collapsed": false
   },
   "outputs": [
    {
     "data": {
      "text/plain": [
       "[<ul.slides>, <ul.slides>, <ul.slides>, <ul.slides>]"
      ]
     },
     "execution_count": 45,
     "metadata": {},
     "output_type": "execute_result"
    }
   ],
   "source": [
    "doc('ul.slides')"
   ]
  },
  {
   "cell_type": "code",
   "execution_count": 47,
   "metadata": {
    "collapsed": false
   },
   "outputs": [
    {
     "data": {
      "text/plain": [
       "[<ul.slides>]"
      ]
     },
     "execution_count": 47,
     "metadata": {},
     "output_type": "execute_result"
    }
   ],
   "source": [
    "doc('ul.slides:first')"
   ]
  },
  {
   "cell_type": "code",
   "execution_count": 49,
   "metadata": {
    "collapsed": false
   },
   "outputs": [
    {
     "data": {
      "text/plain": [
       "[<img>, <img>]"
      ]
     },
     "execution_count": 49,
     "metadata": {},
     "output_type": "execute_result"
    }
   ],
   "source": [
    "doc('ul.slides:first img:first')"
   ]
  },
  {
   "cell_type": "code",
   "execution_count": 51,
   "metadata": {
    "collapsed": false
   },
   "outputs": [
    {
     "data": {
      "text/plain": [
       "<Element img at 0x1e2486b42c8>"
      ]
     },
     "execution_count": 51,
     "metadata": {},
     "output_type": "execute_result"
    }
   ],
   "source": [
    "doc('ul.slides:first img:first')[0]"
   ]
  },
  {
   "cell_type": "code",
   "execution_count": 53,
   "metadata": {
    "collapsed": false
   },
   "outputs": [
    {
     "data": {
      "text/plain": [
       "'/sites/default/files/2016-09/liuheping_0.jpg'"
      ]
     },
     "execution_count": 53,
     "metadata": {},
     "output_type": "execute_result"
    }
   ],
   "source": [
    "imgelem = pq(doc('ul.slides:first img:first')[0])\n",
    "imgelem.attr('src')"
   ]
  },
  {
   "cell_type": "code",
   "execution_count": 55,
   "metadata": {
    "collapsed": false
   },
   "outputs": [
    {
     "data": {
      "text/plain": [
       "\"就在一周前，全球贸易政策中最大的一个热点问题——《北美自由贸易协定》(NAFTA)的重新谈判——得到了成功解决。在经过几个月的紧张谈判后，唐纳德•特朗普(Donald Trump)赶在最后一刻与加拿大和墨西哥达成了妥协。\\n每个人，特别是上个月我去过的安大略省温莎市这种边境城镇的汽车厂工人，都在小心翼翼地等着看能否最终达成协议。\\n美墨加协议(USMCA)被特朗普誉为重大胜利。它使得特朗普在总统任期内巩固了两个主要目标，一是在中期选举之前兑现一个关键的竞选承诺，二是通过与美国的长期盟友达成协议，从而能够与中国全力开打贸易战。\\n事实上，USMCA协议中的许多条款完全旨在遏制中国，并确保加拿大和墨西哥也这样做。最明显的例子是英国《金融时报》周日报道的第32.10条款。\\ndocument.write (writeAdNew({devices: ['PC','iPhoneWeb','AndroidWeb','iPhoneApp','AndroidApp'],pattern:'MPU',position:'Middle1',container:'mpuInStory'}));\\n该条款规定，如果加拿大或墨西哥打算与非市场经济体进行贸易谈判，就得在开始前三个月通知美国。在任何谈判期间，比如说在与北京谈判时，他们将不得不向美国官员通报最新会谈内容。然后，在达成任何协议后，美国将能够退出USMCA协议——这将USMCA协议变成事实上阻止它们与北京进行任何经济磋商的“毒丸”。\\n此举引起了很多关注，因为美国此举不仅遏制了加拿大和墨西哥的贸易政策的独立性，而且在未来某个时候也可能遏制欧盟、日本以及英国退欧后的贸易政策的独立性。\\n一位白宫高级官员在周日的报道中向英国《金融时报》表示：“我们一直非常关注中国通过与其他国家达成贸易安排、从根本上削弱美国地位的努力。”\\n该措施还要求USMCA协议中的3个国家遵守国际货币基金组织(IMF)关于反操纵汇率的准则；要求公开披露有关市场干预的任何数据；并成立一个监督实施的小组。如果发生争议，可以请IMF进行裁决。\\n最后，USMCA协议包括一些旨在确保国有企业不会受益于不公平补贴的条款——还有一项旨在打击中国投资的条款。\\n这些条款表明美国由衷想要在全球贸易体系中建立一个反华势力范围。特朗普政府正试图把它作为杠杆给北京施压，从而促使中国在某个时候重返谈判桌。一个可能的谈判场所是今年11月在阿根廷举行的20国集团(G20)峰会，届时特朗普和中国国家主席习近平将会出席此次峰会。\\ndocument.write (writeAdNew({devices: ['iPhoneWeb','AndroidWeb','iPhoneApp','AndroidApp'],pattern:'MPU',position:'Middle2',container:'mpuInStory'}));\\n但最有可能的情况是，从加征关税到与盟国达成贸易协议，特朗普扩大反华举措将意味着其立场更加根深蒂固，与北京方面的对峙将不断升级。\\n译者/裴伴\""
      ]
     },
     "execution_count": 55,
     "metadata": {},
     "output_type": "execute_result"
    }
   ],
   "source": [
    "url = 'http://www.ftchinese.com/story/001079689'\n",
    "resp = requests.get(url)\n",
    "doc = pq(resp.text)\n",
    "doc('#story-body-container').text()"
   ]
  },
  {
   "cell_type": "code",
   "execution_count": 57,
   "metadata": {
    "collapsed": false
   },
   "outputs": [
    {
     "data": {
      "text/plain": [
       "'<p>就在一周前，全球贸易政策中最大的一个热点问题——《北美自由贸易协定》(NAFTA)的重新谈判——得到了成功解决。在经过几个月的紧张谈判后，唐纳德•特朗普(Donald Trump)赶在最后一刻与加拿大和墨西哥达成了妥协。</p><p>每个人，特别是上个月我去过的安大略省温莎市这种边境城镇的汽车厂工人，都在小心翼翼地等着看能否最终达成协议。</p><p>美墨加协议(USMCA)被特朗普誉为重大胜利。它使得特朗普在总统任期内巩固了两个主要目标，一是在中期选举之前兑现一个关键的竞选承诺，二是通过与美国的长期盟友达成协议，从而能够与中国全力开打贸易战。</p><p>事实上，USMCA协议中的许多条款完全旨在遏制中国，并确保加拿大和墨西哥也这样做。最明显的例子是英国《金融时报》周日报道的第32.10条款。</p><script type=\"text/javascript\">document.write (writeAdNew({devices: [\\'PC\\',\\'iPhoneWeb\\',\\'AndroidWeb\\',\\'iPhoneApp\\',\\'AndroidApp\\'],pattern:\\'MPU\\',position:\\'Middle1\\',container:\\'mpuInStory\\'}));</script><p>该条款规定，如果加拿大或墨西哥打算与非市场经济体进行贸易谈判，就得在开始前三个月通知美国。在任何谈判期间，比如说在与北京谈判时，他们将不得不向美国官员通报最新会谈内容。然后，在达成任何协议后，美国将能够退出USMCA协议——这将USMCA协议变成事实上阻止它们与北京进行任何经济磋商的“毒丸”。</p><p>此举引起了很多关注，因为美国此举不仅遏制了加拿大和墨西哥的贸易政策的独立性，而且在未来某个时候也可能遏制欧盟、日本以及英国退欧后的贸易政策的独立性。</p><p>一位白宫高级官员在周日的报道中向英国《金融时报》表示：“我们一直非常关注中国通过与其他国家达成贸易安排、从根本上削弱美国地位的努力。”</p><p>该措施还要求USMCA协议中的3个国家遵守国际货币基金组织(IMF)关于反操纵汇率的准则；要求公开披露有关市场干预的任何数据；并成立一个监督实施的小组。如果发生争议，可以请IMF进行裁决。</p><p>最后，USMCA协议包括一些旨在确保国有企业不会受益于不公平补贴的条款——还有一项旨在打击中国投资的条款。</p><p>这些条款表明美国由衷想要在全球贸易体系中建立一个反华势力范围。特朗普政府正试图把它作为杠杆给北京施压，从而促使中国在某个时候重返谈判桌。一个可能的谈判场所是今年11月在阿根廷举行的20国集团(G20)峰会，届时特朗普和中国国家主席习近平将会出席此次峰会。</p><script type=\"text/javascript\">document.write (writeAdNew({devices: [\\'iPhoneWeb\\',\\'AndroidWeb\\',\\'iPhoneApp\\',\\'AndroidApp\\'],pattern:\\'MPU\\',position:\\'Middle2\\',container:\\'mpuInStory\\'}));</script><p>但最有可能的情况是，从加征关税到与盟国达成贸易协议，特朗普扩大反华举措将意味着其立场更加根深蒂固，与北京方面的对峙将不断升级。</p><p>译者/裴伴</p>'"
      ]
     },
     "execution_count": 57,
     "metadata": {},
     "output_type": "execute_result"
    }
   ],
   "source": [
    "doc('#story-body-container').html()"
   ]
  },
  {
   "cell_type": "code",
   "execution_count": 59,
   "metadata": {
    "collapsed": false
   },
   "outputs": [
    {
     "data": {
      "text/plain": [
       "'story-body-container'"
      ]
     },
     "execution_count": 59,
     "metadata": {},
     "output_type": "execute_result"
    }
   ],
   "source": [
    "doc('#story-body-container').attr('id')"
   ]
  },
  {
   "cell_type": "code",
   "execution_count": 62,
   "metadata": {
    "collapsed": false
   },
   "outputs": [
    {
     "data": {
      "text/plain": [
       "'中文英文对照'"
      ]
     },
     "execution_count": 62,
     "metadata": {},
     "output_type": "execute_result"
    }
   ],
   "source": [
    "doc('#language-switch-placeholder').text()"
   ]
  },
  {
   "cell_type": "code",
   "execution_count": 67,
   "metadata": {
    "collapsed": false
   },
   "outputs": [
    {
     "data": {
      "text/plain": [
       "'<div class=\"block-inner\">\\n<div class=\"content-container\"><div class=\"content-inner\">\\n<div class=\"list-container\"><div class=\"list-inner\">\\n<h2 class=\"list-title\"><a class=\"list-link\" href=\"#\">您可能感兴趣的文章</a></h2>\\n<div class=\"items\" id=\"story-recommend-bottom\"/>\\n</div></div>\\n</div></div>\\n<div class=\"clearfloat block-bottom\"/>\\n</div>'"
      ]
     },
     "execution_count": 67,
     "metadata": {},
     "output_type": "execute_result"
    }
   ],
   "source": [
    "doc('#story-recommend-container').html()"
   ]
  },
  {
   "cell_type": "code",
   "execution_count": 70,
   "metadata": {
    "collapsed": false
   },
   "outputs": [
    {
     "data": {
      "text/plain": [
       "['Fn',\n",
       " '__add__',\n",
       " '__call__',\n",
       " '__class__',\n",
       " '__contains__',\n",
       " '__delattr__',\n",
       " '__delitem__',\n",
       " '__dict__',\n",
       " '__dir__',\n",
       " '__doc__',\n",
       " '__eq__',\n",
       " '__format__',\n",
       " '__ge__',\n",
       " '__getattribute__',\n",
       " '__getitem__',\n",
       " '__gt__',\n",
       " '__hash__',\n",
       " '__html__',\n",
       " '__iadd__',\n",
       " '__imul__',\n",
       " '__init__',\n",
       " '__init_subclass__',\n",
       " '__iter__',\n",
       " '__le__',\n",
       " '__len__',\n",
       " '__lt__',\n",
       " '__module__',\n",
       " '__mul__',\n",
       " '__ne__',\n",
       " '__new__',\n",
       " '__reduce__',\n",
       " '__reduce_ex__',\n",
       " '__repr__',\n",
       " '__reversed__',\n",
       " '__rmul__',\n",
       " '__setattr__',\n",
       " '__setitem__',\n",
       " '__sizeof__',\n",
       " '__str__',\n",
       " '__subclasshook__',\n",
       " '__unicode__',\n",
       " '__weakref__',\n",
       " '_append',\n",
       " '_base_url',\n",
       " '_copy',\n",
       " '_css_to_xpath',\n",
       " '_extend',\n",
       " '_filter_only',\n",
       " '_get_root',\n",
       " '_next_all',\n",
       " '_parent',\n",
       " '_prev_all',\n",
       " '_translator',\n",
       " '_translator_class',\n",
       " '_traverse',\n",
       " '_traverse_parent_topdown',\n",
       " 'addClass',\n",
       " 'add_class',\n",
       " 'after',\n",
       " 'append',\n",
       " 'appendTo',\n",
       " 'append_to',\n",
       " 'attr',\n",
       " 'base_url',\n",
       " 'before',\n",
       " 'children',\n",
       " 'clear',\n",
       " 'clone',\n",
       " 'closest',\n",
       " 'contents',\n",
       " 'copy',\n",
       " 'count',\n",
       " 'css',\n",
       " 'each',\n",
       " 'empty',\n",
       " 'encoding',\n",
       " 'end',\n",
       " 'eq',\n",
       " 'extend',\n",
       " 'filter',\n",
       " 'find',\n",
       " 'fn',\n",
       " 'hasClass',\n",
       " 'has_class',\n",
       " 'height',\n",
       " 'hide',\n",
       " 'html',\n",
       " 'index',\n",
       " 'insert',\n",
       " 'insertAfter',\n",
       " 'insertBefore',\n",
       " 'insert_after',\n",
       " 'insert_before',\n",
       " 'is_',\n",
       " 'items',\n",
       " 'length',\n",
       " 'make_links_absolute',\n",
       " 'map',\n",
       " 'namespaces',\n",
       " 'next',\n",
       " 'nextAll',\n",
       " 'next_all',\n",
       " 'not_',\n",
       " 'outerHtml',\n",
       " 'outer_html',\n",
       " 'parent',\n",
       " 'parents',\n",
       " 'parser',\n",
       " 'pop',\n",
       " 'prepend',\n",
       " 'prependTo',\n",
       " 'prepend_to',\n",
       " 'prev',\n",
       " 'prevAll',\n",
       " 'prev_all',\n",
       " 'remove',\n",
       " 'removeAttr',\n",
       " 'removeClass',\n",
       " 'remove_attr',\n",
       " 'remove_class',\n",
       " 'remove_namespaces',\n",
       " 'replaceAll',\n",
       " 'replaceWith',\n",
       " 'replace_all',\n",
       " 'replace_with',\n",
       " 'reverse',\n",
       " 'root',\n",
       " 'show',\n",
       " 'siblings',\n",
       " 'size',\n",
       " 'sort',\n",
       " 'text',\n",
       " 'toggleClass',\n",
       " 'toggle_class',\n",
       " 'val',\n",
       " 'width',\n",
       " 'wrap',\n",
       " 'wrapAll',\n",
       " 'wrap_all',\n",
       " 'xhtml_to_html']"
      ]
     },
     "execution_count": 70,
     "metadata": {},
     "output_type": "execute_result"
    }
   ],
   "source": [
    "dir(doc('#story-body-container'))"
   ]
  },
  {
   "cell_type": "code",
   "execution_count": 73,
   "metadata": {
    "collapsed": false
   },
   "outputs": [
    {
     "data": {
      "text/plain": [
       "13"
      ]
     },
     "execution_count": 73,
     "metadata": {},
     "output_type": "execute_result"
    }
   ],
   "source": [
    "doc('p').length"
   ]
  },
  {
   "cell_type": "code",
   "execution_count": 77,
   "metadata": {
    "collapsed": false
   },
   "outputs": [
    {
     "data": {
      "text/plain": [
       "'就在一周前，全球贸易政策中最大的一个热点问题——《北美自由贸易协定》(NAFTA)的重新谈判——得到了成功解决。在经过几个月的紧张谈判后，唐纳德•特朗普(Donald Trump)赶在最后一刻与加拿大和墨西哥达成了妥协。'"
      ]
     },
     "execution_count": 77,
     "metadata": {},
     "output_type": "execute_result"
    }
   ],
   "source": [
    "doc('p:first').text()"
   ]
  },
  {
   "cell_type": "code",
   "execution_count": 84,
   "metadata": {
    "collapsed": false
   },
   "outputs": [
    {
     "data": {
      "text/plain": [
       "\"就在一周前，全球贸易政策中最大的一个热点问题——《北美自由贸易协定》(NAFTA)的重新谈判——得到了成功解决。在经过几个月的紧张谈判后，唐纳德•特朗普(Donald Trump)赶在最后一刻与加拿大和墨西哥达成了妥协。 每个人，特别是上个月我去过的安大略省温莎市这种边境城镇的汽车厂工人，都在小心翼翼地等着看能否最终达成协议。 美墨加协议(USMCA)被特朗普誉为重大胜利。它使得特朗普在总统任期内巩固了两个主要目标，一是在中期选举之前兑现一个关键的竞选承诺，二是通过与美国的长期盟友达成协议，从而能够与中国全力开打贸易战。 事实上，USMCA协议中的许多条款完全旨在遏制中国，并确保加拿大和墨西哥也这样做。最明显的例子是英国《金融时报》周日报道的第32.10条款。 该条款规定，如果加拿大或墨西哥打算与非市场经济体进行贸易谈判，就得在开始前三个月通知美国。在任何谈判期间，比如说在与北京谈判时，他们将不得不向美国官员通报最新会谈内容。然后，在达成任何协议后，美国将能够退出USMCA协议——这将USMCA协议变成事实上阻止它们与北京进行任何经济磋商的“毒丸”。 此举引起了很多关注，因为美国此举不仅遏制了加拿大和墨西哥的贸易政策的独立性，而且在未来某个时候也可能遏制欧盟、日本以及英国退欧后的贸易政策的独立性。 一位白宫高级官员在周日的报道中向英国《金融时报》表示：“我们一直非常关注中国通过与其他国家达成贸易安排、从根本上削弱美国地位的努力。” 该措施还要求USMCA协议中的3个国家遵守国际货币基金组织(IMF)关于反操纵汇率的准则；要求公开披露有关市场干预的任何数据；并成立一个监督实施的小组。如果发生争议，可以请IMF进行裁决。 最后，USMCA协议包括一些旨在确保国有企业不会受益于不公平补贴的条款——还有一项旨在打击中国投资的条款。 这些条款表明美国由衷想要在全球贸易体系中建立一个反华势力范围。特朗普政府正试图把它作为杠杆给北京施压，从而促使中国在某个时候重返谈判桌。一个可能的谈判场所是今年11月在阿根廷举行的20国集团(G20)峰会，届时特朗普和中国国家主席习近平将会出席此次峰会。 但最有可能的情况是，从加征关税到与盟国达成贸易协议，特朗普扩大反华举措将意味着其立场更加根深蒂固，与北京方面的对峙将不断升级。 译者/裴伴 © The Financial Times Ltd 2018 FT and 'Financial Times' are trademarks of The Financial Times Ltd.\""
      ]
     },
     "execution_count": 84,
     "metadata": {},
     "output_type": "execute_result"
    }
   ],
   "source": [
    "doc('p').text()"
   ]
  },
  {
   "cell_type": "code",
   "execution_count": 86,
   "metadata": {
    "collapsed": false
   },
   "outputs": [
    {
     "data": {
      "text/plain": [
       "'登录×\\n电子邮件/用户名\\n密码\\n记住我\\n免费注册找回密码\\n微信登录 设置字号×\\n最小\\n较小\\n默认\\n较大\\n最大 分享×'"
      ]
     },
     "execution_count": 86,
     "metadata": {},
     "output_type": "execute_result"
    }
   ],
   "source": [
    "doc('.overlay-container').text()"
   ]
  },
  {
   "cell_type": "code",
   "execution_count": 91,
   "metadata": {
    "collapsed": false
   },
   "outputs": [
    {
     "data": {
      "text/plain": [
       "<Element p at 0x1e248a010e8>"
      ]
     },
     "execution_count": 91,
     "metadata": {},
     "output_type": "execute_result"
    }
   ],
   "source": [
    "doc('p')[0]"
   ]
  }
 ],
 "metadata": {
  "kernelspec": {
   "display_name": "Python 3",
   "language": "python",
   "name": "python3"
  },
  "language_info": {
   "codemirror_mode": {
    "name": "ipython",
    "version": 3
   },
   "file_extension": ".py",
   "mimetype": "text/x-python",
   "name": "python",
   "nbconvert_exporter": "python",
   "pygments_lexer": "ipython3",
   "version": "3.6.0"
  }
 },
 "nbformat": 4,
 "nbformat_minor": 2
}
