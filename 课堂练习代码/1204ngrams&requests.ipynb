{
 "cells": [
  {
   "cell_type": "code",
   "execution_count": 3,
   "metadata": {
    "collapsed": true
   },
   "outputs": [],
   "source": [
    "from nltk.util import ngrams"
   ]
  },
  {
   "cell_type": "code",
   "execution_count": 4,
   "metadata": {
    "collapsed": false
   },
   "outputs": [],
   "source": [
    "a = '''A Chinese scientist's attempt to produce the world's first gene-edited babies immune to HIV has sparked heated controversy among the public and academics.'''"
   ]
  },
  {
   "cell_type": "code",
   "execution_count": 5,
   "metadata": {
    "collapsed": false
   },
   "outputs": [],
   "source": [
    "alst = a.split(' ')"
   ]
  },
  {
   "cell_type": "code",
   "execution_count": 6,
   "metadata": {
    "collapsed": false
   },
   "outputs": [
    {
     "data": {
      "text/plain": [
       "['A',\n",
       " 'Chinese',\n",
       " \"scientist's\",\n",
       " 'attempt',\n",
       " 'to',\n",
       " 'produce',\n",
       " 'the',\n",
       " \"world's\",\n",
       " 'first',\n",
       " 'gene-edited',\n",
       " 'babies',\n",
       " 'immune',\n",
       " 'to',\n",
       " 'HIV',\n",
       " 'has',\n",
       " 'sparked',\n",
       " 'heated',\n",
       " 'controversy',\n",
       " 'among',\n",
       " 'the',\n",
       " 'public',\n",
       " 'and',\n",
       " 'academics.']"
      ]
     },
     "execution_count": 6,
     "metadata": {},
     "output_type": "execute_result"
    }
   ],
   "source": [
    "alst"
   ]
  },
  {
   "cell_type": "code",
   "execution_count": null,
   "metadata": {
    "collapsed": true
   },
   "outputs": [],
   "source": []
  },
  {
   "cell_type": "code",
   "execution_count": 7,
   "metadata": {
    "collapsed": false
   },
   "outputs": [
    {
     "data": {
      "text/plain": [
       "<generator object ngrams at 0x0000020F7F0BEBA0>"
      ]
     },
     "execution_count": 7,
     "metadata": {},
     "output_type": "execute_result"
    }
   ],
   "source": [
    "from nltk.util import ngrams\n",
    "\n",
    "a = 'add domain with authentication for conference focus users'.split(' ')\n",
    "\n",
    "b = ngrams(a,1)\n",
    "b"
   ]
  },
  {
   "cell_type": "code",
   "execution_count": 8,
   "metadata": {
    "collapsed": false
   },
   "outputs": [
    {
     "name": "stdout",
     "output_type": "stream",
     "text": [
      "('add',)\n",
      "('domain',)\n",
      "('with',)\n",
      "('authentication',)\n",
      "('for',)\n",
      "('conference',)\n",
      "('focus',)\n",
      "('users',)\n"
     ]
    }
   ],
   "source": [
    "for i in b:\n",
    "    print(i)"
   ]
  },
  {
   "cell_type": "code",
   "execution_count": 9,
   "metadata": {
    "collapsed": true
   },
   "outputs": [],
   "source": [
    "b = ngrams(a,3)"
   ]
  },
  {
   "cell_type": "code",
   "execution_count": 10,
   "metadata": {
    "collapsed": false
   },
   "outputs": [
    {
     "name": "stdout",
     "output_type": "stream",
     "text": [
      "('add', 'domain', 'with')\n",
      "('domain', 'with', 'authentication')\n",
      "('with', 'authentication', 'for')\n",
      "('authentication', 'for', 'conference')\n",
      "('for', 'conference', 'focus')\n",
      "('conference', 'focus', 'users')\n"
     ]
    }
   ],
   "source": [
    "for i in b:\n",
    "    print(i)"
   ]
  },
  {
   "cell_type": "code",
   "execution_count": 11,
   "metadata": {
    "collapsed": false
   },
   "outputs": [
    {
     "name": "stdout",
     "output_type": "stream",
     "text": [
      "Help on built-in function log in module math:\n",
      "\n",
      "log(...)\n",
      "    log(x[, base])\n",
      "    \n",
      "    Return the logarithm of x to the given base.\n",
      "    If the base not specified, returns the natural logarithm (base e) of x.\n",
      "\n"
     ]
    }
   ],
   "source": [
    "import math\n",
    "help(math.log)"
   ]
  },
  {
   "cell_type": "code",
   "execution_count": 12,
   "metadata": {
    "collapsed": false
   },
   "outputs": [],
   "source": [
    "from snownlp import SnowNLP"
   ]
  },
  {
   "cell_type": "code",
   "execution_count": 13,
   "metadata": {
    "collapsed": false
   },
   "outputs": [],
   "source": [
    "article1=u'''林宥嘉（Yoga Lin），1987年7月1日出生于台湾省屏东县，华语流行乐男歌手、音乐制作人，毕业于国立东华大学。\n",
    "2007年，参加台湾歌唱节目《超级星光大道第一届》并获得总冠军；同年，签约华研国际音乐而正式出道 [1-2]  。2008年，发行首张音乐专辑《神秘嘉宾》，获得IFPI香港唱片销量大奖十大销量国语唱片 [3]  。2009年，发行第二张音乐专辑《感官/世界》，获得第10届CCTV-MTV音乐盛典港澳台地区年度最受欢迎潜力歌手奖。随后，凭借歌曲《说谎》在乐坛获得关注 [4-5]  。2011年，发行第三张音乐专辑《美妙生活》，获得第17届新加坡金曲奖“年度专辑大奖” ；同年，主演首部电影作品《醉后一夜》 。2012年，发行第四张音乐专辑《大小说家》 [8]  ，获得中华音乐人交流协会“年度十大优良专辑” [9]  ，并凭该专辑入围第24届台湾金曲奖最佳国语男歌手 [10]  。\n",
    "2013年，首次登上央视春晚并演唱歌曲《给我你的爱》 [11]  。2014年，推出个人原创单曲《口的形状》 [12]  。2016年，首度担当制作人并发行了第五张音乐专辑《今日营业中》，并凭该专辑入围第28届台湾金曲奖最佳国语男歌手 [13-14]  ；同年，因在音乐节目《蒙面唱将猜猜猜》中演唱歌曲《成全》等再次获得关注 [15]  。2017年，举行“THE GREAT YOGA 世界巡回演唱会” [16]  。'''"
   ]
  },
  {
   "cell_type": "code",
   "execution_count": 14,
   "metadata": {
    "collapsed": false
   },
   "outputs": [],
   "source": [
    "doc = SnowNLP(article1)"
   ]
  },
  {
   "cell_type": "code",
   "execution_count": 16,
   "metadata": {
    "collapsed": false
   },
   "outputs": [
    {
     "data": {
      "text/plain": [
       "['林',\n",
       " '宥',\n",
       " '嘉',\n",
       " '（Yoga',\n",
       " 'Lin），1987',\n",
       " '年',\n",
       " '7',\n",
       " '月',\n",
       " '1',\n",
       " '日',\n",
       " '出生',\n",
       " '于',\n",
       " '台湾省',\n",
       " '屏',\n",
       " '东县',\n",
       " '，',\n",
       " '华语',\n",
       " '流行',\n",
       " '乐',\n",
       " '男',\n",
       " '歌手',\n",
       " '、',\n",
       " '音乐',\n",
       " '制作',\n",
       " '人',\n",
       " '，',\n",
       " '毕业',\n",
       " '于',\n",
       " '国立',\n",
       " '东华',\n",
       " '大学',\n",
       " '。',\n",
       " '2007',\n",
       " '年',\n",
       " '，',\n",
       " '参加',\n",
       " '台湾',\n",
       " '歌唱',\n",
       " '节目',\n",
       " '《',\n",
       " '超级',\n",
       " '星光',\n",
       " '大道',\n",
       " '第一',\n",
       " '届',\n",
       " '》',\n",
       " '并',\n",
       " '获得',\n",
       " '总',\n",
       " '冠军',\n",
       " '；',\n",
       " '同年',\n",
       " '，',\n",
       " '签约',\n",
       " '华研',\n",
       " '国际',\n",
       " '音乐而',\n",
       " '正式',\n",
       " '出道',\n",
       " '[1-2]',\n",
       " '。2008',\n",
       " '年',\n",
       " '，',\n",
       " '发行',\n",
       " '首',\n",
       " '张',\n",
       " '音乐',\n",
       " '专辑',\n",
       " '《',\n",
       " '神秘',\n",
       " '嘉宾',\n",
       " '》，',\n",
       " '获得',\n",
       " 'IFPI',\n",
       " '香港',\n",
       " '唱片',\n",
       " '销量',\n",
       " '大奖',\n",
       " '十',\n",
       " '大',\n",
       " '销量',\n",
       " '国',\n",
       " '语',\n",
       " '唱片',\n",
       " '[3]',\n",
       " '。2009',\n",
       " '年',\n",
       " '，',\n",
       " '发行',\n",
       " '第二',\n",
       " '张',\n",
       " '音乐',\n",
       " '专辑',\n",
       " '《',\n",
       " '感官',\n",
       " '/',\n",
       " '世界',\n",
       " '》，',\n",
       " '获得',\n",
       " '第',\n",
       " '10',\n",
       " '届',\n",
       " 'CCTV-MTV',\n",
       " '音乐盛',\n",
       " '典',\n",
       " '港澳台',\n",
       " '地区',\n",
       " '年度',\n",
       " '最',\n",
       " '受',\n",
       " '欢迎',\n",
       " '潜力',\n",
       " '歌手',\n",
       " '奖',\n",
       " '。',\n",
       " '随后',\n",
       " '，',\n",
       " '凭借',\n",
       " '歌曲',\n",
       " '《',\n",
       " '说',\n",
       " '谎',\n",
       " '》',\n",
       " '在',\n",
       " '乐坛',\n",
       " '获得',\n",
       " '关注',\n",
       " '[4-5]',\n",
       " '。2011',\n",
       " '年',\n",
       " '，',\n",
       " '发行',\n",
       " '第三',\n",
       " '张',\n",
       " '音乐',\n",
       " '专辑',\n",
       " '《',\n",
       " '美妙',\n",
       " '生活',\n",
       " '》，',\n",
       " '获得',\n",
       " '第',\n",
       " '17',\n",
       " '届',\n",
       " '新加坡',\n",
       " '金曲',\n",
       " '奖',\n",
       " '“',\n",
       " '年度',\n",
       " '专辑',\n",
       " '大奖',\n",
       " '”',\n",
       " '；',\n",
       " '同年',\n",
       " '，',\n",
       " '主演',\n",
       " '首',\n",
       " '部',\n",
       " '电影',\n",
       " '作品',\n",
       " '《',\n",
       " '醉',\n",
       " '后',\n",
       " '一',\n",
       " '夜',\n",
       " '》',\n",
       " '。2012',\n",
       " '年',\n",
       " '，',\n",
       " '发行',\n",
       " '第四',\n",
       " '张',\n",
       " '音乐',\n",
       " '专辑',\n",
       " '《',\n",
       " '大',\n",
       " '小说家',\n",
       " '》',\n",
       " '[8]',\n",
       " '，',\n",
       " '获得',\n",
       " '中华',\n",
       " '音乐人',\n",
       " '交流',\n",
       " '协会',\n",
       " '“',\n",
       " '年度',\n",
       " '十',\n",
       " '大',\n",
       " '优良',\n",
       " '专辑',\n",
       " '”',\n",
       " '[9]',\n",
       " '，',\n",
       " '并',\n",
       " '凭',\n",
       " '该',\n",
       " '专辑',\n",
       " '入围',\n",
       " '第',\n",
       " '24',\n",
       " '届',\n",
       " '台湾',\n",
       " '金曲',\n",
       " '奖',\n",
       " '最佳',\n",
       " '国',\n",
       " '语',\n",
       " '男',\n",
       " '歌手',\n",
       " '[10]',\n",
       " '。',\n",
       " '2013',\n",
       " '年',\n",
       " '，',\n",
       " '首',\n",
       " '次',\n",
       " '登',\n",
       " '上',\n",
       " '央视',\n",
       " '春',\n",
       " '晚',\n",
       " '并',\n",
       " '演唱',\n",
       " '歌曲',\n",
       " '《',\n",
       " '给',\n",
       " '我',\n",
       " '你',\n",
       " '的',\n",
       " '爱',\n",
       " '》',\n",
       " '[11]',\n",
       " '。2014',\n",
       " '年',\n",
       " '，',\n",
       " '推出',\n",
       " '个人',\n",
       " '原',\n",
       " '创',\n",
       " '单曲',\n",
       " '《',\n",
       " '口',\n",
       " '的',\n",
       " '形状',\n",
       " '》',\n",
       " '[12]',\n",
       " '。2016',\n",
       " '年',\n",
       " '，',\n",
       " '首度',\n",
       " '担当',\n",
       " '制作人',\n",
       " '并',\n",
       " '发行',\n",
       " '了',\n",
       " '第五',\n",
       " '张',\n",
       " '音乐',\n",
       " '专辑',\n",
       " '《',\n",
       " '今日',\n",
       " '营业',\n",
       " '中',\n",
       " '》，',\n",
       " '并',\n",
       " '凭',\n",
       " '该',\n",
       " '专辑',\n",
       " '入围',\n",
       " '第',\n",
       " '28',\n",
       " '届',\n",
       " '台湾',\n",
       " '金曲',\n",
       " '奖',\n",
       " '最佳',\n",
       " '国',\n",
       " '语',\n",
       " '男',\n",
       " '歌手',\n",
       " '[13-14]',\n",
       " '；',\n",
       " '同年',\n",
       " '，',\n",
       " '因',\n",
       " '在',\n",
       " '音乐',\n",
       " '节目',\n",
       " '《',\n",
       " '蒙面',\n",
       " '唱',\n",
       " '将',\n",
       " '猜猜',\n",
       " '猜',\n",
       " '》',\n",
       " '中',\n",
       " '演唱',\n",
       " '歌曲',\n",
       " '《',\n",
       " '成',\n",
       " '全',\n",
       " '》',\n",
       " '等',\n",
       " '再次',\n",
       " '获得',\n",
       " '关注',\n",
       " '[15]',\n",
       " '。2017',\n",
       " '年',\n",
       " '，',\n",
       " '举行',\n",
       " '“THE',\n",
       " 'GREAT',\n",
       " 'YOGA',\n",
       " '世界',\n",
       " '巡回',\n",
       " '演唱会',\n",
       " '”',\n",
       " '[16]',\n",
       " '。']"
      ]
     },
     "execution_count": 16,
     "metadata": {},
     "output_type": "execute_result"
    }
   ],
   "source": [
    "doc.words"
   ]
  },
  {
   "cell_type": "code",
   "execution_count": null,
   "metadata": {
    "collapsed": true
   },
   "outputs": [],
   "source": []
  },
  {
   "cell_type": "code",
   "execution_count": 18,
   "metadata": {
    "collapsed": false
   },
   "outputs": [
    {
     "data": {
      "text/plain": [
       "<zip at 0x20f084d7ec8>"
      ]
     },
     "execution_count": 18,
     "metadata": {},
     "output_type": "execute_result"
    }
   ],
   "source": [
    "doc.tags"
   ]
  },
  {
   "cell_type": "code",
   "execution_count": 19,
   "metadata": {
    "collapsed": false
   },
   "outputs": [
    {
     "data": {
      "text/plain": [
       "<bound method SnowNLP.keywords of <snownlp.SnowNLP object at 0x000002A760745390>>"
      ]
     },
     "execution_count": 19,
     "metadata": {},
     "output_type": "execute_result"
    }
   ],
   "source": [
    "doc.keywords"
   ]
  },
  {
   "cell_type": "code",
   "execution_count": 19,
   "metadata": {
    "collapsed": false
   },
   "outputs": [
    {
     "data": {
      "text/plain": [
       "['年', '专辑', '音乐', '届', '张']"
      ]
     },
     "execution_count": 19,
     "metadata": {},
     "output_type": "execute_result"
    }
   ],
   "source": [
    "doc.keywords()"
   ]
  },
  {
   "cell_type": "code",
   "execution_count": 2,
   "metadata": {
    "collapsed": false
   },
   "outputs": [],
   "source": [
    "from stanfordcorenlp import StanfordCoreNLP"
   ]
  },
  {
   "cell_type": "code",
   "execution_count": null,
   "metadata": {
    "collapsed": false
   },
   "outputs": [],
   "source": [
    "cn_nlp = StanfordCoreNLP('http://127.0.0.1',2003)"
   ]
  },
  {
   "cell_type": "code",
   "execution_count": null,
   "metadata": {
    "collapsed": false
   },
   "outputs": [],
   "source": [
    "cn_nlp.ner(article)"
   ]
  },
  {
   "cell_type": "code",
   "execution_count": null,
   "metadata": {
    "collapsed": true
   },
   "outputs": [],
   "source": [
    "cn_nlp.pos_tag(article)"
   ]
  },
  {
   "cell_type": "code",
   "execution_count": null,
   "metadata": {
    "collapsed": true
   },
   "outputs": [],
   "source": [
    "cn_nlp.dependency_parse('林宥嘉（Yoga Lin），1987年7月1日出生于台湾省屏东县')"
   ]
  },
  {
   "cell_type": "code",
   "execution_count": null,
   "metadata": {
    "collapsed": true
   },
   "outputs": [],
   "source": [
    "cn_nlp.word_tokenize('林宥嘉（Yoga Lin），1987年7月1日出生于台湾省屏东县')"
   ]
  },
  {
   "cell_type": "code",
   "execution_count": 3,
   "metadata": {
    "collapsed": true
   },
   "outputs": [],
   "source": [
    "import requests"
   ]
  },
  {
   "cell_type": "code",
   "execution_count": 4,
   "metadata": {
    "collapsed": false
   },
   "outputs": [],
   "source": [
    "html = requests.get('https://www.bing.com/knows/search?q=%e6%9e%97%e5%ae%a5%e5%98%89&mkt=zh-cn&FORM=BKACAI').content"
   ]
  },
  {
   "cell_type": "code",
   "execution_count": 5,
   "metadata": {
    "collapsed": true
   },
   "outputs": [],
   "source": [
    "from pyquery import PyQuery as pq"
   ]
  },
  {
   "cell_type": "code",
   "execution_count": 6,
   "metadata": {
    "collapsed": true
   },
   "outputs": [],
   "source": [
    "doc = pq(html)"
   ]
  },
  {
   "cell_type": "code",
   "execution_count": 7,
   "metadata": {
    "collapsed": false
   },
   "outputs": [
    {
     "data": {
      "text/plain": [
       "'//<![CDATA[ si_ST=new Date //]]>\\næ\\x9e\\x97å®¥å\\x98\\x89 - Bing ç½\\x91å\\x85¸\\n//<![CDATA[ _G={ST:(si_ST?si_ST:new Date),Mkt:\"zh-CN\",RTL:false,Ver:\"51\",IG:\"DB2C35410E3C4962ACC10375FBFCF673\",EventID:\"0A1FEA96AD014C628C283152D0416204\",V:\"web\",P:\"SERP\",DA:\"HK2\",CID:\"00DED3631F77684106B0DFAD1E596990\",SUIH:\"Z7A-ZOxwOOQCZUGG4aY93A\",adc:\"b_ad\",gpUrl:\"\\\\/fd\\\\/ls\\\\/GLinkPing.aspx?\" }; _G.lsUrl=\"/fd/ls/l?IG=\"+_G.IG+\"&CID=\"+_G.CID ;curUrl=\"https:\\\\/\\\\/www.bing.com\\\\/knows\\\\/search\";function si_T(a){ if(document.images){_G.GPImg=new Image;_G.GPImg.src=_G.gpUrl+\\'IG=\\'+_G.IG+\\'&CID=\\'+_G.CID+\\'&\\'+a;}return true;};/*!DisableJavascriptProfiler*/ 0;/*!DisableJavascriptProfiler*/ 0;/*!DisableJavascriptProfiler*/ 0; //]]>\\n.sw_ddbl:after,.sw_ddbk:after,.sw_ddw:after,.sw_ddgy:after,.sw_ddgn:after,.sw_poi:after,.sw_poia:after,.sw_play:after,.sw_playh:after,.sw_playa:after,.sw_playd:after,.sw_playp:after,.sw_st:after,.sw_sth:after,.sw_ste:after,.sw_st2:after,.sw_sth2:after,.sw_plus:after,.sw_minus:after,.sw_tpcg:after,.sw_tpcbl:after,.sw_tpcw:after,.sw_tpcbk:after,.sw_arw:after,.sw_arwh:after,.sb_pagN:after,.sb_pagP:after,.sw_up:after,.sw_down:after,.b_expandToggle:after,.sw_calc:after,.sw_fbi:after,.sw_twi:after,.sw_fbarw:after,.sw_fbtmb:after,.sw_twr:after,.sw_twrt:after,.sw_twf:after,.b_fLogo:after,.b_cm:after,.sw_rmore:after,.sw_tpo:after,.sw_tpoa:after,.sw_tpoh:after,.sw_lpoi:after,.sw_skp:after{position:relative;content:url(/sa/simg/SharedSpriteDesktopRewards_022118.png)}.sw_ddbl,.sw_ddbk,.sw_ddw,.sw_ddgy,.sw_ddgn,.sw_poi,.sw_poia,.sw_play,.sw_playh,.sw_playa,.sw_playd,.sw_playp,.sw_st,.sw_sth,.sw_ste,.sw_st2,.sw_sth2,.sw_plus,.sw_minus,.sw_tpcg,.sw_tpcbl,.sw_tpcw,.sw_tpcbk,.sw_arw,.sw_arwh,.sb_pagN,.sb_pagP,.sw_up,.sw_down,.b_expandToggle,.sw_calc,.sw_fbi,.sw_twi,.sw_fbarw,.sw_fbtmb,.sw_twr,.sw_twrt,.sw_twf,.b_fLogo,.b_cm,.sw_rmore,.sw_tpo,.sw_tpoa,.sw_tpoh,.sw_lpoi,.sw_skp{position:relative;display:inline-block;overflow:hidden;direction:ltr}.sw_tpcbk,.sw_tpcg,.b_expandToggle,.b_fLogo{display:block}.sw_play,.sw_playh,.sw_playa,.sw_playd,.sw_playp,.sw_skp,.sw_fbi,.sw_twi,.sw_fbarw,.sw_fbtmb{height:16px;width:16px}.sw_play:after{top:-22px;left:-315px}.sw_playh:after,.sw_playa:after{top:-22px;left:-333px}.sw_playd:after{top:-22px;left:-351px}.sw_playp:after{top:-22px;left:-369px}.sw_skp:after{left:-645px;top:-18px}.sw_fbi:after{left:-297px;top:-22px}.sw_twi:after{left:-645px}.sw_fbarw:after{left:-169px;top:-32px}.sw_fbtmb:after{left:-151px;top:-22px}.sw_st,.sw_sth,.sw_ste,.sw_st2,.sw_sth2,.sw_twf,.sw_pifa,.sw_pipp{height:12px;width:12px}.sw_st:after{left:-535px;top:-31px}.sw_st2:after{left:-563px;top:-31px}.sw_sth:after{left:-577px;top:-31px}.sw_sth2:after{left:-591px;top:-31px}.sw_ste:after{left:-549px;top:-31px}.sw_twf:after,.sw_pipp:hover:after,.sw_pipp:active:after,.sw_pipp:focus:after{left:-507px;top:-18px}.sw_pipp:after{left:-493px;top:-18px}.sw_twf:hover:after,.sw_twf:active:after,.sw_twf:focus:after{left:-521px}.sw_pifa:after{left:-433px;top:-18px}.sw_pifa:hover:after,.sw_pifa:active:after,.sw_pifa:focus:after{left:-447px}.sw_arw,.sw_arwh,.ccmc:hover .sw_arwh,.sw_pit,.sw_twr{height:11px;width:14px}.sw_arw:after,a:hover .sw_arwh.b_invert:after{left:-463px;top:-32px}.sw_arwh:after,a:hover .sw_arw.b_invert:after,.ccmc:active .sw_arwh:after{left:-447px;top:-32px}.sw_pit:after{left:-461px;top:-18px}.sw_pit:hover:after,.sw_pit:active:after,.sw_pit:focus:after{left:-477px}.sw_twr:after{left:-571px;top:-18px}.sw_twr:hover:after,.sw_twr:active:after,.sw_twr:focus:after{left:-587px}.sw_ddbl,.sw_ddbk,.sw_ddw,.sw_ddgy,.sw_ddgn{height:4px;width:7px}.sw_ddbl:after,.sw_ddbk:after,.sw_ddw:after,.sw_ddgy:after{left:-266px;top:-32px}.sw_ddgn:after{left:-256px;top:-32px}.sw_tpcg,.sw_tpcbl,.sw_tpcw,.sw_tpcbk{height:10px;width:10px}.sw_tpcg:after,.sw_tpcbl:after,.sw_tpcw:after,.sw_tpcbk:after{left:-176px;top:-32px}.sw_tpcg:hover:after,.sw_tpcg:active:after,.sw_tpcg:focus:after,.sw_tpcbl:after{left:-188px;top:-32px}.sw_plus{height:8px;width:8px}.sw_plus:after{left:-276px;top:-32px}.sw_plus:hover:after,.sw_plus:active:after,.sw_plus:focus:after{left:-286px;top:-32px}.sw_minus{height:2px;width:8px}.sw_minus:after{left:-256px;top:-38px}.sw_minus:hover:after,.sw_minus:active:after,.sw_minus:focus:after{left:-266px;top:-38px}.sb_pagP,.sb_pagN{height:30px;width:30px}.sb_pagP:after{left:-233px}.sb_pagP:hover:after,.sb_pagP:active:after,.sb_pagP:focus:after{left:-265px}.sb_pagN:after{left:-169px}.sb_pagN:hover:after,.sb_pagN:active:after,.sb_pagN:focus:after{left:-201px}.sb_pagP_bp:after{left:-697px}.sb_pagP_bp:hover:after,.sb_pagP_bp:active:after,.sb_pagP_bp:focus:after{left:-739px}.sb_pagN_bp:after{left:-697px}.sb_pagN_bp:hover:after,.sb_pagN_bp:active:after,.sb_pagN_bp:focus:after{left:-739px}.sb_inactP:after,.sb_inactP:hover:after{left:-781px}@media screen and (-ms-high-contrast:active){.sb_pagN:after,.sb_pagP:after{content:\"\"}li.b_pag a.sb_pagN,li.b_pag a.sb_pagP{width:auto}li.b_pag a.b_roths{transform:rotate(0deg);-webkit-transform:rotate(0deg);-moz-transform:rotate(0deg);-ms-transform:rotate(0deg);-o-transform:rotate(0deg)}.b_pag .sw_next,.b_pag .sw_prev{display:block}}.b_expandToggle,.sw_up,.sw_down{height:8px;width:12px}.b_expandToggle:after,.sw_up:after,.sw_down:after{left:-228px;top:-32px}.b_active .b_expandToggle:after,.sw_up:after{left:-200px}*:active>.b_active .b_expandToggle:after,*:hover>.sw_up:after,*:active>.sw_up:after,*:focus>.sw_up:after{left:-214px}*:active>.b_expandToggle:after,*:hover>.sw_down:after,*:active>.sw_down:after,*:focus>.sw_down:after{left:-242px}.b_icon,.sw_poi,.sw_poia{width:20px;height:20px;z-index:0}.sw_poi:after,.sw_poia:after{left:-297px;position:absolute;z-index:-1}.sw_poia:after{left:-319px}.b_fLogo{height:16px;width:81px}.b_fLogo:after{left:-402px}.b_cm{height:10px;width:12px}.b_cm:after{left:-433px;top:-32px}.sw_calc{height:19px;width:19px}.sw_calc:after{left:-363px}.sw_twrt{height:10px;width:16px}.sw_twrt:after{left:-535px;top:-18px}.sw_twrt:hover:after,.sw_twrt:active:after,.sw_twrt:focus:after{left:-553px;top:-18px}.sw_pil{height:16px;width:12px}.sw_pil:after{left:-405px;top:-18px}.sw_pil:hover:after,.sw_pil:active:after,.sw_pil:focus:after{left:-419px}.sw_tpo,.sw_tpoh,.sw_tpoa,.sw_rmore{height:12px;width:8px;display:block}.sw_tpo:after,.sw_tpoh:after,.sw_tpoa:after{left:-131px;top:-25px}.exp_th .sw_tpoh:after{left:-141px}.exp_ta .sw_tpoh:after{left:-131px}.sw_rmore:after{left:-121px;top:-25px}.sw_lpoi{height:16px;width:10px}.sw_lpoi:after{left:-633px;top:-18px}html,body #b_results .b_no{background-color:#fff}.b_footer{background-color:#ececec}#b_results>li a{color:#001ba0}#b_results>li a:visited{color:#600090}#b_results>li{background-color:#fff}#b_results>.b_ad a{color:#001ba0}#b_results>.b_ad a:visited{color:#600090}#b_results>.b_pag{background-color:transparent}#b_results>.b_pag a:hover{background-color:#f4f4f4}#b_results>.b_pag .sb_pagS_bp:hover{background-color:#fff}#b_results>.b_pag a.sb_pagP:hover,#b_results>.b_pag a.sb_pagN:hover{background-color:inherit}#b_context .b_ans,#b_context #wpc_ag{background-color:#fff}#b_context>li.b_ad{color:#666;background-color:#fff}#b_context>li.b_ad a{color:#001ba0}#b_context>li.b_ad a:visited{color:#600090}.ccmc{background-color:#ccc}.ccmc:active{background-color:#36b}#b_tween .b_selected,div.b_dropdown .b_selected,#b_tween a.ftrH.b_selected:hover{background:#e1e0df}#b_tween .b_toggle:hover,#b_tween .ftrH:hover{background:#f2f2f2}.b_scroll{background:#999;border-color:#999}.b_scroll:hover{background:#4d4d4d}.b_dropdown{background-color:#fff;border-color:#e5e5e5}.ctxt,select,input[type=\"text\"]{color:#444;border-color:#ddd}.ccal{border-color:#ddd}.ccal:hover,.ctxt:hover,select:hover,input[type=\"text\"]:hover{box-shadow:0 1px 2px 0 rgba(0,0,0,.1);-webkit-box-shadow:0 1px 2px 0 rgba(0,0,0,.1)}.ctxt:focus,select:focus,input[type=\"text\"]:focus{color:#444;border-color:#919191;box-shadow:0 1px 2px 0 rgba(0,0,0,.1);-webkit-box-shadow:0 1px 2px 0 rgba(0,0,0,.1)}.ccal input[type=\"text\"],.ccal input[type=\"text\"]:hover,.ccal input[type=\"text\"]:focus{color:#444}label{color:#767676}#b_results ::placeholder{color:#767676;opacity:1}#b_results :-ms-input-placeholder{color:#767676}#b_results ::-webkit-input-placeholder{color:#767676}#b_results input[type=\"text\"]:disabled{color:#ccc}a,#b_tween a:visited,#b_results .b_no a{color:#001ba0}a:visited,#b_results>li a:visited{color:#600090}cite,#b_results cite.sb_crmb a,#b_results cite a.sb_metalink,#b_results .b_adurl cite a,#bk_wr_container cite a{color:#006d21}.b_posText{color:#006d21}.b_negText{color:#c80000}#b_context cite,#b_context cite a,.b_expando cite,.b_expando cite a{color:#006d21}#b_context .b_posText,.b_expando .b_posText{color:#006d21}#b_context .b_negText,.b_expando .b_negText{color:#c80000}.b_ad cite,.b_ad cite a{color:#006d21}#b_context .b_entityTitle,#b_results .b_entityTitle{color:#444}#b_context .b_entitySubTitle,#b_results .b_entitySubTitle{color:#767676}#b_context,#b_context #wpc_eif,#b_context .b_defaultText{color:#666}body,.b_promoteText,#b_tween a.ftrH,#b_tween a.ftrH:hover,.b_expando,.b_expando h2,.b_expando h3,.b_expando h4,.b_expando .b_defaultText,.b_active a,.b_active a:visited,.b_active a:hover,#b_results>.b_pag a,#b_results .b_no,#b_content a.cbl:visited,#b_content a.cbl{color:#666}#b_results>.b_pag .sb_pagS_bp{color:#111}.b_top,.b_top .b_promoteText{color:#444}.b_alert,.sb_alert,.b_pAlt,#b_results .b_no .b_alert,#b_results .b_no .sb_alert,#b_results .b_no .b_pAlt{color:#d90026}#b_results .b_alert,#b_results .sb_alert,#b_results .b_pAlt{color:#d90026}#b_context .b_alert,#b_context .sb_alert,#b_context .b_pAlt{color:#d90026}.b_demoteText,.b_secondaryText,.b_attribution,.b_factrow,.b_focusLabel,.b_footnote,.b_ad .b_adlabel,#b_tween .b_dropdown a,.b_expando .b_subModule,.b_expando .b_suppModule,.b_algo .b_vList td{color:#767676}.b_algo .b_factrow{color:#666}.b_footer,.b_footer a,.b_footer a:visited{color:#666}#b_content .b_lowFocusLink a,#b_context .b_secondaryText,#b_context .b_attribution,#b_context .b_factrow,#b_context .b_footnote,#b_context .b_ad .b_adlabel,.b_expando .b_secondaryText,.b_expando .b_attribution,.b_expando .b_factrow,.b_expando .b_footnote,#b_tween .b_nonselectable{color:#767676}#b_context .b_pointer.b_mhdr:hover .b_secondaryText{color:#36b}.b_button:hover,.b_button:visited,.b_hlButton,.b_hlButton:hover,.b_hlButton:visited,.b_foregroundText,.ciot{color:#fff}.b_caption,.snippet{color:inherit}.b_top .b_caption{color:inherit}.ciot{background-color:#000}.b_button:hover,.b_hlButton{background-color:#0072c5}.b_button:active,.b_hlButton:active{background-color:#333}.b_hlButton:hover{background-color:#006887}.b_border,.b_button,.b_hlButton{border-color:#ccc}.b_pag a{border:3px solid transparent}.b_pag a.sb_bp{border:0;border-bottom:3px solid transparent}.b_pag .sb_pagS{border-color:#ededed}.b_pag a.sb_pagS_bp{border-color:#111}#b_context .b_subModule,#b_results .b_subModule,.overlay-container .b_subModule{border-bottom:1px solid #ebebeb}#b_context .b_subModule:last-child,#b_results .b_subModule:last-child .overlay-container .b_subModule:last-child{border-bottom:0}.c_tlbx,.c_tlbxIS{border-color:#999;background:#fff}.sw_poi{color:#fff}.sw_poia{color:#fff}.sc_errorArea>.sc_error,.sc_errorArea>.sc_error h1,.sc_errorArea>.sc_error h3{color:#666}.sc_errorArea font[color=red]{color:#d90026 !important}#b_results>.b_ad{color:#666;background-color:#f9fcf7}#b_results,#b_results .b_defaultText,#b_results>.b_pag a:hover,#b_tween .b_selected,#b_tween a.ftrH.b_selected,#b_tween a.ftrH.b_selected:hover,#b_tween .b_toggle:hover,#b_tween .b_highlighted,#hlcchcxmn label{color:#666}html,body,h1,h2,h3,h4,h5,h6,p,img,ol,ul,li,form,table,tr,th,td,blockquote{border:0;border-collapse:collapse;border-spacing:0;list-style:none;margin:0;padding:0}html{overflow-y:scroll}#b_content{clear:both;min-height:344px;padding:13px 0 20px 100px}#b_pole{margin:3px 0 15px -100px;padding-left:120px}#b_context{margin:0 0 0 40px;padding:0 20px}#b_context .b_ans,.b_expando .b_ans,#b_context .b_ad,.b_card{margin:0 -20px}#b_context .b_ans,.b_expando .b_ans{padding:10px 20px 0}#b_context .b_ad{padding:10px 20px}.b_card{padding:15px 20px}#b_results,#b_context{margin-top:28px}.b_underSearchbox~#b_results,#b_tween~#b_results,#b_tween~#b_context,#b_tween~.b_twoColOnly #b_context,#b_pole~#b_results,#b_pole~#b_context,#b_pole~.b_twoColOnly #b_context,#b_results:only-child{margin-top:0}#b_results,#b_context,#b_tween>span,.b_hList>li,.c_tlbxTrg,.b_hPanel>span,.ccal .ccali,.b_footerRight,.b_hPanel .b_xlText,.b_hPanel .cico,.b_moreLink,.b_label+.b_hList,.lc_bks,.lc_bkl,.fiw,.csrc,.b_footnote .cico,.b_algo .b_title H2,.b_algo .b_title div,h3{display:inline-block}.b_pointer{cursor:pointer}label,.b_ad .b_adlabel,.c_tlbxTrgIcn{display:block}#b_tween{margin-top:0}.b_underSearchbox~#b_tween{margin-top:-2px}#b_tween,#b_tween .ftrH{height:30px}#b_tween>span{padding-right:25px}#b_results>li{padding:10px 20px;margin:0 0 2px}#b_results>.b_ans{padding:12px 20px 0}#b_results>.b_algo{padding:12px 20px 0}#b_results>li .b_fullb{margin-left:-20px;margin-right:-20px}#b_results>.b_ad{padding-right:18px;border-right:2px solid #e5e5e5}#b_results>li:first-child{padding-top:10px}#b_results>.b_pag{padding:18px 0 40px 20px}#b_results>.si_pp,.sb_hbop,.b_hide,.ttl,#sw_tfbb,.sw_next,.sw_prev,#id_d,.b_hidden img{display:none}.b_hidden{visibility:hidden}#b_context .b_ans,.b_expando .b_ans{margin-bottom:5px}#b_context .b_ad{margin-bottom:5px}.b_inlineList li,.b_inlineList div,.b_factrow li{display:inline}.b_footerRight,td,th,#b_context,.b_hList>li{vertical-align:top}.b_footer{width:100%;padding:12px 0}.c_tlbxTrg{width:15px;height:14px;margin:-1px 6px -3px 2px}.c_tlbxTrgIcn{margin:4px 0 2px 3px}.c_tlbx{position:absolute;z-index:6;border:1px solid;padding:10px}.c_tlbxIS{border-bottom:1px solid}.b_deep ul{width:230px}#b_results .b_gridList ul{width:250px}.b_gridList ul:first-child,.b_vlist2col ul:first-child{margin:0 20px 0 0}.b_gridList li,.b_vlist2col li{padding:0 0 10px}.b_vlist2col.b_deep li{padding:0 0 10px}.b_overhangR .b_vlist2col ul:first-child{margin:0 15px 0 0}.b_overhangR .b_vlist2col ul{width:180px}.b_deep p{height:33px}#b_context .b_ad .b_adlabel,#b_content .b_expanderControl .sw_plus,.sc_rf form,form.sc_rf,.b_lBMargin{margin-bottom:10px}.b_ad li,#b_results .b_ad .b_adlabel{margin-bottom:8px}.b_ad li:last-child{margin-bottom:0}.b_ad li li,.b_ad li li:last-child{margin:0}#b_results .b_ad .b_vlist2col,#b_results .b_ad .b_factrow,#b_results .b_ad .b_bcfactrow{margin-top:-6px}#b_results .b_ad .sb_adRA .b_vlist2col{padding-left:0}.sx_ci{border:1px solid #e5e5e5;margin-top:3px;width:80px;height:60px}.b_favicon{margin:0 .5em 0 0}.b_imagePair:after,.b_vlist2col:after,.b_gridList:after{clear:left}.b_imagePair.reverse:after,.b_overhangR:after{clear:right}.b_clear,#b_results>li:after,.b_clearfix:after{clear:both}#b_results>li:after,.b_clearfix:after,.b_imagePair:after,.b_vlist2col:after,.b_gridList:after,.b_overhangR:after{content:\\'.\\';display:block;height:0;visibility:hidden}.b_vlist2col ul,.b_gridList ul,.b_float,.b_footer,.b_float_img,.b_pag li,.b_mhdr h2{float:left}.b_floatR_img,.b_floatR,.wr_tc{float:right}.b_overflow,.b_hList li,.b_1linetrunc,.b_deep p,.b_imageOverlayWrapper{overflow:hidden}.b_ansImage{padding:2px 10px 0 0}.b_creditedImg img,.b_creditedImg .cico{padding-bottom:1px}h4,.sa_uc>.b_vList>li>table td,.b_smBottom,#b_context .b_ad h2,.b_attribution,.b_secondaryFocus,.b_focusTextLarge,.b_focusTextMedium,.b_focusTextSmall,.b_focusTextExtraSmall,.b_snippet{padding-bottom:2px}.b_factrow{padding-bottom:2px}h2,.b_focusLabel,label{padding-bottom:3px}.b_vPanel .b_vPanel>div,.b_vList .b_vPanel>div{padding-bottom:5px}.b_dataList li,.b_mBottom{padding-bottom:5px}.b_lBottom,#b_results #sp_recourse.b_lBottom,.b_caption,.b_moreLink,.b_footnote,.b_hList>li,#b_context h2,#b_results .b_subModule h2,#b_results .b_ad .b_factrow,#b_results .b_ad .b_bcfactrow,.overlay-container .b_subModule h2,.b_expando h2,.b_no h1,.b_no h4,.b_no li,.b_prominentFocusLabel,.ht_module,.b_locStr,.b_entitySubTitle{padding-bottom:10px}.b_vPanel>div,.b_vList>li{padding-bottom:10px}#b_results .b_ans>.b_factrow:last-child{padding-bottom:10px}.b_vList .b_hList>li,.b_vPanel .b_hList>li,#b_content .ht_module h2,.b_vList .b_float_img,.b_creditedImg .b_footnote,.b_creditedImg .cico img,#b_results>.b_ad,.b_suppModule .b_mhdr,.b_vList>li>.tab-container,.b_vPanel>div>.tab-container,.b_ad .b_deep h3,#b_content .b_float_img_nbp{padding-bottom:0}.b_caption .b_factrow:last-child,#b_results .b_caption .b_factrow:last-child,.b_caption>.b_dataList:last-child li:last-child,.b_caption .b_moreLink:last-child,.b_vList .b_moreLink:last-child,.b_vList .b_factrow:last-child,.b_hList .b_factrow:last-child,.b_vPanel .b_factrow:last-child,.b_caption .b_attribution:last-child,.b_vList .b_attribution:last-child,.b_hList .b_attribution:last-child,.b_vPanel .b_attribution:last-child,.b_vList>li>table:last-child tr:last-child td,.b_vPanel>div>table:last-child tr:last-child td,.b_vList .b_focusLabel:last-child,.b_vPanel .b_focusLabel:last-child,.b_vList .b_prominentFocusLabel:last-child,.b_vPanel .b_prominentFocusLabel:last-child,.b_vList .b_secondaryFocus:last-child,.b_vPanel .b_secondaryFocus:last-child,.b_vList .b_focusTextExtraSmall:last-child,.b_vPanel .b_focusTextExtraSmall:last-child,.b_vList .b_focusTextSmall:last-child,.b_vPanel .b_focusTextSmall:last-child,.b_vList .b_focusTextMedium:last-child,.b_vPanel .b_focusTextMedium:last-child,.b_vList .b_focusTextLarge:last-child,.b_vPanel .b_focusTextLarge:last-child,.b_vList h4:last-child,.b_vPanel h4:last-child,.b_vPanel .b_caption:last-child,.b_vPanel .b_vList:last-child>li:last-child,.b_vPanel .b_footnote:last-child{padding-bottom:0}.b_vList .b_vPanel,.b_vPanel .b_vPanel{margin-bottom:-5px}.b_hList .b_vList,.b_hList .b_vPanel{margin-bottom:-10px}.ht_module .sc_rf form.lc_bk,.b_mBMargin,.wpcbcc{margin-bottom:5px}#b_results .b_no{margin:0 0 80px}.b_rich{padding-top:3px}h2+.b_rich{padding-top:2px}.b_algo .b_attribution img{vertical-align:text-bottom}.b_smLeft{padding-left:2px}.b_lLeft,.b_floatR_img,.b_suffix,.b_footnote .cico{padding-left:10px}.wr_tc,.b_xlLeft,.b_deep,#b_results .b_ad .b_vlist2col,#b_tween{padding-left:20px}h2 .b_secondaryText{margin-left:5px}.b_hList.b_imgStrip>li{padding-right:1px}.b_smRight{padding-right:2px}.fiw,.lc_bkl,.b_mRight,.b_label,.csrc{padding-right:5px}.b_lRight,.b_imgStrip .imgData,.b_underSearchbox .b_label{padding-right:10px}.b_hPanel>span,.b_hList>li{padding-right:10px}.b_hPanel.wide>span,.b_xlRight{padding-right:20px}.b_hList.b_imgStrip>li:last-child,.b_hList>li:last-child,.b_hPanel>span:last-child,td:last-child,th:last-child,#b_tween>span:last-child{padding-right:0}.b_twoColumn>div:first-child{padding-right:30px}.b_overhangR{margin-right:-30px;padding-right:150px}.wr_tc{margin-right:-150px}.wr_et{margin-right:-120px}.b_tbl{margin-right:-10px}.b_border,.b_button,.b_hlButton,.b_scroll,.b_dropdown{border-width:1px;border-style:solid}.b_button,.b_hlButton{line-height:30px;text-decoration:none;text-align:center;cursor:pointer;padding:0 15px;min-width:50px}.lc_bks .cbtn{margin-top:15px}#b_context .b_subModule,#b_results .b_subModule,.b_expando .b_subModule,.overlay-container .b_subModule{padding-bottom:0;margin-bottom:10px}#b_context .b_subModule:last-child,#b_results .b_subModule:last-child,.b_subModule .b_subModule:last-child{margin-bottom:0}.b_dropdown{position:absolute;z-index:6}.b_scroll{position:relative;top:0;width:5px;height:20px}.b_pag a{display:block;min-width:34px;margin-right:10px;text-align:center;height:34px;line-height:34px}.b_pag a.sb_bp{min-width:40px;margin-right:20px;height:37px;line-height:42px}.b_pag .b_widePag{margin-right:28px}.b_pag a.sb_pagN,.b_pag a.sb_pagP{min-width:0;height:30px;width:30px;border:0;margin-top:5px}.b_pag a.sb_pagN_bp,.b_pag a.sb_pagP_bp{height:40px;width:40px;margin-top:0}.b_pag a.b_roths{transform:rotate(180deg);-webkit-transform:rotate(180deg);-moz-transform:rotate(180deg);-ms-transform:rotate(180deg);-o-transform:rotate(180deg)}.b_pag .sw_prev,.b_pag .sw_next{margin:2px}.b_mhdr{margin:-15px 0 -5px;padding:15px 0 5px}.b_mhdr .sw_up,.b_mhdr .sw_down{margin-top:10px}.b_mhdr .b_moreLink,.b_mhdr .b_secondaryText{margin-top:8px}.b_vPanel .sc_rf form,.b_suppModule .b_mhdr{margin-bottom:0}.b_rTxt{text-align:right}.b_cTxt{text-align:center}.b_jTxt{text-align:justify}table{width:100%;word-wrap:break-word}td,th,.b_float_img{padding:0 10px 10px 0}th{text-align:left}.sw_poi,.sw_poia{float:left;margin:-3px 5px 0 0;line-height:20px;text-align:center}.ctxt,select,input[type=\"text\"]{outline:none;padding:0 11px;height:30px;border-width:1px;border-style:solid;border-radius:2px}.ctxt.b_focusTextMedium{padding:3px 11px 8px 11px;height:57px}.ctxt.b_outTextBox{border-top:4px solid #919191;padding:0 11px 8px 11px}.ctxt.b_outTextBox:focus{border-top-width:1px;padding-top:3px}select{padding:0 0 0 11px;height:32px}input.ctxt,.ccal input,.ccal .ccali,.b_favicon,.b_footnote .cico{vertical-align:middle}.ccal .ctxt,.ccal .ctxt:hover,.ccal .ctxt:focus,.ccal .ccali{background:none;border:none;box-shadow:none;-webkit-box-shadow:none}.ccal{border-width:1px;border-style:solid}.ccal .ccali{height:30px}.ccal .ccalp{padding:5px 5px 0 5px}.b_underSearchbox{margin:-7px 20px 14px}.b_underSearchbox .b_hList>li{padding:0 8px 0 0}.b_compactSearch label{float:left;margin:7px 10px 0 0}.b_compactSearch input{margin-right:0;float:left}.b_compactSearch .cbtn{border-left:0}.b_footer table{width:520px;margin:15px 20px 0 120px}#b_footerItems ul{display:block}#b_footerItems li{display:inline;float:left}#b_footerItems span{margin-right:24px;margin-left:48px;float:right}#b_footerItems a{margin-right:24px}#b_footerItems{height:24px;line-height:24px;padding:0 20px}.b_footerRight{margin:13px 0 0 50px}.b_1linetrunc{text-overflow:ellipsis;white-space:nowrap}div.cico.b_capImg{padding-bottom:4px}.b_imageOverlayWrapper{margin:-20px 0 0;height:20px}.b_imageOverlay{color:#fff;background-color:#000;padding:5px}.ansP,.ansPF{padding-left:30px}.ansP .wpc_pin,.ansPF .wpc_pin{margin-left:-30px}#b_context .rssmgrp .b_subModule,.overlay-container .rssmgrp .b_subModule{border-bottom:0}#b_context .b_entitySubTitle,#b_results .b_entityTP .b_entitySubTitle{margin-top:-9px}.b_entityTP .b_infocardTopR .b_floatR_img{padding-bottom:10px}.b_vmparent{display:-ms-flexbox;display:-webkit-flex;display:flexbox;display:-webkit-box;display:flex;align-items:center}.b_relative{position:relative}input,textarea,h4,h5{font:inherit;font-size:100%}body,.b_no h4,h2 .b_secondaryText,h2 .b_alert{font:13px/normal Arial,Helvetica}h1,h2,h3{font:13px/1.2em \\'Microsoft YaHei\\',Arial,Helvetica,sans-serif}h2{font-size:20px;line-height:24px}h3,.b_no h1{font-size:18px}cite{font-style:normal}.sb_alert a{font-style:italic}#b_content,#b_context,.b_expando{line-height:1.2em}cite,#b_context,.b_expando,#vidans2{word-wrap:break-word}#sa_ul li,.nowrap{white-space:nowrap}.b_footer{line-height:18px}.b_smText,.b_footnote,.ciot{font-family:Arial,Helvetica;font-size:11px;line-height:normal}.b_ad .b_adlabel,.b_ad .b_adlabel strong{font:12px/normal Arial,Helvetica}.b_mText{font:16px/22px \\'Microsoft YaHei\\',Arial,Helvetica,sans-serif}.b_focusLabel,.b_secondaryFocus,.b_focusTextExtraSmall{font:18px/1.2em \\'Microsoft YaHei\\',Arial,Helvetica,sans-serif}.b_focusTextExtraSmall{line-height:1.3em}.b_entityTitle,.b_prominentFocusLabel,.b_xlText{font-size:24px;font-family:\\'Microsoft YaHei\\',Arial,Helvetica,sans-serif;line-height:1.2em}.b_entityTitle{line-height:normal}.b_entitySubTitle{font:14px/1.2em \\'Microsoft YaHei\\',Arial,Helvetica,sans-serif}.b_focusTextSmall,.b_focusTextMedium,.b_focusTextLarge{font:200 32px/1.2em \\'Microsoft YaHei\\',Arial,Helvetica,sans-serif}.b_focusTextMedium{font-size:40px}.b_focusTextLarge{font-size:60px}strong,.b_active a,.b_no h4,.b_strong,.b_ad .b_adlabel strong,.cbl{font-weight:700}th,h2 strong,h3 strong{font-weight:normal}#b_tween{font-size:12px}#b_tween>span,#b_tween .ftrH{line-height:30px}.sb_count{text-transform:capitalize}a,.b_algoheader a:hover,.b_topbar a:hover,.b_pag a:hover,.cbtn:hover,.cbtn a:hover,.b_hlButton:hover,.ftrB a:hover,.b_algo:hover .b_vList h2 a,.b_algo:first-child:hover .b_vList h2 a,#b_results>.b_ans:hover .ent_cnt h2>a,#b_results>.b_ans:hover #sp_requery h2>a,#b_results>.b_ans .b_rich>.b_vList>li:hover h5.b_lBMargin>a{text-decoration:none}a:hover,.b_algoheader a h2:hover,.b_algo:first-child:hover h2 a,.b_algo .b_underline a,.sb_add .b_underline a,#b_results>.b_ad li:first-child .sb_adTA:hover h2 a{text-decoration:underline}#b_results>li.b_ans.b_topborder{padding:15px 19px 10px 19px;margin-bottom:12px;border-radius:4px}#b_results>li.b_ans.b_topborder .bgtopgr{border-bottom-left-radius:4px;border-bottom-right-radius:4px}#b_results>li.b_ans.b_topborder .bgtopwh{border-radius:4px 4px 0 0}#b_results .b_ans~.b_topborder{margin-top:10px}#b_results .b_ad~.b_ans.b_topborder{margin-top:12px}#b_results>li.b_ans.b_topborder.b_tophb{border:1px solid #ddd;box-shadow:none;padding:0}#b_results>li.b_ans.b_topborder,#b_results>li.b_ans.b_topborder.b_tophb.b_topshad{box-shadow:0 0 0 1px rgba(0,0,0,.05),0 2px 3px 0 rgba(0,0,0,.1);border:none}.b_tophb .b_tophbh{padding:15px 19px 16px 19px}.b_tophb .b_tophbb{border-top:1px solid #ddd;padding:15px 19px 19px 19px}.b_topshad .b_tophbb{padding-bottom:10px}.b_tophb .b_tophbb.bgbtopnone{border-top:none}.b_tophb .bgtopwh{background-color:#fff}.b_tophb .bgtopgr{background-color:#f5f5f5}#b_results>.b_ad+.b_top{margin-top:0}.b_top .b_attribution+.b_rich,.b_top .b_factrow+.b_rich{padding-top:8px}.b_top .b_topTitle+.b_rich{padding-top:12px}.b_tHeader,.b_demoteText,.b_secondaryText,.b_attribution,.b_factrow,.b_focusLabel,.b_footnote,.b_ad .b_adlabel,#b_tween .b_dropdown a,.b_expando .b_subModule,.b_expando .b_suppModule,.b_algo .b_vList td,#b_content .b_lowFocusLink a,#b_context .b_secondaryText,#b_context .b_attribution,#b_context .b_factrow,#b_context .b_footnote,#b_context .b_ad .b_adlabel,.b_expando .b_secondaryText,.b_expando .b_attribution,.b_expando .b_factrow,.b_expando .b_footnote{color:#767676}.b_ad .b_secondaryText{color:#767676}#b_context .b_mhdr:hover .b_secondaryText,.b_expando .b_mhdr:hover .b_secondaryText{color:#001ba0}h2.b_topTitle{font-size:24px;line-height:1.2em}#b_results>.b_top .b_prominentFocusLabel,#b_results>.b_top .b_topTitle,#b_results>.b_top .b_focusTextExtraSmall,#b_results>.b_top .b_focusTextExtraSmall a,#b_results>.b_top .b_focusTextSmall,#b_results>.b_top .b_focusTextSmall a,#b_results>.b_top .b_focusTextMedium,#b_results>.b_top .b_focusTextMedium a,#b_results>.b_top .b_focusTextLarge,#b_results>.b_top .b_focusTextLarge a{color:#111}span.b_negText.b_focusTextExtraSmall{color:#c80000 !important}span.b_posText.b_focusTextExtraSmall{color:#006d21 !important}.b_top .b_focusTextExtraSmall a,.b_top .b_focusTextSmall a,.b_top .b_focusTextMedium a,.b_top .b_focusTextLarge a{text-decoration:none}#b_results>.b_top:hover .b_focusTextExtraSmall a,#b_results>.b_top:hover .b_focusTextSmall a,#b_results>.b_top:hover .b_focusTextMedium a,#b_results>.b_top:hover .b_focusTextLarge a{color:#001ba0}#b_results>.b_top .b_focusTextExtraSmall a:hover,#b_results>.b_top .b_focusTextSmall a:hover,#b_results>.b_top .b_focusTextMedium a:hover,#b_results>.b_top .b_focusTextLarge a:hover{text-decoration:underline}.fc_cal_holder table{font-size:11px}body .fc_cal_holder{border:1px solid #0072c5}body .fc_cal_holder .fc_cal_disabled{color:#767676}body .fc_cal_holder a:link,body .fc_cal_holder a:visited{color:#666}body .fc_cal_holder td,body .fc_cal_holder .fc_cal_disabled,body .fc_cal_holder .fc_cal_days td{width:20px;line-height:20px;padding:0 10px 10px 0}.fc_cal_holder tr td:first-child{padding-left:10px}.fc_cal_holder tr:last-child td{padding-bottom:15px}body .fc_cal_holder .fc_cal_days td{line-height:15px;color:#767676;background-color:#fff}body .fc_cal_holder a{padding:0}body .fc_cal_holder td a:hover,body .fc_cal_holder td a:active,body .fc_cal_holder td.fc_cal_current a:hover,body .fc_cal_holder td.fc_cal_current a:active{background-color:#eee;color:#666}body .fc_cal_holder .fc_cal_monthHolder+.fc_cal_monthHolder{border-left:1px solid #bfdcf0}body .fc_cal_holder .fc_cal_monthHolder{background-color:#fff;border:0;padding:15px 15px 10em 15px}body .fc_cal_holder th div{background-color:#fff;border:0;padding:0 0 15px;color:#666;text-align:center;font-size:13px}body .fc_cal_holder .fc_cal_current a{background-color:#001ba0}body .fc_cal_monthDec.fc_cal_monthChange,body .fc_cal_monthInc.fc_cal_monthChange{background:url(/sa/simg/navchevrons_topRefresh.png) no-repeat;width:8px;height:12px;background-position:0 -110px;font-size:0}body .fc_cal_monthDec.fc_cal_monthChange{background-position:0 -44px}body .fc_cal_holder .fc_cal_month_first .fc_cal_monthDec{margin:1px 0 0 15px}body .fc_cal_holder .fc_cal_month_last .fc_cal_monthInc{margin:1px 15px 0 0}strong{color:#c00;font-weight:normal}.sa_as li.pp_tile strong{color:#444;font-weight:700}cite strong{font-weight:700}.b_attribution,cite strong{color:#006d21}#b_results p{word-wrap:break-word}.b_algo .b_attribution .c_tlbx,#b_context .b_ans h2{color:#767676}.b_hPanel>span{vertical-align:middle}.b_deep h3,.b_ans h5,.b_attribution,.b_vList>li,.b_hList>li,.b_caption,.b_moreLink,.b_xlText{padding-bottom:3px}.b_factrow{padding-bottom:3px}.b_vPanel{margin-bottom:-10px}#b_results>.b_pag{padding-bottom:10px}.b_ans .b_imagePair>.inner{padding-top:1px;padding-bottom:7px}#b_results .b_imagePair.square_mi{padding-left:21px}#b_results .b_imagePair.square_mi>.inner{margin-top:5px;margin-left:-21px}#dict_ans .b_imagePair.square_mi>.inner{margin-top:2px}.knwp:hover .knbx{display:block}.knwp .knic{padding-top:2px}.b_inlineList div,.knbx.c_tlbx img,.b_ans .b_title H2,.b_ans .b_title div{display:inline-block}.b_hList .image_wrapper>.cico{position:static;padding-bottom:0}.fiw{padding-right:0;padding-bottom:0}.fiw>select{vertical-align:middle;line-height:26px}.b_ans .b_rs>h2{padding-bottom:7px}#b_context .b_ad h2,.b_ad h2,.b_ad .b_attribution,.b_ans .b_caption,.b_vPanel .b_lBottom{padding-bottom:0}.b_ad .b_adlabel{font-size:13px}#b_context .b_ad .b_adlabel{margin-bottom:8px}.b_ad .b_caption{padding-bottom:10px}.b_hList .b_vList,.b_hList .b_vPanel,.b_ad li{margin-bottom:0}#b_results .b_ad .b_vlist2col,#b_results .b_ad .b_factrow{margin-top:-10px}.b_vlist2col{overflow:hidden}.b_vlist2col ul:first-child{margin:0 40px 0 0}.b_rs .b_vlist2col li,#b_context .b_ans .b_vList li{padding:0 0 6px}#sp_requery .b_pAlt{color:#666}.b_safe{color:#008000}.cipt,.cipl,.ciptr,.ciplr{vertical-align:text-top}.b_suffix div.nc_os{background-color:#2196ff;color:#fff;padding:0 3px}.b_underSearchbox{margin:13px 20px 14px}.b_underSearchbox~#b_tween{margin-top:-22px}.ghosttext{color:#777}.b_hxlText{font-size:18px;line-height:23px;padding-bottom:3px;color:#c00}.cf_space{padding:3px 0 7px 0}#b_tween .ftrB{margin-left:-14px}nobr{white-space:inherit}.b_vList>li{word-wrap:break-word}.b_hList .sml img{display:inherit}.bm_component .b_hList>li>.sml{line-height:0}.bm_component .b_hList .cico{padding-bottom:0}#b_context .b_ans h2{font-size:16px;color:#666;line-height:22px}.b_xlText{font-size:24px;line-height:30px}h3{font-family:Arial,Helvetica}.b_deep h3{font-size:16px;line-height:21px}#b_content,#b_context,.b_expando{line-height:18px}.b_ad li,#b_context>.b_ad>ul>li{margin-bottom:7px}#b_context .b_entityTP{padding:9px 19px 4px 19px;margin:-10px -20px -6px -20px;width:100%;box-shadow:0 0 0 1px rgba(0,0,0,.05),0 2px 3px 0 rgba(0,0,0,.1);border-radius:4px}#b_context .b_entityTP .irp{border-radius:4px 4px 0 0;overflow:hidden}.overlay-container .b_entityTP{padding:10px 20px 5px 20px}#b_context .b_ans:not(:first-child)>.b_entityTP{margin-top:-16px}#b_context .b_ad:not(:last-child){padding-bottom:15px;border-bottom:1px solid #ebebeb}.b_expando .b_ans{padding-bottom:15px;border-bottom:1px solid #ebebeb}#b_context .b_ans:not(:last-child){padding-bottom:5px;border-bottom:1px solid #ebebeb}z{a:1}.sw_meIc:after,.sw_spd:after,.idp_ham:after,.idp_wlid:after,.idp_tw:after{position:relative;content:url(/sa/simg/SharedSpriteDesktopRewards_022118.png)}.sw_meIc,.sw_spd,.idp_ham,.idp_wlid,.idp_tw{position:relative;overflow:hidden;direction:ltr}.idp_ham{height:14px;width:20px;top:1px}.idp_ham:after{left:-99px;top:0}.idp_ham:hover:after,.idp_ham:active:after,.idp_ham:focus:after{top:-16px}.idp_wlid,.idp_tw,.sw_meIc{height:16px;width:16px}.idp_wlid:after{left:-384px}.idp_tw:after{left:-645px}.sw_meIc:after{left:-29px;top:0}.sw_spd:after{left:-663px}.b_searchboxForm,.sa_as{background-color:#fff}.b_searchboxForm .b_searchboxSubmit{background-color:#fff;border-color:#fff}.b_scopebar,.b_scopebar a,.b_scopebar a:visited,.id_button,.id_button:visited{color:#444}.b_scopebar .b_active a,.b_scopebar a:hover,.id_button:hover{color:#444}.b_idOpen a#id_l,a#id_rh.openfo{color:#333;background-color:#fff}#bepfo,#id_d{color:#333;background-color:#fff}.wpc_bub a{color:#001ba0}#sw_as{color:#444}.sa_tm strong{color:#444}.sa_hv{background:#f5f5f5}.sa_hd{color:#444}#b_header{padding:14px 0 0 0;margin:0 0 0 0;background-color:#fff;position:initial;z-index:initial;width:inherit}@media screen and (min-height:700px) and (max-height:1000px){#b_header{padding:14px 0 0 0}}#b_header #sb_form,.b_logoArea,.b_logo,.b_searchboxForm,.id_button,.id_avatar,.idp_ham,.b_scopebar li,.b_scopebar a{display:inline-block}#b_header #sb_form{margin-right:10px}.b_logoArea{text-align:right;width:86px;height:40px;margin:0 14px 0 0;vertical-align:top}.b_logo{text-indent:-999px;text-align:left;margin-top:2px;vertical-align:top}.b_searchbox{width:490px;margin:5px 0 1px 20px;padding:0 10px 0 0;border:0;max-height:30px;outline:none;box-sizing:content-box;height:35px;vertical-align:top}#b_header .b_searchbox.b_softkey{width:435px}.b_searchboxSubmit{height:20px;width:20px;text-indent:-99em;border-width:0;border-style:solid;margin:10px;background-position:-121px 0}#sw_as{width:auto;position:relative;z-index:6}.sa_as{position:absolute;width:100%;display:none}#sa_ul div.sa_tm,#sa_ul .sa_hd{margin-left:20px}#sw_as #sa_ul li.pp_tile{padding-left:20px}.sa_hd{padding-top:5px}.b_searchboxSubmit,.sa_sg{cursor:pointer}z{a:1}.b_searchboxForm{box-shadow:0 0 0 1px rgba(0,0,0,.1),0 2px 4px 0 rgba(0,0,0,.16);border-radius:4px}.b_idOpen #id_d,.b_searchboxForm:hover,#bepfo,#id_hbfo.slide_down{box-shadow:0 0 0 1px rgba(0,0,0,.1),0 2px 4px 1px rgba(0,0,0,.18);border-radius:4px}#sw_as #sa_ul:not(:empty){box-shadow:0 0 0 1px rgba(0,0,0,.1),0 2px 4px 1px rgba(0,0,0,.18);border-bottom-left-radius:4px;border-bottom-right-radius:4px}.b_focus .b_searchboxForm{box-shadow:0 0 0 1px rgba(0,0,0,.1),0 2px 4px 1px rgba(0,0,0,.18);border-radius:4px 4px 0 0}@media screen and (-ms-high-contrast:active){.b_idOpen #id_d{border:1px solid #fff}}@media screen and (-ms-high-contrast:black-on-white){.b_idOpen #id_d{border:1px solid #000}}.spl-headerbackground{border-radius:4px 4px 0 0}#id_h{display:block;position:relative;float:right;text-align:right;margin:-4px 40px 0 0;line-height:50px;right:initial;top:initial}.id_button{margin:0 8px}#id_l{vertical-align:top}#id_rh{padding:0 8px 0 16px}.sw_spd{vertical-align:top;margin-left:8px;height:32px;width:32px;border-radius:16px;top:9px}.sw_meIc{vertical-align:top;margin:16px 0 0 16px}#bepfo,#bepfm,#bepfl{width:320px}#bepfm{display:block}#bepfl{text-align:center;margin:50px 0}#bepfo{position:absolute;right:0;z-index:6;text-align:left}.idp_ham{margin:0 20px 0 16px;height:14px;width:20px}.b_scopebar{padding:0;margin:25px 0 0 100px;border-bottom:1px solid #ddd}#b_header{border-bottom:none}.blue2#miniheader .b_scopebar ul{height:33px;overflow-y:hidden}.b_scopebar ul{height:39px;overflow-y:hidden}.b_scopebar li{padding:3px 12px;margin:0;line-height:25px}.b_scopebar a{padding:0 8px}.b_scopebar .b_active{border-bottom:3px solid #de3700}#b_header .b_topbar,#b_header .b_scopebar{background:none;margin-bottom:0;overflow-y:inherit}.b_scopehide>.b_active{visibility:visible}.b_scopehide>li{visibility:hidden}@media screen and (min-height:700px) and (max-height:1000px){.b_scopebar{margin:25px 0 0 100px}.b_scopebar li{padding:3px 12px}.b_scopebar ul{height:39px}}.b_logo{font-family:Arial,Helvetica}a,#b_header a,#b_header a:hover,.b_toggle,.b_toggle:hover{text-decoration:none}.sa_hv{text-decoration:underline}input{font:inherit;font-size:100%}.b_searchboxForm{font:18px/normal \\'Microsoft YaHei\\',Arial,Helvetica,sans-serif}.b_searchbox{font-size:16px}.id_button{line-height:50px}.b_scopebar .b_active a{font-weight:700}.b_scopebar,.b_scopebar li{line-height:30px}.sa_tm{line-height:30px}.b_scopebar li{vertical-align:top}#sa_ul,.pp_title{font:16px/normal \\'Microsoft YaHei\\',Arial,Helvetica,sans-serif}#sa_ul .sa_hd{color:#444;font:11px/16px \\'Segoe UI\\',\\'Arial\\',\\'Helvetica\\',\\'Sans-Serif\\';cursor:default;text-transform:uppercase;font-weight:bold}#sw_as strong{font-weight:bold}z{a:1}#b_header .b_searchbox{margin-right:11px}#sa_ul,.pp_title{font-family:\\'Segoe UI\\',Arial,Helvetica,Sans-Serif}#sb_form .b_searchbox{line-height:30px}#sb_form .b_searchboxForm,#sb_form .sa_as,#sb_form #sw_as li.pp_tile{border-color:#eee}z{a:1}z{a:1}.b_searchbox{ width: 578px;}.b_logo{display:inline-block;width:28px;height:36px;text-indent:0;overflow:hidden;direction:ltr}.b_logo div{text-indent:-999px}.b_logo{background:none}.b_logo:after{content:none}.b_searchboxSubmit{background-image:url(/sa/simg/SharedSpriteDesktopRewards_022118.png);background-repeat:no-repeat}.blue2#miniheader #sb_form_go{height:32px;width:32px;background-position:-76px 0;border-width:5px 6px 4px 5px;margin:3px 4px 4px}.blue2#miniheader .b_searchboxForm .b_searchboxSubmit{background-color:#fff;border-color:#fff}z{a:1}#b_header{margin-bottom:0;max-width:1015px;border-bottom:none}.b_scopebar{border:none}.bk_container,.bk_b_container{background-color:#f5f5f5;padding:10px 0 0 85px;overflow:hidden}.bk_entity_container{width:100%;max-width:930px}.bk_entity_container strong,.bk_entity_container #results_area h2 a strong{color:#c00;font-weight:normal}.bk_entity_main{width:70%;float:left;margin-right:3px}.bk_entity_main #content,.bk_entity_main #results_area,.bk_entity_main #results_container{width:auto;margin:auto;padding:0}.bk_section{margin-bottom:10px;background-color:#fff;border:1px solid #ededed}.bk_debug{color:#919491;margin-left:10px}#bk_backTop{position:fixed;left:746px;bottom:40px;display:none}#bk_backTop span{width:50px;height:50px;display:block;background:#ddd;-webkit-border-radius:10px;border-radius:10px;-webkit-transition:500ms;transition:500ms}#bk_backTop a:hover span{background-color:#777;cursor:pointer}.bk_breakline{display:block;height:1em}.bk_card{font-size:14px;padding:20px 30px 5px;border-bottom:solid 1px #f5f5f5}.bk_card_name{margin-bottom:20px}.bk_card_name h1{font-size:2em;font-family:å¾®è½¯é\\x9b\\x85é»\\x91,é»\\x91ä½\\x93,sans-serif;display:inline}.bk_card_name span{color:#919491;margin-left:10px}.bk_card_img{float:left;margin-right:20px;overflow:hidden}.bk_card_img a:hover{text-decoration:none}.bk_card_img_label{background:#000;color:#fff;opacity:.7;width:100%;display:block;text-align:center;font-size:.9em;line-height:2em;position:relative;bottom:25px}.bk_card_desc{overflow:hidden}.bk_card_desc p{line-height:1.8}.bk_hide{display:none}#bk_card_expand a{cursor:pointer}.bk_moreContent{padding:10px 30px}.bk_card_moreContent_title{font-weight:bold;color:#999}.bk_moreContent img{vertical-align:text-top;margin:0 3px}.bk_qtable_title{padding:10px 10px;border-bottom:solid 1px #f5f5f5}.bk_qtable_title h2{display:inline;font-family:å¾®è½¯é\\x9b\\x85é»\\x91,é»\\x91ä½\\x93,sans-serif}.bk_qtable_title span{margin-left:10px;color:#919491;font-size:.9em}.bk_qtable_list{overflow:auto;font-size:14px}.bk_qtable_column{overflow:hidden;width:50%;float:left}.bk_qtable_column_next{float:right;width:49.9%}.bk_qtable_cell{border-bottom:solid 1px #f5f5f5;border-right:solid 1px #f5f5f5;line-height:2em;padding:5px;vertical-align:top;height:2em;overflow:hidden}.bk_qtable_seq{color:#919491;margin-right:10px;float:left;min-width:16px;text-align:right}.bk_qtable_index{float:right;font-size:.9em;color:#555}.bk_qtable_index img{vertical-align:text-top}.bk_qtable_tagtext{color:#fff;font-size:.9em;text-align:center;vertical-align:bottom;margin-left:5px;padding:1px 3px;font-weight:bold}.bk_qtable_tagtext_HOT{background-color:#f00}.bk_qtable_tagtext_NEW{background-color:#32cd32}.bk_qtable_content{overflow:auto;overflow-y:hidden;margin-left:10px}.bk_qtable_content a{float:left}.bk_qna_question{padding-top:10px;margin-left:-11px;overflow:hidden;font-size:14px}.bk_qna_question div{float:left}.bk_qna_question h2{display:inline;font:1.2em å¾®è½¯é\\x9b\\x85é»\\x91,é»\\x91ä½\\x93,sans-serif;color:#333}.bk_qna_seqNumber{display:inline-block;width:24px;padding:0 5px;margin-right:7px;text-align:center;vertical-align:middle;background-color:#ff8c00;color:#fff;font:1.4em å¾®è½¯é\\x9b\\x85é»\\x91,é»\\x91ä½\\x93,sans-serif}.bk_qna_answer,.bk_wr_answer{border-bottom:solid 2px #f5f5f5;padding:10px 30px 5px;overflow:visible;word-break:break-all}.bk_qna_answer{font-size:14px;line-height:20px}.bk_wr_answer{line-height:18px;display:inline-block}.bk_qna_answer_title{margin-bottom:8px}.bk_qna_answer_title h3{padding-bottom:5px;font-size:1em;display:inline}.bk_qna_answer_title h3 a{text-decoration:none}.bk_qna_answer_title h3 a:hover{text-decoration:underline}.bk_qna_answer_title span{color:#919491;margin-left:10px}.bk_qna_answer_subtitle{padding-top:5px}.bk_qna_datetime{color:#919491;margin-left:10px}.bk_qna_content{overflow:visible}.bk_qna_answer_img{float:left;margin:0 10px 10px 0}.bk_qna_answer_imglist{clear:both;margin:10px 0;overflow:auto}.bk_qna_answer_imglist_img{float:left;margin-right:7px}.bk_qna_answer_datetime{margin-left:8px;color:#919191}.bk_qna_extlink{text-align:right;font-size:.9em;color:#919191}.bk_qna_extlink a{color:#919191}.bk_qna_richanswer{overflow:visible;margin-bottom:5px;font-size:13px;width:520px}.bk_qna_extlink img{margin-left:5px;vertical-align:middle}.bk_qna_sec{float:right;font-size:12px;padding:5px 18px 0 0;color:#808080;display:none}.bk_qna_weiboifrm{display:block;overflow:hidden;z-index:1;width:100%;height:250px}.bk_sidebar{width:29%;float:right;font-size:14px}.bk_sidebar_section{background-color:#fdfdfd;border:1px solid #ededed;padding:20px 15px 10px;overflow:hidden;margin-bottom:10px}.bk_sidebar_section #sidebar{padding:0;float:none}.bk_sidebar_title{border-bottom:1px #d8d1d1 dashed;padding-bottom:5px;margin-bottom:10px;font-size:14px !important;font-weight:bold;color:#555}.bk_sidebar_attr{font-size:.9em;line-height:1.6em;overflow:auto;clear:left}.bk_sidebar_attr_key{float:left;width:70px;margin-right:5px;color:#999;font-weight:bold}.bk_sidebar_attr_value{overflow:hidden;color:#555}.bk_sidebar_related{clear:both;line-height:1.6em;margin-bottom:10px}.bk_sidebar_related_img{float:left;margin-right:15px}.bk_sidebar_related_name{font-size:.9em}.bk_sidebar_related_tag{color:#555;font-size:.9em}.bk_wr_title{margin-left:40px}.morelinkSep{padding:0 5px}@media screen and (max-width:1040px){body{min-width:320px}#sw_hdr{min-width:680px}.nosp.idh{z-index:-1}.bk_container,.bk_b_container{padding:10px 10px 0}#bk_backTop{left:671px}}@media screen and (max-width:960px){.bk_entity_container{max-width:none}.bk_entity_main{width:100%}.bk_sidebar{display:none}#bk_backTop{left:inherit;right:10px}}@media screen and (max-width:640px){.bk_qtable_column{width:100%;float:none}.bk_qtable_column_next{float:none}}.bk_qna_answer .bk_qna_richanswer .ans_n2 h2{display:none}.bk_qna_answer .bk_qna_richanswer .vid1 h2{display:none}.bk_qna_answer .bk_qna_richanswer .irpserp h2{display:none}.bk_qs{overflow:hidden}.bk_qs li{float:left;min-width:190px;width:auto !important;width:190px;padding:3px 0}.bk_qs li strong,.bk_qs li,.bk_qs a{text-decoration:underline}.bk_officialsite{margin:0;font-size:12px;border:1px solid #e6e6e6;border-bottom:1px solid #d4d4d4;border-radius:2px;padding:6px 8px;background:#eee;position:relative;top:-4px}.bk_nextpage{margin:0 auto;text-align:center}.bk_nextpage:hover{cursor:pointer;text-decoration:underline;color:#00c}.bk_qna_ans_load{text-align:center}.bk_qna_ans_load img{vertical-align:middle}.bk_qna_richanswer .msn_light_question{display:none}.bk_qna_richanswer .msn_title{display:none}.bk_qna_richanswer .sb_h3{display:none}.bk_card .bk_section{border:0;margin:0}.bk_card .bk_card{border:0;padding:0}.bk_card .bk_moreContent{padding:10px 0}.bk_card .bk_qna_answer{padding:0;border:0}.bk_qnaanswer_answer,.bk_qnaanswer_question{overflow:hidden;line-height:26px}.bk_qnaanswer_questionicon,.bk_qnaanswer_answericon,.bk_doc_answer_question_icon{float:left;margin-right:10px;width:16px;color:#fff;font-size:12px;font-family:Arial}.bk_doc_answer_question_icon{width:30px}.bk_qnaanswer_answer .bk_qnaanswer_answercontent,.bk_qnaanswer_question h3{float:left;width:560px}.bk_qnaanswer_questionicon span,.bk_doc_answer_question_icon span{background:#52c277;padding:2px}.bk_qnaanswer_answericon span{background:#1cb7fd;padding:2px}.bk_qna_otherquestion .bk_qna_question{left:10px}.bk_qna_otherquestion .other{overflow:hidden;line-height:35px}.bk_qna_otherquestion .other .question{float:left}.bk_qna_otherquestion .other .from{float:right;font-size:12px;color:#919191}.bk_qna_content .bk_qnaanswer_subtitle{line-height:26px;color:#555;padding-left:26px}.bk_card .bk_qna_type_answer{padding:10px 0}.bk_img_border_left,.bk_img_border_right{float:left}.bk_image_bottom{height:6px;background-image:url(data:image/gif;base64,iVBORw0KGgoAAAANSUhEUgAAANAAAAAGCAYAAACywxBGAAAAAXNSR0IArs4c6QAAAARnQU1BAACxjwv8YQUAAAAJcEhZcwAADsQAAA7EAZUrDhsAAAB7SURBVFhH7ZZLCgUhDAS9/xXdKK68gr8MHZ6DC3lzgSooErJvOmGtZWMME+fUHQD+E37TOUMz53wDBQB3vIFaa1ZrtZSSxRitlGI5Z5+6IeLdt4F67946UtBAAN8EhWSHZb9waqS9ayLiXX/hztZRE+l92xWlHRFvZnsALaHYapVmFCMAAAAASUVORK5CYII=)}.bk_image_right{width:6px;background-image:url(data:image/gif;base64,iVBORw0KGgoAAAANSUhEUgAAAAYAAAEMCAYAAADnIMeaAAAAAXNSR0IArs4c6QAAAARnQU1BAACxjwv8YQUAAAAJcEhZcwAADsQAAA7EAZUrDhsAAACTSURBVFhH7c5JDsMgEAVRhvsfkzU7NgxJum2w5H+AbOpJFogybcfPT3iZc4Z078MYw1c7zDk/IaWzdT7KpsUYw1rLX7Db57Xe+727bp9Qa/XVbp9gY1prvm7J5ho73I//7v4bO7AxppTyfOONIAiCIAiCIAiCIAiCIAiCIAiCIAiCIAiCIAiCIAiCIAiCIP4YQvgCJ5gzUuqLtDgAAAAASUVORK5CYII=)}.bk_image_bottomright{width:6px;height:6px;background-image:url(data:image/gif;base64,iVBORw0KGgoAAAANSUhEUgAAAAYAAAAGCAIAAABvrngfAAAAAXNSR0IArs4c6QAAAARnQU1BAACxjwv8YQUAAAAJcEhZcwAADsMAAA7DAcdvqGQAAABMSURBVBhXJYzLDQAgCEPZf0IPAgHjFPKxxh6a8ppC3V1VZoYAzTkfighVRchMdMTM7i4iuEEf+iX8a4zx0DnnO4QPhBW2SGutvbeZXcxuZW72aij2AAAAAElFTkSuQmCC)}.bk_b_container .bk_noresult{margin:0 0 10px 30px}.bk_noresult{margin-left:110px}#sb_foot{margin-left:85px;width:650px}.bk_qna_richanswer .msn_accordion_index_highlight{width:16px;height:16px}.bk_qna_answer .bk_qna_richanswer{line-height:normal}.ans_n2 H5{display:inline}.bk_qna_seqNumberPlaceholder{width:20px;height:1em;overflow:hidden;z-index:1}.bk_qna_richanswer .vidrc{overflow:hidden}.bk_banner{height:94px;margin-bottom:10px}.bk_banner_back{display:none}.bk_qna_inlineanswer{overflow:hidden}.bk_qna_inlineanswer .bk_qna_content{overflow:hidden}.bk_score{float:right;background:#ffb909;color:#fff;font-size:12px;padding:0 5px}.bk_questionscore{color:#ffb909;padding-left:10px}.bk_topicsforyou{float:right;color:#808080;font-size:12px;padding-top:20px}.bk_topicsforyou span{vertical-align:top}h3 a strong{text-decoration:underline}#results_container .bk_qna_answer{clear:both}.bk_es_nav{padding:10px}.bk_pol_title{padding:10px 20px;border-bottom:1px solid #f5f5f5}.bk_pol_list{line-height:32px;overflow:hidden}.bk_pol_list li{float:left;width:270px;padding:5px 0 5px 20px;overflow:hidden;font:14px/normal Arial,Helvetica,Sans-Serif;line-height:20px}.bk_pol_list li span{padding-right:7px}.bk_pol_hide{height:0}#bk_pol_unfold{display:block;position:absolute;bottom:10px;right:10px;cursor:pointer;color:#999}#bk_pol_fold{display:none;position:absolute;bottom:10px;right:10px;cursor:pointer;color:#999}.bk_pol{position:relative;max-width:930px}.bk_entity_header{max-width:930px}.bk_pol_title_hl,.bk_pol_default{font-weight:bold}.bk_qna_richanswer h2{display:none}.bk_section .msn_cardborder{border:none;padding:0;-webkit-box-shadow:none;box-shadow:none}.bk_qna_richanswer .msn_cardborder .square_mi{display:none}.bk_qna_answer .b_algo{list-style-position:outside;list-style-type:none;list-style-image:none}.bk_qna_doc_tip{padding-left:8px}.bk_document_question h3{width:500px}.bk_doc_answer_content{padding-left:30px}.bk_qna_doc_content{padding-right:8px}.bk_qna_doc_extlink{text-align:left}.bk_qna_document_right{float:left;padding-left:32px}.bk_up_polysemy{display:none}span.bk_down_polysemy,span.bk_up_polysemy{border:none}.bk_down_polysemy,.bk_up_polysemy{cursor:pointer}span.bk_up_polysemy:hover,span.bk_down_polysemy:hover{background-color:#fff;color:#0072c5}.bk_poly_up,.bk_poly_down{display:inline-block;padding-bottom:2px}.bk_pol_firstrow{padding-top:10px}.bk_os_card{font-size:14px}.bk_qna_bold{font-weight:bold}.bk_qna_doublespace{text-indent:2em}.bk_multitext{line-height:26px}.bk_forumtitle{font-size:20px}.bk_entity_main .b_pag{height:40px;margin-bottom:15px}#contentWrapper{margin-top:0;padding-top:26px}.cico{overflow:hidden}.clpimg,.clpdimg{width:100%}z{a:1}.b_caption.b_snippetgobig p{font-size:16px;line-height:20px;color:#444}.b_algo.b_algoBorder{box-shadow:0 0 0 1px rgba(0,0,0,.05),0 2px 3px 0 rgba(0,0,0,.1);border-radius:4px}#b_results>li.b_algoBorder{margin-top:8px}.c_tlbxTrg{height:14px;width:15px;display:inline-block;margin:-1px 6px -3px 2px;font-size:0}.c_tlbxH{display:none}.b_vList>li.b_annooverride{padding-bottom:0}.sa_uc{clear:both;padding:0 0 10px}.sa_uc:after{clear:both;content:\\'.\\';display:block;height:0;visibility:hidden}.b_factrow>li.b_sritem,.b_factrow .ssp_expert{font-weight:bold}.b_factrow.b_twofr .b_sritem>.b_sritemp{display:inline-block;font-weight:normal;vertical-align:middle}.b_factrow.b_twofr .b_sritem{font-weight:bold}.b_factrow.b_twofr .csrc{margin-left:5px;vertical-align:text-top}.b_factrow.b_twofr{padding-top:4px}.b_factrow.b_twofr ul:first-child{max-width:calc(50% - 20px)}.b_factrow.b_twofr ul:first-child+ul{max-width:50%}.b_factrow.b_twofr ul li div{white-space:nowrap;text-overflow:ellipsis;overflow:hidden}\\n//<![CDATA[ var logMetaError=function(n){(new Image).src=_G.lsUrl+\\'&Type=Event.ClientInst&DATA=[{\"T\":\"CI.MetaError\",\"FID\":\"CI\",\"Name\":\"MetaJSError\",\"Text\":\"\\'+escape(n)+\\'\"}]\\'},getHref=function(){return location.href},regexEscape;try{regexEscape=function(n){return n.replace(/([.?*+^$&[\\\\]\\\\\\\\(){}|<>-])/g,\"\\\\\\\\$1\")};function jsErrorHandler(n){var s,r,y,p,u,f,w,e,h,c,o;try{if(s=\"ERC\",r=window[s],r=r?r+1:1,r===16&&(n=new Error(\"max errors reached\")),r>16)return;window[s]=r;var l=n.error||n,b=\\'\"noMessage\"\\',k=n.filename,d=n.lineno,g=n.colno,nt=n.extra,a=l.severity||\"Error\",tt=l.message||b,i=l.stack,t=\\'\"\\'+escape(tt.replace(/\"/g,\"\"))+\\'\"\\',it=new RegExp(regexEscape(getHref()),\"g\");if(i){for(y=/\\\\(([^\\\\)]+):[0-9]+:[0-9]+\\\\)/g,u={};(p=y.exec(i))!==null;)f=p[1],u[f]?u[f]++:u[f]=1;e=0;for(h in u)u[h]>1&&(c=regexEscape(h),w=new RegExp(c,\"g\"),i=i.replace(w,e),i+=\"#\"+e+\"=\"+c,e++);i=i.replace(it,\"self\").replace(/\"/g,\"\");t+=\\',\"Stack\":\"\\'+(escape(i)+\\'\"\\')}if(k&&(t+=\\',\"Meta\":\"\\'+escape(k.replace(it,\"self\"))+\\'\"\\'),d&&(t+=\\',\"Line\":\"\\'+d+\\'\"\\'),g&&(t+=\\',\"Char\":\"\\'+g+\\'\"\\'),nt&&(t+=\\',\"ExtraInfo\":\"\\'+nt+\\'\"\\'),tt===b)if(a=\"Warning\",t+=\\',\"ObjectToString\":\"\\'+n.toString()+\\'\"\\',JSON&&JSON.stringify)t+=\\',\"JSON\":\"\\'+escape(JSON.stringify(n))+\\'\"\\';else for(o in n)n.hasOwnProperty(o)&&(t+=\\',\"\\'+o+\\'\":\"\\'+n[o]+\\'\"\\');var rt=(new Date).getTime(),ut=\\'\"T\":\"CI.\\'+a+\\'\",\"FID\":\"CI\",\"Name\":\"JS\\'+a+\\'\",\"Text\":\\'+t+\"\",ft=\"<E><T>Event.ClientInst<\\\\/T><IG>\"+_G.IG+\"<\\\\/IG><TS>\"+rt+\"<\\\\/TS><D><![CDATA[[{\"+ut+\"}]]\\\\]><\\\\/D><\\\\/E>\",et=\"<ClientInstRequest><Events>\"+ft+\"<\\\\/Events><STS>\"+rt+\"<\\\\/STS><\\\\/ClientInstRequest>\",v=new XMLHttpRequest;v.open(\"POST\",\"/fd/ls/lsp.aspx?\",!0);v.setRequestHeader(\"Content-Type\",\"text/xml\");v.send(et);typeof sj_evt!=\"undefined\"&&sj_evt.fire(\"ErrorInstrumentation\",t)}catch(ot){logMetaError(\"Failed to execute error handler. \"+ot.message)}}window.addEventListener&&window.addEventListener(\"error\",jsErrorHandler,!1);window.addEventListener||window.onerror||(window.onerror=function(n,t,i,r,u){var f=\"\",e;typeof n==\"object\"&&n.srcElement&&n.srcElement.src?f=\"\\\\\"ScriptSrc = \\'\"+escape(n.srcElement.src.replace(/\\'/g,\"\"))+\"\\'\\\\\"\":(n=\"\"+n,f=\\'\"\\'+escape(n.replace(/\"/g,\"\"))+\\'\",\"Meta\":\"\\'+escape(t)+\\'\",\"Line\":\\'+i+\\',\"Char\": \\'+r,u&&u.stack&&(e=new RegExp(regexEscape(getHref()),\"g\"),f+=\\',\"Stack\":\"\\'+escape(u.stack.replace(e,\"self\").replace(/\"/g,\"\")+\\'\"\\')));(new Image).src=_G.lsUrl+\\'&Type=Event.ClientInst&DATA=[{\"T\":\"CI.GetError\",\"FID\":\"CI\",\"Name\":\"JSGetError\",\"Text\":\\'+f+\"}]\";typeof sj_evt!=\"undefined\"&&sj_evt.fire(\"ErrorInstrumentation\",f)})}catch(e){logMetaError(\"Failed to bind error handler \"+e.message)};var amd,define,require;(function(n){function e(n,i,u){t[n]||(t[n]={dependencies:i,callback:u},r(n))}function r(n){if(n){if(n)return u(n)}else{if(!f){for(var r in t)u(r);f=!0}return i}}function u(n){var s,e;if(i[n])return i[n];if(t.hasOwnProperty(n)){var h=t[n],f=h.dependencies,l=h.callback,a=r,o={},c=[a,o];if(f.length<2)throw\"invalid usage\";else if(f.length>2)for(s=f.slice(2,f.length),e=0;e<s.length;e++)c.push(u(s[e]));return l.apply(this,c),i[n]=o,o}}var t={},i={},f=!1;n.define=e;n.require=r})(amd||(amd={}));define=amd.define;require=amd.require;var _w=window,_d=document,sb_ie=window.ActiveXObject!==undefined,sb_i6=sb_ie&&!_w.XMLHttpRequest,_ge=function(n){return _d.getElementById(n)},_qs=function(n,t){return t=typeof t==\"undefined\"?_d:t,t.querySelector?t.querySelector(n):null},sb_st=function(n,t){return setTimeout(n,t)},sb_rst=sb_st,sb_ct=function(n){clearTimeout(n)},sb_gt=function(){return(new Date).getTime()},sj_gx=function(){return sb_i6?new ActiveXObject(\"MSXML2.XMLHTTP\"):new XMLHttpRequest};_w.sj_ce=function(n,t,i){var r=_d.createElement(n);return t&&(r.id=t),i&&(r.className=i),r};_w.sj_cook={get:function(n,t){var i=_d.cookie.match(new RegExp(\"\\\\\\\\b\"+n+\"=[^;]+\")),r;return t&&i?(r=i[0].match(new RegExp(\"\\\\\\\\b\"+t+\"=([^&]*)\")),r?r[1]:null):i?i[0]:null}};_w.sk_merge||(_w.sk_merge=function(n){_d.cookie=n});define(\"fallback\",[\"require\",\"exports\"],function(n,t){function f(){return function(){for(var r,h,c,t=[],n=0;n<arguments.length;n++)t[n]=arguments[n];if(r=s(arguments.callee),u&&(h=e(r),h.toString()!=f().toString()))return h.apply(null,arguments);c=i[r].q;t[0]===\"onPP\"&&o();c.push(t)}}function s(n){for(var t in i)if(i[t].h===n)return t}function e(n,t){for(var u,e=n.split(\".\"),i=_w,r=0;r<e.length;r++)u=e[r],typeof i[u]==\"undefined\"&&t&&(i[u]=r===e.length-1?f():{}),i=i[u];return i}function o(){var e=i[\"rms.js\"].q,o,f,t,n,r,u;if(e.length>0)for(o=!1,f=0;f<e.length;f++){for(t=e[f],n=0;n<t.length;n++)if(r=t[n][\"A:rms:answers:Shared:BingCore.Bundle\"],r||(r=t[n][\"A:rmsBu0\"]),r){u=_d.createElement(\"script\");u.setAttribute(\"data-rms\",\"1\");u.src=r;u.type=\"text/javascript\";setTimeout(function(){_d.body.appendChild(u)},0);t.splice(n,1);o=!0;break}if(o)break}}function h(){var n,t,f;for(u=!1,n=0;n<r.length;n++)t=r[n],f=e(t,!0),i[t]={h:f,q:[]}}function c(){for(var t,n=0;n<r.length;n++){var o=r[n],s=i[o].q,h=e(o);for(t=0;t<s.length;t++)h.toString()!==f().toString()&&h.apply(null,s[t])}u=!0}function l(n,t,i,r){n&&((n===_w||n===_d||n===_d.body)&&t==\"load\"?_w.sj_evt.bind(\"onP1\",i,!0):n.addEventListener?n.addEventListener(t,i,r):n.attachEvent?n.attachEvent(\"on\"+t,i):n[\"on\"+t]=i)}t.__esModule=!0;var r=[\"rms.js\",\"sj_evt.bind\",\"sj_evt.fire\",\"sj_jb\",\"sj_wf\",\"sj_cook.get\",\"sj_cook.set\",\"sj_pd\",\"sj_sp\",\"sj_be\",\"sj_go\",\"sj_ev\",\"sj_ue\",\"sj_evt.unbind\",\"sj_et\",\"Log.Log\",\"sj_mo\",\"sj_so\"],i={},u=!1;_w.fb_is=o;t.replay=c;h();_w.sj_be=l});function lb(){_w.si_sendCReq&&sb_st(_w.si_sendCReq,800);_w.lbc&&_w.lbc()};(function(){function n(n){n=sb_ie?_w.event:n;(!n.altKey||n.ctrlKey||n.shiftKey)&&(n.key&&n.key===\"Enter\"||n.keyCode&&n.keyCode===13)&&_w.si_ct(sb_ie?n.srcElement:n.target,!1,n,\"enter\")}sj_be(document,\"keydown\",n,!1)})();(function(){function n(n){_w.si_ct(sb_ie?_w.event.srcElement:n.target,!1,_w.event||n)}sj_be(document,\"mousedown\",n,!1)})();/*!DisableJavascriptProfiler*/ 0;/*!DisableJavascriptProfiler*/ 0;/*!DisableJavascriptProfiler*/ 0;ClTrCo={};var ctcc=0,clc=_w.ClTrCo||{};_w.si_ct=function(n,t,i,r){var u,e,f,o,s,h,c;if(clc.SharedClickSuppressed)return!0;u=\"getAttribute\";try{for(;n!==document.body;n=n.parentNode){if(!n||n===document||n[u](\"data-noct\"))break;if(e=(n.tagName===\"A\"||n[u](\"data-clicks\"))&&(n[u](\"h\")||n[u](\"data-h\"))||n[u](\"_ct\"),e){f=n[u](\"_ctf\");o=-1;i&&(i.type===\"keydown\"?o=-2:i.button!=null&&(o=i.button));f&&_w[f]||(f=\"si_T\");f===\"si_T\"&&(s=encodeURIComponent(n[u](\"href\")),clc.furl&&!n[u](\"data-private\")?e+=\"&url=\"+s:clc.mfurl&&(e+=\"&abc=\"+s));r&&(e+=\"&source=\"+r);h=\"\";clc.mc&&(h=\"&c=\"+ctcc++);c=\"&\"+e+h;_w.si_sbwu(c)||_w[f]&&_w[f](c,n,i,o);break}if(t)break}}catch(l){_w.SharedLogHelper?SharedLogHelper.LogWarning(\"clickEX\",null,l):(new Image).src=_G.lsUrl+\\'&Type=Event.ClientInst&DATA=[{\"T\":\"CI.Warning\",\"FID\":\"CI\",\"Name\":\"JSWarning\",\"Text\":\\'+l.message+\"}]\"}return!0};_w.si_sbwu||(_w.si_sbwu=function(){return!1}),function(){_w._G&&(_G.si_ct_e=\"click\")}(); //]]>//<![CDATA[ var wlc_d = 1500, wlc_t =63681163602;;var perf;(function(n){function f(n){return i.hasOwnProperty(n)?i[n]:n}function e(n){var t=\"S\";return n==0?t=\"P\":n==2&&(t=\"M\"),t}function o(n){for(var c,i=[],t={},r,l=0;l<n.length;l++){var a=n[l],o=a.v,s=a.t,h=a.k;s===0&&(h=f(h),o=o.toString(36));s===3?i.push(h+\":\"+o):(r=t[s]=t[s]||[],r.push(h+\":\"+o))}for(c in t)t.hasOwnProperty(c)&&(r=t[c],i.push(e(+c)+\\':\"\\'+r.join(\",\")+\\'\"\\'));return i.push(u),i}for(var r=[\"redirectStart\",\"redirectEnd\",\"fetchStart\",\"domainLookupStart\",\"domainLookupEnd\",\"connectStart\",\"secureConnectionStart\",\"connectEnd\",\"requestStart\",\"responseStart\",\"responseEnd\",\"domLoading\",\"domInteractive\",\"domContentLoadedEventStart\",\"domContentLoadedEventEnd\",\"domComplete\",\"loadEventStart\",\"loadEventEnd\",\"unloadEventStart\",\"unloadEventEnd\",\"firstChunkEnd\",\"secondChunkStart\",\"htmlEnd\",\"pageEnd\",\"msFirstPaint\"],u=\"v:1.1\",i={},t=0;t<r.length;t++)i[r[t]]=t;n.compress=o})(perf||(perf={}));window.perf=window.perf||{},function(n){n.log=function(t,i){var f=n.compress(t),r;f.push(\\'T:\"CI.Perf\",FID:\"CI\",Name:\"PerfV2\"\\');var e=\"/fd/ls/lsp.aspx?\",o=\"sendBeacon\",h=\"<E><T>Event.ClientInst<\\\\/T><IG>\"+_G.IG+\"<\\\\/IG><TS>\"+i+\"<\\\\/TS><D><![CDATA[{\"+f.join(\",\")+\"}]\\\\]><\\\\/D><\\\\/E>\",s=\"<ClientInstRequest><Events>\"+h+\"<\\\\/Events><STS>\"+i+\"<\\\\/STS><\\\\/ClientInstRequest>\",u=!_w.navigator||!navigator[o];if(!u)try{navigator[o](e,s)}catch(c){u=!0}u&&(r=sj_gx(),r.open(\"POST\",e,!0),r.setRequestHeader(\"Content-Type\",\"text/xml\"),r.send(s))}}(window.perf);var perf;(function(n){function a(){return c(Math.random()*1e4)}function o(){return y?c(f.now())+l:+new Date}function v(n,r,f){t.length===0&&i&&sb_st(u,1e3);t.push({k:n,v:r,t:f})}function p(n){return i||(r=n),!i}function w(n,t){t||(t=o());v(n,t,0)}function b(n,t){v(n,t,1)}function u(){var u,f;if(t.length){for(u=0;u<t.length;u++)f=t[u],f.t===0&&(f.v-=r);t.push({k:\"id\",v:e,t:3});n.log(t,o());t=[];i=!0}}function k(){r=o();e=a();i=!1;sj_evt.bind(\"onP1\",u)}var s=\"performance\",h=!!_w[s],f=_w[s],y=h&&!!f.now,c=Math.round,t=[],i=!1,l,r,e;h?l=r=f.timing.navigationStart:r=_w.si_ST?_w.si_ST:+new Date;e=a();n.setStartTime=p;n.mark=w;n.record=b;n.flush=u;n.reset=k;sj_be(window,\"load\",u,!1);sj_be(window,\"beforeunload\",u,!1)})(perf||(perf={}));_w.si_PP=function(n,t,i){var r,o,l,h,e,c;if(!_G.PPS){for(o=[\"FC\",\"BC\",\"SE\",\"TC\",\"H\",\"BP\",null];r=o.shift();)o.push(\\'\"\\'+r+\\'\":\\'+(_G[r+\"T\"]?_G[r+\"T\"]-_G.ST:-1));var u=_w.perf,s=\"navigation\",r,f=i||_w.performance&&_w.performance.timing;if(f&&u){if(l=f.navigationStart,u.setStartTime(l),l>=0)for(r in f)h=f[r],typeof h==\"number\"&&h>0&&r!==\"navigationStart\"&&r!==s&&u.mark(r,h);u.record(\"nav\",s in f?f[s]:performance[s].type)}e=\"connection\";c=\"\";_w.navigator&&navigator[e]&&(c=\\',\"net\":\"\\'+navigator[e].type+\\'\"\\',navigator[e].downlinkMax&&(c+=\\',\"dlMax\":\"\\'+navigator[e].downlinkMax+\\'\"\\'));_G.PPImg=new Image;_G.PPImg.src=_G.lsUrl+\\'&Type=Event.CPT&DATA={\"pp\":{\"S\":\"\\'+(t||\"L\")+\\'\",\\'+o.join(\",\")+\\',\"CT\":\\'+(n-_G.ST)+\\',\"IL\":\\'+_d.images.length+\"}\"+(_G.C1?\",\"+_G.C1:\"\")+c+\"}\"+(_G.P?\"&P=\"+_G.P:\"\")+(_G.DA?\"&DA=\"+_G.DA:\"\")+(_G.MN?\"&MN=\"+_G.MN:\"\");_G.PPS=1;sb_st(function(){u&&u.flush();sj_evt.fire(\"onPP\");sj_evt.fire(_w.p1)},1)}};_w.onbeforeunload=function(){si_PP(new Date,\"A\")};sj_evt.bind(\"ajax.requestSent\",function(){window.perf&&perf.reset()});(function(n){var i,r,t;if(document.querySelector){i=[];r=\"ad\";function u(){var w=sb_gt(),c=document.documentElement,e=document.body,u=-1,r=-1,l=c.clientHeight,a=[\"#b_results .\"+_G.adc,\".sb_adsWv2\",\".ads\"],n,o,s,f,v,t;if(e){n=0;o=document.querySelector(\"#b_pole .b_adSlug\");o&&(s=document.querySelector(\"#b_pole\"),n=s.offsetHeight,r=s.offsetTop);var y=document.querySelector(\"#b_results #productAdCarousel\"),h=document.querySelector(\"#b_results .pa_b_supertop\"),p=document.querySelector(\"#b_results .bn_wide\");for(h?(r=h.offsetTop,n=h.offsetHeight):p?n+=p.offsetHeight:y&&(n+=y.offsetHeight),f=0;f<a.length;f++)if(v=a[f],t=document.querySelector(v),t&&t.className.indexOf(\"b_adBottom\")==-1&&t.offsetTop<l){u=t.offsetHeight+n;r===-1&&(r=t.offsetTop);break}o&&u==-1&&(u=n);i=[r,u,c.clientWidth,l,e.offsetWidth,e.offsetHeight,sb_gt()-w]}}n?(t=n.onbeforefire,n.onbeforefire=function(){t&&t();u();n.mark(r,i)}):(t=si_PP,si_PP=function(){u();var n=\\'\"\\'+r+\\'\":[\\'+i.join()+\"]\";_G.C1=_G.C1?_G.C1+\",\"+n:n;t.apply(null,[].slice.apply(arguments))})}})(_w.pp);var sj_log=function(n,t,i){var r=new RegExp(\\'\"\\',\"g\");(new Image).src=_G.lsUrl+\\'&Type=Event.ClientInst&DATA=[{\"T\":\"\\'+n+\\'\",\"FID\":\"CI\",\"Name\":\"\\'+t+\\'\",\"Text\":\"\\'+escape(i.replace(r,\"\"))+\\'\"}]\\'};_w.AM=[\"live.com\",\"virtualearth.net\",\"windows.net\",\"onenote\",\"hexun.com\",\"dict.bing.com.cn\",\"msn.com\",\"variflight.com\",\"bing.net\",\"msftoffers.com\",\"chinacloudapp.cn\",\"cbsnews.com\",\"swx.cdn.skype.com\",\"swc.cdn.skype.com\",\"latest-swx.cdn.skype.com\",\"a.config.skype.com\",\"b.config.skype.com\",\"platform.bing.com\",\"microsofttranslator.com\",\"bing.com\",\"facebook.net\",\".delve.office.com\"];(function(){function t(t,i){var u=t.tagName;return(u===\"SCRIPT\"&&(n.href=t.src)||u===\"OBJECT\"&&t.type&&t.type.indexOf(\"flash\")>0&&(n.href=t.data))&&n.href.length>0&&n.hostname.length>0&&n.hostname!==location.hostname&&!e(n.hostname)?(sj_log(\"CI.AntiMalware\",i,u.substr(0,1)+\":\"+n.href.substr(0,r)),!1):!0}function e(n){for(var t=0;t<i.length;t++)if(n.indexOf(i[t])>=0)return!0;return!1}var i=_w.AM,r=100,n=document.createElement(\"A\"),u,f;document.write=function(n){n.length>0&&sj_log(\"CI.AntiMalware\",\"DW\",n.substr(0,r))};typeof Element!=\"undefined\"&&Element.prototype&&(u=Element.prototype.appendChild,Element.prototype.appendChild=function(n){return t(n,\"AC\")?u.apply(this,arguments):null},f=Element.prototype.insertBefore,Element.prototype.insertBefore=function(n){return t(n,\"IB\")?f.apply(this,arguments):null})})();var BM=BM||{},adrule=\".\"+_G.adc+\" > ul\";BM.rules={\".b_scopebar\":[0,0,0],\".b_logo\":[-1,-1,0],\".b_searchboxForm\":[100,40,0],\"#id_h\":[-1,0,0],\"#b_tween\":[-1,-1,1],\"#b_results\":[100,-1,1],\"#b_context\":[710,-1,1],\".b_footer\":[0,-1,0],\"#b_notificationContainer\":[-1,-1,0],\"#ajaxMaskLayer\":[-1,-1,0],\"#me_gutter\":[-1,-1,1],\"#me_featurelist\":[-1,-1,1],\".sh_dayul\":[-1,-1,1],\".main\":[-1,-1,1],\".bottom\":[-1,-1,0],\".sw_menu\":[-1,-1,1],\"#Body_EventDetail\":[-1,-1,1],\".sb_adsNv2 > ul\":[-1,-1,1],\"img,div[data-src],.rms_img\":[-1,-1,0],iframe:[-1,-1,0]};BM.rules[adrule]=[-1,-1,1];var BM=BM||{};(function(n){function u(n,u){n in t||(t[n]=[]);!u.compute||n in r||(r[n]=u.compute);!u.unload||n in i||(i[n]=u.unload);u.load&&u.load()}function f(n,i){t[n].push({t:s(),i:i})}function e(n){return n in i&&i[n](),n in t?t[n]:void 0}function o(){for(var n in r)r[n]()}function s(){return window.performance&&performance.now?Math.round(performance.now()):new Date-window.si_ST}var t={},i={},r={};n.wireup=u;n.enqueue=f;n.dequeue=e;n.trigger=o})(BM);(function(n){function i(){var i=document.documentElement,r=document.body,u=\"innerWidth\"in window?window.innerWidth:i.clientWidth,f=\"innerHeight\"in window?window.innerHeight:i.clientHeight,e=window.pageXOffset||i.scrollLeft,o=window.pageYOffset||i.scrollTop,s=document.visibilityState||\"default\";n.enqueue(t,{x:e,y:o,w:u,h:f,dw:r.clientWidth,dh:r.clientHeight,v:s})}var t=\"V\";n.wireup(t,{load:null,compute:i,unload:null})})(BM);(function(n){function i(){var e,o,u,s,f,r;if(document.querySelector&&document.querySelectorAll){e=[];o=n.rules;for(u in o)for(s=o[u],u+=!s[2]?\"\":\" >*\",f=document.querySelectorAll(u),r=0;r<f.length;r++){var i=f[r],h=0,c=0,l=i.offsetWidth,a=i.offsetHeight;do h+=i.offsetLeft,c+=i.offsetTop;while(i=i.offsetParent);e.push({_e:f[r],x:h,y:c,w:l,h:a})}n.enqueue(t,e)}}var t=\"L\";n.wireup(t,{load:null,compute:i,unload:null})})(BM);(function(n){function f(){u(sj_be,r)}function e(){var t=\"\"+Math.round((new Date).getTime()/1e3),n;typeof sj_cook!=\"undefined\"&&sj_cook.set(\"_SS\",\"HV\",t,!1,\"/\");n=document.getElementById(\"b_content\");n&&(n.style.visibility=\"hidden\");_G&&_G.lsUrl&&((new Image).src=_G.lsUrl+\\'&Type=Event.ClientInst&DATA=[{\"T\":\"CI.BM\",\"FID\":\"CI\",\"Name\":\"HV\"}]\\')}function r(i){return i&&n.enqueue(t,i),!0}function o(){u(sj_ue,r)}function u(n,t){for(var u,r=0;r<i.length;r++)u=i[r],n(u===\"resize\"?window:document,window.navigator.pointerEnabled?u.replace(\"mouse\",\"pointer\"):u,t,!1)}var t=\"EVT\",i=[\"click\",\"mousedown\",\"mouseup\",\"touchstart\",\"touchend\",\"mousemove\",\"touchmove\",\"scroll\",\"keydown\",\"resize\"];n.wireup(t,{load:f,compute:e,unload:o})})(BM); //]]>//<![CDATA[ FallBackToDefaultProfilePic = function (e) { var new_element = document.createElement(\\'span\\'); new_element.setAttribute(\\'id\\', \\'id_p\\'); new_element.setAttribute(\\'class\\', \\'sw_spd id_avatar\\'); new_element.setAttribute(\\'aria-label\\', \"é»\\x98è®¤ä¸ªäººèµ\\x84æ\\x96\\x99å\\x9b¾ç\\x89\\x87\"); var p = e.parentNode; p.replaceChild(new_element, e); };var DynScopes;(function(n){function r(n,r){i||(t=n,f(r),sj_evt.bind(\"onP1\",u),i=!0)}function u(){if(sj_cook&&sj_cook.set&&sj_cook.clear){var n=\"dsc\";sj_cook.clear(n,\"/\");t&&sj_cook.set(n,\"order\",t,!1,\"/\")}}function f(n){var r=e(),i,o,s,t;if(r){if(n){var h=n.split(\",\"),u=r.children,c=u.length,f=[];for(t=0;t<h.length;t++)i=h[t].split(\":\"),i&&i.length==2&&(o=parseInt(i[0]),s=parseInt(i[1]),o<c&&s<c&&(f[s]=u[o].innerHTML));for(t=0;t<f.length;t++)u[t].innerHTML=f[t]}r.className=\"\"}}function e(){var n=_d.querySelectorAll(\".b_scopebar > .b_scopehide\");return n&&n.length>0?n[0]:null}var i=!1,t;n.init=r})(DynScopes||(DynScopes={})); //]]>\\næ\\x89\\x93å¼\\x80å¿\\x85åº\\x94ä¸»é¡µ\\nç\\x99»å½\\x95\\nç½\\x91é¡µ\\nå\\x9b¾ç\\x89\\x87\\nè§\\x86é¢\\x91\\nå\\xad¦æ\\x9c¯\\nè¯\\x8då\\x85¸\\nå\\x9c°å\\x9b¾\\n//<![CDATA[ var sj_b=_d.body;BM.trigger();var Identity; (function(Identity) { Identity.sglid =false; Identity.orgIdPhotoUrl =\"https://business.bing.com/api/v2/search/download?DocumentType=ContactPhoto\\\\u0026Id={0}\"; })(Identity || (Identity = {}));;var wlc_d =10, wlc_t =63681163602, wlc_wfa =false;;_G.AppVer=\"8_1_2_6214741\"; //]]>//<![CDATA[ _G.FCT=new Date; //]]>//<![CDATA[ _G.BCT=new Date; //]]>\\næ\\x9e\\x97å®¥å\\x98\\x89\\näººç\\x89©\\næ\\x9e\\x97å®¥å\\x98\\x89ï¼\\x881987å¹´7æ\\x9c\\x881æ\\x97¥ï¼\\x8dï¼\\x89æ\\x98¯å\\x8f°æ¹¾è\\x91\\x97å\\x90\\x8då\\x8d\\x8eè¯\\xadæµ\\x81è¡\\x8cé\\x9f³ä¹\\x90ç\\x94·æ\\xad\\x8cæ\\x89\\x8bï¼\\x8cå\\x8f°æ¹¾å±\\x8fä¸\\x9cå\\x8e¿æ½®å·\\x9eé\\x95\\x87äººï¼\\x8c2007å¹´7æ\\x9c\\x886æ\\x97¥ä»¥20å²\\x81å¤§å\\xad¦ç\\x94\\x9fç\\x9a\\x84èº«ä»½ï¼\\x8cå\\x8b\\x87å¤ºå\\x8f°æ¹¾ä¸\\xadè§\\x86ä¸»å\\x8a\\x9eç\\x9a\\x84æ\\xad\\x8cå\\x94±é\\x80\\x89ç§\\x80è\\x8a\\x82ç\\x9b®ç¬¬ä¸\\x80å±\\x8aã\\x80\\x8aè¶\\x85çº§æ\\x98\\x9få\\x85\\x89å¤§é\\x81\\x93ã\\x80\\x8bç\\x9a\\x84â\\x80\\x9cå\\x86\\xa0å\\x86\\x9bâ\\x80\\x9dï¼\\x8cå¹¶è\\x8e·å\\x8d\\x8eç\\xa0\\x94å\\x9b½é\\x99\\x85é\\x9f³ä¹\\x90ç\\xad¾çº¦æ\\x88\\x90ä¸ºä¸\\x93å±\\x9eæ\\xad\\x8cæ\\x89\\x8bã\\x80\\x82æ\\x9e\\x97å®¥å\\x98\\x89æ\\x8b¥æ\\x9c\\x89ç\\x8b¬ç\\x89¹ç\\x9a\\x84å£°çº¿å\\x92\\x8cæ\\x9e\\x81ä½³ç\\x9a\\x84å\\x94±å\\x8a\\x9fï¼\\x8cæ\\x80»è\\x83½å°\\x86æ\\xad\\x8cæ\\x9b²è¯\\xa0é\\x87\\x8aç\\x9a\\x84å¦\\x82æ¢¦ä¼¼å¹»ï¼\\x8cå\\x9b\\xa0æ\\xad¤äººç§°â\\x80\\x9cè¿·å¹»å\\x94±è\\x85\\x94â\\x80\\x9dï¼\\x8câ\\x80\\x9cè¿·å¹»ç\\x8e\\x8bå\\xad\\x90â\\x80\\x9dã\\x80\\x82å\\x87ºé\\x81\\x93è\\x87³ä»\\x8aå\\x9c¨å\\x8f°æ¹¾ã\\x80\\x81ä¸\\xadå\\x9b½å¤§é\\x99\\x86å\\x90\\x84å¤§å\\x9f\\x8eå¸\\x82ã\\x80\\x81é¦\\x99æ¸¯ã\\x80\\x81æ¾³é\\x97¨ã\\x80\\x81æ\\x96°é©¬å\\x92\\x8cè\\x8b±å\\x9b½ä¼¦æ\\x95¦ç\\xad\\x89å\\x9c°ä¸¾è¡\\x8cä¸ªäººæ\\xad£å¼\\x8fæ¼\\x94å\\x94±ä¼\\x9aå\\x8f\\x8aé\\x9f³ä¹\\x90ä¼\\x9aä¸\\x89å\\x8d\\x81ä½\\x99å\\x9cºï¼\\x8cè\\x8e·å¾\\x97é\\x9f³ä¹\\x90å\\x9c\\x88å\\x92\\x8cä¼\\xa0åª\\x92ç\\x9a\\x84é«\\x98åº¦è¯\\x84ä»·ï¼\\x8cæ\\x9e\\x97å®¥å\\x98\\x89ä¸ªäººå\\x8f\\x8aå\\x85¶ä¸\\x93è¾\\x91ã\\x80\\x81æ\\xad\\x8cæ\\x9b²å¹¶è\\x8e·å¾\\x97å\\x8d\\x8eè¯\\xadä¹\\x90å\\x9d\\x9bä¹\\x9då\\x8d\\x81ä½\\x99å¥\\x96é¡¹ï¼\\x8cæ\\x98¯å\\x8d\\x8eè¯\\xadä¹\\x90å\\x9d\\x9bæ·±å\\x8f\\x97ç\\x9e©ç\\x9b®ç\\x9a\\x84æ\\x96°ç\\x94\\x9f ... (å±\\x95å¼\\x80)ä»£æ\\xad\\x8cæ\\x89\\x8bä¹\\x8bä¸\\x80ã\\x80\\x82æ¼\\x94å\\x94±æ\\xad\\x8cæ\\x9b²æ\\x9c\\x89ã\\x80\\x8aä½\\xa0æ\\x8a\\x8aæ\\x88\\x91ç\\x81\\x8cé\\x86\\x89ã\\x80\\x8bã\\x80\\x81ã\\x80\\x8aæ\\x82¬å´\\x96ã\\x80\\x8bã\\x80\\x81ã\\x80\\x8aæ\\x88\\x91ç\\x88±ç\\x9a\\x84äººã\\x80\\x8bå\\x92\\x8cã\\x80\\x8aä½\\xa0æ\\x98¯æ\\x88\\x91ç\\x9a\\x84ç\\x9c¼ã\\x80\\x8bç\\xad\\x89ã\\x80\\x82ä»£è¡¨ä½\\x9cå\\x8c\\x85æ\\x8b¬ã\\x80\\x8aè¯´è°\\x8eã\\x80\\x8bã\\x80\\x81ã\\x80\\x8aä¼¯ä¹\\x90ã\\x80\\x8bã\\x80\\x81ã\\x80\\x8aæ\\x88\\x91æ\\x80»æ\\x98¯ä¸\\x80ä¸ªäººå\\x9c¨ç»\\x83ä¹\\xa0ä¸\\x80ä¸ªäººã\\x80\\x8bã\\x80\\x81ã\\x80\\x8aè¯±ã\\x80\\x8bç\\xad\\x89ã\\x80\\x82 äº\\x8e2008å¹´6æ\\x9c\\x88å\\x8f\\x91è¡\\x8cç¬¬ä¸\\x80å¼\\xa0ä¸ªäººä¸\\x93è¾\\x91ã\\x80\\x8aç¥\\x9eç§\\x98å\\x98\\x89å®¾ã\\x80\\x8bï¼\\x8c2009å¹´10æ\\x9c\\x88å\\x8f\\x91è¡\\x8cã\\x80\\x8aæ\\x84\\x9få®\\x98/ä¸\\x96ç\\x95\\x8cã\\x80\\x8bï¼\\x8c2011å¹´5æ\\x9c\\x88å\\x8f\\x91è¡\\x8cã\\x80\\x8aç¾\\x8eå¦\\x99ç\\x94\\x9fæ´»ã\\x80\\x8bï¼\\x8c2010å¹´10æ\\x9c\\x8818æ\\x97¥è\\x8e·ç¬¬å\\x8d\\x81å±\\x8aCCTV-MTVé\\x9f³ä¹\\x90ç\\x9b\\x9bå\\x85¸æ¸¯æ¾³å\\x8f°å\\x9c°å\\x8cºå¹´åº¦æ\\x9c\\x80å\\x8f\\x97æ¬¢è¿\\x8eæ½\\x9cå\\x8a\\x9bæ\\xad\\x8cæ\\x89\\x8bå¥\\x96ã\\x80\\x822012å¹´6æ\\x9c\\x88å\\x8f\\x91è¡\\x8cã\\x80\\x8aå¤§å°\\x8fè¯´å®¶ã\\x80\\x8bï¼\\x8c2013å¹´2æ\\x9c\\x88å\\x8f\\x91è¡\\x8cé\\x9f³ä¹\\x90ä¼\\x9aLiveä¸\\x93è¾\\x91ã\\x80\\x8aJazzã\\x80\\x8bã\\x80\\x822013å¹´7æ\\x9c\\x88è¢«æ\\x9b\\x9dä¸\\x8eé\\x82\\x93ç´«æ£\\x8bç\\x9b¸æ\\x81\\x8bï¼\\x8c2014å¹´3æ\\x9c\\x88äº\\x8cäººå\\x88\\x86æ\\x89\\x8bã\\x80\\x822014å¹´5æ\\x9c\\x8823æ\\x97¥å\\x8f\\x91è¡\\x8cEPã\\x80\\x8aå\\x8f£ç\\x9a\\x84å½¢ç\\x8a¶ã\\x80\\x8bã\\x80\\x82\\næ\\x9b´å¤\\x9aèµ\\x84æ\\x96\\x99ï¼\\x9aç\\x99¾åº¦ç\\x99¾ç§\\x91·ç»´å\\x9fºç\\x99¾ç§\\x91·æ\\x90\\x9cç\\x8b\\x97ç\\x99¾ç§\\x91·360ç\\x99¾ç§\\x91·äº\\x92å\\x8a¨ç\\x99¾ç§\\x91\\nå\\x85³äº\\x8eæ\\x9e\\x97å®¥å\\x98\\x89ï¼\\x8cç½\\x91å\\x8f\\x8bä»¬æ\\x9c\\x80å\\x85³å¿\\x83ç\\x9a\\x84é\\x97®é¢\\x98\\n1\\n4464\\næ\\x9e\\x97å®¥å\\x98\\x89ç\\x9a\\x84ç\\x83\\xadç\\x82¹\\n2\\n2732\\næ\\x9e\\x97å®¥å\\x98\\x89æ¼\\x94å\\x94±ä¼\\x9a\\n3\\n2637\\næ\\x9e\\x97å®¥å\\x98\\x89é\\x82\\x93ç´«æ£\\x8bæ\\x8e¥å\\x90»\\n4\\n2528\\næ\\x9e\\x97å®¥å\\x98\\x89 è¯´è°\\x8e\\n5\\n2502\\næ\\x9e\\x97å®¥å\\x98\\x89å¥½å\\x90¬ç\\x9a\\x84æ\\xad\\x8c\\n6\\n2415\\næ\\x9e\\x97å®¥å\\x98\\x89 ä½\\xa0æ\\x98¯æ\\x88\\x91ç\\x9a\\x84ç\\x9c¼\\n7\\n2377\\nçª\\x81ç\\x84¶æ\\x83³èµ·ä½\\xa0 æ\\x9e\\x97å®¥å\\x98\\x89\\n8\\n2323\\næ\\x9e\\x97å®¥å\\x98\\x89é\\x82\\x93ç´«æ£\\x8b\\n9\\n2240\\næ\\x9e\\x97å®¥å\\x98\\x89 å¤§å°\\x8fè¯´å®¶\\n10\\n2237\\næ\\x88\\x91ç\\x88±ç\\x9a\\x84äººæ\\x9e\\x97å®¥å\\x98\\x89\\n11\\n2232\\næ\\x9e\\x97å®¥å\\x98\\x89æ¼\\x94å\\x94±ä¼\\x9a2016 æ\\x97¶é\\x95¿\\n12\\n2214\\næ\\x9e\\x97å®¥å\\x98\\x89 æ®\\x8bé\\x85·æ\\x9c\\x88å\\x85\\x89\\n13\\n2200\\næ\\x9e\\x97å®¥å\\x98\\x89 ç¥\\x9eç§\\x98å\\x98\\x89å®¾\\n14\\n2198\\næ\\x9e\\x97å®¥å\\x98\\x89 æ\\x83³è\\x87ªç\\x94±\\n15\\n0\\næ\\x9e\\x97å®¥å\\x98\\x89 - å\\x96\\x9cå¥½\\n16\\n0\\næ\\x9e\\x97å®¥å\\x98\\x89 - ä¸ªäººç»\\x8få\\x8e\\x86\\n17\\n0\\næ\\x9e\\x97å®¥å\\x98\\x89 - é\\x9f³ä¹\\x90é£\\x8eæ\\xa0¼\\n18\\næ\\x9e\\x97å®¥å\\x98\\x89ç\\x9a\\x84ç½\\x91é¡µæ\\x90\\x9cç´¢ç»\\x93æ\\x9e\\x9c\\n1\\næ\\x9e\\x97å®¥å\\x98\\x89ç\\x9a\\x84ç\\x83\\xadç\\x82¹\\næ\\x9e\\x97å®¥å\\x98\\x89ã\\x80\\x81Popu Ladyå°\\x86ç©ºé\\x99\\x8dä¸¹é\\x98³å¼\\x80æ\\xad\\x8cè¿·è§\\x81é\\x9d¢ä¼\\x9a\\nã\\x80\\x90æ\\x91\\x98è¦\\x81ã\\x80\\x91 Popu Ladyæ\\x98¯å\\x8d\\x8eç\\xa0\\x94å\\x9b½é\\x99\\x85é\\x9f³ä¹\\x90å\\x86\\x8dæ¬¡æ\\x96¥èµ\\x84å\\x8d\\x83ä¸\\x87æ\\x88\\x90æ\\x9c¬ï¼\\x8cç\\x94±å®\\x85ç\\x94·å¥³ç¥\\x9eå¤§å\\x85\\x83ï¼\\x88æ\\x9e\\x97ç\\x9b\\x88è\\x87»ï¼\\x89ã\\x80\\x81æ´ªè¯\\x97ã\\x80\\x81å\\x90´æ\\x98\\x80å»·ã\\x80\\x81é\\x99\\x88åº\\xadè\\x90±å\\x92\\x8cå\\x88\\x98å®\\x87ç\\x8f\\x8a5äººç»\\x84æ\\x88\\x90ç\\x9a\\x84æ\\xad£å¦¹å\\x9b¢ï¼\\x8cå\\x87\\xadå\\x80\\x9fé\\x9d\\x92æ\\x98¥ã\\x80\\x81å\\x8f¯ç\\x88±ã\\x80\\x81æ´»æ³¼è¢«å\\x86\\xa0ä»¥â\\x80\\x9cå\\x8d\\x8eè¯\\xadæ\\xad\\x8cå\\x9d\\x9bé\\x80\\x8fæ\\x98\\x8eçº¯ç\\x88±ç³»å¥³å\\xad©å\\x9b¢â\\x80\\x9dç§°å\\x8f·ã\\x80\\x82 ä¸¹é\\x98³å\\x90¾æ\\x82¦å¹¿å\\x9cºé\\x80\\x81ç¦\\x8få\\x88©å\\x92¯ï¼\\x8112æ\\x9c\\x8818æ\\x97¥æ\\x9e\\x97å®¥å\\x98\\x89å\\x92\\x8cPopu Ladyç©ºé\\x99\\x8dä¸¹é\\x98³å\\x90¾ ...\\næ\\x9d¥è\\x87ªå\\x8d\\x8eé¾\\x99ç½\\x91\\næ\\x9e\\x97å®¥å\\x98\\x89è´´è\\x83¡å\\xad\\x90å\\x8f\\x98å¤§å\\x8f\\x94 ç½\\x91å\\x8f\\x8bæ\\x83\\x8aå\\x91¼æ\\x92\\x9eè\\x84¸å\\x90´å½¦ç¥\\x96\\næ\\x96°æµªå¨±ä¹\\x90è®¯ 12æ\\x9c\\x882æ\\x97¥æ\\x99\\x9aé\\x97´ï¼\\x8cæ\\x9e\\x97å®¥å\\x98\\x89é\\x80\\x9aè¿\\x87å¾®å\\x8d\\x9aæ\\x99\\x92è\\x83¡é¡»ç\\x85§ï¼\\x8cå¹¶ç§°ï¼\\x9aâ\\x80\\x9cå¹´è½»äººï¼\\x8cä¸\\x8dè¦\\x81é\\x82£ä¹\\x88ç\\x88±ç\\x94\\x9fæ°\\x94ã\\x80\\x81ä¸\\x8dè¦\\x81æ\\x8c\\x91é£\\x9fã\\x80\\x81ä¸\\x8dè¦\\x81æ\\x99\\x9aç\\x9d¡ï¼\\x8cå\\x90¬æ\\xad\\x8cå\\x8f¯ä»¥ï¼\\x8cä½\\x86æ\\x98¯å\\x8fªè\\x83½é\\x80\\x89ä¸\\x80é¦\\x96ï¼\\x8cæ\\x8cºå\\x8f\\x94å\\x8f\\x94ç\\x9a\\x84è¯\\x9dã\\x80\\x82â\\x80\\x9dç\\x85§ç\\x89\\x87ä¸\\xadï¼\\x8cæ\\x9e\\x97å®¥å\\x98\\x89èº«ç©¿ç²\\x89è\\x89²ä¸\\x8aè¡£ï¼\\x8cè¡¨æ\\x83\\x85ä¸¥è\\x82\\x83ï¼\\x8cå\\x98´å·´è´´ä¸\\x8aä¿\\x8fç\\x9a®ç\\x9a\\x84è\\x83¡é¡»ï¼\\x8cç§\\x92å\\x8f\\x98å¤§å\\x8f\\x94ã\\x80\\x82 å¯¹æ\\xad¤ï¼\\x8cç½\\x91å\\x8f\\x8bçº·çº·ç\\x95\\x99è¨\\x80ï¼\\x8cç§° ...\\næ\\x9d¥è\\x87ªä¸\\xadå\\x9b½é\\x9d\\x92å¹´ç½\\x91\\næ\\x9e\\x97å®¥å\\x98\\x89ä¸\\x8då\\x85³æ³¨é\\x82\\x93ç´«æ£\\x8bæ¼\\x94å\\x94±ä¼\\x9aé\\x99·ç½\\x97ç\\x94\\x9fé\\x97¨ï¼\\x9aæ²¡ç\\x95\\x99æ\\x84\\x8f\\nä¸\\xadæ\\x96°ç½\\x9111æ\\x9c\\x8827æ\\x97¥æ\\x8a¥é\\x81\\x93 å\\x8f°æ¹¾æ\\xad\\x8cæ\\x89\\x8bæ\\x9e\\x97å®¥å\\x98\\x89ï¼\\x88Yogaï¼\\x89ç\\x8e°èº«å°\\x86å\\x86\\x9bæ¾³ä¸¾è¡\\x8cé\\x80\\x80ä¼\\x8då\\x90\\x8eé¦\\x96ä¸ªæ\\xad\\x8cè¿·è§\\x81é\\x9d¢ä¼\\x9aï¼\\x8cç\\x8e°å\\x9cºè¿\\x91ä¸\\x89ç\\x99¾äººå\\x9b´è§\\x82ï¼\\x8cYogaæ\\x9b´ä¸\\x8eç\\x8e°å\\x9cºæ\\x9c\\x8bå\\x8f\\x8bå¤§ç\\x8e©æ¸¸æ\\x88\\x8fã\\x80\\x82Yogaè¡¨ç¤ºå·²ç»\\x8fæ\\x9c\\x89å¹´å\\x8d\\x8aæ²¡æ\\x9c\\x89æ\\x9d¥é¦\\x99æ¸¯ï¼\\x8c å¾\\x88å¤\\x9aç²\\x89ä¸\\x9dæ\\x98¯æ\\x94¾å·¥æ\\x94¾å\\xad¦å\\x90\\x8eèµ¶è¿\\x87æ\\x9d¥ï¼\\x8cè§\\x89å¾\\x97å¥½æ\\x84\\x9fè°¢ï¼\\x8cè®²å\\x88°å\\x86\\x9bä¸\\xadç\\x94\\x9fæ´»ï¼\\x8cä»\\x96ç¬\\x91è¨\\x80ï¼\\x9aâ\\x80\\x9cå\\x8f\\x98è\\x83\\x96äº\\x86ï¼\\x8cå\\x9b\\xa0ä¸ºå½\\x93å\\x85µè\\x87ªç\\x94± ...\\næ\\x9d¥è\\x87ªç½\\x91æ\\x98\\x93å¨±ä¹\\x90\\n2\\næ\\x9e\\x97å®¥å\\x98\\x89æ¼\\x94å\\x94±ä¼\\x9a\\næ\\x9c¬ç»\\x93æ\\x9e\\x9cé\\x80\\x89è\\x87ª4479é¡¹ç\\x9b¸å\\x85³ç½\\x91ç»\\x9cèµ\\x84æº\\x90\\né\\x97®\\næ\\x9e\\x97å®¥å\\x98\\x89 - æ¼\\x94å\\x94±ä¼\\x9a\\næ\\x9e\\x97å®¥å\\x98\\x89ç\\x9a\\x84ç\\x8e°å\\x9cºæ¼\\x94å\\x94±ä¼\\x9aå\\x8c\\x85æ\\x8b¬ä¸¤å¤§ç³»å\\x88\\x97ï¼\\x9aå\\x87ºé\\x81\\x93æ\\x97©æ\\x9c\\x9få\\x92\\x8cæ\\xad\\x8cæ\\x89\\x8bå\\x91¨å®\\x9açº¬ã\\x80\\x81æ½\\x98è£\\x95æ\\x96\\x87ã\\x80\\x81è®¸ä»\\x81æ\\x9d°ç\\xad\\x89ä¸\\x80èµ·ä¸¾è¡\\x8cç\\x9a\\x84â\\x80\\x9cæ\\x98\\x9få\\x85\\x89å\\x90\\x8cå\\xad¦æ¼\\x94å\\x94±ä¼\\x9aâ\\x80\\x9dä¸\\x8eæ\\xa0¡å\\x9b\\xadæ¼\\x94å\\x94±ä¼\\x9aâ\\x80\\x9cStar\\xa04\\xa0Youâ\\x80\\x9dä»¥å\\x8f\\x8aæ\\x9e\\x97å®¥å\\x98\\x89ä¸ªäººç\\x9a\\x84æ¼\\x94å\\x94±ä¼\\x9aâ\\x80\\x9c2008-2009è¿·å®«å·¡å\\x9b\\x9eæ¼\\x94å\\x94±ä¼\\x9aâ\\x80\\x9dã\\x80\\x81â\\x80\\x9c2010æ\\x84\\x9få®\\x98/ä¸\\x96ç\\x95\\x8cå·¡å\\x9b\\x9eé\\x9f³ä¹\\x90ä¼\\x9aâ\\x80\\x9dã\\x80\\x81â\\x80\\x9c2011-2013ç¥\\x9eæ¸¸å·¡å\\x9b\\x9eæ¼\\x94å\\x94±ä¼\\x9aâ\\x80\\x9dã\\x80\\x82å\\x85¶ä»\\x96é\\x87\\x8dè¦\\x81ä¸ªäººæ¼\\x94å\\x94±ä¼\\x9aæ\\x9c\\x89çº¢ç\\x89\\x9bä¸\\x8dæ\\x8f\\x92ç\\x94µé\\x9f³ä¹\\x90ä¼\\x9aå\\x8f\\x8aæ\\x9e\\x97å®¥å\\x98\\x89é\\x82\\x82é\\x80\\x85ç\\x88µå£«æ\\x85\\x88å\\x96\\x84é\\x9f³ä¹\\x90ä¼\\x9aç\\xad\\x89ï¼\\x8cå¹¶ä¸¤åº¦åº\\x94é\\x82\\x80äº\\x8eä¸½æ\\x98\\x9fé\\x82®è½®ä¸¾è¡\\x8cå°\\x8få\\x9e\\x8bä¸ªäººæ¼\\x94å\\x94±ä¼\\x9aã\\x80\\x82\\næ\\x98\\x9få\\x85\\x89å\\x90\\x8cå\\xad¦æ¼\\x94å\\x94±ä¼\\x9aç³»å\\x88\\x97(2007-2008)\\n2007.12.29\\xa0å\\x8f°æ¹¾\\xa0å\\x8f°å\\x8c\\x97ï¼\\x88å\\x9b½ç«\\x8bå\\x8f°æ¹¾å¤§å\\xad¦ä½\\x93è\\x82²é¦\\x86ï¼\\x89\\n2008.03.15\\xa0é©¬æ\\x9d¥è¥¿äº\\x9a\\xa0äº\\x91é¡¶é«\\x98å\\x8e\\x9fï¼\\x88äº\\x91æ\\x98\\x9få\\x89§å\\x9cºï¼\\x89\\n2008.08.03\\xa0é¦\\x99æ¸¯ï¼\\x88ä¼\\x8aè\\x8e\\x89æ²\\x99ä¼¯ä½\\x93è\\x82²é¦\\x86ï¼\\x89ï¼\\x88å\\x8d\\x88ã\\x80\\x81æ\\x99\\x9aä¸¤å\\x9cºï¼\\x89\\nStar\\xa04\\xa0You\\xa0æ\\xa0¡...\\næ\\x9d¥è\\x87ªç\\x99¾åº¦ç\\x99¾ç§\\x91\\né\\x97®\\næ\\x9e\\x97å®¥å\\x98\\x89æ¼\\x94å\\x94±ä¼\\x9aé»\\x91ç\\x99½æ\\x9d¡çº¹è¡£\\nç\\xad\\x94\\nå\\x8f£ç\\x9a\\x84å½¢ç\\x8a¶æ¼\\x94å\\x94±ä¼\\x9aå\\x90\\x97ï¼\\x8cæ\\x9c\\x89ä¸\\x80ä»¶å¤¹å\\x85\\x8bæ\\x98¯æ\\x9d¡çº¹ç\\x9a\\x84ï¼\\x8cå\\x90\\x8eé\\x9d¢æ\\x9c\\x89å\\x8d°è\\x8a±ã\\x80\\x82\\næ\\x9d¥è\\x87ªç\\x99¾åº¦ç\\x9f¥é\\x81\\x932014-12-04\\né\\x97®\\næ\\x9e\\x97å®¥å\\x98\\x89æ¼\\x94å\\x94±ä¼\\x9a\\næ±\\x82å\\x90\\x84ä½\\x8dç\\x9f¥é\\x81\\x93ç\\x9a\\x84å¸®å¸®å¿\\x99ï¼\\x8cæ\\x9e\\x97å®¥å\\x98\\x892013å¹´ä»\\x80ä¹\\x88æ\\x97¶å\\x80\\x99å\\x9c¨é\\x87\\x8dåº\\x86æ\\x9c\\x89æ¼\\x94å\\x94±ä¼\\x9aå\\x95\\x8aï¼\\x9fè°¢è°¢å\\x90\\x84ä½\\x8däº\\x86\\nç\\xad\\x94\\næ\\x82¨å¥½ï¼\\x81æ\\x82¨å\\x92¨è¯¢ç\\x9a\\x84æ\\x9e\\x97å®¥å\\x98\\x89æ¼\\x94å\\x94±ä¼\\x9aæ\\x9a\\x82æ\\x97¶æ²¡æ\\x9c\\x89é\\x87\\x8dåº\\x86ç«\\x99ä¿¡æ\\x81¯ï¼\\x8cç\\x9b®å\\x89\\x8då\\x8fªæ\\x9c\\x89æ\\xad¦æ±\\x89ï¼\\x8cå\\x8c\\x97äº¬ç«\\x99æ¼\\x94å\\x87ºè¯¦æ\\x83\\x85å¦\\x82ä¸\\x8bï¼\\x9aæ¼\\x94å\\x87ºè¯¦æ\\x83\\x85&è´\\xadç¥¨ï¼\\x9ahttp://www.chinaticket.com/view/8699.htmlæ¼\\x94å\\x87ºæ\\x97¶é\\x97´&æ¼\\x94å\\x87ºå\\x9c°ç\\x82¹ï¼\\x9a2013å¹´3æ\\x9c\\x8830æ\\x97¥ 20:00 æ\\xad¦æ±\\x89å\\x85\\x89è°·ä½\\x93è\\x82²é¦\\x862013å¹´4æ\\x9c\\x8812æ\\x97¥ 19:30 å\\x8c\\x97äº¬å·¥äººä½\\x93è\\x82²é¦\\x86å¸\\x8cæ\\x9c\\x9bä»¥ä¸\\x8aä¿¡æ\\x81¯å\\x8f¯ä»¥å¸®å\\x88°æ\\x82¨â\\x88©_â\\x88©\\næ\\x9d¥è\\x87ªç\\x99¾åº¦ç\\x9f¥é\\x81\\x932013-03-25\\n3\\næ\\x9e\\x97å®¥å\\x98\\x89é\\x82\\x93ç´«æ£\\x8bæ\\x8e¥å\\x90»\\næ\\x9c¬ç»\\x93æ\\x9e\\x9cé\\x80\\x89è\\x87ª748é¡¹ç\\x9b¸å\\x85³ç½\\x91ç»\\x9cèµ\\x84æº\\x90\\né\\x97®\\né\\x82\\x93ç´«æ£\\x8bç\\x94·å\\x8f\\x8bæ\\x9e\\x97å®¥å\\x98\\x89ç\\x85§ç\\x89\\x87 æ\\x9e\\x97å®¥å\\x98\\x89é\\x82\\x93ç´«æ£\\x8bæ\\x8e¥å\\x90» é\\x82\\x93ç´«æ£\\x8bä¸ºä»\\x80ä¹\\x88å\\x8f«g.e.m\\nç\\xad\\x94\\nç¬¬ä¸\\x80ä¸ªé\\x97®é¢\\x98é\\x82\\x93ç´«æ£\\x8bç\\x8e°å\\x9c¨è¿\\x98æ²¡æ\\x9c\\x89è°\\x88æ\\x81\\x8bç\\x88±å\\x91¢ï¼\\x8cé\\x82£ä¸ªæ\\x98¯ç»¯é\\x97»ã\\x80\\x82ç¬¬äº\\x8cä¸ªé\\x97®é¢\\x98é\\x82\\x93ç´«æ£\\x8bä¸ºä»\\x80ä¹\\x88å\\x8f«G.E.Må\\x9b\\xa0ä¸ºé\\x82\\x93ç´«æ£\\x8bæ\\x9c\\x89ä¸\\x80ä¸ªè\\x8b±æ\\x96\\x87å\\x90\\x8då\\xad\\x97ï¼\\x8cGEMè¿\\x99ä¸\\x89ä¸ªå\\xad\\x97æ¯\\x8dæ\\x98¯å¥¹è\\x8b±æ\\x96\\x87å\\x90\\x8då\\xad\\x97ç\\x9a\\x84ç¬¬ä¸\\x80ä¸ªå\\xad\\x97æ¯\\x8då\\x9b\\xa0ã\\x80\\x82\\næ\\x9d¥è\\x87ªç\\x99¾åº¦ç\\x9f¥é\\x81\\x932015-09-16\\n4\\næ\\x9e\\x97å®¥å\\x98\\x89 è¯´è°\\x8e\\næ\\x9c¬ç»\\x93æ\\x9e\\x9cé\\x80\\x89è\\x87ª21451é¡¹ç\\x9b¸å\\x85³ç½\\x91ç»\\x9cèµ\\x84æº\\x90\\né\\x97®\\næ±\\x82æ\\x9e\\x97å®¥å\\x98\\x89è¯´è°\\x8eç\\x99¾åº¦äº\\x91\\nè°\\x81æ\\x9c\\x89èµ\\x84æº\\x90ã\\x80\\x82æ±\\x82å\\x88\\x86äº«ã\\x80\\x82è¯´è°\\x8e\\nç\\xad\\x94\\nè¯´è°\\x8eç\\x99¾åº¦äº\\x91è§\\x86é¢\\x91èµ\\x84æº\\x90å\\x9c¨ä¸\\x8bæ\\x96¹ï¼\\x8cæ\\x8f\\x90å\\x8f\\x96æ\\x97¶è¾\\x93å\\x85¥æ\\xad£ç¡®å¯\\x86ç\\xa0\\x81å\\x8d³å\\x8f¯ã\\x80\\x82è¿\\x99æ\\x98¯æ¥¼ä¸»è¦\\x81ç\\x9a\\x84èµ\\x84æº\\x90ï¼\\x88è¯·å\\x8f\\x8aæ\\x97¶ä¸\\x8bè½½ï¼\\x8cä»¥é\\x98²æ\\xad¢å¤±æ\\x95\\x88å\\x93¦ï¼\\x89é\\x93¾æ\\x8e¥: http://pan.baidu.com/s/1mhbwGCo å¯\\x86ç\\xa0\\x81: kpbaä¸\\x8bè½½å\\x90\\x8eï¼\\x8cæ\\x8c\\x89ç\\x85§æ\\x8f\\x90ç¤ºæ\\x93\\x8dä½\\x9cï¼\\x8cå\\x8d³å\\x8f¯è§\\x82ç\\x9c\\x8bï¼\\x81PSï¼\\x9aæ\\x82¨æ\\x83³ç\\x9f¥é\\x81\\x93ç\\x9a\\x84ç\\x9c\\x8bå®\\x8cå°±è\\x83½æ\\x89¾å\\x88°ç\\xad\\x94æ¡\\x88ï¼\\x81\\næ\\x9d¥è\\x87ªç\\x99¾åº¦ç\\x9f¥é\\x81\\x932016-01-31\\né\\x97®\\næ\\x9e\\x97å®¥å\\x98\\x89ã\\x80\\x8aè¯´è°\\x8eã\\x80\\x8bç\\x9a\\x84æ\\xad\\x8cè¯\\x8d\\nå¦\\x82é¢\\x98\\nç\\xad\\x94\\næ\\x9b²ï¼\\x9aæ\\x9d\\x8eå\\x8f\\x8cé£\\x9e è¯\\x8dï¼\\x9aæ\\x96½äººè¯\\x9a æ\\x98¯æ\\x9c\\x89è¿\\x87å\\x87\\xa0ä¸ªä¸\\x8dé\\x94\\x99å¯¹è±¡ è¯´èµ·æ\\x9d¥å¹¶ä¸\\x8då¯\\x82å¯\\x9eå\\xad¤å\\x8d\\x95 å\\x8f¯è\\x83½æ\\x88\\x91æµªè\\x8d¡ è®©äººå®¶ä¸\\x8då®\\x89 æ\\x89\\x8dä¼\\x9aç»\\x93æ\\x9e\\x9cé\\x83½é\\x98µäº¡ æ\\x88\\x91æ²¡æ\\x9c\\x89ä»\\x80éº¼é\\x98´å½±é\\xad\\x94é\\x9a\\x9c ä½\\xa0å\\x8d\\x83ä¸\\x87ä¸\\x8dè¦\\x81æ\\x94¾å\\x9c¨å¿\\x83ä¸\\x8a æ\\x88\\x91å\\x8f\\x88ä¸\\x8dè\\x84\\x86å¼± ä½\\x95å\\x86µé\\x82£ç®\\x97ä»\\x80éº¼ä¼¤ å\\x8f\\x8dæ\\xad£ç\\x88±æ\\x83\\x85ä¸\\x8då°±é\\x83½è¿\\x99æ\\xa0· æ\\x88\\x91æ²¡æ\\x9c\\x89è¯´è°\\x8e æ\\x88\\x91ä½\\x95å¿\\x85è¯´è°\\x8e ä½\\xa0æ\\x87\\x82æ\\x88\\x91ç\\x9a\\x84 æ\\x88\\x91å¯¹ä½\\xa0ä»\\x8eæ\\x9d¥å°±ä¸\\x8dä¼\\x9aå\\x81\\x87è£\\x85 ...\\næ\\x9d¥è\\x87ªç\\x99¾åº¦ç\\x9f¥é\\x81\\x932009-11-02\\né\\x97®\\næ\\x9e\\x97å®¥å\\x98\\x89è¯´è°\\x8emvé\\x87\\x8cé\\x9d¢æ\\x9c\\x89è¯´è°\\x8eç\\x9a\\x84äºº,è¦\\x81 å\\x90\\x9eä¸\\x80å\\x8d\\x83æ\\xa0¹é\\x92\\x88è¿\\x99å\\x8f¥è¯\\x9dç\\x9a\\x84å\\x9b¾ç\\x89\\x87\\nç\\xad\\x94\\nä»\\x96è¿\\x99é¦\\x96æ\\xad\\x8cé\\x87\\x8cè¯´ä»\\x96æ²¡æ\\x9c\\x89è¯´è¯\\x9dï¼\\x8cä½\\x86å¥¹å\\x8d´ä¸\\x8dç\\x9b¸ä¿¡ï¼\\x8cä»\\x96ä¸ºè¡¨è¾¾è\\x87ªå·±ç\\x9c\\x9fç\\x9a\\x84æ²¡æ\\x9c\\x89è¯´è°\\x8eå°±è¯´è°\\x81è¯´è°\\x8eå°±è¦\\x81å\\x90\\x9eä¸\\x80å\\x8d\\x83æ\\xa0¹é\\x92\\x88\\næ\\x9d¥è\\x87ªç\\x99¾åº¦ç\\x9f¥é\\x81\\x932015-07-19\\n5\\næ\\x9e\\x97å®¥å\\x98\\x89å¥½å\\x90¬ç\\x9a\\x84æ\\xad\\x8c\\næ\\x9c¬ç»\\x93æ\\x9e\\x9cé\\x80\\x89è\\x87ª497é¡¹ç\\x9b¸å\\x85³ç½\\x91ç»\\x9cèµ\\x84æº\\x90\\né\\x97®\\næ±\\x82å\\x87\\xa0é¦\\x96æ\\x9e\\x97å®¥å\\x98\\x89å¥½å\\x90¬ç\\x9a\\x84æ\\xad\\x8cï¼\\x8cè¦\\x81ä½\\xa0ä»¬å\\x90¬è¿\\x87ç\\x9a\\x84\\nç\\xad\\x94\\nçª\\x81ç\\x84¶æ\\x83³èµ·ä½\\xa0 ä½\\xa0æ\\x98¯æ\\x88\\x91ç\\x9a\\x84ç\\x9c¼èµ°é\\x92¢ç´¢ç\\x9a\\x84äººæ\\x88\\x91ç\\x9a\\x84ç\\x88±äººä¸\\x96ç\\x95\\x8cå¯¹ä¸\\x8dèµ·ï¼\\x8cè°¢è°¢é\\x9b¨å\\x92\\x8cç\\x9c¼æ³ªå¤©ä½¿ç\\x9a\\x84ä¾§è\\x84¸é\\x82£äº\\x9bæ\\x97¥å\\xad\\x90æ\\x82¬å´\\x96æ\\x88\\x91è¦\\x81æ\\x88\\x91ä»¬å\\x9c¨ä¸\\x80èµ·å¯¹ä½\\xa0ç\\x88±ä¸\\x8då®\\x8cstandbymeonlyyou\\næ\\x9d¥è\\x87ªç\\x99¾åº¦ç\\x9f¥é\\x81\\x932015-03-08\\né\\x97®\\næ\\x9e\\x97å®¥å\\x98\\x89å¥½å\\x90¬ç\\x9a\\x84æ\\xad\\x8cæ\\x9c\\x89å\\x93ªäº\\x9bï¼\\x9fæ\\x8e¨è\\x8d\\x90ä¸\\x80ä¸\\x8bå\\x90§\\nç\\xad\\x94\\næµªè´¹è¯´è°\\x8eã\\x80\\x81å¿\\x83é\\x85¸ã\\x80\\x81æ®\\x8bé\\x85·æ\\x9c\\x88å\\x85\\x89\\næ\\x9d¥è\\x87ªç\\x99¾åº¦ç\\x9f¥é\\x81\\x932015-03-31\\né\\x97®\\næ\\x9e\\x97å®¥å\\x98\\x89å¥½å\\x90¬ç\\x9a\\x84æ\\xad\\x8cä»\\x8bç»\\x8dä¸\\x8b\\nç\\xad\\x94\\nå¿\\x86è\\x8b¦æ\\x80\\x9dç\\x94\\x9cï¼\\x8cä»\\x8aå®µå¤\\x9aç\\x8f\\x8dé\\x87\\x8dï¼\\x8cäº²å¯\\x86ç\\x88±äººï¼\\x8cå\\x86\\x8då\\x88«åº·æ¡¥ï¼\\x9aè¯´è°\\x8eï¼\\x8cè\\x80³æ\\x9cµï¼\\x81æ\\x85¢æ\\xad\\x8cï¼\\x8cdarlingï¼\\x8cè§£highäººç¿»å\\x94±è¿\\x87ç\\x9a\\x84å°±ï¼\\x8cé\\xad\\x82è\\x90¦æ\\x97§æ¢¦ï¼\\x81ï¼\\x8cä¼¯ä¹\\x90å¿«æ\\xad\\x8cï¼\\x8cé\\x82£é¦\\x96æ\\xad\\x8cï¼\\x8cæ\\xad\\x87æ\\x96¯åº\\x95é\\x87\\x8cã\\x80\\x82ä»\\x96å\\x94±ç\\x9a\\x84é\\x83½å¾\\x88å¥½å\\x90¬å\\x91¢ï¼\\x8cé\\x9b¨å\\x92\\x8cç\\x9c¼æ³ªï¼\\x9aæ\\x84\\x9få\\x90\\x8cèº«å\\x8f\\x97ï¼\\x8cè°¢è°¢ï¼\\x9açª\\x81ç\\x84¶å¥½æ\\x83³ä½\\xa0ï¼\\x8cå¿\\x83é\\x85¸\\næ\\x9d¥è\\x87ªç\\x99¾åº¦ç\\x9f¥é\\x81\\x932010-03-09\\n6\\næ\\x9e\\x97å®¥å\\x98\\x89 ä½\\xa0æ\\x98¯æ\\x88\\x91ç\\x9a\\x84ç\\x9c¼\\næ\\x9c¬ç»\\x93æ\\x9e\\x9cé\\x80\\x89è\\x87ª2179é¡¹ç\\x9b¸å\\x85³ç½\\x91ç»\\x9cèµ\\x84æº\\x90\\né\\x97®\\næ\\x9c\\x89ä¸\\x80é¦\\x96æ··ä¹±ç\\x9a\\x84æ\\xad\\x8cï¼\\x8cé\\x87\\x8cé\\x9d¢å¤¹æ\\x9d\\x82ç\\x9d\\x80æ\\x9e\\x97å®¥å\\x98\\x89ä½\\xa0æ\\x98¯æ\\x88\\x91ç\\x9a\\x84ç\\x9c¼ç\\x9a\\x84ä¸\\x80æ®µæ\\xad\\x8cè¯\\x8dï¼\\x8cé\\x82£ä¸\\x80å°\\x8fæ®µæ\\x98¯å¥³ç\\x9a\\x84å\\x94±ç\\x9a\\x84ï¼\\x8cè¿\\x99é¦\\x96æ\\xad\\x8cå\\x8f«ä»\\x80ä¹\\x88å\\x90\\x8då\\xad\\x97ï¼\\x8cï¼\\x8cï¼\\x8cæ\\x80¥\\næ\\x9c\\x89ä¸\\x80é¦\\x96æ··ä¹±ç\\x9a\\x84æ\\xad\\x8cï¼\\x8cé\\x87\\x8cé\\x9d¢å¤¹æ\\x9d\\x82ç\\x9d\\x80æ\\x9e\\x97å®¥å\\x98\\x89ä½\\xa0æ\\x98¯æ\\x88\\x91ç\\x9a\\x84ç\\x9c¼ç\\x9a\\x84ä¸\\x80æ®µæ\\xad\\x8cè¯\\x8dï¼\\x8cé\\x82£ä¸\\x80å°\\x8fæ®µæ\\x98¯å¥³ç\\x9a\\x84å\\x94±ç\\x9a\\x84ï¼\\x8cè¿\\x99é¦\\x96æ\\xad\\x8cå\\x8f«ä»\\x80ä¹\\x88å\\x90\\x8då\\xad\\x97ï¼\\x8cï¼\\x8cï¼\\x8cæ\\x80¥æ±\\x82ï¼\\x8cæµªå¤\\x9fäº\\x86å\\x86\\x8då\\x9b\\x9eæ\\x9d¥ä¸\\x8dæ\\x98¯è¿\\x99é¦\\x96æ\\xad\\x8cï¼\\x8cè¯·å\\x8f\\x91æ\\xad£ç\\x89\\x88ç\\x9a\\x84ï¼\\x8cå\\x92\\x8cè°\\x81å\\x94±ç\\x9a\\x84\\nç\\xad\\x94\\nä½\\xa0æ\\x98¯æ\\x88\\x91ç\\x9a\\x84ç\\x9c¼è¯\\x8dæ\\x9b²ï¼\\x9aè\\x90§ç\\x85\\x8cå¥\\x87æ¼\\x94å\\x94±ï¼\\x9aè®¸è\\x89ºå¨\\x9cå¦\\x82æ\\x9e\\x9cæ\\x88\\x91è\\x83½ç\\x9c\\x8bå¾\\x97è§\\x81å°±è\\x83½è½»æ\\x98\\x93ç\\x9a\\x84å\\x88\\x86è¾¨ç\\x99½å¤©é»\\x91å¤\\x9cå°±è\\x83½å\\x87\\x86ç¡®ç\\x9a\\x84å\\x9c¨äººç¾¤ä¸\\xadç\\x89µç\\x9d\\x80ä½\\xa0ç\\x9a\\x84æ\\x89\\x8bå¦\\x82æ\\x9e\\x9cæ\\x88\\x91è\\x83½ç\\x9c\\x8bå¾\\x97è§\\x81å°±è\\x83½é©¾è½¦å¸¦ä½\\xa0å\\x88°å¤\\x84é\\x81¨æ¸¸å°±è\\x83½æ\\x83\\x8aå\\x96\\x9cç\\x9a\\x84ä»\\x8eè\\x83\\x8cå\\x90\\x8eç»\\x99ä½\\xa0ä¸\\x80ä¸ªæ\\x8b¥æ\\x8a±å¦\\x82æ\\x9e\\x9cæ\\x88\\x91è\\x83½ç\\x9c\\x8bå¾\\x97è§\\x81ç\\x94\\x9få\\x91½ä¹\\x9fè®¸å®\\x8cå\\x85¨ä¸\\x8då\\x90\\x8cå\\x8f¯è\\x83½æ\\x88\\x91æ\\x83³è¦\\x81ç\\x9a\\x84æ\\x88\\x91å\\x96\\x9cæ¬¢ç\\x9a\\x84æ\\x88\\x91ç\\x88±ç\\x9a\\x84é\\x83½ä¸\\x8dä¸\\x80æ\\xa0·...\\næ\\x9d¥è\\x87ªç\\x99¾åº¦ç\\x9f¥é\\x81\\x932015-12-04\\né\\x97®\\næ±\\x82ï¼\\x9aæ\\x9e\\x97å®¥å\\x98\\x89-ä½\\xa0æ\\x98¯æ\\x88\\x91ç\\x9a\\x84ç\\x9c¼ æ\\x97\\xa0æ\\x8d\\x9fæ\\xa0¼å¼\\x8f\\né\\x85·ç\\x8b\\x97å\\x9b\\xa0ç\\x89\\x88æ\\x9d\\x83ä¸\\x8dè\\x83½å\\x90¬äº\\x86ï¼\\x8cç\\x8e°å\\x9c¨æ\\x83³å\\x90¬å\\x8f¯æ²¡å¾\\x97ä¸\\x8bäº\\x86ã\\x80\\x82ã\\x80\\x82ã\\x80\\x82ã\\x80\\x82\\nç\\xad\\x94\\nã\\x80\\x8aä½\\xa0æ\\x98¯æ\\x88\\x91ç\\x9a\\x84ç\\x9c¼ã\\x80\\x8bæ\\x98¯å\\x8f°æ¹¾æ\\xad\\x8cæ\\x89\\x8bæ\\x9e\\x97å®¥å\\x98\\x89ç¿»å\\x94±ç\\x9a\\x84ä¸\\x80é¦\\x96æ\\xad\\x8cæ\\x9b²ï¼\\x8cå\\x8e\\x9få\\x94±è\\x90§ç\\x85\\x8cå¥\\x87ï¼\\x8cä¸\\x94ç\\x94±è\\x90§ç\\x85\\x8cå¥\\x87ä½\\x9cæ\\x9b²ã\\x80\\x81ä½\\x9cè¯\\x8dã\\x80\\x82å¦\\x82æ\\x9e\\x9cæ\\x88\\x91è\\x83½ç\\x9c\\x8bå¾\\x97è§\\x81å°±è\\x83½è½»æ\\x98\\x93ç\\x9a\\x84å\\x88\\x86è¾¨ç\\x99½å¤©é»\\x91å¤\\x9cå°±è\\x83½å\\x87\\x86ç¡®ç\\x9a\\x84å\\x9c¨äººç¾¤ä¸\\xadç\\x89µä½\\x8fä½\\xa0ç\\x9a\\x84æ\\x89\\x8bå¦\\x82æ\\x9e\\x9cæ\\x88\\x91è\\x83½ç\\x9c\\x8bå¾\\x97è§\\x81å°±è\\x83½é©¾è½¦å¸¦ä½\\xa0å\\x88°å¤\\x84é\\x81¨æ¸¸å°±è\\x83½æ\\x83\\x8aå\\x96\\x9cç\\x9a\\x84ä»\\x8eè\\x83\\x8cå\\x90\\x8eç»\\x99ä½\\xa0ä¸\\x80ä¸ªæ\\x8b¥æ\\x8a±å¦\\x82æ\\x9e\\x9cæ\\x88\\x91è\\x83½ç\\x9c\\x8bå¾\\x97è§\\x81ç\\x94\\x9få\\x91½ä¹\\x9fè®¸å®\\x8cå\\x85¨ä¸\\x8då\\x90\\x8cå\\x8f¯è\\x83½æ\\x88\\x91æ\\x83³è¦\\x81ç\\x9a\\x84...\\næ\\x9d¥è\\x87ªç\\x99¾åº¦ç\\x9f¥é\\x81\\x932015-08-26\\né\\x97®\\næ\\x9e\\x97å®¥å\\x98\\x89ã\\x80\\x8aä½\\xa0æ\\x98¯æ\\x88\\x91ç\\x9a\\x84ç\\x9c¼ã\\x80\\x8bè®²è¿°äº\\x86æ\\x80\\x8eæ\\xa0·ä¸\\x80ä¸ªæ\\x95\\x85äº\\x8bï¼\\x8cæ\\x88\\x91ä»¬åº\\x94è¯¥æ\\x80\\x8eä¹\\x88å\\x8e»ä½\\x93å\\x91³æ\\xad\\x8cè¯\\x8då\\x91¢ï¼\\x9f\\nç\\xad\\x94\\nï¼\\x88ä»\\x96æ²¡æ\\x9c\\x89å¾\\x88ç\\x88±ç¿»å\\x94±å\\x88«äººç\\x9a\\x84æ\\xad\\x8cå¥½ä¸\\x8då¥½ï¼\\x8cè\\x90§ç\\x85\\x8cå¥\\x87è\\x80\\x81å¸\\x88ç\\x9a\\x84æ¼\\x94å\\x94±æ\\x89\\x8dæ\\x98¯æ\\x9c\\x80æ\\x84\\x9fäººç\\x9a\\x84ï¼\\x8cä½\\x86ä»\\x96è\\x87ªå·±å\\x8d´å¾\\x88ä¸\\x8dæ\\x84¿æ\\x84\\x8fæ¼\\x94å\\x94±è¿\\x99é¦\\x96æ\\xad\\x8cï¼\\x81ï¼\\x89ä¸\\x8dè\\x83½å\\x90¦è®¤ï¼\\x8cä¸ªäººè®¤ä¸ºæ\\x9e\\x97å®¥å\\x98\\x89æ\\x98¯ä¸ªé\\x9d\\x9eå¸¸ä¸\\x8dé\\x94\\x99ç\\x9a\\x84æ\\xad\\x8cæ\\x89\\x8bï¼\\x8cæ\\x9e\\x97å®¥å\\x98\\x89å¯¹è¿\\x99é¦\\x96æ\\xad\\x8cç\\x9a\\x84æ¼\\x94ç»\\x8eä¸\\x8eè¯\\xa0é\\x87\\x8aç\\x9c\\x9fç\\x9a\\x84å¾\\x88æ\\x9c\\x89æ°´å\\x87\\x86ï¼\\x8cä»\\x96è¯´ï¼\\x8cä¹\\x9få°±æ\\x98¯ä»\\x96ç\\x9a\\x84å\\x88\\x9bä½\\x9cè\\x80\\x85è\\x90§ç\\x85\\x8cå¥\\x87æ\\x9c¬èº«æ\\x98¯ä¸\\x80ä½\\x8dç\\x9b²äººï¼\\x9aâ\\x80\\x9cè¿\\x99é¦\\x96æ\\xad\\x8cæ\\x98¯è\\x90§ç\\x85\\x8cå¥\\x87è\\x80\\x81å¸\\x88å\\x91\\x95å¿\\x83æ²¥è¡\\x80æ\\x89\\x80å\\x88\\x9bä½\\x9cå\\x87ºæ\\x9d¥ç\\x9a\\x84ã\\x80\\x82â\\x80\\x9d å\\x91µå\\x91µè¿\\x99é¦\\x96æ\\xad\\x8cç\\x9a\\x84å\\x8e\\x9få\\x94±è\\x80\\x85ï¼\\x8cæ\\x89\\x80ä»¥å\\x90\\x8eæ\\x9d¥å°±æ\\x80»è¢«è¦\\x81æ±\\x82æ¼\\x94å\\x94±æ\\xad¤æ\\xad\\x8cï¼\\x8cä¸\\x8dè¯¥æ\\x98¯æ\\x88\\x91è¿\\x99ä¸ªæ²¡æ\\x9c\\x89è¿\\x87é\\x82£ç§\\x8dç»\\x8få\\x8e\\x86ç\\x9a\\x84äººæ\\x8a\\x8aå®\\x83å\\x94±çº¢ï¼\\x8cè¿\\x99é¦\\x96æ\\xad\\x8cå°±å\\x83\\x8fæ\\x98¯ä»\\x96ç\\x9a\\x84è\\x87ªè¿°ä¸\\x80æ\\xa0·...\\næ\\x9d¥è\\x87ªç\\x99¾åº¦ç\\x9f¥é\\x81\\x932014-09-01\\n7\\nçª\\x81ç\\x84¶æ\\x83³èµ·ä½\\xa0 æ\\x9e\\x97å®¥å\\x98\\x89\\næ\\x9c¬ç»\\x93æ\\x9e\\x9cé\\x80\\x89è\\x87ª2018é¡¹ç\\x9b¸å\\x85³ç½\\x91ç»\\x9cèµ\\x84æº\\x90\\né\\x97®\\nçª\\x81ç\\x84¶æ\\x83³èµ·ä½\\xa0ï¼\\x8cæ\\x9e\\x97å®¥å\\x98\\x89ï¼\\x8cé«\\x98æ½®å\\x85¨é\\x83¨å\\x8f\\x91æ\\x9d¥å°±é\\x87\\x87çº³\\nç\\xad\\x94\\né\\x83½æ\\x98¯å\\x9b\\xa0ä¸ºé\\x82£ç\\x81¯æ³¡çª\\x81ç\\x84¶é\\x97ªäº\\x86ä¸\\x80ä¸\\x8bæ\\x96¼æ\\x98¯æ\\x83³èµ·ä½\\xa0æ\\x80\\x95ä½\\xa0 è¿\\x98æ²¡ä¼\\x91æ\\x81¯é\\x83½æ\\x98¯å\\x9b\\xa0ä¸ºè¿\\x99å\\x9cºé\\x9b¨å¿½ç\\x84¶é\\x97´ä¸\\x8bç\\x9a\\x84é\\x82£ä¹\\x88å¤§æ\\x80\\x95æ\\x9d¥ä¸\\x8då\\x8f\\x8aè·\\x9fä½\\xa0 èµ°å\\x9c¨ä¸\\x80èµ·ä¸\\x80ä¸ªäººç\\x9a\\x84å¤\\x9cæ\\x88\\x91ç\\x9a\\x84å¿\\x83 åº\\x94è¯¥æ\\x94¾å\\x9c¨å\\x93ªé\\x87\\x8cæ\\x8b¥æ\\x8a±è¿\\x87å\\x90\\x8eæ\\x88\\x91ç\\x9a\\x84å\\x8f\\x8cæ\\x89\\x8båº\\x94è¯¥æ\\x94¾å\\x9c¨å\\x93ªé\\x87\\x8cæ\\x88\\x91å§\\x8bç»\\x88å\\xad¦ä¸\\x8dä¼\\x9aæ\\x8e§å\\x88¶ æ\\x88\\x91ç\\x9a\\x84å\\x91¼å\\x90¸å\\x9c¨ç\\x8e»ç\\x92\\x83çª\\x97ä¸\\x8a å\\x91µå\\x87ºä½\\xa0ç¾\\x8eä¸½ç\\x9a\\x84å\\x90\\x8då\\xad\\x97å¯\\x82å¯\\x9eæ\\x9d¥è¢\\xadæ\\x97§...\\næ\\x9d¥è\\x87ªç\\x99¾åº¦ç\\x9f¥é\\x81\\x932014-06-03\\né\\x97®\\nè¯·é\\x97®ä½\\xa0æ\\x9c\\x89çª\\x81ç\\x84¶æ\\x83³èµ·ä½\\xa0ï¼\\x8cæ\\x9e\\x97å®¥å\\x98\\x89 ä¼´å¥\\x8få\\x90\\x97\\næ\\x9c\\x89ç\\x9a\\x84è¯\\x9då\\x8f¯ä»¥å\\x8f\\x91ç»\\x99æ\\x88\\x91å\\x90\\x97ï¼\\x9f974611921\\nç\\xad\\x94\\nå·²ä¸\\x8aä¼\\xa0ï¼\\x8cæ\\x9c\\x9bé\\x87\\x87çº³ï¼\\x81\\næ\\x9d¥è\\x87ªç\\x99¾åº¦ç\\x9f¥é\\x81\\x932014-08-30\\né\\x97®\\nçª\\x81ç\\x84¶æ\\x83³èµ·ä½\\xa0æ\\x9e\\x97å®¥å\\x98\\x89è\\x83\\x8cæ\\x99¯é\\x9f³ä¹\\x90é\\x93¾æ\\x8e¥\\nç\\xad\\x94\\né\\x93¾æ\\x8e¥å·²å\\x8f\\x91é\\x80\\x81å\\x88°ä½\\xa0ç\\x9a\\x84ç\\x99¾åº¦hiã\\x80\\x82ç\\x9c\\x8bä¸\\x8bç½\\x91é¡µå\\x8f³ä¸\\x8aè§\\x92ï¼\\x8c æ\\x9c\\x89æ¶\\x88æ\\x81¯å°±æ\\x98¯æ²¡æ\\x9c\\x89æ\\x94¶å\\x88°è¯·ç\\x95\\x99ä¸ªé\\x82®ç®±ï¼\\x8cæ\\x88\\x91å\\x8f\\x91ä½\\xa0ã\\x80\\x82=========================æ\\x8f\\x90ç¤ºï¼\\x9aç\\x95\\x99é\\x82®ç®±æ\\x97¶å\\x9c¨ä¸\\xadé\\x97´å\\x8a\\xa0ä¸ªç©ºæ\\xa0¼æ\\x88\\x96æ\\x96\\x87å\\xad\\x97æ\\x88\\x96è\\x80\\x85ç\\x9b´æ\\x8e¥ç\\x95\\x99Qå\\x8f·æ\\x95°å\\xad\\x97å°±è¡\\x8c------------------------æ·»å\\x8a\\xa0å\\x90\\x8eå¦\\x82å\\x90¬ä¸\\x8däº\\x86ï¼\\x8cé\\x87\\x8dæ\\x96°è¿\\x9bä¸\\x8bç©ºé\\x97´å\\x93¦---------...\\næ\\x9d¥è\\x87ªç\\x99¾åº¦ç\\x9f¥é\\x81\\x932013-12-15\\n8\\næ\\x9e\\x97å®¥å\\x98\\x89é\\x82\\x93ç´«æ£\\x8b\\næ\\x9c¬ç»\\x93æ\\x9e\\x9cé\\x80\\x89è\\x87ª245é¡¹ç\\x9b¸å\\x85³ç½\\x91ç»\\x9cèµ\\x84æº\\x90\\né\\x97®\\né\\x82\\x93ç´«æ£\\x8bç\\x94·å\\x8f\\x8bæ\\x9e\\x97å®¥å\\x98\\x89ç\\x85§ç\\x89\\x87 æ\\x9e\\x97å®¥å\\x98\\x89é\\x82\\x93ç´«æ£\\x8bæ\\x8e¥å\\x90» é\\x82\\x93ç´«æ£\\x8bä¸ºä»\\x80ä¹\\x88å\\x8f«g.e.m\\nç\\xad\\x94\\nç¬¬ä¸\\x80ä¸ªé\\x97®é¢\\x98é\\x82\\x93ç´«æ£\\x8bç\\x8e°å\\x9c¨è¿\\x98æ²¡æ\\x9c\\x89è°\\x88æ\\x81\\x8bç\\x88±å\\x91¢ï¼\\x8cé\\x82£ä¸ªæ\\x98¯ç»¯é\\x97»ã\\x80\\x82ç¬¬äº\\x8cä¸ªé\\x97®é¢\\x98é\\x82\\x93ç´«æ£\\x8bä¸ºä»\\x80ä¹\\x88å\\x8f«G.E.Må\\x9b\\xa0ä¸ºé\\x82\\x93ç´«æ£\\x8bæ\\x9c\\x89ä¸\\x80ä¸ªè\\x8b±æ\\x96\\x87å\\x90\\x8då\\xad\\x97ï¼\\x8cGEMè¿\\x99ä¸\\x89ä¸ªå\\xad\\x97æ¯\\x8dæ\\x98¯å¥¹è\\x8b±æ\\x96\\x87å\\x90\\x8då\\xad\\x97ç\\x9a\\x84ç¬¬ä¸\\x80ä¸ªå\\xad\\x97æ¯\\x8då\\x9b\\xa0ã\\x80\\x82\\næ\\x9d¥è\\x87ªç\\x99¾åº¦ç\\x9f¥é\\x81\\x932015-09-16\\né\\x97®\\næ\\x9e\\x97å®¥å\\x98\\x89å\\x92\\x8cé\\x82\\x93ç´«æ£\\x8bå\\x88\\x86æ\\x89\\x8bäº\\x86ä¹\\x88\\nå\\x9c¨å\\x9b½å¤\\x96é\\x94\\x80é\\x87\\x8få¾\\x88å¥½&quot.æ\\x88\\x91ä¸\\x8dæ\\x98¯æ\\x8c\\x91è´§ æ\\x88\\x91å\\x8fªæ\\x98¯å\\x8d\\x95çº¯æ\\x83³ç\\x9f¥é\\x81\\x93 å¸\\x8cæ\\x9c\\x9bè\\x83½æ\\x8f\\x90ä¾\\x9bç\\x9b¸å\\x85³æ\\x95°æ\\x8d® æ¯\\x94å¦\\x82ä¸\\x93è¾\\x91å\\x8f¯æ\\x9f¥é\\x94\\x80é\\x87\\x8få¯¹æ¯\\x94 å\\x90\\x8eæ\\x8f´ä¼\\x9aç²\\x89ä¸\\x9dä¿±ä¹\\x90é\\x83¨ä¼\\x9aå\\x91\\x98æ\\x95°ä¹\\x8bç±»ç\\x9a\\x84 è°¢è°¢.; Bå°±è¯´æ\\x9e\\x97æ¯\\x94é\\x82\\x93çº¢å\\x9b\\xa0ä¸ºæ\\x9e\\x97\"å\\x9c¨å\\x86\\x85å\\x9c°äººæ°\\x94å¾\\x88é«\\x98&quot.; ç\\x84¶å\\x90\\x8eæ\\x88\\x91å°±æ\\x83³ç\\x9f¥é\\x81\\x93å\\x88°åº\\x95è°\\x81æ\\x9b´çº¢å¦\\x82é¢\\x98 æ\\x9c\\x89ä¸\\x80å¤©è·\\x9fæ\\x9c\\x8bå\\x8f\\x8bè°\\x88èµ·æ\\x9e\\x97å®¥å\\x98\\x89å\\x92\\x8cé\\x82\\x93ç´«æ£\\x8bç\\x9a\\x84ç»¯é\\x97» A(é\\x82\\x93ç´«æ£\\x8bç\\x9a\\x84ç²\\x89ä¸\\x9d)è¯´æ\\x98¯æ\\x9e\\x97å\\x80\\x9fé\\x82\\x93ç\\x82\\x92ä½\\x9c B(æ\\x9e\\x97å®¥å\\x98\\x89ç\\x9a\\x84ç²\\x89ä¸\\x9d)ç«\\x8bé©¬å\\x8f\\x8dé©³è¯´æ\\x9e\\x97æ¯\\x94é\\x82\\x93çº¢ Aå°±è¯´é\\x82\\x93æ¯\\x94æ\\x9e\\x97çº¢å\\x9b\\xa0ä¸ºå¥¹&quot\\nç\\xad\\x94\\nå·²ç»\\x8få\\x88\\x86æ\\x89\\x8bäº\\x86ï¼\\x8cç½\\x91ä¸\\x8aé\\x83½æ\\x9c\\x89æ\\x8a¥å\\x91\\x8aï¼\\x8cè\\x80\\x8cä¸\\x94å\\x8f\\x8cæ\\x96¹é\\x83½æ\\xad£é\\x9d¢å\\x9b\\x9eåº\\x94äº\\x86å\\x88\\x86æ\\x89\\x8bç\\x9a\\x84äº\\x8bã\\x80\\x82\\næ\\x9d¥è\\x87ª360é\\x97®ç\\xad\\x942011-11-24\\né\\x97®\\næ\\x9e\\x97å®¥å\\x98\\x89é\\x82\\x93ç´«æ£\\x8bæ\\x80\\x8eä¹\\x88è®¤è¯\\x86ç\\x9a\\x84\\nç\\xad\\x94\\nå\\x8d´å¯¹ç\\x9d\\x80ç½\\x97ç\\x90¦è¯´è¯\\x9d,æ²¡ç¤¼è²\\x8cã\\x80\\x81æ¬\\xa0æ\\x95\\x99å\\x85»ï¼\\x9aå¦\\x82æ\\x9e\\x9cé¦\\x99æ¸¯æ\\x9c\\x89äººå\\x94±å\\x8a\\x9fæ¯\\x94æ\\x88\\x91å¥½,ç\\x9b´è¨\\x80ç´«æ£\\x8bâ\\x80\\x9cæ²¡ç¤¼è²\\x8cé\\x82\\x93ç´«æ£\\x8bå¿\\x83é«\\x98æ°\\x94å\\x82²â\\x88\\x9aå¤§é\\x99\\x86äºº ä½\\xa0ä»¬å\\x88\\x9aè®¤è¯\\x86GEM å½\\x93ç\\x84¶ä¸\\x8dç\\x9f¥å\\x9c¨é¦\\x99æ¸¯å¥¹ä¸ºä½\\x95è\\x80\\x81å\\x8f\\x97æ°\\x94 ,è¢«ç\\x94\\x84å¦®æ\\x96¥è´£ç¢°é\\x9d¢ä¹\\x9fä¸\\x8dæ\\x89\\x93æ\\x8b\\x9bå\\x91¼ï¼\\x8cå\\x9b\\xa0ä¸ºé\\x82\\x93ç´«æ£\\x8bæ\\x9b¾è¯´è¿\\x87ï¼\\x8cåª\\x92ä½\\x93æ\\x8f\\x90å\\x88°é\\x82\\x93ç´«æ£\\x8bæ\\x97¶ã\\x80\\x82å¹´çºªè½»è½»å°±å¤¸ä¸\\x8bæµ·å\\x8f£ï¼\\x8cGEMè·\\x9fé\\x9f¦å\\x94¯æ\\x8f¡æ\\x89\\x8bï¼\\x8cæ\\x9c\\x80è¿\\x91è¿\\x98è¯´ç\\x94·ç\\x94\\x9fä¸\\x8dæ\\x87\\x82æ\\x9c\\x89æ\\x97¶å¤\\x9aä¼¤å¥³ç\\x94\\x9fç\\x9a\\x84å¿\\x83 æ\\x9a\\x97æ\\x8c\\x87æ\\x9e\\x97å®¥å\\x98\\x89ï¼\\x8cé¢\\x81å¥\\x96å\\x85¸ç¤¼ä¹\\x9fä¸\\x8dç\\x88±å¥¹ã\\x80\\x82ä»¥å\\x89\\x8då\\x8f\\x88è¯´è\\x83¡æ\\x9d\\x8f...\\næ\\x9d¥è\\x87ªç\\x99¾åº¦ç\\x9f¥é\\x81\\x932014-02-02\\n9\\næ\\x9e\\x97å®¥å\\x98\\x89 å¤§å°\\x8fè¯´å®¶\\næ\\x9c¬ç»\\x93æ\\x9e\\x9cé\\x80\\x89è\\x87ª283é¡¹ç\\x9b¸å\\x85³ç½\\x91ç»\\x9cèµ\\x84æº\\x90\\né\\x97®\\næ\\x9e\\x97å®¥å\\x98\\x89å¤§å°\\x8fè¯´å®¶å¤\\x9aå°\\x91é\\x92±\\nç\\xad\\x94\\nä¹°äº\\x86é¢\\x84è´\\xadç\\x89\\x88ç\\x9a\\x84ï¼\\x8cå¤§ç\\x9b\\x92å\\xad\\x90è£\\x85ç\\x9a\\x84ï¼\\x8c50\\næ\\x9d¥è\\x87ªç\\x99¾åº¦ç\\x9f¥é\\x81\\x932012-10-21\\né\\x97®\\næ\\x9e\\x97å®¥å\\x98\\x89 å¤§å°\\x8fè¯´å®¶é\\x87\\x8cé\\x9d¢æ\\x9c\\x89å\\x93ªäº\\x9bæ\\xad\\x8c\\næ\\x88\\x91å\\x9c¨ç\\x94µè\\x84\\x91ä¸\\x8aæ\\x90\\x9cç´\\xa0 å\\x87ºæ\\x9d¥ç\\x9a\\x84é\\x83½æ\\x98¯cd æ\\x98¯ä¸\\x8dæ\\x98¯æ²¡æ\\x9c\\x89dvdå\\x85¶ä»\\x96ç\\x9a\\x84äº\\x86ï¼\\x9fæ\\x9c\\x89æ²¡æ\\x9c\\x89å¸¦æ\\x9c\\x89mvç\\x9a\\x84ï¼\\x9fè¿\\x98æ\\x98¯è¯´ä»¥å\\x90\\x8eå\\x86\\x8då\\x87ºï¼\\x9f\\nç\\xad\\x94\\nç\\x9b®å\\x89\\x8dæ\\x9c\\x89ã\\x80\\x8aæ\\x80\\x9då\\x87¡ã\\x80\\x8bã\\x80\\x8aè¯±ã\\x80\\x8bå\\x92\\x8cã\\x80\\x8aå\\x8b\\x89å¼ºå¹¸ç¦\\x8fã\\x80\\x8b\\næ\\x9d¥è\\x87ª360é\\x97®ç\\xad\\x942012-06-22\\né\\x97®\\næ\\x9e\\x97å®¥å\\x98\\x89å¤§å°\\x8fè¯´å®¶æ\\x9c\\x88åº\\x95å\\x9c¨å\\x8c\\x97äº¬å\\x93ªé\\x87\\x8cç\\xad¾å\\x94®\\nç\\xad\\x94\\næ\\x9e\\x97å®¥å\\x98\\x892012å\\x85¨æ\\x96°ä¸\\x93è¾\\x91ã\\x80\\x8aå¤§å°\\x8fè¯´å®¶ã\\x80\\x8bå\\x8c\\x97äº¬ç\\xad¾å\\x94®ä¼\\x9aï¼\\x8cæ\\x97¶é\\x97´ï¼\\x9a6æ\\x9c\\x8829æ\\x97¥18:00ï¼\\x8cå\\x9c°ç\\x82¹ï¼\\x9aå\\x8c\\x97äº¬å¯\\x8cå\\x8a\\x9bå¹¿å\\x9cºï¼\\x8cä¸\\x93è¾\\x91ä»·æ\\xa0¼60å\\x85\\x83ã\\x80\\x82\\næ\\x9d¥è\\x87ªç\\x99¾åº¦ç\\x9f¥é\\x81\\x932012-06-20\\n10\\næ\\x88\\x91ç\\x88±ç\\x9a\\x84äººæ\\x9e\\x97å®¥å\\x98\\x89\\næ\\x9c¬ç»\\x93æ\\x9e\\x9cé\\x80\\x89è\\x87ª910é¡¹ç\\x9b¸å\\x85³ç½\\x91ç»\\x9cèµ\\x84æº\\x90\\né\\x97®\\næ\\x88\\x91ç\\x88±ç\\x9a\\x84äºº æ\\x9e\\x97å®¥å\\x98\\x89 ç\\x89\\x88æ\\x9d\\x83å½\\x92å±\\x9e\\nç\\xad\\x94\\nä½\\x86è¶\\x85çº§æ\\x98\\x9få\\x85\\x89å¤§é\\x81\\x93ä¸\\x80ç\\x8f\\xadæ\\x9c\\x89å\\x87ºä¸\\x80å¼\\xa0ä¸\\x93è¾\\x91ï¼\\x8cæ\\x97¢ç\\x84¶æ\\x9c\\x89å\\x87ºç\\x89\\x88ï¼\\x8cé\\x82£ä¹\\x88å®¥å\\x98\\x89ä¹\\x9fæ\\x98¯æ\\x9c\\x89ç\\x89\\x88æ\\x9d\\x83å\\x8f¯ä»¥å\\x94±ç\\x9a\\x84æ\\x88\\x91ç\\x88±ç\\x9a\\x84äººå\\x8e\\x9fç\\x89\\x88æ\\x98¯é\\x99\\x88å°\\x8fæ\\x98¥ï¼\\x8cé\\x87\\x8cé\\x9d¢æ\\x9c\\x89å®¥å\\x98\\x89ç¿»å\\x94±ç\\x9a\\x84æ\\x88\\x91ç\\x88±ç\\x9a\\x84äºº\\næ\\x9d¥è\\x87ªç\\x99¾åº¦ç\\x9f¥é\\x81\\x932015-11-15\\né\\x97®\\nè·ªæ±\\x82æ\\x88\\x91ç\\x88±ç\\x9a\\x84äººï¼\\x88æ\\x9e\\x97å®¥å\\x98\\x89ï¼\\x89QQç©ºé\\x97´æ\\xad\\x8cæ\\x9b²é\\x93¾æ\\x8e¥\\nç\\xad\\x94\\né\\x93¾æ\\x8e¥å·²å\\x8f\\x91é\\x80\\x81å\\x88°ä½\\xa0ç\\x9a\\x84ç\\x99¾åº¦ç§\\x81ä¿¡ä¸\\x8aç½\\x91é¡µå\\x8f³ä¸\\x8aè§\\x92ç\\x99¾åº¦ç§\\x81ä¿¡è¯·å\\x8f\\x8aæ\\x97¶æ\\x9f¥æ\\x94¶å\\x93¦æ»¡æ\\x84\\x8fè¯·é\\x87\\x87çº³å\\x93¦å\\x90\\x8cæ±\\x82èµ\\x84æº\\x90è\\x80\\x85å\\x85\\x88å\\x8e»ç\\x99¾åº¦æ\\x8f\\x90ä¸ªé\\x97®é¢\\x98ç\\x84¶å\\x90\\x8eæ\\x8a\\x8aé\\x97®é¢\\x98å\\x9c°å\\x9d\\x80å\\x8f\\x91å\\x88°æ\\x88\\x91ç\\x9a\\x84ç\\x99¾åº¦ç§\\x81ä¿¡ä¸\\x8aæ\\x88\\x91å°±ä¼\\x9aå\\x8e»å\\x9b\\x9eç\\xad\\x94å\\x95¦\\næ\\x9d¥è\\x87ªç\\x99¾åº¦ç\\x9f¥é\\x81\\x932014-08-08\\né\\x97®\\næ\\x88\\x91ç\\x88±ç\\x9a\\x84äºº æ\\x9e\\x97å®¥å\\x98\\x89 ç©ºé\\x97´é\\x9f³ä¹\\x90é\\x93¾æ\\x8e¥\\nç\\xad\\x94\\næ\\x9e\\x97å®¥å\\x98\\x89 æ\\x88\\x91ç\\x88±ç\\x9a\\x84äººï¼\\x8cé\\x9f³ä¹\\x90é\\x93¾æ\\x8e¥å\\x9c°å\\x9d\\x80ï¼\\x88æ\\x9c¬äººå\\x9c¨ç©ºé\\x97´æµ\\x8bè¯\\x95å\\x8f¯ç\\x94¨ï¼\\x89http://ca.ctmus.cn/12sjf12dskjf112/res/1068/mp3/00/06/24/1068000624001400.mp3è¯·é\\x87\\x87çº³ç\\xad\\x94æ¡\\x88ï¼\\x8cæ\\x94¯æ\\x8c\\x81æ\\x88\\x91ä¸\\x80ä¸\\x8bã\\x80\\x82\\næ\\x9d¥è\\x87ªç\\x99¾åº¦ç\\x9f¥é\\x81\\x932014-05-17\\n11\\næ\\x9e\\x97å®¥å\\x98\\x89æ¼\\x94å\\x94±ä¼\\x9a2016 æ\\x97¶é\\x95¿\\næ\\x9c¬ç»\\x93æ\\x9e\\x9cé\\x80\\x89è\\x87ª703é¡¹ç\\x9b¸å\\x85³ç½\\x91ç»\\x9cèµ\\x84æº\\x90\\næ\\x9e\\x97å®¥å\\x98\\x89ç\\x9a\\x84ç\\x8e°å\\x9cºæ¼\\x94å\\x94±ä¼\\x9aå\\x8c\\x85æ\\x8b¬ä¸¤å¤§ç³»å\\x88\\x97ï¼\\x9aå\\x87ºé\\x81\\x93æ\\x97©æ\\x9c\\x9få\\x92\\x8cæ\\xad\\x8cæ\\x89\\x8bå\\x91¨å®\\x9açº¬ã\\x80\\x81æ½\\x98è£\\x95æ\\x96\\x87ã\\x80\\x81è®¸ä»\\x81æ\\x9d°ç\\xad\\x89ä¸\\x80èµ·ä¸¾è¡\\x8cç\\x9a\\x84â\\x80\\x9cæ\\x98\\x9få\\x85\\x89å\\x90\\x8cå\\xad¦æ¼\\x94å\\x94±ä¼\\x9aâ\\x80\\x9dä¸\\x8eæ\\xa0¡å\\x9b\\xadæ¼\\x94å\\x94±ä¼\\x9aâ\\x80\\x9cStar\\xa04\\xa0Youâ\\x80\\x9dä»¥å\\x8f\\x8aæ\\x9e\\x97å®¥å\\x98\\x89ä¸ªäººç\\x9a\\x84æ¼\\x94å\\x94±ä¼\\x9aâ\\x80\\x9c2008-2009è¿·å®«å·¡å\\x9b\\x9eæ¼\\x94å\\x94±ä¼\\x9aâ\\x80\\x9dã\\x80\\x81â\\x80\\x9c2010æ\\x84\\x9få®\\x98/ä¸\\x96ç\\x95\\x8cå·¡å\\x9b\\x9eé\\x9f³ä¹\\x90ä¼\\x9aâ\\x80\\x9dã\\x80\\x81â\\x80\\x9c2011-2013ç¥\\x9eæ¸¸å·¡å\\x9b\\x9eæ¼\\x94å\\x94±ä¼\\x9aâ\\x80\\x9dã\\x80\\x82å\\x85¶ä»\\x96é\\x87\\x8dè¦\\x81ä¸ªäººæ¼\\x94å\\x94±ä¼\\x9aæ\\x9c\\x89çº¢ç\\x89\\x9bä¸\\x8dæ\\x8f\\x92ç\\x94µé\\x9f³ä¹\\x90ä¼\\x9aå\\x8f\\x8aæ\\x9e\\x97å®¥å\\x98\\x89é\\x82\\x82é\\x80\\x85ç\\x88µå£«æ\\x85\\x88å\\x96\\x84é\\x9f³ä¹\\x90ä¼\\x9aç\\xad\\x89ï¼\\x8cå¹¶ä¸¤åº¦åº\\x94é\\x82\\x80äº\\x8eä¸½æ\\x98\\x9fé\\x82®è½®ä¸¾è¡\\x8cå°\\x8få\\x9e\\x8bä¸ªäººæ¼\\x94å\\x94±ä¼\\x9aã\\x80\\x82\\næ\\x98\\x9få\\x85\\x89å\\x90\\x8cå\\xad¦æ¼\\x94å\\x94±ä¼\\x9aç³»å\\x88\\x97(2007-2008)\\n2007.12.29\\xa0å\\x8f°æ¹¾\\xa0å\\x8f°å\\x8c\\x97ï¼\\x88å\\x9b½ç«\\x8bå\\x8f°æ¹¾å¤§å\\xad¦ä½\\x93è\\x82²é¦\\x86ï¼\\x89\\n2008.03.15\\xa0é©¬æ\\x9d¥è¥¿äº\\x9a\\xa0äº\\x91é¡¶é«\\x98å\\x8e\\x9fï¼\\x88äº\\x91æ\\x98\\x9få\\x89§å\\x9cºï¼\\x89\\n2008.08.03\\xa0é¦\\x99æ¸¯ï¼\\x88ä¼\\x8aè\\x8e\\x89æ²\\x99ä¼¯ä½\\x93è\\x82²é¦\\x86ï¼\\x89ï¼\\x88å\\x8d\\x88ã\\x80\\x81æ\\x99\\x9aä¸¤å\\x9cºï¼\\x89\\nStar\\xa04\\xa0You\\xa0æ\\xa0¡...\\næ\\x9d¥è\\x87ªç\\x99¾åº¦ç\\x99¾ç§\\x91\\n12\\næ\\x9e\\x97å®¥å\\x98\\x89 æ®\\x8bé\\x85·æ\\x9c\\x88å\\x85\\x89\\næ\\x9c¬ç»\\x93æ\\x9e\\x9cé\\x80\\x89è\\x87ª5001é¡¹ç\\x9b¸å\\x85³ç½\\x91ç»\\x9cèµ\\x84æº\\x90\\né\\x97®\\næ±\\x82æ\\x9e\\x97å®¥å\\x98\\x89æ®\\x8bé\\x85·æ\\x9c\\x88å\\x85\\x89 è¯´è°\\x8eé«\\x98é\\x9f³è´¨ç\\x89\\x88\\nç\\xad\\x94\\nä¸\\x8bè½½è\\x99¾ç±³é\\x9f³ä¹\\x90ï¼\\x8cé\\x87\\x8cé\\x9d¢æ\\x9c\\x89å\\x98\\x89å\\x93¥å¤§é\\x83¨å\\x88\\x86æ\\xad\\x8cï¼\\x8cç»\\x9då¯¹é«\\x98é\\x9f³è´¨\\næ\\x9d¥è\\x87ªç\\x99¾åº¦ç\\x9f¥é\\x81\\x932015-10-08\\né\\x97®\\né\\x85·æ\\x88\\x91é\\x9f³ä¹\\x90ä¸ºä»\\x80ä¹\\x88æ²¡æ\\x9c\\x89æ\\x9e\\x97å®¥å\\x98\\x89æ®\\x8bé\\x85·æ\\x9c\\x88å\\x85\\x89\\nç\\xad\\x94\\né\\x85·æ\\x88\\x91æ\\x8a\\x8a æ\\x89\\x80æ\\x9c\\x89å\\x8d\\x8eç\\xa0\\x94é\\x9f³ä¹\\x90å\\x85¬å\\x8f¸æ\\x97\\x97ä¸\\x8bè\\x89ºäººç\\x9a\\x84æ\\xad\\x8c é\\x83½ä¸\\x8bçº¿äº\\x86 å\\x8e\\x9få\\x9b\\xa0æ\\x98¯ ç\\x89\\x88æ\\x9d\\x83é\\x97®é¢\\x98\\næ\\x9d¥è\\x87ªç\\x99¾åº¦ç\\x9f¥é\\x81\\x932015-09-26\\né\\x97®\\nè°\\x81æ\\x9c\\x89è¿\\x99äº\\x9bæ\\xad\\x8cã\\x80\\x82mp3æ\\xa0¼å¼\\x8fç\\x9a\\x84ã\\x80\\x82è¦\\x81å\\x8e\\x9fç\\x89\\x88ã\\x80\\x82ä¸\\x8dè¦\\x81liveç\\x89\\x88æ\\x9c¬ç\\x9a\\x84ã\\x80\\x82æ\\x9e\\x97å®¥å\\x98\\x89-æ®\\x8bé\\x85·æ\\x9c\\x88å\\x85\\x89ã\\x80\\x81äº\\x94æ\\x9c\\x88å¤©-æ\\x98\\x9fç©ºã\\x80\\x81äº\\x94æ\\x9c\\x88å¤©-çª\\x81ç\\x84¶\\nè°\\x81æ\\x9c\\x89è¿\\x99äº\\x9bæ\\xad\\x8cã\\x80\\x82mp3æ\\xa0¼å¼\\x8fç\\x9a\\x84ã\\x80\\x82è¦\\x81å\\x8e\\x9fç\\x89\\x88ã\\x80\\x82ä¸\\x8dè¦\\x81liveç\\x89\\x88æ\\x9c¬ç\\x9a\\x84ã\\x80\\x82æ\\x9e\\x97å®¥å\\x98\\x89-æ®\\x8bé\\x85·æ\\x9c\\x88å\\x85\\x89ã\\x80\\x81äº\\x94æ\\x9c\\x88å¤©-æ\\x98\\x9fç©ºã\\x80\\x81äº\\x94æ\\x9c\\x88å¤©-çª\\x81ç\\x84¶å¥½æ\\x83³ä½\\xa0ã\\x80\\x81äº\\x94æ\\x9c\\x88å¤©-æ\\x88\\x91ä¸\\x8dæ\\x84¿è®©ä½\\xa0ä¸\\x80ä¸ªäººã\\x80\\x81æ\\x9d¨å®\\x97çº¬-è\\x83\\x8cå\\x8f\\x9bã\\x80\\x81å\\x85\\x89è\\x89¯-ç«¥è¯\\x9dã\\x80\\x81æ¢\\x81é\\x9d\\x99è\\x8c¹-æ\\x9a\\x96æ\\x9a\\x96ã\\x80\\x81æ¢\\x81é\\x9d\\x99è\\x8c¹-å®\\x81å¤\\x8fã\\x80\\x81æ¢\\x81é\\x9d\\x99è\\x8c¹-ä¼\\x9aå\\x91¼å\\x90¸ç\\x9a\\x84ç\\x97\\x9bã\\x80\\x82æ\\x8cºé\\x9a¾æ\\x89¾ç\\x9a\\x84ã\\x80\\x82\\nç\\xad\\x94\\næ\\x88\\x91æ\\x9c\\x89å\\x95\\x8aï¼\\x8cæ\\x88\\x91è\\x83½æ\\x89¾å\\x88°ã\\x80\\x82\\næ\\x9d¥è\\x87ªç\\x99¾åº¦ç\\x9f¥é\\x81\\x932015-12-07\\n13\\næ\\x9e\\x97å®¥å\\x98\\x89 ç¥\\x9eç§\\x98å\\x98\\x89å®¾\\næ\\x9c¬ç»\\x93æ\\x9e\\x9cé\\x80\\x89è\\x87ª5200é¡¹ç\\x9b¸å\\x85³ç½\\x91ç»\\x9cèµ\\x84æº\\x90\\né\\x97®\\næ\\x9e\\x97å®¥å\\x98\\x89ç¥\\x9eç§\\x98å\\x98\\x89å®¾mvé\\x87\\x8cç\\x9a\\x84é\\x82£ä¸ªå¥³ç\\x94\\x9fæ\\x98¯è°\\x81\\næ\\x9c\\x89æ²¡æ\\x9c\\x89å¥¹ç\\x9a\\x84å\\x85·ä½\\x93æ\\x9d\\x90æ\\x96\\x99å\\x90\\x97æ\\x88\\x91æ\\x98¯å¥³ç\\x94\\x9fç\\x84¶å\\x88\\x99æ\\x84\\x9få\\x88°å¥¹å¾\\x88æ¼\\x82äº®å¾\\x88ç\\x88±å¥½\\nç\\xad\\x94\\né\\x99\\x88å\\x8c¡æ\\x80¡ ä¸\\x8eå®¥å\\x98\\x89å\\x90\\x8cå¹´ç\\x9a\\x84å\\x8f°å¤§å¹´å¤\\x9cé«\\x98æ\\x9d\\x90ç\\x94\\x9få¥³ä¸»è§\\x92ä¸\\x8då\\x8fªå¤\\x96å\\x9e\\x8bè\\x84±ä¿\\x97æ°\\x94è´¨å\\x87ºä¼\\x97æ\\x9b´é\\x87\\x8dè¦\\x81ç\\x9a\\x84æ\\x98¯ä¸\\x80å¼\\xa0ã\\x80\\x8cè¶\\x85ç\\xad\\x89æ\\x98\\x8eæ\\x98\\x9fè\\x84¸ã\\x80\\x8dè®©å®¥å\\x98\\x89ä½©æ\\x9c\\x8dä¸\\x8då·²ï¼\\x9aã\\x80\\x8cå¥¹é\\x95¿ç\\x9a\\x84ä¼¼ä¹\\x8eæ\\x88\\x91å°\\x8fæ\\x97¶å\\x88»ç\\x9a\\x84å\\x81¶å\\x83\\x8få\\x91¨æ\\x85§æ\\x95\\x8få\\x96\\x94å¹¶ä¸\\x94ç\\x85§æ\\xa0·å\\x8f°å¤§å¹´å¤\\x9cç\\x9a\\x84é«\\x98æ\\x9d\\x90ç\\x94\\x9få\\x85¶å®\\x9eæ\\x98¯å¤ªå\\x8e\\x89å®³äº\\x86æ\\x88\\x91å¾\\x88ã\\x80\\x8eå°\\x8aæ\\x95¬ã\\x80\\x8få¥¹å\\x95\\x8aã\\x80\\x8dè¡¨é\\x9d¢ç¥\\x9eä¼¼å\\x91¨æ\\x85§æ\\x95\\x8fç\\x9a\\x84å¥³ä¸»è§\\x92æ\\x95¬ä¸\\x9aç²¾å\\x8a\\x9bä¹\\x9fæ\\x98¯ä¸\\x80æµ\\x81ã\\x80\\x82æ\\x9e\\x97å®¥å\\x98\\x89å½¢å®¹ï¼\\x9aã\\x80\\x8cæ\\x88\\x91ä»¬å\\x9c¨è\\x8d\\x89å\\x8e\\x9fä¸\\x8aæ\\x8b\\x8dæ\\x91\\x84æ\\x97¶å\\x88°å¤\\x84é\\x83½æ\\x98¯å°\\x8fè\\x99«æ\\x89\\x80æ\\x9c\\x89äººç\\x9a\\x84æ\\x89\\x8bä¸\\x8dæ\\x98¯å¿\\x99è\\x91\\x97æ\\x8c¥å\\x8a¨å°±æ\\x98¯ç\\x8c\\x9bæ\\x8a\\x93ç\\x97\\x92è\\x80\\x8cå¥³ä¸»è§\\x92ç©¿è\\x91\\x97æ½\\x87æ´\\x92ç\\x9a\\x84è£\\x99å\\xad\\x90è¹²å\\x9c¨è\\x8d\\x89ä¸\\x9bé\\x87\\x8cå\\x8d´ä¾\\x9dç\\x84¶ä¿\\x9dæ\\x8c\\x81è\\x91\\x97ç¬\\x91å®¹ä¸\\x80å\\x8f¥ç\\x89¢éª\\x9aä¹\\x9fæ²¡æ\\x9c\\x89ã\\x80\\x82å¥¹ç\\x9c\\x9fç\\x9a\\x84...\\næ\\x9d¥è\\x87ªç\\x99¾åº¦ç\\x9f¥é\\x81\\x932014-08-21\\né\\x97®\\næ\\x9e\\x97å®¥å\\x98\\x89-ç¥\\x9eç§\\x98å\\x98\\x89å®¾MVé\\x87\\x8cé\\x82£ä¸ªé\\x94\\x80é\\xad\\x82ç\\x9a\\x84å¥³ä¸»è§\\x92å\\x8f«ä»\\x80ä¹\\x88å\\x90\\x8då\\xad\\x97?\\nç\\xad\\x94\\né\\x99\\x88å\\x8c¡æ\\x80¡ å\\x8f\\x82è\\x80\\x83èµ\\x84æ\\x96\\x99=== ä¸\\x8dä»\\x85MVå\\x9cºé\\x9d¢æµ©å¤§ä»¤æ\\x9e\\x97å®¥å\\x98\\x89èµ\\x9eå\\x8f¹ï¼\\x8cè¿\\x9eå¥³ä¸»è§\\x92é\\x83½è®©æ\\x9e\\x97å®¥å\\x98\\x89ã\\x80\\x8cæ\\x83\\x8aè\\x89³ã\\x80\\x8dä¸\\x8då·²ã\\x80\\x82ä¸\\x8eå®¥å\\x98\\x89å\\x90\\x8cå¹´ç\\x9a\\x84å\\x8f°å¤§é«\\x98æ\\x9d\\x90ç\\x94\\x9få¥³ä¸»è§\\x92ä¸\\x8dä½\\x86å¤\\x96å\\x9e\\x8bè\\x84±ä¿\\x97ï¼\\x8cæ°\\x94è´¨å\\x87ºä¼\\x97ï¼\\x8cæ\\x9b´é\\x87\\x8dè¦\\x81ç\\x9a\\x84æ\\x98¯ä¸\\x80å¼\\xa0ã\\x80\\x8cè¶\\x85çº§æ\\x98\\x8eæ\\x98\\x9fè\\x84¸ã\\x80\\x8dè®©å®¥å\\x98\\x89ä½©æ\\x9c\\x8dä¸\\x8då·²ï¼\\x9aã\\x80\\x8cå¥¹é\\x95¿ç\\x9a\\x84å¥½å\\x83\\x8fæ\\x88\\x91å°\\x8fæ\\x97¶å\\x80\\x99ç\\x9a\\x84å\\x81¶å\\x83\\x8få\\x91¨æ\\x85§æ\\x95\\x8få\\x96\\x94ï¼\\x8cè\\x80\\x8cä¸\\x94è¿\\x98æ\\x98¯å\\x8f°å¤§ç\\x9a\\x84é«\\x98æ\\x9d\\x90ç\\x94\\x9fï¼\\x8cå®\\x9eå\\x9c¨æ\\x98¯å¤ªå\\x8e\\x89å®³äº\\x86ï¼\\x8cæ\\x88\\x91å¾\\x88ã\\x80\\x8eå°\\x8aæ\\x95¬ã\\x80\\x8få¥¹ï¼\\x81ã\\x80\\x8då¤\\x96è²\\x8cç¥\\x9eä¼¼å\\x91¨æ\\x85§æ\\x95\\x8fç\\x9a\\x84å¥³ä¸»è§\\x92æ\\x95¬ä¸\\x9aç²¾ç¥\\x9eä¹\\x9fæ\\x98¯ä¸\\x80æµ\\x81ã\\x80\\x82æ\\x9e\\x97å®¥å\\x98\\x89å½¢å®¹ï¼\\x9aã\\x80\\x8cæ\\x88\\x91ä»¬å\\x9c¨è\\x8d\\x89å\\x8e\\x9fä¸\\x8aæ\\x8b\\x8dæ\\x91\\x84æ\\x97¶ï¼\\x8cå\\x88°å¤\\x84é\\x83½æ\\x98¯å°\\x8fè\\x99«ï¼\\x8cæ\\x89\\x80æ\\x9c\\x89äººç\\x9a\\x84æ\\x89\\x8bä¸\\x8dæ\\x98¯å¿\\x99è\\x91\\x97...\\næ\\x9d¥è\\x87ªç\\x99¾åº¦ç\\x9f¥é\\x81\\x932014-07-07\\né\\x97®\\næ±\\x82æ\\x9e\\x97å®¥å\\x98\\x89ã\\x80\\x8aç¥\\x9eç§\\x98å\\x98\\x89å®¾ã\\x80\\x8bé\\x95¿æ\\x9c\\x9fæ\\x9c\\x89æ\\x95\\x88ç\\x9a\\x84MP3é\\x93¾æ\\x8e¥å\\x9c°å\\x9d\\x80\\nç\\xad\\x94\\næ\\x9e\\x97å®¥å\\x98\\x89 - ç¥\\x9eç§\\x98å\\x98\\x89å®¾äº²ï¼\\x8cæ\\xad\\x8cæ\\x9b²é\\x93¾æ\\x8e¥å·²ç\\x99¾åº¦Hiä½\\xa0ï¼\\x8cè¯·ç\\x95\\x99æ\\x84\\x8få\\x8f³ä¸\\x8aè§\\x92Hiå\\x9b¾æ\\xa0\\x87æ\\x8f\\x90ç¤ºï¼\\x8cæ\\x9c\\x89ç\\x96\\x91é\\x97®æ¬¢è¿\\x8eè¿½é\\x97®ï¼\\x8cè\\x8b¥æ²¡æ\\x94¶å\\x88°è¯·ç\\x95\\x99ä¸\\x8bè\\x81\\x94ç³»é\\x82®ç®±ï¼\\x8cå¥½å\\x8f\\x91æ\\xad\\x8cé\\x93¾ç»\\x99ä½\\xa0ï¼\\x8cæ»¡æ\\x84\\x8fè¯·é\\x87\\x87è®¢é¸¡æ\\x96¥è¯¾ä¿ªé\\x85\\x92ç\\xad¹æ\\x97¬è\\x88¹è\\x8e«çº³å\\x9b\\x9eç\\xad\\x94ï¼\\x8cè°¢è°¢ã\\x80\\x82å\\x85¶å®\\x83è¦\\x81é\\x93¾æ\\x8e¥ç\\x9a\\x84äº²ï¼\\x8cå\\x8f¯å\\x9c¨æ\\x88\\x91å¤´å\\x83\\x8fä¸\\x8bç\\x82¹å\\x87»ã\\x80\\x90æ±\\x82å\\x8a©ç\\x9f¥å\\x8f\\x8bã\\x80\\x91ï¼\\x8cç\\x95\\x99æ\\xad\\x8cå\\x90\\x8d+æ\\xad\\x8cæ\\x89\\x8b+é\\x82®ç®±\\næ\\x9d¥è\\x87ªç\\x99¾åº¦ç\\x9f¥é\\x81\\x932013-05-25\\n14\\næ\\x9e\\x97å®¥å\\x98\\x89 æ\\x83³è\\x87ªç\\x94±\\næ\\x9c¬ç»\\x93æ\\x9e\\x9cé\\x80\\x89è\\x87ª11537é¡¹ç\\x9b¸å\\x85³ç½\\x91ç»\\x9cèµ\\x84æº\\x90\\né\\x97®\\nè·ªæ±\\x82æ\\x9e\\x97å®¥å\\x98\\x89ã\\x80\\x8aæ\\x83³è\\x87ªç\\x94±ã\\x80\\x8bMP3ï¼\\x81æ\\x9b´ä¸ºå¤§ç¥\\x9eæ\\x8b\\x9cæ\\x89\\x98å\\x95¦~æ\\x8a¥é\\x85¬å\\x86³ä¸\\x8dè®©ä½\\xa0å¤±æ\\x9c\\x9bï¼\\x81\\nå¦\\x82é¢\\x98æ\\x89\\x80è¿°\\nç\\xad\\x94\\nhttp://pan.baidu.com/share/link?shareid=2220772218&uk=911434835\\næ\\x9d¥è\\x87ªç\\x99¾åº¦ç\\x9f¥é\\x81\\x932015-10-13\\né\\x97®\\næ\\x9e\\x97å®¥å\\x98\\x89ã\\x80\\x8aæ\\x83³è\\x87ªç\\x94±ã\\x80\\x8bã\\x80\\x8aè\\x87ªç\\x84¶é\\x86\\x92ã\\x80\\x8bMP3æ\\xa0¼å¼\\x8fç\\x9a\\x84é\\x93¾æ\\x8e¥ã\\x80\\x82å\\x8f¯ä»¥å½\\x93ç©ºé\\x97´è\\x83\\x8cæ\\x99¯é\\x9f³ä¹\\x90ç\\x9a\\x84ã\\x80\\x82\\nå\\x8fªè¦\\x81æµ\\x81ç\\x95\\x85å°±è¡\\x8c\\nç\\xad\\x94\\næ\\x9e\\x97å®¥å\\x98\\x89ã\\x80\\x8aæ\\x83³è\\x87ªç\\x94±ã\\x80\\x8bã\\x80\\x8aè\\x87ªç\\x84¶é\\x86\\x92ã\\x80\\x8bç©ºé\\x97´é\\x93¾æ\\x8e¥å¦\\x82æ\\x9e\\x9cä¸\\x8då¥½æ\\x89¾~å°±è\\x87ªå·±å\\x81\\x9aå\\x90§ï¼\\x81ç»\\x99ä½\\xa0ä¸ªä¸\\x80å\\x8a³æ°¸é\\x80¸ æ°¸ä¹\\x85ç»¿é\\x92»ç\\x9a\\x84 è§£å\\x86³æ\\x96¹æ³\\x95å\\x90§ä¸\\x8bè½½é\\x9c\\x80è¦\\x81ç\\x9a\\x84æ\\xad\\x8cæ\\x9b²ç\\x99¾åº¦ é\\x85·ç\\x89\\x9bç½\\x91ç\\x9b\\x98 ï¼\\x8cä¸\\x8aä¼\\xa0å\\x88°ç½\\x91ç\\x9b\\x98è\\x87ªå\\x8a¨å½¢æ\\x88\\x90æ\\xad\\x8cæ\\x9b²é\\x93¾æ\\x8e¥å¤\\x8då\\x88¶é\\x93¾æ\\x8e¥å\\x88°ç©ºé\\x97´å\\x8d³å\\x8f¯ã\\x80\\x90æ\\x88\\x91æ\\x9c¬å\\x86\\x9bå\\x9b¢ã\\x80\\x91\\næ\\x9d¥è\\x87ªç\\x99¾åº¦ç\\x9f¥é\\x81\\x932015-08-31\\né\\x97®\\næ\\x9e\\x97å®¥å\\x98\\x89 æ\\x83³è\\x87ªç\\x94±æ\\xad\\x8cè¯\\x8dç¬¬ä¸\\x80å\\x8f¥æ\\x98¯ä»\\x80ä¹\\x88\\nå¦\\x82é¢\\x98~\\nç\\xad\\x94\\næ¯\\x8fä¸ªäººé\\x83½ç¼ºä¹\\x8fä»\\x80ä¹\\x88ï¼\\x8cæ\\x88\\x91ä»¬æ\\x89\\x8dä¼\\x9aç\\x9e¬é\\x97´å°±ä¸\\x8då¿«ä¹\\x90ï¼\\x88æ\\x9c\\x9bé\\x87\\x87çº³ï¼\\x89\\næ\\x9d¥è\\x87ªç\\x99¾åº¦ç\\x9f¥é\\x81\\x932014-05-22\\n15\\næ\\x9e\\x97å®¥å\\x98\\x89 - å\\x96\\x9cå¥½\\nå\\x96\\x9cç\\x88±ç\\x9a\\x84/æ\\x9c\\x80æ\\x83³å\\x90\\x88ä½\\x9cç\\x9a\\x84æ\\xad\\x8cæ\\x89\\x8bï¼\\x9aé\\x99\\x88å¥\\x95è¿\\x85ã\\x80\\x81é\\x99\\x88ç»®è´\\x9e\\nå\\x96\\x9cç\\x88±ç\\x9a\\x84é\\x9f³ä¹\\x90ï¼\\x9aé\\x99¤äº\\x86HIPHOPç\\x9a\\x84å\\x90\\x84ç±»å\\x9e\\x8bç\\x9a\\x84é\\x9f³ä¹\\x90ï¼\\x8cå\\x8c\\x85æ\\x8b¬å\\x86·é\\x97¨æ\\xad\\x8c\\nå¹³å¸¸ç\\x9a\\x84å\\x97\\x9cå¥½ï¼\\x9aå\\x90\\x83å¥½å\\x90\\x83ç\\x9a\\x84ï¼\\x8cå\\x94±æ\\xad\\x8cï¼\\x8cæ\\x89\\x93ç¯®ç\\x90\\x83\\nå\\x96\\x9cæ¬¢ç\\x9a\\x84é¢\\x9cè\\x89²ï¼\\x9aä¼¼è\\x93\\x9dä¼¼ç»¿ç\\x9a\\x84é¢\\x9cè\\x89²\\næ\\x9c\\x80æ\\x83³å\\x81\\x9aç\\x9a\\x84äº\\x8bï¼\\x9aå\\x94±æ\\xad\\x8cç»\\x99å\\x85¨ä¸\\x96ç\\x95\\x8cå\\x90¬\\nå®¶äºº:ç\\x88¶äº²ã\\x80\\x81æ¯\\x8däº²ã\\x80\\x81ä¸\\x80å¼\\x9fä¸\\x80å¦¹\\næ\\x89\\x80å±\\x9eå\\x85¬å\\x8f¸ï¼\\x9aå\\x8d\\x8eç\\xa0\\x94å\\x9b½é\\x99\\x85é\\x9f³ä¹\\x90ï¼\\x88å\\x85¨çº¦â\\x80\\x94æ\\x88ªæ\\xad¢2009å¹´6æ\\x9c\\x88ï¼\\x89\\nå¤§é\\x99\\x86å\\x94±ç\\x89\\x87å\\x85¬å\\x8f¸ï¼\\x9aGold Typhoon(é\\x87\\x91ç\\x89\\x8cå¤§é£\\x8e)\\næ\\x9d¥è\\x87ªç\\x99¾åº¦ç\\x99¾ç§\\x91\\n16\\næ\\x9e\\x97å®¥å\\x98\\x89 - ä¸ªäººç»\\x8få\\x8e\\x86\\né\\x97®\\næ\\x97©å¹´ç\\x94\\x9fæ¶¯\\næ\\x9e\\x97å®¥å\\x98\\x89å\\x9c¨1987å¹´7æ\\x9c\\x881æ\\x97¥å\\x87ºç\\x94\\x9fï¼\\x8cå\\x8e\\x9få±\\x85å\\x8f°æ¹¾å±\\x8fä¸\\x9cæ½®å·\\x9eé\\x95\\x87ï¼\\x8cæ\\x98¯å®¶ä¸\\xadé\\x95¿å\\xad\\x90ï¼\\x8cæ\\x9c\\x89ä¸\\x80å¼\\x9fä¸\\x80å¦¹ï¼\\x8cå®¶é\\x87\\x8cç»\\x8fè\\x90¥å»ºæ\\x9d\\x90ç\\x94\\x9fæ\\x84\\x8fã\\x80\\x82æ\\x9e\\x97å®¥å\\x98\\x89è\\x87ªå°\\x8fæ\\x88\\x90ç»©ä¸\\x8dé\\x94\\x99ï¼\\x8cè\\x80\\x83ä¸\\x8aå\\x87¤å±±é«\\x98ä¸\\xadå\\x90\\x8eæ\\x90¬å\\x88°é«\\x98é\\x9b\\x84å±\\x85ä½\\x8fï¼\\x8cé«\\x98ä¸\\xadæ¯\\x95ä¸\\x9aå\\x90\\x8eå°±è¯»äº\\x8eè\\x8a±è\\x8e²ç\\x9a\\x84ä¸\\x9cå\\x8d\\x8eå¤§å\\xad¦è¿\\x90å\\x8a¨ä¸\\x8eä¼\\x91é\\x97²å\\xad¦ç³»ã\\x80\\x82\\næ\\x9d¥è\\x87ªç\\x99¾åº¦ç\\x99¾ç§\\x91\\né\\x97®\\næ\\xa0¡å\\x9b\\xadä¹\\x90å\\x9b¢æ\\x97¶æ\\x9c\\x9fï¼\\x882003å¹´â\\x80\\x932006å¹´12æ\\x9c\\x88ï¼\\x89\\næ\\x9e\\x97å®¥å\\x98\\x89è\\x87ªå°\\x8få±\\x95ç\\x8e°æ\\xad\\x8cå\\x94±å¤©ä»½ï¼\\x8cä»\\x96æ\\x8e¥å\\x8f\\x97ã\\x80\\x8aå£¹å\\x91¨å\\x88\\x8aã\\x80\\x8bä¸\\x93è®¿æ\\x97¶è¡¨ç¤ºï¼\\x8cé\\x99¶å\\x96\\x86æ\\x98¯å\\x90¯è\\x92\\x99ä»\\x96é\\x9f³ä¹\\x90ç\\x9a\\x84é\\x87\\x8dè¦\\x81æ\\xad\\x8cæ\\x89\\x8bã\\x80\\x82é«\\x98ä¸\\xadæ\\x97¶æ\\x9e\\x97å®¥å\\x98\\x89ä¸ºæ\\xa0¡å\\x86\\x85ç\\x83\\xadé\\x97¨ä¹\\x90å\\x9b¢ç\\x9a\\x84ä¸»å\\x94±ï¼\\x8cå½\\x93æ\\x97¶æ\\x9b¾ç»\\x8fæ\\x8e¥å\\x8f\\x97è¿\\x87å®\\x9eå\\x8a\\x9bæ´¾æ\\xad\\x8cæ\\x89\\x8bæ\\x9d¨å\\x9f¹å®\\x89å\\x85³äº\\x8eæ\\x91\\x87æ»\\x9aé\\x9f³ä¹\\x90æ\\x96¹é\\x9d¢ç\\x9a\\x84æ\\x8c\\x87å¯¼ï¼\\x8cæ\\x9d¨å\\x9f¹å®\\x89å¯¹å¹´å°\\x91ç\\x9a\\x84æ\\x9e\\x97å®¥å\\x98\\x89å\\x9c¨R&Bæ\\x96¹é\\x9d¢å±\\x95é\\x9c²ç\\x9a\\x84å¤©ä»½ç\\x95\\x99ä¸\\x8bäº\\x86æ·±å\\x88»ç\\x9a\\x84å\\x8d°è±¡ã\\x80\\x82æ\\x9e\\x97å®¥å\\x98\\x89ä¸\\x8aå¤§å\\xad¦ä¹\\x8bå\\x90\\x8eä»\\x8dç»§ç»\\xadå\\x9c¨æ\\xa0¡ç»\\x84å\\x9b¢ç»\\x83å\\x94±ï¼\\x8cå¹¶å\\x9c¨æ\\xa0¡å\\x86\\x85æ\\x8b¥æ\\x9c\\x89ä¸\\x8då°\\x8fç\\x9f¥å\\x90\\x8dåº¦ï¼\\x8cå\\x90\\x8eæ\\x9d¥å\\x9b\\xa0ä¸ºæ\\x83³è¦\\x81å¯»æ±\\x82é\\x9f³ä¹\\x90ä¸\\x8aç\\x9a\\x84çª\\x81ç\\xa0´è\\x80\\x8cé\\x80\\x80å\\x87ºä¹\\x90å\\x9b¢ï¼\\x8cè½¬å¾\\x80è\\x8a±è\\x8e²å½\\x93å\\x9c°ç\\x9a\\x84é¤\\x90å\\x8e\\x85æ\\x8b\\x85ä»»é©»å\\x94±æ\\xad\\x8cæ\\x89\\x8bã\\x80\\x82ä¸\\x8dè¿\\x87è¿\\x99æ®µé©»å\\x94±ç\\x94\\x9fæ¶¯ä»\\x85ç»´æ\\x8c\\x81ä¸¤ä¸ªæ\\x9c\\x88ï¼\\x8cå°±å\\x9b\\xa0ä¸ºé¤\\x90å\\x8e\\x85å¤±ç\\x81«å\\x81\\x9cæ\\xad¢è\\x90¥ä¸\\x9aè\\x80\\x8cè¢«è¿«ä¸\\xadæ\\xad¢ã\\x80\\x82å\\x9c¨2006å¹´12æ\\x9c\\x88äº\\x8eé«\\x98é\\x9b\\x84å\\x8f\\x82å\\x8a\\xa0ç¬¬ä¸\\x80å±\\x8aã\\x80\\x8aè¶\\x85çº§æ\\x98\\x9få\\x85\\x89å¤§é\\x81\\x93ã\\x80\\x8bå\\x88\\x86å\\x8cºå\\x88\\x9dé\\x80\\x89ä¹\\x8bå\\x89\\x8dï¼\\x8cæ\\x9e\\x97å®¥å\\x98\\x89æ²¡æ\\x9c\\x89ä»¥ä¸ªäººèº«å\\x88\\x86å\\x8f\\x82å\\x8a\\xa0è¿\\x87æ\\xad£å¼\\x8fç\\x9a\\x84æ\\xad\\x8cå\\x94±æ¯\\x94èµ\\x9bã\\x80\\x82\\næ\\x9d¥è\\x87ªç\\x99¾åº¦ç\\x99¾ç§\\x91\\né\\x97®\\nè¶\\x85çº§æ\\x98\\x9få\\x85\\x89å¤§é\\x81\\x93ï¼\\x882007å¹´1æ\\x9c\\x88â\\x80\\x932007å¹´7æ\\x9c\\x88ï¼\\x89\\næ\\x9e\\x97å®¥å\\x98\\x89å\\x9c¨ç¬¬ä¸\\x80å±\\x8aã\\x80\\x8aè¶\\x85çº§æ\\x98\\x9få\\x85\\x89å¤§é\\x81\\x93ã\\x80\\x8bå\\x8f\\x82èµ\\x9bå\\x88\\x9dæ\\x9c\\x9få¹¶ä¸\\x8då\\x8f\\x97é\\x87\\x8dè§\\x86ã\\x80\\x82å\\x9c¨2007å¹´3æ\\x9c\\x889æ\\x97¥æ\\x92\\xadå\\x87ºç\\x9a\\x84PKæ·\\x98æ±°èµ\\x9bä¸\\xadï¼\\x8cä»\\x96ä»¥æ\\x9e\\x81å\\x85·ä¸ªäººé£\\x8eæ\\xa0¼ç\\x9a\\x84æ\\x96¹å¼\\x8fï¼\\x8cæ¼\\x94å\\x94±äº\\x86æ\\x9d\\x8eæ³\\x89ç\\x9a\\x84ã\\x80\\x8aèµ°é\\x92¢ç´¢ç\\x9a\\x84äººã\\x80\\x8bè®©è¯\\x84å®¡æ\\x83\\x8aè\\x89³ï¼\\x8cä¸»æ\\x8c\\x81äººé\\x99¶æ\\x99¶è\\x8e¹ä»¥â\\x80\\x9cè¿·å¹»â\\x80\\x9dæ\\x9d¥å½¢å®¹æ\\x9e\\x97å®¥å\\x98\\x89æ¼\\x94å\\x94±æ\\xad¤æ\\x9b²æ\\x97¶é«\\x98è¾¨è¯\\x86åº¦ç\\x9a\\x84å\\x97\\x93é\\x9f³å\\x92\\x8cæ\\x8a\\x95å\\x85¥ç\\x9a\\x84ç¥\\x9eæ\\x83\\x85ï¼\\x8cè¿\\x99æ\\x98¯ä»\\x96é¦\\x96æ¬¡å\\x8f\\x97å\\x88°å¹¿æ³\\x9bç\\x9a\\x84æ³¨æ\\x84\\x8fã\\x80\\x82æ\\x8e¥ä¸\\x8bæ\\x9d¥ç\\x9a\\x84ã\\x80\\x8aCan\\'t\\xa0Take\\xa0My\\xa0Eyes\\xa0Off\\xa0Youã\\x80\\x8bã\\x80\\x81\\xa0ã\\x80\\x8aä½\\xa0å¿«ä¹\\x90æ\\x89\\x80ä»¥æ\\x88\\x91å¿«ä¹\\x90ã\\x80\\x8bã\\x80\\x81ã\\x80\\x8aæ¢\\x81å±±ä¼¯ä¸\\x8eè\\x8c±ä¸½å\\x8f¶ã\\x80\\x8bå\\x92\\x8cã\\x80\\x8aæ\\x89\\x93å¼\\x80ç\\x88±ã\\x80\\x8bä¹\\x9fé\\x83½æ\\x9c\\x89æ\\x9e\\x81ä½³ç\\x9a\\x84è¡¨ç\\x8e°ã\\x80\\x82è\\x99½ç\\x84¶å\\x9b\\xa0ä¸ºå\\x8f\\x98æ\\x88\\x90å¥½å\\x8f\\x8bç\\x9a\\x84é\\x80\\x89æ\\x89\\x8bä»¬çº·çº·è¢«è\\x8a\\x82ç\\x9b®æ·\\x98æ±°ï¼\\x8cè¿\\x99æ\\xa0·ç\\x9a\\x84æ·\\x98æ±°èµ\\x9bå\\x88¶æ\\x9b¾è®©ä»\\x96ä¸\\x80åº¦è\\x90\\x8cç\\x94\\x9fé\\x80\\x80æ\\x84\\x8fï¼\\x8cä½\\x86æ\\x98¯å\\x9c¨è´¥é\\x83¨æ·\\x98æ±°èµ\\x9bè\\x83\\x9cå\\x87ºå\\x90\\x8eï¼\\x8cä¸\\x8eè\\x89ºäººé»\\x84å¤§ç\\x82\\x9cå\\x90\\x88å\\x94±ã\\x80\\x8aä½\\xa0æ\\x8a\\x8aæ\\x88\\x91ç\\x81\\x8cé\\x86\\x89ã\\x80\\x8bï¼\\x8cè®©ä»\\x96æ\\x9b´ç¡®å®\\x9aäº\\x86æ\\x83³è¦\\x81å\\x94±æ\\xad\\x8cç»\\x99æ\\x89\\x80æ\\x9c\\x89äººå\\x90¬ç\\x9a\\x84ä¿¡å¿µï¼\\x8cå¹¶å\\x88\\x9bä¸\\x8bäº\\x86æ\\xad£å¼\\x8fæ¯\\x94èµ\\x9bä¹\\x9dåº¦ï¼\\x88ä¸\\x80å\\x85±å\\x8d\\x81ä¸\\x80é¦\\x96æ\\x9b²å\\xad\\x90ï¼\\x89æ»¡å\\x88\\x86ï¼\\x8820å\\x88\\x86æ\\x88\\x96ä»¥ä¸\\x8aï¼\\x89ç\\x9a\\x84ç©ºå\\x89\\x8dçºªå½\\x95ã\\x80\\x82ä»\\x96æ\\x98¯å\\x94¯ä¸\\x80å\\x9c¨è¸¢é¦\\x86èµ\\x9bç¨\\x8bä¸\\xadä¿\\x9dæ\\x8c\\x81å\\x85¨è\\x83\\x9cçºªå½\\x95ã\\x80\\x81æ»¡å\\x88\\x86æ¬¡æ\\x95°æ\\x9c\\x80å¤\\x9aã\\x80\\x81ç§¯å\\x88\\x86æ\\x9c\\x80é«\\x98ç\\x9a\\x84é\\x80\\x89æ\\x89\\x8bã\\x80\\x82\\nå\\x9c¨2007å¹´7æ\\x9c\\x886æ\\x97¥ç\\x8e°å\\x9cºç\\x9b´æ\\x92\\xadç\\x9a\\x84æ\\x80»å\\x86³èµ\\x9bä¸\\xadï¼\\x8cæ\\x9e\\x97å®¥å\\x98\\x89æ¼\\x94å\\x94±äº\\x86è\\x8b±å\\x9b½æ\\x91\\x87æ»\\x9aä¹\\x90å\\x9b¢Radioheadç\\x9a\\x84æ\\x88\\x90å\\x90\\x8dä½\\x9cã\\x80\\x8aCreepã\\x80\\x8b ï¼\\x8cå®£ç¤ºä»\\x96ç\\x9a\\x84é\\x9f³ä¹\\x90æ\\x80\\x81åº¦ã\\x80\\x82ä¼\\x98å¼\\x82ç\\x9a\\x84æ¼\\x94å\\x94±æ\\x8a\\x80å·§å\\x92\\x8cæ·±å\\x88»ç\\x9a\\x84é\\x9f³ä¹\\x90å\\x86\\x85æ¶µè\\x8e·å¾\\x97è¯\\x84å®¡æ\\x9e\\x81é«\\x98è¯\\x84ä»·ï¼\\x8cè®©ä»\\x96æ\\x8b¿ä¸\\x8bäº\\x8625å\\x88\\x86æ»¡å\\x88\\x86ï¼\\x8cæ\\x9b´é¡ºå\\x88©å¤ºå¾\\x97å\\x86\\xa0å\\x86\\x9bå¤´è¡\\x94ã\\x80\\x82\\xa0è¿\\x99ä¸\\x8dä»\\x85æ\\x98¯ä»\\x96ç»§2007.5.25æ¼\\x94å\\x94±ã\\x80\\x8aä½\\xa0æ\\x98¯æ\\x88\\x91ç\\x9a\\x84ç\\x9c¼ã\\x80\\x8bæ\\x8b¿ä¸\\x8b25å\\x88\\x86æ»¡å\\x88\\x86ä¹\\x8bå\\x90\\x8eå\\x86\\x8dæ¬¡æ\\x8b¿å\\x88°æ»¡å\\x88\\x86ï¼\\x8cä¹\\x9fæ\\x98¯ã\\x80\\x8aè¶\\x85çº§æ\\x98\\x9få\\x85\\x89å¤§é\\x81\\x93ã\\x80\\x8bå¼\\x80èµ\\x9bä»¥æ\\x9d¥ï¼\\x8cæ\\xad£å¼\\x8få\\x8f\\x82èµ\\x9bè\\x80\\x85å½\\x93ä¸\\xadç¬¬ä¸\\x80ä½\\x8dè\\x8e·å¾\\x97ä¸¤æ¬¡25å\\x88\\x86æ»¡å\\x88\\x86ç\\x9a\\x84å\\x8f\\x82èµ\\x9bè\\x80\\x85ã\\x80\\x82\\næ\\x9d¥è\\x87ªç\\x99¾åº¦ç\\x99¾ç§\\x91\\n17\\næ\\x9e\\x97å®¥å\\x98\\x89 - é\\x9f³ä¹\\x90é£\\x8eæ\\xa0¼\\næ\\x9e\\x97å®¥å\\x98\\x89å\\x85·æ\\x9c\\x89è¾¨è¯\\x86åº¦æ\\x9e\\x81é«\\x98ç\\x9a\\x84é\\x9f³è\\x89²å\\x92\\x8cå®½é\\x98\\x94ç\\x9a\\x84é\\x9f³å\\x9f\\x9fï¼\\x8cæ\\xa0¹æ\\x8d®ç\\x83\\xadå¿\\x83æ\\xad\\x8cè¿·ç\\x9a\\x84æµ\\x8bè¯\\x95ï¼\\x8cä»\\x96ç\\x9a\\x84é\\x9f³å\\x9f\\x9fé\\x98\\x94è¾¾äº\\x8cå\\x8d\\x81ä¸\\x89åº¦ã\\x80\\x82é\\x99¤äº\\x86ç\\x88\\x86å\\x8f\\x91å\\x8a\\x9bå\\x8d\\x81è¶³ç\\x9a\\x84é«\\x98é\\x9f³å\\x9f\\x9fï¼\\x8cä»\\x96ä¸°æ»¡é\\x86\\x87å\\x8e\\x9aç\\x9a\\x84ä½\\x8eé\\x9f³æ\\x9b´å\\x8f\\x97å\\x88°ç\\x9f¥å\\x90\\x8dé\\x9f³ä¹\\x90äººå¼\\xa0å®\\x87å\\x92\\x8cé»\\x84é\\x9fµç\\x8e²ç\\x9a\\x84å¤§å\\x8a\\x9bèµ\\x9eèµ\\x8fã\\x80\\x82æ\\x9e\\x97å®¥å\\x98\\x89ä¹\\x9fæ\\x8b¥æ\\x9c\\x89ä¼\\x98ç§\\x80ç\\x9a\\x84æ\\xad\\x8cå\\x94±æ\\x8a\\x80å·§ï¼\\x8cä¸\\x8dç®¡æ\\x98¯æ°\\x94é\\x9f³è¿\\x98æ\\x98¯è½¬é\\x9f³ã\\x80\\x81å\\x81\\x87é\\x9f³ï¼\\x8cä»\\x96é\\x83½è\\x83½æ\\x8e\\x8cæ\\x8e§è\\x87ªå¦\\x82ã\\x80\\x82é\\x99¤æ\\xad¤ä¹\\x8bå¤\\x96ï¼\\x8cæ¼\\x94å\\x94±æ\\x97¶æ\\x8a\\x95å\\x85¥ç\\x9a\\x84è¡¨æ\\x83\\x85å\\x92\\x8cæ\\x97¥æ¸\\x90å\\x9c\\x86ç\\x86\\x9fä¸°å¯\\x8cç\\x9a\\x84è\\x82¢ä½\\x93è¯\\xadè¨\\x80ï¼\\x8cä¹\\x9fæ\\x88\\x90ä¸ºä»\\x96ç\\x8b¬ç\\x89¹è\\x88\\x9eå\\x8f°é\\xad\\x85å\\x8a\\x9bç\\x9a\\x84ä¸\\x80é\\x83¨å\\x88\\x86ã\\x80\\x82\\nè¿\\x99æ\\xa0·ä¼\\x98å¼\\x82ç\\x9a\\x84å\\x85\\x88å¤©å\\x92\\x8cå\\x90\\x8eå¤©æ\\x9d¡ä»¶ï¼\\x8cå\\x8f\\x8dæ\\x98\\xa0å\\x87ºæ\\x9d¥ç\\x9a\\x84æ\\x98¯ä»\\x96å¤\\x9aæ\\xa0·å\\x8c\\x96ç\\x9a\\x84æ\\x9b²é£\\x8eå\\x92\\x8cå®½å¹¿ç\\x9a\\x84æ\\x9b²ç\\x9b®ã\\x80\\x82æ\\x9e\\x97å®¥å\\x98\\x89æ\\x8e¥è§¦ç\\x9a\\x84é\\x9f³ä¹\\x90ç§\\x8dç±»é\\x9d\\x9eå¸¸å¹¿æ³\\x9bï¼\\x8cå\\x8c\\x85å\\x90«å\\x8d\\x8eè¯\\xadå\\x92\\x8cè\\x8b±æ\\x97¥è¯\\xadç\\x9a\\x84æµ\\x81è¡\\x8cé\\x9f³ä¹\\x90ï¼\\x8cæ\\x9b´å\\x8c\\x85æ\\x8b¬è®¸å¤\\x9aå\\x9c°ä¸\\x8bå\\x92\\x8cé\\x9d\\x9eä¸»æµ\\x81è·¯çº¿ç\\x9a\\x84ä½\\x9cå\\x93\\x81ã\\x80\\x82å\\x9c¨æ¯\\x94èµ\\x9bæ\\x9c\\x9fé\\x97´ï¼\\x8cä»\\x96æ\\x9c\\x80å\\x8f\\x97å\\x88°è¯\\x84å®¡é«\\x98åº¦èµ\\x9eèª\\x89ç\\x9a\\x84æ\\x98¯å\\x85¶ç\\x8b¬ç\\x89¹ç\\x9a\\x84é\\x80\\x89æ\\xad\\x8cå\\x93\\x81å\\x91³å\\x92\\x8cæ\\x9e\\x81å\\x85·ä¸ªäººç\\x89¹è\\x89²ç\\x9a\\x84è¯\\xa0é\\x87\\x8aï¼\\x8cä¸¾å\\x87¡æ\\x9d\\x8eæ³\\x89ç\\x9a\\x84ã\\x80\\x8aèµ°é\\x92¢ç´¢ç\\x9a\\x84äººã\\x80\\x8bã\\x80\\x81è\\x90§ç\\x85\\x8cå¥\\x87ç\\x9a\\x84ã\\x80\\x8aä½\\xa0æ\\x98¯æ\\x88\\x91ç\\x9a\\x84ç\\x9c¼ã\\x80\\x8bç\\xad\\x89æ\\x9b²ï¼\\x8cé\\x83½å\\x9c¨æ\\x9e\\x97å®¥å\\x98\\x89ç\\x9a\\x84æ\\x8e¨ä»\\x8bä¸\\x8bæ\\x9b´å¹¿ä¸ºäººç\\x9f¥ï¼\\x8cä¹\\x9få\\x9b\\xa0æ\\xad¤è¢«æ\\x8e¨å´\\x87ä¸ºæ\\x9c\\x80æ\\x9c\\x89æ\\x9c¬äº\\x8bæ\\x8a\\x8aå\\x86·é\\x97¨æ\\xad\\x8cå\\x94±çº¢ç\\x9a\\x84å®\\x9eå\\x8a\\x9bæ´¾æ\\x96°è¿\\x9bæ\\xad\\x8cæ\\x89\\x8bã\\x80\\x82å\\x85¶ä¸\\xadä»\\x96æ\\x89\\x80ç¿»å\\x94±ç\\x9a\\x84ã\\x80\\x8aä½\\xa0æ\\x98¯æ\\x88\\x91ç\\x9a\\x84ç\\x9c¼ã\\x80\\x8bï¼\\x8cå\\x9c¨å\\x85¨ç\\x90\\x83ç\\x9f¥å\\x90\\x8då½±é\\x9f³ç½\\x91ç«\\x99YouTubeå\\x8d\\x95ä¸\\x80å½±å¸¦ç\\x9a\\x84é\\x98\\x85è§\\x88æ¬¡æ\\x95°æ\\x9b´é«\\x98è¾¾å°\\x86è¿\\x91ä¸¤ç\\x99¾ä¸\\x87æ¬¡ï¼\\x8cæ\\x98¯å\\x94¯ä¸\\x80è¿\\x9bå\\x85¥å\\x89\\x8däº\\x8cå\\x8d\\x81å\\x90\\x8dç\\x9a\\x84ä¸\\xadæ\\x96\\x87å½±å¸¦ã\\x80\\x82\\næ\\x8a\\x92æ\\x83\\x85æ\\xad\\x8cæ\\x9b²\\næ\\x9e\\x97å®¥å\\x98\\x89æ¼\\x94å\\x94±ç\\x9a\\x84ç\\x89¹ç\\x82¹ä¹\\x8bä¸\\x80æ\\x98¯å¼ºç\\x83\\x88ç\\x9a\\x84æ\\x83\\x85ç»ªå¼\\xa0å\\x8a\\x9bå\\x92\\x8cå\\x85\\x85æ»¡æ\\x88\\x8få\\x89§æ\\x80§ç\\x9a\\x84é\\x93ºé\\x99\\x88ã\\x80\\x82\\nä»£è¡¨æ\\x9b²ç\\x9b®ï¼\\x9a ç\\x88±ã\\x80\\x81æ\\x89\\x93å¼\\x80ç\\x88±ã\\x80\\x81 æ\\x82¬å´\\x96ã\\x80\\x81æ\\x88\\x91ç\\x88±ç\\x9a\\x84äººã\\x80\\x81ä½\\xa0æ\\x98¯æ\\x88\\x91ç\\x9a\\x84ç\\x9c¼ã\\x80\\x81 å\\x88°ä¸\\x8däº\\x86ã\\x80\\x81 Honestyã\\x80\\x81ç\\x88±æ\\x88\\x91å¥½å\\x90\\x97ã\\x80\\x81å¦\\x82æ\\x9e\\x9cæ²¡æ\\x9c\\x89ä½\\xa0ã\\x80\\x81å\\x8d\\x81å¹´ã\\x80\\x81äº²å¯\\x86ç\\x88±äººã\\x80\\x81Loveã\\x80\\x81ä¸\\x80ç±³ã\\x80\\x81å½\\x93ç\\x88±å·²æ\\x88\\x90å¾\\x80äº\\x8bã\\x80\\x81Kæ\\xad\\x8cä¹\\x8bç\\x8e\\x8bã\\x80\\x81ä½\\xa0ç\\x9a\\x84è\\x83\\x8cå\\x8c\\x85ã\\x80\\x81æ\\x8b¥æ\\x8a±ã\\x80\\x81å¦\\x82æ\\x9e\\x9cè¿\\x99é\\x83½ä¸\\x8dç®\\x97ç\\x88±ã\\x80\\x81Tears in heavenã\\x80\\x81ä¸\\x80è¿½å\\x86\\x8dè¿½ã\\x80\\x81ä¸\\x96ç\\x95\\x8cã\\x80\\x81è°¢è°¢ã\\x80\\x81æ\\x88\\x91ã\\x80\\x81å¤©ä½¿ç\\x9a\\x84ä¾§è\\x84¸ã\\x80\\x81æ\\x9c\\x89ä½\\xa0ç\\x9a\\x84å°\\x86æ\\x9d¥\\nç\\x88µå£«ã\\x80\\x81Swing\\næ\\x95\\x8fé\\x94\\x90ç\\x9a\\x84è\\x8a\\x82å¥\\x8fæ\\x84\\x9få\\x92\\x8cè\\x87ªç\\x94±å\\x8d³å\\x85´ç\\x9a\\x84æ¼\\x94å\\x94±æ\\x96¹å¼\\x8fï¼\\x8cè®©æ\\x9e\\x97å®¥å\\x98\\x89æ\\x88\\x90ä¸ºå\\x8d\\x8eè¯\\xadæ\\xad\\x8cå\\x9d\\x9bä¸\\xadæ\\x9e\\x81å°\\x91æ\\x95°æ\\x93\\x85é\\x95¿ç\\x88µå£«è\\x93\\x9dè°\\x83é£\\x8eæ\\xa0¼ç\\x9a\\x84ç\\x94·æ\\xad\\x8cæ\\x89\\x8bï¼\\x8cç\\x88µå£«è\\x93\\x9dè°\\x83ä¹\\x9fæ\\x9c\\x80è\\x83½ä½\\x93ç\\x8e°æ\\x9e\\x97å®¥å\\x98\\x89è¿·å¹»ç\\x9a\\x84é\\x9f³ä¹\\x90é£\\x8eæ\\xa0¼ã\\x80\\x82\\nä»£è¡¨æ\\x9b²ç\\x9b®ï¼\\x9a èµ°é\\x92¢ç´¢ç\\x9a\\x84äººã\\x80\\x81Can\\'t Take My Eyes off Youã\\x80\\x81ä½\\xa0å¿«ä¹\\x90ï¼\\x88æ\\x89\\x80ä»¥æ\\x88\\x91å¿«ä¹\\x90ï¼\\x89ã\\x80\\x81 é\\x82£äº\\x9bæ\\x97¥å\\xad\\x90ã\\x80\\x81è\\x80\\x81å®\\x9eæ\\x83\\x85æ\\xad\\x8cã\\x80\\x81Last Orderã\\x80\\x81å\\x85¨ä¸\\x96ç\\x95\\x8cå¤±ç\\x9c\\xa0ã\\x80\\x81å\\x93\\xadäº\\x86ã\\x80\\x81æ\\x88\\x91è¦\\x81æ\\x88\\x91ä»¬å\\x9c¨ä¸\\x80èµ·ã\\x80\\x81Stand by Meã\\x80\\x81å¹´çºªå¤§äº\\x86ä¸\\x80ç\\x82¹ã\\x80\\x81Fly Me to the Moon ã\\x80\\x81Only You\\næ\\x91\\x87æ»\\x9a\\næ\\x9e\\x97å®¥å\\x98\\x89å\\x85·æ\\x9c\\x89ç\\x88\\x86å\\x8f\\x91å\\x8a\\x9bå\\x8d\\x81è¶³ç\\x9a\\x84é«\\x98é\\x9f³å\\x9f\\x9fï¼\\x8cå\\x9c¨ä¸\\x8då\\x90\\x8cç§\\x8dç±»ç\\x9a\\x84æ\\x91\\x87æ»\\x9aæ\\xad\\x8cæ\\x9b²ä¸\\xadé\\x83½æ\\x9c\\x89é\\x9d\\x9eå¸¸å\\x87ºè\\x89²ç\\x9a\\x84è¡¨ç\\x8e°ã\\x80\\x82\\nä»£è¡¨æ\\x9b²ç\\x9b®ï¼\\x9a ä½\\xa0æ\\x8a\\x8aæ\\x88\\x91ç\\x81\\x8cé\\x86\\x89ã\\x80\\x81Creepã\\x80\\x81ä½\\xa0ç\\x88±è¿\\x87æ²¡æ\\x9c\\x89ã\\x80\\x81Look What You Have Doneã\\x80\\x81é»\\x91è\\x89²æ\\x9f³ä¸\\x81ã\\x80\\x81ä½\\x8eç\\xad\\x89å\\x8a¨ç\\x89©ã\\x80\\x81I Hate Myself for Loving Youã\\x80\\x81Stormã\\x80\\x81å¿\\x97æ\\x98\\x8eä¸\\x8eæ\\x98¥å¨\\x87ã\\x80\\x81ç\\x8b\\x82äººæ\\x97¥è®°ã\\x80\\x81æ\\x9c\\x88é»\\x91é£\\x8eé«\\x98ã\\x80\\x81é\\x9b¨å\\x92\\x8cç\\x9c¼æ³ªã\\x80\\x81Blue Suede Shoesã\\x80\\x81å¼\\x80å\\x88°è\\x8d¼è\\x98¼ã\\x80\\x81é\\x80\\x8fé\\x9c²\\nR&B\\næ\\x9e\\x97å®¥å\\x98\\x89ä¸\\x8då¸¸å\\x9c¨å\\x85¬å¼\\x80å\\x9cºå\\x90\\x88æ¼\\x94å\\x94±R&Bç\\x9a\\x84æ\\x9b²å\\xad\\x90ã\\x80\\x82ä»\\x96è\\x87ªå·±ç\\x9a\\x84è¯´æ³\\x95æ\\x98¯ä¸\\x8dæ\\x83³è®©äººè§\\x89å¾\\x97ä»\\x96å\\x9c¨æ¨¡ä»¿é\\x9f³è\\x89²ç\\x9b¸è¿\\x91ç\\x9a\\x84æ\\xad\\x8cæ\\x89\\x8bç\\x8e\\x8bå\\x8a\\x9bå®\\x8fã\\x80\\x82ä»\\x96ç\\x9a\\x84è½¬é\\x9f³å\\x92\\x8cå\\x81\\x87é\\x9f³æ\\x8a\\x80å·§ï¼\\x8cè¿\\x9eå®\\x9eå\\x8a\\x9bæ´¾æ\\xad\\x8cæ\\x89\\x8bæ\\x9d¨å\\x9f¹å®\\x89é\\x83½èµ\\x9eèµ\\x8fä»\\x96æ¼\\x94å\\x94±R&Bç\\x9a\\x84å\\x8a\\x9få\\x8a\\x9bã\\x80\\x82\\nä»£è¡¨æ\\x9b²ç\\x9b®ï¼\\x9a Katrinaã\\x80\\x81å¤©ä½¿å¿\\x8cå¦\\x92ç\\x9a\\x84ç\\x94\\x9fæ´»ã\\x80\\x81æ\\x9c\\x9bæ\\x98¥é£\\x8eã\\x80\\x81ç\\x88±å¾\\x88ç®\\x80å\\x8d\\x95ã\\x80\\x81æ\\x99®é\\x80\\x9aæ\\x9c\\x8bå\\x8f\\x8bã\\x80\\x81æ²\\x99æ»©ã\\x80\\x81One Last Cry\\næ\\x9d¥è\\x87ªç\\x99¾åº¦ç\\x99¾ç§\\x91\\n18\\næ\\x9e\\x97å®¥å\\x98\\x89ç\\x9a\\x84ç½\\x91é¡µæ\\x90\\x9cç´¢ç»\\x93æ\\x9e\\x9c\\næ\\x9e\\x97å®¥å\\x98\\x89 - å\\x85¨ä¸\\x96ç\\x95\\x8cè°\\x81å\\x80¾å\\x90¬ä½\\xa0 (From \"ä»\\x8eä½\\xa0ç\\x9a\\x84å\\x85¨ä¸\\x96ç\\x95\\x8cè·¯è¿\\x87\" Theme ...\\n2018-9-2\\u2002·\\u2002æ\\xad\\x8cæ\\x89\\x8bç®\\x80ä»\\x8bï¼\\x9a æ\\x9e\\x97å®¥å\\x98\\x89ï¼\\x8c1987å¹´7æ\\x9c\\x881æ\\x97¥å\\x87ºç\\x94\\x9fäº\\x8eä¸\\xadå\\x9b½å\\x8f°æ¹¾å±\\x8fä¸\\x9cï¼\\x8cæ\\xad\\x8cæ\\x89\\x8bã\\x80\\x82 2007å¹´7æ\\x9c\\x88ä»¥å¤§å\\xad¦ç\\x94\\x9fç\\x9a\\x84èº«ä»½ ï¼\\x8cå¤ºå¾\\x97å\\x8f°æ¹¾ä¸\\xadè§\\x86ä¸»å\\x8a\\x9eç\\x9a\\x84æ\\xad\\x8cå\\x94±é\\x80\\x89ç§\\x80è\\x8a\\x82ç\\x9b®ã\\x80\\x8aè¶\\x85çº§æ\\x98\\x9få\\x85\\x89å¤§é\\x81\\x93ã\\x80\\x8bç¬¬ä¸\\x80å\\xad£å\\x86\\xa0å\\x86\\x9b ï¼\\x8cå¹¶ ...\\nwww.itunesplusaac.com/æ\\x9e\\x97å®¥å\\x98\\x89-å\\x85¨ä¸\\x96ç\\x95\\x8cè°\\x81å\\x80¾å\\x90¬ä½\\xa0...\\næ\\x9e\\x97å®¥å\\x98\\x89æ¼\\x94å\\x94±ä¼\\x9aé«\\x98æ¸\\x85å®\\x8cæ\\x95´ç\\x89\\x88-é\\x9f³ä¹\\x90-é«\\x98æ¸\\x85MVå\\x9c¨çº¿è§\\x82ç\\x9c\\x8bâ\\x80\\x93ç\\x88±å¥\\x87è\\x89º\\nè§\\x86é¢\\x91æ\\x97¶é\\x95¿: 189 å\\x88\\x86é\\x92\\x9f\\n2013-9-9\\u2002·\\u2002æ\\x9e\\x97å®¥å\\x98\\x89æ¼\\x94å\\x94±ä¼\\x9aé«\\x98æ¸\\x85å®\\x8cæ\\x95´ç\\x89\\x88é«\\x98æ¸\\x85MVå\\x9c¨çº¿è§\\x82ç\\x9c\\x8bï¼\\x8cäº\\x8e2013-09-09ä¸\\x8aæ\\x98\\xa0ã\\x80\\x82ä¸ºé\\x9f³ä¹\\x90ï¼\\x8cè\\x8a\\x82ç\\x9b®ç®\\x80ä»\\x8bï¼\\x9aæ\\x9e\\x97å®¥å\\x98\\x89æ¼\\x94å\\x94±ä¼\\x9aé«\\x98æ¸\\x85å®\\x8cæ\\x95´ç\\x89\\x88ã\\x80\\x82ã\\x80\\x82\\nwww.iqiyi.com/w_19rrazvcc5.html\\nçª\\x81ç\\x84¶æ\\x83³èµ·ä½\\xa0å\\x90\\x89ä»\\x96è°±-æ\\x9e\\x97å®¥å\\x98\\x89å\\x90\\x89ä»\\x96è°±-å\\x90\\x89ä»\\x96è°±-å\\x90\\x89ä»\\x96æ\\x9b²è°±-http://www ...\\n2018-7-16\\u2002·\\u2002çª\\x81ç\\x84¶æ\\x83³èµ·ä½\\xa0å\\x90\\x89ä»\\x96è°±: æ\\xad\\x8cæ\\x89\\x8bæ\\x9e\\x97å®¥å\\x98\\x89, Guitar Proæ\\xa0¼å¼\\x8f, 1KBï¼\\x8cfineflyä¾\\x9bè°±ã\\x80\\x82\\nwww.jitapu.com/tabPages/2952/gtp20165910085926.htm\\næ\\x88\\x90å\\x85¨ç\\x9a\\x84MP3ä¸\\x8bè½½_æ\\x9e\\x97å®¥å\\x98\\x89-æ\\x88\\x90å\\x85¨MP3é\\x9f³ä¹\\x90å\\x9c¨çº¿è¯\\x95å\\x90¬_æ\\xad\\x8cæ\\x9b²å\\x85\\x8dè´¹ ...\\n2018-12-17\\u2002·\\u2002æ\\xad\\x8cæ\\x9b²æ\\x9e\\x97å®¥å\\x98\\x89-æ\\x88\\x90å\\x85¨ç\\x9a\\x84MP3ä¸\\x8bè½½å\\x9c°å\\x9d\\x80æ\\x9d¥æº\\x90äº\\x8eç½\\x91ç»\\x9cå\\x88\\x86äº«ï¼\\x8cå¤\\x8då\\x88¶é\\x93¾æ\\x8e¥æ\\x88\\x96è\\x80\\x85å\\x8f³é\\x94®é\\x93¾æ\\x8e¥å\\x8f¦å\\xad\\x98ä¸ºå\\x8d³å\\x8f¯ä¸\\x8bè½½MP3é\\x9f³ä¹\\x90ï¼\\x8cå\\x90\\x8cæ\\x97¶ç½\\x91ç«\\x99æ\\x8f\\x90ä¾\\x9bæ\\x9e\\x97å®¥å\\x98\\x89-æ\\x88\\x90å\\x85¨ç\\x9a\\x84QQç©ºé\\x97´è\\x83\\x8cæ\\x99¯é\\x9f³ä¹\\x90æ\\xad\\x8cæ\\x9b²é\\x93¾æ\\x8e¥ï¼\\x8cæ\\x8a\\x8aè¿\\x99é¦\\x96æ\\xad\\x8cæ\\x9b²ç\\x9a\\x84MP3 ...\\nwww.170mv.com/song/23517.html\\nçºªå\\x87\\x8cå°\\x98é\\x98\\x9aæ¸\\x85å\\xad\\x90è¦\\x81ç»\\x93å©\\x9aã\\x80\\x81æ\\x9e\\x97å®¥å\\x98\\x89ä¸\\x81æ\\x96\\x87ç\\x90ªåº\\x86ç¥\\x9dçºªå¿µæ\\x97¥â\\x80¦â\\x80¦ä¸ºä½\\x95ä»\\x96ä»¬ ...\\n2017-11-30\\u2002·\\u2002æ\\x9e\\x97å®¥å\\x98\\x89å¾®å\\x8d\\x9aä¸\\x8aâ\\x80\\x9cå¥¹è¯´å¥½â\\x80\\x9dè¿\\x99ä»¶äº\\x8bç«\\x9fç\\x84¶è¿\\x99ä¹\\x88å¿«å°±ä¸\\x80å\\x91¨å¹´ï¼\\x8cæ¸\\x85æ\\x99°ç\\x9a\\x84è®°å¾\\x97å\\x8e»å¹´é\\x82£å¤©ï¼\\x8cå¾®å\\x8d\\x9aä¸\\x8aæ\\x9d¥è\\x87ªäº\\x94æ¹\\x96å\\x9b\\x9bæµ·ç\\x9a\\x84äººä»¬ä¸ºå°\\x8få\\x93¥å\\x93¥å\\x8a\\xa0æ²¹å\\x91¢ï¼\\x81 ç\\x82¹å\\x87»å\\x9b¾ç\\x89\\x87è¿\\x9bå\\x85¥ä¸\\x8bç¯\\x87æ\\x96\\x87ç«\\xa0>>\\nbeauty.onlylady.com/2017/1130/3923035.shtml\\næ\\xad£å\\x9c¨å\\x8a\\xa0è½½...\\nå\\x8a\\xa0è½½æ\\x9b´å¤\\x9a\\nå\\x9fºæ\\x9c¬èµ\\x84æ\\x96\\x99\\nèº«é«\\x98ï¼\\x9a\\n171cm\\næ\\x98\\x9fåº§ï¼\\x9a\\nå·¨è\\x9f¹åº§\\nè\\x8b±æ\\x96\\x87å\\x90\\x8dï¼\\x9a\\nYoga Lin\\nä½\\x93é\\x87\\x8dï¼\\x9a\\n70kg\\nè¡\\x80å\\x9e\\x8bï¼\\x9a\\nAB\\nç»\\x8fçºªå\\x85¬å\\x8f¸ï¼\\x9a\\nå\\x8d\\x8eç\\xa0\\x94å\\x9b½é\\x99\\x85é\\x9f³ä¹\\x90ï¼\\x88å\\x85¨çº¦ï¼\\x89\\nå\\x9b½ç±\\x8dï¼\\x9a\\nä¸\\xadå\\x9b½\\nè\\x81\\x8cä¸\\x9aï¼\\x9a\\næ\\xad\\x8cæ\\x89\\x8bï¼\\x8cæ¼\\x94å\\x91\\x98\\næ\\x80§å\\x88«ï¼\\x9a\\nç\\x94·\\nå\\x87ºç\\x94\\x9få\\x9c°ï¼\\x9a\\nä¸\\xadå\\x9b½å\\x8f°æ¹¾å±\\x8fä¸\\x9c\\næ°\\x91æ\\x97\\x8fï¼\\x9a\\næ±\\x89æ\\x97\\x8f\\nå\\x87ºç\\x94\\x9fæ\\x97¥æ\\x9c\\x9fï¼\\x9a\\n1987å¹´7æ\\x9c\\x881æ\\x97¥ï¼\\x88å\\x86\\x9cå\\x8e\\x86å\\x85\\xadæ\\x9c\\x88å\\x88\\x9då\\x85\\xadï¼\\x89\\næ¯\\x95ä¸\\x9aé\\x99¢æ\\xa0¡ï¼\\x9a\\nå\\x9b½ç«\\x8bä¸\\x9cå\\x8d\\x8eå¤§å\\xad¦è¿\\x90å\\x8a¨ä¸\\x8eä¼\\x91é\\x97²å\\xad¦ç³»\\nå\\x88«å\\x90\\x8dï¼\\x9a\\nè¿·å¹»å®¥å\\x98\\x89ï¼\\x8cå\\x98\\x9få\\x98\\x9få\\x98´ï¼\\x8cå¤ªå\\xad\\x90å\\x8c\\nä¸»è¦\\x81æ\\x88\\x90å°±ï¼\\x9a\\n2008å¹´æ\\x96°å\\x9f\\x8eå\\x8a²ç\\x88\\x86æ\\x96°äººç\\x8e\\x8b\\nç\\x9b¸å\\x85³è¯\\x8dæ\\x9d¡\\nè\\x90§æ\\x95¬è\\x85¾\\næ\\xad\\x8cæ\\x89\\x8b\\næ\\x9d¨å®\\x97çº¬\\næ\\xad\\x8cæ\\x89\\x8b\\né\\x82\\x93ç´«æ£\\x8b\\næ\\xad\\x8cæ\\x89\\x8b\\nè¶\\x85çº§æ\\x98\\x9få\\x85\\x89å¤§é\\x81\\x93\\né\\x80\\x89ç§\\x80 ç»¼è\\x89º\\nç\\x94°é¦¥ç\\x94\\x84\\næ\\xad\\x8cæ\\x9b²\\né\\x83½ç¾\\x8eå\\x84¿\\næ\\x96\\x87å\\xad¦å½¢è±¡\\né\\x99\\x88å¥\\x95è¿\\næ\\xad\\x8cæ\\x89\\x8b æ¼\\x94å\\x91\\x98\\nè\\x90§ç\\x85\\x8cå¥\\x87\\næ\\xad\\x8cæ\\x89\\x8b\\nå\\x91¨æ\\x9d°ä¼¦\\næ¼\\x94å\\x91\\x98 å¯¼æ¼\\x94 æ\\xad\\x8cæ\\x89\\x8b\\næ\\x88\\x91æ\\x9c\\x80äº²ç\\x88±ç\\x9a\\x84\\né\\x9f³ä¹\\x90\\n© 2018 Microsoft\\né\\x9a\\x90ç§\\x81å£°æ\\x98\\x8eå\\x92\\x8c Cookie\\næ³\\x95å¾\\x8bå£°æ\\x98\\x8e\\nå¹¿å\\x91\\x8a\\nå¸®å\\x8a©\\nå\\x8f\\x8dé¦\\x88\\n//<![CDATA[ (function(n,t){onload=function(){_G.BPT=new Date;n&&n();!_w.sb_ppCPL&&t&&sb_st(function(){t(new Date)},0)}})(_w.onload,_w.si_PP);BM.trigger();var Identity = Identity || {}; (function(i) { i.wlImgSm =\"https://storage.live.com/users/0x{0}/myprofile/expressionprofile/profilephoto:UserTileStatic/p?ck=1\\\\u0026ex=720\\\\u0026fofoff=1\\\\u0026sid=1216445AD3D560EF221E4894D2FB6110\"; i.wlImgLg =\"https://storage.live.com/users/0x{0}/myprofile/expressionprofile/profilephoto:UserTileMedium/p?ck=1\\\\u0026ex=720\\\\u0026fofoff=1\\\\u0026sid=1216445AD3D560EF221E4894D2FB6110\";i.popupLoginUrls = {\"WindowsLiveId\":\"https://login.live.com/login.srf?wa=wsignin1.0\\\\u0026rpsnv=11\\\\u0026ct=1545566802\\\\u0026rver=6.0.5286.0\\\\u0026wp=MBI_SSL\\\\u0026wreply=https:%2F%2fwww.bing.com%2Fsecure%2FPassport.aspx%3Fpopup%3D1%26ssl%3D1\\\\u0026lc=2052\\\\u0026id=264960\"}; })(Identity);;var sch=sch||{};(function(){var t=_ge(\"id_h\"),n=_ge(\"id_sc\"),i=\"click\";sj_evt.bind(\"onP1\",function(){setTimeout(function(){t&&n&&(sj_jb(\"Blue/HamburgerServicesHeaderFlyout_c\",0,t,\"mouseover\",n,i,n,\"focus\"),sj_be(n,i,function(n){sch.clk=n}))},50)},1)})();var SearchBox;(function(n){function u(){t=_ge(\"b_header\");sj_be(_d.body,\"click\",i)}function i(n){var i=sj_et(n);i.id!=\"sb_form_q\"&&(t.className=t.className.replace(r,\"\"))}var r=/(^|\\\\s)b_focus(?!\\\\S)/gi,t;n.removeFocusClass=i;sj_evt.bind(\"onP1\",u)})(SearchBox||(SearchBox={}));sa_config={\"f\":\"sb_form\",\"i\":\"sb_form_q\",\"c\":\"sw_as\",\"u\":\"%2fAS%2fSuggestions%3fscope%3dbingknows%26pt%3dpage.bingknows%26bq%3d%25e6%259e%2597%25e5%25ae%25a5%25e5%2598%2589%26mkt%3dzh-cn%26qry%3d\",\"enabledDataSources\":[\"Web\"],\"fetchOnEmpty\":1,\"fetchOnDownArrowKey\":1,\"t\":1,\"handleDuplicateFetch\":1,\"d\":100};sa_loc= {\"Suggestions\":\"å»ºè®®\"};;sa_loader=function(){_w.rms.js({\\'rms:answers:AutoSuggest:AutoSug\\':\\'\\\\/rb\\\\/G\\\\/cj,nj\\\\/9af8fb92\\\\/8584ad26.js?bu=GaoBhQWIBYsFKioqKiqOBf0DKioqywPaA90D8wMqKvYDKioq4AM\\',d:1});};;var sa_eL=!1;(function(){function e(n,t,i){n&&sj_ue(n,t,e);sa_eL=sa_eL||i;f||(f=!0,sj_evt.fire(\"AS.bootload\",n),sa_loader())}function r(n,t,i){sj_be(n,t,function(r){e(n,t,i,sj_ev(r))})}var t=sa_config,n=_ge(t.i),i,u,f;if(n.setAttribute(\"autocomplete\",\"off\"),i=_ge(t.c),!i){if(u=_ge(\"sa_qs\")||n,!u)throw new Error(\"AS init failed\");i=sj_ce(\"div\");i.id=t.c;u.parentNode.appendChild(i);n.setAttribute(\"aria-controls\",t.c)}f=!1;_w.sa_loader&&(\"ontouchend\"in _w&&r(n,\"touchend\",!0),r(n,\"click\",!0),r(n,\"keydown\",!0),t.ol&&r(_w,\"load\",!1))})();sa_CTBConfig={\"TRGT\":\"æ\\xad¤ç½\\x91ç«\\x99ç\\x9a\\x84æ\\x93\\x8dä½\\x9c\",\"CU\":\"http://cncc.bingj.com/cache.aspx?q=%e6%9e%97%e5%ae%a5%e5%98%89\\\\u0026d={0}\\\\u0026mkt=zh-CN\\\\u0026setlang=zh-CN\\\\u0026w={1}\",\"CT\":\"å·²ç¼\\x93å\\xad\\x98\",\"NW\":\"1\"};sj_evt.bind(\"ajax.feedback.initialized\", function(args) { args[1].debugCollector.setContextValue(\"FederationDebugInfo\", \"QueryID : 9d812a6a9adc4861ad90a7ec6b0ddb67\"); });;var fbpkgiid = fbpkgiid || {}; fbpkgiid.page = \\'SERP.5740\\';;var Feedback;(function(n){var t;(function(){\"use strict\";function u(t,i){var u=t.getAttribute(\"id\"),f;u||(u=\"genId\"+n.length,t.setAttribute(\"id\",u));f=new r(u,i,t.getAttribute(i));n.push(f)}function i(n,t,i){i===null?n.removeAttribute(t):n.setAttribute(t,i)}function t(n,t,r,f){for(var e,s=_d.querySelectorAll(r),o=0;o<s.length;o++)(e=s[o],f&&e.id&&f[e.id])||(u(e,n),i(e,n,t))}function f(n){for(var u=_d.querySelectorAll(n),e=1,f={},t,i,r=0;r<u.length;++r){if(t=u[r],!t.id){for(;;)if(i=\"fbpgdgelem\"+e++,!_ge(i))break;t.id=i}f[t.id]=t}return f}function e(){var i=\"tabindex\",r=\"-1\",n=f(\"#fbpgdg, #fbpgdg *\");t(i,r,\"div\",n);t(i,r,\"svg\",n);t(i,r,\"a\",n);t(i,r,\"li\",n);t(i,r,\"input\",n);t(i,r,\"select\",n);t(\"aria-hidden\",\"true\",\"body :not(script):not(style)\",n)}function o(){for(var r,t=0;t<n.length;t++)r=_d.getElementById(n[t].id),r&&i(r,n[t].attributeName,n[t].originalAttributeValue);n.length=0}function s(){typeof sj_evt!=\"undefined\"&&(sj_evt.bind(\"onFeedbackStarting\",function(){e()}),sj_evt.bind(\"onFeedbackClosing\",function(){o()}))}var n=[],r=function(){function n(n,t,i){this.id=n;this.attributeName=t;this.originalAttributeValue=i}return n}();s()})(t=n.Accessibility||(n.Accessibility={}))})(Feedback||(Feedback={}));var Feedback;(function(n){var t;(function(){function r(i,r,u,f,e,o){i=typeof i===t?!1:i;i&&scrollTo(0,0);u=typeof u===t?!0:u;n.PackageLoad.Load(r,u,f,e,o)}function e(n,t){for(var r=0,i=null;n&&n.getAttribute&&(!(t>=1)||r<t);){if(i=n.getAttribute(\"data-fbhlsel\"),i!=null)break;r++;n=n.parentNode}return i}var u=\"feedbackformrequested\",i,f=\"\",o=\"feedback-binded\",s=\"clicked\",t=\"undefined\",h;n.Bootstrap.InitializeFeedback=function(c,l,a,v,y,p,w,b){function g(t){var r=null,i;return t&&(i=new h,n.fel(\"ajax.feedback.collectsettings\",\"gsf\",i),r=i.findSettings(t)),r}var k=_ge(l),d;k&&k.classList&&k.classList.contains(o)||(y=typeof y===t?!1:y,d=e(k,3),f!==\"sb_feedback\"&&(f=l,typeof sj_evt!==t&&(i&&sj_evt.unbind(u,i),i=function(n){var u=null,t=null,f=null,o,i,s;n&&n.length>1&&(i=n[1],i.tagName!==undefined&&i.nodeType!==undefined?(u=i,t=g(u)):t=i,o=t&&t.elementToHighlight||u,f=e(o));s=t&&t.linkId||l;r(v,c,a,s,f,t)},sj_evt.bind(u,i,1)),typeof SearchAppWrapper!==t&&SearchAppWrapper.CortanaApp&&SearchAppWrapper.CortanaApp.addEventListener&&SearchAppWrapper.CortanaApp.addEventListener(u,function(n){(typeof n!==t&&n!==null&&(n.isHandled=!0),l===f)&&_ge(\"fbpgdg\")===null&&r(v,c,a,l)})),k!==null?(sj_be(k,\"click\",function(n){var i=null,t=null,u=null,f;if(y&&k.classList){if(k.classList.contains(s))return!1;k.classList.add(s)}sj_pd(n);sj_sp(n);i=sj_et(n);t=g(i);f=t&&t.elementToHighlight||i;u=e(f);r(v,c,a,l,u||d,t||b)}),k.classList&&k.classList.add(o)):(w=typeof w===t?!1:w,w&&r(v,c,a,l,d)))};n.le=function(n,t){SharedLogHelper&&SharedLogHelper.LogError&&SharedLogHelper.LogError(\"Feedback: \"+n,null,t)};n.leh=function(t,i,r){n.le(\"Feedback: \"+t+\" handler failed in \"+i,r)};n.fel=function(t,i){for(var u=[],r=2;r<arguments.length;r++)u[r-2]=arguments[r];try{u.unshift(t);sj_evt.fire.apply(null,u)}catch(f){n.leh(t,i,f);throw f;}};h=function(){function n(){this.settingsList=[]}return n.prototype.setStartSettings=function(n,t){n&&t&&this.settingsList.push({c:n,s:t})},n.prototype.findSettings=function(n){var t=null;return this.settingsList.forEach(function(i){sj_we(n,i.c)&&(t=i.s)}),t},n}()})(t=n.Bootstrap||(n.Bootstrap={}))})(Feedback||(Feedback={})),function(n){var t;(function(t){\"use strict\";function f(f,e,o,s){var k=_G.IG,d=typeof _G.V===i?_G.P:_G.V,h,y,c,a,w,v;n.fel(\"onFeedbackStarting\",\"lp\");t.staticConfig={linkId:e,activeElement:_d.activeElement};var l=\"?ig=\"+k+\"&p=\"+d,b=n.RouteProvider.Provide(f),p=encodeURIComponent;if(s){if(s.formConfig&&(b=f===\"page\"?\"sdk/form\":f,l+=\"&formconfig=\"+s.formConfig),s.service&&(t.staticConfig.service=s.service),s.scenario&&(t.staticConfig.scenario=s.scenario),c=s.context,c)for(a in c)c.hasOwnProperty(a)&&(l+=\"&\"+p(a)+\"=\"+p(c[a]));s.pos&&(t.staticConfig.pos=s.pos,l+=\"&pos=1\")}for(h=\"/feedback/\"+b+l,typeof fbsrc!==i&&(h+=\"&src=\"+p(fbsrc)),typeof fbpkgiid!==i&&fbpkgiid[f]&&(h+=\"&iid=\"+fbpkgiid[f]),w=[/[?&]testhooks=[^?&#]*/i,/[?&]uncrunched=[^?&#]*/i,/[?&]logjserror=[^?&#]*/i,/[?&]addloginsource=[^?&#]*/i,/[?&]hoseassistant=[^?&#]*/i,/[?&]hose=[^?&#]*/i,/[?&]theme=[^?&#]*/i,/[?&]client=[^?&#]*/i,/[?&]setvar=[^?&#]*/i],v=0;v<w.length;v++)(y=location.href.match(w[v]))&&y[0]&&(h+=\"&\"+y[0].substring(1));sj_ajax(h,{callback:function(t,i){if(t&&i){r&&r.removeAttribute(\"clicked\");var u=s&&_ge(s.feedbackContainerId);i.appendTo(u||_d.body);n.fel(\"onFeedbackShow\",\"lp\");n.fel(\"clarity.trigger\",\"lp\",\"BingFeedback\");n.Highlight&&o&&n.Highlight.HighlightElements(o)}}});u[f]=!0}var u={},i=\"undefined\",r;t.staticConfig={};n.PackageLoad.GetHTML=function(){return _d.documentElement.outerHTML};n.PackageLoad.Load=function(n,t,e,o,s){var h,c;t=typeof t===i?!0:t;e=typeof e===i?\"\":e;c=typeof s!=i&&s&&s.feedbackContainerId;r=_ge(e);for(h in n)n.hasOwnProperty(h)&&(!t||c||typeof u[h]===i)&&f(h,e,o,s)}})(t=n.PackageLoad||(n.PackageLoad={}))}(Feedback||(Feedback={})),function(n){var t;(function(){\"use strict\";n.RouteProvider.Provide=function(n){return n===\"page\"?\"sdk/form\":n}})(t=n.RouteProvider||(n.RouteProvider={}))}(Feedback||(Feedback={}));(function(n,t,i,r,u,f,e,o){if(typeof RMS_IACL==\"undefined\"){RMS_IACL={};var s,h,c=\"data-src\",w=\"data-dpr\",l=\"getAttribute\",g=/^(\\\\/th\\\\?(?:id\\\\=|.*&id\\\\=))([^&]*)(.*)$/i,nt=/(&|\\\\?)bw=/i,a=3,y=20;function b(t){var r,i;t&&(r=t[l](c),r&&(t.removeAttribute(c),i=n(\"img\"),i.onload=function(n){h--;i.onload=null;var r=t.parentNode;r&&(p(t,i),t.parentNode.replaceChild(i,t));v(n,i,r,null)},i.onerror=function(n){h--;v(n,i,!1,t)},i.src=r))}function tt(t,i,r){for(var u,s,e=[],f=t[i],o=i;o<r;o++)e.push(t[o].tid);u=n(\"img\");u.onload=function(n){var y,e,d,c,b;h-=r-i;u.onload=null;p(f,u);var g=f[l](\"data-width\"),nt=f[l](w),s=nt?parseFloat(nt):1;for(y=i;y<r;y++){e=t[y];d=e.style;d.position=\"relative\";d.overflow=\"hidden\";p(e,e);c=u.cloneNode();b=\"\";e.hasAttribute(\"title\")?(b=e.attributes.title.value,c.setAttribute(\"title\",e.attributes.title.value)):e.hasAttribute(\"alt\")&&(b=e.attributes.alt.value);c.setAttribute(\"alt\",b);c.removeAttribute(\"width\");c.removeAttribute(\"height\");var o=c.style,k=y-i,tt=sb_ie?1:s;o.left=(-g*k-a*(k+1)/s)*tt+\"px\";o.top=-a/s*tt+\"px\";s!=1&&(o.hasOwnProperty(\"zoom\")?o.zoom=100/s+\"%\":(o.left=-g*k-a*(k+1)/s+\"px\",o.top=-a/s+\"px\",o.transformOrigin=\"left top\",o.transform=\"scale(\"+1/s+\")\"));o.position=\"relative\";e.appendChild(c)}v(n,f,!0,null)};u.onerror=function(n){h-=r-i;v(n,f,!1,null)};s=f[l](c).replace(e[0],e.join(\":\"))+\"&bw=\"+a+\"&bc=ffffff\";u.src=s.replace(/&p=0/,\"\")}function it(n){var r,t,i;if(n){if(n.length==1)b(n[0]);else if(n.length>1)for(r=n.length,t=0;r>0;)i=t+y,i>n.length&&(i=n.length),tt(n,t,i),r-=y,t+=y}else return}function k(n){var w=d(n),r,a,f,v,o,u,p,i,y;if(s=rt(),s){for(h=s.length,h>0&&t.fire(e,{timeStamp:w,images:s}),r={},a=[],i=0;i<s.length;i++)f=s[i],v=f[l](c),v&&(o=null,u=g.exec(v),u&&u.length&&!nt.test(v)&&(o=u[1]+u[3],f.tid=u[2])),o&&(p=r[o]=r[o]||[]).length<30?p.push(f):a.push(f);for(i=0;i<a.length;i++)b(a[i]);for(y in r)r.hasOwnProperty(y)&&it(r[y])}}function rt(){var t=\"rms_iac\",n;if(i.getElementsByClassName)return i.getElementsByClassName(t);if(i.querySelectorAll)return i.querySelectorAll(\".\"+t);var u=[],r=i.getElementsByTagName(\"div\"),f=new RegExp(\"(^|\\\\\\\\s)\"+t+\"(\\\\\\\\s|$)\");for(n=0;n<r.length;n++)f.test(r[n].className)&&u.push(r[n]);return u}function p(n,t){for(var r,i,u=0;u<n.attributes.length;u++)r=n.attributes[u],i=r.name,i.lastIndexOf(\"data-\",0)==0&&i!=c&&i!=w&&t.setAttribute(i.substring(5),r.value)}function d(n){var t=new Date;return n&&n.timeStamp>0&&n.timeStamp<=t?n.timeStamp:t}function v(n,i,r,u){var e=d(n);t.fire(f,{timeStamp:e,image:i,state:r?\"success\":\"failed\",placeholderElement:u});h==0&&t.fire(o,{timeStamp:e,images:s})}t.bind(r,k,1);t.bind(u,k,1)}})(sj_ce,sj_evt,_d,\"onPP\",\"RMS.LoadImg\",\"RMS.ImgAOLLoaded\",\"RMS.ImgAOLInit\",\"RMS.ImgAOLCompleted\");_w.rms.js({\\'A:rms:answers:Identity:BlueIdentityDropdownBootStrap\\':\\'\\\\/rs\\\\/2Y\\\\/1I\\\\/cj,nj\\\\/5983aa50\\\\/f8c6dd44.js\\'},{\\'A:rms:answers:Identity:BlueIdentityHeader\\':\\'\\\\/rs\\\\/2Y\\\\/1Y\\\\/cj,nj\\\\/4c7364c5\\\\/40e1b425.js\\'},{\\'A:0\\':0},{\\'A:rms:answers:Identity:SnrWindowsLiveConnectBootstrap\\':\\'\\\\/rs\\\\/2Y\\\\/2g\\\\/cj,nj\\\\/bf587ad6\\\\/f1d86b5a.js\\'},{\\'A:rms:answers:OrgId:SsoFrame\\':\\'\\\\/rs\\\\/4a\\\\/s\\\\/cj,nj\\\\/64cc4a49\\\\/e70a8ff8.js\\'},{\\'A:1\\':1},{\\'A:rms:answers:WebResult:WebResultToolbox\\':\\'\\\\/rs\\\\/6o\\\\/4R\\\\/cj,nj\\\\/57324345\\\\/ae00a169.js\\'},{\\'A:2\\':2});; //]]>\\n//<![CDATA[ var wlc=function(n,t,i){var u,f,r;n&&Identity&&(u=Identity.popupLoginUrls)&&(f=u.WindowsLiveId)&&Identity.wlProfile&&(r=_d.createElement(\"iframe\"),r.style.display=\"none\",r.src=f+\"&checkda=1\",r.setAttribute(\"data-priority\",\"2\"),_d.body.appendChild(r),i&&t&&t(\"SRCHHPGUSR\",\"WTS\",i,1,\"/\"))}; //]]>//<![CDATA[ (function() { var config ={\"url\":\"https%3a%2f%2flogin.microsoftonline.com%2fcommon%2foauth2%2fauthorize%3fclient_id%3d9ea1ad79-fdb6-4f9a-8bc3-2b70f96e34c7%26response_type%3did_token%26nonce%3dc1ced095-57f1-48c4-8622-4a2a848a8e6f%26redirect_uri%3dhttps%253a%252f%252fwww.bing.com%252forgid%252fidtoken%252fnosignin%26scope%3dopenid%26response_mode%3dform_post%26msafed%3d0%26prompt%3dnone\",\"sandbox\":\"allow-forms allow-pointer-lock allow-popups allow-same-origin allow-scripts\",\"currentEpoch\":\"1545566801000\"}; sj_evt.fire(\\'ssoFrameExists\\', config); })();;(function(){function n(){var n=_ge(\"id_p\"),t,i;n&&(t=\"\",i=\"\",n.dataset?(t=n.dataset.src,i=n.dataset.alt):(t=n.getAttribute(\"data-src\"),i=n.getAttribute(\"data-alt\")),t&&t!=\"\"&&(n.onerror=function(){n.onerror=null;n.src=\"\";n.alt=\"\"},n.onload=function(){n.alt=i},n.src=t))}n()})();$(document).ready(function(){if($(function(){$(_w).scroll(function(){var n=$(\"#bk_backTop\"),t=$(\"#bk_sidebar_bottom\").offset();$(_w).scrollTop()>100&&$(_w).scrollTop()+$(_w).height()>t.top+200?n.fadeIn():n.fadeOut()});$(\"#bk_backTop a\").click(function(){return $(\"body,html\").animate({scrollTop:0},500),!1});$(\"a[href^=\\'#questionSeqNum\\']\").click(function(){var n=$(this).attr(\"href\"),t;return n=n.substr(1,n.length-1),t=$(\"a[id=\\'\"+n+\"\\']\").offset(),$(\"body,html\").animate({scrollTop:t.top},500),!1});$(\"#bk_card_expand a\").click(function(){$(\"#bk_card_desc_seg2\").removeClass(\"bk_hide\");$(\"#bk_card_expand\").hide()});$(function(){var t=$(\".bk_qna_weiboifrm\"),n=function(){var n=$(_w).height(),i=$(_w).scrollTop();t.each(function(){var t,r,u;$(this).html()==\"\"&&(t=$(this).offset().top-i,t>=-450&&t<n+200&&(r=$(this).attr(\"datasrc\"),u=\\'<iframe width=\"100%\" height=\"250\" frameborder=\"0\" scrolling=\"no\" src=\"\\'+r+\\'\"><\\\\/iframe>\\',$(this).html(u)))})};n();$(_w).bind(\"scroll\",n)})}),setInterval(function(){$(\"#bk_banner\").toggleClass(\"bk_banner_hover\")},5e3),$(\".bk_pol\").size()==1){var n=$(\".bk_pol_list\").height(),t=$(\".bk_pol_list li\").size(),i=Math.ceil(t/3)*37;$(\"#bk_pol_unfold\").click(function(){$(\".bk_pol_list\").css(\"height\",\"auto\");$(\"#bk_pol_unfold\").hide();$(\"#bk_pol_fold\").show()});$(\"#bk_pol_fold\").click(function(){$(\".bk_pol_list\").animate({height:n+\"px\"});$(\"#bk_pol_fold\").hide();$(\"#bk_pol_unfold\").show()});$(\"#bk_up_polysemy\").click(function(){$(\".bk_pol_list\").animate({height:0});$(\"#bk_up_polysemy\").hide();$(\"#bk_down_polysemy\").show()});$(\"#bk_down_polysemy\").click(function(){$(\".bk_pol_list\").css(\"height\",\"auto\");$(\"#bk_down_polysemy\").hide();$(\"#bk_up_polysemy\").show()})}}); //]]>//<![CDATA[ $(document).ready(function(){$(\"#bk_wr_loadmore\").click(function(){var n=$(this),i=$(\"#bk_wr_loading\"),t=parseInt(n.attr(\"data-start\")),u=$(this).attr(\"data-q\"),f=$(this).attr(\"data-est\"),r=5;n.hide();i.show();$.get(\"/bkapi/web\",{q:u,start:t,count:r,IG:_G.IG,iid:_G.P+\".\"+t,est:f,mkt:\"zh-cn\"},function(u){$(u).appendTo($(\"#bk_wr_container\"));n.attr(\"data-start\",t+r);i.hide();n.show()})})});0;var sj_appHTML=function(n,t){var u,f,e,i,r,s,h;if(t&&n){var c=\"innerHTML\",l=\"script\",a=\"appendChild\",v=\"length\",y=\"src\",p=sj_ce,o=p(\"div\");if(o[c]=\"<br>\"+t,u=o.childNodes,o.removeChild(u[0]),f=o.getElementsByTagName(l),f)for(e=0;e<f[v];e++)i=p(l),r=f[e],r&&(i.type=\"text/javascript\",s=r.getAttribute(y),s?i.setAttribute(y,s):(i.text=r[c],i.setAttribute(\"data-bing-script\",\"1\")),r.parentNode.replaceChild(i,r));for(h=_d.createDocumentFragment();u[v];)h[a](u[0]);n[a](h)}};var sj_ajax=function(n,t){function s(){i[f]=h;i.abort&&i.abort()}function u(n,t){typeof n==\"function\"&&n(t,{request:i,appendTo:function(n){i&&sj_appHTML(n,i.responseText)}})}var r,i=sj_gx(),f=\"onreadystatechange\",e,o=null,c=sb_st,l=sb_ct,h=function(){};if(!n||!i){u(r,!1);return}t&&(r=t.callback,e=t.timeout);i.open(\"get\",n,!0);i[f]=function(){if(i.readyState===4){var n=!1;o!==null&&l(o);i.status===200&&(n=!0,i[f]=h);u(r,n)}};sj_evt.bind(\"ajax.unload\",s);i.send();e>0&&(o=c(function(){s();u(r,!1)},e))};Feedback.Bootstrap.InitializeFeedback({page:true},\"sb_feedback\",1,0,0);; //]]>\\n//<![CDATA[ _G.HT=new Date; //]]>'"
      ]
     },
     "execution_count": 7,
     "metadata": {},
     "output_type": "execute_result"
    }
   ],
   "source": [
    "doc.text()"
   ]
  },
  {
   "cell_type": "code",
   "execution_count": 8,
   "metadata": {
    "collapsed": true
   },
   "outputs": [],
   "source": [
    "dirty = doc.text()"
   ]
  },
  {
   "cell_type": "code",
   "execution_count": 9,
   "metadata": {
    "collapsed": true
   },
   "outputs": [],
   "source": [
    "import re"
   ]
  },
  {
   "cell_type": "code",
   "execution_count": 10,
   "metadata": {
    "collapsed": true
   },
   "outputs": [],
   "source": [
    "clean = re.sub('[a-zA-z0-9\\(\\)\\{\\,\\}\\!\\?\\@\\%\\$\\|\\+\\\\\\*\\'\\.\\:\\=\\\"\\&\\;\\/\\-\\~\\#]+','',dirty)"
   ]
  },
  {
   "cell_type": "code",
   "execution_count": 11,
   "metadata": {
    "collapsed": false
   },
   "outputs": [
    {
     "data": {
      "text/plain": [
       "'<   >\\næ\\x9e\\x97å®¥å\\x98\\x89   ç½\\x91å\\x85¸\\n<             >\\n             > >>>>>>>    > > >> > >> > > >   >> >                                >                                      >    >                                                         >> >   > >                              >>>          >>   >  >  > >  >>   >       >                                                           >>           >>>    > >  >             >> > > >      > >>>>      >          >>  >>                    >                >  >>>>>>>>                                                               >                                                               >            >  >>  >> >> >        >    >   > >      >  >>                      >                           > > > >  > >  > >  > >            >  >  >  >  >  >  >  >                                                                                       >  >>> >  > >         >> >                                     >   >>      >>>                         >                                                                                                                                       >>                                                                 å¾®è½¯é\\x9b\\x85é»\\x91é»\\x91ä½\\x93           å¾®è½¯é\\x9b\\x85é»\\x91é»\\x91ä½\\x93           å¾®è½¯é\\x9b\\x85é»\\x91é»\\x91ä½\\x93  å¾®è½¯é\\x9b\\x85é»\\x91é»\\x91ä½\\x93                                                                                                                            >   >  >  >         \\n<     <>     >    >      <><><><><><><><><><><><><><><><><>                                <  ><                    <        <    ><<  <  < <            ><              <     <  <><><><><><><><><><><><><><><><><>             <     >   >             <<       >>>  <> >     >  >                                   ><              <  ><                é»\\x98è®¤ä¸ªäººèµ\\x84æ\\x96\\x99å\\x9b¾ç\\x89\\x87              <<<<   >  >  >\\næ\\x89\\x93å¼\\x80å¿\\x85åº\\x94ä¸»é¡µ\\nç\\x99»å½\\x95\\nç½\\x91é¡µ\\nå\\x9b¾ç\\x89\\x87\\nè§\\x86é¢\\x91\\nå\\xad¦æ\\x9c¯\\nè¯\\x8då\\x85¸\\nå\\x9c°å\\x9b¾\\n<                     ><   ><   >\\næ\\x9e\\x97å®¥å\\x98\\x89\\näººç\\x89©\\næ\\x9e\\x97å®¥å\\x98\\x89ï¼\\x88å¹´æ\\x9c\\x88æ\\x97¥ï¼\\x8dï¼\\x89æ\\x98¯å\\x8f°æ¹¾è\\x91\\x97å\\x90\\x8då\\x8d\\x8eè¯\\xadæµ\\x81è¡\\x8cé\\x9f³ä¹\\x90ç\\x94·æ\\xad\\x8cæ\\x89\\x8bï¼\\x8cå\\x8f°æ¹¾å±\\x8fä¸\\x9cå\\x8e¿æ½®å·\\x9eé\\x95\\x87äººï¼\\x8cå¹´æ\\x9c\\x88æ\\x97¥ä»¥å²\\x81å¤§å\\xad¦ç\\x94\\x9fç\\x9a\\x84èº«ä»½ï¼\\x8cå\\x8b\\x87å¤ºå\\x8f°æ¹¾ä¸\\xadè§\\x86ä¸»å\\x8a\\x9eç\\x9a\\x84æ\\xad\\x8cå\\x94±é\\x80\\x89ç§\\x80è\\x8a\\x82ç\\x9b®ç¬¬ä¸\\x80å±\\x8aã\\x80\\x8aè¶\\x85çº§æ\\x98\\x9få\\x85\\x89å¤§é\\x81\\x93ã\\x80\\x8bç\\x9a\\x84â\\x80\\x9cå\\x86\\xa0å\\x86\\x9bâ\\x80\\x9dï¼\\x8cå¹¶è\\x8e·å\\x8d\\x8eç\\xa0\\x94å\\x9b½é\\x99\\x85é\\x9f³ä¹\\x90ç\\xad¾çº¦æ\\x88\\x90ä¸ºä¸\\x93å±\\x9eæ\\xad\\x8cæ\\x89\\x8bã\\x80\\x82æ\\x9e\\x97å®¥å\\x98\\x89æ\\x8b¥æ\\x9c\\x89ç\\x8b¬ç\\x89¹ç\\x9a\\x84å£°çº¿å\\x92\\x8cæ\\x9e\\x81ä½³ç\\x9a\\x84å\\x94±å\\x8a\\x9fï¼\\x8cæ\\x80»è\\x83½å°\\x86æ\\xad\\x8cæ\\x9b²è¯\\xa0é\\x87\\x8aç\\x9a\\x84å¦\\x82æ¢¦ä¼¼å¹»ï¼\\x8cå\\x9b\\xa0æ\\xad¤äººç§°â\\x80\\x9cè¿·å¹»å\\x94±è\\x85\\x94â\\x80\\x9dï¼\\x8câ\\x80\\x9cè¿·å¹»ç\\x8e\\x8bå\\xad\\x90â\\x80\\x9dã\\x80\\x82å\\x87ºé\\x81\\x93è\\x87³ä»\\x8aå\\x9c¨å\\x8f°æ¹¾ã\\x80\\x81ä¸\\xadå\\x9b½å¤§é\\x99\\x86å\\x90\\x84å¤§å\\x9f\\x8eå¸\\x82ã\\x80\\x81é¦\\x99æ¸¯ã\\x80\\x81æ¾³é\\x97¨ã\\x80\\x81æ\\x96°é©¬å\\x92\\x8cè\\x8b±å\\x9b½ä¼¦æ\\x95¦ç\\xad\\x89å\\x9c°ä¸¾è¡\\x8cä¸ªäººæ\\xad£å¼\\x8fæ¼\\x94å\\x94±ä¼\\x9aå\\x8f\\x8aé\\x9f³ä¹\\x90ä¼\\x9aä¸\\x89å\\x8d\\x81ä½\\x99å\\x9cºï¼\\x8cè\\x8e·å¾\\x97é\\x9f³ä¹\\x90å\\x9c\\x88å\\x92\\x8cä¼\\xa0åª\\x92ç\\x9a\\x84é«\\x98åº¦è¯\\x84ä»·ï¼\\x8cæ\\x9e\\x97å®¥å\\x98\\x89ä¸ªäººå\\x8f\\x8aå\\x85¶ä¸\\x93è¾\\x91ã\\x80\\x81æ\\xad\\x8cæ\\x9b²å¹¶è\\x8e·å¾\\x97å\\x8d\\x8eè¯\\xadä¹\\x90å\\x9d\\x9bä¹\\x9då\\x8d\\x81ä½\\x99å¥\\x96é¡¹ï¼\\x8cæ\\x98¯å\\x8d\\x8eè¯\\xadä¹\\x90å\\x9d\\x9bæ·±å\\x8f\\x97ç\\x9e©ç\\x9b®ç\\x9a\\x84æ\\x96°ç\\x94\\x9f  å±\\x95å¼\\x80ä»£æ\\xad\\x8cæ\\x89\\x8bä¹\\x8bä¸\\x80ã\\x80\\x82æ¼\\x94å\\x94±æ\\xad\\x8cæ\\x9b²æ\\x9c\\x89ã\\x80\\x8aä½\\xa0æ\\x8a\\x8aæ\\x88\\x91ç\\x81\\x8cé\\x86\\x89ã\\x80\\x8bã\\x80\\x81ã\\x80\\x8aæ\\x82¬å´\\x96ã\\x80\\x8bã\\x80\\x81ã\\x80\\x8aæ\\x88\\x91ç\\x88±ç\\x9a\\x84äººã\\x80\\x8bå\\x92\\x8cã\\x80\\x8aä½\\xa0æ\\x98¯æ\\x88\\x91ç\\x9a\\x84ç\\x9c¼ã\\x80\\x8bç\\xad\\x89ã\\x80\\x82ä»£è¡¨ä½\\x9cå\\x8c\\x85æ\\x8b¬ã\\x80\\x8aè¯´è°\\x8eã\\x80\\x8bã\\x80\\x81ã\\x80\\x8aä¼¯ä¹\\x90ã\\x80\\x8bã\\x80\\x81ã\\x80\\x8aæ\\x88\\x91æ\\x80»æ\\x98¯ä¸\\x80ä¸ªäººå\\x9c¨ç»\\x83ä¹\\xa0ä¸\\x80ä¸ªäººã\\x80\\x8bã\\x80\\x81ã\\x80\\x8aè¯±ã\\x80\\x8bç\\xad\\x89ã\\x80\\x82 äº\\x8eå¹´æ\\x9c\\x88å\\x8f\\x91è¡\\x8cç¬¬ä¸\\x80å¼\\xa0ä¸ªäººä¸\\x93è¾\\x91ã\\x80\\x8aç¥\\x9eç§\\x98å\\x98\\x89å®¾ã\\x80\\x8bï¼\\x8cå¹´æ\\x9c\\x88å\\x8f\\x91è¡\\x8cã\\x80\\x8aæ\\x84\\x9få®\\x98ä¸\\x96ç\\x95\\x8cã\\x80\\x8bï¼\\x8cå¹´æ\\x9c\\x88å\\x8f\\x91è¡\\x8cã\\x80\\x8aç¾\\x8eå¦\\x99ç\\x94\\x9fæ´»ã\\x80\\x8bï¼\\x8cå¹´æ\\x9c\\x88æ\\x97¥è\\x8e·ç¬¬å\\x8d\\x81å±\\x8aé\\x9f³ä¹\\x90ç\\x9b\\x9bå\\x85¸æ¸¯æ¾³å\\x8f°å\\x9c°å\\x8cºå¹´åº¦æ\\x9c\\x80å\\x8f\\x97æ¬¢è¿\\x8eæ½\\x9cå\\x8a\\x9bæ\\xad\\x8cæ\\x89\\x8bå¥\\x96ã\\x80\\x82å¹´æ\\x9c\\x88å\\x8f\\x91è¡\\x8cã\\x80\\x8aå¤§å°\\x8fè¯´å®¶ã\\x80\\x8bï¼\\x8cå¹´æ\\x9c\\x88å\\x8f\\x91è¡\\x8cé\\x9f³ä¹\\x90ä¼\\x9aä¸\\x93è¾\\x91ã\\x80\\x8aã\\x80\\x8bã\\x80\\x82å¹´æ\\x9c\\x88è¢«æ\\x9b\\x9dä¸\\x8eé\\x82\\x93ç´«æ£\\x8bç\\x9b¸æ\\x81\\x8bï¼\\x8cå¹´æ\\x9c\\x88äº\\x8cäººå\\x88\\x86æ\\x89\\x8bã\\x80\\x82å¹´æ\\x9c\\x88æ\\x97¥å\\x8f\\x91è¡\\x8cã\\x80\\x8aå\\x8f£ç\\x9a\\x84å½¢ç\\x8a¶ã\\x80\\x8bã\\x80\\x82\\næ\\x9b´å¤\\x9aèµ\\x84æ\\x96\\x99ï¼\\x9aç\\x99¾åº¦ç\\x99¾ç§\\x91·ç»´å\\x9fºç\\x99¾ç§\\x91·æ\\x90\\x9cç\\x8b\\x97ç\\x99¾ç§\\x91·ç\\x99¾ç§\\x91·äº\\x92å\\x8a¨ç\\x99¾ç§\\x91\\nå\\x85³äº\\x8eæ\\x9e\\x97å®¥å\\x98\\x89ï¼\\x8cç½\\x91å\\x8f\\x8bä»¬æ\\x9c\\x80å\\x85³å¿\\x83ç\\x9a\\x84é\\x97®é¢\\x98\\n\\n\\næ\\x9e\\x97å®¥å\\x98\\x89ç\\x9a\\x84ç\\x83\\xadç\\x82¹\\n\\n\\næ\\x9e\\x97å®¥å\\x98\\x89æ¼\\x94å\\x94±ä¼\\x9a\\n\\n\\næ\\x9e\\x97å®¥å\\x98\\x89é\\x82\\x93ç´«æ£\\x8bæ\\x8e¥å\\x90»\\n\\n\\næ\\x9e\\x97å®¥å\\x98\\x89 è¯´è°\\x8e\\n\\n\\næ\\x9e\\x97å®¥å\\x98\\x89å¥½å\\x90¬ç\\x9a\\x84æ\\xad\\x8c\\n\\n\\næ\\x9e\\x97å®¥å\\x98\\x89 ä½\\xa0æ\\x98¯æ\\x88\\x91ç\\x9a\\x84ç\\x9c¼\\n\\n\\nçª\\x81ç\\x84¶æ\\x83³èµ·ä½\\xa0 æ\\x9e\\x97å®¥å\\x98\\x89\\n\\n\\næ\\x9e\\x97å®¥å\\x98\\x89é\\x82\\x93ç´«æ£\\x8b\\n\\n\\næ\\x9e\\x97å®¥å\\x98\\x89 å¤§å°\\x8fè¯´å®¶\\n\\n\\næ\\x88\\x91ç\\x88±ç\\x9a\\x84äººæ\\x9e\\x97å®¥å\\x98\\x89\\n\\n\\næ\\x9e\\x97å®¥å\\x98\\x89æ¼\\x94å\\x94±ä¼\\x9a æ\\x97¶é\\x95¿\\n\\n\\næ\\x9e\\x97å®¥å\\x98\\x89 æ®\\x8bé\\x85·æ\\x9c\\x88å\\x85\\x89\\n\\n\\næ\\x9e\\x97å®¥å\\x98\\x89 ç¥\\x9eç§\\x98å\\x98\\x89å®¾\\n\\n\\næ\\x9e\\x97å®¥å\\x98\\x89 æ\\x83³è\\x87ªç\\x94±\\n\\n\\næ\\x9e\\x97å®¥å\\x98\\x89  å\\x96\\x9cå¥½\\n\\n\\næ\\x9e\\x97å®¥å\\x98\\x89  ä¸ªäººç»\\x8få\\x8e\\x86\\n\\n\\næ\\x9e\\x97å®¥å\\x98\\x89  é\\x9f³ä¹\\x90é£\\x8eæ\\xa0¼\\n\\næ\\x9e\\x97å®¥å\\x98\\x89ç\\x9a\\x84ç½\\x91é¡µæ\\x90\\x9cç´¢ç»\\x93æ\\x9e\\x9c\\n\\næ\\x9e\\x97å®¥å\\x98\\x89ç\\x9a\\x84ç\\x83\\xadç\\x82¹\\næ\\x9e\\x97å®¥å\\x98\\x89ã\\x80\\x81 å°\\x86ç©ºé\\x99\\x8dä¸¹é\\x98³å¼\\x80æ\\xad\\x8cè¿·è§\\x81é\\x9d¢ä¼\\x9a\\nã\\x80\\x90æ\\x91\\x98è¦\\x81ã\\x80\\x91  æ\\x98¯å\\x8d\\x8eç\\xa0\\x94å\\x9b½é\\x99\\x85é\\x9f³ä¹\\x90å\\x86\\x8dæ¬¡æ\\x96¥èµ\\x84å\\x8d\\x83ä¸\\x87æ\\x88\\x90æ\\x9c¬ï¼\\x8cç\\x94±å®\\x85ç\\x94·å¥³ç¥\\x9eå¤§å\\x85\\x83ï¼\\x88æ\\x9e\\x97ç\\x9b\\x88è\\x87»ï¼\\x89ã\\x80\\x81æ´ªè¯\\x97ã\\x80\\x81å\\x90´æ\\x98\\x80å»·ã\\x80\\x81é\\x99\\x88åº\\xadè\\x90±å\\x92\\x8cå\\x88\\x98å®\\x87ç\\x8f\\x8aäººç»\\x84æ\\x88\\x90ç\\x9a\\x84æ\\xad£å¦¹å\\x9b¢ï¼\\x8cå\\x87\\xadå\\x80\\x9fé\\x9d\\x92æ\\x98¥ã\\x80\\x81å\\x8f¯ç\\x88±ã\\x80\\x81æ´»æ³¼è¢«å\\x86\\xa0ä»¥â\\x80\\x9cå\\x8d\\x8eè¯\\xadæ\\xad\\x8cå\\x9d\\x9bé\\x80\\x8fæ\\x98\\x8eçº¯ç\\x88±ç³»å¥³å\\xad©å\\x9b¢â\\x80\\x9dç§°å\\x8f·ã\\x80\\x82 ä¸¹é\\x98³å\\x90¾æ\\x82¦å¹¿å\\x9cºé\\x80\\x81ç¦\\x8få\\x88©å\\x92¯ï¼\\x81æ\\x9c\\x88æ\\x97¥æ\\x9e\\x97å®¥å\\x98\\x89å\\x92\\x8c ç©ºé\\x99\\x8dä¸¹é\\x98³å\\x90¾ \\næ\\x9d¥è\\x87ªå\\x8d\\x8eé¾\\x99ç½\\x91\\næ\\x9e\\x97å®¥å\\x98\\x89è´´è\\x83¡å\\xad\\x90å\\x8f\\x98å¤§å\\x8f\\x94 ç½\\x91å\\x8f\\x8bæ\\x83\\x8aå\\x91¼æ\\x92\\x9eè\\x84¸å\\x90´å½¦ç¥\\x96\\næ\\x96°æµªå¨±ä¹\\x90è®¯ æ\\x9c\\x88æ\\x97¥æ\\x99\\x9aé\\x97´ï¼\\x8cæ\\x9e\\x97å®¥å\\x98\\x89é\\x80\\x9aè¿\\x87å¾®å\\x8d\\x9aæ\\x99\\x92è\\x83¡é¡»ç\\x85§ï¼\\x8cå¹¶ç§°ï¼\\x9aâ\\x80\\x9cå¹´è½»äººï¼\\x8cä¸\\x8dè¦\\x81é\\x82£ä¹\\x88ç\\x88±ç\\x94\\x9fæ°\\x94ã\\x80\\x81ä¸\\x8dè¦\\x81æ\\x8c\\x91é£\\x9fã\\x80\\x81ä¸\\x8dè¦\\x81æ\\x99\\x9aç\\x9d¡ï¼\\x8cå\\x90¬æ\\xad\\x8cå\\x8f¯ä»¥ï¼\\x8cä½\\x86æ\\x98¯å\\x8fªè\\x83½é\\x80\\x89ä¸\\x80é¦\\x96ï¼\\x8cæ\\x8cºå\\x8f\\x94å\\x8f\\x94ç\\x9a\\x84è¯\\x9dã\\x80\\x82â\\x80\\x9dç\\x85§ç\\x89\\x87ä¸\\xadï¼\\x8cæ\\x9e\\x97å®¥å\\x98\\x89èº«ç©¿ç²\\x89è\\x89²ä¸\\x8aè¡£ï¼\\x8cè¡¨æ\\x83\\x85ä¸¥è\\x82\\x83ï¼\\x8cå\\x98´å·´è´´ä¸\\x8aä¿\\x8fç\\x9a®ç\\x9a\\x84è\\x83¡é¡»ï¼\\x8cç§\\x92å\\x8f\\x98å¤§å\\x8f\\x94ã\\x80\\x82 å¯¹æ\\xad¤ï¼\\x8cç½\\x91å\\x8f\\x8bçº·çº·ç\\x95\\x99è¨\\x80ï¼\\x8cç§° \\næ\\x9d¥è\\x87ªä¸\\xadå\\x9b½é\\x9d\\x92å¹´ç½\\x91\\næ\\x9e\\x97å®¥å\\x98\\x89ä¸\\x8då\\x85³æ³¨é\\x82\\x93ç´«æ£\\x8bæ¼\\x94å\\x94±ä¼\\x9aé\\x99·ç½\\x97ç\\x94\\x9fé\\x97¨ï¼\\x9aæ²¡ç\\x95\\x99æ\\x84\\x8f\\nä¸\\xadæ\\x96°ç½\\x91æ\\x9c\\x88æ\\x97¥æ\\x8a¥é\\x81\\x93 å\\x8f°æ¹¾æ\\xad\\x8cæ\\x89\\x8bæ\\x9e\\x97å®¥å\\x98\\x89ï¼\\x88ï¼\\x89ç\\x8e°èº«å°\\x86å\\x86\\x9bæ¾³ä¸¾è¡\\x8cé\\x80\\x80ä¼\\x8då\\x90\\x8eé¦\\x96ä¸ªæ\\xad\\x8cè¿·è§\\x81é\\x9d¢ä¼\\x9aï¼\\x8cç\\x8e°å\\x9cºè¿\\x91ä¸\\x89ç\\x99¾äººå\\x9b´è§\\x82ï¼\\x8cæ\\x9b´ä¸\\x8eç\\x8e°å\\x9cºæ\\x9c\\x8bå\\x8f\\x8bå¤§ç\\x8e©æ¸¸æ\\x88\\x8fã\\x80\\x82è¡¨ç¤ºå·²ç»\\x8fæ\\x9c\\x89å¹´å\\x8d\\x8aæ²¡æ\\x9c\\x89æ\\x9d¥é¦\\x99æ¸¯ï¼\\x8c å¾\\x88å¤\\x9aç²\\x89ä¸\\x9dæ\\x98¯æ\\x94¾å·¥æ\\x94¾å\\xad¦å\\x90\\x8eèµ¶è¿\\x87æ\\x9d¥ï¼\\x8cè§\\x89å¾\\x97å¥½æ\\x84\\x9fè°¢ï¼\\x8cè®²å\\x88°å\\x86\\x9bä¸\\xadç\\x94\\x9fæ´»ï¼\\x8cä»\\x96ç¬\\x91è¨\\x80ï¼\\x9aâ\\x80\\x9cå\\x8f\\x98è\\x83\\x96äº\\x86ï¼\\x8cå\\x9b\\xa0ä¸ºå½\\x93å\\x85µè\\x87ªç\\x94± \\næ\\x9d¥è\\x87ªç½\\x91æ\\x98\\x93å¨±ä¹\\x90\\n\\næ\\x9e\\x97å®¥å\\x98\\x89æ¼\\x94å\\x94±ä¼\\x9a\\næ\\x9c¬ç»\\x93æ\\x9e\\x9cé\\x80\\x89è\\x87ªé¡¹ç\\x9b¸å\\x85³ç½\\x91ç»\\x9cèµ\\x84æº\\x90\\né\\x97®\\næ\\x9e\\x97å®¥å\\x98\\x89  æ¼\\x94å\\x94±ä¼\\x9a\\næ\\x9e\\x97å®¥å\\x98\\x89ç\\x9a\\x84ç\\x8e°å\\x9cºæ¼\\x94å\\x94±ä¼\\x9aå\\x8c\\x85æ\\x8b¬ä¸¤å¤§ç³»å\\x88\\x97ï¼\\x9aå\\x87ºé\\x81\\x93æ\\x97©æ\\x9c\\x9få\\x92\\x8cæ\\xad\\x8cæ\\x89\\x8bå\\x91¨å®\\x9açº¬ã\\x80\\x81æ½\\x98è£\\x95æ\\x96\\x87ã\\x80\\x81è®¸ä»\\x81æ\\x9d°ç\\xad\\x89ä¸\\x80èµ·ä¸¾è¡\\x8cç\\x9a\\x84â\\x80\\x9cæ\\x98\\x9få\\x85\\x89å\\x90\\x8cå\\xad¦æ¼\\x94å\\x94±ä¼\\x9aâ\\x80\\x9dä¸\\x8eæ\\xa0¡å\\x9b\\xadæ¼\\x94å\\x94±ä¼\\x9aâ\\x80\\x9c\\xa0\\xa0â\\x80\\x9dä»¥å\\x8f\\x8aæ\\x9e\\x97å®¥å\\x98\\x89ä¸ªäººç\\x9a\\x84æ¼\\x94å\\x94±ä¼\\x9aâ\\x80\\x9cè¿·å®«å·¡å\\x9b\\x9eæ¼\\x94å\\x94±ä¼\\x9aâ\\x80\\x9dã\\x80\\x81â\\x80\\x9cæ\\x84\\x9få®\\x98ä¸\\x96ç\\x95\\x8cå·¡å\\x9b\\x9eé\\x9f³ä¹\\x90ä¼\\x9aâ\\x80\\x9dã\\x80\\x81â\\x80\\x9cç¥\\x9eæ¸¸å·¡å\\x9b\\x9eæ¼\\x94å\\x94±ä¼\\x9aâ\\x80\\x9dã\\x80\\x82å\\x85¶ä»\\x96é\\x87\\x8dè¦\\x81ä¸ªäººæ¼\\x94å\\x94±ä¼\\x9aæ\\x9c\\x89çº¢ç\\x89\\x9bä¸\\x8dæ\\x8f\\x92ç\\x94µé\\x9f³ä¹\\x90ä¼\\x9aå\\x8f\\x8aæ\\x9e\\x97å®¥å\\x98\\x89é\\x82\\x82é\\x80\\x85ç\\x88µå£«æ\\x85\\x88å\\x96\\x84é\\x9f³ä¹\\x90ä¼\\x9aç\\xad\\x89ï¼\\x8cå¹¶ä¸¤åº¦åº\\x94é\\x82\\x80äº\\x8eä¸½æ\\x98\\x9fé\\x82®è½®ä¸¾è¡\\x8cå°\\x8få\\x9e\\x8bä¸ªäººæ¼\\x94å\\x94±ä¼\\x9aã\\x80\\x82\\næ\\x98\\x9få\\x85\\x89å\\x90\\x8cå\\xad¦æ¼\\x94å\\x94±ä¼\\x9aç³»å\\x88\\x97\\n\\xa0å\\x8f°æ¹¾\\xa0å\\x8f°å\\x8c\\x97ï¼\\x88å\\x9b½ç«\\x8bå\\x8f°æ¹¾å¤§å\\xad¦ä½\\x93è\\x82²é¦\\x86ï¼\\x89\\n\\xa0é©¬æ\\x9d¥è¥¿äº\\x9a\\xa0äº\\x91é¡¶é«\\x98å\\x8e\\x9fï¼\\x88äº\\x91æ\\x98\\x9få\\x89§å\\x9cºï¼\\x89\\n\\xa0é¦\\x99æ¸¯ï¼\\x88ä¼\\x8aè\\x8e\\x89æ²\\x99ä¼¯ä½\\x93è\\x82²é¦\\x86ï¼\\x89ï¼\\x88å\\x8d\\x88ã\\x80\\x81æ\\x99\\x9aä¸¤å\\x9cºï¼\\x89\\n\\xa0\\xa0\\xa0æ\\xa0¡\\næ\\x9d¥è\\x87ªç\\x99¾åº¦ç\\x99¾ç§\\x91\\né\\x97®\\næ\\x9e\\x97å®¥å\\x98\\x89æ¼\\x94å\\x94±ä¼\\x9aé»\\x91ç\\x99½æ\\x9d¡çº¹è¡£\\nç\\xad\\x94\\nå\\x8f£ç\\x9a\\x84å½¢ç\\x8a¶æ¼\\x94å\\x94±ä¼\\x9aå\\x90\\x97ï¼\\x8cæ\\x9c\\x89ä¸\\x80ä»¶å¤¹å\\x85\\x8bæ\\x98¯æ\\x9d¡çº¹ç\\x9a\\x84ï¼\\x8cå\\x90\\x8eé\\x9d¢æ\\x9c\\x89å\\x8d°è\\x8a±ã\\x80\\x82\\næ\\x9d¥è\\x87ªç\\x99¾åº¦ç\\x9f¥é\\x81\\x93\\né\\x97®\\næ\\x9e\\x97å®¥å\\x98\\x89æ¼\\x94å\\x94±ä¼\\x9a\\næ±\\x82å\\x90\\x84ä½\\x8dç\\x9f¥é\\x81\\x93ç\\x9a\\x84å¸®å¸®å¿\\x99ï¼\\x8cæ\\x9e\\x97å®¥å\\x98\\x89å¹´ä»\\x80ä¹\\x88æ\\x97¶å\\x80\\x99å\\x9c¨é\\x87\\x8dåº\\x86æ\\x9c\\x89æ¼\\x94å\\x94±ä¼\\x9aå\\x95\\x8aï¼\\x9fè°¢è°¢å\\x90\\x84ä½\\x8däº\\x86\\nç\\xad\\x94\\næ\\x82¨å¥½ï¼\\x81æ\\x82¨å\\x92¨è¯¢ç\\x9a\\x84æ\\x9e\\x97å®¥å\\x98\\x89æ¼\\x94å\\x94±ä¼\\x9aæ\\x9a\\x82æ\\x97¶æ²¡æ\\x9c\\x89é\\x87\\x8dåº\\x86ç«\\x99ä¿¡æ\\x81¯ï¼\\x8cç\\x9b®å\\x89\\x8då\\x8fªæ\\x9c\\x89æ\\xad¦æ±\\x89ï¼\\x8cå\\x8c\\x97äº¬ç«\\x99æ¼\\x94å\\x87ºè¯¦æ\\x83\\x85å¦\\x82ä¸\\x8bï¼\\x9aæ¼\\x94å\\x87ºè¯¦æ\\x83\\x85è´\\xadç¥¨ï¼\\x9aæ¼\\x94å\\x87ºæ\\x97¶é\\x97´æ¼\\x94å\\x87ºå\\x9c°ç\\x82¹ï¼\\x9aå¹´æ\\x9c\\x88æ\\x97¥  æ\\xad¦æ±\\x89å\\x85\\x89è°·ä½\\x93è\\x82²é¦\\x86å¹´æ\\x9c\\x88æ\\x97¥  å\\x8c\\x97äº¬å·¥äººä½\\x93è\\x82²é¦\\x86å¸\\x8cæ\\x9c\\x9bä»¥ä¸\\x8aä¿¡æ\\x81¯å\\x8f¯ä»¥å¸®å\\x88°æ\\x82¨â\\x88©â\\x88©\\næ\\x9d¥è\\x87ªç\\x99¾åº¦ç\\x9f¥é\\x81\\x93\\n\\næ\\x9e\\x97å®¥å\\x98\\x89é\\x82\\x93ç´«æ£\\x8bæ\\x8e¥å\\x90»\\næ\\x9c¬ç»\\x93æ\\x9e\\x9cé\\x80\\x89è\\x87ªé¡¹ç\\x9b¸å\\x85³ç½\\x91ç»\\x9cèµ\\x84æº\\x90\\né\\x97®\\né\\x82\\x93ç´«æ£\\x8bç\\x94·å\\x8f\\x8bæ\\x9e\\x97å®¥å\\x98\\x89ç\\x85§ç\\x89\\x87 æ\\x9e\\x97å®¥å\\x98\\x89é\\x82\\x93ç´«æ£\\x8bæ\\x8e¥å\\x90» é\\x82\\x93ç´«æ£\\x8bä¸ºä»\\x80ä¹\\x88å\\x8f«\\nç\\xad\\x94\\nç¬¬ä¸\\x80ä¸ªé\\x97®é¢\\x98é\\x82\\x93ç´«æ£\\x8bç\\x8e°å\\x9c¨è¿\\x98æ²¡æ\\x9c\\x89è°\\x88æ\\x81\\x8bç\\x88±å\\x91¢ï¼\\x8cé\\x82£ä¸ªæ\\x98¯ç»¯é\\x97»ã\\x80\\x82ç¬¬äº\\x8cä¸ªé\\x97®é¢\\x98é\\x82\\x93ç´«æ£\\x8bä¸ºä»\\x80ä¹\\x88å\\x8f«å\\x9b\\xa0ä¸ºé\\x82\\x93ç´«æ£\\x8bæ\\x9c\\x89ä¸\\x80ä¸ªè\\x8b±æ\\x96\\x87å\\x90\\x8då\\xad\\x97ï¼\\x8cè¿\\x99ä¸\\x89ä¸ªå\\xad\\x97æ¯\\x8dæ\\x98¯å¥¹è\\x8b±æ\\x96\\x87å\\x90\\x8då\\xad\\x97ç\\x9a\\x84ç¬¬ä¸\\x80ä¸ªå\\xad\\x97æ¯\\x8då\\x9b\\xa0ã\\x80\\x82\\næ\\x9d¥è\\x87ªç\\x99¾åº¦ç\\x9f¥é\\x81\\x93\\n\\næ\\x9e\\x97å®¥å\\x98\\x89 è¯´è°\\x8e\\næ\\x9c¬ç»\\x93æ\\x9e\\x9cé\\x80\\x89è\\x87ªé¡¹ç\\x9b¸å\\x85³ç½\\x91ç»\\x9cèµ\\x84æº\\x90\\né\\x97®\\næ±\\x82æ\\x9e\\x97å®¥å\\x98\\x89è¯´è°\\x8eç\\x99¾åº¦äº\\x91\\nè°\\x81æ\\x9c\\x89èµ\\x84æº\\x90ã\\x80\\x82æ±\\x82å\\x88\\x86äº«ã\\x80\\x82è¯´è°\\x8e\\nç\\xad\\x94\\nè¯´è°\\x8eç\\x99¾åº¦äº\\x91è§\\x86é¢\\x91èµ\\x84æº\\x90å\\x9c¨ä¸\\x8bæ\\x96¹ï¼\\x8cæ\\x8f\\x90å\\x8f\\x96æ\\x97¶è¾\\x93å\\x85¥æ\\xad£ç¡®å¯\\x86ç\\xa0\\x81å\\x8d³å\\x8f¯ã\\x80\\x82è¿\\x99æ\\x98¯æ¥¼ä¸»è¦\\x81ç\\x9a\\x84èµ\\x84æº\\x90ï¼\\x88è¯·å\\x8f\\x8aæ\\x97¶ä¸\\x8bè½½ï¼\\x8cä»¥é\\x98²æ\\xad¢å¤±æ\\x95\\x88å\\x93¦ï¼\\x89é\\x93¾æ\\x8e¥  å¯\\x86ç\\xa0\\x81 ä¸\\x8bè½½å\\x90\\x8eï¼\\x8cæ\\x8c\\x89ç\\x85§æ\\x8f\\x90ç¤ºæ\\x93\\x8dä½\\x9cï¼\\x8cå\\x8d³å\\x8f¯è§\\x82ç\\x9c\\x8bï¼\\x81ï¼\\x9aæ\\x82¨æ\\x83³ç\\x9f¥é\\x81\\x93ç\\x9a\\x84ç\\x9c\\x8bå®\\x8cå°±è\\x83½æ\\x89¾å\\x88°ç\\xad\\x94æ¡\\x88ï¼\\x81\\næ\\x9d¥è\\x87ªç\\x99¾åº¦ç\\x9f¥é\\x81\\x93\\né\\x97®\\næ\\x9e\\x97å®¥å\\x98\\x89ã\\x80\\x8aè¯´è°\\x8eã\\x80\\x8bç\\x9a\\x84æ\\xad\\x8cè¯\\x8d\\nå¦\\x82é¢\\x98\\nç\\xad\\x94\\næ\\x9b²ï¼\\x9aæ\\x9d\\x8eå\\x8f\\x8cé£\\x9e è¯\\x8dï¼\\x9aæ\\x96½äººè¯\\x9a æ\\x98¯æ\\x9c\\x89è¿\\x87å\\x87\\xa0ä¸ªä¸\\x8dé\\x94\\x99å¯¹è±¡ è¯´èµ·æ\\x9d¥å¹¶ä¸\\x8då¯\\x82å¯\\x9eå\\xad¤å\\x8d\\x95 å\\x8f¯è\\x83½æ\\x88\\x91æµªè\\x8d¡ è®©äººå®¶ä¸\\x8då®\\x89 æ\\x89\\x8dä¼\\x9aç»\\x93æ\\x9e\\x9cé\\x83½é\\x98µäº¡ æ\\x88\\x91æ²¡æ\\x9c\\x89ä»\\x80éº¼é\\x98´å½±é\\xad\\x94é\\x9a\\x9c ä½\\xa0å\\x8d\\x83ä¸\\x87ä¸\\x8dè¦\\x81æ\\x94¾å\\x9c¨å¿\\x83ä¸\\x8a æ\\x88\\x91å\\x8f\\x88ä¸\\x8dè\\x84\\x86å¼± ä½\\x95å\\x86µé\\x82£ç®\\x97ä»\\x80éº¼ä¼¤ å\\x8f\\x8dæ\\xad£ç\\x88±æ\\x83\\x85ä¸\\x8då°±é\\x83½è¿\\x99æ\\xa0· æ\\x88\\x91æ²¡æ\\x9c\\x89è¯´è°\\x8e æ\\x88\\x91ä½\\x95å¿\\x85è¯´è°\\x8e ä½\\xa0æ\\x87\\x82æ\\x88\\x91ç\\x9a\\x84 æ\\x88\\x91å¯¹ä½\\xa0ä»\\x8eæ\\x9d¥å°±ä¸\\x8dä¼\\x9aå\\x81\\x87è£\\x85 \\næ\\x9d¥è\\x87ªç\\x99¾åº¦ç\\x9f¥é\\x81\\x93\\né\\x97®\\næ\\x9e\\x97å®¥å\\x98\\x89è¯´è°\\x8eé\\x87\\x8cé\\x9d¢æ\\x9c\\x89è¯´è°\\x8eç\\x9a\\x84äººè¦\\x81 å\\x90\\x9eä¸\\x80å\\x8d\\x83æ\\xa0¹é\\x92\\x88è¿\\x99å\\x8f¥è¯\\x9dç\\x9a\\x84å\\x9b¾ç\\x89\\x87\\nç\\xad\\x94\\nä»\\x96è¿\\x99é¦\\x96æ\\xad\\x8cé\\x87\\x8cè¯´ä»\\x96æ²¡æ\\x9c\\x89è¯´è¯\\x9dï¼\\x8cä½\\x86å¥¹å\\x8d´ä¸\\x8dç\\x9b¸ä¿¡ï¼\\x8cä»\\x96ä¸ºè¡¨è¾¾è\\x87ªå·±ç\\x9c\\x9fç\\x9a\\x84æ²¡æ\\x9c\\x89è¯´è°\\x8eå°±è¯´è°\\x81è¯´è°\\x8eå°±è¦\\x81å\\x90\\x9eä¸\\x80å\\x8d\\x83æ\\xa0¹é\\x92\\x88\\næ\\x9d¥è\\x87ªç\\x99¾åº¦ç\\x9f¥é\\x81\\x93\\n\\næ\\x9e\\x97å®¥å\\x98\\x89å¥½å\\x90¬ç\\x9a\\x84æ\\xad\\x8c\\næ\\x9c¬ç»\\x93æ\\x9e\\x9cé\\x80\\x89è\\x87ªé¡¹ç\\x9b¸å\\x85³ç½\\x91ç»\\x9cèµ\\x84æº\\x90\\né\\x97®\\næ±\\x82å\\x87\\xa0é¦\\x96æ\\x9e\\x97å®¥å\\x98\\x89å¥½å\\x90¬ç\\x9a\\x84æ\\xad\\x8cï¼\\x8cè¦\\x81ä½\\xa0ä»¬å\\x90¬è¿\\x87ç\\x9a\\x84\\nç\\xad\\x94\\nçª\\x81ç\\x84¶æ\\x83³èµ·ä½\\xa0 ä½\\xa0æ\\x98¯æ\\x88\\x91ç\\x9a\\x84ç\\x9c¼èµ°é\\x92¢ç´¢ç\\x9a\\x84äººæ\\x88\\x91ç\\x9a\\x84ç\\x88±äººä¸\\x96ç\\x95\\x8cå¯¹ä¸\\x8dèµ·ï¼\\x8cè°¢è°¢é\\x9b¨å\\x92\\x8cç\\x9c¼æ³ªå¤©ä½¿ç\\x9a\\x84ä¾§è\\x84¸é\\x82£äº\\x9bæ\\x97¥å\\xad\\x90æ\\x82¬å´\\x96æ\\x88\\x91è¦\\x81æ\\x88\\x91ä»¬å\\x9c¨ä¸\\x80èµ·å¯¹ä½\\xa0ç\\x88±ä¸\\x8då®\\x8c\\næ\\x9d¥è\\x87ªç\\x99¾åº¦ç\\x9f¥é\\x81\\x93\\né\\x97®\\næ\\x9e\\x97å®¥å\\x98\\x89å¥½å\\x90¬ç\\x9a\\x84æ\\xad\\x8cæ\\x9c\\x89å\\x93ªäº\\x9bï¼\\x9fæ\\x8e¨è\\x8d\\x90ä¸\\x80ä¸\\x8bå\\x90§\\nç\\xad\\x94\\næµªè´¹è¯´è°\\x8eã\\x80\\x81å¿\\x83é\\x85¸ã\\x80\\x81æ®\\x8bé\\x85·æ\\x9c\\x88å\\x85\\x89\\næ\\x9d¥è\\x87ªç\\x99¾åº¦ç\\x9f¥é\\x81\\x93\\né\\x97®\\næ\\x9e\\x97å®¥å\\x98\\x89å¥½å\\x90¬ç\\x9a\\x84æ\\xad\\x8cä»\\x8bç»\\x8dä¸\\x8b\\nç\\xad\\x94\\nå¿\\x86è\\x8b¦æ\\x80\\x9dç\\x94\\x9cï¼\\x8cä»\\x8aå®µå¤\\x9aç\\x8f\\x8dé\\x87\\x8dï¼\\x8cäº²å¯\\x86ç\\x88±äººï¼\\x8cå\\x86\\x8då\\x88«åº·æ¡¥ï¼\\x9aè¯´è°\\x8eï¼\\x8cè\\x80³æ\\x9cµï¼\\x81æ\\x85¢æ\\xad\\x8cï¼\\x8cï¼\\x8cè§£äººç¿»å\\x94±è¿\\x87ç\\x9a\\x84å°±ï¼\\x8cé\\xad\\x82è\\x90¦æ\\x97§æ¢¦ï¼\\x81ï¼\\x8cä¼¯ä¹\\x90å¿«æ\\xad\\x8cï¼\\x8cé\\x82£é¦\\x96æ\\xad\\x8cï¼\\x8cæ\\xad\\x87æ\\x96¯åº\\x95é\\x87\\x8cã\\x80\\x82ä»\\x96å\\x94±ç\\x9a\\x84é\\x83½å¾\\x88å¥½å\\x90¬å\\x91¢ï¼\\x8cé\\x9b¨å\\x92\\x8cç\\x9c¼æ³ªï¼\\x9aæ\\x84\\x9få\\x90\\x8cèº«å\\x8f\\x97ï¼\\x8cè°¢è°¢ï¼\\x9açª\\x81ç\\x84¶å¥½æ\\x83³ä½\\xa0ï¼\\x8cå¿\\x83é\\x85¸\\næ\\x9d¥è\\x87ªç\\x99¾åº¦ç\\x9f¥é\\x81\\x93\\n\\næ\\x9e\\x97å®¥å\\x98\\x89 ä½\\xa0æ\\x98¯æ\\x88\\x91ç\\x9a\\x84ç\\x9c¼\\næ\\x9c¬ç»\\x93æ\\x9e\\x9cé\\x80\\x89è\\x87ªé¡¹ç\\x9b¸å\\x85³ç½\\x91ç»\\x9cèµ\\x84æº\\x90\\né\\x97®\\næ\\x9c\\x89ä¸\\x80é¦\\x96æ··ä¹±ç\\x9a\\x84æ\\xad\\x8cï¼\\x8cé\\x87\\x8cé\\x9d¢å¤¹æ\\x9d\\x82ç\\x9d\\x80æ\\x9e\\x97å®¥å\\x98\\x89ä½\\xa0æ\\x98¯æ\\x88\\x91ç\\x9a\\x84ç\\x9c¼ç\\x9a\\x84ä¸\\x80æ®µæ\\xad\\x8cè¯\\x8dï¼\\x8cé\\x82£ä¸\\x80å°\\x8fæ®µæ\\x98¯å¥³ç\\x9a\\x84å\\x94±ç\\x9a\\x84ï¼\\x8cè¿\\x99é¦\\x96æ\\xad\\x8cå\\x8f«ä»\\x80ä¹\\x88å\\x90\\x8då\\xad\\x97ï¼\\x8cï¼\\x8cï¼\\x8cæ\\x80¥\\næ\\x9c\\x89ä¸\\x80é¦\\x96æ··ä¹±ç\\x9a\\x84æ\\xad\\x8cï¼\\x8cé\\x87\\x8cé\\x9d¢å¤¹æ\\x9d\\x82ç\\x9d\\x80æ\\x9e\\x97å®¥å\\x98\\x89ä½\\xa0æ\\x98¯æ\\x88\\x91ç\\x9a\\x84ç\\x9c¼ç\\x9a\\x84ä¸\\x80æ®µæ\\xad\\x8cè¯\\x8dï¼\\x8cé\\x82£ä¸\\x80å°\\x8fæ®µæ\\x98¯å¥³ç\\x9a\\x84å\\x94±ç\\x9a\\x84ï¼\\x8cè¿\\x99é¦\\x96æ\\xad\\x8cå\\x8f«ä»\\x80ä¹\\x88å\\x90\\x8då\\xad\\x97ï¼\\x8cï¼\\x8cï¼\\x8cæ\\x80¥æ±\\x82ï¼\\x8cæµªå¤\\x9fäº\\x86å\\x86\\x8då\\x9b\\x9eæ\\x9d¥ä¸\\x8dæ\\x98¯è¿\\x99é¦\\x96æ\\xad\\x8cï¼\\x8cè¯·å\\x8f\\x91æ\\xad£ç\\x89\\x88ç\\x9a\\x84ï¼\\x8cå\\x92\\x8cè°\\x81å\\x94±ç\\x9a\\x84\\nç\\xad\\x94\\nä½\\xa0æ\\x98¯æ\\x88\\x91ç\\x9a\\x84ç\\x9c¼è¯\\x8dæ\\x9b²ï¼\\x9aè\\x90§ç\\x85\\x8cå¥\\x87æ¼\\x94å\\x94±ï¼\\x9aè®¸è\\x89ºå¨\\x9cå¦\\x82æ\\x9e\\x9cæ\\x88\\x91è\\x83½ç\\x9c\\x8bå¾\\x97è§\\x81å°±è\\x83½è½»æ\\x98\\x93ç\\x9a\\x84å\\x88\\x86è¾¨ç\\x99½å¤©é»\\x91å¤\\x9cå°±è\\x83½å\\x87\\x86ç¡®ç\\x9a\\x84å\\x9c¨äººç¾¤ä¸\\xadç\\x89µç\\x9d\\x80ä½\\xa0ç\\x9a\\x84æ\\x89\\x8bå¦\\x82æ\\x9e\\x9cæ\\x88\\x91è\\x83½ç\\x9c\\x8bå¾\\x97è§\\x81å°±è\\x83½é©¾è½¦å¸¦ä½\\xa0å\\x88°å¤\\x84é\\x81¨æ¸¸å°±è\\x83½æ\\x83\\x8aå\\x96\\x9cç\\x9a\\x84ä»\\x8eè\\x83\\x8cå\\x90\\x8eç»\\x99ä½\\xa0ä¸\\x80ä¸ªæ\\x8b¥æ\\x8a±å¦\\x82æ\\x9e\\x9cæ\\x88\\x91è\\x83½ç\\x9c\\x8bå¾\\x97è§\\x81ç\\x94\\x9få\\x91½ä¹\\x9fè®¸å®\\x8cå\\x85¨ä¸\\x8då\\x90\\x8cå\\x8f¯è\\x83½æ\\x88\\x91æ\\x83³è¦\\x81ç\\x9a\\x84æ\\x88\\x91å\\x96\\x9cæ¬¢ç\\x9a\\x84æ\\x88\\x91ç\\x88±ç\\x9a\\x84é\\x83½ä¸\\x8dä¸\\x80æ\\xa0·\\næ\\x9d¥è\\x87ªç\\x99¾åº¦ç\\x9f¥é\\x81\\x93\\né\\x97®\\næ±\\x82ï¼\\x9aæ\\x9e\\x97å®¥å\\x98\\x89ä½\\xa0æ\\x98¯æ\\x88\\x91ç\\x9a\\x84ç\\x9c¼ æ\\x97\\xa0æ\\x8d\\x9fæ\\xa0¼å¼\\x8f\\né\\x85·ç\\x8b\\x97å\\x9b\\xa0ç\\x89\\x88æ\\x9d\\x83ä¸\\x8dè\\x83½å\\x90¬äº\\x86ï¼\\x8cç\\x8e°å\\x9c¨æ\\x83³å\\x90¬å\\x8f¯æ²¡å¾\\x97ä¸\\x8bäº\\x86ã\\x80\\x82ã\\x80\\x82ã\\x80\\x82ã\\x80\\x82\\nç\\xad\\x94\\nã\\x80\\x8aä½\\xa0æ\\x98¯æ\\x88\\x91ç\\x9a\\x84ç\\x9c¼ã\\x80\\x8bæ\\x98¯å\\x8f°æ¹¾æ\\xad\\x8cæ\\x89\\x8bæ\\x9e\\x97å®¥å\\x98\\x89ç¿»å\\x94±ç\\x9a\\x84ä¸\\x80é¦\\x96æ\\xad\\x8cæ\\x9b²ï¼\\x8cå\\x8e\\x9få\\x94±è\\x90§ç\\x85\\x8cå¥\\x87ï¼\\x8cä¸\\x94ç\\x94±è\\x90§ç\\x85\\x8cå¥\\x87ä½\\x9cæ\\x9b²ã\\x80\\x81ä½\\x9cè¯\\x8dã\\x80\\x82å¦\\x82æ\\x9e\\x9cæ\\x88\\x91è\\x83½ç\\x9c\\x8bå¾\\x97è§\\x81å°±è\\x83½è½»æ\\x98\\x93ç\\x9a\\x84å\\x88\\x86è¾¨ç\\x99½å¤©é»\\x91å¤\\x9cå°±è\\x83½å\\x87\\x86ç¡®ç\\x9a\\x84å\\x9c¨äººç¾¤ä¸\\xadç\\x89µä½\\x8fä½\\xa0ç\\x9a\\x84æ\\x89\\x8bå¦\\x82æ\\x9e\\x9cæ\\x88\\x91è\\x83½ç\\x9c\\x8bå¾\\x97è§\\x81å°±è\\x83½é©¾è½¦å¸¦ä½\\xa0å\\x88°å¤\\x84é\\x81¨æ¸¸å°±è\\x83½æ\\x83\\x8aå\\x96\\x9cç\\x9a\\x84ä»\\x8eè\\x83\\x8cå\\x90\\x8eç»\\x99ä½\\xa0ä¸\\x80ä¸ªæ\\x8b¥æ\\x8a±å¦\\x82æ\\x9e\\x9cæ\\x88\\x91è\\x83½ç\\x9c\\x8bå¾\\x97è§\\x81ç\\x94\\x9få\\x91½ä¹\\x9fè®¸å®\\x8cå\\x85¨ä¸\\x8då\\x90\\x8cå\\x8f¯è\\x83½æ\\x88\\x91æ\\x83³è¦\\x81ç\\x9a\\x84\\næ\\x9d¥è\\x87ªç\\x99¾åº¦ç\\x9f¥é\\x81\\x93\\né\\x97®\\næ\\x9e\\x97å®¥å\\x98\\x89ã\\x80\\x8aä½\\xa0æ\\x98¯æ\\x88\\x91ç\\x9a\\x84ç\\x9c¼ã\\x80\\x8bè®²è¿°äº\\x86æ\\x80\\x8eæ\\xa0·ä¸\\x80ä¸ªæ\\x95\\x85äº\\x8bï¼\\x8cæ\\x88\\x91ä»¬åº\\x94è¯¥æ\\x80\\x8eä¹\\x88å\\x8e»ä½\\x93å\\x91³æ\\xad\\x8cè¯\\x8då\\x91¢ï¼\\x9f\\nç\\xad\\x94\\nï¼\\x88ä»\\x96æ²¡æ\\x9c\\x89å¾\\x88ç\\x88±ç¿»å\\x94±å\\x88«äººç\\x9a\\x84æ\\xad\\x8cå¥½ä¸\\x8då¥½ï¼\\x8cè\\x90§ç\\x85\\x8cå¥\\x87è\\x80\\x81å¸\\x88ç\\x9a\\x84æ¼\\x94å\\x94±æ\\x89\\x8dæ\\x98¯æ\\x9c\\x80æ\\x84\\x9fäººç\\x9a\\x84ï¼\\x8cä½\\x86ä»\\x96è\\x87ªå·±å\\x8d´å¾\\x88ä¸\\x8dæ\\x84¿æ\\x84\\x8fæ¼\\x94å\\x94±è¿\\x99é¦\\x96æ\\xad\\x8cï¼\\x81ï¼\\x89ä¸\\x8dè\\x83½å\\x90¦è®¤ï¼\\x8cä¸ªäººè®¤ä¸ºæ\\x9e\\x97å®¥å\\x98\\x89æ\\x98¯ä¸ªé\\x9d\\x9eå¸¸ä¸\\x8dé\\x94\\x99ç\\x9a\\x84æ\\xad\\x8cæ\\x89\\x8bï¼\\x8cæ\\x9e\\x97å®¥å\\x98\\x89å¯¹è¿\\x99é¦\\x96æ\\xad\\x8cç\\x9a\\x84æ¼\\x94ç»\\x8eä¸\\x8eè¯\\xa0é\\x87\\x8aç\\x9c\\x9fç\\x9a\\x84å¾\\x88æ\\x9c\\x89æ°´å\\x87\\x86ï¼\\x8cä»\\x96è¯´ï¼\\x8cä¹\\x9få°±æ\\x98¯ä»\\x96ç\\x9a\\x84å\\x88\\x9bä½\\x9cè\\x80\\x85è\\x90§ç\\x85\\x8cå¥\\x87æ\\x9c¬èº«æ\\x98¯ä¸\\x80ä½\\x8dç\\x9b²äººï¼\\x9aâ\\x80\\x9cè¿\\x99é¦\\x96æ\\xad\\x8cæ\\x98¯è\\x90§ç\\x85\\x8cå¥\\x87è\\x80\\x81å¸\\x88å\\x91\\x95å¿\\x83æ²¥è¡\\x80æ\\x89\\x80å\\x88\\x9bä½\\x9cå\\x87ºæ\\x9d¥ç\\x9a\\x84ã\\x80\\x82â\\x80\\x9d å\\x91µå\\x91µè¿\\x99é¦\\x96æ\\xad\\x8cç\\x9a\\x84å\\x8e\\x9få\\x94±è\\x80\\x85ï¼\\x8cæ\\x89\\x80ä»¥å\\x90\\x8eæ\\x9d¥å°±æ\\x80»è¢«è¦\\x81æ±\\x82æ¼\\x94å\\x94±æ\\xad¤æ\\xad\\x8cï¼\\x8cä¸\\x8dè¯¥æ\\x98¯æ\\x88\\x91è¿\\x99ä¸ªæ²¡æ\\x9c\\x89è¿\\x87é\\x82£ç§\\x8dç»\\x8få\\x8e\\x86ç\\x9a\\x84äººæ\\x8a\\x8aå®\\x83å\\x94±çº¢ï¼\\x8cè¿\\x99é¦\\x96æ\\xad\\x8cå°±å\\x83\\x8fæ\\x98¯ä»\\x96ç\\x9a\\x84è\\x87ªè¿°ä¸\\x80æ\\xa0·\\næ\\x9d¥è\\x87ªç\\x99¾åº¦ç\\x9f¥é\\x81\\x93\\n\\nçª\\x81ç\\x84¶æ\\x83³èµ·ä½\\xa0 æ\\x9e\\x97å®¥å\\x98\\x89\\næ\\x9c¬ç»\\x93æ\\x9e\\x9cé\\x80\\x89è\\x87ªé¡¹ç\\x9b¸å\\x85³ç½\\x91ç»\\x9cèµ\\x84æº\\x90\\né\\x97®\\nçª\\x81ç\\x84¶æ\\x83³èµ·ä½\\xa0ï¼\\x8cæ\\x9e\\x97å®¥å\\x98\\x89ï¼\\x8cé«\\x98æ½®å\\x85¨é\\x83¨å\\x8f\\x91æ\\x9d¥å°±é\\x87\\x87çº³\\nç\\xad\\x94\\né\\x83½æ\\x98¯å\\x9b\\xa0ä¸ºé\\x82£ç\\x81¯æ³¡çª\\x81ç\\x84¶é\\x97ªäº\\x86ä¸\\x80ä¸\\x8bæ\\x96¼æ\\x98¯æ\\x83³èµ·ä½\\xa0æ\\x80\\x95ä½\\xa0 è¿\\x98æ²¡ä¼\\x91æ\\x81¯é\\x83½æ\\x98¯å\\x9b\\xa0ä¸ºè¿\\x99å\\x9cºé\\x9b¨å¿½ç\\x84¶é\\x97´ä¸\\x8bç\\x9a\\x84é\\x82£ä¹\\x88å¤§æ\\x80\\x95æ\\x9d¥ä¸\\x8då\\x8f\\x8aè·\\x9fä½\\xa0 èµ°å\\x9c¨ä¸\\x80èµ·ä¸\\x80ä¸ªäººç\\x9a\\x84å¤\\x9cæ\\x88\\x91ç\\x9a\\x84å¿\\x83 åº\\x94è¯¥æ\\x94¾å\\x9c¨å\\x93ªé\\x87\\x8cæ\\x8b¥æ\\x8a±è¿\\x87å\\x90\\x8eæ\\x88\\x91ç\\x9a\\x84å\\x8f\\x8cæ\\x89\\x8båº\\x94è¯¥æ\\x94¾å\\x9c¨å\\x93ªé\\x87\\x8cæ\\x88\\x91å§\\x8bç»\\x88å\\xad¦ä¸\\x8dä¼\\x9aæ\\x8e§å\\x88¶ æ\\x88\\x91ç\\x9a\\x84å\\x91¼å\\x90¸å\\x9c¨ç\\x8e»ç\\x92\\x83çª\\x97ä¸\\x8a å\\x91µå\\x87ºä½\\xa0ç¾\\x8eä¸½ç\\x9a\\x84å\\x90\\x8då\\xad\\x97å¯\\x82å¯\\x9eæ\\x9d¥è¢\\xadæ\\x97§\\næ\\x9d¥è\\x87ªç\\x99¾åº¦ç\\x9f¥é\\x81\\x93\\né\\x97®\\nè¯·é\\x97®ä½\\xa0æ\\x9c\\x89çª\\x81ç\\x84¶æ\\x83³èµ·ä½\\xa0ï¼\\x8cæ\\x9e\\x97å®¥å\\x98\\x89 ä¼´å¥\\x8få\\x90\\x97\\næ\\x9c\\x89ç\\x9a\\x84è¯\\x9då\\x8f¯ä»¥å\\x8f\\x91ç»\\x99æ\\x88\\x91å\\x90\\x97ï¼\\x9f\\nç\\xad\\x94\\nå·²ä¸\\x8aä¼\\xa0ï¼\\x8cæ\\x9c\\x9bé\\x87\\x87çº³ï¼\\x81\\næ\\x9d¥è\\x87ªç\\x99¾åº¦ç\\x9f¥é\\x81\\x93\\né\\x97®\\nçª\\x81ç\\x84¶æ\\x83³èµ·ä½\\xa0æ\\x9e\\x97å®¥å\\x98\\x89è\\x83\\x8cæ\\x99¯é\\x9f³ä¹\\x90é\\x93¾æ\\x8e¥\\nç\\xad\\x94\\né\\x93¾æ\\x8e¥å·²å\\x8f\\x91é\\x80\\x81å\\x88°ä½\\xa0ç\\x9a\\x84ç\\x99¾åº¦ã\\x80\\x82ç\\x9c\\x8bä¸\\x8bç½\\x91é¡µå\\x8f³ä¸\\x8aè§\\x92ï¼\\x8c æ\\x9c\\x89æ¶\\x88æ\\x81¯å°±æ\\x98¯æ²¡æ\\x9c\\x89æ\\x94¶å\\x88°è¯·ç\\x95\\x99ä¸ªé\\x82®ç®±ï¼\\x8cæ\\x88\\x91å\\x8f\\x91ä½\\xa0ã\\x80\\x82æ\\x8f\\x90ç¤ºï¼\\x9aç\\x95\\x99é\\x82®ç®±æ\\x97¶å\\x9c¨ä¸\\xadé\\x97´å\\x8a\\xa0ä¸ªç©ºæ\\xa0¼æ\\x88\\x96æ\\x96\\x87å\\xad\\x97æ\\x88\\x96è\\x80\\x85ç\\x9b´æ\\x8e¥ç\\x95\\x99å\\x8f·æ\\x95°å\\xad\\x97å°±è¡\\x8cæ·»å\\x8a\\xa0å\\x90\\x8eå¦\\x82å\\x90¬ä¸\\x8däº\\x86ï¼\\x8cé\\x87\\x8dæ\\x96°è¿\\x9bä¸\\x8bç©ºé\\x97´å\\x93¦\\næ\\x9d¥è\\x87ªç\\x99¾åº¦ç\\x9f¥é\\x81\\x93\\n\\næ\\x9e\\x97å®¥å\\x98\\x89é\\x82\\x93ç´«æ£\\x8b\\næ\\x9c¬ç»\\x93æ\\x9e\\x9cé\\x80\\x89è\\x87ªé¡¹ç\\x9b¸å\\x85³ç½\\x91ç»\\x9cèµ\\x84æº\\x90\\né\\x97®\\né\\x82\\x93ç´«æ£\\x8bç\\x94·å\\x8f\\x8bæ\\x9e\\x97å®¥å\\x98\\x89ç\\x85§ç\\x89\\x87 æ\\x9e\\x97å®¥å\\x98\\x89é\\x82\\x93ç´«æ£\\x8bæ\\x8e¥å\\x90» é\\x82\\x93ç´«æ£\\x8bä¸ºä»\\x80ä¹\\x88å\\x8f«\\nç\\xad\\x94\\nç¬¬ä¸\\x80ä¸ªé\\x97®é¢\\x98é\\x82\\x93ç´«æ£\\x8bç\\x8e°å\\x9c¨è¿\\x98æ²¡æ\\x9c\\x89è°\\x88æ\\x81\\x8bç\\x88±å\\x91¢ï¼\\x8cé\\x82£ä¸ªæ\\x98¯ç»¯é\\x97»ã\\x80\\x82ç¬¬äº\\x8cä¸ªé\\x97®é¢\\x98é\\x82\\x93ç´«æ£\\x8bä¸ºä»\\x80ä¹\\x88å\\x8f«å\\x9b\\xa0ä¸ºé\\x82\\x93ç´«æ£\\x8bæ\\x9c\\x89ä¸\\x80ä¸ªè\\x8b±æ\\x96\\x87å\\x90\\x8då\\xad\\x97ï¼\\x8cè¿\\x99ä¸\\x89ä¸ªå\\xad\\x97æ¯\\x8dæ\\x98¯å¥¹è\\x8b±æ\\x96\\x87å\\x90\\x8då\\xad\\x97ç\\x9a\\x84ç¬¬ä¸\\x80ä¸ªå\\xad\\x97æ¯\\x8då\\x9b\\xa0ã\\x80\\x82\\næ\\x9d¥è\\x87ªç\\x99¾åº¦ç\\x9f¥é\\x81\\x93\\né\\x97®\\næ\\x9e\\x97å®¥å\\x98\\x89å\\x92\\x8cé\\x82\\x93ç´«æ£\\x8bå\\x88\\x86æ\\x89\\x8bäº\\x86ä¹\\x88\\nå\\x9c¨å\\x9b½å¤\\x96é\\x94\\x80é\\x87\\x8få¾\\x88å¥½æ\\x88\\x91ä¸\\x8dæ\\x98¯æ\\x8c\\x91è´§ æ\\x88\\x91å\\x8fªæ\\x98¯å\\x8d\\x95çº¯æ\\x83³ç\\x9f¥é\\x81\\x93 å¸\\x8cæ\\x9c\\x9bè\\x83½æ\\x8f\\x90ä¾\\x9bç\\x9b¸å\\x85³æ\\x95°æ\\x8d® æ¯\\x94å¦\\x82ä¸\\x93è¾\\x91å\\x8f¯æ\\x9f¥é\\x94\\x80é\\x87\\x8få¯¹æ¯\\x94 å\\x90\\x8eæ\\x8f´ä¼\\x9aç²\\x89ä¸\\x9dä¿±ä¹\\x90é\\x83¨ä¼\\x9aå\\x91\\x98æ\\x95°ä¹\\x8bç±»ç\\x9a\\x84 è°¢è°¢ å°±è¯´æ\\x9e\\x97æ¯\\x94é\\x82\\x93çº¢å\\x9b\\xa0ä¸ºæ\\x9e\\x97å\\x9c¨å\\x86\\x85å\\x9c°äººæ°\\x94å¾\\x88é«\\x98 ç\\x84¶å\\x90\\x8eæ\\x88\\x91å°±æ\\x83³ç\\x9f¥é\\x81\\x93å\\x88°åº\\x95è°\\x81æ\\x9b´çº¢å¦\\x82é¢\\x98 æ\\x9c\\x89ä¸\\x80å¤©è·\\x9fæ\\x9c\\x8bå\\x8f\\x8bè°\\x88èµ·æ\\x9e\\x97å®¥å\\x98\\x89å\\x92\\x8cé\\x82\\x93ç´«æ£\\x8bç\\x9a\\x84ç»¯é\\x97» é\\x82\\x93ç´«æ£\\x8bç\\x9a\\x84ç²\\x89ä¸\\x9dè¯´æ\\x98¯æ\\x9e\\x97å\\x80\\x9fé\\x82\\x93ç\\x82\\x92ä½\\x9c æ\\x9e\\x97å®¥å\\x98\\x89ç\\x9a\\x84ç²\\x89ä¸\\x9dç«\\x8bé©¬å\\x8f\\x8dé©³è¯´æ\\x9e\\x97æ¯\\x94é\\x82\\x93çº¢ å°±è¯´é\\x82\\x93æ¯\\x94æ\\x9e\\x97çº¢å\\x9b\\xa0ä¸ºå¥¹\\nç\\xad\\x94\\nå·²ç»\\x8få\\x88\\x86æ\\x89\\x8bäº\\x86ï¼\\x8cç½\\x91ä¸\\x8aé\\x83½æ\\x9c\\x89æ\\x8a¥å\\x91\\x8aï¼\\x8cè\\x80\\x8cä¸\\x94å\\x8f\\x8cæ\\x96¹é\\x83½æ\\xad£é\\x9d¢å\\x9b\\x9eåº\\x94äº\\x86å\\x88\\x86æ\\x89\\x8bç\\x9a\\x84äº\\x8bã\\x80\\x82\\næ\\x9d¥è\\x87ªé\\x97®ç\\xad\\x94\\né\\x97®\\næ\\x9e\\x97å®¥å\\x98\\x89é\\x82\\x93ç´«æ£\\x8bæ\\x80\\x8eä¹\\x88è®¤è¯\\x86ç\\x9a\\x84\\nç\\xad\\x94\\nå\\x8d´å¯¹ç\\x9d\\x80ç½\\x97ç\\x90¦è¯´è¯\\x9dæ²¡ç¤¼è²\\x8cã\\x80\\x81æ¬\\xa0æ\\x95\\x99å\\x85»ï¼\\x9aå¦\\x82æ\\x9e\\x9cé¦\\x99æ¸¯æ\\x9c\\x89äººå\\x94±å\\x8a\\x9fæ¯\\x94æ\\x88\\x91å¥½ç\\x9b´è¨\\x80ç´«æ£\\x8bâ\\x80\\x9cæ²¡ç¤¼è²\\x8cé\\x82\\x93ç´«æ£\\x8bå¿\\x83é«\\x98æ°\\x94å\\x82²â\\x88\\x9aå¤§é\\x99\\x86äºº ä½\\xa0ä»¬å\\x88\\x9aè®¤è¯\\x86 å½\\x93ç\\x84¶ä¸\\x8dç\\x9f¥å\\x9c¨é¦\\x99æ¸¯å¥¹ä¸ºä½\\x95è\\x80\\x81å\\x8f\\x97æ°\\x94 è¢«ç\\x94\\x84å¦®æ\\x96¥è´£ç¢°é\\x9d¢ä¹\\x9fä¸\\x8dæ\\x89\\x93æ\\x8b\\x9bå\\x91¼ï¼\\x8cå\\x9b\\xa0ä¸ºé\\x82\\x93ç´«æ£\\x8bæ\\x9b¾è¯´è¿\\x87ï¼\\x8cåª\\x92ä½\\x93æ\\x8f\\x90å\\x88°é\\x82\\x93ç´«æ£\\x8bæ\\x97¶ã\\x80\\x82å¹´çºªè½»è½»å°±å¤¸ä¸\\x8bæµ·å\\x8f£ï¼\\x8cè·\\x9fé\\x9f¦å\\x94¯æ\\x8f¡æ\\x89\\x8bï¼\\x8cæ\\x9c\\x80è¿\\x91è¿\\x98è¯´ç\\x94·ç\\x94\\x9fä¸\\x8dæ\\x87\\x82æ\\x9c\\x89æ\\x97¶å¤\\x9aä¼¤å¥³ç\\x94\\x9fç\\x9a\\x84å¿\\x83 æ\\x9a\\x97æ\\x8c\\x87æ\\x9e\\x97å®¥å\\x98\\x89ï¼\\x8cé¢\\x81å¥\\x96å\\x85¸ç¤¼ä¹\\x9fä¸\\x8dç\\x88±å¥¹ã\\x80\\x82ä»¥å\\x89\\x8då\\x8f\\x88è¯´è\\x83¡æ\\x9d\\x8f\\næ\\x9d¥è\\x87ªç\\x99¾åº¦ç\\x9f¥é\\x81\\x93\\n\\næ\\x9e\\x97å®¥å\\x98\\x89 å¤§å°\\x8fè¯´å®¶\\næ\\x9c¬ç»\\x93æ\\x9e\\x9cé\\x80\\x89è\\x87ªé¡¹ç\\x9b¸å\\x85³ç½\\x91ç»\\x9cèµ\\x84æº\\x90\\né\\x97®\\næ\\x9e\\x97å®¥å\\x98\\x89å¤§å°\\x8fè¯´å®¶å¤\\x9aå°\\x91é\\x92±\\nç\\xad\\x94\\nä¹°äº\\x86é¢\\x84è´\\xadç\\x89\\x88ç\\x9a\\x84ï¼\\x8cå¤§ç\\x9b\\x92å\\xad\\x90è£\\x85ç\\x9a\\x84ï¼\\x8c\\næ\\x9d¥è\\x87ªç\\x99¾åº¦ç\\x9f¥é\\x81\\x93\\né\\x97®\\næ\\x9e\\x97å®¥å\\x98\\x89 å¤§å°\\x8fè¯´å®¶é\\x87\\x8cé\\x9d¢æ\\x9c\\x89å\\x93ªäº\\x9bæ\\xad\\x8c\\næ\\x88\\x91å\\x9c¨ç\\x94µè\\x84\\x91ä¸\\x8aæ\\x90\\x9cç´\\xa0 å\\x87ºæ\\x9d¥ç\\x9a\\x84é\\x83½æ\\x98¯ æ\\x98¯ä¸\\x8dæ\\x98¯æ²¡æ\\x9c\\x89å\\x85¶ä»\\x96ç\\x9a\\x84äº\\x86ï¼\\x9fæ\\x9c\\x89æ²¡æ\\x9c\\x89å¸¦æ\\x9c\\x89ç\\x9a\\x84ï¼\\x9fè¿\\x98æ\\x98¯è¯´ä»¥å\\x90\\x8eå\\x86\\x8då\\x87ºï¼\\x9f\\nç\\xad\\x94\\nç\\x9b®å\\x89\\x8dæ\\x9c\\x89ã\\x80\\x8aæ\\x80\\x9då\\x87¡ã\\x80\\x8bã\\x80\\x8aè¯±ã\\x80\\x8bå\\x92\\x8cã\\x80\\x8aå\\x8b\\x89å¼ºå¹¸ç¦\\x8fã\\x80\\x8b\\næ\\x9d¥è\\x87ªé\\x97®ç\\xad\\x94\\né\\x97®\\næ\\x9e\\x97å®¥å\\x98\\x89å¤§å°\\x8fè¯´å®¶æ\\x9c\\x88åº\\x95å\\x9c¨å\\x8c\\x97äº¬å\\x93ªé\\x87\\x8cç\\xad¾å\\x94®\\nç\\xad\\x94\\næ\\x9e\\x97å®¥å\\x98\\x89å\\x85¨æ\\x96°ä¸\\x93è¾\\x91ã\\x80\\x8aå¤§å°\\x8fè¯´å®¶ã\\x80\\x8bå\\x8c\\x97äº¬ç\\xad¾å\\x94®ä¼\\x9aï¼\\x8cæ\\x97¶é\\x97´ï¼\\x9aæ\\x9c\\x88æ\\x97¥ï¼\\x8cå\\x9c°ç\\x82¹ï¼\\x9aå\\x8c\\x97äº¬å¯\\x8cå\\x8a\\x9bå¹¿å\\x9cºï¼\\x8cä¸\\x93è¾\\x91ä»·æ\\xa0¼å\\x85\\x83ã\\x80\\x82\\næ\\x9d¥è\\x87ªç\\x99¾åº¦ç\\x9f¥é\\x81\\x93\\n\\næ\\x88\\x91ç\\x88±ç\\x9a\\x84äººæ\\x9e\\x97å®¥å\\x98\\x89\\næ\\x9c¬ç»\\x93æ\\x9e\\x9cé\\x80\\x89è\\x87ªé¡¹ç\\x9b¸å\\x85³ç½\\x91ç»\\x9cèµ\\x84æº\\x90\\né\\x97®\\næ\\x88\\x91ç\\x88±ç\\x9a\\x84äºº æ\\x9e\\x97å®¥å\\x98\\x89 ç\\x89\\x88æ\\x9d\\x83å½\\x92å±\\x9e\\nç\\xad\\x94\\nä½\\x86è¶\\x85çº§æ\\x98\\x9få\\x85\\x89å¤§é\\x81\\x93ä¸\\x80ç\\x8f\\xadæ\\x9c\\x89å\\x87ºä¸\\x80å¼\\xa0ä¸\\x93è¾\\x91ï¼\\x8cæ\\x97¢ç\\x84¶æ\\x9c\\x89å\\x87ºç\\x89\\x88ï¼\\x8cé\\x82£ä¹\\x88å®¥å\\x98\\x89ä¹\\x9fæ\\x98¯æ\\x9c\\x89ç\\x89\\x88æ\\x9d\\x83å\\x8f¯ä»¥å\\x94±ç\\x9a\\x84æ\\x88\\x91ç\\x88±ç\\x9a\\x84äººå\\x8e\\x9fç\\x89\\x88æ\\x98¯é\\x99\\x88å°\\x8fæ\\x98¥ï¼\\x8cé\\x87\\x8cé\\x9d¢æ\\x9c\\x89å®¥å\\x98\\x89ç¿»å\\x94±ç\\x9a\\x84æ\\x88\\x91ç\\x88±ç\\x9a\\x84äºº\\næ\\x9d¥è\\x87ªç\\x99¾åº¦ç\\x9f¥é\\x81\\x93\\né\\x97®\\nè·ªæ±\\x82æ\\x88\\x91ç\\x88±ç\\x9a\\x84äººï¼\\x88æ\\x9e\\x97å®¥å\\x98\\x89ï¼\\x89ç©ºé\\x97´æ\\xad\\x8cæ\\x9b²é\\x93¾æ\\x8e¥\\nç\\xad\\x94\\né\\x93¾æ\\x8e¥å·²å\\x8f\\x91é\\x80\\x81å\\x88°ä½\\xa0ç\\x9a\\x84ç\\x99¾åº¦ç§\\x81ä¿¡ä¸\\x8aç½\\x91é¡µå\\x8f³ä¸\\x8aè§\\x92ç\\x99¾åº¦ç§\\x81ä¿¡è¯·å\\x8f\\x8aæ\\x97¶æ\\x9f¥æ\\x94¶å\\x93¦æ»¡æ\\x84\\x8fè¯·é\\x87\\x87çº³å\\x93¦å\\x90\\x8cæ±\\x82èµ\\x84æº\\x90è\\x80\\x85å\\x85\\x88å\\x8e»ç\\x99¾åº¦æ\\x8f\\x90ä¸ªé\\x97®é¢\\x98ç\\x84¶å\\x90\\x8eæ\\x8a\\x8aé\\x97®é¢\\x98å\\x9c°å\\x9d\\x80å\\x8f\\x91å\\x88°æ\\x88\\x91ç\\x9a\\x84ç\\x99¾åº¦ç§\\x81ä¿¡ä¸\\x8aæ\\x88\\x91å°±ä¼\\x9aå\\x8e»å\\x9b\\x9eç\\xad\\x94å\\x95¦\\næ\\x9d¥è\\x87ªç\\x99¾åº¦ç\\x9f¥é\\x81\\x93\\né\\x97®\\næ\\x88\\x91ç\\x88±ç\\x9a\\x84äºº æ\\x9e\\x97å®¥å\\x98\\x89 ç©ºé\\x97´é\\x9f³ä¹\\x90é\\x93¾æ\\x8e¥\\nç\\xad\\x94\\næ\\x9e\\x97å®¥å\\x98\\x89 æ\\x88\\x91ç\\x88±ç\\x9a\\x84äººï¼\\x8cé\\x9f³ä¹\\x90é\\x93¾æ\\x8e¥å\\x9c°å\\x9d\\x80ï¼\\x88æ\\x9c¬äººå\\x9c¨ç©ºé\\x97´æµ\\x8bè¯\\x95å\\x8f¯ç\\x94¨ï¼\\x89è¯·é\\x87\\x87çº³ç\\xad\\x94æ¡\\x88ï¼\\x8cæ\\x94¯æ\\x8c\\x81æ\\x88\\x91ä¸\\x80ä¸\\x8bã\\x80\\x82\\næ\\x9d¥è\\x87ªç\\x99¾åº¦ç\\x9f¥é\\x81\\x93\\n\\næ\\x9e\\x97å®¥å\\x98\\x89æ¼\\x94å\\x94±ä¼\\x9a æ\\x97¶é\\x95¿\\næ\\x9c¬ç»\\x93æ\\x9e\\x9cé\\x80\\x89è\\x87ªé¡¹ç\\x9b¸å\\x85³ç½\\x91ç»\\x9cèµ\\x84æº\\x90\\næ\\x9e\\x97å®¥å\\x98\\x89ç\\x9a\\x84ç\\x8e°å\\x9cºæ¼\\x94å\\x94±ä¼\\x9aå\\x8c\\x85æ\\x8b¬ä¸¤å¤§ç³»å\\x88\\x97ï¼\\x9aå\\x87ºé\\x81\\x93æ\\x97©æ\\x9c\\x9få\\x92\\x8cæ\\xad\\x8cæ\\x89\\x8bå\\x91¨å®\\x9açº¬ã\\x80\\x81æ½\\x98è£\\x95æ\\x96\\x87ã\\x80\\x81è®¸ä»\\x81æ\\x9d°ç\\xad\\x89ä¸\\x80èµ·ä¸¾è¡\\x8cç\\x9a\\x84â\\x80\\x9cæ\\x98\\x9få\\x85\\x89å\\x90\\x8cå\\xad¦æ¼\\x94å\\x94±ä¼\\x9aâ\\x80\\x9dä¸\\x8eæ\\xa0¡å\\x9b\\xadæ¼\\x94å\\x94±ä¼\\x9aâ\\x80\\x9c\\xa0\\xa0â\\x80\\x9dä»¥å\\x8f\\x8aæ\\x9e\\x97å®¥å\\x98\\x89ä¸ªäººç\\x9a\\x84æ¼\\x94å\\x94±ä¼\\x9aâ\\x80\\x9cè¿·å®«å·¡å\\x9b\\x9eæ¼\\x94å\\x94±ä¼\\x9aâ\\x80\\x9dã\\x80\\x81â\\x80\\x9cæ\\x84\\x9få®\\x98ä¸\\x96ç\\x95\\x8cå·¡å\\x9b\\x9eé\\x9f³ä¹\\x90ä¼\\x9aâ\\x80\\x9dã\\x80\\x81â\\x80\\x9cç¥\\x9eæ¸¸å·¡å\\x9b\\x9eæ¼\\x94å\\x94±ä¼\\x9aâ\\x80\\x9dã\\x80\\x82å\\x85¶ä»\\x96é\\x87\\x8dè¦\\x81ä¸ªäººæ¼\\x94å\\x94±ä¼\\x9aæ\\x9c\\x89çº¢ç\\x89\\x9bä¸\\x8dæ\\x8f\\x92ç\\x94µé\\x9f³ä¹\\x90ä¼\\x9aå\\x8f\\x8aæ\\x9e\\x97å®¥å\\x98\\x89é\\x82\\x82é\\x80\\x85ç\\x88µå£«æ\\x85\\x88å\\x96\\x84é\\x9f³ä¹\\x90ä¼\\x9aç\\xad\\x89ï¼\\x8cå¹¶ä¸¤åº¦åº\\x94é\\x82\\x80äº\\x8eä¸½æ\\x98\\x9fé\\x82®è½®ä¸¾è¡\\x8cå°\\x8få\\x9e\\x8bä¸ªäººæ¼\\x94å\\x94±ä¼\\x9aã\\x80\\x82\\næ\\x98\\x9få\\x85\\x89å\\x90\\x8cå\\xad¦æ¼\\x94å\\x94±ä¼\\x9aç³»å\\x88\\x97\\n\\xa0å\\x8f°æ¹¾\\xa0å\\x8f°å\\x8c\\x97ï¼\\x88å\\x9b½ç«\\x8bå\\x8f°æ¹¾å¤§å\\xad¦ä½\\x93è\\x82²é¦\\x86ï¼\\x89\\n\\xa0é©¬æ\\x9d¥è¥¿äº\\x9a\\xa0äº\\x91é¡¶é«\\x98å\\x8e\\x9fï¼\\x88äº\\x91æ\\x98\\x9få\\x89§å\\x9cºï¼\\x89\\n\\xa0é¦\\x99æ¸¯ï¼\\x88ä¼\\x8aè\\x8e\\x89æ²\\x99ä¼¯ä½\\x93è\\x82²é¦\\x86ï¼\\x89ï¼\\x88å\\x8d\\x88ã\\x80\\x81æ\\x99\\x9aä¸¤å\\x9cºï¼\\x89\\n\\xa0\\xa0\\xa0æ\\xa0¡\\næ\\x9d¥è\\x87ªç\\x99¾åº¦ç\\x99¾ç§\\x91\\n\\næ\\x9e\\x97å®¥å\\x98\\x89 æ®\\x8bé\\x85·æ\\x9c\\x88å\\x85\\x89\\næ\\x9c¬ç»\\x93æ\\x9e\\x9cé\\x80\\x89è\\x87ªé¡¹ç\\x9b¸å\\x85³ç½\\x91ç»\\x9cèµ\\x84æº\\x90\\né\\x97®\\næ±\\x82æ\\x9e\\x97å®¥å\\x98\\x89æ®\\x8bé\\x85·æ\\x9c\\x88å\\x85\\x89 è¯´è°\\x8eé«\\x98é\\x9f³è´¨ç\\x89\\x88\\nç\\xad\\x94\\nä¸\\x8bè½½è\\x99¾ç±³é\\x9f³ä¹\\x90ï¼\\x8cé\\x87\\x8cé\\x9d¢æ\\x9c\\x89å\\x98\\x89å\\x93¥å¤§é\\x83¨å\\x88\\x86æ\\xad\\x8cï¼\\x8cç»\\x9då¯¹é«\\x98é\\x9f³è´¨\\næ\\x9d¥è\\x87ªç\\x99¾åº¦ç\\x9f¥é\\x81\\x93\\né\\x97®\\né\\x85·æ\\x88\\x91é\\x9f³ä¹\\x90ä¸ºä»\\x80ä¹\\x88æ²¡æ\\x9c\\x89æ\\x9e\\x97å®¥å\\x98\\x89æ®\\x8bé\\x85·æ\\x9c\\x88å\\x85\\x89\\nç\\xad\\x94\\né\\x85·æ\\x88\\x91æ\\x8a\\x8a æ\\x89\\x80æ\\x9c\\x89å\\x8d\\x8eç\\xa0\\x94é\\x9f³ä¹\\x90å\\x85¬å\\x8f¸æ\\x97\\x97ä¸\\x8bè\\x89ºäººç\\x9a\\x84æ\\xad\\x8c é\\x83½ä¸\\x8bçº¿äº\\x86 å\\x8e\\x9få\\x9b\\xa0æ\\x98¯ ç\\x89\\x88æ\\x9d\\x83é\\x97®é¢\\x98\\næ\\x9d¥è\\x87ªç\\x99¾åº¦ç\\x9f¥é\\x81\\x93\\né\\x97®\\nè°\\x81æ\\x9c\\x89è¿\\x99äº\\x9bæ\\xad\\x8cã\\x80\\x82æ\\xa0¼å¼\\x8fç\\x9a\\x84ã\\x80\\x82è¦\\x81å\\x8e\\x9fç\\x89\\x88ã\\x80\\x82ä¸\\x8dè¦\\x81ç\\x89\\x88æ\\x9c¬ç\\x9a\\x84ã\\x80\\x82æ\\x9e\\x97å®¥å\\x98\\x89æ®\\x8bé\\x85·æ\\x9c\\x88å\\x85\\x89ã\\x80\\x81äº\\x94æ\\x9c\\x88å¤©æ\\x98\\x9fç©ºã\\x80\\x81äº\\x94æ\\x9c\\x88å¤©çª\\x81ç\\x84¶\\nè°\\x81æ\\x9c\\x89è¿\\x99äº\\x9bæ\\xad\\x8cã\\x80\\x82æ\\xa0¼å¼\\x8fç\\x9a\\x84ã\\x80\\x82è¦\\x81å\\x8e\\x9fç\\x89\\x88ã\\x80\\x82ä¸\\x8dè¦\\x81ç\\x89\\x88æ\\x9c¬ç\\x9a\\x84ã\\x80\\x82æ\\x9e\\x97å®¥å\\x98\\x89æ®\\x8bé\\x85·æ\\x9c\\x88å\\x85\\x89ã\\x80\\x81äº\\x94æ\\x9c\\x88å¤©æ\\x98\\x9fç©ºã\\x80\\x81äº\\x94æ\\x9c\\x88å¤©çª\\x81ç\\x84¶å¥½æ\\x83³ä½\\xa0ã\\x80\\x81äº\\x94æ\\x9c\\x88å¤©æ\\x88\\x91ä¸\\x8dæ\\x84¿è®©ä½\\xa0ä¸\\x80ä¸ªäººã\\x80\\x81æ\\x9d¨å®\\x97çº¬è\\x83\\x8cå\\x8f\\x9bã\\x80\\x81å\\x85\\x89è\\x89¯ç«¥è¯\\x9dã\\x80\\x81æ¢\\x81é\\x9d\\x99è\\x8c¹æ\\x9a\\x96æ\\x9a\\x96ã\\x80\\x81æ¢\\x81é\\x9d\\x99è\\x8c¹å®\\x81å¤\\x8fã\\x80\\x81æ¢\\x81é\\x9d\\x99è\\x8c¹ä¼\\x9aå\\x91¼å\\x90¸ç\\x9a\\x84ç\\x97\\x9bã\\x80\\x82æ\\x8cºé\\x9a¾æ\\x89¾ç\\x9a\\x84ã\\x80\\x82\\nç\\xad\\x94\\næ\\x88\\x91æ\\x9c\\x89å\\x95\\x8aï¼\\x8cæ\\x88\\x91è\\x83½æ\\x89¾å\\x88°ã\\x80\\x82\\næ\\x9d¥è\\x87ªç\\x99¾åº¦ç\\x9f¥é\\x81\\x93\\n\\næ\\x9e\\x97å®¥å\\x98\\x89 ç¥\\x9eç§\\x98å\\x98\\x89å®¾\\næ\\x9c¬ç»\\x93æ\\x9e\\x9cé\\x80\\x89è\\x87ªé¡¹ç\\x9b¸å\\x85³ç½\\x91ç»\\x9cèµ\\x84æº\\x90\\né\\x97®\\næ\\x9e\\x97å®¥å\\x98\\x89ç¥\\x9eç§\\x98å\\x98\\x89å®¾é\\x87\\x8cç\\x9a\\x84é\\x82£ä¸ªå¥³ç\\x94\\x9fæ\\x98¯è°\\x81\\næ\\x9c\\x89æ²¡æ\\x9c\\x89å¥¹ç\\x9a\\x84å\\x85·ä½\\x93æ\\x9d\\x90æ\\x96\\x99å\\x90\\x97æ\\x88\\x91æ\\x98¯å¥³ç\\x94\\x9fç\\x84¶å\\x88\\x99æ\\x84\\x9få\\x88°å¥¹å¾\\x88æ¼\\x82äº®å¾\\x88ç\\x88±å¥½\\nç\\xad\\x94\\né\\x99\\x88å\\x8c¡æ\\x80¡ ä¸\\x8eå®¥å\\x98\\x89å\\x90\\x8cå¹´ç\\x9a\\x84å\\x8f°å¤§å¹´å¤\\x9cé«\\x98æ\\x9d\\x90ç\\x94\\x9få¥³ä¸»è§\\x92ä¸\\x8då\\x8fªå¤\\x96å\\x9e\\x8bè\\x84±ä¿\\x97æ°\\x94è´¨å\\x87ºä¼\\x97æ\\x9b´é\\x87\\x8dè¦\\x81ç\\x9a\\x84æ\\x98¯ä¸\\x80å¼\\xa0ã\\x80\\x8cè¶\\x85ç\\xad\\x89æ\\x98\\x8eæ\\x98\\x9fè\\x84¸ã\\x80\\x8dè®©å®¥å\\x98\\x89ä½©æ\\x9c\\x8dä¸\\x8då·²ï¼\\x9aã\\x80\\x8cå¥¹é\\x95¿ç\\x9a\\x84ä¼¼ä¹\\x8eæ\\x88\\x91å°\\x8fæ\\x97¶å\\x88»ç\\x9a\\x84å\\x81¶å\\x83\\x8få\\x91¨æ\\x85§æ\\x95\\x8få\\x96\\x94å¹¶ä¸\\x94ç\\x85§æ\\xa0·å\\x8f°å¤§å¹´å¤\\x9cç\\x9a\\x84é«\\x98æ\\x9d\\x90ç\\x94\\x9få\\x85¶å®\\x9eæ\\x98¯å¤ªå\\x8e\\x89å®³äº\\x86æ\\x88\\x91å¾\\x88ã\\x80\\x8eå°\\x8aæ\\x95¬ã\\x80\\x8få¥¹å\\x95\\x8aã\\x80\\x8dè¡¨é\\x9d¢ç¥\\x9eä¼¼å\\x91¨æ\\x85§æ\\x95\\x8fç\\x9a\\x84å¥³ä¸»è§\\x92æ\\x95¬ä¸\\x9aç²¾å\\x8a\\x9bä¹\\x9fæ\\x98¯ä¸\\x80æµ\\x81ã\\x80\\x82æ\\x9e\\x97å®¥å\\x98\\x89å½¢å®¹ï¼\\x9aã\\x80\\x8cæ\\x88\\x91ä»¬å\\x9c¨è\\x8d\\x89å\\x8e\\x9fä¸\\x8aæ\\x8b\\x8dæ\\x91\\x84æ\\x97¶å\\x88°å¤\\x84é\\x83½æ\\x98¯å°\\x8fè\\x99«æ\\x89\\x80æ\\x9c\\x89äººç\\x9a\\x84æ\\x89\\x8bä¸\\x8dæ\\x98¯å¿\\x99è\\x91\\x97æ\\x8c¥å\\x8a¨å°±æ\\x98¯ç\\x8c\\x9bæ\\x8a\\x93ç\\x97\\x92è\\x80\\x8cå¥³ä¸»è§\\x92ç©¿è\\x91\\x97æ½\\x87æ´\\x92ç\\x9a\\x84è£\\x99å\\xad\\x90è¹²å\\x9c¨è\\x8d\\x89ä¸\\x9bé\\x87\\x8cå\\x8d´ä¾\\x9dç\\x84¶ä¿\\x9dæ\\x8c\\x81è\\x91\\x97ç¬\\x91å®¹ä¸\\x80å\\x8f¥ç\\x89¢éª\\x9aä¹\\x9fæ²¡æ\\x9c\\x89ã\\x80\\x82å¥¹ç\\x9c\\x9fç\\x9a\\x84\\næ\\x9d¥è\\x87ªç\\x99¾åº¦ç\\x9f¥é\\x81\\x93\\né\\x97®\\næ\\x9e\\x97å®¥å\\x98\\x89ç¥\\x9eç§\\x98å\\x98\\x89å®¾é\\x87\\x8cé\\x82£ä¸ªé\\x94\\x80é\\xad\\x82ç\\x9a\\x84å¥³ä¸»è§\\x92å\\x8f«ä»\\x80ä¹\\x88å\\x90\\x8då\\xad\\x97\\nç\\xad\\x94\\né\\x99\\x88å\\x8c¡æ\\x80¡ å\\x8f\\x82è\\x80\\x83èµ\\x84æ\\x96\\x99 ä¸\\x8dä»\\x85å\\x9cºé\\x9d¢æµ©å¤§ä»¤æ\\x9e\\x97å®¥å\\x98\\x89èµ\\x9eå\\x8f¹ï¼\\x8cè¿\\x9eå¥³ä¸»è§\\x92é\\x83½è®©æ\\x9e\\x97å®¥å\\x98\\x89ã\\x80\\x8cæ\\x83\\x8aè\\x89³ã\\x80\\x8dä¸\\x8då·²ã\\x80\\x82ä¸\\x8eå®¥å\\x98\\x89å\\x90\\x8cå¹´ç\\x9a\\x84å\\x8f°å¤§é«\\x98æ\\x9d\\x90ç\\x94\\x9få¥³ä¸»è§\\x92ä¸\\x8dä½\\x86å¤\\x96å\\x9e\\x8bè\\x84±ä¿\\x97ï¼\\x8cæ°\\x94è´¨å\\x87ºä¼\\x97ï¼\\x8cæ\\x9b´é\\x87\\x8dè¦\\x81ç\\x9a\\x84æ\\x98¯ä¸\\x80å¼\\xa0ã\\x80\\x8cè¶\\x85çº§æ\\x98\\x8eæ\\x98\\x9fè\\x84¸ã\\x80\\x8dè®©å®¥å\\x98\\x89ä½©æ\\x9c\\x8dä¸\\x8då·²ï¼\\x9aã\\x80\\x8cå¥¹é\\x95¿ç\\x9a\\x84å¥½å\\x83\\x8fæ\\x88\\x91å°\\x8fæ\\x97¶å\\x80\\x99ç\\x9a\\x84å\\x81¶å\\x83\\x8få\\x91¨æ\\x85§æ\\x95\\x8få\\x96\\x94ï¼\\x8cè\\x80\\x8cä¸\\x94è¿\\x98æ\\x98¯å\\x8f°å¤§ç\\x9a\\x84é«\\x98æ\\x9d\\x90ç\\x94\\x9fï¼\\x8cå®\\x9eå\\x9c¨æ\\x98¯å¤ªå\\x8e\\x89å®³äº\\x86ï¼\\x8cæ\\x88\\x91å¾\\x88ã\\x80\\x8eå°\\x8aæ\\x95¬ã\\x80\\x8få¥¹ï¼\\x81ã\\x80\\x8då¤\\x96è²\\x8cç¥\\x9eä¼¼å\\x91¨æ\\x85§æ\\x95\\x8fç\\x9a\\x84å¥³ä¸»è§\\x92æ\\x95¬ä¸\\x9aç²¾ç¥\\x9eä¹\\x9fæ\\x98¯ä¸\\x80æµ\\x81ã\\x80\\x82æ\\x9e\\x97å®¥å\\x98\\x89å½¢å®¹ï¼\\x9aã\\x80\\x8cæ\\x88\\x91ä»¬å\\x9c¨è\\x8d\\x89å\\x8e\\x9fä¸\\x8aæ\\x8b\\x8dæ\\x91\\x84æ\\x97¶ï¼\\x8cå\\x88°å¤\\x84é\\x83½æ\\x98¯å°\\x8fè\\x99«ï¼\\x8cæ\\x89\\x80æ\\x9c\\x89äººç\\x9a\\x84æ\\x89\\x8bä¸\\x8dæ\\x98¯å¿\\x99è\\x91\\x97\\næ\\x9d¥è\\x87ªç\\x99¾åº¦ç\\x9f¥é\\x81\\x93\\né\\x97®\\næ±\\x82æ\\x9e\\x97å®¥å\\x98\\x89ã\\x80\\x8aç¥\\x9eç§\\x98å\\x98\\x89å®¾ã\\x80\\x8bé\\x95¿æ\\x9c\\x9fæ\\x9c\\x89æ\\x95\\x88ç\\x9a\\x84é\\x93¾æ\\x8e¥å\\x9c°å\\x9d\\x80\\nç\\xad\\x94\\næ\\x9e\\x97å®¥å\\x98\\x89  ç¥\\x9eç§\\x98å\\x98\\x89å®¾äº²ï¼\\x8cæ\\xad\\x8cæ\\x9b²é\\x93¾æ\\x8e¥å·²ç\\x99¾åº¦ä½\\xa0ï¼\\x8cè¯·ç\\x95\\x99æ\\x84\\x8få\\x8f³ä¸\\x8aè§\\x92å\\x9b¾æ\\xa0\\x87æ\\x8f\\x90ç¤ºï¼\\x8cæ\\x9c\\x89ç\\x96\\x91é\\x97®æ¬¢è¿\\x8eè¿½é\\x97®ï¼\\x8cè\\x8b¥æ²¡æ\\x94¶å\\x88°è¯·ç\\x95\\x99ä¸\\x8bè\\x81\\x94ç³»é\\x82®ç®±ï¼\\x8cå¥½å\\x8f\\x91æ\\xad\\x8cé\\x93¾ç»\\x99ä½\\xa0ï¼\\x8cæ»¡æ\\x84\\x8fè¯·é\\x87\\x87è®¢é¸¡æ\\x96¥è¯¾ä¿ªé\\x85\\x92ç\\xad¹æ\\x97¬è\\x88¹è\\x8e«çº³å\\x9b\\x9eç\\xad\\x94ï¼\\x8cè°¢è°¢ã\\x80\\x82å\\x85¶å®\\x83è¦\\x81é\\x93¾æ\\x8e¥ç\\x9a\\x84äº²ï¼\\x8cå\\x8f¯å\\x9c¨æ\\x88\\x91å¤´å\\x83\\x8fä¸\\x8bç\\x82¹å\\x87»ã\\x80\\x90æ±\\x82å\\x8a©ç\\x9f¥å\\x8f\\x8bã\\x80\\x91ï¼\\x8cç\\x95\\x99æ\\xad\\x8cå\\x90\\x8dæ\\xad\\x8cæ\\x89\\x8bé\\x82®ç®±\\næ\\x9d¥è\\x87ªç\\x99¾åº¦ç\\x9f¥é\\x81\\x93\\n\\næ\\x9e\\x97å®¥å\\x98\\x89 æ\\x83³è\\x87ªç\\x94±\\næ\\x9c¬ç»\\x93æ\\x9e\\x9cé\\x80\\x89è\\x87ªé¡¹ç\\x9b¸å\\x85³ç½\\x91ç»\\x9cèµ\\x84æº\\x90\\né\\x97®\\nè·ªæ±\\x82æ\\x9e\\x97å®¥å\\x98\\x89ã\\x80\\x8aæ\\x83³è\\x87ªç\\x94±ã\\x80\\x8bï¼\\x81æ\\x9b´ä¸ºå¤§ç¥\\x9eæ\\x8b\\x9cæ\\x89\\x98å\\x95¦æ\\x8a¥é\\x85¬å\\x86³ä¸\\x8dè®©ä½\\xa0å¤±æ\\x9c\\x9bï¼\\x81\\nå¦\\x82é¢\\x98æ\\x89\\x80è¿°\\nç\\xad\\x94\\n\\næ\\x9d¥è\\x87ªç\\x99¾åº¦ç\\x9f¥é\\x81\\x93\\né\\x97®\\næ\\x9e\\x97å®¥å\\x98\\x89ã\\x80\\x8aæ\\x83³è\\x87ªç\\x94±ã\\x80\\x8bã\\x80\\x8aè\\x87ªç\\x84¶é\\x86\\x92ã\\x80\\x8bæ\\xa0¼å¼\\x8fç\\x9a\\x84é\\x93¾æ\\x8e¥ã\\x80\\x82å\\x8f¯ä»¥å½\\x93ç©ºé\\x97´è\\x83\\x8cæ\\x99¯é\\x9f³ä¹\\x90ç\\x9a\\x84ã\\x80\\x82\\nå\\x8fªè¦\\x81æµ\\x81ç\\x95\\x85å°±è¡\\x8c\\nç\\xad\\x94\\næ\\x9e\\x97å®¥å\\x98\\x89ã\\x80\\x8aæ\\x83³è\\x87ªç\\x94±ã\\x80\\x8bã\\x80\\x8aè\\x87ªç\\x84¶é\\x86\\x92ã\\x80\\x8bç©ºé\\x97´é\\x93¾æ\\x8e¥å¦\\x82æ\\x9e\\x9cä¸\\x8då¥½æ\\x89¾å°±è\\x87ªå·±å\\x81\\x9aå\\x90§ï¼\\x81ç»\\x99ä½\\xa0ä¸ªä¸\\x80å\\x8a³æ°¸é\\x80¸ æ°¸ä¹\\x85ç»¿é\\x92»ç\\x9a\\x84 è§£å\\x86³æ\\x96¹æ³\\x95å\\x90§ä¸\\x8bè½½é\\x9c\\x80è¦\\x81ç\\x9a\\x84æ\\xad\\x8cæ\\x9b²ç\\x99¾åº¦ é\\x85·ç\\x89\\x9bç½\\x91ç\\x9b\\x98 ï¼\\x8cä¸\\x8aä¼\\xa0å\\x88°ç½\\x91ç\\x9b\\x98è\\x87ªå\\x8a¨å½¢æ\\x88\\x90æ\\xad\\x8cæ\\x9b²é\\x93¾æ\\x8e¥å¤\\x8då\\x88¶é\\x93¾æ\\x8e¥å\\x88°ç©ºé\\x97´å\\x8d³å\\x8f¯ã\\x80\\x90æ\\x88\\x91æ\\x9c¬å\\x86\\x9bå\\x9b¢ã\\x80\\x91\\næ\\x9d¥è\\x87ªç\\x99¾åº¦ç\\x9f¥é\\x81\\x93\\né\\x97®\\næ\\x9e\\x97å®¥å\\x98\\x89 æ\\x83³è\\x87ªç\\x94±æ\\xad\\x8cè¯\\x8dç¬¬ä¸\\x80å\\x8f¥æ\\x98¯ä»\\x80ä¹\\x88\\nå¦\\x82é¢\\x98\\nç\\xad\\x94\\næ¯\\x8fä¸ªäººé\\x83½ç¼ºä¹\\x8fä»\\x80ä¹\\x88ï¼\\x8cæ\\x88\\x91ä»¬æ\\x89\\x8dä¼\\x9aç\\x9e¬é\\x97´å°±ä¸\\x8då¿«ä¹\\x90ï¼\\x88æ\\x9c\\x9bé\\x87\\x87çº³ï¼\\x89\\næ\\x9d¥è\\x87ªç\\x99¾åº¦ç\\x9f¥é\\x81\\x93\\n\\næ\\x9e\\x97å®¥å\\x98\\x89  å\\x96\\x9cå¥½\\nå\\x96\\x9cç\\x88±ç\\x9a\\x84æ\\x9c\\x80æ\\x83³å\\x90\\x88ä½\\x9cç\\x9a\\x84æ\\xad\\x8cæ\\x89\\x8bï¼\\x9aé\\x99\\x88å¥\\x95è¿\\x85ã\\x80\\x81é\\x99\\x88ç»®è´\\x9e\\nå\\x96\\x9cç\\x88±ç\\x9a\\x84é\\x9f³ä¹\\x90ï¼\\x9aé\\x99¤äº\\x86ç\\x9a\\x84å\\x90\\x84ç±»å\\x9e\\x8bç\\x9a\\x84é\\x9f³ä¹\\x90ï¼\\x8cå\\x8c\\x85æ\\x8b¬å\\x86·é\\x97¨æ\\xad\\x8c\\nå¹³å¸¸ç\\x9a\\x84å\\x97\\x9cå¥½ï¼\\x9aå\\x90\\x83å¥½å\\x90\\x83ç\\x9a\\x84ï¼\\x8cå\\x94±æ\\xad\\x8cï¼\\x8cæ\\x89\\x93ç¯®ç\\x90\\x83\\nå\\x96\\x9cæ¬¢ç\\x9a\\x84é¢\\x9cè\\x89²ï¼\\x9aä¼¼è\\x93\\x9dä¼¼ç»¿ç\\x9a\\x84é¢\\x9cè\\x89²\\næ\\x9c\\x80æ\\x83³å\\x81\\x9aç\\x9a\\x84äº\\x8bï¼\\x9aå\\x94±æ\\xad\\x8cç»\\x99å\\x85¨ä¸\\x96ç\\x95\\x8cå\\x90¬\\nå®¶äººç\\x88¶äº²ã\\x80\\x81æ¯\\x8däº²ã\\x80\\x81ä¸\\x80å¼\\x9fä¸\\x80å¦¹\\næ\\x89\\x80å±\\x9eå\\x85¬å\\x8f¸ï¼\\x9aå\\x8d\\x8eç\\xa0\\x94å\\x9b½é\\x99\\x85é\\x9f³ä¹\\x90ï¼\\x88å\\x85¨çº¦â\\x80\\x94æ\\x88ªæ\\xad¢å¹´æ\\x9c\\x88ï¼\\x89\\nå¤§é\\x99\\x86å\\x94±ç\\x89\\x87å\\x85¬å\\x8f¸ï¼\\x9a é\\x87\\x91ç\\x89\\x8cå¤§é£\\x8e\\næ\\x9d¥è\\x87ªç\\x99¾åº¦ç\\x99¾ç§\\x91\\n\\næ\\x9e\\x97å®¥å\\x98\\x89  ä¸ªäººç»\\x8få\\x8e\\x86\\né\\x97®\\næ\\x97©å¹´ç\\x94\\x9fæ¶¯\\næ\\x9e\\x97å®¥å\\x98\\x89å\\x9c¨å¹´æ\\x9c\\x88æ\\x97¥å\\x87ºç\\x94\\x9fï¼\\x8cå\\x8e\\x9få±\\x85å\\x8f°æ¹¾å±\\x8fä¸\\x9cæ½®å·\\x9eé\\x95\\x87ï¼\\x8cæ\\x98¯å®¶ä¸\\xadé\\x95¿å\\xad\\x90ï¼\\x8cæ\\x9c\\x89ä¸\\x80å¼\\x9fä¸\\x80å¦¹ï¼\\x8cå®¶é\\x87\\x8cç»\\x8fè\\x90¥å»ºæ\\x9d\\x90ç\\x94\\x9fæ\\x84\\x8fã\\x80\\x82æ\\x9e\\x97å®¥å\\x98\\x89è\\x87ªå°\\x8fæ\\x88\\x90ç»©ä¸\\x8dé\\x94\\x99ï¼\\x8cè\\x80\\x83ä¸\\x8aå\\x87¤å±±é«\\x98ä¸\\xadå\\x90\\x8eæ\\x90¬å\\x88°é«\\x98é\\x9b\\x84å±\\x85ä½\\x8fï¼\\x8cé«\\x98ä¸\\xadæ¯\\x95ä¸\\x9aå\\x90\\x8eå°±è¯»äº\\x8eè\\x8a±è\\x8e²ç\\x9a\\x84ä¸\\x9cå\\x8d\\x8eå¤§å\\xad¦è¿\\x90å\\x8a¨ä¸\\x8eä¼\\x91é\\x97²å\\xad¦ç³»ã\\x80\\x82\\næ\\x9d¥è\\x87ªç\\x99¾åº¦ç\\x99¾ç§\\x91\\né\\x97®\\næ\\xa0¡å\\x9b\\xadä¹\\x90å\\x9b¢æ\\x97¶æ\\x9c\\x9fï¼\\x88å¹´â\\x80\\x93å¹´æ\\x9c\\x88ï¼\\x89\\næ\\x9e\\x97å®¥å\\x98\\x89è\\x87ªå°\\x8få±\\x95ç\\x8e°æ\\xad\\x8cå\\x94±å¤©ä»½ï¼\\x8cä»\\x96æ\\x8e¥å\\x8f\\x97ã\\x80\\x8aå£¹å\\x91¨å\\x88\\x8aã\\x80\\x8bä¸\\x93è®¿æ\\x97¶è¡¨ç¤ºï¼\\x8cé\\x99¶å\\x96\\x86æ\\x98¯å\\x90¯è\\x92\\x99ä»\\x96é\\x9f³ä¹\\x90ç\\x9a\\x84é\\x87\\x8dè¦\\x81æ\\xad\\x8cæ\\x89\\x8bã\\x80\\x82é«\\x98ä¸\\xadæ\\x97¶æ\\x9e\\x97å®¥å\\x98\\x89ä¸ºæ\\xa0¡å\\x86\\x85ç\\x83\\xadé\\x97¨ä¹\\x90å\\x9b¢ç\\x9a\\x84ä¸»å\\x94±ï¼\\x8cå½\\x93æ\\x97¶æ\\x9b¾ç»\\x8fæ\\x8e¥å\\x8f\\x97è¿\\x87å®\\x9eå\\x8a\\x9bæ´¾æ\\xad\\x8cæ\\x89\\x8bæ\\x9d¨å\\x9f¹å®\\x89å\\x85³äº\\x8eæ\\x91\\x87æ»\\x9aé\\x9f³ä¹\\x90æ\\x96¹é\\x9d¢ç\\x9a\\x84æ\\x8c\\x87å¯¼ï¼\\x8cæ\\x9d¨å\\x9f¹å®\\x89å¯¹å¹´å°\\x91ç\\x9a\\x84æ\\x9e\\x97å®¥å\\x98\\x89å\\x9c¨æ\\x96¹é\\x9d¢å±\\x95é\\x9c²ç\\x9a\\x84å¤©ä»½ç\\x95\\x99ä¸\\x8bäº\\x86æ·±å\\x88»ç\\x9a\\x84å\\x8d°è±¡ã\\x80\\x82æ\\x9e\\x97å®¥å\\x98\\x89ä¸\\x8aå¤§å\\xad¦ä¹\\x8bå\\x90\\x8eä»\\x8dç»§ç»\\xadå\\x9c¨æ\\xa0¡ç»\\x84å\\x9b¢ç»\\x83å\\x94±ï¼\\x8cå¹¶å\\x9c¨æ\\xa0¡å\\x86\\x85æ\\x8b¥æ\\x9c\\x89ä¸\\x8då°\\x8fç\\x9f¥å\\x90\\x8dåº¦ï¼\\x8cå\\x90\\x8eæ\\x9d¥å\\x9b\\xa0ä¸ºæ\\x83³è¦\\x81å¯»æ±\\x82é\\x9f³ä¹\\x90ä¸\\x8aç\\x9a\\x84çª\\x81ç\\xa0´è\\x80\\x8cé\\x80\\x80å\\x87ºä¹\\x90å\\x9b¢ï¼\\x8cè½¬å¾\\x80è\\x8a±è\\x8e²å½\\x93å\\x9c°ç\\x9a\\x84é¤\\x90å\\x8e\\x85æ\\x8b\\x85ä»»é©»å\\x94±æ\\xad\\x8cæ\\x89\\x8bã\\x80\\x82ä¸\\x8dè¿\\x87è¿\\x99æ®µé©»å\\x94±ç\\x94\\x9fæ¶¯ä»\\x85ç»´æ\\x8c\\x81ä¸¤ä¸ªæ\\x9c\\x88ï¼\\x8cå°±å\\x9b\\xa0ä¸ºé¤\\x90å\\x8e\\x85å¤±ç\\x81«å\\x81\\x9cæ\\xad¢è\\x90¥ä¸\\x9aè\\x80\\x8cè¢«è¿«ä¸\\xadæ\\xad¢ã\\x80\\x82å\\x9c¨å¹´æ\\x9c\\x88äº\\x8eé«\\x98é\\x9b\\x84å\\x8f\\x82å\\x8a\\xa0ç¬¬ä¸\\x80å±\\x8aã\\x80\\x8aè¶\\x85çº§æ\\x98\\x9få\\x85\\x89å¤§é\\x81\\x93ã\\x80\\x8bå\\x88\\x86å\\x8cºå\\x88\\x9dé\\x80\\x89ä¹\\x8bå\\x89\\x8dï¼\\x8cæ\\x9e\\x97å®¥å\\x98\\x89æ²¡æ\\x9c\\x89ä»¥ä¸ªäººèº«å\\x88\\x86å\\x8f\\x82å\\x8a\\xa0è¿\\x87æ\\xad£å¼\\x8fç\\x9a\\x84æ\\xad\\x8cå\\x94±æ¯\\x94èµ\\x9bã\\x80\\x82\\næ\\x9d¥è\\x87ªç\\x99¾åº¦ç\\x99¾ç§\\x91\\né\\x97®\\nè¶\\x85çº§æ\\x98\\x9få\\x85\\x89å¤§é\\x81\\x93ï¼\\x88å¹´æ\\x9c\\x88â\\x80\\x93å¹´æ\\x9c\\x88ï¼\\x89\\næ\\x9e\\x97å®¥å\\x98\\x89å\\x9c¨ç¬¬ä¸\\x80å±\\x8aã\\x80\\x8aè¶\\x85çº§æ\\x98\\x9få\\x85\\x89å¤§é\\x81\\x93ã\\x80\\x8bå\\x8f\\x82èµ\\x9bå\\x88\\x9dæ\\x9c\\x9få¹¶ä¸\\x8då\\x8f\\x97é\\x87\\x8dè§\\x86ã\\x80\\x82å\\x9c¨å¹´æ\\x9c\\x88æ\\x97¥æ\\x92\\xadå\\x87ºç\\x9a\\x84æ·\\x98æ±°èµ\\x9bä¸\\xadï¼\\x8cä»\\x96ä»¥æ\\x9e\\x81å\\x85·ä¸ªäººé£\\x8eæ\\xa0¼ç\\x9a\\x84æ\\x96¹å¼\\x8fï¼\\x8cæ¼\\x94å\\x94±äº\\x86æ\\x9d\\x8eæ³\\x89ç\\x9a\\x84ã\\x80\\x8aèµ°é\\x92¢ç´¢ç\\x9a\\x84äººã\\x80\\x8bè®©è¯\\x84å®¡æ\\x83\\x8aè\\x89³ï¼\\x8cä¸»æ\\x8c\\x81äººé\\x99¶æ\\x99¶è\\x8e¹ä»¥â\\x80\\x9cè¿·å¹»â\\x80\\x9dæ\\x9d¥å½¢å®¹æ\\x9e\\x97å®¥å\\x98\\x89æ¼\\x94å\\x94±æ\\xad¤æ\\x9b²æ\\x97¶é«\\x98è¾¨è¯\\x86åº¦ç\\x9a\\x84å\\x97\\x93é\\x9f³å\\x92\\x8cæ\\x8a\\x95å\\x85¥ç\\x9a\\x84ç¥\\x9eæ\\x83\\x85ï¼\\x8cè¿\\x99æ\\x98¯ä»\\x96é¦\\x96æ¬¡å\\x8f\\x97å\\x88°å¹¿æ³\\x9bç\\x9a\\x84æ³¨æ\\x84\\x8fã\\x80\\x82æ\\x8e¥ä¸\\x8bæ\\x9d¥ç\\x9a\\x84ã\\x80\\x8a\\xa0\\xa0\\xa0\\xa0\\xa0ã\\x80\\x8bã\\x80\\x81\\xa0ã\\x80\\x8aä½\\xa0å¿«ä¹\\x90æ\\x89\\x80ä»¥æ\\x88\\x91å¿«ä¹\\x90ã\\x80\\x8bã\\x80\\x81ã\\x80\\x8aæ¢\\x81å±±ä¼¯ä¸\\x8eè\\x8c±ä¸½å\\x8f¶ã\\x80\\x8bå\\x92\\x8cã\\x80\\x8aæ\\x89\\x93å¼\\x80ç\\x88±ã\\x80\\x8bä¹\\x9fé\\x83½æ\\x9c\\x89æ\\x9e\\x81ä½³ç\\x9a\\x84è¡¨ç\\x8e°ã\\x80\\x82è\\x99½ç\\x84¶å\\x9b\\xa0ä¸ºå\\x8f\\x98æ\\x88\\x90å¥½å\\x8f\\x8bç\\x9a\\x84é\\x80\\x89æ\\x89\\x8bä»¬çº·çº·è¢«è\\x8a\\x82ç\\x9b®æ·\\x98æ±°ï¼\\x8cè¿\\x99æ\\xa0·ç\\x9a\\x84æ·\\x98æ±°èµ\\x9bå\\x88¶æ\\x9b¾è®©ä»\\x96ä¸\\x80åº¦è\\x90\\x8cç\\x94\\x9fé\\x80\\x80æ\\x84\\x8fï¼\\x8cä½\\x86æ\\x98¯å\\x9c¨è´¥é\\x83¨æ·\\x98æ±°èµ\\x9bè\\x83\\x9cå\\x87ºå\\x90\\x8eï¼\\x8cä¸\\x8eè\\x89ºäººé»\\x84å¤§ç\\x82\\x9cå\\x90\\x88å\\x94±ã\\x80\\x8aä½\\xa0æ\\x8a\\x8aæ\\x88\\x91ç\\x81\\x8cé\\x86\\x89ã\\x80\\x8bï¼\\x8cè®©ä»\\x96æ\\x9b´ç¡®å®\\x9aäº\\x86æ\\x83³è¦\\x81å\\x94±æ\\xad\\x8cç»\\x99æ\\x89\\x80æ\\x9c\\x89äººå\\x90¬ç\\x9a\\x84ä¿¡å¿µï¼\\x8cå¹¶å\\x88\\x9bä¸\\x8bäº\\x86æ\\xad£å¼\\x8fæ¯\\x94èµ\\x9bä¹\\x9dåº¦ï¼\\x88ä¸\\x80å\\x85±å\\x8d\\x81ä¸\\x80é¦\\x96æ\\x9b²å\\xad\\x90ï¼\\x89æ»¡å\\x88\\x86ï¼\\x88å\\x88\\x86æ\\x88\\x96ä»¥ä¸\\x8aï¼\\x89ç\\x9a\\x84ç©ºå\\x89\\x8dçºªå½\\x95ã\\x80\\x82ä»\\x96æ\\x98¯å\\x94¯ä¸\\x80å\\x9c¨è¸¢é¦\\x86èµ\\x9bç¨\\x8bä¸\\xadä¿\\x9dæ\\x8c\\x81å\\x85¨è\\x83\\x9cçºªå½\\x95ã\\x80\\x81æ»¡å\\x88\\x86æ¬¡æ\\x95°æ\\x9c\\x80å¤\\x9aã\\x80\\x81ç§¯å\\x88\\x86æ\\x9c\\x80é«\\x98ç\\x9a\\x84é\\x80\\x89æ\\x89\\x8bã\\x80\\x82\\nå\\x9c¨å¹´æ\\x9c\\x88æ\\x97¥ç\\x8e°å\\x9cºç\\x9b´æ\\x92\\xadç\\x9a\\x84æ\\x80»å\\x86³èµ\\x9bä¸\\xadï¼\\x8cæ\\x9e\\x97å®¥å\\x98\\x89æ¼\\x94å\\x94±äº\\x86è\\x8b±å\\x9b½æ\\x91\\x87æ»\\x9aä¹\\x90å\\x9b¢ç\\x9a\\x84æ\\x88\\x90å\\x90\\x8dä½\\x9cã\\x80\\x8aã\\x80\\x8b ï¼\\x8cå®£ç¤ºä»\\x96ç\\x9a\\x84é\\x9f³ä¹\\x90æ\\x80\\x81åº¦ã\\x80\\x82ä¼\\x98å¼\\x82ç\\x9a\\x84æ¼\\x94å\\x94±æ\\x8a\\x80å·§å\\x92\\x8cæ·±å\\x88»ç\\x9a\\x84é\\x9f³ä¹\\x90å\\x86\\x85æ¶µè\\x8e·å¾\\x97è¯\\x84å®¡æ\\x9e\\x81é«\\x98è¯\\x84ä»·ï¼\\x8cè®©ä»\\x96æ\\x8b¿ä¸\\x8bäº\\x86å\\x88\\x86æ»¡å\\x88\\x86ï¼\\x8cæ\\x9b´é¡ºå\\x88©å¤ºå¾\\x97å\\x86\\xa0å\\x86\\x9bå¤´è¡\\x94ã\\x80\\x82\\xa0è¿\\x99ä¸\\x8dä»\\x85æ\\x98¯ä»\\x96ç»§æ¼\\x94å\\x94±ã\\x80\\x8aä½\\xa0æ\\x98¯æ\\x88\\x91ç\\x9a\\x84ç\\x9c¼ã\\x80\\x8bæ\\x8b¿ä¸\\x8bå\\x88\\x86æ»¡å\\x88\\x86ä¹\\x8bå\\x90\\x8eå\\x86\\x8dæ¬¡æ\\x8b¿å\\x88°æ»¡å\\x88\\x86ï¼\\x8cä¹\\x9fæ\\x98¯ã\\x80\\x8aè¶\\x85çº§æ\\x98\\x9få\\x85\\x89å¤§é\\x81\\x93ã\\x80\\x8bå¼\\x80èµ\\x9bä»¥æ\\x9d¥ï¼\\x8cæ\\xad£å¼\\x8få\\x8f\\x82èµ\\x9bè\\x80\\x85å½\\x93ä¸\\xadç¬¬ä¸\\x80ä½\\x8dè\\x8e·å¾\\x97ä¸¤æ¬¡å\\x88\\x86æ»¡å\\x88\\x86ç\\x9a\\x84å\\x8f\\x82èµ\\x9bè\\x80\\x85ã\\x80\\x82\\næ\\x9d¥è\\x87ªç\\x99¾åº¦ç\\x99¾ç§\\x91\\n\\næ\\x9e\\x97å®¥å\\x98\\x89  é\\x9f³ä¹\\x90é£\\x8eæ\\xa0¼\\næ\\x9e\\x97å®¥å\\x98\\x89å\\x85·æ\\x9c\\x89è¾¨è¯\\x86åº¦æ\\x9e\\x81é«\\x98ç\\x9a\\x84é\\x9f³è\\x89²å\\x92\\x8cå®½é\\x98\\x94ç\\x9a\\x84é\\x9f³å\\x9f\\x9fï¼\\x8cæ\\xa0¹æ\\x8d®ç\\x83\\xadå¿\\x83æ\\xad\\x8cè¿·ç\\x9a\\x84æµ\\x8bè¯\\x95ï¼\\x8cä»\\x96ç\\x9a\\x84é\\x9f³å\\x9f\\x9fé\\x98\\x94è¾¾äº\\x8cå\\x8d\\x81ä¸\\x89åº¦ã\\x80\\x82é\\x99¤äº\\x86ç\\x88\\x86å\\x8f\\x91å\\x8a\\x9bå\\x8d\\x81è¶³ç\\x9a\\x84é«\\x98é\\x9f³å\\x9f\\x9fï¼\\x8cä»\\x96ä¸°æ»¡é\\x86\\x87å\\x8e\\x9aç\\x9a\\x84ä½\\x8eé\\x9f³æ\\x9b´å\\x8f\\x97å\\x88°ç\\x9f¥å\\x90\\x8dé\\x9f³ä¹\\x90äººå¼\\xa0å®\\x87å\\x92\\x8cé»\\x84é\\x9fµç\\x8e²ç\\x9a\\x84å¤§å\\x8a\\x9bèµ\\x9eèµ\\x8fã\\x80\\x82æ\\x9e\\x97å®¥å\\x98\\x89ä¹\\x9fæ\\x8b¥æ\\x9c\\x89ä¼\\x98ç§\\x80ç\\x9a\\x84æ\\xad\\x8cå\\x94±æ\\x8a\\x80å·§ï¼\\x8cä¸\\x8dç®¡æ\\x98¯æ°\\x94é\\x9f³è¿\\x98æ\\x98¯è½¬é\\x9f³ã\\x80\\x81å\\x81\\x87é\\x9f³ï¼\\x8cä»\\x96é\\x83½è\\x83½æ\\x8e\\x8cæ\\x8e§è\\x87ªå¦\\x82ã\\x80\\x82é\\x99¤æ\\xad¤ä¹\\x8bå¤\\x96ï¼\\x8cæ¼\\x94å\\x94±æ\\x97¶æ\\x8a\\x95å\\x85¥ç\\x9a\\x84è¡¨æ\\x83\\x85å\\x92\\x8cæ\\x97¥æ¸\\x90å\\x9c\\x86ç\\x86\\x9fä¸°å¯\\x8cç\\x9a\\x84è\\x82¢ä½\\x93è¯\\xadè¨\\x80ï¼\\x8cä¹\\x9fæ\\x88\\x90ä¸ºä»\\x96ç\\x8b¬ç\\x89¹è\\x88\\x9eå\\x8f°é\\xad\\x85å\\x8a\\x9bç\\x9a\\x84ä¸\\x80é\\x83¨å\\x88\\x86ã\\x80\\x82\\nè¿\\x99æ\\xa0·ä¼\\x98å¼\\x82ç\\x9a\\x84å\\x85\\x88å¤©å\\x92\\x8cå\\x90\\x8eå¤©æ\\x9d¡ä»¶ï¼\\x8cå\\x8f\\x8dæ\\x98\\xa0å\\x87ºæ\\x9d¥ç\\x9a\\x84æ\\x98¯ä»\\x96å¤\\x9aæ\\xa0·å\\x8c\\x96ç\\x9a\\x84æ\\x9b²é£\\x8eå\\x92\\x8cå®½å¹¿ç\\x9a\\x84æ\\x9b²ç\\x9b®ã\\x80\\x82æ\\x9e\\x97å®¥å\\x98\\x89æ\\x8e¥è§¦ç\\x9a\\x84é\\x9f³ä¹\\x90ç§\\x8dç±»é\\x9d\\x9eå¸¸å¹¿æ³\\x9bï¼\\x8cå\\x8c\\x85å\\x90«å\\x8d\\x8eè¯\\xadå\\x92\\x8cè\\x8b±æ\\x97¥è¯\\xadç\\x9a\\x84æµ\\x81è¡\\x8cé\\x9f³ä¹\\x90ï¼\\x8cæ\\x9b´å\\x8c\\x85æ\\x8b¬è®¸å¤\\x9aå\\x9c°ä¸\\x8bå\\x92\\x8cé\\x9d\\x9eä¸»æµ\\x81è·¯çº¿ç\\x9a\\x84ä½\\x9cå\\x93\\x81ã\\x80\\x82å\\x9c¨æ¯\\x94èµ\\x9bæ\\x9c\\x9fé\\x97´ï¼\\x8cä»\\x96æ\\x9c\\x80å\\x8f\\x97å\\x88°è¯\\x84å®¡é«\\x98åº¦èµ\\x9eèª\\x89ç\\x9a\\x84æ\\x98¯å\\x85¶ç\\x8b¬ç\\x89¹ç\\x9a\\x84é\\x80\\x89æ\\xad\\x8cå\\x93\\x81å\\x91³å\\x92\\x8cæ\\x9e\\x81å\\x85·ä¸ªäººç\\x89¹è\\x89²ç\\x9a\\x84è¯\\xa0é\\x87\\x8aï¼\\x8cä¸¾å\\x87¡æ\\x9d\\x8eæ³\\x89ç\\x9a\\x84ã\\x80\\x8aèµ°é\\x92¢ç´¢ç\\x9a\\x84äººã\\x80\\x8bã\\x80\\x81è\\x90§ç\\x85\\x8cå¥\\x87ç\\x9a\\x84ã\\x80\\x8aä½\\xa0æ\\x98¯æ\\x88\\x91ç\\x9a\\x84ç\\x9c¼ã\\x80\\x8bç\\xad\\x89æ\\x9b²ï¼\\x8cé\\x83½å\\x9c¨æ\\x9e\\x97å®¥å\\x98\\x89ç\\x9a\\x84æ\\x8e¨ä»\\x8bä¸\\x8bæ\\x9b´å¹¿ä¸ºäººç\\x9f¥ï¼\\x8cä¹\\x9få\\x9b\\xa0æ\\xad¤è¢«æ\\x8e¨å´\\x87ä¸ºæ\\x9c\\x80æ\\x9c\\x89æ\\x9c¬äº\\x8bæ\\x8a\\x8aå\\x86·é\\x97¨æ\\xad\\x8cå\\x94±çº¢ç\\x9a\\x84å®\\x9eå\\x8a\\x9bæ´¾æ\\x96°è¿\\x9bæ\\xad\\x8cæ\\x89\\x8bã\\x80\\x82å\\x85¶ä¸\\xadä»\\x96æ\\x89\\x80ç¿»å\\x94±ç\\x9a\\x84ã\\x80\\x8aä½\\xa0æ\\x98¯æ\\x88\\x91ç\\x9a\\x84ç\\x9c¼ã\\x80\\x8bï¼\\x8cå\\x9c¨å\\x85¨ç\\x90\\x83ç\\x9f¥å\\x90\\x8då½±é\\x9f³ç½\\x91ç«\\x99å\\x8d\\x95ä¸\\x80å½±å¸¦ç\\x9a\\x84é\\x98\\x85è§\\x88æ¬¡æ\\x95°æ\\x9b´é«\\x98è¾¾å°\\x86è¿\\x91ä¸¤ç\\x99¾ä¸\\x87æ¬¡ï¼\\x8cæ\\x98¯å\\x94¯ä¸\\x80è¿\\x9bå\\x85¥å\\x89\\x8däº\\x8cå\\x8d\\x81å\\x90\\x8dç\\x9a\\x84ä¸\\xadæ\\x96\\x87å½±å¸¦ã\\x80\\x82\\næ\\x8a\\x92æ\\x83\\x85æ\\xad\\x8cæ\\x9b²\\næ\\x9e\\x97å®¥å\\x98\\x89æ¼\\x94å\\x94±ç\\x9a\\x84ç\\x89¹ç\\x82¹ä¹\\x8bä¸\\x80æ\\x98¯å¼ºç\\x83\\x88ç\\x9a\\x84æ\\x83\\x85ç»ªå¼\\xa0å\\x8a\\x9bå\\x92\\x8cå\\x85\\x85æ»¡æ\\x88\\x8få\\x89§æ\\x80§ç\\x9a\\x84é\\x93ºé\\x99\\x88ã\\x80\\x82\\nä»£è¡¨æ\\x9b²ç\\x9b®ï¼\\x9a ç\\x88±ã\\x80\\x81æ\\x89\\x93å¼\\x80ç\\x88±ã\\x80\\x81 æ\\x82¬å´\\x96ã\\x80\\x81æ\\x88\\x91ç\\x88±ç\\x9a\\x84äººã\\x80\\x81ä½\\xa0æ\\x98¯æ\\x88\\x91ç\\x9a\\x84ç\\x9c¼ã\\x80\\x81 å\\x88°ä¸\\x8däº\\x86ã\\x80\\x81 ã\\x80\\x81ç\\x88±æ\\x88\\x91å¥½å\\x90\\x97ã\\x80\\x81å¦\\x82æ\\x9e\\x9cæ²¡æ\\x9c\\x89ä½\\xa0ã\\x80\\x81å\\x8d\\x81å¹´ã\\x80\\x81äº²å¯\\x86ç\\x88±äººã\\x80\\x81ã\\x80\\x81ä¸\\x80ç±³ã\\x80\\x81å½\\x93ç\\x88±å·²æ\\x88\\x90å¾\\x80äº\\x8bã\\x80\\x81æ\\xad\\x8cä¹\\x8bç\\x8e\\x8bã\\x80\\x81ä½\\xa0ç\\x9a\\x84è\\x83\\x8cå\\x8c\\x85ã\\x80\\x81æ\\x8b¥æ\\x8a±ã\\x80\\x81å¦\\x82æ\\x9e\\x9cè¿\\x99é\\x83½ä¸\\x8dç®\\x97ç\\x88±ã\\x80\\x81  ã\\x80\\x81ä¸\\x80è¿½å\\x86\\x8dè¿½ã\\x80\\x81ä¸\\x96ç\\x95\\x8cã\\x80\\x81è°¢è°¢ã\\x80\\x81æ\\x88\\x91ã\\x80\\x81å¤©ä½¿ç\\x9a\\x84ä¾§è\\x84¸ã\\x80\\x81æ\\x9c\\x89ä½\\xa0ç\\x9a\\x84å°\\x86æ\\x9d¥\\nç\\x88µå£«ã\\x80\\x81\\næ\\x95\\x8fé\\x94\\x90ç\\x9a\\x84è\\x8a\\x82å¥\\x8fæ\\x84\\x9få\\x92\\x8cè\\x87ªç\\x94±å\\x8d³å\\x85´ç\\x9a\\x84æ¼\\x94å\\x94±æ\\x96¹å¼\\x8fï¼\\x8cè®©æ\\x9e\\x97å®¥å\\x98\\x89æ\\x88\\x90ä¸ºå\\x8d\\x8eè¯\\xadæ\\xad\\x8cå\\x9d\\x9bä¸\\xadæ\\x9e\\x81å°\\x91æ\\x95°æ\\x93\\x85é\\x95¿ç\\x88µå£«è\\x93\\x9dè°\\x83é£\\x8eæ\\xa0¼ç\\x9a\\x84ç\\x94·æ\\xad\\x8cæ\\x89\\x8bï¼\\x8cç\\x88µå£«è\\x93\\x9dè°\\x83ä¹\\x9fæ\\x9c\\x80è\\x83½ä½\\x93ç\\x8e°æ\\x9e\\x97å®¥å\\x98\\x89è¿·å¹»ç\\x9a\\x84é\\x9f³ä¹\\x90é£\\x8eæ\\xa0¼ã\\x80\\x82\\nä»£è¡¨æ\\x9b²ç\\x9b®ï¼\\x9a èµ°é\\x92¢ç´¢ç\\x9a\\x84äººã\\x80\\x81     ã\\x80\\x81ä½\\xa0å¿«ä¹\\x90ï¼\\x88æ\\x89\\x80ä»¥æ\\x88\\x91å¿«ä¹\\x90ï¼\\x89ã\\x80\\x81 é\\x82£äº\\x9bæ\\x97¥å\\xad\\x90ã\\x80\\x81è\\x80\\x81å®\\x9eæ\\x83\\x85æ\\xad\\x8cã\\x80\\x81 ã\\x80\\x81å\\x85¨ä¸\\x96ç\\x95\\x8cå¤±ç\\x9c\\xa0ã\\x80\\x81å\\x93\\xadäº\\x86ã\\x80\\x81æ\\x88\\x91è¦\\x81æ\\x88\\x91ä»¬å\\x9c¨ä¸\\x80èµ·ã\\x80\\x81  ã\\x80\\x81å¹´çºªå¤§äº\\x86ä¸\\x80ç\\x82¹ã\\x80\\x81     ã\\x80\\x81 \\næ\\x91\\x87æ»\\x9a\\næ\\x9e\\x97å®¥å\\x98\\x89å\\x85·æ\\x9c\\x89ç\\x88\\x86å\\x8f\\x91å\\x8a\\x9bå\\x8d\\x81è¶³ç\\x9a\\x84é«\\x98é\\x9f³å\\x9f\\x9fï¼\\x8cå\\x9c¨ä¸\\x8då\\x90\\x8cç§\\x8dç±»ç\\x9a\\x84æ\\x91\\x87æ»\\x9aæ\\xad\\x8cæ\\x9b²ä¸\\xadé\\x83½æ\\x9c\\x89é\\x9d\\x9eå¸¸å\\x87ºè\\x89²ç\\x9a\\x84è¡¨ç\\x8e°ã\\x80\\x82\\nä»£è¡¨æ\\x9b²ç\\x9b®ï¼\\x9a ä½\\xa0æ\\x8a\\x8aæ\\x88\\x91ç\\x81\\x8cé\\x86\\x89ã\\x80\\x81ã\\x80\\x81ä½\\xa0ç\\x88±è¿\\x87æ²¡æ\\x9c\\x89ã\\x80\\x81    ã\\x80\\x81é»\\x91è\\x89²æ\\x9f³ä¸\\x81ã\\x80\\x81ä½\\x8eç\\xad\\x89å\\x8a¨ç\\x89©ã\\x80\\x81     ã\\x80\\x81ã\\x80\\x81å¿\\x97æ\\x98\\x8eä¸\\x8eæ\\x98¥å¨\\x87ã\\x80\\x81ç\\x8b\\x82äººæ\\x97¥è®°ã\\x80\\x81æ\\x9c\\x88é»\\x91é£\\x8eé«\\x98ã\\x80\\x81é\\x9b¨å\\x92\\x8cç\\x9c¼æ³ªã\\x80\\x81  ã\\x80\\x81å¼\\x80å\\x88°è\\x8d¼è\\x98¼ã\\x80\\x81é\\x80\\x8fé\\x9c²\\n\\næ\\x9e\\x97å®¥å\\x98\\x89ä¸\\x8då¸¸å\\x9c¨å\\x85¬å¼\\x80å\\x9cºå\\x90\\x88æ¼\\x94å\\x94±ç\\x9a\\x84æ\\x9b²å\\xad\\x90ã\\x80\\x82ä»\\x96è\\x87ªå·±ç\\x9a\\x84è¯´æ³\\x95æ\\x98¯ä¸\\x8dæ\\x83³è®©äººè§\\x89å¾\\x97ä»\\x96å\\x9c¨æ¨¡ä»¿é\\x9f³è\\x89²ç\\x9b¸è¿\\x91ç\\x9a\\x84æ\\xad\\x8cæ\\x89\\x8bç\\x8e\\x8bå\\x8a\\x9bå®\\x8fã\\x80\\x82ä»\\x96ç\\x9a\\x84è½¬é\\x9f³å\\x92\\x8cå\\x81\\x87é\\x9f³æ\\x8a\\x80å·§ï¼\\x8cè¿\\x9eå®\\x9eå\\x8a\\x9bæ´¾æ\\xad\\x8cæ\\x89\\x8bæ\\x9d¨å\\x9f¹å®\\x89é\\x83½èµ\\x9eèµ\\x8fä»\\x96æ¼\\x94å\\x94±ç\\x9a\\x84å\\x8a\\x9få\\x8a\\x9bã\\x80\\x82\\nä»£è¡¨æ\\x9b²ç\\x9b®ï¼\\x9a ã\\x80\\x81å¤©ä½¿å¿\\x8cå¦\\x92ç\\x9a\\x84ç\\x94\\x9fæ´»ã\\x80\\x81æ\\x9c\\x9bæ\\x98¥é£\\x8eã\\x80\\x81ç\\x88±å¾\\x88ç®\\x80å\\x8d\\x95ã\\x80\\x81æ\\x99®é\\x80\\x9aæ\\x9c\\x8bå\\x8f\\x8bã\\x80\\x81æ²\\x99æ»©ã\\x80\\x81  \\næ\\x9d¥è\\x87ªç\\x99¾åº¦ç\\x99¾ç§\\x91\\n\\næ\\x9e\\x97å®¥å\\x98\\x89ç\\x9a\\x84ç½\\x91é¡µæ\\x90\\x9cç´¢ç»\\x93æ\\x9e\\x9c\\næ\\x9e\\x97å®¥å\\x98\\x89  å\\x85¨ä¸\\x96ç\\x95\\x8cè°\\x81å\\x80¾å\\x90¬ä½\\xa0  ä»\\x8eä½\\xa0ç\\x9a\\x84å\\x85¨ä¸\\x96ç\\x95\\x8cè·¯è¿\\x87  \\n\\u2002·\\u2002æ\\xad\\x8cæ\\x89\\x8bç®\\x80ä»\\x8bï¼\\x9a æ\\x9e\\x97å®¥å\\x98\\x89ï¼\\x8cå¹´æ\\x9c\\x88æ\\x97¥å\\x87ºç\\x94\\x9fäº\\x8eä¸\\xadå\\x9b½å\\x8f°æ¹¾å±\\x8fä¸\\x9cï¼\\x8cæ\\xad\\x8cæ\\x89\\x8bã\\x80\\x82 å¹´æ\\x9c\\x88ä»¥å¤§å\\xad¦ç\\x94\\x9fç\\x9a\\x84èº«ä»½ ï¼\\x8cå¤ºå¾\\x97å\\x8f°æ¹¾ä¸\\xadè§\\x86ä¸»å\\x8a\\x9eç\\x9a\\x84æ\\xad\\x8cå\\x94±é\\x80\\x89ç§\\x80è\\x8a\\x82ç\\x9b®ã\\x80\\x8aè¶\\x85çº§æ\\x98\\x9få\\x85\\x89å¤§é\\x81\\x93ã\\x80\\x8bç¬¬ä¸\\x80å\\xad£å\\x86\\xa0å\\x86\\x9b ï¼\\x8cå¹¶ \\næ\\x9e\\x97å®¥å\\x98\\x89å\\x85¨ä¸\\x96ç\\x95\\x8cè°\\x81å\\x80¾å\\x90¬ä½\\xa0\\næ\\x9e\\x97å®¥å\\x98\\x89æ¼\\x94å\\x94±ä¼\\x9aé«\\x98æ¸\\x85å®\\x8cæ\\x95´ç\\x89\\x88é\\x9f³ä¹\\x90é«\\x98æ¸\\x85å\\x9c¨çº¿è§\\x82ç\\x9c\\x8bâ\\x80\\x93ç\\x88±å¥\\x87è\\x89º\\nè§\\x86é¢\\x91æ\\x97¶é\\x95¿  å\\x88\\x86é\\x92\\x9f\\n\\u2002·\\u2002æ\\x9e\\x97å®¥å\\x98\\x89æ¼\\x94å\\x94±ä¼\\x9aé«\\x98æ¸\\x85å®\\x8cæ\\x95´ç\\x89\\x88é«\\x98æ¸\\x85å\\x9c¨çº¿è§\\x82ç\\x9c\\x8bï¼\\x8cäº\\x8eä¸\\x8aæ\\x98\\xa0ã\\x80\\x82ä¸ºé\\x9f³ä¹\\x90ï¼\\x8cè\\x8a\\x82ç\\x9b®ç®\\x80ä»\\x8bï¼\\x9aæ\\x9e\\x97å®¥å\\x98\\x89æ¼\\x94å\\x94±ä¼\\x9aé«\\x98æ¸\\x85å®\\x8cæ\\x95´ç\\x89\\x88ã\\x80\\x82ã\\x80\\x82\\n\\nçª\\x81ç\\x84¶æ\\x83³èµ·ä½\\xa0å\\x90\\x89ä»\\x96è°±æ\\x9e\\x97å®¥å\\x98\\x89å\\x90\\x89ä»\\x96è°±å\\x90\\x89ä»\\x96è°±å\\x90\\x89ä»\\x96æ\\x9b²è°± \\n\\u2002·\\u2002çª\\x81ç\\x84¶æ\\x83³èµ·ä½\\xa0å\\x90\\x89ä»\\x96è°± æ\\xad\\x8cæ\\x89\\x8bæ\\x9e\\x97å®¥å\\x98\\x89  æ\\xa0¼å¼\\x8f ï¼\\x8cä¾\\x9bè°±ã\\x80\\x82\\n\\næ\\x88\\x90å\\x85¨ç\\x9a\\x84ä¸\\x8bè½½æ\\x9e\\x97å®¥å\\x98\\x89æ\\x88\\x90å\\x85¨é\\x9f³ä¹\\x90å\\x9c¨çº¿è¯\\x95å\\x90¬æ\\xad\\x8cæ\\x9b²å\\x85\\x8dè´¹ \\n\\u2002·\\u2002æ\\xad\\x8cæ\\x9b²æ\\x9e\\x97å®¥å\\x98\\x89æ\\x88\\x90å\\x85¨ç\\x9a\\x84ä¸\\x8bè½½å\\x9c°å\\x9d\\x80æ\\x9d¥æº\\x90äº\\x8eç½\\x91ç»\\x9cå\\x88\\x86äº«ï¼\\x8cå¤\\x8då\\x88¶é\\x93¾æ\\x8e¥æ\\x88\\x96è\\x80\\x85å\\x8f³é\\x94®é\\x93¾æ\\x8e¥å\\x8f¦å\\xad\\x98ä¸ºå\\x8d³å\\x8f¯ä¸\\x8bè½½é\\x9f³ä¹\\x90ï¼\\x8cå\\x90\\x8cæ\\x97¶ç½\\x91ç«\\x99æ\\x8f\\x90ä¾\\x9bæ\\x9e\\x97å®¥å\\x98\\x89æ\\x88\\x90å\\x85¨ç\\x9a\\x84ç©ºé\\x97´è\\x83\\x8cæ\\x99¯é\\x9f³ä¹\\x90æ\\xad\\x8cæ\\x9b²é\\x93¾æ\\x8e¥ï¼\\x8cæ\\x8a\\x8aè¿\\x99é¦\\x96æ\\xad\\x8cæ\\x9b²ç\\x9a\\x84 \\n\\nçºªå\\x87\\x8cå°\\x98é\\x98\\x9aæ¸\\x85å\\xad\\x90è¦\\x81ç»\\x93å©\\x9aã\\x80\\x81æ\\x9e\\x97å®¥å\\x98\\x89ä¸\\x81æ\\x96\\x87ç\\x90ªåº\\x86ç¥\\x9dçºªå¿µæ\\x97¥â\\x80¦â\\x80¦ä¸ºä½\\x95ä»\\x96ä»¬ \\n\\u2002·\\u2002æ\\x9e\\x97å®¥å\\x98\\x89å¾®å\\x8d\\x9aä¸\\x8aâ\\x80\\x9cå¥¹è¯´å¥½â\\x80\\x9dè¿\\x99ä»¶äº\\x8bç«\\x9fç\\x84¶è¿\\x99ä¹\\x88å¿«å°±ä¸\\x80å\\x91¨å¹´ï¼\\x8cæ¸\\x85æ\\x99°ç\\x9a\\x84è®°å¾\\x97å\\x8e»å¹´é\\x82£å¤©ï¼\\x8cå¾®å\\x8d\\x9aä¸\\x8aæ\\x9d¥è\\x87ªäº\\x94æ¹\\x96å\\x9b\\x9bæµ·ç\\x9a\\x84äººä»¬ä¸ºå°\\x8få\\x93¥å\\x93¥å\\x8a\\xa0æ²¹å\\x91¢ï¼\\x81 ç\\x82¹å\\x87»å\\x9b¾ç\\x89\\x87è¿\\x9bå\\x85¥ä¸\\x8bç¯\\x87æ\\x96\\x87ç«\\xa0>>\\n\\næ\\xad£å\\x9c¨å\\x8a\\xa0è½½\\nå\\x8a\\xa0è½½æ\\x9b´å¤\\x9a\\nå\\x9fºæ\\x9c¬èµ\\x84æ\\x96\\x99\\nèº«é«\\x98ï¼\\x9a\\n\\næ\\x98\\x9fåº§ï¼\\x9a\\nå·¨è\\x9f¹åº§\\nè\\x8b±æ\\x96\\x87å\\x90\\x8dï¼\\x9a\\n \\nä½\\x93é\\x87\\x8dï¼\\x9a\\n\\nè¡\\x80å\\x9e\\x8bï¼\\x9a\\n\\nç»\\x8fçºªå\\x85¬å\\x8f¸ï¼\\x9a\\nå\\x8d\\x8eç\\xa0\\x94å\\x9b½é\\x99\\x85é\\x9f³ä¹\\x90ï¼\\x88å\\x85¨çº¦ï¼\\x89\\nå\\x9b½ç±\\x8dï¼\\x9a\\nä¸\\xadå\\x9b½\\nè\\x81\\x8cä¸\\x9aï¼\\x9a\\næ\\xad\\x8cæ\\x89\\x8bï¼\\x8cæ¼\\x94å\\x91\\x98\\næ\\x80§å\\x88«ï¼\\x9a\\nç\\x94·\\nå\\x87ºç\\x94\\x9få\\x9c°ï¼\\x9a\\nä¸\\xadå\\x9b½å\\x8f°æ¹¾å±\\x8fä¸\\x9c\\næ°\\x91æ\\x97\\x8fï¼\\x9a\\næ±\\x89æ\\x97\\x8f\\nå\\x87ºç\\x94\\x9fæ\\x97¥æ\\x9c\\x9fï¼\\x9a\\nå¹´æ\\x9c\\x88æ\\x97¥ï¼\\x88å\\x86\\x9cå\\x8e\\x86å\\x85\\xadæ\\x9c\\x88å\\x88\\x9då\\x85\\xadï¼\\x89\\næ¯\\x95ä¸\\x9aé\\x99¢æ\\xa0¡ï¼\\x9a\\nå\\x9b½ç«\\x8bä¸\\x9cå\\x8d\\x8eå¤§å\\xad¦è¿\\x90å\\x8a¨ä¸\\x8eä¼\\x91é\\x97²å\\xad¦ç³»\\nå\\x88«å\\x90\\x8dï¼\\x9a\\nè¿·å¹»å®¥å\\x98\\x89ï¼\\x8cå\\x98\\x9få\\x98\\x9få\\x98´ï¼\\x8cå¤ªå\\xad\\x90å\\x8c\\nä¸»è¦\\x81æ\\x88\\x90å°±ï¼\\x9a\\nå¹´æ\\x96°å\\x9f\\x8eå\\x8a²ç\\x88\\x86æ\\x96°äººç\\x8e\\x8b\\nç\\x9b¸å\\x85³è¯\\x8dæ\\x9d¡\\nè\\x90§æ\\x95¬è\\x85¾\\næ\\xad\\x8cæ\\x89\\x8b\\næ\\x9d¨å®\\x97çº¬\\næ\\xad\\x8cæ\\x89\\x8b\\né\\x82\\x93ç´«æ£\\x8b\\næ\\xad\\x8cæ\\x89\\x8b\\nè¶\\x85çº§æ\\x98\\x9få\\x85\\x89å¤§é\\x81\\x93\\né\\x80\\x89ç§\\x80 ç»¼è\\x89º\\nç\\x94°é¦¥ç\\x94\\x84\\næ\\xad\\x8cæ\\x9b²\\né\\x83½ç¾\\x8eå\\x84¿\\næ\\x96\\x87å\\xad¦å½¢è±¡\\né\\x99\\x88å¥\\x95è¿\\næ\\xad\\x8cæ\\x89\\x8b æ¼\\x94å\\x91\\x98\\nè\\x90§ç\\x85\\x8cå¥\\x87\\næ\\xad\\x8cæ\\x89\\x8b\\nå\\x91¨æ\\x9d°ä¼¦\\næ¼\\x94å\\x91\\x98 å¯¼æ¼\\x94 æ\\xad\\x8cæ\\x89\\x8b\\næ\\x88\\x91æ\\x9c\\x80äº²ç\\x88±ç\\x9a\\x84\\né\\x9f³ä¹\\x90\\n©  \\né\\x9a\\x90ç§\\x81å£°æ\\x98\\x8eå\\x92\\x8c \\næ³\\x95å¾\\x8bå£°æ\\x98\\x8e\\nå¹¿å\\x91\\x8a\\nå¸®å\\x8a©\\nå\\x8f\\x8dé¦\\x88\\n<                         å»ºè®®         æ\\xad¤ç½\\x91ç«\\x99ç\\x9a\\x84æ\\x93\\x8dä½\\x9cå·²ç¼\\x93å\\xad\\x98                        <  <        <            ><          >           <               <                    <  <     >>>   ><<<        <   <    ><   >\\n<    ><               >>        ><<     ><>   ><     <><      > >\\n<   >'"
      ]
     },
     "execution_count": 11,
     "metadata": {},
     "output_type": "execute_result"
    }
   ],
   "source": [
    "clean"
   ]
  },
  {
   "cell_type": "code",
   "execution_count": 13,
   "metadata": {
    "collapsed": false
   },
   "outputs": [],
   "source": [
    "html = requests.get('http://sports.sina.com.cn/star/liu_qiang_bo/').content"
   ]
  },
  {
   "cell_type": "code",
   "execution_count": 14,
   "metadata": {
    "collapsed": true
   },
   "outputs": [],
   "source": [
    "doc = pq(html)"
   ]
  },
  {
   "cell_type": "code",
   "execution_count": 15,
   "metadata": {
    "collapsed": false
   },
   "outputs": [
    {
     "data": {
      "text/plain": [
       "'刘强_体育明星_新浪竞技风暴_新浪网\\n<!-- /* 全局 */ body,ul,ol,li,p,h1,h2,h3,h4,h5,h6,form,fieldset,table,td,img,div,dl,dt,dd{margin:0;padding:0;border:0;} body{background:#fff;color:#000;font-family:\"宋体\",\"华文宋体\";} td,p,li,select,input,textarea,div{font-size:12px;} ul,ol,dl{list-style-type:none;} select,input{vertical-align:middle;} a:link,a:visited{color:#000;text-decoration:none;} a:hover,a:active,a:focus{color:#c00;text-decoration:underline;} #page{width:950px; overflow:hidden; zoom:1; margin:5px auto;} /* header&nav */ .hn{} /* blk01 */ .blk_01{height:33px; overflow:hidden; zoom:1; border:1px #dde0cb solid; border-bottom:none; background:url(http://i3.sinaimg.cn/ty/olympic08/star/images/2008_szz_ostar_bg_001.gif) repeat-x 0 0; margin:0 0 10px;} .blk_01_b01{width:183px; height:31px; overflow:hidden; float:left; border:3px #fff solid; border-bottom:none; border-top-width:2px; background:url(http://i3.sinaimg.cn/ty/olympic08/star/images/2008_szz_ostar_bg_001.gif) repeat-x 0 -50px;} h1.blk_01_h01{padding:6px 0 0; width:72px; margin:0 auto;} .blk_01_b02{width:758px; float:left; height:32px; overflow:hidden; zoom:1; border:1px #dde0cb solid; border-right:none; border-top:none;} .blk_01_b02 a,.blk_01_b02 a:visited{text-decoration:none;} .blk_01_b02 a:hover,.blk_01_b02 a:active,.blk_01_b02 a:focus{text-decoration:underline;} .blk_01_b02_b01{float:right; padding:0 20px 0 0; overflow:hidden; zoom:1;} .blk_01_b02_b01_b01{float:left; line-height:34px;} .blk_01_b02_b01_b02{float:left; padding:9px 7px 0;} .blk_01_b02_b01_b03{float:left; line-height:34px;} #Time1{padding-left:8px;} /* blk02 */ .blk_02{height:80px; overflow:hidden; zoom:1; margin-bottom:10px;} .blk_02_b01{width:190px; overflow:hidden; float:left;} .blk_02_b01_u01{width:180px; overflow:hidden;} .blk_02_b01_u01 li{height:35px; overflow:hidden; margin-bottom:10px;} .blk_02_b01_u01 span{display:block; padding:0 0 0 50px;} .blk_02_b01_u01 a,.blk_02_b01_u01 a:visited{display:block; height:35px; overflow:hidden; line-height:37px; font-size:14px; color:#fff; font-weight:bold; text-decoration:none; background:url(http://i0.sinaimg.cn/ty/olympic08/star/images/2008_szz_ostar_bg_002.gif) no-repeat 0 0;} .blk_02_b01_u01 a:hover,.blk_02_b01_u01 a:active{text-decoration:underline; color:#fff;} .blk_01_b01_s01{background:url(http://i0.sinaimg.cn/ty/olympic08/star/images/2008_szz_ostar_bg_002.gif) no-repeat 14px -45px;} .blk_01_b01_s02{background:url(http://i0.sinaimg.cn/ty/olympic08/star/images/2008_szz_ostar_bg_002.gif) no-repeat 11px -93px;} /* 查询 */ .searchBlk{width:758px; height:78px; overflow:hidden; float:left; border:1px #dad7c4 solid; background:#f5f6f0;} .searchBlk_t{height:31px; overflow:hidden; zoom:1; background:url(http://i3.sinaimg.cn/ty/olympic08/star/images/2008_szz_ostar_bg_001.gif) repeat-x 0 -100px;} h2.searchBlk_t_h01{float:left; padding:0 0 0 34px; background:url(http://i0.sinaimg.cn/ty/olympic08/star/images/2008_szz_ostar_bg_002.gif) no-repeat 10px -141px; font-size:14px; color:#58595d; line-height:33px;} .searchBlk_o{float:right; padding:0 20px 0 0; line-height:33px;} .searchBlk_o a,.searchBlk_o a:visited{color:#0622a0;} .searchBlk_o a:hover,.searchBlk_o a:active,.searchBlk_o a:focus{color:#c00;} .searchBlk_s{zoom:1; overflow:hidden;} .searchBlk_s legend{display:none;} .searchBlk_s label{float:left; padding-right:10px; line-height:47px;} .searchBlk_s select{width:155px; color:#797979;} .searchBlk_s div{overflow:hidden; zoom:1;} .searchBlk_s span{float:left; padding:12px 0 0;} .searchBlk_s_b1{float:left; padding:0 0 0 15px;} .searchBlk_s_b2{float:left; padding:0 0 0 18px;} .searchBlk_s_b3{float:left; padding:0 0 0 18px;} .searchBlk_s_b3 input{width:130px; color:#797979;} .searchBlk_s_b4{float:left; padding:0 0 0 20px;} .searchBlk_s_b4 input{margin:12px 0 0 0; width:65px; height:20px; border:none; padding:0; background:url(http://i0.sinaimg.cn/ty/olympic08/star/images/2008_szz_ostar_bg_002.gif) no-repeat 0 -200px; cursor:pointer; line-height:500px; font-size:1px; color:#f88a01;} /* blk_03 */ .blk_03{overflow:hidden; zoom:1; background:url(http://i1.sinaimg.cn/ty/olympic08/star/images/2008_szz_ostar_bg_003.gif) repeat-y 0 0;} .blk_03 img{background:url(http://i0.sinaimg.cn/ty/olympic08/star/images/2008_szz_ostar_loading_001.gif) no-repeat 50% 50% #fff;} /* 右 */ .blk_03_r{float:right; width:760px; zoom:1; padding-left:10px;} /* 左 */ .blk_03_l{float:left; width:180px; overflow:hidden; zoom:1;} .blk_03_r_b01{overflow:hidden; zoom:1;} .blk_03_r_b01_b01{width:332px; height:383px; overflow:hidden; float:right; border:1px #dbd8c7 solid; background:url(http://i1.sinaimg.cn/ty/olympic08/star/images/2008_szz_ostar_bg_003.gif) repeat-y -1000px 0;} /* 排行榜 */ .blk_03_r_b01_b01_b01{overflow:hidden; zoom:1; background:url(http://i2.sinaimg.cn/ty/olympic08/star/images/2008_szz_ostar_004.gif) no-repeat;} .blk_03_r_b01_b01_b01 dl{width:50%; float:left;} .blk_03_r_b01_b01_b01 dt{text-align:center; height:35px; line-height:35px;} .blk_03_r_b01_b01_b01 dd{padding:10px 0 0 0;} .blk_03_r_b01_b01_b01 ol{background:url(http://i0.sinaimg.cn/ty/olympic08/star/images/2008_szz_ostar_bg_002.gif) no-repeat -477px 1px; *background-position:-477px 0; padding:0 0 0 29px;} .blk_03_r_b01_b01_b01 li{height:24px; *height:20px; overflow:hidden; zoom:1; clear:both;} .blk_03_r_b01_b01_b01 li a{cursor:pointer; display:block; overflow:hidden; zoom:1;} .blk_03_r_b01_b01_b01 li span{float:left; text-decoration:underline;} .blk_03_r_b01_b01_b01 li span.num{float:right; padding-right:6px; font-family:Arial; font-size:9px; color:#000; text-decoration:none;} .blk_03_r_b01_b01_b01 li.p1{height:86px; *height:82px;} .blk_03_r_b01_b01_b01 li.p1 span.name{display:block; height:20px; overflow:hidden; text-decoration:underline; clear:both; float:none;} .blk_03_r_b01_b01_b01 li.p1 span.pic{display:block; height:54px; overflow:hidden; float:left;} .blk_03_r_b01_b01_b01 li.p1 span.num{float:left; padding:0 0 0 18px; font-family:Arial; color:#cc0202; text-decoration:none; font-size:11px; line-height:85px;} .blk_03_r_b01_b01_b01 li.p1 img{padding:3px; border:1px #dad7c6 solid; cursor:pointer;} .blk_03_r_b01_b01_b01 li.p1 a:hover img,.blk_03_r_b01_b01_b01 li.p1 a:active img{border-color:#a29b64;} .blk_03_r_b02{border:1px #dbd8c7 solid;} .blk_03_r_b02_b01{padding:18px 0 20px 17px; overflow:hidden; zoom:1;} .blk_03_r_b02_b01 dl{overflow:hidden; zoom:1;} .blk_03_r_b02_b01 dt{float:left; width:60px; height:66px; overflow:hidden;} .blk_03_r_b02_b01 dt img{padding:3px; border:1px #dbd8c7 solid;} .blk_03_r_b02_b01 dt a:hover img,.blk_03_r_b02_b01 dt a:active img{border:1px #a39e64 solid;} .blk_03_r_b02_b01 dd{float:left; width:186px; overflow:hidden; line-height:18px;} .blk_03_r_b02_b02{padding:8px 0 10px 17px; overflow:hidden; zoom:1;} .blk_03_r_b02_b02 dl{overflow:hidden; zoom:1; padding:5px 0 10px;} .blk_03_r_b02_b02 dt{float:left; line-height:21px; width:45px;} .blk_03_r_b02_b02 dd{float:left; overflow:hidden; zoom:1; width:695px;} .blk_03_r_b02_b02 dd ul{overflow:hidden; zoom:1;} .blk_03_r_b02_b02 dd li{float:left; width:8.33%; line-height:21px;} .blk_03_r_b02_b02_m{padding:0 15px 0 0; line-height:21px; text-align:right;} .blk_03_r_b02_b02_m a,.blk_03_r_b02_b02_m a:visited{color:#009;} .blk_03_r_b02_b02_m a:hover,.blk_03_r_b02_b02_m a:active{color:#c00;} .blk_03_r_b02_b03{padding:8px 0 10px 17px; overflow:hidden; zoom:1;} .blk_03_r_b02_b03 dl{overflow:hidden; zoom:1; padding:5px 0 10px;} .blk_03_r_b02_b03 dt{float:left; line-height:21px; width:45px;} .blk_03_r_b02_b03 dd{float:left; overflow:hidden; zoom:1; width:695px;} .blk_03_r_b02_b03 dd ul{overflow:hidden; zoom:1;} .blk_03_r_b02_b03 dd li{float:left; width:33%; line-height:21px;} .blk_03_l_b01{overflow:hidden; zoom:1; border:1px #dad9c7 solid;} .blk_03_l_b01_b01{overflow:hidden; zoom:1;} .blk_03_l_b01_b01 ul{overflow:hidden; zoom:1; background:#fff; padding:7px 0 0 2px;} .blk_03_l_b01_b01 li{width:44px; height:60px; text-align:center; overflow:hidden; float:left; line-height:24px;} .blk_03_l_b01_b01 li img{margin:0 auto; display:block; border:1px #fff solid;} .blk_03_l_b01_b01 li a:hover img,.blk_03_l_b01_b01 li a:active img{border:1px #ccc solid;} .blk_03_l_b01_b01 li a{text-decoration:none;} .blk_03_l_b01_b01 li a span{display:block;} .blk_03_l_b01_b01_m{height:27px; overflow:hidden; zoom:1; background:url(http://i3.sinaimg.cn/ty/olympic08/star/images/2008_szz_ostar_bg_001.gif) repeat-x 0 -300px;} .blk_03_l_b01_b01_m a,.blk_03_l_b01_b01_m a:visited{display:block; overflow:hidden; line-height:29px; height:27px; padding:0 0 0 59px; background:url(http://i0.sinaimg.cn/ty/olympic08/star/images/2008_szz_ostar_bg_002.gif) no-repeat 46px -338px; color:#807f84; text-decoration:none;} .blk_03_l_b01_b01_m a:hover,.blk_03_l_b01_b01_m a:active{color:#000;} #iList2{padding-bottom:10px;} .blk_03_l_b01_b02{overflow:hidden; background:#fff;} .blk_03_l_b01_b02_b01{} .blk_03_l_b01_b02_b01 ul{padding:5px 9px;background:#fff;} .blk_03_l_b01_b02_b01 li{line-height:18px; height:18px; overflow:hidden; clear:both;} .blk_03_r_b03{overflow:hidden; zoom:1; background:#f6f5f0; border:1px #dbd8c5 solid; padding:7px 0 10px; color:#343434;} .blk_03_r_b03_b01{float:left; padding:8px 0 0 15px; overflow:hidden; width:51px;} .blk_03_r_b03_b02{width:298px; float:left; border-right:1px #dbd8c5 solid; height:59px; padding:2px 0 0 15px;} .blk_03_r_b03_b02 th,.blk_03_r_b03_b02 td{line-height:20px;} .blk_03_r_b03_b03{float:left; padding:2px 0 0 20px; overflow:hidden; height:59px; border-left:1px #fff solid;} .blk_03_r_b03_b03 th{font-weight:normal;} .blk_03_r_b03_b03 th,.blk_03_r_b03_b03 td{line-height:20px;} .blk_03_r_b03_b03 img{margin:0 0 0 3px;} .blk_03_r_b04{border:1px #dbd8c5 solid; overflow:hidden; zoom:1;} .blk_03_r_b04_b01{padding:0 9px 16px; overflow:hidden; zoom:1;} /* 分页 */ .blk_03_r_b04_b01_page{float:right; height:21px; overflow:hidden; zoom:1; padding:8px 0 0 0;} .blk_03_r_b04_b01_page label{float:left; border:1px #dcdcdc solid; margin-left:4px; height:19px; line-height:19px; overflow:hidden; padding:0 6px; cursor:pointer;} .blk_03_r_b04_b01_page label.page_pre{padding:0 10px 0 15px; background:url(http://i0.sinaimg.cn/ty/olympic08/star/images/2008_szz_ostar_bg_002.gif) no-repeat 6px -443px; line-height:21px; color:#aaa;} .blk_03_r_b04_b01_page label.page_next{padding:0 15px 0 10px; background:url(http://i0.sinaimg.cn/ty/olympic08/star/images/2008_szz_ostar_bg_002.gif) no-repeat 50px -493px; line-height:21px; color:#aaa;} .blk_03_r_b04_b01_page label.page_num{font-family:Arial; font-size:10px; color:#aaa;} .blk_03_r_b04_b01_page label.page_num_selected{font-family:Arial; font-size:10px; border:none; height:21px; line-height:21px; color:#000;} .page_con{clear:both; overflow:hidden; zoom:1;} .page_con_b_lb{border:1px #e9e6d7 solid; border-top:none; padding:0 0 0 18px; overflow:hidden; zoom:1;} .page_con_b_l{overflow:hidden; zoom:1; padding:0 0 10px;} .page_con_b_l li{float:left; line-height:22px; width:32%; padding-right:8px;} .blk_03_r_b05{overflow:hidden; zoom:1; background:#f6f5f0; border:1px #dbd8c5 solid; padding:7px 0 10px; color:#343434;} .blk_03_r_b05_b01{float:left; width:55px; overflow:hidden; padding:4px 0 0 14px;} .blk_03_r_b05_b02{float:left; padding:4px 0 0 10px; overflow:hidden;} .blk_03_r_b05_b02 h2{font-family:\"黑体\"; font-size:18px; font-weight:normal; line-height:27px;} .blk_03_r_b05_b02 p{line-height:20px;} .blk_03_r_b05_b02 a,.blk_03_r_b05_b02 a:visited{color:#009;} .blk_03_r_b05_b02 a:hover,.blk_03_r_b05_b02 a:active{color:#c00;} .blk_04{height:34px; overflow:hidden; background:url(http://i1.sinaimg.cn/ty/olympic08/star/images/2008_szz_ostar_003.gif) no-repeat 0 0; zoom:1;} .blk_04_b01{float:right; width:142px; height:28px; overflow:hidden; margin-top:6px;} .blk_04_b01 a,.blk_04_b01 a:visited{color:#000; text-decoration:none; display:block; padding:0 0 0 48px; line-height:30px;} .blk_04_b01 a:hover,.blk_04_b01 a:active{color:#000; text-decoration:underline;} .blk_03_r_b06{overflow:hidden;zoom:1;border:1px solid #dbd8c5;} .blk_03_r_b06_b01{width:222px;float:left;padding:10px 0;text-align:center;} .blk_03_r_b06_b01 img{border:1px solid #dbd8c5;padding:6px;} .blk_03_r_b06_b02{float:left;width:534px;float:left;padding:10px 0;} .blk_03_r_b06_b02_b01{zoom:1;overflow:hidden;} .blk_03_r_b06_b02_b01_1{float:left;width:315px;line-height:22px;padding-left:5px;} .blk_03_r_b06_b02_b01_1 th{font-weight:normal;} .blk_03_r_b06_b02_b01_2{float:left;width:202px;} .blk_03_r_b06_b02_b02_1{height:134px;overflow:auto;margin-top:5px;line-height:20px;} .blk_03_r_b06_b02_b02_1 h5{font-size:12px;line-height:30px;} .blk_03_r_b06_b02_b02_1 table{border-left:1px solid #dedbca;border-top:1px solid #dedbca;} .blk_03_r_b06_b02_b02_1 td,.blk_03_r_b06_b02_b02_1 th{border-right:1px solid #dedbca;border-bottom:1px solid #dedbca;height:23px;} .blk_03_r_b06_b02_b02_1 td{padding-left:5px;} .blk_03_r_b07{border:1px solid #dbd8c5;} .imgTxt01{padding:0 10px 10px;overflow:hidden;zoom:1;} .imgTxt01 .imgTxt01_b{width:19.9%;text-align:center;line-height:28px;float:left;padding:14px 0 0;} .imgTxt01 .imgTxt01_b img{display:block;margin:0 auto;border:1px solid #c1c1c1;padding:3px;} .blk_03_r_b08{zoom:1;overflow:hidden;} .blk_03_r_b08_b01{float:left;width:496px;} .blk_03_r_b08_b02{float:left;width:256px;margin-left:8px;_margin-left:4px;} .blk_03_r_b08_b01_b01{border:1px solid #dbd8c5;} .blk_03_r_b08_b01_b01_l{padding:4px 0;} .blk_03_r_b08_b01_b01_l ul{;padding:4px 0 4px 8px;} .blk_03_r_b08_b01_b01_l ul li{line-height:23px;font-size:14px} .blk_03_r_b08_b01_b01_l ul li .list_d{font-size:10px;color:#666;} .info{padding:0 8px;} .info .box{padding:5px 0;} .info .box .title{line-height:26px;color:#7a7a7a;} .info .box .memo{line-height:20px;padding:0 0 5px;} .info .box .line{height:1px;overflow:hidden;font-weight:normal;background:url(http://i3.sinaimg.cn/ty/olympic08/star/images/2008_szz_ostar_bg_001.gif) repeat-x 0 -400px;} .form{border:1px solid #ccd7eb;margin:18px 8px 8px;position:relative;padding:10px 10px 30px 10px;} .form h5{position:absolute;top:-6px;font-size:12px;font-weight:normal;background:#fff;left:16px;padding:0 4px;} .form p{padding:3px 0;} .form textarea{width:446px;} .blk_03_r_b08_b02_b01{border:1px solid #dbd8c5;} .blk_03_r_b08_b02_b01 ul{padding:5px 0 5px 10px;} .blk_03_r_b08_b02_b01 ul li{line-height:20px;} .blk_03_r_b08_b02_b02{border:1px solid #dbd8c5;height:855px;*height:824px;} .blk_03_r_b08_b02_b01_l{padding:5px 10px;} .blk_03_r_b08_b02_b01_l dt{line-height:20px;padding-left:13px;background:url(http://i0.sinaimg.cn/ty/olympic08/star/images/2008_szz_ostar_bg_002.gif) no-repeat 0 -596px;} .blk_03_r_b08_b02_b01_l ul{zoom:1;overflow:hidden;padding:0;} .blk_03_r_b08_b02_b01_l ul li{width:33.33%;float:left;text-align:center;line-height:28px;padding:3px 0 0;} .blk_03_r_b08_b02_b01_l ul li img{display:block;margin:0 auto;border:1px solid #d9d7c2;padding:3px;} /* 标题栏 */ .Title_01{height:31px; overflow:hidden; zoom:1; background:url(http://i3.sinaimg.cn/ty/olympic08/star/images/2008_szz_ostar_bg_001.gif) repeat-x 0 -100px;} .Title_01 h2{font-size:14px; color:#484846; float:left; line-height:33px; padding:0 0 0 12px;} .Title_01_o,.Title_01_o2{float:right; padding:0 10px 0 0; line-height:33px;} .Title_01_o a,.Title_01_o a:visited{color:#0725a1;} .Title_01_o a:hover,.Title_01_o a:active,.Title_01_o a:focus{color:#c00;} .Title_02{height:31px; overflow:hidden; zoom:1; background:url(http://i3.sinaimg.cn/ty/olympic08/star/images/2008_szz_ostar_bg_001.gif) repeat-x 0 -250px;} .Title_02 h2{float:left; padding:0 0 0 12px; font-size:14px; color:#4c6500; line-height:33px;} .Title_03{height:25px; overflow:hidden; zoom:1; background:url(http://i3.sinaimg.cn/ty/olympic08/star/images/2008_szz_ostar_bg_001.gif) repeat-x 0 -400px;} .Title_03 a{display:block; height:25px; line-height:27px; overflow:hidden; padding:0 0 0 6px; margin:0 3px; text-decoration:none; background:url(http://i0.sinaimg.cn/ty/olympic08/star/images/2008_szz_ostar_bg_002.gif) no-repeat 160px -390px;} .Title_04{height:25px; overflow:hidden; zoom:1; background:url(http://i2.sinaimg.cn/ty/olympic08/star/images/2008_szz_ostar_008.gif) no-repeat 0 0;} .Title_04 h3{float:left; margin:0 0 0 9px; background:#fff; padding:0 10px; font-size:14px; line-height:18px;} .Title_05{height:31px; overflow:hidden; zoom:1; background:url(http://i3.sinaimg.cn/ty/olympic08/star/images/2008_szz_ostar_bg_001.gif) repeat-x 0 -100px;} .Title_05 h2{font-size:14px; margin:5px 0 0 15px; float:left; overflow:hidden; line-height:25px; text-align:center; padding:0 35px; color:#484848; border:1px #ccccc0 solid; border-bottom:none; background:url(http://i3.sinaimg.cn/ty/olympic08/star/images/2008_szz_ostar_bg_001.gif) repeat-x 0 -450px;} .Title_05_o{float:right; color:#f36205; padding:0 10px 0 0; line-height:33px; font-size:14px;} /* 舌签 */ #T_Menu_01{float:right; height:26px; overflow:hidden; zoom:1; padding-top:5px;} #T_Menu_01 label{float:left; margin-right:6px; text-align:center; height:26px; overflow:hidden; line-height:26px; padding:0 5px; border:1px #cbcbbf solid; border-bottom:none; cursor:pointer; background:url(http://i3.sinaimg.cn/ty/olympic08/star/images/2008_szz_ostar_bg_001.gif) repeat-x 0 -150px;} #T_Menu_01 label.selected{background:url(http://i3.sinaimg.cn/ty/olympic08/star/images/2008_szz_ostar_bg_001.gif) repeat-x 0 -200px; font-weight:bold;} #T_Menu_03{float:right; height:26px; overflow:hidden; zoom:1; padding:5px 18px 0 0;} #T_Menu_03 label{float:left; margin-right:6px; text-align:center; height:25px; overflow:hidden; line-height:23px; padding:0 15px; border:1px #cecec2 solid; border-bottom:none; cursor:pointer; background:url(http://i3.sinaimg.cn/ty/olympic08/star/images/2008_szz_ostar_bg_001.gif) repeat-x 0 -150px; font-size:14px; font-weight:bold;} #T_Menu_03 label.selected{background:url(http://i3.sinaimg.cn/ty/olympic08/star/images/2008_szz_ostar_bg_001.gif) repeat-x 0 -200px;} #T_Menu_04{height:26px; overflow:hidden; zoom:1; padding:0 18px 0 0;background:url(http://i3.sinaimg.cn/ty/olympic08/star/images/2008_szz_ostar_bg_001.gif) repeat-x 0 -475px;} #T_Menu_04 label{float:left; margin-right:6px; text-align:center; height:25px; overflow:hidden; line-height:23px; padding:0 7px; border:1px #cecec2 solid; border-bottom:none; cursor:pointer; background:url(http://i3.sinaimg.cn/ty/olympic08/star/images/2008_szz_ostar_bg_001.gif) repeat-x 0 -150px; font-size:12px;} #T_Menu_04 label.selected{background:url(http://i3.sinaimg.cn/ty/olympic08/star/images/2008_szz_ostar_bg_001.gif) repeat-x 0 -200px;} /* 焦点图 */ .blk_03_r_b01_f{width:416px; height:383px; overflow:hidden; float:left; border:1px #dbd8c7 solid;} /* footer */ .footer{text-align:center; line-height:30px; padding:20px 0 0;} .copyright{font-family:Arial, Helvetica, sans-serif;} /* 间隔 */ .hs01{height:10px; overflow:hidden; background:#fff; clear:both; font-size:0; line-height:500px;} /* 常用链接 begin */ a.linkRed:link,a.linkRed:visited{color:#f00!important;}/* 红色 */ a.linkRed:hover{color:#c00!important;} a.linkBlack:link,a.linkBlack:visited{color:#000!important;}/* 黑色 */ a.linkBlack:hover{color:#f00!important;} a.linkWhite:link,a.linkWhite:visited{color:#fff!important;}/* 白色 */ a.linkWhite:hover{color:#f00!important;} a.linkGray:link,a.linkGray:visited{color:#5d5d5d!important;}/* 灰色 */ a.linkGray:hover{color:#f00!important;} a.linkCyan:link,a.linkCyan:visited{color:#92e4fa!important;text-decoration:underline;}/* 青色 */ a.linkCyan:hover{color:#f00!important;} a.videoNews{background:url(http://i1.sinaimg.cn/dy/deco/2007/1211/yocc/unfcn_mj_01.gif) no-repeat 100% 50%;padding-right:18px;}/* 视频图标链接 */ a.videoNewsLeft{background:url(http://i1.sinaimg.cn/dy/deco/2007/1211/yocc/unfcn_mj_01.gif) no-repeat -19982px 50%;padding-left:18px;}/* 视频图标链接（左图标） */ /* 常用链接 end */ /* 共用列表 begin */ .list_009 li{padding-left:1em;background:url(http://i1.sinaimg.cn/dy/deco/2007/1211/yocc/unfcn_mj_01.gif) no-repeat 5px 50%;} .list_00f li{padding-left:1em;background:url(http://i1.sinaimg.cn/dy/deco/2007/1211/yocc/unfcn_mj_01.gif) no-repeat -995px 50%;} .list_000 li{padding-left:1em;background:url(http://i1.sinaimg.cn/dy/deco/2007/1211/yocc/unfcn_mj_01.gif) no-repeat -1995px 50%;} .list_333 li{padding-left:1em;background:url(http://i1.sinaimg.cn/dy/deco/2007/1211/yocc/unfcn_mj_01.gif) no-repeat -2995px 50%;} .list_666 li{padding-left:1em;background:url(http://i1.sinaimg.cn/dy/deco/2007/1211/yocc/unfcn_mj_01.gif) no-repeat -3995px 50%;} .list_999 li{padding-left:1em;background:url(http://i1.sinaimg.cn/dy/deco/2007/1211/yocc/unfcn_mj_01.gif) no-repeat -4995px 50%;} li.list_nostyle{background:none;} /* 共用列表 end */ -->\\n.blkCommentBox{color:#343434; background:#F5F8FD;} .blkPostCommentBox{background:url() repeat-x 0 -200px; margin:0;} .bPCB_t1{overflow:hidden; zoom:1; height:30px; line-height:32px; padding:0 0 0 8px;} .bPCB_t2{overflow:hidden; zoom:1; padding:0 0 0 8px;} .bPCB_b1_1{padding-bottom:5px;font-size:14px;} .bPCB_b1_1 textarea{width:100%; height:100px; border:1px #c8d8f1 solid; background:#fff;} .bPCB_b1{background:#F5F8FD;} .bPCB_b1_2{height:25px; overflow:hidden; zoom:1; padding:0 0 0 5px;font-size:14px;} .bPCB_b1_2 span{float:left;*line-height:25px;} .bPCB_b1_2_2 input,.bPCB_b1_2_4 input{width:98px; height:17px; border:1px #c8d8f2 solid; padding:0; margin:0 5px 0 0; background:#fff; color:#8a8a8a; line-height:17px;} .bPCB_b1_2 span.bPCB_b1_2_7{margin:0;} .bPCB_b1_2 span.bPCB_b1_2_7 input{width:130px;} .grid-640{width:640px; overflow:hidden; float:left;zoom:1;} /* 分页样式，可根据自己需要自己定义 */ .pages{padding:10px 30px;border:1px #e5e5e5 solid; border-top:none; border-bottom:none;} .pagebox{font-size:12px; font-family:\"宋体\",sans-serif;} .pagebox span{float:left; margin-right:2px; overflow:hidden; text-align:center; background:#fff;} .pagebox span a{display:block; overflow:hidden; zoom:1; _float:left;} .pagebox span.pagebox_pre_nolink{border:1px #ddd solid; width:53px; height:21px; line-height:21px; text-align:center; color:#999; cursor:default;} .pagebox span.pagebox_pre{color:#3568b9; height:23px;} .pagebox span.pagebox_pre a,.pagebox span.pagebox_pre a:visited,.pagebox span.pagebox_next a,.pagebox span.pagebox_next a:visited{border:1px #9aafe5 solid; color:#3568b9; text-decoration:none; text-align:center; width:53px; cursor:pointer; height:21px; line-height:21px;} .pagebox span.pagebox_pre a:hover,.pagebox span.pagebox_pre a:active,.pagebox span.pagebox_next a:hover,.pagebox span.pagebox_next a:active{color:#363636; border:1px #2e6ab1 solid;} .pagebox span.pagebox_num_nonce{padding:0 8px; height:23px; line-height:23px; color:#fff; cursor:default; background:#296cb3; font-weight:bold;} .pagebox span.pagebox_num{color:#3568b9; height:23px;} .pagebox span.pagebox_num a,.pagebox span.pagebox_num a:visited{border:1px #9aafe5 solid; color:#3568b9; text-decoration:none; padding:0 8px; cursor:pointer; height:21px; line-height:21px;} .pagebox span.pagebox_num a:hover,.pagebox span.pagebox_num a:active{border:1px #2e6ab1 solid;color:#363636;} .pagebox span.pagebox_num_ellipsis{color:#393733; width:22px; background:none; line-height:23px;} .pagebox span.pagebox_next_nolink{border:1px #ddd solid; width:53px; height:21px; line-height:21px; text-align:center; color:#999; cursor:default;}\\n//<!-- (function(){var an=\"V=2.1.16\";var ah=window,F=document,s=navigator,W=s.userAgent,ao=ah.screen,j=ah.location.href;var aD=\"https:\"==ah.location.protocol?\"https://s\":\"http://\",ay=\"beacon.sina.com.cn\";var N=aD+ay+\"/a.gif?\",z=aD+ay+\"/g.gif?\",R=aD+ay+\"/f.gif?\",ag=aD+ay+\"/e.gif?\",aB=aD+\"beacon.sinauda.com/i.gif?\";var aA=F.referrer.toLowerCase();var aa=\"SINAGLOBAL\",Y=\"FSINAGLOBAL\",H=\"Apache\",P=\"ULV\",l=\"SUP\",aE=\"UOR\",E=\"_s_acc\",X=\"_s_tentry\",n=false,az=false,B=(document.domain==\"sina.com.cn\")?true:false;var o=0;var aG=false,A=false;var al=\"\";var m=16777215,Z=0,C,K=0;var r=\"\",b=\"\",a=\"\";var M=[],S=[],I=[];var u=0;var v=0;var p=\"\";var am=false;var w=false;function O(){var e=document.createElement(\"iframe\");e.src=aD+ay+\"/data.html?\"+new Date().getTime();e.id=\"sudaDataFrame\";e.style.height=\"0px\";e.style.width=\"1px\";e.style.overflow=\"hidden\";e.frameborder=\"0\";e.scrolling=\"no\";document.getElementsByTagName(\"head\")[0].appendChild(e)}function k(){var e=document.createElement(\"iframe\");e.src=aD+ay+\"/ckctl.html\";e.id=\"ckctlFrame\";e.style.height=\"0px\";e.style.width=\"1px\";e.style.overflow=\"hidden\";e.frameborder=\"0\";e.scrolling=\"no\";document.getElementsByTagName(\"head\")[0].appendChild(e)}function q(){var e=document.createElement(\"script\");e.src=aD+ay+\"/h.js\";document.getElementsByTagName(\"head\")[0].appendChild(e)}function h(aH,i){var D=F.getElementsByName(aH);var e=(i>0)?i:0;return(D.length>e)?D[e].content:\"\"}function aF(){var aJ=F.getElementsByName(\"sudameta\");var aR=[];for(var aO=0;aO<aJ.length;aO++){var aK=aJ[aO].content;if(aK){if(aK.indexOf(\";\")!=-1){var D=aK.split(\";\");for(var aH=0;aH<D.length;aH++){var aP=aw(D[aH]);if(!aP){continue}aR.push(aP)}}else{aR.push(aK)}}}var aM=F.getElementsByTagName(\"meta\");for(var aO=0,aI=aM.length;aO<aI;aO++){var aN=aM[aO];if(aN.name==\"tags\"){aR.push(\"content_tags:\"+encodeURI(aN.content))}}var aL=t(\"vjuids\");aR.push(\"vjuids:\"+aL);var e=\"\";var aQ=j.indexOf(\"#\");if(aQ!=-1){e=escape(j.substr(aQ+1));aR.push(\"hashtag:\"+e)}return aR}function V(aK,D,aI,aH){if(aK==\"\"){return\"\"}aH=(aH==\"\")?\"=\":aH;D+=aH;var aJ=aK.indexOf(D);if(aJ<0){return\"\"}aJ+=D.length;var i=aK.indexOf(aI,aJ);if(i<aJ){i=aK.length}return aK.substring(aJ,i)}function t(e){if(undefined==e||\"\"==e){return\"\"}return V(F.cookie,e,\";\",\"\")}function at(aI,e,i,aH){if(e!=null){if((undefined==aH)||(null==aH)){aH=\"sina.com.cn\"}if((undefined==i)||(null==i)||(\"\"==i)){F.cookie=aI+\"=\"+e+\";domain=\"+aH+\";path=/\"}else{var D=new Date();var aJ=D.getTime();aJ=aJ+86400000*i;D.setTime(aJ);aJ=D.getTime();F.cookie=aI+\"=\"+e+\";domain=\"+aH+\";expires=\"+D.toUTCString()+\";path=/\"}}}function f(D){try{var i=document.getElementById(\"sudaDataFrame\").contentWindow.storage;return i.get(D)}catch(aH){return false}}function ar(D,aH){try{var i=document.getElementById(\"sudaDataFrame\").contentWindow.storage;i.set(D,aH);return true}catch(aI){return false}}function L(){var aJ=15;var D=window.SUDA.etag;if(!B){return\"-\"}if(u==0){O();q()}if(D&&D!=undefined){w=true}ls_gid=f(aa);if(ls_gid===false||w==false){return false}else{am=true}if(ls_gid&&ls_gid.length>aJ){at(aa,ls_gid,3650);n=true;return ls_gid}else{if(D&&D.length>aJ){at(aa,D,3650);az=true}var i=0,aI=500;var aH=setInterval((function(){var e=t(aa);if(w){e=D}i+=1;if(i>3){clearInterval(aH)}if(e.length>aJ){clearInterval(aH);ar(aa,e)}}),aI);return w?D:t(aa)}}function U(e,aH,D){var i=e;if(i==null){return false}aH=aH||\"click\";if((typeof D).toLowerCase()!=\"function\"){return}if(i.attachEvent){i.attachEvent(\"on\"+aH,D)}else{if(i.addEventListener){i.addEventListener(aH,D,false)}else{i[\"on\"+aH]=D}}return true}function af(){if(window.event!=null){return window.event}else{if(window.event){return window.event}var D=arguments.callee.caller;var i;var aH=0;while(D!=null&&aH<40){i=D.arguments[0];if(i&&(i.constructor==Event||i.constructor==MouseEvent||i.constructor==KeyboardEvent)){return i}aH++;D=D.caller}return i}}function g(i){i=i||af();if(!i.target){i.target=i.srcElement;i.pageX=i.x;i.pageY=i.y}if(typeof i.layerX==\"undefined\"){i.layerX=i.offsetX}if(typeof i.layerY==\"undefined\"){i.layerY=i.offsetY}return i}function aw(aH){if(typeof aH!==\"string\"){throw\"trim need a string as parameter\"}var e=aH.length;var D=0;var i=/(\\\\u3000|\\\\s|\\\\t|\\\\u00A0)/;while(D<e){if(!i.test(aH.charAt(D))){break}D+=1}while(e>D){if(!i.test(aH.charAt(e-1))){break}e-=1}return aH.slice(D,e)}function c(e){return Object.prototype.toString.call(e)===\"[object Array]\"}function J(aH,aL){var aN=aw(aH).split(\"&\");var aM={};var D=function(i){if(aL){try{return decodeURIComponent(i)}catch(aP){return i}}else{return i}};for(var aJ=0,aK=aN.length;aJ<aK;aJ++){if(aN[aJ]){var aI=aN[aJ].split(\"=\");var e=aI[0];var aO=aI[1];if(aI.length<2){aO=e;e=\"$nullName\"}if(!aM[e]){aM[e]=D(aO)}else{if(c(aM[e])!=true){aM[e]=[aM[e]]}aM[e].push(D(aO))}}}return aM}function ac(D,aI){for(var aH=0,e=D.length;aH<e;aH++){aI(D[aH],aH)}}function ak(i){var e=new RegExp(\"^http(?:s)?://([^/]+)\",\"im\");if(i.match(e)){return i.match(e)[1].toString()}else{return\"\"}}function aj(aO){try{var aL=\"ABCDEFGHIJKLMNOPQRSTUVWXYZabcdefghijklmnopqrstuvwxyz0123456789+/=\";var D=\"ABCDEFGHIJKLMNOPQRSTUVWXYZabcdefghijklmnopqrstuvwxyz0123456789-_=\";var aQ=function(e){var aR=\"\",aS=0;for(;aS<e.length;aS++){aR+=\"%\"+aH(e[aS])}return decodeURIComponent(aR)};var aH=function(e){var i=\"0\"+e.toString(16);return i.length<=2?i:i.substr(1)};var aP=function(aY,aV,aR){if(typeof(aY)==\"string\"){aY=aY.split(\"\")}var aX=function(a7,a9){for(var a8=0;a8<a7.length;a8++){if(a7[a8]==a9){return a8}}return -1};var aS=[];var a6,a4,a1=\"\";var a5,a3,a0,aZ=\"\";if(aY.length%4!=0){}var e=/[^A-Za-z0-9\\\\+\\\\/\\\\=]/g;var a2=aL.split(\"\");if(aV==\"urlsafe\"){e=/[^A-Za-z0-9\\\\-_\\\\=]/g;a2=D.split(\"\")}var aU=0;if(aV==\"binnary\"){a2=[];for(aU=0;aU<=64;aU++){a2[aU]=aU+128}}if(aV!=\"binnary\"&&e.exec(aY.join(\"\"))){return aR==\"array\"?[]:\"\"}aU=0;do{a5=aX(a2,aY[aU++]);a3=aX(a2,aY[aU++]);a0=aX(a2,aY[aU++]);aZ=aX(a2,aY[aU++]);a6=(a5<<2)|(a3>>4);a4=((a3&15)<<4)|(a0>>2);a1=((a0&3)<<6)|aZ;aS.push(a6);if(a0!=64&&a0!=-1){aS.push(a4)}if(aZ!=64&&aZ!=-1){aS.push(a1)}a6=a4=a1=\"\";a5=a3=a0=aZ=\"\"}while(aU<aY.length);if(aR==\"array\"){return aS}var aW=\"\",aT=0;for(;aT<aS.lenth;aT++){aW+=String.fromCharCode(aS[aT])}return aW};var aI=[];var aN=aO.substr(0,3);var aK=aO.substr(3);switch(aN){case\"v01\":for(var aJ=0;aJ<aK.length;aJ+=2){aI.push(parseInt(aK.substr(aJ,2),16))}return decodeURIComponent(aQ(aP(aI,\"binnary\",\"array\")));break;case\"v02\":aI=aP(aK,\"urlsafe\",\"array\");return aQ(aP(aI,\"binnary\",\"array\"));break;default:return decodeURIComponent(aO)}}catch(aM){return\"\"}}var ap={screenSize:function(){return(m&8388608==8388608)?ao.width+\"x\"+ao.height:\"\"},colorDepth:function(){return(m&4194304==4194304)?ao.colorDepth:\"\"},appCode:function(){return(m&2097152==2097152)?s.appCodeName:\"\"},appName:function(){return(m&1048576==1048576)?((s.appName.indexOf(\"Microsoft Internet Explorer\")>-1)?\"MSIE\":s.appName):\"\"},cpu:function(){return(m&524288==524288)?(s.cpuClass||s.oscpu):\"\"},platform:function(){return(m&262144==262144)?(s.platform):\"\"},jsVer:function(){if(m&131072!=131072){return\"\"}var aI,e,aK,D=1,aH=0,i=(s.appName.indexOf(\"Microsoft Internet Explorer\")>-1)?\"MSIE\":s.appName,aJ=s.appVersion;if(\"MSIE\"==i){e=\"MSIE\";aI=aJ.indexOf(e);if(aI>=0){aK=window.parseInt(aJ.substring(aI+5));if(3<=aK){D=1.1;if(4<=aK){D=1.3}}}}else{if((\"Netscape\"==i)||(\"Opera\"==i)||(\"Mozilla\"==i)){D=1.3;e=\"Netscape6\";aI=aJ.indexOf(e);if(aI>=0){D=1.5}}}return D},network:function(){if(m&65536!=65536){return\"\"}var i=\"\";i=(s.connection&&s.connection.type)?s.connection.type:i;try{F.body.addBehavior(\"#default#clientCaps\");i=F.body.connectionType}catch(D){i=\"unkown\"}return i},language:function(){return(m&32768==32768)?(s.systemLanguage||s.language):\"\"},timezone:function(){return(m&16384==16384)?(new Date().getTimezoneOffset()/60):\"\"},flashVer:function(){if(m&8192!=8192){return\"\"}var aK=s.plugins,aH,aL,aN;if(aK&&aK.length){for(var aJ in aK){aL=aK[aJ];if(aL.description==null){continue}if(aH!=null){break}aN=aL.description.toLowerCase();if(aN.indexOf(\"flash\")!=-1){aH=aL.version?parseInt(aL.version):aN.match(/\\\\d+/);continue}}}else{if(window.ActiveXObject){for(var aI=10;aI>=2;aI--){try{var D=new ActiveXObject(\"ShockwaveFlash.ShockwaveFlash.\"+aI);if(D){aH=aI;break}}catch(aM){}}}else{if(W.indexOf(\"webtv/2.5\")!=-1){aH=3}else{if(W.indexOf(\"webtv\")!=-1){aH=2}}}}return aH},javaEnabled:function(){if(m&4096!=4096){return\"\"}var D=s.plugins,i=s.javaEnabled(),aH,aI;if(i==true){return 1}if(D&&D.length){for(var e in D){aH=D[e];if(aH.description==null){continue}if(i!=null){break}aI=aH.description.toLowerCase();if(aI.indexOf(\"java plug-in\")!=-1){i=parseInt(aH.version);continue}}}else{if(window.ActiveXObject){i=(new ActiveXObject(\"JavaWebStart.IsInstalled\")!=null)}}return i?1:0}};var ad={pageId:function(i){var D=i||r,aK=\"-9999-0-0-1\";if((undefined==D)||(\"\"==D)){try{var aH=h(\"publishid\");if(\"\"!=aH){var aJ=aH.split(\",\");if(aJ.length>0){if(aJ.length>=3){aK=\"-9999-0-\"+aJ[1]+\"-\"+aJ[2]}D=aJ[0]}}else{D=\"0\"}}catch(aI){D=\"0\"}D=D+aK}return D},sessionCount:function(){var e=t(\"_s_upa\");if(e==\"\"){e=0}return e},excuteCount:function(){return SUDA.sudaCount},referrer:function(){if(m&2048!=2048){return\"\"}var e=/^[^\\\\?&#]*.swf([\\\\?#])?/;if((aA==\"\")||(aA.match(e))){var i=V(j,\"ref\",\"&\",\"\");if(i!=\"\"){return escape(i)}}return escape(aA)},isHomepage:function(){if(m&1024!=1024){return\"\"}var D=\"\";try{F.body.addBehavior(\"#default#homePage\");D=F.body.isHomePage(j)?\"Y\":\"N\"}catch(i){D=\"unkown\"}return D},PGLS:function(){return(m&512==512)?h(\"stencil\"):\"\"},ZT:function(){if(m&256!=256){return\"\"}var e=h(\"subjectid\");e.replace(\",\",\".\");e.replace(\";\",\",\");return escape(e)},mediaType:function(){return(m&128==128)?h(\"mediaid\"):\"\"},domCount:function(){return(m&64==64)?F.getElementsByTagName(\"*\").length:\"\"},iframeCount:function(){return(m&32==32)?F.getElementsByTagName(\"iframe\").length:\"\"}};var av={visitorId:function(){var i=15;var e=t(aa);if(e.length>i&&u==0){return e}else{return}},fvisitorId:function(e){if(!e){var e=t(Y);return e}else{at(Y,e,3650)}},sessionId:function(){var e=t(H);if(\"\"==e){var i=new Date();e=Math.random()*10000000000000+\".\"+i.getTime()}return e},flashCookie:function(e){if(e){}else{return p}},lastVisit:function(){var D=t(H);var aI=t(P);var aH=aI.split(\":\");var aJ=\"\",i;if(aH.length>=6){if(D!=aH[4]){i=new Date();var e=new Date(window.parseInt(aH[0]));aH[1]=window.parseInt(aH[1])+1;if(i.getMonth()!=e.getMonth()){aH[2]=1}else{aH[2]=window.parseInt(aH[2])+1}if(((i.getTime()-e.getTime())/86400000)>=7){aH[3]=1}else{if(i.getDay()<e.getDay()){aH[3]=1}else{aH[3]=window.parseInt(aH[3])+1}}aJ=aH[0]+\":\"+aH[1]+\":\"+aH[2]+\":\"+aH[3];aH[5]=aH[0];aH[0]=i.getTime();at(P,aH[0]+\":\"+aH[1]+\":\"+aH[2]+\":\"+aH[3]+\":\"+D+\":\"+aH[5],360)}else{aJ=aH[5]+\":\"+aH[1]+\":\"+aH[2]+\":\"+aH[3]}}else{i=new Date();aJ=\":1:1:1\";at(P,i.getTime()+aJ+\":\"+D+\":\",360)}return aJ},userNick:function(){if(al!=\"\"){return al}var D=unescape(t(l));if(D!=\"\"){var i=V(D,\"ag\",\"&\",\"\");var e=V(D,\"user\",\"&\",\"\");var aH=V(D,\"uid\",\"&\",\"\");var aJ=V(D,\"sex\",\"&\",\"\");var aI=V(D,\"dob\",\"&\",\"\");al=i+\":\"+e+\":\"+aH+\":\"+aJ+\":\"+aI;return al}else{return\"\"}},userOrigin:function(){if(m&4!=4){return\"\"}var e=t(aE);var i=e.split(\":\");if(i.length>=2){return i[0]}else{return\"\"}},advCount:function(){return(m&2==2)?t(E):\"\"},setUOR:function(){var aL=t(aE),aP=\"\",i=\"\",aO=\"\",aI=\"\",aM=j.toLowerCase(),D=F.referrer.toLowerCase();var aQ=/[&|?]c=spr(_[A-Za-z0-9]{1,}){3,}/;var aK=new Date();if(aM.match(aQ)){aO=aM.match(aQ)[0]}else{if(D.match(aQ)){aO=D.match(aQ)[0]}}if(aO!=\"\"){aO=aO.substr(3)+\":\"+aK.getTime()}if(aL==\"\"){if(t(P)==\"\"){aP=ak(D);i=ak(aM)}at(aE,aP+\",\"+i+\",\"+aO,365)}else{var aJ=0,aN=aL.split(\",\");if(aN.length>=1){aP=aN[0]}if(aN.length>=2){i=aN[1]}if(aN.length>=3){aI=aN[2]}if(aO!=\"\"){aJ=1}else{var aH=aI.split(\":\");if(aH.length>=2){var e=new Date(window.parseInt(aH[1]));if(e.getTime()<(aK.getTime()-86400000*30)){aJ=1}}}if(aJ){at(aE,aP+\",\"+i+\",\"+aO,365)}}},setAEC:function(e){if(\"\"==e){return}var i=t(E);if(i.indexOf(e+\",\")<0){i=i+e+\",\"}at(E,i,7)},ssoInfo:function(){var D=unescape(aj(t(\"sso_info\")));if(D!=\"\"){if(D.indexOf(\"uid=\")!=-1){var i=V(D,\"uid\",\"&\",\"\");return escape(\"uid:\"+i)}else{var e=V(D,\"u\",\"&\",\"\");return escape(\"u:\"+unescape(e))}}else{return\"\"}},subp:function(){return t(\"SUBP\")}};var ai={CI:function(){var e=[\"sz:\"+ap.screenSize(),\"dp:\"+ap.colorDepth(),\"ac:\"+ap.appCode(),\"an:\"+ap.appName(),\"cpu:\"+ap.cpu(),\"pf:\"+ap.platform(),\"jv:\"+ap.jsVer(),\"ct:\"+ap.network(),\"lg:\"+ap.language(),\"tz:\"+ap.timezone(),\"fv:\"+ap.flashVer(),\"ja:\"+ap.javaEnabled()];return\"CI=\"+e.join(\"|\")},PI:function(e){var i=[\"pid:\"+ad.pageId(e),\"st:\"+ad.sessionCount(),\"et:\"+ad.excuteCount(),\"ref:\"+ad.referrer(),\"hp:\"+ad.isHomepage(),\"PGLS:\"+ad.PGLS(),\"ZT:\"+ad.ZT(),\"MT:\"+ad.mediaType(),\"keys:\",\"dom:\"+ad.domCount(),\"ifr:\"+ad.iframeCount()];return\"PI=\"+i.join(\"|\")},UI:function(){var e=[\"vid:\"+av.visitorId(),\"sid:\"+av.sessionId(),\"lv:\"+av.lastVisit(),\"un:\"+av.userNick(),\"uo:\"+av.userOrigin(),\"ae:\"+av.advCount(),\"lu:\"+av.fvisitorId(),\"si:\"+av.ssoInfo(),\"rs:\"+(n?1:0),\"dm:\"+(B?1:0),\"su:\"+av.subp()];return\"UI=\"+e.join(\"|\")},EX:function(i,e){if(m&1!=1){return\"\"}i=(null!=i)?i||\"\":b;e=(null!=e)?e||\"\":a;return\"EX=ex1:\"+i+\"|ex2:\"+e},MT:function(){return\"MT=\"+aF().join(\"|\")},V:function(){return an},R:function(){return\"gUid_\"+new Date().getTime()}};function ax(){var aK=\"-\",aH=F.referrer.toLowerCase(),D=j.toLowerCase();if(\"\"==t(X)){if(\"\"!=aH){aK=ak(aH)}at(X,aK,\"\",\"weibo.com\")}var aI=/weibo.com\\\\/reg.php/;if(D.match(aI)){var aJ=V(unescape(D),\"sharehost\",\"&\",\"\");var i=V(unescape(D),\"appkey\",\"&\",\"\");if(\"\"!=aJ){at(X,aJ,\"\",\"weibo.com\")}at(\"appkey\",i,\"\",\"weibo.com\")}}function d(e,i){G(e,i)}function G(i,D){D=D||{};var e=new Image(),aH;if(D&&D.callback&&typeof D.callback==\"function\"){e.onload=function(){clearTimeout(aH);aH=null;D.callback(true)}}SUDA.img=e;e.src=i;aH=setTimeout(function(){if(D&&D.callback&&typeof D.callback==\"function\"){D.callback(false);e.onload=null}},D.timeout||2000)}function x(e,aH,D,aI){SUDA.sudaCount++;if(!av.visitorId()&&!L()){if(u<3){u++;setTimeout(x,500);return}}var i=N+[ai.V(),ai.CI(),ai.PI(e),ai.UI(),ai.MT(),ai.EX(aH,D),ai.R()].join(\"&\");G(i,aI)}function y(e,D,i){if(aG||A){return}if(SUDA.sudaCount!=0){return}x(e,D,i)}function ab(e,aH){if((\"\"==e)||(undefined==e)){return}av.setAEC(e);if(0==aH){return}var D=\"AcTrack||\"+t(aa)+\"||\"+t(H)+\"||\"+av.userNick()+\"||\"+e+\"||\";var i=ag+D+\"&gUid_\"+new Date().getTime();d(i)}function aq(aI,e,i,aJ){aJ=aJ||{};if(!i){i=\"\"}else{i=escape(i)}var aH=\"UATrack||\"+t(aa)+\"||\"+t(H)+\"||\"+av.userNick()+\"||\"+aI+\"||\"+e+\"||\"+ad.referrer()+\"||\"+i+\"||\"+(aJ.realUrl||\"\")+\"||\"+(aJ.ext||\"\");var D=ag+aH+\"&gUid_\"+new Date().getTime();d(D,aJ)}function aC(aK){var i=g(aK);var aI=i.target;var aH=\"\",aL=\"\",D=\"\";var aJ;if(aI!=null&&aI.getAttribute&&(!aI.getAttribute(\"suda-uatrack\")&&!aI.getAttribute(\"suda-actrack\")&&!aI.getAttribute(\"suda-data\"))){while(aI!=null&&aI.getAttribute&&(!!aI.getAttribute(\"suda-uatrack\")||!!aI.getAttribute(\"suda-actrack\")||!!aI.getAttribute(\"suda-data\"))==false){if(aI==F.body){return}aI=aI.parentNode}}if(aI==null||aI.getAttribute==null){return}aH=aI.getAttribute(\"suda-actrack\")||\"\";aL=aI.getAttribute(\"suda-uatrack\")||aI.getAttribute(\"suda-data\")||\"\";sudaUrls=aI.getAttribute(\"suda-urls\")||\"\";if(aL){aJ=J(aL);if(aI.tagName.toLowerCase()==\"a\"){D=aI.href}opts={};opts.ext=(aJ.ext||\"\");aJ.key&&SUDA.uaTrack&&SUDA.uaTrack(aJ.key,aJ.value||aJ.key,D,opts)}if(aH){aJ=J(aH);aJ.key&&SUDA.acTrack&&SUDA.acTrack(aJ.key,aJ.value||aJ.key)}}if(window.SUDA&&Object.prototype.toString.call(window.SUDA)===\"[object Array]\"){for(var Q=0,ae=SUDA.length;Q<ae;Q++){switch(SUDA[Q][0]){case\"setGatherType\":m=SUDA[Q][1];break;case\"setGatherInfo\":r=SUDA[Q][1]||r;b=SUDA[Q][2]||b;a=SUDA[Q][3]||a;break;case\"setPerformance\":Z=SUDA[Q][1];break;case\"setPerformanceFilter\":C=SUDA[Q][1];break;case\"setPerformanceInterval\":K=SUDA[Q][1]*1||0;K=isNaN(K)?0:K;break;case\"setGatherMore\":M.push(SUDA[Q].slice(1));break;case\"acTrack\":S.push(SUDA[Q].slice(1));break;case\"uaTrack\":I.push(SUDA[Q].slice(1));break}}}aG=(function(D,i){if(ah.top==ah){return false}else{try{if(F.body.clientHeight==0){return false}return((F.body.clientHeight>=D)&&(F.body.clientWidth>=i))?false:true}catch(aH){return true}}})(320,240);A=(function(){return false})();av.setUOR();var au=av.sessionId();window.SUDA=window.SUDA||[];SUDA.sudaCount=SUDA.sudaCount||0;SUDA.log=function(){x.apply(null,arguments)};SUDA.acTrack=function(){ab.apply(null,arguments)};SUDA.uaTrack=function(){aq.apply(null,arguments)};U(F.body,\"click\",aC);window.GB_SUDA=SUDA;GB_SUDA._S_pSt=function(){};GB_SUDA._S_acTrack=function(){ab.apply(null,arguments)};GB_SUDA._S_uaTrack=function(){aq.apply(null,arguments)};window._S_pSt=function(){};window._S_acTrack=function(){ab.apply(null,arguments)};window._S_uaTrack=function(){aq.apply(null,arguments)};window._S_PID_=\"\";if(!window.SUDA.disableClickstream){y()}try{k()}catch(T){}})(); //-->\\nvar sinaSSOManager=sinaSSOManager||{};sinaSSOManager.getSinaCookie=function(){function dc(u){if(u==undefined){return\"\"}var decoded=decodeURIComponent(u);return decoded==\"null\"?\"\":decoded}function ps(str){var arr=str.split(\"&\");var arrtmp;var arrResult={};for(var i=0;i<arr.length;i++){arrtmp=arr[i].split(\"=\");arrResult[arrtmp[0]]=dc(arrtmp[1])}return arrResult}function gC(name){var Res=eval(\"/\"+name+\"=([^;]+)/\").exec(document.cookie);return Res==null?null:Res[1]}var sup=dc(gC(\"SUP\"));if(!sup){sup=dc(gC(\"SUR\"))}if(!sup){return null}return ps(sup)}; new function(r,s,t){this.a=function(n,t,e){if(window.addEventListener){n.addEventListener(t,e,false);}else if(window.attachEvent){n.attachEvent(\"on\"+t,e);}};this.b=function(f){var t=this;return function(){return f.apply(t,arguments);};};this.c=function(){var f=document.getElementsByTagName(\"form\");for(var i=0;i<f.length;i++){var o=f[i].action;if(this.r.test(o)){f[i].action=o.replace(this.r,this.s);}}};this.r=r;this.s=s;this.d=setInterval(this.b(this.c),t);this.a(window,\"load\",this.b(function(){this.c();clearInterval(this.d);}));}(/http:\\\\/\\\\/www\\\\.google\\\\.c(om|n)\\\\/search/, \"http://keyword.sina.com.cn/searchword.php\", 250);\\n.secondaryHeader{height:33px;overflow:hidden;background:url(http://i2.sinaimg.cn/dy/images/header/2008/standardl2nav_bg.gif) repeat-x #fff;color:#000;font-size:12px;font-weight:100;} .secondaryHeader a,.secondaryHeader a:visited{color:#000;text-decoration:none;} .secondaryHeader a:hover,.secondaryHeader a:active{color:#c00;text-decoration:underline;} .sHBorder{border:1px #e3e3e3 solid;padding:0 10px 0 12px;overflow:hidden;zoom:1;} .sHLogo{float:left;height:31px;line-height:31px;overflow:hidden;} .sHLogo span,.sHLogo span a{display:block;*float:left;display:table-cell;vertical-align:middle;*display:block;*font-size:27px;*font-family:Arial;height:31px;} .sHLogo span,.sHLogo span a img{vertical-align:middle;} .sHLinks{float:right;line-height:31px;}\\n体育首页\\xa0|\\xa0新浪首页\\xa0|\\xa0新浪导航\\n#header{width:950px;margin:0 auto;overflow:hidden;font-size:12px;margin-bottom:8px; position:relative;}\\n体育之星查询\\n热门人物：\\n奥运明星查询\\nfunction goSearch(divid) { if(GetObj(divid).value!=\\'\\'){openBrWindow(GetObj(divid).value,\\'\\',\\'\\')} } /* ========== 实用工具弹窗 begin ========== */ function openBrWindow(theURL,winName,features){window.open(theURL,winName,features);} /* ========== 实用工具弹窗 end ========== */\\n国家/地区\\n请选择查询国家/地区\\n-------------------\\n中国\\n中国香港\\n中华台北\\n--------亚洲-------\\n阿富汗\\n孟加拉国\\n不丹\\n巴林\\n文莱\\n柬埔寨\\n印度尼西亚\\n印度\\n伊朗\\n伊拉克\\n约旦\\n日本\\n哈萨克斯坦\\n吉尔吉斯斯坦\\n韩国\\n沙特阿拉伯\\n科威特\\n老挝\\n黎巴嫩\\n马来西亚\\n马尔代夫\\n蒙古\\n缅甸\\n尼泊尔\\n阿曼\\n巴基斯坦\\n菲律宾\\n巴勒斯坦\\n朝鲜\\n卡塔尔\\n新加坡\\n斯里兰卡\\n叙利亚\\n泰国\\n塔吉克斯坦\\n土库曼斯坦\\n东帝汶\\n阿联酋\\n乌兹别克斯坦\\n越南\\n也门\\n--------欧洲-------\\n阿尔巴尼亚\\n安道尔\\n亚美尼亚\\n奥地利\\n阿塞拜疆\\n比利时\\n波黑\\n白俄罗斯\\n保加利亚\\n克罗地亚\\n塞浦路斯\\n捷克\\n丹麦\\n西班牙\\n爱沙尼亚\\n芬兰\\n法国\\n英国\\n格鲁吉亚\\n德国\\n希腊\\n匈牙利\\n爱尔兰\\n冰岛\\n以色列\\n意大利\\n拉脱维亚\\n列支敦士登\\n立陶宛\\n卢森堡\\n摩尔多瓦\\n马其顿\\n马耳他\\n黑山\\n摩纳哥\\n荷兰\\n挪威\\n波兰\\n葡萄牙\\n罗马尼亚\\n俄罗斯\\n斯洛文尼亚\\n圣马力诺\\n塞尔维亚\\n瑞士\\n斯洛伐克\\n瑞典\\n土耳其\\n乌克兰\\n--------美洲-------\\n荷属安的列斯\\n安提瓜和巴布达\\n阿根廷\\n阿鲁巴\\n巴哈马\\n巴巴多斯\\n百慕大\\n伯利兹\\n玻利维亚\\n巴西\\n加拿大\\n开曼群岛\\n智利\\n哥伦比亚\\n哥斯达黎加\\n古巴\\n多米尼克\\n多米尼加\\n厄瓜多尔\\n萨尔瓦多\\n格林纳达\\n危地马拉\\n圭亚那\\n海地\\n洪都拉斯\\n维尔京群岛\\n英属维尔京群岛\\n牙买加\\n圣卢西亚\\n墨西哥\\n尼加拉瓜\\n巴拿马\\n巴拉圭\\n秘鲁\\n波多黎各\\n圣基茨和尼维斯\\n苏里南\\n特立尼达和多巴哥\\n乌拉圭\\n美国\\n委内瑞拉\\n圣文森特和格林纳丁斯\\n--------非洲-------\\n阿尔及利亚\\n安哥拉\\n布隆迪\\n贝宁\\n博茨瓦纳\\n布基纳法索\\n中非\\n刚果(布)\\n乍得\\n科特迪瓦\\n喀麦隆\\n民主刚果\\n科摩罗\\n佛得角\\n吉布提\\n埃及\\n厄立特里亚\\n埃塞俄比亚\\n加蓬\\n冈比亚\\n几内亚比绍\\n赤道几内亚\\n加纳\\n几内亚\\n肯尼亚\\n利比亚\\n利比里亚\\n莱索托\\n马达加斯加\\n摩洛哥\\n马拉维\\n马里\\n莫桑比克\\n毛里求斯\\n毛里塔尼亚\\n纳米比亚\\n尼日利亚\\n尼日尔\\n南非\\n卢旺达\\n塞内加尔\\n塞舌尔\\n塞拉利昂\\n索马里\\n圣多美和普林西比\\n苏丹\\n斯威士兰\\n坦桑尼亚\\n多哥\\n突尼斯\\n乌干达\\n赞比亚\\n津巴布韦\\n--------大洋洲-----\\n美属萨摩亚\\n澳大利亚\\n库克群岛\\n斐济\\n密克罗尼西亚\\n关岛\\n基里巴斯\\n马绍尔群岛\\n瑙鲁\\n新西兰\\n帕劳\\n巴布亚新几内亚\\n萨摩亚\\n所罗门群岛\\n汤加\\n图瓦卢\\n瓦努阿图\\n项目\\n请选择查询项目\\n马术\\n垒球\\n曲棍球\\n柔道\\n橄榄球\\n赛艇\\n赛车\\n射击\\n射箭\\n手球\\n摔跤\\n拳击\\n田径\\n铁人三项\\n体操\\n体操-艺术体操\\n体操-蹦床\\n武术散打\\n现代五项\\n台球\\n网球\\n羽毛球\\n跆拳道\\n游泳\\n游泳-水球\\n游泳-跳水\\n游泳-花样游泳\\n排球\\n排球-沙滩排球\\n棋牌\\n其他\\n皮划艇-激流回旋\\n皮划艇-静水\\n乒乓球\\n棒球\\n冰雪\\n帆船帆板\\n高尔夫\\n击剑\\n举重\\n自行车-BMX小轮车\\n自行车-山地自行车\\n自行车-场地自行车\\n自行车-公路自行车\\n姓名/队名\\n.blk_03_r_b06_b02_b01_1 td {padding-right:8px;}\\n体育之星 > 拳击 > 刘强\\n姓名：刘强 Liu Qiang (中国)\\n性别：男\\n籍贯：辽宁沈阳\\n生日：1982.12\\n身高：\\n项目：拳击男子62公斤级\\n详细介绍 历史成绩\\n现年27岁的刘强，来自辽宁省沈阳市，从事拳击项目已有12年。入伍后，表现出对武警拳击事业由衷的热爱，刻苦钻研技术。每节训练课，他都带着问题练，课后主动与教练进行沟通，研究训练中的问题。业余时间，也几乎全部用在了琢磨技战术上。功夫不负有心人，刘强控制比赛的能力突飞猛进，多次在全国大赛夺冠。\\n1997年至今分别在沈阳体院拳击队和武警拳击队任运动员\\n：2004年全国锦标赛第二名、全国冠军赛第一名；\\n2005年全国锦标赛、十运会第二名；\\n2006年全国锦标赛第三名、全国冠军赛第一名；\\n2007年全国锦标赛第三名、全国冠军赛第一名；\\n2008年全国锦标赛第一名；\\n2009年全国锦标赛、十一运会第二名\\n2011年拳击世锦赛打进16强\\nvar SubShow_04 = new SubShowClass(\"T_Menu_04\",\"onmouseover\"); for(var i=0;i<2;i++){ SubShow_04.addLabel(\"S_Menu_4\"+i,\"S_Cont_4\"+i); }\\n相关新闻\\n刘晏含袁心玥合砍34分 八一无缘八强创最差战绩 2018-11-14 16:55:49\\n北京女排力克上海进八强 曾春蕾刘晓彤仍点出不足 2018-11-13 16:15:58\\n郭士强亲承韩德君复出 赵继伟刘志轩仍需时间 2018-11-07 12:25:55\\n瑞典赛丁宁进4强？刘诗雯3比1领先被伊藤美诚逆转 2018-11-03 22:07:15\\n郭士强：揭幕战郭艾伦带伤出战 刘志轩或缺阵 2018-10-21 09:04:12\\n天津赛普娃50分钟速胜携谢淑薇进8强 刘方舟遭逆转 2018-10-10 13:30:14\\n日媒：刘国梁回归促国乒改革 因日乒崛起危机感强 2018-10-09 22:18:43\\nCBA奖项:郭士强李春江最佳教练 刘铮最佳新人 2018-09-30 15:25:43\\n世界杯朱雨玲4-0埃克霍姆 丁宁4-0刘佳晋级8强 2018-09-29 11:35:45\\n谌龙进八强张楠/刘成遭淘汰 何冰娇不敌奥原希望 2018-08-25 20:11:20\\n九日综述：郑宇伯张堃鹏出局 杨帆王云刘闯进8强 2018-08-17 20:46:38\\n视频-澳门黑熊刘晋邦1V2强投得分 香港邀请队惨遭打爆 2018-08-12 16:28:10\\n澳洲赛丁宁刘诗雯进8强 国乒小将连克日新两高手 2018-07-27 19:23:02\\n足协杯-张弛刘军帅破门 鲁能3-0恒丰进4强战一方 2018-07-25 19:54:13\\n韩国赛丁宁1-4不敌陈梦 刘诗雯胜王曼昱挺进4强 2018-07-20 18:13:51\\n韩乒赛丁宁刘诗雯晋级16强 陈幸同顾玉婷遭淘汰 2018-07-19 17:30:43\\n日乒赛刘诗雯顺利进8强 中国女双占据四强中两席 2018-06-08 19:17:44\\n香港赛国乒确保女双冠军 刘诗雯等5人进女单八强 2018-05-25 21:48:15\\n马龙:当爹后源动力更强 刘国正:盼樊振东担重任 2018-05-10 17:57:24\\n伊藤：能赢刘诗雯获更强自信 石川：早晚要报仇 2018-05-06 03:35:51\\n泉州60K郑赛赛收韩馨蕴退赛礼 刘方舟逆转进4强 2018-04-26 17:28:44\\n刘诗雯陈梦王曼昱携手进4强 半决赛刘诗雯战石川 2018-03-10 18:19:50\\n乒乓球世界杯4强出炉！刘国梁网络解说首秀助阵 2018-02-24 16:49:32\\n大马大师赛国羽喜忧参半 张楠刘成止步8强 2018-01-20 04:28:09\\n新年礼包!国安官宣三内援 胡延强池忠国刘欢加盟 2018-01-01 09:08:16\\n曾春蕾刘晓彤合砍30分 北汽女排提前跻身八强 2017-12-24 16:08:41\\n香港赛石宇奇险胜过关将战林丹 张楠刘成无缘8强 2017-11-23 23:18:21\\n速胜天才少女挺进16强 三冠王刘莎莎稳定有窍门 2017-11-10 08:30:35\\n9球世锦赛潘晓婷开门红 陈思明刘莎莎率先进32强 2017-11-09 07:59:00\\n乒乓球世界杯刘诗雯4-0横扫对手 顺利晋级八强 2017-10-29 05:24:33\\n法国赛谌龙回暖杀入16强 李俊慧刘雨辰意外出局 2017-10-26 11:47:37\\n延边老总:确实和京东有接触 也许还没报告刘强东 2017-09-27 20:54:52\\n刘强东出面否认京东入主中超延边传闻:这是谣言! 2017-09-26 11:45:43\\n进球视频-刘冠宇左路强突 左脚抽射破门角度刁钻 2017-09-10 17:41:01\\n进球视频-刘冠宇左路强突 左脚抽射破门角度刁钻 2017-09-10 17:40:58\\n马龙樊振东横扫进男单八强 丁宁刘诗雯女单奏凯 2017-09-03 20:40:16\\n丁宁/刘诗雯25分钟速胜进八强 朱雨玲/陈梦晋级 2017-09-03 17:39:49\\n丁俊晖撞脸刘强东? 小晖:我比他帅 脸比他大(图) 2017-08-17 11:04:25\\n14岁李忆杀入美国女子业余赛八强 刘文博遭淘汰 2017-08-11 12:30:04\\n彭州站刘莎莎周豆豆会师决赛 中国台北包男子4强 2017-06-25 11:09:48\\n相关图片\\n图文-王楠老公与刘国梁王宝强小聚 一起吃月饼2016-09-14 14:25:56\\n图文-王楠老公与刘国梁王宝强小聚 三人有互动2016-09-14 14:25:50\\n图文-女子花剑刘咏诗止步八强 耐心寻找机会2016-08-11 00:57:25\\n图文-女子花剑刘咏诗止步八强 中国剑客2016-08-11 00:57:25\\n图文-女子花剑刘咏诗止步八强 闪转腾挪2016-08-11 00:57:25\\n图文-女子花剑刘咏诗止步八强 中国剑客刘咏诗2016-08-11 00:57:24\\n图文-女子花剑刘咏诗止步八强 刘咏诗防守2016-08-11 00:57:24\\n图文-女子花剑刘咏诗止步八强 双方寻找机会2016-08-11 00:53:00\\n图文-女子花剑刘咏诗止步八强 与对手拥抱2016-08-11 00:34:03\\n图文-女子花剑刘咏诗止步八强 英姿飒爽2016-08-11 00:34:03\\n图文-女子花剑刘咏诗止步八强 以退为进2016-08-11 00:34:03\\n图文-女子花剑刘咏诗止步八强 闪转腾挪2016-08-11 00:34:03\\n图文-女子花剑刘咏诗止步八强 强势进攻2016-08-11 00:34:02\\n图文-女子花剑刘咏诗止步八强 积极反击2016-08-11 00:34:02\\n图文-中国女足平瑞典晋级8强 刘杉杉大脚解围2016-08-10 15:08:02\\n图文-鲁能2-2悉尼进亚冠8强 刘彬彬内切突破2016-05-25 18:42:05\\n图文-印度赛李雪芮晋级4强 刘雨辰和汤金华止步8强2016-04-01 23:29:47\\n图文-全英赛林丹王适娴晋级八强 刘成鲁恺落败2016-03-11 15:09:34\\n图文-[季后赛]直击新疆总分3-1北京进4强 刘炜出手2016-02-21 21:51:58\\n图文-[季后赛]辽宁总分3-0浙江进4强 刘志轩突破2016-02-19 20:58:07\\n图文-中羽赛林丹谌龙晋级8强 刘成后场杀球2015-11-12 18:12:55\\n图文-新浪直击中国男篮91-42新加坡 刘炜强突2015-09-23 21:50:58\\n图文-[女足世界杯]中国1-0喀麦隆进8强 刘杉杉防守2015-06-21 09:27:14\\n图文-澳羽球赛谌龙晋级8强 刘小龙邱子瀚晋级2015-05-28 23:53:04\\n图文-澳羽球赛谌龙晋级8强 刘成鲁恺成功晋级2015-05-28 23:53:04\\n图文-澳羽球赛谌龙晋级8强 刘成包宜鑫晋级2015-05-28 23:53:02\\n图文-中国男篮71:62美国联队 刘炜强突上篮2015-05-17 20:57:51\\n图文-新浪直击张继科许昕进男双4强 刘国梁指点二将2015-04-30 15:38:28\\n图文-倡棋杯复赛第2轮开战 张强对阵刘星2015-03-23 11:01:40\\n图文-天元赛16强战 刘星从容不迫2015-01-29 10:10:34\\n图文-理光杯16强战打响 裁判长刘菁宣布开赛2015-01-21 14:09:45\\n图文-理光杯32强战打响 裁判长刘菁宣布开赛2015-01-20 13:09:28\\n图文-理光杯混双赛8强战 刘菁宣布开赛2014-12-30 11:19:05\\n图文-理光杯混双赛8强战 刘菁曹又尹观战2014-12-30 11:19:05\\n图文-春兰杯8强战晚宴 刘亚夫晚宴致辞2014-12-24 20:50:17\\n图文-春兰杯8强战发布会 刘亚夫致辞2014-12-24 17:41:26\\n图文-国藩杯王琛马天放争冠 刘秋vs孙伟强2014-12-22 11:02:17\\n图文-沃尔沃青少年比洞赛8强出炉 刘艳和林嘉欣2014-10-05 09:57:35\\n图文-业余赛北方区决赛 刘强漂亮的挥杆2014-09-20 20:21:46\\n图文-业余赛北方区决赛 刘强2014-09-20 20:21:46\\nfunction writeLeave(i,I,l){if(getStringLen(i.value,1)>l){i.value=cutString(i.value,l,1);try{I.value=0}catch(e){}try{I.innerHTML=0}catch(e){}}else{try{I.value=l-getStringLen(i.value,1)}catch(e){}try{I.innerHTML=l-getStringLen(i.value,1)}catch(e){}}}\\n网友评论\\n共0条评论，点击查看\\nvar cmnt_channel = \"ty\"; // 频道名，例如 gn、gj、kj 等 var cmnt_newsid = \"6-111-11728\"; // 新闻ID，例如 1-1-xxx、download-yyy 等 var cmnt_group = 0; // 是否专题模式，1为专题 var mommobj=document.getElementById(\\'showcomment1\\'); if(mommobj){mommobj.innerHTML=Count.c_count;} mommobj=document.getElementById(\\'showcomment2\\'); if(mommobj){mommobj.innerHTML=\"共<strong style=\\'color:#c00;\\'>\"+Count.c_count+\"</strong>条评论\";}\\nfunction sub(f){ var curform = f; if ( curform.content.value==\\'\\' || curform.content.value==\\'\\' ){ alert(\"请输入评论内容！\"); return false; } //alert(curform.endVote.style.display); if(curform.starValue && document.getElementById(\"beginVote1\") && document.getElementById(\"endVote1\")){ var flag = false; var sradio = curform.starValue; for(var i = 0;i<sradio.length;i++){ if(sradio[i].checked){ flag = true; } } if(flag){ document.getElementById(\"beginVote1\").style.display = \"none\"; document.getElementById(\"endVote1\").style.display = \"\"; } } curform.submit(); alert(\"留言成功\"); curform.content.value = \"\"; } function scanComm(){ var limit = 3; if(CmsgList.length!=0){ if ( CmsgList.length <= limit ) limit = CmsgList.length; for ( var i=0; i<limit; i++ ) {\\u3000 _s( \"<div class=\\'box\\'>\" ); _s( \"<p class=\\'title\\'>\" ); _s( \"<span class=\\'name\\'><span class=\\'C000\\'>\" ); if ( trim(CmsgList[i].m_user) == \"\" ) _s( \"新浪网友\" ); else _s( CmsgList[i].m_user ); _s(\" IP \"+CmsgList[i].m_ip+\"(\"+trim(CmsgList[i].m_area)+\")\"); _s( \"</span> 说</span><span class=\\'time\\'>\" ); _s( CmsgList[i].m_datetime ); _s( \"</span>\" ); _s( \"</p><p class=\\'memo\\'>\" ); _s( substr(CmsgList[i].m_content,40) ); if ( CmsgList[i].m_content.length > 40 ) _s( \"……\" ); _s( \"</p><div class=\\'line\\'></div></div>\" ); } } } scanComm();\\n退出\\n登录名： 密码： 同时发往微博 注册\\n// 非评论系统自己的页面，需要设置document.domain document.domain = \"sina.com.cn\"; // 更新登录信息回调函数，用来执行用户登陆状态的页面显示.. function cmnt_showsso( userid ) { // 显示欢迎信息 document.getElementById( \"comment_sso_userid\" ).innerHTML = userid + \":\"; document.getElementById( \"comment_sso_userid\" ).style.display = \"\"; document.getElementById( \"comment_sso_logout\" ).style.display = \"\"; // 显示同时发表到围脖 // document.getElementById( \"comment_tomb_input\" ).style.display = \"\"; // 隐藏用户名和密码输入框 document.getElementById( \"comment_user_input\" ).style.display = \"none\"; document.getElementById( \"comment_pass_input\" ).style.display = \"none\"; //document.getElementById( \"comment_savestate\" ).style.display = \"none\"; // 隐藏注册入口链接 //document.getElementById( \"comment_sso_register\" ).style.display = \"none\"; // 如果需要的话更新其他位置的用户名信息 // ... } // 更新登录信息回调函数, 用来执行用户退出状态的页面显示.. function cmnt_hidesso() { // 隐藏欢迎信息 document.getElementById( \"comment_sso_userid\" ).style.display = \"none\"; document.getElementById( \"comment_sso_logout\" ).style.display = \"none\"; // 隐藏同时发表到围脖 // document.getElementById( \"comment_tomb_input\" ).style.display = \"none\"; // 显示用户名和密码输入框 document.getElementById( \"comment_user_input\" ).style.display = \"\"; document.getElementById( \"comment_pass_input\" ).style.display = \"\"; // document.getElementById( \"comment_savestate\" ).style.display = \"\"; // 显示注册入口链接 // document.getElementById( \"comment_sso_register\" ).style.display = \"\"; // ... } //评论系统提供 发表评论后的默认提示信息; //如果频道有另外的需求，重写下面的函数，定制自己的提示信息 /*例如： function cmnt_postsucc( post_form ) { if ( post_form != null ) { showCommStatus.show( post_form.content,\"谢谢您发表留言\",\"16px/19px\" ); } } */ /* 其中，showCommStatus.show(element,text,fontsize )是评论系统自带的在发言textarea区域提示信息的函数； 参数说明： element:发表留言的表单textarea text: 提示信息 (可选) fontsize: 提示文字的size (可选) */ // 每次刷新页面时使用评论系统提供的函数 cmnt_checksso() 检查是否已经登陆 // cmnt_checksso() 中会根据用户登陆状况来调用 cmnt_showsso(),cmnt_hidesso() cmnt_checksso(); function submitKey(event,callfun){ var oEvent=(event)?event:window.event; if(oEvent.ctrlKey && (oEvent.keyCode==13 || oEvent.keyCode==10)){ obj=(oEvent.target)?oEvent.target:oEvent.srcElement; callfun.call(obj); //alert(obj.value); } return false; } document.getElementById(\"content\").onkeypress=function(event){ submitKey(event,function(){var obj=this;sub(obj.form);}); return true; }\\n拳击明星\\n中国拳击明星\\n麦麦提图尔孙\\n董程\\n王玄玄\\n李金子\\n李金子\\n任灿灿\\n刘强\\n孟繁龙\\n尼加提-玉山\\n买买提吐孙穷\\n张志磊\\n张小平\\n外国拳击明星\\n塞尔比\\n阿洛里安\\n霍亚\\n卡尔扎合\\nW-克利钦科\\n小罗伊-琼斯\\nV-克利钦科\\n伊姆拉诺夫\\n洛马琴科\\n迪亚兹\\n萨瑟兰\\n库马尔\\n按项目检索\\n排球\\n沙排\\n田径\\n游泳\\n跳水\\n花游\\n水球\\n射击\\n体操\\n艺体\\n蹦床\\n乒乓球\\n羽毛球\\n网球\\n手球\\n棒球\\n垒球\\n曲棍球\\n击剑\\n射箭\\n举重\\n柔道\\n跆拳道\\n拳击\\n摔跤\\n赛艇\\n静水\\n激流\\n帆船\\n场地车\\n公路车\\n山地车\\n小轮车\\n马术\\n铁人三\\n现代五\\n台球\\n冰雪\\n武术\\n足球\\n篮球\\n高尔夫\\n赛车\\n棋牌\\n按国家/地区检索\\n亚洲\\xa0(44个)\\n中国\\n中国香港\\n中华台北\\n阿富汗\\n孟加拉国\\n不丹\\n巴林\\n文莱\\n柬埔寨\\n印度尼西亚\\n印度\\n伊朗\\n伊拉克\\n约旦\\n日本\\n哈萨克斯坦\\n吉尔吉斯斯坦\\n韩国\\n沙特阿拉伯\\n科威特\\n老挝\\n黎巴嫩\\n马来西亚\\n马尔代夫\\n蒙古\\n缅甸\\n尼泊尔\\n阿曼\\n巴基斯坦\\n菲律宾\\n巴勒斯坦\\n朝鲜\\n卡塔尔\\n新加坡\\n斯里兰卡\\n叙利亚\\n泰国\\n塔吉克斯坦\\n土库曼斯坦\\n东帝汶\\n阿联酋\\n乌兹别克斯坦\\n越南\\n也门\\n欧洲\\xa0(48个)\\n阿尔巴尼亚\\n安道尔\\n亚美尼亚\\n奥地利\\n阿塞拜疆\\n比利时\\n波黑\\n白俄罗斯\\n保加利亚\\n克罗地亚\\n塞浦路斯\\n捷克\\n丹麦\\n西班牙\\n爱沙尼亚\\n芬兰\\n法国\\n英国\\n格鲁吉亚\\n德国\\n希腊\\n匈牙利\\n爱尔兰\\n冰岛\\n以色列\\n意大利\\n拉脱维亚\\n列支敦士登\\n卢森堡\\n摩尔多瓦\\n马其顿\\n马耳他\\n黑山\\n摩纳哥\\n荷兰\\n挪威\\n波兰\\n葡萄牙\\n罗马尼亚\\n俄罗斯\\n斯洛文尼亚\\n圣马力诺\\n塞尔维亚\\n瑞士\\n斯洛伐克\\n瑞典\\n土耳其\\n乌克兰\\n美洲\\xa0(42个)\\n荷属安的列斯\\n安提瓜和巴布达\\n阿根廷\\n阿鲁巴\\n巴哈马\\n巴巴多斯\\n百慕大\\n伯利兹\\n玻利维亚\\n巴西\\n加拿大\\n开曼群岛\\n智利\\n哥伦比亚\\n哥斯达黎加\\n古巴\\n多米尼克\\n多米尼加\\n厄瓜多尔\\n萨尔瓦多\\n格林纳达\\n危地马拉\\n圭亚那\\n海地\\n洪都拉斯\\n维尔京群岛\\n英属维尔京群岛\\n牙买加\\n圣卢西亚\\n墨西哥\\n尼加拉瓜\\n巴拿马\\n巴拉圭\\n秘鲁\\n波多黎各\\n圣基茨和尼维斯\\n苏里南共和国\\n特立尼达和多巴哥\\n乌拉圭\\n美国\\n委内瑞拉\\n圣文森特和格林纳丁斯\\n非洲\\xa0(53个)\\n阿尔及利亚\\n安哥拉\\n布隆迪\\n贝宁\\n博茨瓦纳\\n布基纳法索\\n中非\\n刚果(布)\\n乍得\\n科特迪瓦\\n喀麦隆\\n民主刚果\\n科摩罗\\n佛得角\\n吉布提\\n埃及\\n厄立特里亚\\n埃塞俄比亚\\n加蓬\\n冈比亚\\n几内亚比绍\\n赤道几内亚\\n加纳\\n几内亚\\n肯尼亚\\n利比亚\\n利比里亚\\n莱索托\\n马达加斯加\\n摩洛哥\\n马拉维\\n马里\\n莫桑比克\\n毛里求斯\\n毛里塔尼亚\\n纳米比亚\\n尼日利亚\\n尼日尔\\n南非\\n卢旺达\\n塞内加尔\\n塞舌尔\\n塞拉利昂\\n索马里\\n圣多美和普林西比\\n苏丹\\n斯威士兰\\n坦桑尼亚\\n多哥\\n突尼斯\\n乌干达\\n赞比亚\\n津巴布韦\\n大洋洲\\xa0(17个)\\n美属萨摩亚\\n澳大利亚\\n库克群岛\\n斐济\\n密克罗尼西亚\\n关岛\\n基里巴斯\\n马绍尔群岛\\n瑙鲁\\n新西兰\\n帕劳\\n巴布亚新几内亚\\n萨摩亚\\n所罗门群岛\\n汤加\\n图瓦卢\\n瓦努阿图\\n返回页面顶部\\n新浪简介 | About Sina | 广告服务 | 招聘信息 | 网站律师 | SINA English | 会员注册 | 产品答疑\\nCopyright © 1996 - 2018 SINA Corporation, All Rights Reserved\\n新浪公司 版权所有\\n(function(){ if(window.top !== window.self || window._thereIsNoRealTimeMessage){return}; var script = document.createElement(\\'script\\'); script.setAttribute(\\'charset\\', \\'gb2312\\'); script.src = \\'//news.sina.com.cn/js/694/2012/0830/realtime.js?ver=1.5.1\\'; document.getElementsByTagName(\\'head\\')[0].appendChild(script); })(); var sinaSSOManager=sinaSSOManager||{};sinaSSOManager.q=function(b){if(typeof b!=\"object\"){return\"\"}var a=new Array();for(key in b){a.push(key+\"=\"+encodeURIComponent(b[key]))}return a.join(\"&\")};sinaSSOManager.es=function(f,d,e){var c=document.getElementsByTagName(\"head\")[0];var a=document.getElementById(f);if(a){c.removeChild(a)}var b=document.createElement(\"script\");if(e){b.charset=e}else{b.charset=\"gb2312\"}b.id=f;b.type=\"text/javascript\";d+=(/\\\\?/.test(d)?\"&\":\"?\")+\"_=\"+(new Date()).getTime();b.src=d;c.appendChild(b)};sinaSSOManager.doCrossDomainCallBack=function(a){sinaSSOManager.crossDomainCounter++;document.getElementsByTagName(\"head\")[0].removeChild(document.getElementById(a.scriptId))};sinaSSOManager.crossDomainCallBack=function(a){if(!a||a.retcode!=0){return false}var d=a.arrURL;var b,f;var e={callback:\"sinaSSOManager.doCrossDomainCallBack\"};sinaSSOManager.crossDomainCounter=0;if(d.length==0){return true}for(var c=0;c<d.length;c++){b=d[c];f=\"ssoscript\"+c;e.scriptId=f;b=b+(/\\\\?/.test(b)?\"&\":\"?\")+sinaSSOManager.q(e);sinaSSOManager.es(f,b)}};sinaSSOManager.updateCookieCallBack=function(c){var d=\"ssoCrossDomainScriptId\";var a=\"http://login.sina.com.cn/sso/crossdomain.php\";if(c.retcode==0){var e={scriptId:d,callback:\"sinaSSOManager.crossDomainCallBack\",action:\"login\",domain:\"sina.com.cn\"};var b=a+\"?\"+sinaSSOManager.q(e);sinaSSOManager.es(d,b)}else{}};sinaSSOManager.updateCookie=function(){var g=1800;var p=7200;var b=\"ssoLoginScript\";var h=3600*24;var i=\"sina.com.cn\";var m=1800;var l=\"http://login.sina.com.cn/sso/updatetgt.php\";var n=null;var f=function(e){var r=null;var q=null;switch(e){case\"sina.com.cn\":q=sinaSSOManager.getSinaCookie();if(q){r=q.et}break;case\"sina.cn\":q=sinaSSOManager.getSinaCookie();if(q){r=q.et}break;case\"51uc.com\":q=sinaSSOManager.getSinaCookie();if(q){r=q.et}break}return r};var j=function(){try{return f(i)}catch(e){return null}};try{if(g>5){if(n!=null){clearTimeout(n)}n=setTimeout(\"sinaSSOManager.updateCookie()\",g*1000)}var d=j();var c=(new Date()).getTime()/1000;var o={};if(d==null){o={retcode:6102}}else{if(d<c){o={retcode:6203}}else{if(d-h+m>c){o={retcode:6110}}else{if(d-c>p){o={retcode:6111}}}}}if(o.retcode!==undefined){return false}var a=l+\"?callback=sinaSSOManager.updateCookieCallBack\";sinaSSOManager.es(b,a)}catch(k){}return true};sinaSSOManager.updateCookie(); (function(d, s, id) { var n = d.getElementsByTagName(s)[0]; if (d.getElementById(id)) return; s = d.createElement(s); s.id = id; s.setAttribute(\\'charset\\', \\'utf-8\\'); s.src = \\'//d\\' + Math.floor(0 + Math.random() * (8 - 0 + 1)) + \\'.sina.com.cn/litong/zhitou/sinaads/src/spec/sinaads_ck.js\\'; n.parentNode.insertBefore(s, n); })(document, \\'script\\', \\'sinaads-ck-script\\'); var _hmt = _hmt || []; (function() { var hm = document.createElement(\"script\"); hm.src = \"//hm.baidu.com/hm.js?35ddcac55ce8155015e5c5e313883b68\"; var s = document.getElementsByTagName(\"script\")[0]; s.parentNode.insertBefore(hm, s); })();'"
      ]
     },
     "execution_count": 15,
     "metadata": {},
     "output_type": "execute_result"
    }
   ],
   "source": [
    "doc.text()"
   ]
  },
  {
   "cell_type": "code",
   "execution_count": 16,
   "metadata": {
    "collapsed": true
   },
   "outputs": [],
   "source": [
    "dirty = doc.text()"
   ]
  },
  {
   "cell_type": "code",
   "execution_count": 17,
   "metadata": {
    "collapsed": true
   },
   "outputs": [],
   "source": [
    "clean = re.sub('[a-zA-z0-9\\(\\)\\{\\,\\}\\!\\?\\@\\%\\$\\|\\+\\\\\\*\\'\\.\\:\\=\\\"\\&\\;\\/\\-\\~\\#]+','',dirty)"
   ]
  },
  {
   "cell_type": "code",
   "execution_count": 18,
   "metadata": {
    "collapsed": false
   },
   "outputs": [
    {
     "data": {
      "text/plain": [
       "'刘强体育明星新浪竞技风暴新浪网\\n<  全局   宋体华文宋体                                                                                                                                     查询                                                                                                                     右       左                    排行榜                                                                                                                                                                                                                                                                                                                                                              分页                                                                                                      黑体                                                                                                                                                                                   标题栏                                                                                                                             舌签                                                                                                   焦点图                     间隔         常用链接    红色    黑色    白色    灰色    青色       视频图标链接      视频图标链接（左图标）   常用链接    共用列表                                   共用列表   >\\n                                                               分页样式，可根据自己需要自己定义         宋体                                                                                                       \\n<                            >>    <   <   <       < <                   > >   >>            <                <>            <   <   <         <    <   <        < <<>><<>><<<  <     <      >   >><<>         >               >>               >            >   ><            >      >>> >  < <                        <                 <  >>    >\\n         <               <   \\n                         \\n体育首页\\xa0\\xa0新浪首页\\xa0\\xa0新浪导航\\n  \\n体育之星查询\\n热门人物：\\n奥运明星查询\\n       实用工具弹窗        实用工具弹窗   \\n国家地区\\n请选择查询国家地区\\n\\n中国\\n中国香港\\n中华台北\\n亚洲\\n阿富汗\\n孟加拉国\\n不丹\\n巴林\\n文莱\\n柬埔寨\\n印度尼西亚\\n印度\\n伊朗\\n伊拉克\\n约旦\\n日本\\n哈萨克斯坦\\n吉尔吉斯斯坦\\n韩国\\n沙特阿拉伯\\n科威特\\n老挝\\n黎巴嫩\\n马来西亚\\n马尔代夫\\n蒙古\\n缅甸\\n尼泊尔\\n阿曼\\n巴基斯坦\\n菲律宾\\n巴勒斯坦\\n朝鲜\\n卡塔尔\\n新加坡\\n斯里兰卡\\n叙利亚\\n泰国\\n塔吉克斯坦\\n土库曼斯坦\\n东帝汶\\n阿联酋\\n乌兹别克斯坦\\n越南\\n也门\\n欧洲\\n阿尔巴尼亚\\n安道尔\\n亚美尼亚\\n奥地利\\n阿塞拜疆\\n比利时\\n波黑\\n白俄罗斯\\n保加利亚\\n克罗地亚\\n塞浦路斯\\n捷克\\n丹麦\\n西班牙\\n爱沙尼亚\\n芬兰\\n法国\\n英国\\n格鲁吉亚\\n德国\\n希腊\\n匈牙利\\n爱尔兰\\n冰岛\\n以色列\\n意大利\\n拉脱维亚\\n列支敦士登\\n立陶宛\\n卢森堡\\n摩尔多瓦\\n马其顿\\n马耳他\\n黑山\\n摩纳哥\\n荷兰\\n挪威\\n波兰\\n葡萄牙\\n罗马尼亚\\n俄罗斯\\n斯洛文尼亚\\n圣马力诺\\n塞尔维亚\\n瑞士\\n斯洛伐克\\n瑞典\\n土耳其\\n乌克兰\\n美洲\\n荷属安的列斯\\n安提瓜和巴布达\\n阿根廷\\n阿鲁巴\\n巴哈马\\n巴巴多斯\\n百慕大\\n伯利兹\\n玻利维亚\\n巴西\\n加拿大\\n开曼群岛\\n智利\\n哥伦比亚\\n哥斯达黎加\\n古巴\\n多米尼克\\n多米尼加\\n厄瓜多尔\\n萨尔瓦多\\n格林纳达\\n危地马拉\\n圭亚那\\n海地\\n洪都拉斯\\n维尔京群岛\\n英属维尔京群岛\\n牙买加\\n圣卢西亚\\n墨西哥\\n尼加拉瓜\\n巴拿马\\n巴拉圭\\n秘鲁\\n波多黎各\\n圣基茨和尼维斯\\n苏里南\\n特立尼达和多巴哥\\n乌拉圭\\n美国\\n委内瑞拉\\n圣文森特和格林纳丁斯\\n非洲\\n阿尔及利亚\\n安哥拉\\n布隆迪\\n贝宁\\n博茨瓦纳\\n布基纳法索\\n中非\\n刚果布\\n乍得\\n科特迪瓦\\n喀麦隆\\n民主刚果\\n科摩罗\\n佛得角\\n吉布提\\n埃及\\n厄立特里亚\\n埃塞俄比亚\\n加蓬\\n冈比亚\\n几内亚比绍\\n赤道几内亚\\n加纳\\n几内亚\\n肯尼亚\\n利比亚\\n利比里亚\\n莱索托\\n马达加斯加\\n摩洛哥\\n马拉维\\n马里\\n莫桑比克\\n毛里求斯\\n毛里塔尼亚\\n纳米比亚\\n尼日利亚\\n尼日尔\\n南非\\n卢旺达\\n塞内加尔\\n塞舌尔\\n塞拉利昂\\n索马里\\n圣多美和普林西比\\n苏丹\\n斯威士兰\\n坦桑尼亚\\n多哥\\n突尼斯\\n乌干达\\n赞比亚\\n津巴布韦\\n大洋洲\\n美属萨摩亚\\n澳大利亚\\n库克群岛\\n斐济\\n密克罗尼西亚\\n关岛\\n基里巴斯\\n马绍尔群岛\\n瑙鲁\\n新西兰\\n帕劳\\n巴布亚新几内亚\\n萨摩亚\\n所罗门群岛\\n汤加\\n图瓦卢\\n瓦努阿图\\n项目\\n请选择查询项目\\n马术\\n垒球\\n曲棍球\\n柔道\\n橄榄球\\n赛艇\\n赛车\\n射击\\n射箭\\n手球\\n摔跤\\n拳击\\n田径\\n铁人三项\\n体操\\n体操艺术体操\\n体操蹦床\\n武术散打\\n现代五项\\n台球\\n网球\\n羽毛球\\n跆拳道\\n游泳\\n游泳水球\\n游泳跳水\\n游泳花样游泳\\n排球\\n排球沙滩排球\\n棋牌\\n其他\\n皮划艇激流回旋\\n皮划艇静水\\n乒乓球\\n棒球\\n冰雪\\n帆船帆板\\n高尔夫\\n击剑\\n举重\\n自行车小轮车\\n自行车山地自行车\\n自行车场地自行车\\n自行车公路自行车\\n姓名队名\\n  \\n体育之星 > 拳击 > 刘强\\n姓名：刘强   中国\\n性别：男\\n籍贯：辽宁沈阳\\n生日：\\n身高：\\n项目：拳击男子公斤级\\n详细介绍 历史成绩\\n现年岁的刘强，来自辽宁省沈阳市，从事拳击项目已有年。入伍后，表现出对武警拳击事业由衷的热爱，刻苦钻研技术。每节训练课，他都带着问题练，课后主动与教练进行沟通，研究训练中的问题。业余时间，也几乎全部用在了琢磨技战术上。功夫不负有心人，刘强控制比赛的能力突飞猛进，多次在全国大赛夺冠。\\n年至今分别在沈阳体院拳击队和武警拳击队任运动员\\n：年全国锦标赛第二名、全国冠军赛第一名；\\n年全国锦标赛、十运会第二名；\\n年全国锦标赛第三名、全国冠军赛第一名；\\n年全国锦标赛第三名、全国冠军赛第一名；\\n年全国锦标赛第一名；\\n年全国锦标赛、十一运会第二名\\n年拳击世锦赛打进强\\n      <  \\n相关新闻\\n刘晏含袁心玥合砍分 八一无缘八强创最差战绩  \\n北京女排力克上海进八强 曾春蕾刘晓彤仍点出不足  \\n郭士强亲承韩德君复出 赵继伟刘志轩仍需时间  \\n瑞典赛丁宁进强？刘诗雯比领先被伊藤美诚逆转  \\n郭士强：揭幕战郭艾伦带伤出战 刘志轩或缺阵  \\n天津赛普娃分钟速胜携谢淑薇进强 刘方舟遭逆转  \\n日媒：刘国梁回归促国乒改革 因日乒崛起危机感强  \\n奖项郭士强李春江最佳教练 刘铮最佳新人  \\n世界杯朱雨玲埃克霍姆 丁宁刘佳晋级强  \\n谌龙进八强张楠刘成遭淘汰 何冰娇不敌奥原希望  \\n九日综述：郑宇伯张堃鹏出局 杨帆王云刘闯进强  \\n视频澳门黑熊刘晋邦强投得分 香港邀请队惨遭打爆  \\n澳洲赛丁宁刘诗雯进强 国乒小将连克日新两高手  \\n足协杯张弛刘军帅破门 鲁能恒丰进强战一方  \\n韩国赛丁宁不敌陈梦 刘诗雯胜王曼昱挺进强  \\n韩乒赛丁宁刘诗雯晋级强 陈幸同顾玉婷遭淘汰  \\n日乒赛刘诗雯顺利进强 中国女双占据四强中两席  \\n香港赛国乒确保女双冠军 刘诗雯等人进女单八强  \\n马龙当爹后源动力更强 刘国正盼樊振东担重任  \\n伊藤：能赢刘诗雯获更强自信 石川：早晚要报仇  \\n泉州郑赛赛收韩馨蕴退赛礼 刘方舟逆转进强  \\n刘诗雯陈梦王曼昱携手进强 半决赛刘诗雯战石川  \\n乒乓球世界杯强出炉！刘国梁网络解说首秀助阵  \\n大马大师赛国羽喜忧参半 张楠刘成止步强  \\n新年礼包国安官宣三内援 胡延强池忠国刘欢加盟  \\n曾春蕾刘晓彤合砍分 北汽女排提前跻身八强  \\n香港赛石宇奇险胜过关将战林丹 张楠刘成无缘强  \\n速胜天才少女挺进强 三冠王刘莎莎稳定有窍门  \\n球世锦赛潘晓婷开门红 陈思明刘莎莎率先进强  \\n乒乓球世界杯刘诗雯横扫对手 顺利晋级八强  \\n法国赛谌龙回暖杀入强 李俊慧刘雨辰意外出局  \\n延边老总确实和京东有接触 也许还没报告刘强东  \\n刘强东出面否认京东入主中超延边传闻这是谣言  \\n进球视频刘冠宇左路强突 左脚抽射破门角度刁钻  \\n进球视频刘冠宇左路强突 左脚抽射破门角度刁钻  \\n马龙樊振东横扫进男单八强 丁宁刘诗雯女单奏凯  \\n丁宁刘诗雯分钟速胜进八强 朱雨玲陈梦晋级  \\n丁俊晖撞脸刘强东 小晖我比他帅 脸比他大图  \\n岁李忆杀入美国女子业余赛八强 刘文博遭淘汰  \\n彭州站刘莎莎周豆豆会师决赛 中国台北包男子强  \\n相关图片\\n图文王楠老公与刘国梁王宝强小聚 一起吃月饼 \\n图文王楠老公与刘国梁王宝强小聚 三人有互动 \\n图文女子花剑刘咏诗止步八强 耐心寻找机会 \\n图文女子花剑刘咏诗止步八强 中国剑客 \\n图文女子花剑刘咏诗止步八强 闪转腾挪 \\n图文女子花剑刘咏诗止步八强 中国剑客刘咏诗 \\n图文女子花剑刘咏诗止步八强 刘咏诗防守 \\n图文女子花剑刘咏诗止步八强 双方寻找机会 \\n图文女子花剑刘咏诗止步八强 与对手拥抱 \\n图文女子花剑刘咏诗止步八强 英姿飒爽 \\n图文女子花剑刘咏诗止步八强 以退为进 \\n图文女子花剑刘咏诗止步八强 闪转腾挪 \\n图文女子花剑刘咏诗止步八强 强势进攻 \\n图文女子花剑刘咏诗止步八强 积极反击 \\n图文中国女足平瑞典晋级强 刘杉杉大脚解围 \\n图文鲁能悉尼进亚冠强 刘彬彬内切突破 \\n图文印度赛李雪芮晋级强 刘雨辰和汤金华止步强 \\n图文全英赛林丹王适娴晋级八强 刘成鲁恺落败 \\n图文季后赛直击新疆总分北京进强 刘炜出手 \\n图文季后赛辽宁总分浙江进强 刘志轩突破 \\n图文中羽赛林丹谌龙晋级强 刘成后场杀球 \\n图文新浪直击中国男篮新加坡 刘炜强突 \\n图文女足世界杯中国喀麦隆进强 刘杉杉防守 \\n图文澳羽球赛谌龙晋级强 刘小龙邱子瀚晋级 \\n图文澳羽球赛谌龙晋级强 刘成鲁恺成功晋级 \\n图文澳羽球赛谌龙晋级强 刘成包宜鑫晋级 \\n图文中国男篮美国联队 刘炜强突上篮 \\n图文新浪直击张继科许昕进男双强 刘国梁指点二将 \\n图文倡棋杯复赛第轮开战 张强对阵刘星 \\n图文天元赛强战 刘星从容不迫 \\n图文理光杯强战打响 裁判长刘菁宣布开赛 \\n图文理光杯强战打响 裁判长刘菁宣布开赛 \\n图文理光杯混双赛强战 刘菁宣布开赛 \\n图文理光杯混双赛强战 刘菁曹又尹观战 \\n图文春兰杯强战晚宴 刘亚夫晚宴致辞 \\n图文春兰杯强战发布会 刘亚夫致辞 \\n图文国藩杯王琛马天放争冠 刘秋孙伟强 \\n图文沃尔沃青少年比洞赛强出炉 刘艳和林嘉欣 \\n图文业余赛北方区决赛 刘强漂亮的挥杆 \\n图文业余赛北方区决赛 刘强 \\n >\\n网友评论\\n共条评论，点击查看\\n     频道名，例如 、、 等      新闻，例如 、 等      是否专题模式，为专题     共< ><>条评论\\n            请输入评论内容！                     <                 留言成功               <          <   \\u3000  < >   < >   < >< >         新浪网友          <> 说<>< >      <>   <>< >        >    ……   <>< ><><>     \\n退出\\n登录名： 密码： 同时发往微博 注册\\n 非评论系统自己的页面，需要设置     更新登录信息回调函数，用来执行用户登陆状态的页面显示       显示欢迎信息                   显示同时发表到围脖        隐藏用户名和密码输入框                 隐藏注册入口链接       如果需要的话更新其他位置的用户名信息     更新登录信息回调函数 用来执行用户退出状态的页面显示     隐藏欢迎信息            隐藏同时发表到围脖        显示用户名和密码输入框                  显示注册入口链接          评论系统提供 发表评论后的默认提示信息 如果频道有另外的需求，重写下面的函数，定制自己的提示信息 例如：              谢谢您发表留言      其中， 是评论系统自带的在发言区域提示信息的函数； 参数说明： 发表留言的表单  提示信息 可选  提示文字的 可选   每次刷新页面时使用评论系统提供的函数  检查是否已经登陆   中会根据用户登陆状况来调用                        \\n拳击明星\\n中国拳击明星\\n麦麦提图尔孙\\n董程\\n王玄玄\\n李金子\\n李金子\\n任灿灿\\n刘强\\n孟繁龙\\n尼加提玉山\\n买买提吐孙穷\\n张志磊\\n张小平\\n外国拳击明星\\n塞尔比\\n阿洛里安\\n霍亚\\n卡尔扎合\\n克利钦科\\n小罗伊琼斯\\n克利钦科\\n伊姆拉诺夫\\n洛马琴科\\n迪亚兹\\n萨瑟兰\\n库马尔\\n按项目检索\\n排球\\n沙排\\n田径\\n游泳\\n跳水\\n花游\\n水球\\n射击\\n体操\\n艺体\\n蹦床\\n乒乓球\\n羽毛球\\n网球\\n手球\\n棒球\\n垒球\\n曲棍球\\n击剑\\n射箭\\n举重\\n柔道\\n跆拳道\\n拳击\\n摔跤\\n赛艇\\n静水\\n激流\\n帆船\\n场地车\\n公路车\\n山地车\\n小轮车\\n马术\\n铁人三\\n现代五\\n台球\\n冰雪\\n武术\\n足球\\n篮球\\n高尔夫\\n赛车\\n棋牌\\n按国家地区检索\\n亚洲\\xa0个\\n中国\\n中国香港\\n中华台北\\n阿富汗\\n孟加拉国\\n不丹\\n巴林\\n文莱\\n柬埔寨\\n印度尼西亚\\n印度\\n伊朗\\n伊拉克\\n约旦\\n日本\\n哈萨克斯坦\\n吉尔吉斯斯坦\\n韩国\\n沙特阿拉伯\\n科威特\\n老挝\\n黎巴嫩\\n马来西亚\\n马尔代夫\\n蒙古\\n缅甸\\n尼泊尔\\n阿曼\\n巴基斯坦\\n菲律宾\\n巴勒斯坦\\n朝鲜\\n卡塔尔\\n新加坡\\n斯里兰卡\\n叙利亚\\n泰国\\n塔吉克斯坦\\n土库曼斯坦\\n东帝汶\\n阿联酋\\n乌兹别克斯坦\\n越南\\n也门\\n欧洲\\xa0个\\n阿尔巴尼亚\\n安道尔\\n亚美尼亚\\n奥地利\\n阿塞拜疆\\n比利时\\n波黑\\n白俄罗斯\\n保加利亚\\n克罗地亚\\n塞浦路斯\\n捷克\\n丹麦\\n西班牙\\n爱沙尼亚\\n芬兰\\n法国\\n英国\\n格鲁吉亚\\n德国\\n希腊\\n匈牙利\\n爱尔兰\\n冰岛\\n以色列\\n意大利\\n拉脱维亚\\n列支敦士登\\n卢森堡\\n摩尔多瓦\\n马其顿\\n马耳他\\n黑山\\n摩纳哥\\n荷兰\\n挪威\\n波兰\\n葡萄牙\\n罗马尼亚\\n俄罗斯\\n斯洛文尼亚\\n圣马力诺\\n塞尔维亚\\n瑞士\\n斯洛伐克\\n瑞典\\n土耳其\\n乌克兰\\n美洲\\xa0个\\n荷属安的列斯\\n安提瓜和巴布达\\n阿根廷\\n阿鲁巴\\n巴哈马\\n巴巴多斯\\n百慕大\\n伯利兹\\n玻利维亚\\n巴西\\n加拿大\\n开曼群岛\\n智利\\n哥伦比亚\\n哥斯达黎加\\n古巴\\n多米尼克\\n多米尼加\\n厄瓜多尔\\n萨尔瓦多\\n格林纳达\\n危地马拉\\n圭亚那\\n海地\\n洪都拉斯\\n维尔京群岛\\n英属维尔京群岛\\n牙买加\\n圣卢西亚\\n墨西哥\\n尼加拉瓜\\n巴拿马\\n巴拉圭\\n秘鲁\\n波多黎各\\n圣基茨和尼维斯\\n苏里南共和国\\n特立尼达和多巴哥\\n乌拉圭\\n美国\\n委内瑞拉\\n圣文森特和格林纳丁斯\\n非洲\\xa0个\\n阿尔及利亚\\n安哥拉\\n布隆迪\\n贝宁\\n博茨瓦纳\\n布基纳法索\\n中非\\n刚果布\\n乍得\\n科特迪瓦\\n喀麦隆\\n民主刚果\\n科摩罗\\n佛得角\\n吉布提\\n埃及\\n厄立特里亚\\n埃塞俄比亚\\n加蓬\\n冈比亚\\n几内亚比绍\\n赤道几内亚\\n加纳\\n几内亚\\n肯尼亚\\n利比亚\\n利比里亚\\n莱索托\\n马达加斯加\\n摩洛哥\\n马拉维\\n马里\\n莫桑比克\\n毛里求斯\\n毛里塔尼亚\\n纳米比亚\\n尼日利亚\\n尼日尔\\n南非\\n卢旺达\\n塞内加尔\\n塞舌尔\\n塞拉利昂\\n索马里\\n圣多美和普林西比\\n苏丹\\n斯威士兰\\n坦桑尼亚\\n多哥\\n突尼斯\\n乌干达\\n赞比亚\\n津巴布韦\\n大洋洲\\xa0个\\n美属萨摩亚\\n澳大利亚\\n库克群岛\\n斐济\\n密克罗尼西亚\\n关岛\\n基里巴斯\\n马绍尔群岛\\n瑙鲁\\n新西兰\\n帕劳\\n巴布亚新几内亚\\n萨摩亚\\n所罗门群岛\\n汤加\\n图瓦卢\\n瓦努阿图\\n返回页面顶部\\n新浪简介     广告服务  招聘信息  网站律师     会员注册  产品答疑\\n ©        \\n新浪公司 版权所有\\n                                  <                   >    <>>                                                                '"
      ]
     },
     "execution_count": 18,
     "metadata": {},
     "output_type": "execute_result"
    }
   ],
   "source": [
    "clean"
   ]
  },
  {
   "cell_type": "code",
   "execution_count": 19,
   "metadata": {
    "collapsed": true
   },
   "outputs": [],
   "source": [
    "clean = re.sub('[a-zA-z0-9\\(\\)\\{\\,\\}\\!\\?\\@\\%\\$\\|\\+\\\\\\*\\'\\.\\:\\=\\\"\\&\\;\\/\\-\\~\\#\\<\\>]+','',dirty)"
   ]
  },
  {
   "cell_type": "code",
   "execution_count": 20,
   "metadata": {
    "collapsed": false
   },
   "outputs": [
    {
     "data": {
      "text/plain": [
       "'刘强体育明星新浪竞技风暴新浪网\\n  全局   宋体华文宋体                                                                                                                                     查询                                                                                                                     右       左                    排行榜                                                                                                                                                                                                                                                                                                                                                              分页                                                                                                      黑体                                                                                                                                                                                   标题栏                                                                                                                             舌签                                                                                                   焦点图                     间隔         常用链接    红色    黑色    白色    灰色    青色       视频图标链接      视频图标链接（左图标）   常用链接    共用列表                                   共用列表   \\n                                                               分页样式，可根据自己需要自己定义         宋体                                                                                                       \\n                                                                                                                                                                                                                                                                                       \\n                           \\n                         \\n体育首页\\xa0\\xa0新浪首页\\xa0\\xa0新浪导航\\n  \\n体育之星查询\\n热门人物：\\n奥运明星查询\\n       实用工具弹窗        实用工具弹窗   \\n国家地区\\n请选择查询国家地区\\n\\n中国\\n中国香港\\n中华台北\\n亚洲\\n阿富汗\\n孟加拉国\\n不丹\\n巴林\\n文莱\\n柬埔寨\\n印度尼西亚\\n印度\\n伊朗\\n伊拉克\\n约旦\\n日本\\n哈萨克斯坦\\n吉尔吉斯斯坦\\n韩国\\n沙特阿拉伯\\n科威特\\n老挝\\n黎巴嫩\\n马来西亚\\n马尔代夫\\n蒙古\\n缅甸\\n尼泊尔\\n阿曼\\n巴基斯坦\\n菲律宾\\n巴勒斯坦\\n朝鲜\\n卡塔尔\\n新加坡\\n斯里兰卡\\n叙利亚\\n泰国\\n塔吉克斯坦\\n土库曼斯坦\\n东帝汶\\n阿联酋\\n乌兹别克斯坦\\n越南\\n也门\\n欧洲\\n阿尔巴尼亚\\n安道尔\\n亚美尼亚\\n奥地利\\n阿塞拜疆\\n比利时\\n波黑\\n白俄罗斯\\n保加利亚\\n克罗地亚\\n塞浦路斯\\n捷克\\n丹麦\\n西班牙\\n爱沙尼亚\\n芬兰\\n法国\\n英国\\n格鲁吉亚\\n德国\\n希腊\\n匈牙利\\n爱尔兰\\n冰岛\\n以色列\\n意大利\\n拉脱维亚\\n列支敦士登\\n立陶宛\\n卢森堡\\n摩尔多瓦\\n马其顿\\n马耳他\\n黑山\\n摩纳哥\\n荷兰\\n挪威\\n波兰\\n葡萄牙\\n罗马尼亚\\n俄罗斯\\n斯洛文尼亚\\n圣马力诺\\n塞尔维亚\\n瑞士\\n斯洛伐克\\n瑞典\\n土耳其\\n乌克兰\\n美洲\\n荷属安的列斯\\n安提瓜和巴布达\\n阿根廷\\n阿鲁巴\\n巴哈马\\n巴巴多斯\\n百慕大\\n伯利兹\\n玻利维亚\\n巴西\\n加拿大\\n开曼群岛\\n智利\\n哥伦比亚\\n哥斯达黎加\\n古巴\\n多米尼克\\n多米尼加\\n厄瓜多尔\\n萨尔瓦多\\n格林纳达\\n危地马拉\\n圭亚那\\n海地\\n洪都拉斯\\n维尔京群岛\\n英属维尔京群岛\\n牙买加\\n圣卢西亚\\n墨西哥\\n尼加拉瓜\\n巴拿马\\n巴拉圭\\n秘鲁\\n波多黎各\\n圣基茨和尼维斯\\n苏里南\\n特立尼达和多巴哥\\n乌拉圭\\n美国\\n委内瑞拉\\n圣文森特和格林纳丁斯\\n非洲\\n阿尔及利亚\\n安哥拉\\n布隆迪\\n贝宁\\n博茨瓦纳\\n布基纳法索\\n中非\\n刚果布\\n乍得\\n科特迪瓦\\n喀麦隆\\n民主刚果\\n科摩罗\\n佛得角\\n吉布提\\n埃及\\n厄立特里亚\\n埃塞俄比亚\\n加蓬\\n冈比亚\\n几内亚比绍\\n赤道几内亚\\n加纳\\n几内亚\\n肯尼亚\\n利比亚\\n利比里亚\\n莱索托\\n马达加斯加\\n摩洛哥\\n马拉维\\n马里\\n莫桑比克\\n毛里求斯\\n毛里塔尼亚\\n纳米比亚\\n尼日利亚\\n尼日尔\\n南非\\n卢旺达\\n塞内加尔\\n塞舌尔\\n塞拉利昂\\n索马里\\n圣多美和普林西比\\n苏丹\\n斯威士兰\\n坦桑尼亚\\n多哥\\n突尼斯\\n乌干达\\n赞比亚\\n津巴布韦\\n大洋洲\\n美属萨摩亚\\n澳大利亚\\n库克群岛\\n斐济\\n密克罗尼西亚\\n关岛\\n基里巴斯\\n马绍尔群岛\\n瑙鲁\\n新西兰\\n帕劳\\n巴布亚新几内亚\\n萨摩亚\\n所罗门群岛\\n汤加\\n图瓦卢\\n瓦努阿图\\n项目\\n请选择查询项目\\n马术\\n垒球\\n曲棍球\\n柔道\\n橄榄球\\n赛艇\\n赛车\\n射击\\n射箭\\n手球\\n摔跤\\n拳击\\n田径\\n铁人三项\\n体操\\n体操艺术体操\\n体操蹦床\\n武术散打\\n现代五项\\n台球\\n网球\\n羽毛球\\n跆拳道\\n游泳\\n游泳水球\\n游泳跳水\\n游泳花样游泳\\n排球\\n排球沙滩排球\\n棋牌\\n其他\\n皮划艇激流回旋\\n皮划艇静水\\n乒乓球\\n棒球\\n冰雪\\n帆船帆板\\n高尔夫\\n击剑\\n举重\\n自行车小轮车\\n自行车山地自行车\\n自行车场地自行车\\n自行车公路自行车\\n姓名队名\\n  \\n体育之星  拳击  刘强\\n姓名：刘强   中国\\n性别：男\\n籍贯：辽宁沈阳\\n生日：\\n身高：\\n项目：拳击男子公斤级\\n详细介绍 历史成绩\\n现年岁的刘强，来自辽宁省沈阳市，从事拳击项目已有年。入伍后，表现出对武警拳击事业由衷的热爱，刻苦钻研技术。每节训练课，他都带着问题练，课后主动与教练进行沟通，研究训练中的问题。业余时间，也几乎全部用在了琢磨技战术上。功夫不负有心人，刘强控制比赛的能力突飞猛进，多次在全国大赛夺冠。\\n年至今分别在沈阳体院拳击队和武警拳击队任运动员\\n：年全国锦标赛第二名、全国冠军赛第一名；\\n年全国锦标赛、十运会第二名；\\n年全国锦标赛第三名、全国冠军赛第一名；\\n年全国锦标赛第三名、全国冠军赛第一名；\\n年全国锦标赛第一名；\\n年全国锦标赛、十一运会第二名\\n年拳击世锦赛打进强\\n        \\n相关新闻\\n刘晏含袁心玥合砍分 八一无缘八强创最差战绩  \\n北京女排力克上海进八强 曾春蕾刘晓彤仍点出不足  \\n郭士强亲承韩德君复出 赵继伟刘志轩仍需时间  \\n瑞典赛丁宁进强？刘诗雯比领先被伊藤美诚逆转  \\n郭士强：揭幕战郭艾伦带伤出战 刘志轩或缺阵  \\n天津赛普娃分钟速胜携谢淑薇进强 刘方舟遭逆转  \\n日媒：刘国梁回归促国乒改革 因日乒崛起危机感强  \\n奖项郭士强李春江最佳教练 刘铮最佳新人  \\n世界杯朱雨玲埃克霍姆 丁宁刘佳晋级强  \\n谌龙进八强张楠刘成遭淘汰 何冰娇不敌奥原希望  \\n九日综述：郑宇伯张堃鹏出局 杨帆王云刘闯进强  \\n视频澳门黑熊刘晋邦强投得分 香港邀请队惨遭打爆  \\n澳洲赛丁宁刘诗雯进强 国乒小将连克日新两高手  \\n足协杯张弛刘军帅破门 鲁能恒丰进强战一方  \\n韩国赛丁宁不敌陈梦 刘诗雯胜王曼昱挺进强  \\n韩乒赛丁宁刘诗雯晋级强 陈幸同顾玉婷遭淘汰  \\n日乒赛刘诗雯顺利进强 中国女双占据四强中两席  \\n香港赛国乒确保女双冠军 刘诗雯等人进女单八强  \\n马龙当爹后源动力更强 刘国正盼樊振东担重任  \\n伊藤：能赢刘诗雯获更强自信 石川：早晚要报仇  \\n泉州郑赛赛收韩馨蕴退赛礼 刘方舟逆转进强  \\n刘诗雯陈梦王曼昱携手进强 半决赛刘诗雯战石川  \\n乒乓球世界杯强出炉！刘国梁网络解说首秀助阵  \\n大马大师赛国羽喜忧参半 张楠刘成止步强  \\n新年礼包国安官宣三内援 胡延强池忠国刘欢加盟  \\n曾春蕾刘晓彤合砍分 北汽女排提前跻身八强  \\n香港赛石宇奇险胜过关将战林丹 张楠刘成无缘强  \\n速胜天才少女挺进强 三冠王刘莎莎稳定有窍门  \\n球世锦赛潘晓婷开门红 陈思明刘莎莎率先进强  \\n乒乓球世界杯刘诗雯横扫对手 顺利晋级八强  \\n法国赛谌龙回暖杀入强 李俊慧刘雨辰意外出局  \\n延边老总确实和京东有接触 也许还没报告刘强东  \\n刘强东出面否认京东入主中超延边传闻这是谣言  \\n进球视频刘冠宇左路强突 左脚抽射破门角度刁钻  \\n进球视频刘冠宇左路强突 左脚抽射破门角度刁钻  \\n马龙樊振东横扫进男单八强 丁宁刘诗雯女单奏凯  \\n丁宁刘诗雯分钟速胜进八强 朱雨玲陈梦晋级  \\n丁俊晖撞脸刘强东 小晖我比他帅 脸比他大图  \\n岁李忆杀入美国女子业余赛八强 刘文博遭淘汰  \\n彭州站刘莎莎周豆豆会师决赛 中国台北包男子强  \\n相关图片\\n图文王楠老公与刘国梁王宝强小聚 一起吃月饼 \\n图文王楠老公与刘国梁王宝强小聚 三人有互动 \\n图文女子花剑刘咏诗止步八强 耐心寻找机会 \\n图文女子花剑刘咏诗止步八强 中国剑客 \\n图文女子花剑刘咏诗止步八强 闪转腾挪 \\n图文女子花剑刘咏诗止步八强 中国剑客刘咏诗 \\n图文女子花剑刘咏诗止步八强 刘咏诗防守 \\n图文女子花剑刘咏诗止步八强 双方寻找机会 \\n图文女子花剑刘咏诗止步八强 与对手拥抱 \\n图文女子花剑刘咏诗止步八强 英姿飒爽 \\n图文女子花剑刘咏诗止步八强 以退为进 \\n图文女子花剑刘咏诗止步八强 闪转腾挪 \\n图文女子花剑刘咏诗止步八强 强势进攻 \\n图文女子花剑刘咏诗止步八强 积极反击 \\n图文中国女足平瑞典晋级强 刘杉杉大脚解围 \\n图文鲁能悉尼进亚冠强 刘彬彬内切突破 \\n图文印度赛李雪芮晋级强 刘雨辰和汤金华止步强 \\n图文全英赛林丹王适娴晋级八强 刘成鲁恺落败 \\n图文季后赛直击新疆总分北京进强 刘炜出手 \\n图文季后赛辽宁总分浙江进强 刘志轩突破 \\n图文中羽赛林丹谌龙晋级强 刘成后场杀球 \\n图文新浪直击中国男篮新加坡 刘炜强突 \\n图文女足世界杯中国喀麦隆进强 刘杉杉防守 \\n图文澳羽球赛谌龙晋级强 刘小龙邱子瀚晋级 \\n图文澳羽球赛谌龙晋级强 刘成鲁恺成功晋级 \\n图文澳羽球赛谌龙晋级强 刘成包宜鑫晋级 \\n图文中国男篮美国联队 刘炜强突上篮 \\n图文新浪直击张继科许昕进男双强 刘国梁指点二将 \\n图文倡棋杯复赛第轮开战 张强对阵刘星 \\n图文天元赛强战 刘星从容不迫 \\n图文理光杯强战打响 裁判长刘菁宣布开赛 \\n图文理光杯强战打响 裁判长刘菁宣布开赛 \\n图文理光杯混双赛强战 刘菁宣布开赛 \\n图文理光杯混双赛强战 刘菁曹又尹观战 \\n图文春兰杯强战晚宴 刘亚夫晚宴致辞 \\n图文春兰杯强战发布会 刘亚夫致辞 \\n图文国藩杯王琛马天放争冠 刘秋孙伟强 \\n图文沃尔沃青少年比洞赛强出炉 刘艳和林嘉欣 \\n图文业余赛北方区决赛 刘强漂亮的挥杆 \\n图文业余赛北方区决赛 刘强 \\n \\n网友评论\\n共条评论，点击查看\\n     频道名，例如 、、 等      新闻，例如 、 等      是否专题模式，为专题     共 条评论\\n            请输入评论内容！                                      留言成功                            \\u3000                     新浪网友           说                       ……         \\n退出\\n登录名： 密码： 同时发往微博 注册\\n 非评论系统自己的页面，需要设置     更新登录信息回调函数，用来执行用户登陆状态的页面显示       显示欢迎信息                   显示同时发表到围脖        隐藏用户名和密码输入框                 隐藏注册入口链接       如果需要的话更新其他位置的用户名信息     更新登录信息回调函数 用来执行用户退出状态的页面显示     隐藏欢迎信息            隐藏同时发表到围脖        显示用户名和密码输入框                  显示注册入口链接          评论系统提供 发表评论后的默认提示信息 如果频道有另外的需求，重写下面的函数，定制自己的提示信息 例如：              谢谢您发表留言      其中， 是评论系统自带的在发言区域提示信息的函数； 参数说明： 发表留言的表单  提示信息 可选  提示文字的 可选   每次刷新页面时使用评论系统提供的函数  检查是否已经登陆   中会根据用户登陆状况来调用                        \\n拳击明星\\n中国拳击明星\\n麦麦提图尔孙\\n董程\\n王玄玄\\n李金子\\n李金子\\n任灿灿\\n刘强\\n孟繁龙\\n尼加提玉山\\n买买提吐孙穷\\n张志磊\\n张小平\\n外国拳击明星\\n塞尔比\\n阿洛里安\\n霍亚\\n卡尔扎合\\n克利钦科\\n小罗伊琼斯\\n克利钦科\\n伊姆拉诺夫\\n洛马琴科\\n迪亚兹\\n萨瑟兰\\n库马尔\\n按项目检索\\n排球\\n沙排\\n田径\\n游泳\\n跳水\\n花游\\n水球\\n射击\\n体操\\n艺体\\n蹦床\\n乒乓球\\n羽毛球\\n网球\\n手球\\n棒球\\n垒球\\n曲棍球\\n击剑\\n射箭\\n举重\\n柔道\\n跆拳道\\n拳击\\n摔跤\\n赛艇\\n静水\\n激流\\n帆船\\n场地车\\n公路车\\n山地车\\n小轮车\\n马术\\n铁人三\\n现代五\\n台球\\n冰雪\\n武术\\n足球\\n篮球\\n高尔夫\\n赛车\\n棋牌\\n按国家地区检索\\n亚洲\\xa0个\\n中国\\n中国香港\\n中华台北\\n阿富汗\\n孟加拉国\\n不丹\\n巴林\\n文莱\\n柬埔寨\\n印度尼西亚\\n印度\\n伊朗\\n伊拉克\\n约旦\\n日本\\n哈萨克斯坦\\n吉尔吉斯斯坦\\n韩国\\n沙特阿拉伯\\n科威特\\n老挝\\n黎巴嫩\\n马来西亚\\n马尔代夫\\n蒙古\\n缅甸\\n尼泊尔\\n阿曼\\n巴基斯坦\\n菲律宾\\n巴勒斯坦\\n朝鲜\\n卡塔尔\\n新加坡\\n斯里兰卡\\n叙利亚\\n泰国\\n塔吉克斯坦\\n土库曼斯坦\\n东帝汶\\n阿联酋\\n乌兹别克斯坦\\n越南\\n也门\\n欧洲\\xa0个\\n阿尔巴尼亚\\n安道尔\\n亚美尼亚\\n奥地利\\n阿塞拜疆\\n比利时\\n波黑\\n白俄罗斯\\n保加利亚\\n克罗地亚\\n塞浦路斯\\n捷克\\n丹麦\\n西班牙\\n爱沙尼亚\\n芬兰\\n法国\\n英国\\n格鲁吉亚\\n德国\\n希腊\\n匈牙利\\n爱尔兰\\n冰岛\\n以色列\\n意大利\\n拉脱维亚\\n列支敦士登\\n卢森堡\\n摩尔多瓦\\n马其顿\\n马耳他\\n黑山\\n摩纳哥\\n荷兰\\n挪威\\n波兰\\n葡萄牙\\n罗马尼亚\\n俄罗斯\\n斯洛文尼亚\\n圣马力诺\\n塞尔维亚\\n瑞士\\n斯洛伐克\\n瑞典\\n土耳其\\n乌克兰\\n美洲\\xa0个\\n荷属安的列斯\\n安提瓜和巴布达\\n阿根廷\\n阿鲁巴\\n巴哈马\\n巴巴多斯\\n百慕大\\n伯利兹\\n玻利维亚\\n巴西\\n加拿大\\n开曼群岛\\n智利\\n哥伦比亚\\n哥斯达黎加\\n古巴\\n多米尼克\\n多米尼加\\n厄瓜多尔\\n萨尔瓦多\\n格林纳达\\n危地马拉\\n圭亚那\\n海地\\n洪都拉斯\\n维尔京群岛\\n英属维尔京群岛\\n牙买加\\n圣卢西亚\\n墨西哥\\n尼加拉瓜\\n巴拿马\\n巴拉圭\\n秘鲁\\n波多黎各\\n圣基茨和尼维斯\\n苏里南共和国\\n特立尼达和多巴哥\\n乌拉圭\\n美国\\n委内瑞拉\\n圣文森特和格林纳丁斯\\n非洲\\xa0个\\n阿尔及利亚\\n安哥拉\\n布隆迪\\n贝宁\\n博茨瓦纳\\n布基纳法索\\n中非\\n刚果布\\n乍得\\n科特迪瓦\\n喀麦隆\\n民主刚果\\n科摩罗\\n佛得角\\n吉布提\\n埃及\\n厄立特里亚\\n埃塞俄比亚\\n加蓬\\n冈比亚\\n几内亚比绍\\n赤道几内亚\\n加纳\\n几内亚\\n肯尼亚\\n利比亚\\n利比里亚\\n莱索托\\n马达加斯加\\n摩洛哥\\n马拉维\\n马里\\n莫桑比克\\n毛里求斯\\n毛里塔尼亚\\n纳米比亚\\n尼日利亚\\n尼日尔\\n南非\\n卢旺达\\n塞内加尔\\n塞舌尔\\n塞拉利昂\\n索马里\\n圣多美和普林西比\\n苏丹\\n斯威士兰\\n坦桑尼亚\\n多哥\\n突尼斯\\n乌干达\\n赞比亚\\n津巴布韦\\n大洋洲\\xa0个\\n美属萨摩亚\\n澳大利亚\\n库克群岛\\n斐济\\n密克罗尼西亚\\n关岛\\n基里巴斯\\n马绍尔群岛\\n瑙鲁\\n新西兰\\n帕劳\\n巴布亚新几内亚\\n萨摩亚\\n所罗门群岛\\n汤加\\n图瓦卢\\n瓦努阿图\\n返回页面顶部\\n新浪简介     广告服务  招聘信息  网站律师     会员注册  产品答疑\\n ©        \\n新浪公司 版权所有\\n                                                                                                                         '"
      ]
     },
     "execution_count": 20,
     "metadata": {},
     "output_type": "execute_result"
    }
   ],
   "source": [
    "clean"
   ]
  },
  {
   "cell_type": "code",
   "execution_count": 21,
   "metadata": {
    "collapsed": false
   },
   "outputs": [
    {
     "data": {
      "text/plain": [
       "'刘强_体育明星_新浪竞技风暴_新浪网'"
      ]
     },
     "execution_count": 21,
     "metadata": {},
     "output_type": "execute_result"
    }
   ],
   "source": [
    "doc('title').text()"
   ]
  },
  {
   "cell_type": "code",
   "execution_count": 22,
   "metadata": {
    "collapsed": false
   },
   "outputs": [
    {
     "data": {
      "text/plain": [
       "['刘强体育明星新浪竞技风暴新浪网',\n",
       " '  全局   宋体华文宋体                                                                                                                                     查询                                                                                                                     右       左                    排行榜                                                                                                                                                                                                                                                                                                                                                              分页                                                                                                      黑体                                                                                                                                                                                   标题栏                                                                                                                             舌签                                                                                                   焦点图                     间隔         常用链接    红色    黑色    白色    灰色    青色       视频图标链接      视频图标链接（左图标）   常用链接    共用列表                                   共用列表   ',\n",
       " '                                                               分页样式，可根据自己需要自己定义         宋体                                                                                                       ',\n",
       " '                                                                                                                                                                                                                                                                                       ',\n",
       " '                           ',\n",
       " '                         ',\n",
       " '体育首页\\xa0\\xa0新浪首页\\xa0\\xa0新浪导航',\n",
       " '  ',\n",
       " '体育之星查询',\n",
       " '热门人物：',\n",
       " '奥运明星查询',\n",
       " '       实用工具弹窗        实用工具弹窗   ',\n",
       " '国家地区',\n",
       " '请选择查询国家地区',\n",
       " '',\n",
       " '中国',\n",
       " '中国香港',\n",
       " '中华台北',\n",
       " '亚洲',\n",
       " '阿富汗',\n",
       " '孟加拉国',\n",
       " '不丹',\n",
       " '巴林',\n",
       " '文莱',\n",
       " '柬埔寨',\n",
       " '印度尼西亚',\n",
       " '印度',\n",
       " '伊朗',\n",
       " '伊拉克',\n",
       " '约旦',\n",
       " '日本',\n",
       " '哈萨克斯坦',\n",
       " '吉尔吉斯斯坦',\n",
       " '韩国',\n",
       " '沙特阿拉伯',\n",
       " '科威特',\n",
       " '老挝',\n",
       " '黎巴嫩',\n",
       " '马来西亚',\n",
       " '马尔代夫',\n",
       " '蒙古',\n",
       " '缅甸',\n",
       " '尼泊尔',\n",
       " '阿曼',\n",
       " '巴基斯坦',\n",
       " '菲律宾',\n",
       " '巴勒斯坦',\n",
       " '朝鲜',\n",
       " '卡塔尔',\n",
       " '新加坡',\n",
       " '斯里兰卡',\n",
       " '叙利亚',\n",
       " '泰国',\n",
       " '塔吉克斯坦',\n",
       " '土库曼斯坦',\n",
       " '东帝汶',\n",
       " '阿联酋',\n",
       " '乌兹别克斯坦',\n",
       " '越南',\n",
       " '也门',\n",
       " '欧洲',\n",
       " '阿尔巴尼亚',\n",
       " '安道尔',\n",
       " '亚美尼亚',\n",
       " '奥地利',\n",
       " '阿塞拜疆',\n",
       " '比利时',\n",
       " '波黑',\n",
       " '白俄罗斯',\n",
       " '保加利亚',\n",
       " '克罗地亚',\n",
       " '塞浦路斯',\n",
       " '捷克',\n",
       " '丹麦',\n",
       " '西班牙',\n",
       " '爱沙尼亚',\n",
       " '芬兰',\n",
       " '法国',\n",
       " '英国',\n",
       " '格鲁吉亚',\n",
       " '德国',\n",
       " '希腊',\n",
       " '匈牙利',\n",
       " '爱尔兰',\n",
       " '冰岛',\n",
       " '以色列',\n",
       " '意大利',\n",
       " '拉脱维亚',\n",
       " '列支敦士登',\n",
       " '立陶宛',\n",
       " '卢森堡',\n",
       " '摩尔多瓦',\n",
       " '马其顿',\n",
       " '马耳他',\n",
       " '黑山',\n",
       " '摩纳哥',\n",
       " '荷兰',\n",
       " '挪威',\n",
       " '波兰',\n",
       " '葡萄牙',\n",
       " '罗马尼亚',\n",
       " '俄罗斯',\n",
       " '斯洛文尼亚',\n",
       " '圣马力诺',\n",
       " '塞尔维亚',\n",
       " '瑞士',\n",
       " '斯洛伐克',\n",
       " '瑞典',\n",
       " '土耳其',\n",
       " '乌克兰',\n",
       " '美洲',\n",
       " '荷属安的列斯',\n",
       " '安提瓜和巴布达',\n",
       " '阿根廷',\n",
       " '阿鲁巴',\n",
       " '巴哈马',\n",
       " '巴巴多斯',\n",
       " '百慕大',\n",
       " '伯利兹',\n",
       " '玻利维亚',\n",
       " '巴西',\n",
       " '加拿大',\n",
       " '开曼群岛',\n",
       " '智利',\n",
       " '哥伦比亚',\n",
       " '哥斯达黎加',\n",
       " '古巴',\n",
       " '多米尼克',\n",
       " '多米尼加',\n",
       " '厄瓜多尔',\n",
       " '萨尔瓦多',\n",
       " '格林纳达',\n",
       " '危地马拉',\n",
       " '圭亚那',\n",
       " '海地',\n",
       " '洪都拉斯',\n",
       " '维尔京群岛',\n",
       " '英属维尔京群岛',\n",
       " '牙买加',\n",
       " '圣卢西亚',\n",
       " '墨西哥',\n",
       " '尼加拉瓜',\n",
       " '巴拿马',\n",
       " '巴拉圭',\n",
       " '秘鲁',\n",
       " '波多黎各',\n",
       " '圣基茨和尼维斯',\n",
       " '苏里南',\n",
       " '特立尼达和多巴哥',\n",
       " '乌拉圭',\n",
       " '美国',\n",
       " '委内瑞拉',\n",
       " '圣文森特和格林纳丁斯',\n",
       " '非洲',\n",
       " '阿尔及利亚',\n",
       " '安哥拉',\n",
       " '布隆迪',\n",
       " '贝宁',\n",
       " '博茨瓦纳',\n",
       " '布基纳法索',\n",
       " '中非',\n",
       " '刚果布',\n",
       " '乍得',\n",
       " '科特迪瓦',\n",
       " '喀麦隆',\n",
       " '民主刚果',\n",
       " '科摩罗',\n",
       " '佛得角',\n",
       " '吉布提',\n",
       " '埃及',\n",
       " '厄立特里亚',\n",
       " '埃塞俄比亚',\n",
       " '加蓬',\n",
       " '冈比亚',\n",
       " '几内亚比绍',\n",
       " '赤道几内亚',\n",
       " '加纳',\n",
       " '几内亚',\n",
       " '肯尼亚',\n",
       " '利比亚',\n",
       " '利比里亚',\n",
       " '莱索托',\n",
       " '马达加斯加',\n",
       " '摩洛哥',\n",
       " '马拉维',\n",
       " '马里',\n",
       " '莫桑比克',\n",
       " '毛里求斯',\n",
       " '毛里塔尼亚',\n",
       " '纳米比亚',\n",
       " '尼日利亚',\n",
       " '尼日尔',\n",
       " '南非',\n",
       " '卢旺达',\n",
       " '塞内加尔',\n",
       " '塞舌尔',\n",
       " '塞拉利昂',\n",
       " '索马里',\n",
       " '圣多美和普林西比',\n",
       " '苏丹',\n",
       " '斯威士兰',\n",
       " '坦桑尼亚',\n",
       " '多哥',\n",
       " '突尼斯',\n",
       " '乌干达',\n",
       " '赞比亚',\n",
       " '津巴布韦',\n",
       " '大洋洲',\n",
       " '美属萨摩亚',\n",
       " '澳大利亚',\n",
       " '库克群岛',\n",
       " '斐济',\n",
       " '密克罗尼西亚',\n",
       " '关岛',\n",
       " '基里巴斯',\n",
       " '马绍尔群岛',\n",
       " '瑙鲁',\n",
       " '新西兰',\n",
       " '帕劳',\n",
       " '巴布亚新几内亚',\n",
       " '萨摩亚',\n",
       " '所罗门群岛',\n",
       " '汤加',\n",
       " '图瓦卢',\n",
       " '瓦努阿图',\n",
       " '项目',\n",
       " '请选择查询项目',\n",
       " '马术',\n",
       " '垒球',\n",
       " '曲棍球',\n",
       " '柔道',\n",
       " '橄榄球',\n",
       " '赛艇',\n",
       " '赛车',\n",
       " '射击',\n",
       " '射箭',\n",
       " '手球',\n",
       " '摔跤',\n",
       " '拳击',\n",
       " '田径',\n",
       " '铁人三项',\n",
       " '体操',\n",
       " '体操艺术体操',\n",
       " '体操蹦床',\n",
       " '武术散打',\n",
       " '现代五项',\n",
       " '台球',\n",
       " '网球',\n",
       " '羽毛球',\n",
       " '跆拳道',\n",
       " '游泳',\n",
       " '游泳水球',\n",
       " '游泳跳水',\n",
       " '游泳花样游泳',\n",
       " '排球',\n",
       " '排球沙滩排球',\n",
       " '棋牌',\n",
       " '其他',\n",
       " '皮划艇激流回旋',\n",
       " '皮划艇静水',\n",
       " '乒乓球',\n",
       " '棒球',\n",
       " '冰雪',\n",
       " '帆船帆板',\n",
       " '高尔夫',\n",
       " '击剑',\n",
       " '举重',\n",
       " '自行车小轮车',\n",
       " '自行车山地自行车',\n",
       " '自行车场地自行车',\n",
       " '自行车公路自行车',\n",
       " '姓名队名',\n",
       " '  ',\n",
       " '体育之星  拳击  刘强',\n",
       " '姓名：刘强   中国',\n",
       " '性别：男',\n",
       " '籍贯：辽宁沈阳',\n",
       " '生日：',\n",
       " '身高：',\n",
       " '项目：拳击男子公斤级',\n",
       " '详细介绍 历史成绩',\n",
       " '现年岁的刘强，来自辽宁省沈阳市，从事拳击项目已有年。入伍后，表现出对武警拳击事业由衷的热爱，刻苦钻研技术。每节训练课，他都带着问题练，课后主动与教练进行沟通，研究训练中的问题。业余时间，也几乎全部用在了琢磨技战术上。功夫不负有心人，刘强控制比赛的能力突飞猛进，多次在全国大赛夺冠。',\n",
       " '年至今分别在沈阳体院拳击队和武警拳击队任运动员',\n",
       " '：年全国锦标赛第二名、全国冠军赛第一名；',\n",
       " '年全国锦标赛、十运会第二名；',\n",
       " '年全国锦标赛第三名、全国冠军赛第一名；',\n",
       " '年全国锦标赛第三名、全国冠军赛第一名；',\n",
       " '年全国锦标赛第一名；',\n",
       " '年全国锦标赛、十一运会第二名',\n",
       " '年拳击世锦赛打进强',\n",
       " '        ',\n",
       " '相关新闻',\n",
       " '刘晏含袁心玥合砍分 八一无缘八强创最差战绩  ',\n",
       " '北京女排力克上海进八强 曾春蕾刘晓彤仍点出不足  ',\n",
       " '郭士强亲承韩德君复出 赵继伟刘志轩仍需时间  ',\n",
       " '瑞典赛丁宁进强？刘诗雯比领先被伊藤美诚逆转  ',\n",
       " '郭士强：揭幕战郭艾伦带伤出战 刘志轩或缺阵  ',\n",
       " '天津赛普娃分钟速胜携谢淑薇进强 刘方舟遭逆转  ',\n",
       " '日媒：刘国梁回归促国乒改革 因日乒崛起危机感强  ',\n",
       " '奖项郭士强李春江最佳教练 刘铮最佳新人  ',\n",
       " '世界杯朱雨玲埃克霍姆 丁宁刘佳晋级强  ',\n",
       " '谌龙进八强张楠刘成遭淘汰 何冰娇不敌奥原希望  ',\n",
       " '九日综述：郑宇伯张堃鹏出局 杨帆王云刘闯进强  ',\n",
       " '视频澳门黑熊刘晋邦强投得分 香港邀请队惨遭打爆  ',\n",
       " '澳洲赛丁宁刘诗雯进强 国乒小将连克日新两高手  ',\n",
       " '足协杯张弛刘军帅破门 鲁能恒丰进强战一方  ',\n",
       " '韩国赛丁宁不敌陈梦 刘诗雯胜王曼昱挺进强  ',\n",
       " '韩乒赛丁宁刘诗雯晋级强 陈幸同顾玉婷遭淘汰  ',\n",
       " '日乒赛刘诗雯顺利进强 中国女双占据四强中两席  ',\n",
       " '香港赛国乒确保女双冠军 刘诗雯等人进女单八强  ',\n",
       " '马龙当爹后源动力更强 刘国正盼樊振东担重任  ',\n",
       " '伊藤：能赢刘诗雯获更强自信 石川：早晚要报仇  ',\n",
       " '泉州郑赛赛收韩馨蕴退赛礼 刘方舟逆转进强  ',\n",
       " '刘诗雯陈梦王曼昱携手进强 半决赛刘诗雯战石川  ',\n",
       " '乒乓球世界杯强出炉！刘国梁网络解说首秀助阵  ',\n",
       " '大马大师赛国羽喜忧参半 张楠刘成止步强  ',\n",
       " '新年礼包国安官宣三内援 胡延强池忠国刘欢加盟  ',\n",
       " '曾春蕾刘晓彤合砍分 北汽女排提前跻身八强  ',\n",
       " '香港赛石宇奇险胜过关将战林丹 张楠刘成无缘强  ',\n",
       " '速胜天才少女挺进强 三冠王刘莎莎稳定有窍门  ',\n",
       " '球世锦赛潘晓婷开门红 陈思明刘莎莎率先进强  ',\n",
       " '乒乓球世界杯刘诗雯横扫对手 顺利晋级八强  ',\n",
       " '法国赛谌龙回暖杀入强 李俊慧刘雨辰意外出局  ',\n",
       " '延边老总确实和京东有接触 也许还没报告刘强东  ',\n",
       " '刘强东出面否认京东入主中超延边传闻这是谣言  ',\n",
       " '进球视频刘冠宇左路强突 左脚抽射破门角度刁钻  ',\n",
       " '进球视频刘冠宇左路强突 左脚抽射破门角度刁钻  ',\n",
       " '马龙樊振东横扫进男单八强 丁宁刘诗雯女单奏凯  ',\n",
       " '丁宁刘诗雯分钟速胜进八强 朱雨玲陈梦晋级  ',\n",
       " '丁俊晖撞脸刘强东 小晖我比他帅 脸比他大图  ',\n",
       " '岁李忆杀入美国女子业余赛八强 刘文博遭淘汰  ',\n",
       " '彭州站刘莎莎周豆豆会师决赛 中国台北包男子强  ',\n",
       " '相关图片',\n",
       " '图文王楠老公与刘国梁王宝强小聚 一起吃月饼 ',\n",
       " '图文王楠老公与刘国梁王宝强小聚 三人有互动 ',\n",
       " '图文女子花剑刘咏诗止步八强 耐心寻找机会 ',\n",
       " '图文女子花剑刘咏诗止步八强 中国剑客 ',\n",
       " '图文女子花剑刘咏诗止步八强 闪转腾挪 ',\n",
       " '图文女子花剑刘咏诗止步八强 中国剑客刘咏诗 ',\n",
       " '图文女子花剑刘咏诗止步八强 刘咏诗防守 ',\n",
       " '图文女子花剑刘咏诗止步八强 双方寻找机会 ',\n",
       " '图文女子花剑刘咏诗止步八强 与对手拥抱 ',\n",
       " '图文女子花剑刘咏诗止步八强 英姿飒爽 ',\n",
       " '图文女子花剑刘咏诗止步八强 以退为进 ',\n",
       " '图文女子花剑刘咏诗止步八强 闪转腾挪 ',\n",
       " '图文女子花剑刘咏诗止步八强 强势进攻 ',\n",
       " '图文女子花剑刘咏诗止步八强 积极反击 ',\n",
       " '图文中国女足平瑞典晋级强 刘杉杉大脚解围 ',\n",
       " '图文鲁能悉尼进亚冠强 刘彬彬内切突破 ',\n",
       " '图文印度赛李雪芮晋级强 刘雨辰和汤金华止步强 ',\n",
       " '图文全英赛林丹王适娴晋级八强 刘成鲁恺落败 ',\n",
       " '图文季后赛直击新疆总分北京进强 刘炜出手 ',\n",
       " '图文季后赛辽宁总分浙江进强 刘志轩突破 ',\n",
       " '图文中羽赛林丹谌龙晋级强 刘成后场杀球 ',\n",
       " '图文新浪直击中国男篮新加坡 刘炜强突 ',\n",
       " '图文女足世界杯中国喀麦隆进强 刘杉杉防守 ',\n",
       " '图文澳羽球赛谌龙晋级强 刘小龙邱子瀚晋级 ',\n",
       " '图文澳羽球赛谌龙晋级强 刘成鲁恺成功晋级 ',\n",
       " '图文澳羽球赛谌龙晋级强 刘成包宜鑫晋级 ',\n",
       " '图文中国男篮美国联队 刘炜强突上篮 ',\n",
       " '图文新浪直击张继科许昕进男双强 刘国梁指点二将 ',\n",
       " '图文倡棋杯复赛第轮开战 张强对阵刘星 ',\n",
       " '图文天元赛强战 刘星从容不迫 ',\n",
       " '图文理光杯强战打响 裁判长刘菁宣布开赛 ',\n",
       " '图文理光杯强战打响 裁判长刘菁宣布开赛 ',\n",
       " '图文理光杯混双赛强战 刘菁宣布开赛 ',\n",
       " '图文理光杯混双赛强战 刘菁曹又尹观战 ',\n",
       " '图文春兰杯强战晚宴 刘亚夫晚宴致辞 ',\n",
       " '图文春兰杯强战发布会 刘亚夫致辞 ',\n",
       " '图文国藩杯王琛马天放争冠 刘秋孙伟强 ',\n",
       " '图文沃尔沃青少年比洞赛强出炉 刘艳和林嘉欣 ',\n",
       " '图文业余赛北方区决赛 刘强漂亮的挥杆 ',\n",
       " '图文业余赛北方区决赛 刘强 ',\n",
       " ' ',\n",
       " '网友评论',\n",
       " '共条评论，点击查看',\n",
       " '     频道名，例如 、、 等      新闻，例如 、 等      是否专题模式，为专题     共 条评论',\n",
       " '            请输入评论内容！                                      留言成功                            \\u3000                     新浪网友           说                       ……         ',\n",
       " '退出',\n",
       " '登录名： 密码： 同时发往微博 注册',\n",
       " ' 非评论系统自己的页面，需要设置     更新登录信息回调函数，用来执行用户登陆状态的页面显示       显示欢迎信息                   显示同时发表到围脖        隐藏用户名和密码输入框                 隐藏注册入口链接       如果需要的话更新其他位置的用户名信息     更新登录信息回调函数 用来执行用户退出状态的页面显示     隐藏欢迎信息            隐藏同时发表到围脖        显示用户名和密码输入框                  显示注册入口链接          评论系统提供 发表评论后的默认提示信息 如果频道有另外的需求，重写下面的函数，定制自己的提示信息 例如：              谢谢您发表留言      其中， 是评论系统自带的在发言区域提示信息的函数； 参数说明： 发表留言的表单  提示信息 可选  提示文字的 可选   每次刷新页面时使用评论系统提供的函数  检查是否已经登陆   中会根据用户登陆状况来调用                        ',\n",
       " '拳击明星',\n",
       " '中国拳击明星',\n",
       " '麦麦提图尔孙',\n",
       " '董程',\n",
       " '王玄玄',\n",
       " '李金子',\n",
       " '李金子',\n",
       " '任灿灿',\n",
       " '刘强',\n",
       " '孟繁龙',\n",
       " '尼加提玉山',\n",
       " '买买提吐孙穷',\n",
       " '张志磊',\n",
       " '张小平',\n",
       " '外国拳击明星',\n",
       " '塞尔比',\n",
       " '阿洛里安',\n",
       " '霍亚',\n",
       " '卡尔扎合',\n",
       " '克利钦科',\n",
       " '小罗伊琼斯',\n",
       " '克利钦科',\n",
       " '伊姆拉诺夫',\n",
       " '洛马琴科',\n",
       " '迪亚兹',\n",
       " '萨瑟兰',\n",
       " '库马尔',\n",
       " '按项目检索',\n",
       " '排球',\n",
       " '沙排',\n",
       " '田径',\n",
       " '游泳',\n",
       " '跳水',\n",
       " '花游',\n",
       " '水球',\n",
       " '射击',\n",
       " '体操',\n",
       " '艺体',\n",
       " '蹦床',\n",
       " '乒乓球',\n",
       " '羽毛球',\n",
       " '网球',\n",
       " '手球',\n",
       " '棒球',\n",
       " '垒球',\n",
       " '曲棍球',\n",
       " '击剑',\n",
       " '射箭',\n",
       " '举重',\n",
       " '柔道',\n",
       " '跆拳道',\n",
       " '拳击',\n",
       " '摔跤',\n",
       " '赛艇',\n",
       " '静水',\n",
       " '激流',\n",
       " '帆船',\n",
       " '场地车',\n",
       " '公路车',\n",
       " '山地车',\n",
       " '小轮车',\n",
       " '马术',\n",
       " '铁人三',\n",
       " '现代五',\n",
       " '台球',\n",
       " '冰雪',\n",
       " '武术',\n",
       " '足球',\n",
       " '篮球',\n",
       " '高尔夫',\n",
       " '赛车',\n",
       " '棋牌',\n",
       " '按国家地区检索',\n",
       " '亚洲\\xa0个',\n",
       " '中国',\n",
       " '中国香港',\n",
       " '中华台北',\n",
       " '阿富汗',\n",
       " '孟加拉国',\n",
       " '不丹',\n",
       " '巴林',\n",
       " '文莱',\n",
       " '柬埔寨',\n",
       " '印度尼西亚',\n",
       " '印度',\n",
       " '伊朗',\n",
       " '伊拉克',\n",
       " '约旦',\n",
       " '日本',\n",
       " '哈萨克斯坦',\n",
       " '吉尔吉斯斯坦',\n",
       " '韩国',\n",
       " '沙特阿拉伯',\n",
       " '科威特',\n",
       " '老挝',\n",
       " '黎巴嫩',\n",
       " '马来西亚',\n",
       " '马尔代夫',\n",
       " '蒙古',\n",
       " '缅甸',\n",
       " '尼泊尔',\n",
       " '阿曼',\n",
       " '巴基斯坦',\n",
       " '菲律宾',\n",
       " '巴勒斯坦',\n",
       " '朝鲜',\n",
       " '卡塔尔',\n",
       " '新加坡',\n",
       " '斯里兰卡',\n",
       " '叙利亚',\n",
       " '泰国',\n",
       " '塔吉克斯坦',\n",
       " '土库曼斯坦',\n",
       " '东帝汶',\n",
       " '阿联酋',\n",
       " '乌兹别克斯坦',\n",
       " '越南',\n",
       " '也门',\n",
       " '欧洲\\xa0个',\n",
       " '阿尔巴尼亚',\n",
       " '安道尔',\n",
       " '亚美尼亚',\n",
       " '奥地利',\n",
       " '阿塞拜疆',\n",
       " '比利时',\n",
       " '波黑',\n",
       " '白俄罗斯',\n",
       " '保加利亚',\n",
       " '克罗地亚',\n",
       " '塞浦路斯',\n",
       " '捷克',\n",
       " '丹麦',\n",
       " '西班牙',\n",
       " '爱沙尼亚',\n",
       " '芬兰',\n",
       " '法国',\n",
       " '英国',\n",
       " '格鲁吉亚',\n",
       " '德国',\n",
       " '希腊',\n",
       " '匈牙利',\n",
       " '爱尔兰',\n",
       " '冰岛',\n",
       " '以色列',\n",
       " '意大利',\n",
       " '拉脱维亚',\n",
       " '列支敦士登',\n",
       " '卢森堡',\n",
       " '摩尔多瓦',\n",
       " '马其顿',\n",
       " '马耳他',\n",
       " '黑山',\n",
       " '摩纳哥',\n",
       " '荷兰',\n",
       " '挪威',\n",
       " '波兰',\n",
       " '葡萄牙',\n",
       " '罗马尼亚',\n",
       " '俄罗斯',\n",
       " '斯洛文尼亚',\n",
       " '圣马力诺',\n",
       " '塞尔维亚',\n",
       " '瑞士',\n",
       " '斯洛伐克',\n",
       " '瑞典',\n",
       " '土耳其',\n",
       " '乌克兰',\n",
       " '美洲\\xa0个',\n",
       " '荷属安的列斯',\n",
       " '安提瓜和巴布达',\n",
       " '阿根廷',\n",
       " '阿鲁巴',\n",
       " '巴哈马',\n",
       " '巴巴多斯',\n",
       " '百慕大',\n",
       " '伯利兹',\n",
       " '玻利维亚',\n",
       " '巴西',\n",
       " '加拿大',\n",
       " '开曼群岛',\n",
       " '智利',\n",
       " '哥伦比亚',\n",
       " '哥斯达黎加',\n",
       " '古巴',\n",
       " '多米尼克',\n",
       " '多米尼加',\n",
       " '厄瓜多尔',\n",
       " '萨尔瓦多',\n",
       " '格林纳达',\n",
       " '危地马拉',\n",
       " '圭亚那',\n",
       " '海地',\n",
       " '洪都拉斯',\n",
       " '维尔京群岛',\n",
       " '英属维尔京群岛',\n",
       " '牙买加',\n",
       " '圣卢西亚',\n",
       " '墨西哥',\n",
       " '尼加拉瓜',\n",
       " '巴拿马',\n",
       " '巴拉圭',\n",
       " '秘鲁',\n",
       " '波多黎各',\n",
       " '圣基茨和尼维斯',\n",
       " '苏里南共和国',\n",
       " '特立尼达和多巴哥',\n",
       " '乌拉圭',\n",
       " '美国',\n",
       " '委内瑞拉',\n",
       " '圣文森特和格林纳丁斯',\n",
       " '非洲\\xa0个',\n",
       " '阿尔及利亚',\n",
       " '安哥拉',\n",
       " '布隆迪',\n",
       " '贝宁',\n",
       " '博茨瓦纳',\n",
       " '布基纳法索',\n",
       " '中非',\n",
       " '刚果布',\n",
       " '乍得',\n",
       " '科特迪瓦',\n",
       " '喀麦隆',\n",
       " '民主刚果',\n",
       " '科摩罗',\n",
       " '佛得角',\n",
       " '吉布提',\n",
       " '埃及',\n",
       " '厄立特里亚',\n",
       " '埃塞俄比亚',\n",
       " '加蓬',\n",
       " '冈比亚',\n",
       " '几内亚比绍',\n",
       " '赤道几内亚',\n",
       " '加纳',\n",
       " '几内亚',\n",
       " '肯尼亚',\n",
       " '利比亚',\n",
       " '利比里亚',\n",
       " '莱索托',\n",
       " '马达加斯加',\n",
       " '摩洛哥',\n",
       " '马拉维',\n",
       " '马里',\n",
       " '莫桑比克',\n",
       " '毛里求斯',\n",
       " '毛里塔尼亚',\n",
       " '纳米比亚',\n",
       " '尼日利亚',\n",
       " '尼日尔',\n",
       " '南非',\n",
       " '卢旺达',\n",
       " '塞内加尔',\n",
       " '塞舌尔',\n",
       " '塞拉利昂',\n",
       " '索马里',\n",
       " '圣多美和普林西比',\n",
       " '苏丹',\n",
       " '斯威士兰',\n",
       " '坦桑尼亚',\n",
       " '多哥',\n",
       " '突尼斯',\n",
       " '乌干达',\n",
       " '赞比亚',\n",
       " '津巴布韦',\n",
       " '大洋洲\\xa0个',\n",
       " '美属萨摩亚',\n",
       " '澳大利亚',\n",
       " '库克群岛',\n",
       " '斐济',\n",
       " '密克罗尼西亚',\n",
       " '关岛',\n",
       " '基里巴斯',\n",
       " '马绍尔群岛',\n",
       " '瑙鲁',\n",
       " '新西兰',\n",
       " '帕劳',\n",
       " '巴布亚新几内亚',\n",
       " '萨摩亚',\n",
       " '所罗门群岛',\n",
       " '汤加',\n",
       " '图瓦卢',\n",
       " '瓦努阿图',\n",
       " '返回页面顶部',\n",
       " '新浪简介     广告服务  招聘信息  网站律师     会员注册  产品答疑',\n",
       " ' ©        ',\n",
       " '新浪公司 版权所有',\n",
       " '                                                                                                                         ']"
      ]
     },
     "execution_count": 22,
     "metadata": {},
     "output_type": "execute_result"
    }
   ],
   "source": [
    "clean.split('\\n')"
   ]
  },
  {
   "cell_type": "code",
   "execution_count": 23,
   "metadata": {
    "collapsed": true
   },
   "outputs": [],
   "source": [
    "html = requests.get('http://www.caixin.com/hot/liuqiang.html').content"
   ]
  },
  {
   "cell_type": "code",
   "execution_count": 24,
   "metadata": {
    "collapsed": true
   },
   "outputs": [],
   "source": [
    "doc = pq(html)"
   ]
  },
  {
   "cell_type": "code",
   "execution_count": 25,
   "metadata": {
    "collapsed": true
   },
   "outputs": [],
   "source": [
    "clean = re.sub('[a-zA-z0-9\\(\\)\\{\\,\\}\\!\\?\\@\\%\\$\\|\\+\\\\\\*\\'\\.\\:\\=\\\"\\&\\;\\/\\-\\~\\#\\<\\>]+','',doc.text())"
   ]
  },
  {
   "cell_type": "code",
   "execution_count": 26,
   "metadata": {
    "collapsed": false
   },
   "outputs": [
    {
     "ename": "NameError",
     "evalue": "name 'cleam' is not defined",
     "output_type": "error",
     "traceback": [
      "\u001b[0;31m---------------------------------------------------------------------------\u001b[0m",
      "\u001b[0;31mNameError\u001b[0m                                 Traceback (most recent call last)",
      "\u001b[0;32m<ipython-input-26-c4614dad403f>\u001b[0m in \u001b[0;36m<module>\u001b[0;34m()\u001b[0m\n\u001b[0;32m----> 1\u001b[0;31m \u001b[0mcleam\u001b[0m\u001b[1;33m\u001b[0m\u001b[0m\n\u001b[0m",
      "\u001b[0;31mNameError\u001b[0m: name 'cleam' is not defined"
     ]
    }
   ],
   "source": [
    "cleam"
   ]
  },
  {
   "cell_type": "code",
   "execution_count": 27,
   "metadata": {
    "collapsed": false
   },
   "outputs": [
    {
     "data": {
      "text/plain": [
       "'刘强相关新闻报道财新网\\n       \\n无所不能 运动家\\n      \\n个人订阅 机构订阅 私房课 财新一线 应用下载 帮助\\n数据  智库指数  会议培训\\n商城\\n立即订阅\\n首页\\n经济\\n金融\\n公司\\n政经\\n环科\\n世界\\n观点网\\n文化\\n博客\\n周刊\\n图片\\n视听\\n数字说\\n\\n\\n数字说财新周末精英访谈纪念日\\n财新 读懂央行理解万税天天预测政策信息宏观数据贸易投资地方经济国际经济 聚焦\\n监管银行证券基金信托保险投资创新市场 欢乐财新闻\\n无所不能 大家谈汽车交通基建房地产消费\\n反腐纪事人事观察无恙有教无类法治时政民生社会三农\\n环境 新科技\\n全球直播 旁观中国天下事世界说\\n财新名家火线评论意见领袖社评聚焦视听智库思想精选《中国改革》《比较》 谢平互金九讲 王烁学习报告\\n明朝历史传奇小说《赤龙》 专栏评论文学艺术逝者阅读\\n经济民生人文生活 科技最新更新\\n滚动新闻图片故事专题报道一周天下一周人物奇闻趣事财新独家\\n短视频音频财新时间 财新对话 视野微纪录\\n互动新闻纪念日\\n    \\n当前位置： 财新网  热搜  刘强\\n刘强\\n辽宁“后”博士厅官高宏彬被查 曾主政本溪抚顺\\n辽宁“后”博士厅官高宏彬被查 曾主政本溪抚顺\\n两人被查。除了高宏彬，还有后任辽宁省副省长的\\n刘\\n强\\n。 高宏彬不是辽宁落马的第一个后正厅级官员。年月，出生于年月的辽宁省发改委副主任王延东（正厅级）被查。 值得注意的是，在高宏彬\\n关于孟晚舟事件的几点澄清\\n发布时间：\\n评论\\n关于孟晚舟事件的几点澄清。——昨晚笔者发布了题为《住手！孟晚舟不是\\n刘\\n强\\n东！》的微博后，今早又仔细看了相关的资料和报道，觉得有几个细节需澄清如下：、孟晚舟之父任正非是华为集团的创始人和总裁而不是董事\\n热评：\\n住手！孟晚舟不是刘强东！\\n发布时间：\\n评论\\n住手！孟晚舟不是\\n刘\\n强\\n东！——中美两国元首日前在阿根廷会晤，达成暂停贸易战的共识，全世界为之松了一口气。笔者在前日发布微博，借前美国财长萨默斯之口奉劝美国“应趁中国还愿意议和时见好就收”。吾国商务部发\\n热评：\\n人事观察月人事综述：“后”政坛新星引关注\\n发布时间：\\n评论\\n，再有六名“后”干部履新副省部级职务，整体数量翻倍。当中包括至月集中上任的三名“金融副省长”李云泽、\\n刘\\n强\\n、郭宁宁，三人均从国有银行副行长“空降”升任各自省份副省长，现分别任职四川、山东、福建\\n热评：\\n石猴（新浪微博）天小时分秒前\\n回复鲁寄哲对。当下老龄化明显。\\n情枫（新浪微博）天小时分秒前\\n敢民选吗？\\n长生记互慰平生（新浪微博）天小时分秒前\\n对于是还是后，实在没兴趣\\n反腐周记首“虎”冯新柱被诉\\n发布时间：\\n评论\\n级政府副职成为“打虎”重点。据财新记者统计，在中共十九大后的落马高官中，辽宁的\\n刘\\n强\\n、陕西的冯新柱、山东的季缃绮、江西的李贻煌、贵州的王晓光和蒲波、内蒙古的白向群、天津的陈质枫、江苏的缪瑞林等九人均在省\\n热评：\\n小小浪（新浪微博）天小时分秒前\\n虎虎生风\\n高士的影像（新浪微博）天小时分秒前\\n首“虎”冯新柱被诉\\n腊八賙（新浪微博）天小时分秒前\\n都一样\\n人事观察唯一省级女纪委书记穆红玉代理重庆监委主任\\n发布时间：\\n评论\\n选举产生的常委，其余八人是近一年半内新调入常委班子的。 自换届以来留任至今的四人是：市长唐良智、常务副市长吴存荣、市委宣传部长张鸣、市委政法委书记\\n刘\\n强\\n。 换届后获任重庆市委常委的八人中，两江新区党工委\\n热评：\\n人事观察岁广西副主席杨晋柏领跑 “后”高官规模初显\\n发布时间：\\n评论\\n双转岗银保监会。 年以来，七名“后”副省部级干部陆续获任，包括至月集中上任的三名副省长李云泽、\\n刘\\n强\\n、郭宁宁，三人均从国有银行副行长“空降”升任各自省份副省长，现分别任职四川、山东、福\\n热评：\\n哦耶（新浪微博）天小时分秒前\\n后政坛新星开始发光发亮\\n（新浪微博）天小时分秒前\\n回复制皂厂门卫班禅本身政治待遇就是副国级\\n仰望鐘聲（新浪微博）天小时分秒前\\n陆昊是领跑者吧\\n新链之鹰（新浪微博）天小时分秒前\\n王洪文副主席才岁\\n为什么京东被传“大面积裁员”？\\n发布时间：\\n评论\\n摘要：涉嫌性侵案早点落地，对各方都好 \\xa0 \\xa0 \\xa0 撰文张银银编辑欣欣然 月日，又是京东倒霉的一天。各位杆友当然明白，京东及\\n刘\\n强\\n东这一年经历的劫难。 最新的坏消息称，京东将大面积裁员。其\\n热评：\\n反腐周记被指省委换届前拉票 河南自首高官降级退休\\n发布时间：\\n评论\\n刘\\n强\\n破坏选举案一审过堂。 此外，陕西省委原常委、西安市委原书记魏民洲受贿过亿，一审被判无期徒刑；江西原副省长李贻煌过堂；贵州省委原常委、副省长王晓光和财政部原副部长张少春被公诉。 王铁被降级 中共十八\\n热评：\\n图片\\n世界互联网大会举办 互联网大咖齐聚乌镇\\n金融改革与回归本源\\n金融创新与监管\\n雾锁中国下的众生态\\n视频\\n刘强东案又曝细节；山东暂停生猪交易\\n\\n刘强东案移交检方；国务院发文促消费\\n\\n刘强东在美被指性侵；“开学第一课”引争议\\n\\n【直播回看】全国政协记者会 许家印刘强东等谈改善民生\\n\\n专题推荐\\n                                   \\n热门热搜\\n最新热搜\\n\\n离岸金融\\n\\n慈善基金\\n\\n不动产抵押\\n\\n外汇保证金\\n\\n哈佛女孩\\n\\n全球强\\n\\n借贷公司\\n\\n壹基金\\n\\n\\n\\n营享家\\n\\n期货 创新业务\\n\\n境外期货业务许可证\\n\\n上海浦东期货大厦\\n\\n期货 主力\\n\\n国际期货论坛\\n\\n香港人民币期货\\n\\n期货 流程\\n\\n燃油 期货\\n\\n上海期货 铜\\n\\n日内 期货\\n点击排行榜\\n评论排行榜\\n\\n刘强东律师：对方要钱 女方律师：检方失职\\n\\n刘强东案不起诉告终 美检方细解背后缘由\\n\\n内蒙古银行原董事长杨成林贪污受贿逾亿 一审被判死缓\\n\\n年省级财政透明度排名 广东居首江西垫底\\n\\n经济工作会议首提改善货币政策传导机制\\n\\n突击扭亏计划落空 电广传媒终止出售名画\\n\\n调查：年中国城镇住房空置率达\\n\\n复华欠薪过亿元 涉及名员工\\n\\n刘强东律师：对方要钱 女方律师：检方失职\\n\\n刘强东案不起诉告终 美检方细解背后缘由\\n\\n中国暂停对美产进口车加征关税三个月 将提振市场信心\\n\\n楼市调控或有局部松动 各地有望获得更多自主权\\n\\n瑞幸咖啡轮融资亿美元 半年估值翻倍至亿美元\\n\\n中储粮分批采购美国大豆 补充国储储存\\n\\n加速去库存 珠海两区暗中放松住房限购（更新）\\n\\n交通部：督促加快退押 呼吁为新事物留试错空间\\n猜你喜欢\\n\\n外交部召见美国大使 要求立即撤销对孟晚舟的逮捕令\\n\\n金立确定破产重整 每日一淘完成亿美元轮融资每日数据精华\\n\\n今日开盘：两市双双高开 沪指涨幅\\n\\n美学者：美国政府迫害华为“因为它太成功了”\\n\\n戴京焦：运用“第一性原理”创造财富  第十三期\\n\\n台湾海基会原董事长江丙坤病逝 曾为两岸复谈破冰\\n\\n金正恩回访韩国前景陷入混沌 半岛和解进程会否趋缓\\n\\n早报外交部召见美国大使 要求立即撤销对孟晚舟的逮捕令；中国移动年底推终端芯片 明年采购万台终端；或已于上周提交上市申请\\n\\n中国的房地产是否到了“历史大顶”\\n\\n左晖涉足商业地产 亿元收购北京盈科中心\\n\\n孟晚舟提出超万保释；高通称福州中院禁售\\n热搜推荐\\n\\n袁雷鸣\\n\\n黄剑辉\\n\\n公务车\\n\\n自然资源\\n\\n\\n\\n关税减让\\n\\n基金大学\\n\\n高端财经\\n\\n国际军事\\n\\n经济拐点\\n                                        \\n热词推荐\\n 东部战区 社会抚养费 北京市委书记 贯彻新发展理念 渐冻症 宋卫平 滑膜肉瘤 卢旺达 省委常委 司法改革 华润银行 银监局 债券基金 \\n财新网所刊载内容之知识产权为财新传媒及或相关权利人专属所有或持有。未经许可，禁止进行转载、摘编、复制及建立镜像等任何使用。\\n京证号 京备：  京公网安备 号  广播电视节目制作经营许可证：京第号  出版物经营许可证：第直号\\n 财新网    版权所有 复制必究\\n违法和不良信息举报电话：\\u3000举报邮箱：\\n关于我们  加入我们  财新公益基金会  意见与反馈  提供新闻线索  联系我们  友情链接  网站地图\\n           网站当前用户，如果未登录就为或空字符串   网站当前用户的，不管是否登录都需要传                                    \\n                        当天文章统计                                 \\n艾瑞统计代码      监测配置  客户项目编号由系统生成   的位置，请客户自行托管文件，只需修改此值              '"
      ]
     },
     "execution_count": 27,
     "metadata": {},
     "output_type": "execute_result"
    }
   ],
   "source": [
    "clean"
   ]
  },
  {
   "cell_type": "code",
   "execution_count": 28,
   "metadata": {
    "collapsed": false
   },
   "outputs": [
    {
     "data": {
      "text/plain": [
       "['刘强相关新闻报道财新网',\n",
       " '       ',\n",
       " '无所不能 运动家',\n",
       " '      ',\n",
       " '个人订阅 机构订阅 私房课 财新一线 应用下载 帮助',\n",
       " '数据  智库指数  会议培训',\n",
       " '商城',\n",
       " '立即订阅',\n",
       " '首页',\n",
       " '经济',\n",
       " '金融',\n",
       " '公司',\n",
       " '政经',\n",
       " '环科',\n",
       " '世界',\n",
       " '观点网',\n",
       " '文化',\n",
       " '博客',\n",
       " '周刊',\n",
       " '图片',\n",
       " '视听',\n",
       " '数字说',\n",
       " '',\n",
       " '',\n",
       " '数字说财新周末精英访谈纪念日',\n",
       " '财新 读懂央行理解万税天天预测政策信息宏观数据贸易投资地方经济国际经济 聚焦',\n",
       " '监管银行证券基金信托保险投资创新市场 欢乐财新闻',\n",
       " '无所不能 大家谈汽车交通基建房地产消费',\n",
       " '反腐纪事人事观察无恙有教无类法治时政民生社会三农',\n",
       " '环境 新科技',\n",
       " '全球直播 旁观中国天下事世界说',\n",
       " '财新名家火线评论意见领袖社评聚焦视听智库思想精选《中国改革》《比较》 谢平互金九讲 王烁学习报告',\n",
       " '明朝历史传奇小说《赤龙》 专栏评论文学艺术逝者阅读',\n",
       " '经济民生人文生活 科技最新更新',\n",
       " '滚动新闻图片故事专题报道一周天下一周人物奇闻趣事财新独家',\n",
       " '短视频音频财新时间 财新对话 视野微纪录',\n",
       " '互动新闻纪念日',\n",
       " '    ',\n",
       " '当前位置： 财新网  热搜  刘强',\n",
       " '刘强',\n",
       " '辽宁“后”博士厅官高宏彬被查 曾主政本溪抚顺',\n",
       " '辽宁“后”博士厅官高宏彬被查 曾主政本溪抚顺',\n",
       " '两人被查。除了高宏彬，还有后任辽宁省副省长的',\n",
       " '刘',\n",
       " '强',\n",
       " '。 高宏彬不是辽宁落马的第一个后正厅级官员。年月，出生于年月的辽宁省发改委副主任王延东（正厅级）被查。 值得注意的是，在高宏彬',\n",
       " '关于孟晚舟事件的几点澄清',\n",
       " '发布时间：',\n",
       " '评论',\n",
       " '关于孟晚舟事件的几点澄清。——昨晚笔者发布了题为《住手！孟晚舟不是',\n",
       " '刘',\n",
       " '强',\n",
       " '东！》的微博后，今早又仔细看了相关的资料和报道，觉得有几个细节需澄清如下：、孟晚舟之父任正非是华为集团的创始人和总裁而不是董事',\n",
       " '热评：',\n",
       " '住手！孟晚舟不是刘强东！',\n",
       " '发布时间：',\n",
       " '评论',\n",
       " '住手！孟晚舟不是',\n",
       " '刘',\n",
       " '强',\n",
       " '东！——中美两国元首日前在阿根廷会晤，达成暂停贸易战的共识，全世界为之松了一口气。笔者在前日发布微博，借前美国财长萨默斯之口奉劝美国“应趁中国还愿意议和时见好就收”。吾国商务部发',\n",
       " '热评：',\n",
       " '人事观察月人事综述：“后”政坛新星引关注',\n",
       " '发布时间：',\n",
       " '评论',\n",
       " '，再有六名“后”干部履新副省部级职务，整体数量翻倍。当中包括至月集中上任的三名“金融副省长”李云泽、',\n",
       " '刘',\n",
       " '强',\n",
       " '、郭宁宁，三人均从国有银行副行长“空降”升任各自省份副省长，现分别任职四川、山东、福建',\n",
       " '热评：',\n",
       " '石猴（新浪微博）天小时分秒前',\n",
       " '回复鲁寄哲对。当下老龄化明显。',\n",
       " '情枫（新浪微博）天小时分秒前',\n",
       " '敢民选吗？',\n",
       " '长生记互慰平生（新浪微博）天小时分秒前',\n",
       " '对于是还是后，实在没兴趣',\n",
       " '反腐周记首“虎”冯新柱被诉',\n",
       " '发布时间：',\n",
       " '评论',\n",
       " '级政府副职成为“打虎”重点。据财新记者统计，在中共十九大后的落马高官中，辽宁的',\n",
       " '刘',\n",
       " '强',\n",
       " '、陕西的冯新柱、山东的季缃绮、江西的李贻煌、贵州的王晓光和蒲波、内蒙古的白向群、天津的陈质枫、江苏的缪瑞林等九人均在省',\n",
       " '热评：',\n",
       " '小小浪（新浪微博）天小时分秒前',\n",
       " '虎虎生风',\n",
       " '高士的影像（新浪微博）天小时分秒前',\n",
       " '首“虎”冯新柱被诉',\n",
       " '腊八賙（新浪微博）天小时分秒前',\n",
       " '都一样',\n",
       " '人事观察唯一省级女纪委书记穆红玉代理重庆监委主任',\n",
       " '发布时间：',\n",
       " '评论',\n",
       " '选举产生的常委，其余八人是近一年半内新调入常委班子的。 自换届以来留任至今的四人是：市长唐良智、常务副市长吴存荣、市委宣传部长张鸣、市委政法委书记',\n",
       " '刘',\n",
       " '强',\n",
       " '。 换届后获任重庆市委常委的八人中，两江新区党工委',\n",
       " '热评：',\n",
       " '人事观察岁广西副主席杨晋柏领跑 “后”高官规模初显',\n",
       " '发布时间：',\n",
       " '评论',\n",
       " '双转岗银保监会。 年以来，七名“后”副省部级干部陆续获任，包括至月集中上任的三名副省长李云泽、',\n",
       " '刘',\n",
       " '强',\n",
       " '、郭宁宁，三人均从国有银行副行长“空降”升任各自省份副省长，现分别任职四川、山东、福',\n",
       " '热评：',\n",
       " '哦耶（新浪微博）天小时分秒前',\n",
       " '后政坛新星开始发光发亮',\n",
       " '（新浪微博）天小时分秒前',\n",
       " '回复制皂厂门卫班禅本身政治待遇就是副国级',\n",
       " '仰望鐘聲（新浪微博）天小时分秒前',\n",
       " '陆昊是领跑者吧',\n",
       " '新链之鹰（新浪微博）天小时分秒前',\n",
       " '王洪文副主席才岁',\n",
       " '为什么京东被传“大面积裁员”？',\n",
       " '发布时间：',\n",
       " '评论',\n",
       " '摘要：涉嫌性侵案早点落地，对各方都好 \\xa0 \\xa0 \\xa0 撰文张银银编辑欣欣然 月日，又是京东倒霉的一天。各位杆友当然明白，京东及',\n",
       " '刘',\n",
       " '强',\n",
       " '东这一年经历的劫难。 最新的坏消息称，京东将大面积裁员。其',\n",
       " '热评：',\n",
       " '反腐周记被指省委换届前拉票 河南自首高官降级退休',\n",
       " '发布时间：',\n",
       " '评论',\n",
       " '刘',\n",
       " '强',\n",
       " '破坏选举案一审过堂。 此外，陕西省委原常委、西安市委原书记魏民洲受贿过亿，一审被判无期徒刑；江西原副省长李贻煌过堂；贵州省委原常委、副省长王晓光和财政部原副部长张少春被公诉。 王铁被降级 中共十八',\n",
       " '热评：',\n",
       " '图片',\n",
       " '世界互联网大会举办 互联网大咖齐聚乌镇',\n",
       " '金融改革与回归本源',\n",
       " '金融创新与监管',\n",
       " '雾锁中国下的众生态',\n",
       " '视频',\n",
       " '刘强东案又曝细节；山东暂停生猪交易',\n",
       " '',\n",
       " '刘强东案移交检方；国务院发文促消费',\n",
       " '',\n",
       " '刘强东在美被指性侵；“开学第一课”引争议',\n",
       " '',\n",
       " '【直播回看】全国政协记者会 许家印刘强东等谈改善民生',\n",
       " '',\n",
       " '专题推荐',\n",
       " '                                   ',\n",
       " '热门热搜',\n",
       " '最新热搜',\n",
       " '',\n",
       " '离岸金融',\n",
       " '',\n",
       " '慈善基金',\n",
       " '',\n",
       " '不动产抵押',\n",
       " '',\n",
       " '外汇保证金',\n",
       " '',\n",
       " '哈佛女孩',\n",
       " '',\n",
       " '全球强',\n",
       " '',\n",
       " '借贷公司',\n",
       " '',\n",
       " '壹基金',\n",
       " '',\n",
       " '',\n",
       " '',\n",
       " '营享家',\n",
       " '',\n",
       " '期货 创新业务',\n",
       " '',\n",
       " '境外期货业务许可证',\n",
       " '',\n",
       " '上海浦东期货大厦',\n",
       " '',\n",
       " '期货 主力',\n",
       " '',\n",
       " '国际期货论坛',\n",
       " '',\n",
       " '香港人民币期货',\n",
       " '',\n",
       " '期货 流程',\n",
       " '',\n",
       " '燃油 期货',\n",
       " '',\n",
       " '上海期货 铜',\n",
       " '',\n",
       " '日内 期货',\n",
       " '点击排行榜',\n",
       " '评论排行榜',\n",
       " '',\n",
       " '刘强东律师：对方要钱 女方律师：检方失职',\n",
       " '',\n",
       " '刘强东案不起诉告终 美检方细解背后缘由',\n",
       " '',\n",
       " '内蒙古银行原董事长杨成林贪污受贿逾亿 一审被判死缓',\n",
       " '',\n",
       " '年省级财政透明度排名 广东居首江西垫底',\n",
       " '',\n",
       " '经济工作会议首提改善货币政策传导机制',\n",
       " '',\n",
       " '突击扭亏计划落空 电广传媒终止出售名画',\n",
       " '',\n",
       " '调查：年中国城镇住房空置率达',\n",
       " '',\n",
       " '复华欠薪过亿元 涉及名员工',\n",
       " '',\n",
       " '刘强东律师：对方要钱 女方律师：检方失职',\n",
       " '',\n",
       " '刘强东案不起诉告终 美检方细解背后缘由',\n",
       " '',\n",
       " '中国暂停对美产进口车加征关税三个月 将提振市场信心',\n",
       " '',\n",
       " '楼市调控或有局部松动 各地有望获得更多自主权',\n",
       " '',\n",
       " '瑞幸咖啡轮融资亿美元 半年估值翻倍至亿美元',\n",
       " '',\n",
       " '中储粮分批采购美国大豆 补充国储储存',\n",
       " '',\n",
       " '加速去库存 珠海两区暗中放松住房限购（更新）',\n",
       " '',\n",
       " '交通部：督促加快退押 呼吁为新事物留试错空间',\n",
       " '猜你喜欢',\n",
       " '',\n",
       " '外交部召见美国大使 要求立即撤销对孟晚舟的逮捕令',\n",
       " '',\n",
       " '金立确定破产重整 每日一淘完成亿美元轮融资每日数据精华',\n",
       " '',\n",
       " '今日开盘：两市双双高开 沪指涨幅',\n",
       " '',\n",
       " '美学者：美国政府迫害华为“因为它太成功了”',\n",
       " '',\n",
       " '戴京焦：运用“第一性原理”创造财富  第十三期',\n",
       " '',\n",
       " '台湾海基会原董事长江丙坤病逝 曾为两岸复谈破冰',\n",
       " '',\n",
       " '金正恩回访韩国前景陷入混沌 半岛和解进程会否趋缓',\n",
       " '',\n",
       " '早报外交部召见美国大使 要求立即撤销对孟晚舟的逮捕令；中国移动年底推终端芯片 明年采购万台终端；或已于上周提交上市申请',\n",
       " '',\n",
       " '中国的房地产是否到了“历史大顶”',\n",
       " '',\n",
       " '左晖涉足商业地产 亿元收购北京盈科中心',\n",
       " '',\n",
       " '孟晚舟提出超万保释；高通称福州中院禁售',\n",
       " '热搜推荐',\n",
       " '',\n",
       " '袁雷鸣',\n",
       " '',\n",
       " '黄剑辉',\n",
       " '',\n",
       " '公务车',\n",
       " '',\n",
       " '自然资源',\n",
       " '',\n",
       " '',\n",
       " '',\n",
       " '关税减让',\n",
       " '',\n",
       " '基金大学',\n",
       " '',\n",
       " '高端财经',\n",
       " '',\n",
       " '国际军事',\n",
       " '',\n",
       " '经济拐点',\n",
       " '                                        ',\n",
       " '热词推荐',\n",
       " ' 东部战区 社会抚养费 北京市委书记 贯彻新发展理念 渐冻症 宋卫平 滑膜肉瘤 卢旺达 省委常委 司法改革 华润银行 银监局 债券基金 ',\n",
       " '财新网所刊载内容之知识产权为财新传媒及或相关权利人专属所有或持有。未经许可，禁止进行转载、摘编、复制及建立镜像等任何使用。',\n",
       " '京证号 京备：  京公网安备 号  广播电视节目制作经营许可证：京第号  出版物经营许可证：第直号',\n",
       " ' 财新网    版权所有 复制必究',\n",
       " '违法和不良信息举报电话：\\u3000举报邮箱：',\n",
       " '关于我们  加入我们  财新公益基金会  意见与反馈  提供新闻线索  联系我们  友情链接  网站地图',\n",
       " '           网站当前用户，如果未登录就为或空字符串   网站当前用户的，不管是否登录都需要传                                    ',\n",
       " '                        当天文章统计                                 ',\n",
       " '艾瑞统计代码      监测配置  客户项目编号由系统生成   的位置，请客户自行托管文件，只需修改此值              ']"
      ]
     },
     "execution_count": 28,
     "metadata": {},
     "output_type": "execute_result"
    }
   ],
   "source": [
    "clean.split('\\n')"
   ]
  },
  {
   "cell_type": "code",
   "execution_count": 29,
   "metadata": {
    "collapsed": true
   },
   "outputs": [],
   "source": [
    "html = requests.get('https://baijiahao.baidu.com/s?id=1617830678474957938&wfr=spider&for=pc').content"
   ]
  },
  {
   "cell_type": "code",
   "execution_count": 30,
   "metadata": {
    "collapsed": true
   },
   "outputs": [],
   "source": [
    "doc = pq(html)"
   ]
  },
  {
   "cell_type": "code",
   "execution_count": 31,
   "metadata": {
    "collapsed": true
   },
   "outputs": [],
   "source": [
    "clean = re.sub('[a-zA-z0-9\\(\\)\\{\\,\\}\\!\\?\\@\\%\\$\\|\\+\\\\\\*\\'\\.\\:\\=\\\"\\&\\;\\/\\-\\~\\#\\<\\>]+','',doc.text())"
   ]
  },
  {
   "cell_type": "code",
   "execution_count": 32,
   "metadata": {
    "collapsed": false
   },
   "outputs": [
    {
     "data": {
      "text/plain": [
       "'辽宁原副省长刘强受贿、破坏选举案一审开庭\\n                              \\n百度首页\\n登录\\n个人中心帐号设置意见反馈退出\\n辽宁原副省长刘强受贿、破坏选举案一审开庭\\n浙江新闻\\n百家号\\n   央视新闻客户端\\n年月日，北京市第三中级人民法院一审公开开庭审理了辽宁省人民政府原副省长刘强受贿、破坏选举一案。\\n北京市人民检察院第三分院起诉指控：年至年，被告人刘强利用担任中国石油天然气股份有限公司抚顺石化分公司总经理、辽宁省抚顺市人民政府市长、中共抚顺市委书记、辽宁省人民政府副省长等职务上的便利或职权、地位形成的便利条件，为有关单位和个人在企业经营、工程承揽、职务晋升等事项上提供帮助，直接或者通过特定关系人收受他人给予的财物，共计折合人民币万余元。年至年月，刘强为当选辽宁省人民政府副省长，利用担任中共抚顺市委书记等职权和影响，采取给予他人财物、打招呼等方式进行拉票贿选，破坏正常选举活动，情节严重，社会影响恶劣。\\n庭审中，公诉机关出示了相关证据，刘强及其辩护人进行了质证，控辩双方在法庭的主持下充分发表了意见，刘强还进行了最后陈述，并当庭表示认罪、悔罪。全国、北京市两级人大代表、政协委员，人民法院特约监督员，新闻记者和各界群众人旁听了庭审。\\n庭审结束后法庭宣布休庭，择期宣判。\\n（原标题《辽宁省人民政府原副省长刘强受贿、破坏选举案一审开庭》，原作者奚丹霓。编辑 陈斌）\\n本文由百家号作者上传并发布，百家号仅提供信息发布平台。文章仅代表作者个人观点，不代表百度立场。未经作者许可，不得转载。\\n相关搜索\\n湖北省人民政府\\n人民法院诉讼查询\\n浙江省人民政府\\n滥用职权\\n全国人民代表大会\\n辽宁省\\n浙江新闻\\n百家号最近更新：\\n简介最具权威的浙江第一新闻服务平台\\n作者最新文章\\n国际空间站上工作是什么感觉？来看这些罕见场景\\n\\n小城镇整治带来美丽蜕变\\n\\n吃货心疼啊！斤螃蟹被烤熟\\n\\n相关文章\\n四川省万人考研 改革开放、基因编辑入题\\n光明网\\n四川宜宾一客车侧翻致多人受伤 事故原因正在调查\\n环球网\\n第三届吉林冰雪产业博览会暨第二十二届长春冰雪旅游节在长春开幕\\n中国日报网\\n理查德森谈命中率低仍赢球：赢了就是赢了\\n虎扑篮球\\n迟福林：开放进程滞后成东北振兴短板，需加快政府职能转变\\n澎湃新闻\\n设为首页©\\xa0\\xa0使用百度前必读\\xa0意见反馈\\xa0京证号\\n京公网安备号\\n返回顶部\\n                                        '"
      ]
     },
     "execution_count": 32,
     "metadata": {},
     "output_type": "execute_result"
    }
   ],
   "source": [
    "clean"
   ]
  },
  {
   "cell_type": "code",
   "execution_count": 33,
   "metadata": {
    "collapsed": false
   },
   "outputs": [
    {
     "data": {
      "text/plain": [
       "['辽宁原副省长刘强受贿、破坏选举案一审开庭',\n",
       " '                              ',\n",
       " '百度首页',\n",
       " '登录',\n",
       " '个人中心帐号设置意见反馈退出',\n",
       " '辽宁原副省长刘强受贿、破坏选举案一审开庭',\n",
       " '浙江新闻',\n",
       " '百家号',\n",
       " '   央视新闻客户端',\n",
       " '年月日，北京市第三中级人民法院一审公开开庭审理了辽宁省人民政府原副省长刘强受贿、破坏选举一案。',\n",
       " '北京市人民检察院第三分院起诉指控：年至年，被告人刘强利用担任中国石油天然气股份有限公司抚顺石化分公司总经理、辽宁省抚顺市人民政府市长、中共抚顺市委书记、辽宁省人民政府副省长等职务上的便利或职权、地位形成的便利条件，为有关单位和个人在企业经营、工程承揽、职务晋升等事项上提供帮助，直接或者通过特定关系人收受他人给予的财物，共计折合人民币万余元。年至年月，刘强为当选辽宁省人民政府副省长，利用担任中共抚顺市委书记等职权和影响，采取给予他人财物、打招呼等方式进行拉票贿选，破坏正常选举活动，情节严重，社会影响恶劣。',\n",
       " '庭审中，公诉机关出示了相关证据，刘强及其辩护人进行了质证，控辩双方在法庭的主持下充分发表了意见，刘强还进行了最后陈述，并当庭表示认罪、悔罪。全国、北京市两级人大代表、政协委员，人民法院特约监督员，新闻记者和各界群众人旁听了庭审。',\n",
       " '庭审结束后法庭宣布休庭，择期宣判。',\n",
       " '（原标题《辽宁省人民政府原副省长刘强受贿、破坏选举案一审开庭》，原作者奚丹霓。编辑 陈斌）',\n",
       " '本文由百家号作者上传并发布，百家号仅提供信息发布平台。文章仅代表作者个人观点，不代表百度立场。未经作者许可，不得转载。',\n",
       " '相关搜索',\n",
       " '湖北省人民政府',\n",
       " '人民法院诉讼查询',\n",
       " '浙江省人民政府',\n",
       " '滥用职权',\n",
       " '全国人民代表大会',\n",
       " '辽宁省',\n",
       " '浙江新闻',\n",
       " '百家号最近更新：',\n",
       " '简介最具权威的浙江第一新闻服务平台',\n",
       " '作者最新文章',\n",
       " '国际空间站上工作是什么感觉？来看这些罕见场景',\n",
       " '',\n",
       " '小城镇整治带来美丽蜕变',\n",
       " '',\n",
       " '吃货心疼啊！斤螃蟹被烤熟',\n",
       " '',\n",
       " '相关文章',\n",
       " '四川省万人考研 改革开放、基因编辑入题',\n",
       " '光明网',\n",
       " '四川宜宾一客车侧翻致多人受伤 事故原因正在调查',\n",
       " '环球网',\n",
       " '第三届吉林冰雪产业博览会暨第二十二届长春冰雪旅游节在长春开幕',\n",
       " '中国日报网',\n",
       " '理查德森谈命中率低仍赢球：赢了就是赢了',\n",
       " '虎扑篮球',\n",
       " '迟福林：开放进程滞后成东北振兴短板，需加快政府职能转变',\n",
       " '澎湃新闻',\n",
       " '设为首页©\\xa0\\xa0使用百度前必读\\xa0意见反馈\\xa0京证号',\n",
       " '京公网安备号',\n",
       " '返回顶部',\n",
       " '                                        ']"
      ]
     },
     "execution_count": 33,
     "metadata": {},
     "output_type": "execute_result"
    }
   ],
   "source": [
    "clean.split('\\n')"
   ]
  },
  {
   "cell_type": "code",
   "execution_count": null,
   "metadata": {
    "collapsed": true
   },
   "outputs": [],
   "source": []
  },
  {
   "cell_type": "code",
   "execution_count": null,
   "metadata": {
    "collapsed": true
   },
   "outputs": [],
   "source": []
  }
 ],
 "metadata": {
  "kernelspec": {
   "display_name": "Python 3",
   "language": "python",
   "name": "python3"
  },
  "language_info": {
   "codemirror_mode": {
    "name": "ipython",
    "version": 3
   },
   "file_extension": ".py",
   "mimetype": "text/x-python",
   "name": "python",
   "nbconvert_exporter": "python",
   "pygments_lexer": "ipython3",
   "version": "3.6.0"
  }
 },
 "nbformat": 4,
 "nbformat_minor": 2
}
