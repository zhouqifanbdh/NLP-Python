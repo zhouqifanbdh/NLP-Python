{
 "cells": [
  {
   "cell_type": "code",
   "execution_count": 15,
   "metadata": {
    "collapsed": true
   },
   "outputs": [],
   "source": [
    "#datetime 提供了基础时间和日期的处理\n",
    "import datetime as dt\n"
   ]
  },
  {
   "cell_type": "code",
   "execution_count": 17,
   "metadata": {
    "collapsed": false
   },
   "outputs": [
    {
     "name": "stdout",
     "output_type": "stream",
     "text": [
      "2007-09-25\n",
      "Tuesday, 09/25/07\n",
      "Tue, 09-25-2007\n"
     ]
    }
   ],
   "source": [
    "#date 对象\n",
    "#使用 date(year, month, day) 产生一个 date 对象\n",
    "d1 = dt.date(2007, 9, 25)\n",
    "d2 = dt.date(2008, 9, 25)\n",
    "#格式化 date 对象的输出\n",
    "print (d1)\n",
    "print (d1.strftime('%A, %m/%d/%y'))\n",
    "print (d1.strftime('%a, %m-%d-%Y'))"
   ]
  },
  {
   "cell_type": "code",
   "execution_count": 18,
   "metadata": {
    "collapsed": false
   },
   "outputs": [
    {
     "data": {
      "text/plain": [
       "datetime.timedelta(366)"
      ]
     },
     "execution_count": 18,
     "metadata": {},
     "output_type": "execute_result"
    }
   ],
   "source": [
    "#看两个日期相差多久\n",
    "d2 - d1"
   ]
  },
  {
   "cell_type": "code",
   "execution_count": 19,
   "metadata": {
    "collapsed": false
   },
   "outputs": [
    {
     "name": "stdout",
     "output_type": "stream",
     "text": [
      "366\n",
      "0\n"
     ]
    }
   ],
   "source": [
    "#返回的是一个 timedelta 对象\n",
    "\n",
    "d = d2 - d1\n",
    "print (d.days)\n",
    "print (d.seconds)"
   ]
  },
  {
   "cell_type": "code",
   "execution_count": 20,
   "metadata": {
    "collapsed": false
   },
   "outputs": [
    {
     "data": {
      "text/plain": [
       "datetime.date(2019, 2, 18)"
      ]
     },
     "execution_count": 20,
     "metadata": {},
     "output_type": "execute_result"
    }
   ],
   "source": [
    "#查看今天的日期\n",
    "dt.date.today()"
   ]
  },
  {
   "cell_type": "code",
   "execution_count": 21,
   "metadata": {
    "collapsed": true
   },
   "outputs": [],
   "source": [
    "#time 对象\n",
    "#使用 time(hour, min, sec, us) 产生一个 time 对象\n",
    "t1 = dt.time(15, 38)\n",
    "t2 = dt.time(18)"
   ]
  },
  {
   "cell_type": "code",
   "execution_count": 22,
   "metadata": {
    "collapsed": false
   },
   "outputs": [
    {
     "name": "stdout",
     "output_type": "stream",
     "text": [
      "15:38:00\n",
      "03:38, PM\n",
      "15:38:00, PM\n"
     ]
    }
   ],
   "source": [
    "#改变显示格式\n",
    "print (t1)\n",
    "print (t1.strftime('%I:%M, %p'))\n",
    "print (t1.strftime('%H:%M:%S, %p'))"
   ]
  },
  {
   "cell_type": "code",
   "execution_count": 23,
   "metadata": {
    "collapsed": true
   },
   "outputs": [],
   "source": [
    "#datetime 对象\n",
    "#使用 datetime(year, month, day, hr, min, sec, us) 来创建一个 datetime 对象\n"
   ]
  },
  {
   "cell_type": "code",
   "execution_count": 24,
   "metadata": {
    "collapsed": false
   },
   "outputs": [
    {
     "name": "stdout",
     "output_type": "stream",
     "text": [
      "2019-02-18 16:15:30.162904\n"
     ]
    }
   ],
   "source": [
    "#获得当前时间\n",
    "d1 = dt.datetime.now()\n",
    "print (d1)"
   ]
  },
  {
   "cell_type": "code",
   "execution_count": 25,
   "metadata": {
    "collapsed": false
   },
   "outputs": [
    {
     "name": "stdout",
     "output_type": "stream",
     "text": [
      "2019-03-20 16:15:30.162904\n"
     ]
    }
   ],
   "source": [
    "#给当前的时间加上 30 天，timedelta 的参数是 timedelta(day, hr, min, sec, us)\n",
    "d2 = d1 + dt.timedelta(30)\n",
    "print (d2)"
   ]
  },
  {
   "cell_type": "code",
   "execution_count": 26,
   "metadata": {
    "collapsed": false
   },
   "outputs": [
    {
     "data": {
      "text/plain": [
       "datetime.datetime(2001, 2, 10, 0, 0)"
      ]
     },
     "execution_count": 26,
     "metadata": {},
     "output_type": "execute_result"
    }
   ],
   "source": [
    "#指定格式的字符串来创建 datetime 对象\n",
    "dt.datetime.strptime('2/10/01', '%m/%d/%y')"
   ]
  },
  {
   "cell_type": "code",
   "execution_count": null,
   "metadata": {
    "collapsed": true
   },
   "outputs": [],
   "source": []
  }
 ],
 "metadata": {
  "kernelspec": {
   "display_name": "Python 3",
   "language": "python",
   "name": "python3"
  },
  "language_info": {
   "codemirror_mode": {
    "name": "ipython",
    "version": 3
   },
   "file_extension": ".py",
   "mimetype": "text/x-python",
   "name": "python",
   "nbconvert_exporter": "python",
   "pygments_lexer": "ipython3",
   "version": "3.6.0"
  }
 },
 "nbformat": 4,
 "nbformat_minor": 2
}
