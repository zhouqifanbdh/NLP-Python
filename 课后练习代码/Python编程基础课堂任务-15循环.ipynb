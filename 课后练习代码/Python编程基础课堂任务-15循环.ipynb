{
 "cells": [
  {
   "cell_type": "code",
   "execution_count": 2,
   "metadata": {
    "collapsed": false
   },
   "outputs": [
    {
     "data": {
      "text/plain": [
       "5050"
      ]
     },
     "execution_count": 2,
     "metadata": {},
     "output_type": "execute_result"
    }
   ],
   "source": [
    "#循环\n",
    "\n",
    "#while循环\n",
    "i = 0\n",
    "total = 0\n",
    "while i<=100:\n",
    "    total+=i\n",
    "    i+=1\n",
    "\n",
    "total"
   ]
  },
  {
   "cell_type": "code",
   "execution_count": 6,
   "metadata": {
    "collapsed": false
   },
   "outputs": [
    {
     "name": "stdout",
     "output_type": "stream",
     "text": [
      "s\n",
      "f\n",
      "a\n",
      "d\n"
     ]
    }
   ],
   "source": [
    "#空容器会被当成 False\n",
    "letters = set(['a','s','d','f'])\n",
    "while letters:\n",
    "    letter = letters.pop()\n",
    "    print(letter)"
   ]
  },
  {
   "cell_type": "code",
   "execution_count": 9,
   "metadata": {
    "collapsed": false
   },
   "outputs": [
    {
     "name": "stdout",
     "output_type": "stream",
     "text": [
      "s\n",
      "f\n",
      "a\n",
      "d\n"
     ]
    }
   ],
   "source": [
    "#for 循环\n",
    "letters = set(['a','s','d','f'])\n",
    "for letter in letters:\n",
    "    print(letter)"
   ]
  },
  {
   "cell_type": "code",
   "execution_count": 10,
   "metadata": {
    "collapsed": false
   },
   "outputs": [
    {
     "name": "stdout",
     "output_type": "stream",
     "text": [
      "4950\n"
     ]
    }
   ],
   "source": [
    "total = 0\n",
    "for i in range(100):\n",
    "    total+=i\n",
    "print(total)\n",
    "#在循环前，它会生成一个长度为 100 的临时列表\n",
    "#会有一定的时间和内存消耗"
   ]
  },
  {
   "cell_type": "code",
   "execution_count": 11,
   "metadata": {
    "collapsed": false
   },
   "outputs": [
    {
     "ename": "NameError",
     "evalue": "name 'xrange' is not defined",
     "output_type": "error",
     "traceback": [
      "\u001b[0;31m---------------------------------------------------------------------------\u001b[0m",
      "\u001b[0;31mNameError\u001b[0m                                 Traceback (most recent call last)",
      "\u001b[0;32m<ipython-input-11-bca4e1a7c1d5>\u001b[0m in \u001b[0;36m<module>\u001b[0;34m()\u001b[0m\n\u001b[1;32m      2\u001b[0m \u001b[1;31m#xrange并不会一次性的产生所有的数据\u001b[0m\u001b[1;33m\u001b[0m\u001b[1;33m\u001b[0m\u001b[0m\n\u001b[1;32m      3\u001b[0m \u001b[0mtotal\u001b[0m \u001b[1;33m=\u001b[0m \u001b[1;36m0\u001b[0m\u001b[1;33m\u001b[0m\u001b[0m\n\u001b[0;32m----> 4\u001b[0;31m \u001b[1;32mfor\u001b[0m \u001b[0mi\u001b[0m \u001b[1;32min\u001b[0m \u001b[0mxrange\u001b[0m\u001b[1;33m(\u001b[0m\u001b[1;36m100\u001b[0m\u001b[1;33m)\u001b[0m\u001b[1;33m:\u001b[0m\u001b[1;33m\u001b[0m\u001b[0m\n\u001b[0m\u001b[1;32m      5\u001b[0m     \u001b[0mtotal\u001b[0m\u001b[1;33m+=\u001b[0m\u001b[0mi\u001b[0m\u001b[1;33m\u001b[0m\u001b[0m\n\u001b[1;32m      6\u001b[0m \u001b[0mprint\u001b[0m\u001b[1;33m(\u001b[0m\u001b[0mtotal\u001b[0m\u001b[1;33m)\u001b[0m\u001b[1;33m\u001b[0m\u001b[0m\n",
      "\u001b[0;31mNameError\u001b[0m: name 'xrange' is not defined"
     ]
    }
   ],
   "source": [
    "#使用 xrange 来代替 range 函数\n",
    "#xrange并不会一次性的产生所有的数据\n",
    "total = 0\n",
    "for i in xrange(100):\n",
    "    total+=i\n",
    "print(total)\n",
    "#python3 xrange没有了"
   ]
  },
  {
   "cell_type": "code",
   "execution_count": 14,
   "metadata": {
    "collapsed": false
   },
   "outputs": [
    {
     "name": "stdout",
     "output_type": "stream",
     "text": [
      "0.5\n",
      "1.5\n",
      "2.5\n"
     ]
    }
   ],
   "source": [
    "#continue 语句\n",
    "#遇到 continue 的时候，程序会返回到循环的最开始重新执行\n",
    "\n",
    "nums = [1,2,3,4,5,6]\n",
    "for num in nums:\n",
    "    if num % 2==0:\n",
    "        continue\n",
    "    print(num / 2)"
   ]
  },
  {
   "cell_type": "code",
   "execution_count": 15,
   "metadata": {
    "collapsed": false
   },
   "outputs": [
    {
     "name": "stdout",
     "output_type": "stream",
     "text": [
      "start\n",
      "process\n",
      "process\n",
      "process\n"
     ]
    }
   ],
   "source": [
    "#break 语句\n",
    "#遇到 break 的时候，程序会跳出循环\n",
    "\n",
    "command_list = ['start', \n",
    "                'process', \n",
    "                'process',\n",
    "                'process', \n",
    "                'stop', \n",
    "                'start', \n",
    "                'process', \n",
    "                'stop']\n",
    "while command_list:\n",
    "    command = command_list.pop(0)\n",
    "    if command == 'stop':\n",
    "        break\n",
    "    print(command)"
   ]
  },
  {
   "cell_type": "code",
   "execution_count": null,
   "metadata": {
    "collapsed": true
   },
   "outputs": [],
   "source": [
    "#else语句\n",
    "#while和 for循环后面也可以跟着else语句但要和break一起连用\n",
    "#当循环正常结束时，循环条件不满足，else被执行\n",
    "#当循环被 break 结束时，循环条件仍然满足，else不执行"
   ]
  },
  {
   "cell_type": "code",
   "execution_count": 16,
   "metadata": {
    "collapsed": false
   },
   "outputs": [
    {
     "name": "stdout",
     "output_type": "stream",
     "text": [
      "Found:  1\n"
     ]
    }
   ],
   "source": [
    "nums = [1,2,3,4,5,6]\n",
    "for num in nums:\n",
    "    if num <=5:\n",
    "        print(\"Found: \",num)\n",
    "        break\n",
    "    else:\n",
    "        print(\"Nums are greater than 5\")"
   ]
  },
  {
   "cell_type": "code",
   "execution_count": 17,
   "metadata": {
    "collapsed": false
   },
   "outputs": [
    {
     "name": "stdout",
     "output_type": "stream",
     "text": [
      "Found:  1\n",
      "Found:  2\n",
      "Found:  3\n",
      "Found:  4\n",
      "Found:  5\n",
      "Nums are greater than 5\n"
     ]
    }
   ],
   "source": [
    "nums = [1,2,3,4,5,6]\n",
    "for num in nums:\n",
    "    if num <=5:\n",
    "        print(\"Found: \",num)\n",
    "        continue\n",
    "    else:\n",
    "        print(\"Nums are greater than 5\")"
   ]
  },
  {
   "cell_type": "code",
   "execution_count": 18,
   "metadata": {
    "collapsed": false
   },
   "outputs": [
    {
     "name": "stdout",
     "output_type": "stream",
     "text": [
      "Found:  1\n",
      "Found:  2\n",
      "Found:  3\n",
      "Found:  4\n",
      "Found:  5\n",
      "Nums are greater than 5\n"
     ]
    }
   ],
   "source": [
    "for num in nums:\n",
    "    if num <=5:\n",
    "        print(\"Found: \",num)\n",
    "    else:\n",
    "        print(\"Nums are greater than 5\")"
   ]
  },
  {
   "cell_type": "code",
   "execution_count": 19,
   "metadata": {
    "collapsed": false
   },
   "outputs": [
    {
     "name": "stdout",
     "output_type": "stream",
     "text": [
      "Found:  1\n",
      "Nums are greater than 5\n",
      "Found:  2\n",
      "Nums are greater than 5\n",
      "Found:  3\n",
      "Nums are greater than 5\n",
      "Found:  4\n",
      "Nums are greater than 5\n",
      "Found:  5\n",
      "Nums are greater than 5\n",
      "Nums are greater than 5\n"
     ]
    }
   ],
   "source": [
    "for num in nums:\n",
    "    if num <=5:\n",
    "        print(\"Found: \",num)\n",
    "    print(\"Nums are greater than 5\")"
   ]
  },
  {
   "cell_type": "code",
   "execution_count": 20,
   "metadata": {
    "collapsed": false
   },
   "outputs": [
    {
     "name": "stdout",
     "output_type": "stream",
     "text": [
      "Nums are greater than 5\n",
      "Nums are greater than 5\n",
      "Nums are greater than 5\n"
     ]
    }
   ],
   "source": [
    "nums = [12,34,56]\n",
    "for num in nums:\n",
    "    if num <=5:\n",
    "        print(\"Found: \",num)\n",
    "    else:\n",
    "        print(\"Nums are greater than 5\")"
   ]
  },
  {
   "cell_type": "code",
   "execution_count": 22,
   "metadata": {
    "collapsed": false
   },
   "outputs": [
    {
     "name": "stdout",
     "output_type": "stream",
     "text": [
      "Nums are greater than 5\n"
     ]
    }
   ],
   "source": [
    "nums = [12,34,56]\n",
    "for num in nums:\n",
    "    if num <=5:\n",
    "        print(\"Found: \",num)\n",
    "        break\n",
    "else:\n",
    "    print(\"Nums are greater than 5\")"
   ]
  },
  {
   "cell_type": "code",
   "execution_count": 25,
   "metadata": {
    "collapsed": false
   },
   "outputs": [
    {
     "name": "stdout",
     "output_type": "stream",
     "text": [
      "Found:  1\n"
     ]
    }
   ],
   "source": [
    "nums = [1,2,3,4,5,6,7]\n",
    "for num in nums:\n",
    "    if num <=5:\n",
    "        print(\"Found: \",num)\n",
    "        break\n",
    "    else:\n",
    "        print(\"Nums are greater than 5\")"
   ]
  },
  {
   "cell_type": "code",
   "execution_count": null,
   "metadata": {
    "collapsed": true
   },
   "outputs": [],
   "source": []
  }
 ],
 "metadata": {
  "kernelspec": {
   "display_name": "Python 3",
   "language": "python",
   "name": "python3"
  },
  "language_info": {
   "codemirror_mode": {
    "name": "ipython",
    "version": 3
   },
   "file_extension": ".py",
   "mimetype": "text/x-python",
   "name": "python",
   "nbconvert_exporter": "python",
   "pygments_lexer": "ipython3",
   "version": "3.6.0"
  }
 },
 "nbformat": 4,
 "nbformat_minor": 2
}
