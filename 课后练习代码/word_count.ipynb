{
 "cells": [
  {
   "cell_type": "code",
   "execution_count": 35,
   "metadata": {
    "collapsed": false
   },
   "outputs": [
    {
     "name": "stdout",
     "output_type": "stream",
     "text": [
      "freq*\tword\n",
      "-----\t-----\n",
      "109\tthe\n",
      "52\ta\n",
      "50\tof\n",
      "45\tto\n",
      "41\tin\n",
      "29\tand\n",
      "20\ton\n",
      "19\tfor\n",
      "19\thas\n",
      "18\tits\n",
      "\n"
     ]
    }
   ],
   "source": [
    "import nltk\n",
    "dict = {}\n",
    "stopwords=[',','.','?',':']\n",
    "for i in range(1,6):\n",
    "    with open(\"D:\\corpara\\\\\"+str(i)+\".txt\",encoding=\"utf-8\") as f:\n",
    "        text = f.read()\n",
    "        words = nltk.FreqDist(text.split(' '))\n",
    "        for word in words:\n",
    "            if word in stopwords:\n",
    "                continue\n",
    "            if word in dict.keys():\n",
    "                dict[word]= dict[word]+words[word]\n",
    "            else:\n",
    "                dict[word]=words[word]\n",
    "sorted_dict = sorted(dict.items(), key = lambda x:x[1],reverse=True); \n",
    "print(\"freq*\\tword\");\n",
    "print(\"-----\\t-----\");\n",
    "i=0\n",
    "for key in sorted_dict:\n",
    "    print(str(key[1])+\"\\t\"+key[0]);\n",
    "    i += 1;\n",
    "    if (i == 10):\n",
    "        break;\n",
    "print(\"\");"
   ]
  },
  {
   "cell_type": "code",
   "execution_count": null,
   "metadata": {
    "collapsed": true
   },
   "outputs": [],
   "source": []
  }
 ],
 "metadata": {
  "kernelspec": {
   "display_name": "Python 3",
   "language": "python",
   "name": "python3"
  },
  "language_info": {
   "codemirror_mode": {
    "name": "ipython",
    "version": 3
   },
   "file_extension": ".py",
   "mimetype": "text/x-python",
   "name": "python",
   "nbconvert_exporter": "python",
   "pygments_lexer": "ipython3",
   "version": "3.6.0"
  }
 },
 "nbformat": 4,
 "nbformat_minor": 2
}
