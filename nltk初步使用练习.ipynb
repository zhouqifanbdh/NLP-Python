{
 "cells": [
  {
   "cell_type": "code",
   "execution_count": 2,
   "metadata": {
    "collapsed": false
   },
   "outputs": [],
   "source": [
    "from nltk.tokenize import sent_tokenize "
   ]
  },
  {
   "cell_type": "code",
   "execution_count": 3,
   "metadata": {
    "collapsed": false
   },
   "outputs": [
    {
     "data": {
      "text/plain": [
       "['Hello World.', \"It's good to see you.\", 'Thanks for buying this book.']"
      ]
     },
     "execution_count": 3,
     "metadata": {},
     "output_type": "execute_result"
    }
   ],
   "source": [
    "para = \"Hello World. It's good to see you. Thanks for buying this book.\" \n",
    "sent_tokenize(para) "
   ]
  },
  {
   "cell_type": "code",
   "execution_count": 4,
   "metadata": {
    "collapsed": false
   },
   "outputs": [
    {
     "data": {
      "text/plain": [
       "['Hello', 'World', '.']"
      ]
     },
     "execution_count": 4,
     "metadata": {},
     "output_type": "execute_result"
    }
   ],
   "source": [
    "from nltk.tokenize import word_tokenize \n",
    "word_tokenize('Hello World.') "
   ]
  },
  {
   "cell_type": "code",
   "execution_count": 5,
   "metadata": {
    "collapsed": false
   },
   "outputs": [
    {
     "data": {
      "text/plain": [
       "['Hello', 'World', '.']"
      ]
     },
     "execution_count": 5,
     "metadata": {},
     "output_type": "execute_result"
    }
   ],
   "source": [
    "from nltk.tokenize import TreebankWordTokenizer\n",
    "tokenizer = TreebankWordTokenizer() \n",
    "tokenizer.tokenize('Hello World.') "
   ]
  },
  {
   "cell_type": "code",
   "execution_count": 7,
   "metadata": {
    "collapsed": false
   },
   "outputs": [
    {
     "data": {
      "text/plain": [
       "['Hello',\n",
       " ',',\n",
       " 'world',\n",
       " '.',\n",
       " 'It',\n",
       " 'is',\n",
       " 'a',\n",
       " 'nice',\n",
       " 'day',\n",
       " ',',\n",
       " 'is',\n",
       " 'it',\n",
       " '?']"
      ]
     },
     "execution_count": 7,
     "metadata": {},
     "output_type": "execute_result"
    }
   ],
   "source": [
    "import nltk\n",
    "text = 'Hello, world. It is a nice day, is it?'\n",
    "pattern = r'\\w+|[^\\w\\s]+'\n",
    "\n",
    "\"\"\"\"\n",
    "r：regular expression；\n",
    "双引号\"\"可以用单引号''代替；\n",
    "\\w表示单词字符，等同于字符集合[a-zA-Z0-9_]；\n",
    "+表示一次或者多次，等同于{1,}，即c+ 和 c{1,} 是一个意思；\n",
    "\"|\"：二选一，正则表达式中的\"或\"； \n",
    "[...]：字符集（字符类），其对应的位置可以是字符集中任意字符，例如，a[bcd]表abe、ace和ade；\n",
    "^表示只匹配字符串的开头；\\s匹配单个空格，等同于[\\f\\n\\r\\t\\v]。\n",
    "\"\"\"\n",
    "nltk.tokenize.regexp_tokenize(text, pattern)"
   ]
  },
  {
   "cell_type": "code",
   "execution_count": 10,
   "metadata": {
    "collapsed": true
   },
   "outputs": [],
   "source": [
    "from nltk.tokenize import RegexpTokenizer"
   ]
  },
  {
   "cell_type": "code",
   "execution_count": 13,
   "metadata": {
    "collapsed": false
   },
   "outputs": [
    {
     "data": {
      "text/plain": [
       "['I', \"can't\", 'do', 'python']"
      ]
     },
     "execution_count": 13,
     "metadata": {},
     "output_type": "execute_result"
    }
   ],
   "source": [
    "tokenizer = RegexpTokenizer(\"[\\w']+\") \n",
    "tokenizer.tokenize(\"I can't do python\") "
   ]
  },
  {
   "cell_type": "code",
   "execution_count": 16,
   "metadata": {
    "collapsed": true
   },
   "outputs": [],
   "source": [
    "from nltk.tokenize import regexp_tokenize "
   ]
  },
  {
   "cell_type": "code",
   "execution_count": 17,
   "metadata": {
    "collapsed": false
   },
   "outputs": [
    {
     "data": {
      "text/plain": [
       "['I', \"can't\", 'do', 'python']"
      ]
     },
     "execution_count": 17,
     "metadata": {},
     "output_type": "execute_result"
    }
   ],
   "source": [
    "regexp_tokenize(\"I can't do python.\", \"[\\w']+\") "
   ]
  },
  {
   "cell_type": "code",
   "execution_count": 20,
   "metadata": {
    "collapsed": true
   },
   "outputs": [],
   "source": [
    "from nltk.tokenize import PunktSentenceTokenizer \n",
    "from nltk.corpus import webtext "
   ]
  },
  {
   "cell_type": "code",
   "execution_count": 21,
   "metadata": {
    "collapsed": false
   },
   "outputs": [
    {
     "name": "stdout",
     "output_type": "stream",
     "text": [
      "0.007957559681697613 0.05263157894736842 0.00558659217877095 377 19 3 1\n",
      "0.05570291777188329 0.21052631578947367 0.04748603351955307 377 19 21 4\n",
      "0.010610079575596816 0.05263157894736842 0.008379888268156424 377 19 4 1\n",
      "0.007957559681697613 0.05263157894736842 0.00558659217877095 377 19 3 1\n",
      "0.002652519893899204 0.05263157894736842 0.0 377 19 1 1\n",
      "0.005305039787798408 0.10526315789473684 0.0 377 19 2 2\n",
      "0.002652519893899204 0.05263157894736842 0.0 377 19 1 1\n",
      "0.050397877984084884 0.05263157894736842 0.05027932960893855 377 19 19 1\n",
      "0.005305039787798408 0.05263157894736842 0.002793296089385475 377 19 2 1\n",
      "0.005305039787798408 0.05263157894736842 0.002793296089385475 377 19 2 1\n",
      "0.002652519893899204 0.05263157894736842 0.0 377 19 1 1\n",
      "0.005305039787798408 0.05263157894736842 0.002793296089385475 377 19 2 1\n"
     ]
    }
   ],
   "source": [
    "text = webtext.raw('D:/作业/NLP/corpara/1.txt') \n",
    "sent_tokenizer = PunktSentenceTokenizer(text)"
   ]
  },
  {
   "cell_type": "code",
   "execution_count": 22,
   "metadata": {
    "collapsed": false
   },
   "outputs": [
    {
     "data": {
      "text/plain": [
       "'The next financial crisis may be triggered by central banks.'"
      ]
     },
     "execution_count": 22,
     "metadata": {},
     "output_type": "execute_result"
    }
   ],
   "source": [
    "sents1 = sent_tokenizer.tokenize(text)\n",
    "sents1[0]"
   ]
  },
  {
   "cell_type": "code",
   "execution_count": 24,
   "metadata": {
    "collapsed": false
   },
   "outputs": [
    {
     "data": {
      "text/plain": [
       "'The next financial crisis may be triggered by central banks.'"
      ]
     },
     "execution_count": 24,
     "metadata": {},
     "output_type": "execute_result"
    }
   ],
   "source": [
    "sents2 = sent_tokenize(text)\n",
    "sents2[0]"
   ]
  },
  {
   "cell_type": "code",
   "execution_count": 27,
   "metadata": {
    "collapsed": false
   },
   "outputs": [
    {
     "data": {
      "text/plain": [
       "'The result was that it was harder for financial bubbles to inflate.'"
      ]
     },
     "execution_count": 27,
     "metadata": {},
     "output_type": "execute_result"
    }
   ],
   "source": [
    "sents1[10]"
   ]
  },
  {
   "cell_type": "code",
   "execution_count": 28,
   "metadata": {
    "collapsed": false
   },
   "outputs": [
    {
     "data": {
      "text/plain": [
       "'The result was that it was harder for financial bubbles to inflate.'"
      ]
     },
     "execution_count": 28,
     "metadata": {},
     "output_type": "execute_result"
    }
   ],
   "source": [
    "sents2[10]"
   ]
  },
  {
   "cell_type": "code",
   "execution_count": 30,
   "metadata": {
    "collapsed": true
   },
   "outputs": [],
   "source": [
    "from nltk import *\n",
    "#去停词\n",
    "from nltk.corpus import stopwords \n",
    "english_stops = set(stopwords.words('english')) \n",
    "words = ['Hello','world','it','is','a','nice','day']"
   ]
  },
  {
   "cell_type": "code",
   "execution_count": 34,
   "metadata": {
    "collapsed": false
   },
   "outputs": [
    {
     "data": {
      "text/plain": [
       "['Hello', 'world', 'nice', 'day']"
      ]
     },
     "execution_count": 34,
     "metadata": {},
     "output_type": "execute_result"
    }
   ],
   "source": [
    "[word for word in words if word not in english_stops]"
   ]
  },
  {
   "cell_type": "code",
   "execution_count": 36,
   "metadata": {
    "collapsed": false
   },
   "outputs": [
    {
     "data": {
      "text/plain": [
       "'cookbook.n.01'"
      ]
     },
     "execution_count": 36,
     "metadata": {},
     "output_type": "execute_result"
    }
   ],
   "source": [
    "#同义词集合 词网\n",
    "from nltk.corpus import wordnet \n",
    "#方法一\n",
    "syn = wordnet.synsets('cookbook')[0] \n",
    "syn.name() "
   ]
  },
  {
   "cell_type": "code",
   "execution_count": 37,
   "metadata": {
    "collapsed": false
   },
   "outputs": [
    {
     "data": {
      "text/plain": [
       "'a book of recipes and cooking directions'"
      ]
     },
     "execution_count": 37,
     "metadata": {},
     "output_type": "execute_result"
    }
   ],
   "source": [
    "syn.definition() "
   ]
  },
  {
   "cell_type": "code",
   "execution_count": 39,
   "metadata": {
    "collapsed": false
   },
   "outputs": [
    {
     "data": {
      "text/plain": [
       "'hello.n.01'"
      ]
     },
     "execution_count": 39,
     "metadata": {},
     "output_type": "execute_result"
    }
   ],
   "source": [
    "syn1 = wordnet.synsets('hello')[0] \n",
    "syn1.name()"
   ]
  },
  {
   "cell_type": "code",
   "execution_count": 40,
   "metadata": {
    "collapsed": false
   },
   "outputs": [
    {
     "data": {
      "text/plain": [
       "'an expression of greeting'"
      ]
     },
     "execution_count": 40,
     "metadata": {},
     "output_type": "execute_result"
    }
   ],
   "source": [
    "syn1.definition()"
   ]
  },
  {
   "cell_type": "code",
   "execution_count": 41,
   "metadata": {
    "collapsed": false
   },
   "outputs": [
    {
     "data": {
      "text/plain": [
       "<bound method Synset.name of Synset('car.n.01')>"
      ]
     },
     "execution_count": 41,
     "metadata": {},
     "output_type": "execute_result"
    }
   ],
   "source": [
    "#方法二\n",
    "syn = wordnet.synsets('motorcar')[0] \n",
    "syn.name "
   ]
  },
  {
   "cell_type": "code",
   "execution_count": 42,
   "metadata": {
    "collapsed": false
   },
   "outputs": [
    {
     "data": {
      "text/plain": [
       "[Synset('car.n.01')]"
      ]
     },
     "execution_count": 42,
     "metadata": {},
     "output_type": "execute_result"
    }
   ],
   "source": [
    "wordnet.synsets(\"motorcar\")"
   ]
  },
  {
   "cell_type": "code",
   "execution_count": 44,
   "metadata": {
    "collapsed": false
   },
   "outputs": [
    {
     "data": {
      "text/plain": [
       "[Synset('ambulance.n.01'),\n",
       " Synset('beach_wagon.n.01'),\n",
       " Synset('bus.n.04'),\n",
       " Synset('cab.n.03'),\n",
       " Synset('compact.n.03'),\n",
       " Synset('convertible.n.01'),\n",
       " Synset('coupe.n.01'),\n",
       " Synset('cruiser.n.01'),\n",
       " Synset('electric.n.01'),\n",
       " Synset('gas_guzzler.n.01'),\n",
       " Synset('hardtop.n.01'),\n",
       " Synset('hatchback.n.01'),\n",
       " Synset('horseless_carriage.n.01'),\n",
       " Synset('hot_rod.n.01'),\n",
       " Synset('jeep.n.01'),\n",
       " Synset('limousine.n.01'),\n",
       " Synset('loaner.n.02'),\n",
       " Synset('minicar.n.01'),\n",
       " Synset('minivan.n.01'),\n",
       " Synset('model_t.n.01'),\n",
       " Synset('pace_car.n.01'),\n",
       " Synset('racer.n.02'),\n",
       " Synset('roadster.n.01'),\n",
       " Synset('sedan.n.01'),\n",
       " Synset('sport_utility.n.01'),\n",
       " Synset('sports_car.n.01'),\n",
       " Synset('stanley_steamer.n.01'),\n",
       " Synset('stock_car.n.01'),\n",
       " Synset('subcompact.n.01'),\n",
       " Synset('touring_car.n.01'),\n",
       " Synset('used-car.n.01')]"
      ]
     },
     "execution_count": 44,
     "metadata": {},
     "output_type": "execute_result"
    }
   ],
   "source": [
    "# WordNet层次结构（词汇关系）\n",
    "\n",
    "\n",
    "#Hypernym 上级概念与从属概念的关系\n",
    "motorcar = wordnet.synset('car.n.01') \n",
    "types_of_motorcar = motorcar.hyponyms()\n",
    "types_of_motorcar "
   ]
  },
  {
   "cell_type": "code",
   "execution_count": 45,
   "metadata": {
    "collapsed": false
   },
   "outputs": [
    {
     "data": {
      "text/plain": [
       "[Synset('burl.n.02'),\n",
       " Synset('crown.n.07'),\n",
       " Synset('limb.n.02'),\n",
       " Synset('stump.n.01'),\n",
       " Synset('trunk.n.01')]"
      ]
     },
     "execution_count": 45,
     "metadata": {},
     "output_type": "execute_result"
    }
   ],
   "source": [
    "#部分整体关系（components (meronyms) holonyms）\n",
    "wordnet.synset('tree.n.01').part_meronyms() "
   ]
  },
  {
   "cell_type": "code",
   "execution_count": 46,
   "metadata": {
    "collapsed": false
   },
   "outputs": [
    {
     "data": {
      "text/plain": [
       "[Lemma('ugly.a.01.ugly')]"
      ]
     },
     "execution_count": 46,
     "metadata": {},
     "output_type": "execute_result"
    }
   ],
   "source": [
    "# 反义词关系\n",
    "wordnet.lemma('beautiful.a.01.beautiful').antonyms() "
   ]
  },
  {
   "cell_type": "code",
   "execution_count": null,
   "metadata": {
    "collapsed": true
   },
   "outputs": [],
   "source": [
    "#词频统计"
   ]
  },
  {
   "cell_type": "code",
   "execution_count": 47,
   "metadata": {
    "collapsed": true
   },
   "outputs": [],
   "source": [
    "from nltk.corpus import PlaintextCorpusReader\n",
    "from nltk import word_tokenize\n",
    "from nltk import Text\n",
    "from nltk import FreqDist"
   ]
  },
  {
   "cell_type": "code",
   "execution_count": 48,
   "metadata": {
    "collapsed": false
   },
   "outputs": [
    {
     "data": {
      "text/plain": [
       "['1.txt', '2.txt', '3.txt', '4.txt', '5.txt']"
      ]
     },
     "execution_count": 48,
     "metadata": {},
     "output_type": "execute_result"
    }
   ],
   "source": [
    "corpus_root = 'D:/作业/NLP/corpara'\n",
    "files = PlaintextCorpusReader(corpus_root,'.*\\.txt')\n",
    "files.fileids()"
   ]
  },
  {
   "cell_type": "code",
   "execution_count": 49,
   "metadata": {
    "collapsed": false
   },
   "outputs": [
    {
     "data": {
      "text/plain": [
       "['The',\n",
       " 'next',\n",
       " 'financial',\n",
       " 'crisis',\n",
       " 'may',\n",
       " 'be',\n",
       " 'triggered',\n",
       " 'by',\n",
       " 'central',\n",
       " 'banks',\n",
       " '.',\n",
       " 'As',\n",
       " 'with',\n",
       " 'London',\n",
       " 'buses',\n",
       " ',',\n",
       " 'don’t',\n",
       " 'worry',\n",
       " 'if',\n",
       " 'you',\n",
       " 'miss',\n",
       " 'a',\n",
       " 'financial',\n",
       " 'crisis',\n",
       " ';',\n",
       " 'another',\n",
       " 'will',\n",
       " 'be',\n",
       " 'along',\n",
       " 'shortly',\n",
       " '.',\n",
       " 'The',\n",
       " 'latest',\n",
       " 'study',\n",
       " 'on',\n",
       " 'long-term',\n",
       " 'asset',\n",
       " 'returns',\n",
       " 'from',\n",
       " 'Deutsche',\n",
       " 'Bank',\n",
       " 'shows',\n",
       " 'that',\n",
       " 'crises',\n",
       " 'in',\n",
       " 'developed',\n",
       " 'markets',\n",
       " 'have',\n",
       " 'become',\n",
       " 'much',\n",
       " 'more',\n",
       " 'common',\n",
       " 'in',\n",
       " 'recent',\n",
       " 'decades',\n",
       " '.',\n",
       " 'That',\n",
       " 'does',\n",
       " 'not',\n",
       " 'bode',\n",
       " 'well',\n",
       " '.',\n",
       " 'Deutsche',\n",
       " 'defines',\n",
       " 'a',\n",
       " 'crisis',\n",
       " 'as',\n",
       " 'a',\n",
       " 'period',\n",
       " 'when',\n",
       " 'a',\n",
       " 'country',\n",
       " 'suffers',\n",
       " 'one',\n",
       " 'of',\n",
       " 'the',\n",
       " 'following',\n",
       " ':',\n",
       " 'a',\n",
       " '15',\n",
       " '%',\n",
       " 'annual',\n",
       " 'decline',\n",
       " 'in',\n",
       " 'equities',\n",
       " ';',\n",
       " 'a',\n",
       " '10',\n",
       " '%',\n",
       " 'fall',\n",
       " 'in',\n",
       " 'its',\n",
       " 'currency',\n",
       " 'or',\n",
       " 'its',\n",
       " 'government',\n",
       " 'bonds',\n",
       " ';',\n",
       " 'a',\n",
       " 'default',\n",
       " 'on',\n",
       " 'its',\n",
       " 'national',\n",
       " 'debt',\n",
       " ';',\n",
       " 'or',\n",
       " 'a',\n",
       " 'period',\n",
       " 'of',\n",
       " 'double-digit',\n",
       " 'inflation',\n",
       " '.',\n",
       " 'During',\n",
       " 'the',\n",
       " '19th',\n",
       " 'century',\n",
       " ',',\n",
       " 'only',\n",
       " 'occasionally',\n",
       " 'did',\n",
       " 'more',\n",
       " 'than',\n",
       " 'half',\n",
       " 'of',\n",
       " 'countries',\n",
       " 'for',\n",
       " 'which',\n",
       " 'there',\n",
       " 'are',\n",
       " 'data',\n",
       " 'suffer',\n",
       " 'such',\n",
       " 'a',\n",
       " 'shock',\n",
       " 'in',\n",
       " 'a',\n",
       " 'single',\n",
       " 'year',\n",
       " '.',\n",
       " 'But',\n",
       " 'since',\n",
       " 'the',\n",
       " '1980s',\n",
       " ',',\n",
       " 'in',\n",
       " 'numerous',\n",
       " 'years',\n",
       " 'more',\n",
       " 'than',\n",
       " 'half',\n",
       " 'of',\n",
       " 'them',\n",
       " 'have',\n",
       " 'been',\n",
       " 'in',\n",
       " 'a',\n",
       " 'financial',\n",
       " 'crisis',\n",
       " 'of',\n",
       " 'some',\n",
       " 'kind',\n",
       " '.',\n",
       " 'The',\n",
       " 'main',\n",
       " 'reason',\n",
       " 'for',\n",
       " 'this',\n",
       " ',',\n",
       " 'argues',\n",
       " 'Deutsche',\n",
       " ',',\n",
       " 'is',\n",
       " 'the',\n",
       " 'monetary',\n",
       " 'system',\n",
       " '.',\n",
       " 'Under',\n",
       " 'the',\n",
       " 'gold',\n",
       " 'standard',\n",
       " 'and',\n",
       " 'its',\n",
       " 'successor',\n",
       " ',',\n",
       " 'the',\n",
       " 'Bretton',\n",
       " 'Woods',\n",
       " 'system',\n",
       " 'of',\n",
       " 'fixed',\n",
       " 'exchange',\n",
       " 'rates',\n",
       " ',',\n",
       " 'the',\n",
       " 'amount',\n",
       " 'of',\n",
       " 'credit',\n",
       " 'creation',\n",
       " 'was',\n",
       " 'limited',\n",
       " '.',\n",
       " 'A',\n",
       " 'country',\n",
       " 'that',\n",
       " 'expanded',\n",
       " 'its',\n",
       " 'money',\n",
       " 'supply',\n",
       " 'too',\n",
       " 'quickly',\n",
       " 'would',\n",
       " 'suffer',\n",
       " 'a',\n",
       " 'trade',\n",
       " 'deficit',\n",
       " 'and',\n",
       " 'pressure',\n",
       " 'on',\n",
       " 'its',\n",
       " 'currency’s',\n",
       " 'exchange',\n",
       " 'rate',\n",
       " ';',\n",
       " 'the',\n",
       " 'government',\n",
       " 'would',\n",
       " 'react',\n",
       " 'by',\n",
       " 'slamming',\n",
       " 'on',\n",
       " 'the',\n",
       " 'monetary',\n",
       " 'brakes',\n",
       " '.',\n",
       " 'The',\n",
       " 'result',\n",
       " 'was',\n",
       " 'that',\n",
       " 'it',\n",
       " 'was',\n",
       " 'harder',\n",
       " 'for',\n",
       " 'financial',\n",
       " 'bubbles',\n",
       " 'to',\n",
       " 'inflate',\n",
       " '.',\n",
       " 'But',\n",
       " 'since',\n",
       " 'the',\n",
       " 'early',\n",
       " '1970s',\n",
       " 'more',\n",
       " 'countries',\n",
       " 'have',\n",
       " 'moved',\n",
       " 'to',\n",
       " 'a',\n",
       " 'floating',\n",
       " 'exchange-rate',\n",
       " 'system',\n",
       " '.',\n",
       " 'This',\n",
       " 'gives',\n",
       " 'governments',\n",
       " 'the',\n",
       " 'flexibility',\n",
       " 'to',\n",
       " 'deal',\n",
       " 'with',\n",
       " 'an',\n",
       " 'economic',\n",
       " 'crisis',\n",
       " ',',\n",
       " 'and',\n",
       " 'means',\n",
       " 'they',\n",
       " 'do',\n",
       " 'not',\n",
       " 'have',\n",
       " 'to',\n",
       " 'subordinate',\n",
       " 'other',\n",
       " 'policy',\n",
       " 'goals',\n",
       " 'to',\n",
       " 'maintaining',\n",
       " 'a',\n",
       " 'currency',\n",
       " 'peg',\n",
       " '.',\n",
       " 'It',\n",
       " 'has',\n",
       " 'also',\n",
       " 'created',\n",
       " 'a',\n",
       " 'trend',\n",
       " 'towards',\n",
       " 'greater',\n",
       " 'trade',\n",
       " 'imbalances',\n",
       " ',',\n",
       " 'which',\n",
       " 'no',\n",
       " 'longer',\n",
       " 'constrain',\n",
       " 'policymakers—the',\n",
       " 'currency',\n",
       " 'is',\n",
       " 'often',\n",
       " 'allowed',\n",
       " 'to',\n",
       " 'take',\n",
       " 'the',\n",
       " 'strain',\n",
       " '.',\n",
       " 'Similarly',\n",
       " ',',\n",
       " 'government',\n",
       " 'debt',\n",
       " 'has',\n",
       " 'risen',\n",
       " 'steadily',\n",
       " 'as',\n",
       " 'a',\n",
       " 'proportion',\n",
       " 'of',\n",
       " 'GDP',\n",
       " 'since',\n",
       " 'the',\n",
       " 'mid-1970s',\n",
       " '.',\n",
       " 'There',\n",
       " 'has',\n",
       " 'been',\n",
       " 'little',\n",
       " 'pressure',\n",
       " 'from',\n",
       " 'the',\n",
       " 'markets',\n",
       " 'to',\n",
       " 'balance',\n",
       " 'the',\n",
       " 'budget',\n",
       " ';',\n",
       " 'Japan',\n",
       " 'has',\n",
       " 'had',\n",
       " 'a',\n",
       " 'deficit',\n",
       " 'every',\n",
       " 'year',\n",
       " 'since',\n",
       " '1966',\n",
       " ',',\n",
       " 'and',\n",
       " 'France',\n",
       " 'since',\n",
       " '1993',\n",
       " '.',\n",
       " 'Italy',\n",
       " 'has',\n",
       " 'managed',\n",
       " 'just',\n",
       " 'one',\n",
       " 'year',\n",
       " 'of',\n",
       " 'surplus',\n",
       " 'since',\n",
       " '1950',\n",
       " '.',\n",
       " 'In',\n",
       " 'the',\n",
       " 'developed',\n",
       " 'world',\n",
       " ',',\n",
       " 'consumers',\n",
       " 'and',\n",
       " 'companies',\n",
       " 'have',\n",
       " 'also',\n",
       " 'taken',\n",
       " 'on',\n",
       " 'more',\n",
       " 'debt',\n",
       " '.',\n",
       " 'The',\n",
       " 'result',\n",
       " 'has',\n",
       " 'been',\n",
       " 'a',\n",
       " 'cycle',\n",
       " 'of',\n",
       " 'credit',\n",
       " 'expansion',\n",
       " 'and',\n",
       " 'collapse.China',\n",
       " 'has',\n",
       " 'warned',\n",
       " 'that',\n",
       " 'it',\n",
       " 'does',\n",
       " 'not',\n",
       " 'want',\n",
       " 'a',\n",
       " 'trade',\n",
       " 'war',\n",
       " 'with',\n",
       " 'the',\n",
       " 'US',\n",
       " ',',\n",
       " 'but',\n",
       " 'will',\n",
       " 'not',\n",
       " 'sit',\n",
       " 'idly',\n",
       " 'by',\n",
       " 'if',\n",
       " 'its',\n",
       " 'economy',\n",
       " 'is',\n",
       " 'hurt',\n",
       " '.',\n",
       " 'Zhang',\n",
       " 'Yesui',\n",
       " ',',\n",
       " 'spokesperson',\n",
       " 'for',\n",
       " 'China’s',\n",
       " 'National',\n",
       " 'People’s',\n",
       " 'Congress',\n",
       " ',',\n",
       " 'made',\n",
       " 'the',\n",
       " 'comments',\n",
       " 'amid',\n",
       " 'controversy',\n",
       " 'over',\n",
       " 'Donald',\n",
       " 'Trump’s',\n",
       " 'announcement',\n",
       " 'of',\n",
       " 'tariffs',\n",
       " 'on',\n",
       " 'steel',\n",
       " 'and',\n",
       " 'aluminium',\n",
       " 'imports',\n",
       " '.',\n",
       " 'The',\n",
       " 'US',\n",
       " 'president',\n",
       " 'has',\n",
       " 'also',\n",
       " 'threatened',\n",
       " 'to',\n",
       " 'impose',\n",
       " 'a',\n",
       " 'tax',\n",
       " 'on',\n",
       " 'EU-made',\n",
       " 'cars',\n",
       " ',',\n",
       " 'and',\n",
       " 'earlier',\n",
       " 'said',\n",
       " '``',\n",
       " 'trade',\n",
       " 'wars',\n",
       " 'are',\n",
       " 'good',\n",
       " \"''\",\n",
       " '.',\n",
       " 'US',\n",
       " 'trading',\n",
       " 'partners',\n",
       " ',',\n",
       " 'the',\n",
       " 'IMF',\n",
       " 'and',\n",
       " 'the',\n",
       " 'WTO',\n",
       " 'have',\n",
       " 'strongly',\n",
       " 'criticised',\n",
       " 'his',\n",
       " 'moves',\n",
       " '.',\n",
       " 'Mr',\n",
       " 'Trump',\n",
       " 'has',\n",
       " 'decried',\n",
       " 'the',\n",
       " '``',\n",
       " '$',\n",
       " '800',\n",
       " 'Billion',\n",
       " 'Dollar',\n",
       " 'Yearly',\n",
       " 'Trade',\n",
       " 'Deficit',\n",
       " 'because',\n",
       " 'of',\n",
       " 'our',\n",
       " '’very',\n",
       " 'stupid’',\n",
       " 'trade',\n",
       " 'deals',\n",
       " 'and',\n",
       " 'policies',\n",
       " \"''\",\n",
       " ',',\n",
       " 'and',\n",
       " 'vowed',\n",
       " 'to',\n",
       " 'end',\n",
       " 'it',\n",
       " '.',\n",
       " 'On',\n",
       " 'Thursday',\n",
       " ',',\n",
       " 'he',\n",
       " 'said',\n",
       " 'steel',\n",
       " 'imports',\n",
       " 'would',\n",
       " 'face',\n",
       " 'a',\n",
       " '25',\n",
       " '%',\n",
       " 'tariff',\n",
       " 'and',\n",
       " 'aluminium',\n",
       " '10',\n",
       " '%',\n",
       " '.',\n",
       " 'Then',\n",
       " 'came',\n",
       " 'Saturday’s',\n",
       " 'threat',\n",
       " 'on',\n",
       " 'EU-made',\n",
       " 'cars',\n",
       " '.',\n",
       " 'In',\n",
       " 'January',\n",
       " ',',\n",
       " 'he',\n",
       " 'had',\n",
       " 'already',\n",
       " 'announced',\n",
       " 'tariffs',\n",
       " 'on',\n",
       " 'solar',\n",
       " 'panels',\n",
       " 'and',\n",
       " 'washing',\n",
       " 'machines',\n",
       " '.',\n",
       " 'China’s',\n",
       " 'Zhang',\n",
       " 'Yesui',\n",
       " 'said',\n",
       " 'it',\n",
       " 'was',\n",
       " 'natural',\n",
       " 'that',\n",
       " '``',\n",
       " 'some',\n",
       " 'friction',\n",
       " 'will',\n",
       " 'exist',\n",
       " \"''\",\n",
       " 'between',\n",
       " 'the',\n",
       " 'US',\n",
       " 'and',\n",
       " 'China',\n",
       " ',',\n",
       " 'given',\n",
       " 'the',\n",
       " 'volume',\n",
       " 'of',\n",
       " 'trade',\n",
       " 'between',\n",
       " 'them',\n",
       " 'surpassed',\n",
       " '580bn',\n",
       " 'last',\n",
       " 'year',\n",
       " '.',\n",
       " 'But',\n",
       " 'he',\n",
       " 'said',\n",
       " 'China',\n",
       " 'would',\n",
       " 'take',\n",
       " '``',\n",
       " 'necessary',\n",
       " 'measures',\n",
       " \"''\",\n",
       " 'if',\n",
       " 'its',\n",
       " 'interests',\n",
       " 'were',\n",
       " 'hurt.The',\n",
       " 'US',\n",
       " 'economic',\n",
       " 'expansion',\n",
       " 'is',\n",
       " 'set',\n",
       " 'to',\n",
       " 'gain',\n",
       " 'momentum',\n",
       " ',',\n",
       " 'hardening',\n",
       " 'the',\n",
       " 'arguments',\n",
       " 'for',\n",
       " 'increases',\n",
       " 'in',\n",
       " 'short-term',\n",
       " 'interest',\n",
       " 'rates',\n",
       " ',',\n",
       " 'Federal',\n",
       " 'Reserve',\n",
       " 'policymakers',\n",
       " 'said',\n",
       " 'at',\n",
       " 'their',\n",
       " 'latest',\n",
       " 'meeting',\n",
       " '.',\n",
       " 'A',\n",
       " 'number',\n",
       " 'of',\n",
       " 'participants',\n",
       " 'in',\n",
       " 'the',\n",
       " 'US',\n",
       " 'central',\n",
       " 'bank’s',\n",
       " 'January',\n",
       " '30-31',\n",
       " 'meeting',\n",
       " 'said',\n",
       " 'they',\n",
       " 'had',\n",
       " 'marked',\n",
       " 'up',\n",
       " 'their',\n",
       " 'growth',\n",
       " 'forecasts',\n",
       " 'since',\n",
       " 'the',\n",
       " 'previous',\n",
       " 'month',\n",
       " ',',\n",
       " 'encouraged',\n",
       " 'by',\n",
       " 'firm',\n",
       " 'global',\n",
       " 'growth',\n",
       " ',',\n",
       " 'supportive',\n",
       " 'financial',\n",
       " 'markets',\n",
       " 'and',\n",
       " 'the',\n",
       " 'potential',\n",
       " 'for',\n",
       " 'US',\n",
       " 'tax',\n",
       " 'cuts',\n",
       " 'to',\n",
       " 'boost',\n",
       " 'the',\n",
       " 'economy',\n",
       " 'more',\n",
       " 'than',\n",
       " 'expected',\n",
       " '.',\n",
       " 'Others',\n",
       " 'said',\n",
       " 'the',\n",
       " '“upside',\n",
       " 'risks”',\n",
       " 'to',\n",
       " 'growth',\n",
       " 'may',\n",
       " 'have',\n",
       " 'increased',\n",
       " ',',\n",
       " 'according',\n",
       " 'to',\n",
       " 'minutes',\n",
       " 'of',\n",
       " 'the',\n",
       " 'gathering',\n",
       " '.',\n",
       " '“A',\n",
       " 'majority',\n",
       " 'of',\n",
       " 'participants',\n",
       " 'noted',\n",
       " 'that',\n",
       " 'a',\n",
       " 'stronger',\n",
       " 'outlook',\n",
       " 'for',\n",
       " 'economic',\n",
       " 'growth',\n",
       " 'raised',\n",
       " 'the',\n",
       " 'likelihood',\n",
       " 'that',\n",
       " 'further',\n",
       " 'gradual',\n",
       " 'policy',\n",
       " 'firming',\n",
       " 'would',\n",
       " 'be',\n",
       " 'appropriate',\n",
       " ',',\n",
       " '”',\n",
       " 'according',\n",
       " 'to',\n",
       " 'the',\n",
       " 'record',\n",
       " 'released',\n",
       " 'on',\n",
       " 'Wednesday',\n",
       " '.',\n",
       " 'The',\n",
       " 'Fed’s',\n",
       " 'rate-setters',\n",
       " 'reflected',\n",
       " 'the',\n",
       " 'increased',\n",
       " 'arguments',\n",
       " 'for',\n",
       " 'rate',\n",
       " 'rises',\n",
       " 'by',\n",
       " 'changing',\n",
       " 'the',\n",
       " 'language',\n",
       " 'in',\n",
       " 'their',\n",
       " 'post-meeting',\n",
       " 'statement',\n",
       " 'to',\n",
       " 'point',\n",
       " 'to',\n",
       " '“further”',\n",
       " 'rate',\n",
       " 'rises',\n",
       " '.',\n",
       " 'The',\n",
       " 'Fed’s',\n",
       " 'most',\n",
       " 'recent',\n",
       " 'policy',\n",
       " 'meeting',\n",
       " 'was',\n",
       " 'held',\n",
       " 'shortly',\n",
       " 'before',\n",
       " 'the',\n",
       " 'departure',\n",
       " 'of',\n",
       " 'Janet',\n",
       " 'Yellen',\n",
       " 'as',\n",
       " 'chair',\n",
       " 'and',\n",
       " 'the',\n",
       " 'outbreak',\n",
       " 'of',\n",
       " 'market',\n",
       " 'volatility',\n",
       " 'that',\n",
       " 'greeted',\n",
       " 'Jay',\n",
       " 'Powell',\n",
       " ',',\n",
       " 'her',\n",
       " 'successor',\n",
       " ',',\n",
       " 'during',\n",
       " 'his',\n",
       " 'first',\n",
       " 'days',\n",
       " 'on',\n",
       " 'the',\n",
       " 'job',\n",
       " '.',\n",
       " 'Policymakers',\n",
       " 'including',\n",
       " 'Bill',\n",
       " 'Dudley',\n",
       " ',',\n",
       " 'the',\n",
       " 'New',\n",
       " 'York',\n",
       " 'Fed',\n",
       " 'president',\n",
       " ',',\n",
       " 'have',\n",
       " 'stressed',\n",
       " 'that',\n",
       " 'the',\n",
       " 'gyrations',\n",
       " 'in',\n",
       " 'the',\n",
       " 'equity',\n",
       " 'market',\n",
       " 'were',\n",
       " 'unlikely',\n",
       " 'to',\n",
       " 'shake',\n",
       " 'the',\n",
       " 'central',\n",
       " 'bank’s',\n",
       " 'plans',\n",
       " 'to',\n",
       " 'continue',\n",
       " 'its',\n",
       " 'gradual',\n",
       " 'programme',\n",
       " 'of',\n",
       " 'rate',\n",
       " 'rises',\n",
       " '.',\n",
       " 'While',\n",
       " 'January’s',\n",
       " 'deliberations',\n",
       " 'predated',\n",
       " 'the',\n",
       " 'worst',\n",
       " 'of',\n",
       " 'the',\n",
       " 'market',\n",
       " 'fluctuations',\n",
       " ',',\n",
       " 'the',\n",
       " 'record',\n",
       " 'suggests',\n",
       " 'that',\n",
       " 'Fed',\n",
       " 'officials',\n",
       " 'have',\n",
       " 'become',\n",
       " 'more',\n",
       " 'confident',\n",
       " 'about',\n",
       " 'the',\n",
       " 'economy',\n",
       " 'since',\n",
       " 'their',\n",
       " 'December',\n",
       " 'meeting',\n",
       " ',',\n",
       " 'when',\n",
       " 'they',\n",
       " 'last',\n",
       " 'raised',\n",
       " 'interest',\n",
       " 'rates',\n",
       " '.',\n",
       " 'The',\n",
       " 'Federal',\n",
       " 'Open',\n",
       " 'Market',\n",
       " 'Committee',\n",
       " 'left',\n",
       " 'its',\n",
       " 'target',\n",
       " 'range',\n",
       " 'for',\n",
       " 'the',\n",
       " 'federal',\n",
       " 'funds',\n",
       " 'rate',\n",
       " 'on',\n",
       " 'hold',\n",
       " 'at',\n",
       " '1.25',\n",
       " 'to',\n",
       " '1.5',\n",
       " 'per',\n",
       " 'cent',\n",
       " 'at',\n",
       " 'the',\n",
       " 'January',\n",
       " 'meeting',\n",
       " ',',\n",
       " 'while',\n",
       " 'laying',\n",
       " 'the',\n",
       " 'ground',\n",
       " 'for',\n",
       " 'another',\n",
       " 'move',\n",
       " 'at',\n",
       " 'the',\n",
       " 'March',\n",
       " '20-21',\n",
       " 'meeting',\n",
       " '.',\n",
       " 'A',\n",
       " 'key',\n",
       " 'question',\n",
       " 'in',\n",
       " 'markets',\n",
       " 'now',\n",
       " 'is',\n",
       " 'whether',\n",
       " 'the',\n",
       " 'Fed',\n",
       " 'could',\n",
       " 'opt',\n",
       " 'to',\n",
       " 'boost',\n",
       " 'rates',\n",
       " 'four',\n",
       " 'times',\n",
       " 'in',\n",
       " '2018',\n",
       " ',',\n",
       " 'rather',\n",
       " 'than',\n",
       " 'the',\n",
       " 'three',\n",
       " 'moves',\n",
       " 'currently',\n",
       " 'forecast',\n",
       " '.',\n",
       " 'The',\n",
       " 'immediate',\n",
       " 'market',\n",
       " 'response',\n",
       " 'to',\n",
       " 'the',\n",
       " 'minutes',\n",
       " 'suggested',\n",
       " 'they',\n",
       " 'did',\n",
       " 'not',\n",
       " 'significantly',\n",
       " 'advance',\n",
       " 'that',\n",
       " 'debate',\n",
       " ':',\n",
       " 'the',\n",
       " 'yield',\n",
       " 'on',\n",
       " 'the',\n",
       " '10-year',\n",
       " 'Treasury',\n",
       " 'declined',\n",
       " 'modestly',\n",
       " 'and',\n",
       " 'the',\n",
       " 'dollar',\n",
       " 'softened',\n",
       " 'a',\n",
       " 'little',\n",
       " ',',\n",
       " 'but',\n",
       " 'both',\n",
       " 'moves',\n",
       " 'were',\n",
       " 'muted',\n",
       " '.',\n",
       " 'Fed',\n",
       " 'funds',\n",
       " 'futures',\n",
       " 'were',\n",
       " 'little',\n",
       " 'changed.The',\n",
       " 'next',\n",
       " 'financial',\n",
       " 'crisis',\n",
       " 'may',\n",
       " 'be',\n",
       " 'triggered',\n",
       " 'by',\n",
       " 'central',\n",
       " 'banks',\n",
       " '.',\n",
       " 'As',\n",
       " 'with',\n",
       " 'London',\n",
       " 'buses',\n",
       " ',',\n",
       " 'don’t',\n",
       " 'worry',\n",
       " ...]"
      ]
     },
     "execution_count": 49,
     "metadata": {},
     "output_type": "execute_result"
    }
   ],
   "source": [
    "words = word_tokenize(files.raw(fileids = files.fileids()))\n",
    "words"
   ]
  },
  {
   "cell_type": "code",
   "execution_count": 51,
   "metadata": {
    "collapsed": true
   },
   "outputs": [],
   "source": [
    "cps1 = Text(words)\n",
    "fqdist1=FreqDist(cps1)"
   ]
  },
  {
   "cell_type": "code",
   "execution_count": 52,
   "metadata": {
    "collapsed": false
   },
   "outputs": [
    {
     "data": {
      "text/plain": [
       "[('the', 109),\n",
       " ('.', 72),\n",
       " (',', 71),\n",
       " ('a', 52),\n",
       " ('of', 50),\n",
       " ('to', 45),\n",
       " ('in', 41),\n",
       " ('and', 29),\n",
       " ('The', 20),\n",
       " ('on', 20)]"
      ]
     },
     "execution_count": 52,
     "metadata": {},
     "output_type": "execute_result"
    }
   ],
   "source": [
    "fqdist1.most_common(10)"
   ]
  },
  {
   "cell_type": "code",
   "execution_count": 53,
   "metadata": {
    "collapsed": false
   },
   "outputs": [
    {
     "name": "stdout",
     "output_type": "stream",
     "text": [
      "the \t 109\n",
      ". \t 72\n",
      ", \t 71\n",
      "a \t 52\n",
      "of \t 50\n",
      "to \t 45\n",
      "in \t 41\n",
      "and \t 29\n",
      "The \t 20\n",
      "on \t 20\n"
     ]
    }
   ],
   "source": [
    "for tpl in fqdist1.most_common(10):print(tpl[0],'\\t',tpl[1])"
   ]
  },
  {
   "cell_type": "code",
   "execution_count": 55,
   "metadata": {
    "collapsed": false
   },
   "outputs": [
    {
     "data": {
      "image/png": "[encoded data removed]",
      "text/plain": [
       "<matplotlib.figure.Figure at 0x2cd41849828>"
      ]
     },
     "metadata": {},
     "output_type": "display_data"
    }
   ],
   "source": [
    "import matplotlib \n",
    "fqdist1.plot(50, cumulative=True)"
   ]
  },
  {
   "cell_type": "code",
   "execution_count": 56,
   "metadata": {
    "collapsed": false
   },
   "outputs": [
    {
     "data": {
      "text/plain": [
       "'cook'"
      ]
     },
     "execution_count": 56,
     "metadata": {},
     "output_type": "execute_result"
    }
   ],
   "source": [
    "#词干提取\n",
    "from nltk.stem import PorterStemmer\n",
    "stemmer = PorterStemmer() \n",
    "stemmer.stem('cooking')"
   ]
  },
  {
   "cell_type": "code",
   "execution_count": 58,
   "metadata": {
    "collapsed": false
   },
   "outputs": [
    {
     "data": {
      "text/plain": [
       "'cookeri'"
      ]
     },
     "execution_count": 58,
     "metadata": {},
     "output_type": "execute_result"
    }
   ],
   "source": [
    "stemmer.stem('cookery') "
   ]
  },
  {
   "cell_type": "code",
   "execution_count": 67,
   "metadata": {
    "collapsed": false
   },
   "outputs": [
    {
     "data": {
      "text/plain": [
       "['cook', 'had', 'have', 'saw', 'see', 'show']"
      ]
     },
     "execution_count": 67,
     "metadata": {},
     "output_type": "execute_result"
    }
   ],
   "source": [
    "import nltk \n",
    "stemmer = nltk.PorterStemmer() \n",
    "verbs = ['show', 'showing', 'cook', 'see', 'saw','have','having','had'] \n",
    "stems = [] \n",
    "for verb in verbs: \n",
    "    stemmed_verb = stemmer.stem(verb)\n",
    "    stems.append(stemmed_verb)\n",
    "\n",
    "\n",
    "sorted(set(stems)) "
   ]
  },
  {
   "cell_type": "code",
   "execution_count": null,
   "metadata": {
    "collapsed": true
   },
   "outputs": [],
   "source": []
  }
 ],
 "metadata": {
  "kernelspec": {
   "display_name": "Python 3",
   "language": "python",
   "name": "python3"
  },
  "language_info": {
   "codemirror_mode": {
    "name": "ipython",
    "version": 3
   },
   "file_extension": ".py",
   "mimetype": "text/x-python",
   "name": "python",
   "nbconvert_exporter": "python",
   "pygments_lexer": "ipython3",
   "version": "3.6.0"
  }
 },
 "nbformat": 4,
 "nbformat_minor": 2
}
